{
 "cells": [
  {
   "cell_type": "markdown",
   "metadata": {},
   "source": [
    "# BigARTM new Python API."
   ]
  },
  {
   "cell_type": "markdown",
   "metadata": {},
   "source": [
    "## Example #1"
   ]
  },
  {
   "cell_type": "markdown",
   "metadata": {},
   "source": [
    "This paper provides simple example of usage of new Python API. We will learn a model on the small dataset 'kos'.\n",
    "Let's make necessary imports at first (notice that you should have BigARTM Python API installed in your environment):"
   ]
  },
  {
   "cell_type": "code",
   "execution_count": 1,
   "metadata": {
    "collapsed": false
   },
   "outputs": [],
   "source": [
    "%matplotlib inline\n",
    "import glob\n",
    "import matplotlib.pyplot as plt\n",
    "\n",
    "import artm"
   ]
  },
  {
   "cell_type": "markdown",
   "metadata": {
    "collapsed": false
   },
   "source": [
    "The first step is to create a topic model. New API allows us to do it as a single line:"
   ]
  },
  {
   "cell_type": "code",
   "execution_count": 2,
   "metadata": {
    "collapsed": false
   },
   "outputs": [],
   "source": [
    "model = artm.ArtmModel(num_topics=15)"
   ]
  },
  {
   "cell_type": "markdown",
   "metadata": {},
   "source": [
    "ArtmModel is an object, that contains all information about current state of the topic model. All our next actions will be held over it. First of all we need to parse the collection from 'docword' and 'vocab' files in UCI format, if it is necessary:"
   ]
  },
  {
   "cell_type": "code",
   "execution_count": 3,
   "metadata": {
    "collapsed": false
   },
   "outputs": [],
   "source": [
    "if len(glob.glob('kos' + \"/*.batch\")) < 1:\n",
    "    artm.parse(data_path='', data_format='bow_uci', collection_name='kos')"
   ]
  },
  {
   "cell_type": "markdown",
   "metadata": {},
   "source": [
    "Next step is to initilize model with collection dictionary. It means, that \n",
    "- Phi matrix 'pwt' will be created in appliance with number of tokens in dictionary and topics count in model\n",
    "- This matrix will be filled with random numbers in (0, 1) and normalized\n",
    "\n",
    "Note that this step is optional, because the model can be auto-initialized during fit_offline() / fit_online() call."
   ]
  },
  {
   "cell_type": "code",
   "execution_count": 4,
   "metadata": {
    "collapsed": true
   },
   "outputs": [],
   "source": [
    "model.load_dictionary(dictionary_name='dictionary', dictionary_path='kos/dictionary')\n",
    "model.initialize(dictionary_name='dictionary')"
   ]
  },
  {
   "cell_type": "markdown",
   "metadata": {},
   "source": [
    "ArtmModel provides all model scores, that exists in BigARTM. If you have applied the score to the model, the model will save it's values on every update of Phi matrix.\n",
    "In order to control the quality of the model we will add come scores to it:"
   ]
  },
  {
   "cell_type": "code",
   "execution_count": 5,
   "metadata": {
    "collapsed": true
   },
   "outputs": [],
   "source": [
    "model.scores.add(artm.SparsityPhiScore(name='SparsityPhiScore'))\n",
    "model.scores.add(artm.SparsityThetaScore(name='SparsityThetaScore'))\n",
    "model.scores.add(artm.PerplexityScore(name='PerplexityScore'))"
   ]
  },
  {
   "cell_type": "markdown",
   "metadata": {},
   "source": [
    "Also it is usefull to add basic regularizers to improve sparsity and variance of the topics (we will set some initial tau coeffitients for the regularizers, they can be changed in future)"
   ]
  },
  {
   "cell_type": "code",
   "execution_count": 6,
   "metadata": {
    "collapsed": false
   },
   "outputs": [],
   "source": [
    "model.regularizers.add(artm.SmoothSparsePhiRegularizer(name='SparsePhi', tau=-0.1))\n",
    "model.regularizers.add(artm.SmoothSparseThetaRegularizer(name='SparseTheta', tau=-2.0))\n",
    "model.regularizers.add(artm.DecorrelatorPhiRegularizer(name='DecorrelatorPhi', tau=100000.0))"
   ]
  },
  {
   "cell_type": "markdown",
   "metadata": {},
   "source": [
    "Now let's try to learn the model in the offline mode (e.g. with one Phi update during one scan of the whole collection). We will invoke 5 scans:"
   ]
  },
  {
   "cell_type": "code",
   "execution_count": 7,
   "metadata": {
    "collapsed": false
   },
   "outputs": [],
   "source": [
    "model.fit_offline(data_path='kos', num_collection_passes=5)"
   ]
  },
  {
   "cell_type": "markdown",
   "metadata": {},
   "source": [
    "Let's check the result of the first iteration of learning:"
   ]
  },
  {
   "cell_type": "code",
   "execution_count": 8,
   "metadata": {
    "collapsed": false
   },
   "outputs": [
    {
     "name": "stdout",
     "output_type": "stream",
     "text": [
      "Sparsity Phi:0.425060334009\n",
      "Sparsity Theta:0.699183673469\n"
     ]
    }
   ],
   "source": [
    "print 'Sparsity Phi:' + str(model.scores_info['SparsityPhiScore'].last_value)\n",
    "print 'Sparsity Theta:' + str(model.scores_info['SparsityThetaScore'].last_value)"
   ]
  },
  {
   "cell_type": "markdown",
   "metadata": {},
   "source": [
    "We can see, that sparsity levels of both Phi and Theta are too low. Let's increase (in modulus) the coefficients of regularization for sparsity regularizers:"
   ]
  },
  {
   "cell_type": "code",
   "execution_count": 9,
   "metadata": {
    "collapsed": true
   },
   "outputs": [],
   "source": [
    "model.regularizers['SparsePhi'].tau = -0.4\n",
    "model.regularizers['SparseTheta'].tau = -3.0"
   ]
  },
  {
   "cell_type": "markdown",
   "metadata": {},
   "source": [
    "Also it will be useful to add new score 'TopTokensScore'. It will allow us to see the most probable tokens in each topic"
   ]
  },
  {
   "cell_type": "code",
   "execution_count": 10,
   "metadata": {
    "collapsed": true
   },
   "outputs": [],
   "source": [
    "model.scores.add(artm.TopTokensScore(name='TopTokensScore', num_tokens=5))"
   ]
  },
  {
   "cell_type": "markdown",
   "metadata": {},
   "source": [
    "Next we will continue the learning of our model, 15 scans of the collection will be invoked now"
   ]
  },
  {
   "cell_type": "code",
   "execution_count": 11,
   "metadata": {
    "collapsed": false
   },
   "outputs": [],
   "source": [
    "model.fit_offline(data_path='kos', num_collection_passes=15)"
   ]
  },
  {
   "cell_type": "code",
   "execution_count": 12,
   "metadata": {
    "collapsed": false
   },
   "outputs": [
    {
     "name": "stdout",
     "output_type": "stream",
     "text": [
      "Sparsity Phi:0.638024905879\n",
      "Sparsity Theta:0.793756073858\n"
     ]
    }
   ],
   "source": [
    "print 'Sparsity Phi:' + str(model.scores_info['SparsityPhiScore'].last_value)\n",
    "print 'Sparsity Theta:' + str(model.scores_info['SparsityThetaScore'].last_value)"
   ]
  },
  {
   "cell_type": "markdown",
   "metadata": {},
   "source": [
    "The sparsity is still unsatisfactory. Let's try new tau coefficients and continue model learning:"
   ]
  },
  {
   "cell_type": "code",
   "execution_count": 13,
   "metadata": {
    "collapsed": false
   },
   "outputs": [],
   "source": [
    "model.regularizers['SparsePhi'].tau = -1.5\n",
    "model.regularizers['SparseTheta'].tau = -5.0\n",
    "model.fit_offline(data_path='kos', num_collection_passes=15)"
   ]
  },
  {
   "cell_type": "markdown",
   "metadata": {},
   "source": [
    "Let's plot perplexity and sparsity of the model to check it's quality:"
   ]
  },
  {
   "cell_type": "code",
   "execution_count": 14,
   "metadata": {
    "collapsed": false
   },
   "outputs": [
    {
     "data": {
      "image/png": "[encoded data removed]",
      "text/plain": [
       "<matplotlib.figure.Figure at 0x907c470>"
      ]
     },
     "metadata": {},
     "output_type": "display_data"
    }
   ],
   "source": [
    "plt.plot(xrange(model.num_phi_updates), model.scores_info['PerplexityScore'].value, 'r--', linewidth=2)\n",
    "plt.xlabel('Iterations count')\n",
    "plt.ylabel('Perplexity')\n",
    "plt.grid(True)\n",
    "plt.show()"
   ]
  },
  {
   "cell_type": "code",
   "execution_count": 15,
   "metadata": {
    "collapsed": false
   },
   "outputs": [
    {
     "data": {
      "image/png": "[encoded data removed]",
      "text/plain": [
       "<matplotlib.figure.Figure at 0x907c430>"
      ]
     },
     "metadata": {},
     "output_type": "display_data"
    }
   ],
   "source": [
    "plt.plot(xrange(model.num_phi_updates), model.scores_info['SparsityPhiScore'].value, 'b--',\n",
    "         xrange(model.num_phi_updates), model.scores_info['SparsityThetaScore'].value, 'r--', linewidth=2)\n",
    "plt.xlabel('Iterations count')\n",
    "plt.ylabel('Phi sparsity, Theta sparsity')\n",
    "plt.grid(True)\n",
    "plt.show()"
   ]
  },
  {
   "cell_type": "markdown",
   "metadata": {},
   "source": [
    "For such small collection the sparsity is enough. Next step is to visualize the top tokens:"
   ]
  },
  {
   "cell_type": "code",
   "execution_count": 16,
   "metadata": {
    "collapsed": false
   },
   "outputs": [
    {
     "name": "stdout",
     "output_type": "stream",
     "text": [
      "@topic_0:  [u'bloggers', u'book', u'convention', u'blogs', u'boat']\n",
      "@topic_1:  [u'dean', u'clark', u'edwards', u'primary', u'lieberman']\n",
      "@topic_2:  [u'republican', u'republicans', u'party', u'vote', u'democrats']\n",
      "@topic_3:  [u'bush', u'administration', u'president', u'cheney', u'house']\n",
      "@topic_4:  [u'delay', u'house', u'media', u'committee', u'texas']\n",
      "@topic_5:  [u'democrats', u'states', u'million', u'state', u'democratic']\n",
      "@topic_6:  [u'iraq', u'war', u'bush', u'iraqi', u'bushs']\n",
      "@topic_7:  [u'military', u'soldiers', u'abu', u'pentagon', u'iraqi']\n",
      "@topic_8:  [u'carson', u'coburn', u'oklahoma', u'media', u'speech']\n",
      "@topic_9:  [u'party', u'nader', u'dean', u'unions', u'ballot']\n",
      "@topic_10:  [u'kerry', u'bush', u'poll', u'percent', u'voters']\n",
      "@topic_11:  [u'senate', u'race', u'elections', u'campaign', u'house']\n",
      "@topic_12:  [u'november', u'account', u'electoral', u'governor', u'house']\n",
      "@topic_13:  [u'bush', u'administration', u'tax', u'jobs', u'health']\n",
      "@topic_14:  [u'oil', u'space', u'blades', u'meteor', u'rights']\n"
     ]
    }
   ],
   "source": [
    "for topic_name in model.topic_names:\n",
    "    print topic_name + ': ',\n",
    "    print model.scores_info['TopTokensScore'].last_topic_info[topic_name].tokens"
   ]
  },
  {
   "cell_type": "markdown",
   "metadata": {},
   "source": [
    "Let's extract Phi matrix as pandas.DataFrame:"
   ]
  },
  {
   "cell_type": "code",
   "execution_count": 17,
   "metadata": {
    "collapsed": true
   },
   "outputs": [],
   "source": [
    "phi_matrix = model.get_phi()"
   ]
  },
  {
   "cell_type": "markdown",
   "metadata": {},
   "source": [
    "Now we'll print it:"
   ]
  },
  {
   "cell_type": "code",
   "execution_count": 18,
   "metadata": {
    "collapsed": false
   },
   "outputs": [
    {
     "name": "stdout",
     "output_type": "stream",
     "text": [
      "            @topic_0  @topic_1  @topic_2  @topic_3  @topic_4  @topic_5  \\\n",
      "aarp        0.000000  0.000000  0.000000  0.000000  0.000570  0.000000   \n",
      "abandon     0.000000  0.000000  0.000211  0.000000  0.000000  0.000000   \n",
      "abandoned   0.000000  0.000000  0.000169  0.000000  0.000000  0.000000   \n",
      "abandoning  0.000000  0.000000  0.000000  0.000000  0.000000  0.000246   \n",
      "abb         0.000000  0.000000  0.000342  0.000000  0.000000  0.000000   \n",
      "abc         0.000000  0.000000  0.000000  0.001528  0.000000  0.000000   \n",
      "abcs        0.000000  0.000000  0.000000  0.000240  0.000000  0.000000   \n",
      "abdullah    0.000000  0.000000  0.000000  0.000023  0.000000  0.000000   \n",
      "ability     0.000000  0.000000  0.000000  0.000000  0.000163  0.000411   \n",
      "aboard      0.000000  0.000000  0.000000  0.000000  0.000000  0.000000   \n",
      "abortion    0.000000  0.000000  0.002297  0.000000  0.000000  0.000000   \n",
      "abortions   0.000000  0.000000  0.000000  0.000000  0.000000  0.000000   \n",
      "abraham     0.000000  0.000000  0.000000  0.000000  0.000000  0.000000   \n",
      "abrams      0.000000  0.000000  0.000000  0.000167  0.000000  0.000000   \n",
      "abroad      0.000000  0.000000  0.000000  0.000000  0.000000  0.000256   \n",
      "absence     0.000000  0.000000  0.000185  0.000000  0.000103  0.000102   \n",
      "absent      0.000000  0.000000  0.000000  0.000000  0.000238  0.000093   \n",
      "absentee    0.000000  0.000000  0.000000  0.000000  0.000000  0.000568   \n",
      "absolute    0.000000  0.000000  0.000156  0.000000  0.000000  0.000019   \n",
      "absolutely  0.000000  0.000000  0.000183  0.000117  0.000000  0.000000   \n",
      "abstain     0.000000  0.000000  0.000000  0.000000  0.000000  0.000000   \n",
      "absurd      0.000000  0.000000  0.000000  0.000000  0.000033  0.000000   \n",
      "abu         0.000000  0.000000  0.000000  0.000122  0.000000  0.000000   \n",
      "abuse       0.000000  0.000000  0.000516  0.000000  0.000000  0.000000   \n",
      "abuses      0.000000  0.000000  0.000000  0.000000  0.000000  0.000000   \n",
      "academy     0.000000  0.000000  0.000000  0.000000  0.000000  0.000000   \n",
      "accent      0.000000  0.000000  0.000000  0.000103  0.000000  0.000128   \n",
      "accept      0.000000  0.000000  0.000000  0.000354  0.000215  0.000336   \n",
      "acceptable  0.000000  0.000000  0.000041  0.000000  0.000000  0.000000   \n",
      "acceptance  0.000000  0.000000  0.000000  0.000022  0.000000  0.000000   \n",
      "...              ...       ...       ...       ...       ...       ...   \n",
      "yanks       0.001220  0.000000  0.000000  0.000102  0.000000  0.000000   \n",
      "yard        0.000000  0.000000  0.000000  0.000000  0.000461  0.000000   \n",
      "yeah        0.000000  0.000000  0.000359  0.000565  0.000215  0.000058   \n",
      "year        0.000000  0.000347  0.001968  0.000551  0.000443  0.003779   \n",
      "years       0.000496  0.000000  0.003959  0.000762  0.000866  0.001724   \n",
      "yell        0.000000  0.000000  0.000000  0.000000  0.000000  0.000000   \n",
      "yellin      0.000000  0.000000  0.000000  0.000000  0.000000  0.001334   \n",
      "yesterday   0.002396  0.000088  0.000586  0.001341  0.001606  0.000675   \n",
      "yesterdays  0.000000  0.000000  0.000000  0.000000  0.000126  0.000000   \n",
      "yield       0.000000  0.000000  0.000087  0.000000  0.000000  0.000000   \n",
      "york        0.011536  0.000000  0.000906  0.001980  0.000000  0.000913   \n",
      "yorker      0.000000  0.000000  0.000000  0.000000  0.000000  0.000000   \n",
      "yorkers     0.002204  0.000000  0.000000  0.000000  0.000000  0.000000   \n",
      "youd        0.000000  0.000000  0.000138  0.000226  0.000000  0.000000   \n",
      "youll       0.000000  0.000000  0.000111  0.000000  0.000207  0.000073   \n",
      "young       0.000000  0.000000  0.000741  0.000000  0.000000  0.000000   \n",
      "younger     0.000000  0.000000  0.000300  0.000000  0.000000  0.000000   \n",
      "youre       0.001711  0.000000  0.000683  0.000524  0.001161  0.000000   \n",
      "youth       0.000000  0.000000  0.000077  0.000000  0.000131  0.000000   \n",
      "youve       0.000000  0.000000  0.000162  0.000601  0.000691  0.000000   \n",
      "yucca       0.000000  0.000000  0.000283  0.000000  0.000000  0.000000   \n",
      "yup         0.000000  0.000000  0.000000  0.000000  0.000000  0.000000   \n",
      "zahn        0.000000  0.000000  0.000000  0.000000  0.000000  0.000000   \n",
      "zarqawi     0.000000  0.000000  0.000000  0.000000  0.000000  0.000000   \n",
      "zell        0.000000  0.000000  0.001555  0.000025  0.000000  0.000177   \n",
      "zimbabwe    0.000000  0.000000  0.000000  0.000000  0.000000  0.000000   \n",
      "zogby       0.000000  0.009708  0.000000  0.000000  0.000000  0.000072   \n",
      "zogbys      0.000000  0.000948  0.000000  0.000000  0.000000  0.000000   \n",
      "zone        0.000000  0.000200  0.000000  0.000000  0.000000  0.000000   \n",
      "zones       0.000000  0.000000  0.000000  0.000000  0.000000  0.000000   \n",
      "\n",
      "            @topic_6  @topic_7  @topic_8  @topic_9  @topic_10  @topic_11  \\\n",
      "aarp        0.000000  0.000000  0.000000  0.000000   0.000000   0.000000   \n",
      "abandon     0.000000  0.000000  0.000000  0.000000   0.000132   0.000000   \n",
      "abandoned   0.000000  0.000000  0.000000  0.000000   0.000053   0.000000   \n",
      "abandoning  0.000000  0.000000  0.000000  0.000000   0.000092   0.000000   \n",
      "abb         0.000000  0.000000  0.000000  0.000490   0.000000   0.000021   \n",
      "abc         0.000153  0.000000  0.000000  0.000457   0.000581   0.000000   \n",
      "abcs        0.000000  0.000000  0.000000  0.000000   0.000090   0.000000   \n",
      "abdullah    0.000110  0.000000  0.000000  0.000000   0.000000   0.000000   \n",
      "ability     0.000440  0.000000  0.000000  0.000544   0.000292   0.000628   \n",
      "aboard      0.000135  0.000000  0.000000  0.000000   0.000000   0.000000   \n",
      "abortion    0.000011  0.000000  0.001004  0.000000   0.000000   0.000601   \n",
      "abortions   0.000000  0.000000  0.000327  0.000000   0.000000   0.000000   \n",
      "abraham     0.000164  0.000000  0.000000  0.000000   0.000000   0.000000   \n",
      "abrams      0.000000  0.000576  0.000000  0.000000   0.000000   0.000000   \n",
      "abroad      0.000214  0.000000  0.000000  0.000000   0.000000   0.000000   \n",
      "absence     0.000098  0.000000  0.000000  0.000000   0.000000   0.000000   \n",
      "absent      0.000000  0.000000  0.000000  0.000000   0.000000   0.000000   \n",
      "absentee    0.000000  0.000000  0.000000  0.000000   0.000000   0.000000   \n",
      "absolute    0.000000  0.000000  0.000000  0.000000   0.000000   0.000000   \n",
      "absolutely  0.000000  0.000294  0.000269  0.000000   0.000145   0.000000   \n",
      "abstain     0.000000  0.000000  0.000000  0.000000   0.000000   0.000000   \n",
      "absurd      0.000000  0.000000  0.000100  0.000000   0.000000   0.000099   \n",
      "abu         0.000288  0.009411  0.000000  0.000000   0.000000   0.000000   \n",
      "abuse       0.000030  0.004601  0.000000  0.000000   0.000000   0.000000   \n",
      "abuses      0.000150  0.003175  0.000000  0.000000   0.000000   0.000000   \n",
      "academy     0.000086  0.000000  0.000000  0.000000   0.000024   0.000000   \n",
      "accent      0.000000  0.000000  0.000000  0.000000   0.000000   0.000000   \n",
      "accept      0.000207  0.000770  0.000000  0.000000   0.000248   0.000000   \n",
      "acceptable  0.000000  0.000462  0.000518  0.000000   0.000000   0.000000   \n",
      "acceptance  0.000086  0.000000  0.000000  0.000180   0.000162   0.000000   \n",
      "...              ...       ...       ...       ...        ...        ...   \n",
      "yanks       0.000026  0.000000  0.000000  0.000000   0.000000   0.000000   \n",
      "yard        0.000000  0.000000  0.000000  0.000000   0.000000   0.000000   \n",
      "yeah        0.000245  0.000000  0.000000  0.000000   0.000319   0.000724   \n",
      "year        0.001547  0.000869  0.000000  0.000490   0.001383   0.001262   \n",
      "years       0.001906  0.000000  0.002247  0.000228   0.001481   0.000703   \n",
      "yell        0.000000  0.000000  0.000000  0.000000   0.000110   0.000000   \n",
      "yellin      0.000129  0.000000  0.000054  0.000000   0.000000   0.000000   \n",
      "yesterday   0.000786  0.000980  0.000390  0.000000   0.000402   0.000000   \n",
      "yesterdays  0.000113  0.000000  0.000000  0.000000   0.000226   0.000000   \n",
      "yield       0.000000  0.000000  0.000000  0.000000   0.000030   0.000000   \n",
      "york        0.000069  0.000735  0.000000  0.001860   0.000542   0.000000   \n",
      "yorker      0.000000  0.000418  0.000053  0.000000   0.000000   0.000000   \n",
      "yorkers     0.000000  0.000000  0.000000  0.000000   0.000000   0.000000   \n",
      "youd        0.000000  0.000000  0.000000  0.000000   0.000000   0.000200   \n",
      "youll       0.000000  0.000401  0.000481  0.000224   0.000251   0.000000   \n",
      "young       0.000437  0.000432  0.002040  0.000000   0.000333   0.000632   \n",
      "younger     0.000000  0.000000  0.000224  0.000000   0.000194   0.000000   \n",
      "youre       0.000573  0.000000  0.002967  0.000000   0.000550   0.000620   \n",
      "youth       0.000047  0.000000  0.000000  0.000000   0.000000   0.000000   \n",
      "youve       0.000431  0.000000  0.000000  0.000113   0.000193   0.000378   \n",
      "yucca       0.000000  0.000000  0.000000  0.000000   0.000000   0.000000   \n",
      "yup         0.000000  0.000097  0.000000  0.000000   0.000051   0.000000   \n",
      "zahn        0.000043  0.000000  0.000000  0.000000   0.000000   0.000000   \n",
      "zarqawi     0.000385  0.000000  0.000000  0.000000   0.000000   0.000000   \n",
      "zell        0.000000  0.000000  0.000000  0.000000   0.000026   0.000000   \n",
      "zimbabwe    0.000000  0.000000  0.000000  0.000000   0.000000   0.000000   \n",
      "zogby       0.000000  0.000000  0.000000  0.000000   0.002090   0.000000   \n",
      "zogbys      0.000000  0.000000  0.000000  0.000000   0.000228   0.000000   \n",
      "zone        0.000435  0.000000  0.000000  0.000000   0.000117   0.000110   \n",
      "zones       0.000146  0.000000  0.000000  0.000000   0.000000   0.000000   \n",
      "\n",
      "            @topic_12  @topic_13  @topic_14  \n",
      "aarp         0.000000   0.000000   0.000000  \n",
      "abandon      0.000000   0.000000   0.000422  \n",
      "abandoned    0.000014   0.000239   0.000000  \n",
      "abandoning   0.000000   0.000000   0.000000  \n",
      "abb          0.000000   0.000000   0.000000  \n",
      "abc          0.000043   0.000000   0.000000  \n",
      "abcs         0.000000   0.000000   0.000000  \n",
      "abdullah     0.000000   0.000000   0.000000  \n",
      "ability      0.000000   0.000000   0.001347  \n",
      "aboard       0.000000   0.000000   0.000509  \n",
      "abortion     0.000000   0.000000   0.000000  \n",
      "abortions    0.000000   0.000244   0.000000  \n",
      "abraham      0.000000   0.000000   0.000203  \n",
      "abrams       0.000000   0.000000   0.000000  \n",
      "abroad       0.000000   0.000270   0.000723  \n",
      "absence      0.000000   0.000000   0.000000  \n",
      "absent       0.000048   0.000020   0.000000  \n",
      "absentee     0.000113   0.000000   0.000000  \n",
      "absolute     0.000000   0.000200   0.000462  \n",
      "absolutely   0.000000   0.000012   0.000000  \n",
      "abstain      0.001674   0.000000   0.000000  \n",
      "absurd       0.000000   0.000000   0.000000  \n",
      "abu          0.000000   0.000000   0.000259  \n",
      "abuse        0.000000   0.000000   0.000226  \n",
      "abuses       0.000000   0.000000   0.000433  \n",
      "academy      0.000000   0.000000   0.000570  \n",
      "accent       0.000000   0.000000   0.000000  \n",
      "accept       0.000000   0.000000   0.000000  \n",
      "acceptable   0.000000   0.000000   0.000037  \n",
      "acceptance   0.000000   0.000310   0.000000  \n",
      "...               ...        ...        ...  \n",
      "yanks        0.000000   0.000000   0.000000  \n",
      "yard         0.000000   0.000000   0.000000  \n",
      "yeah         0.000000   0.000171   0.000000  \n",
      "year         0.000000   0.006124   0.002804  \n",
      "years        0.000000   0.006540   0.006421  \n",
      "yell         0.000000   0.000000   0.000000  \n",
      "yellin       0.000000   0.000000   0.000000  \n",
      "yesterday    0.000000   0.000348   0.000511  \n",
      "yesterdays   0.000000   0.000000   0.000055  \n",
      "yield        0.000000   0.000163   0.000000  \n",
      "york         0.001017   0.000803   0.000082  \n",
      "yorker       0.000000   0.000000   0.000000  \n",
      "yorkers      0.000000   0.000000   0.000041  \n",
      "youd         0.000000   0.000000   0.000000  \n",
      "youll        0.000071   0.000426   0.000000  \n",
      "young        0.000000   0.000440   0.000000  \n",
      "younger      0.000000   0.000000   0.000000  \n",
      "youre        0.000131   0.000362   0.000000  \n",
      "youth        0.000000   0.000000   0.000000  \n",
      "youve        0.000010   0.000044   0.000946  \n",
      "yucca        0.000000   0.000000   0.000000  \n",
      "yup          0.000000   0.000000   0.000000  \n",
      "zahn         0.000000   0.000000   0.000000  \n",
      "zarqawi      0.000000   0.000000   0.000000  \n",
      "zell         0.000000   0.000000   0.000000  \n",
      "zimbabwe     0.000000   0.000208   0.000000  \n",
      "zogby        0.001674   0.000000   0.000659  \n",
      "zogbys       0.000000   0.000000   0.000000  \n",
      "zone         0.000000   0.000000   0.000000  \n",
      "zones        0.000000   0.000000   0.000000  \n",
      "\n",
      "[6906 rows x 15 columns]\n"
     ]
    }
   ],
   "source": [
    "print phi_matrix"
   ]
  },
  {
   "cell_type": "markdown",
   "metadata": {},
   "source": [
    "Our last step is to save the model. ArtmModel provides two opportunities: save the model in BigARTM format and in .csv. \n",
    "- in first case you won't be able to visualize the model, but it can be loaded back in library for further learning;\n",
    "- .csv format could not be loaded back, but you are able to look at the Phi matrix by your eyes.\n",
    "\n",
    "Let's use both of methods:"
   ]
  },
  {
   "cell_type": "code",
   "execution_count": 19,
   "metadata": {
    "collapsed": true
   },
   "outputs": [],
   "source": [
    "model.save(file_name='kos_artm_model')\n",
    "model.to_csv(file_name='kos_artm_model.csv')"
   ]
  },
  {
   "cell_type": "markdown",
   "metadata": {},
   "source": [
    "In addition we can get the Theta matrix of the collection:"
   ]
  },
  {
   "cell_type": "code",
   "execution_count": 20,
   "metadata": {
    "collapsed": true
   },
   "outputs": [],
   "source": [
    "theta_matrix = model.get_theta()"
   ]
  },
  {
   "cell_type": "markdown",
   "metadata": {},
   "source": [
    "ArtmModel.get_theta() returns Theta matrix as pandas.DataFrame object. Let's print it:"
   ]
  },
  {
   "cell_type": "code",
   "execution_count": 21,
   "metadata": {
    "collapsed": false
   },
   "outputs": [
    {
     "name": "stdout",
     "output_type": "stream",
     "text": [
      "               1001      1002      1003     1004      1005      1006  \\\n",
      "@topic_0   0.000000  0.000000  0.000000  0.00000  0.000000  0.000000   \n",
      "@topic_1   0.000000  0.000000  0.000000  0.00000  0.000000  0.000000   \n",
      "@topic_2   0.000000  0.178653  0.000000  0.00000  0.353747  0.000000   \n",
      "@topic_3   0.000000  0.216704  0.125452  0.00000  0.000000  0.000000   \n",
      "@topic_4   0.000000  0.000000  0.000000  0.00000  0.000000  0.000000   \n",
      "@topic_5   0.000000  0.000000  0.000000  0.00000  0.000000  0.000000   \n",
      "@topic_6   0.498047  0.000000  0.874548  0.58798  0.394652  0.391527   \n",
      "@topic_7   0.290727  0.000000  0.000000  0.41202  0.251601  0.430575   \n",
      "@topic_8   0.000000  0.000000  0.000000  0.00000  0.000000  0.000000   \n",
      "@topic_9   0.000000  0.000000  0.000000  0.00000  0.000000  0.000000   \n",
      "@topic_10  0.211225  0.000000  0.000000  0.00000  0.000000  0.000000   \n",
      "@topic_11  0.000000  0.000000  0.000000  0.00000  0.000000  0.000000   \n",
      "@topic_12  0.000000  0.509984  0.000000  0.00000  0.000000  0.000000   \n",
      "@topic_13  0.000000  0.000000  0.000000  0.00000  0.000000  0.000000   \n",
      "@topic_14  0.000000  0.094659  0.000000  0.00000  0.000000  0.177898   \n",
      "\n",
      "               1007      1008      1009      1010    ...         991   992   \\\n",
      "@topic_0   0.000000  0.000000  0.000000  0.000000    ...     0.039854     0   \n",
      "@topic_1   0.000000  0.000000  0.000000  0.000000    ...     0.000000     0   \n",
      "@topic_2   0.000000  0.000000  0.524067  0.102163    ...     0.000000     0   \n",
      "@topic_3   0.000000  0.026960  0.000000  0.000000    ...     0.047605     0   \n",
      "@topic_4   0.000000  0.000000  0.000000  0.000000    ...     0.000000     0   \n",
      "@topic_5   0.000000  0.000000  0.000000  0.020649    ...     0.000000     0   \n",
      "@topic_6   0.334165  0.454015  0.414319  0.000000    ...     0.602648     1   \n",
      "@topic_7   0.084369  0.315044  0.061615  0.000000    ...     0.000000     0   \n",
      "@topic_8   0.000000  0.000000  0.000000  0.000000    ...     0.000000     0   \n",
      "@topic_9   0.000000  0.000000  0.000000  0.000000    ...     0.000000     0   \n",
      "@topic_10  0.000000  0.000000  0.000000  0.693888    ...     0.000000     0   \n",
      "@topic_11  0.000000  0.000000  0.000000  0.000000    ...     0.000000     0   \n",
      "@topic_12  0.000000  0.000000  0.000000  0.000000    ...     0.309892     0   \n",
      "@topic_13  0.581467  0.203982  0.000000  0.183299    ...     0.000000     0   \n",
      "@topic_14  0.000000  0.000000  0.000000  0.000000    ...     0.000000     0   \n",
      "\n",
      "           993       994       995       996       997       998       999   \\\n",
      "@topic_0      0  0.000000  0.000000  0.000000  0.000000  0.000000  0.000000   \n",
      "@topic_1      0  0.000000  0.000000  0.000000  0.000000  0.000000  0.000000   \n",
      "@topic_2      0  0.000000  0.505574  0.000000  0.000000  0.000000  0.000000   \n",
      "@topic_3      0  0.387726  0.000000  0.000000  0.000000  0.000000  0.000000   \n",
      "@topic_4      0  0.000000  0.000000  0.000000  0.000000  0.000000  0.000000   \n",
      "@topic_5      0  0.000000  0.000000  0.000000  0.000000  0.000000  0.000000   \n",
      "@topic_6      0  0.258295  0.000000  0.000000  0.466805  0.673291  0.471346   \n",
      "@topic_7      1  0.353979  0.000000  0.103841  0.113853  0.119259  0.000000   \n",
      "@topic_8      0  0.000000  0.000000  0.000000  0.000000  0.000000  0.000000   \n",
      "@topic_9      0  0.000000  0.000000  0.000000  0.000000  0.000000  0.000000   \n",
      "@topic_10     0  0.000000  0.494426  0.896159  0.419342  0.000000  0.000000   \n",
      "@topic_11     0  0.000000  0.000000  0.000000  0.000000  0.000000  0.000000   \n",
      "@topic_12     0  0.000000  0.000000  0.000000  0.000000  0.000000  0.000000   \n",
      "@topic_13     0  0.000000  0.000000  0.000000  0.000000  0.058766  0.528654   \n",
      "@topic_14     0  0.000000  0.000000  0.000000  0.000000  0.148684  0.000000   \n",
      "\n",
      "               1000  \n",
      "@topic_0   0.000000  \n",
      "@topic_1   0.000000  \n",
      "@topic_2   0.000000  \n",
      "@topic_3   0.000000  \n",
      "@topic_4   0.000000  \n",
      "@topic_5   0.000000  \n",
      "@topic_6   0.974956  \n",
      "@topic_7   0.000000  \n",
      "@topic_8   0.000000  \n",
      "@topic_9   0.000000  \n",
      "@topic_10  0.000000  \n",
      "@topic_11  0.000000  \n",
      "@topic_12  0.000000  \n",
      "@topic_13  0.000000  \n",
      "@topic_14  0.025044  \n",
      "\n",
      "[15 rows x 3430 columns]\n"
     ]
    }
   ],
   "source": [
    "print theta_matrix"
   ]
  },
  {
   "cell_type": "markdown",
   "metadata": {},
   "source": [
    "## Example #2"
   ]
  },
  {
   "cell_type": "markdown",
   "metadata": {},
   "source": [
    "This is a second part of paper about basic usage of new Python API of BigARTM library. We will load back the model, saved in previous example, and proceed some new operations.\n",
    "\n",
    "The first step is to create a new topic model:"
   ]
  },
  {
   "cell_type": "code",
   "execution_count": 22,
   "metadata": {
    "collapsed": true
   },
   "outputs": [],
   "source": [
    "new_model = artm.ArtmModel(num_topics=1, num_document_passes=1)"
   ]
  },
  {
   "cell_type": "markdown",
   "metadata": {},
   "source": [
    "Second step is to add regularizers and scores. We'll restrict ourselves to one new score and two regularizers:"
   ]
  },
  {
   "cell_type": "code",
   "execution_count": 23,
   "metadata": {
    "collapsed": false
   },
   "outputs": [],
   "source": [
    "new_model.scores.add(artm.TopicKernelScore(name='TopicKernelScore'))\n",
    "new_model.regularizers.add(artm.SmoothSparsePhiRegularizer(name='SparsePhi', tau=-0.1))\n",
    "new_model.regularizers.add(artm.DecorrelatorPhiRegularizer(name='DecorrelatorPhi', tau=100000.0))"
   ]
  },
  {
   "cell_type": "markdown",
   "metadata": {},
   "source": [
    "Now we will load 'kos_artm_model' file into library"
   ]
  },
  {
   "cell_type": "code",
   "execution_count": 24,
   "metadata": {
    "collapsed": true
   },
   "outputs": [],
   "source": [
    "new_model.load('kos_artm_model')"
   ]
  },
  {
   "cell_type": "markdown",
   "metadata": {},
   "source": [
    "Note, that loaded model will overwrite several things in you ArtmModel object: number of topics and their names, Phi matrix. It also will reset all saved information about topic model scores values. \n",
    "\n",
    "Nevertheless the scores and the regularizers, applied to ArtmModel object earlier, won't change. In our case it is a 'TopicKernelScore' score and 'SparsePhi' and 'DecorrelatorPhi' regularizers.\n",
    "\n",
    "Now let's continue model learning, but in online mode. It means that\n",
    "- the number of passes through single document will increase\n",
    "- Phi matrix updates will be proceed several times during one pass of the collection\n",
    "- we need only one pass through the collection (but here we'll do 5, because the 'kos' collection is too small)."
   ]
  },
  {
   "cell_type": "code",
   "execution_count": 25,
   "metadata": {
    "collapsed": false
   },
   "outputs": [],
   "source": [
    "new_model.num_document_passes = 20\n",
    "for i in xrange(5):\n",
    "    new_model.fit_online(data_path='kos', update_every=4)"
   ]
  },
  {
   "cell_type": "markdown",
   "metadata": {},
   "source": [
    "'update_every' tells model the number of batches to be processed before next update of Phi.\n",
    "\n",
    "Let's visualize topic kernel scores (average contrast and purity):"
   ]
  },
  {
   "cell_type": "code",
   "execution_count": 26,
   "metadata": {
    "collapsed": false
   },
   "outputs": [
    {
     "data": {
      "image/png": "[encoded data removed]",
      "text/plain": [
       "<matplotlib.figure.Figure at 0x972feb0>"
      ]
     },
     "metadata": {},
     "output_type": "display_data"
    }
   ],
   "source": [
    "plt.plot(xrange(new_model.num_phi_updates), new_model.scores_info['TopicKernelScore'].average_contrast, 'g--',\n",
    "         xrange(new_model.num_phi_updates), new_model.scores_info['TopicKernelScore'].average_purity, 'r--', linewidth=2)\n",
    "plt.xlabel('Iterations count')\n",
    "plt.ylabel('Kernel scores')\n",
    "plt.grid(True)\n",
    "plt.show()"
   ]
  },
  {
   "cell_type": "markdown",
   "metadata": {},
   "source": [
    "As we see, the further study of loaded model only downgraded the quality of the model.\n",
    "\n",
    "Also we can see all information about each topic. For instance let's print topic kernel tokens for first topic:"
   ]
  },
  {
   "cell_type": "code",
   "execution_count": 27,
   "metadata": {
    "collapsed": false
   },
   "outputs": [
    {
     "name": "stdout",
     "output_type": "stream",
     "text": [
      "[u'allowed', u'award', u'baseball', u'blogads', u'bloggers', u'blogging', u'blogosphere', u'blogs', u'boat', u'book', u'boston', u'bronze', u'curious', u'dailykos', u'drudge', u'drum', u'editors', u'fans', u'franken', u'fun', u'ideological', u'journalism', u'journalists', u'kevin', u'launch', u'limbaugh', u'links', u'lying', u'magazine', u'nevada', u'nyc', u'oreilly', u'owner', u'park', u'petraeus', u'posters', u'propaganda', u'putting', u'reader', u'readers', u'review', u'rewards', u'rnc', u'road', u'rowland', u'rush', u'season', u'selection', u'series', u'sox', u'star', u'starting', u'stations', u'suddenly', u'swift', u'treatment', u'trip', u'universe', u'updates', u'whos', u'writes', u'yankees']\n"
     ]
    }
   ],
   "source": [
    "print new_model.scores_info['TopicKernelScore'].last_topic_info[new_model.topic_names[0]].tokens"
   ]
  },
  {
   "cell_type": "markdown",
   "metadata": {},
   "source": [
    "If we have the batch with documents, that didn't take part in model learning, and we want to get Theta matrix for it, we can use 'find_theta' method:"
   ]
  },
  {
   "cell_type": "code",
   "execution_count": 28,
   "metadata": {
    "collapsed": true
   },
   "outputs": [],
   "source": [
    "test_theta_matrix = model.find_theta(data_path='kos_test', batches=['test_docs.batch'])"
   ]
  },
  {
   "cell_type": "markdown",
   "metadata": {},
   "source": [
    "ArtmModel.find_theta(), as ArtmModel.get_theta(), returns Theta matrix as pandas.DataFrame object. Let's print it:"
   ]
  },
  {
   "cell_type": "code",
   "execution_count": 29,
   "metadata": {
    "collapsed": false
   },
   "outputs": [
    {
     "name": "stdout",
     "output_type": "stream",
     "text": [
      "               3001          3002          3003          3004      3005  \\\n",
      "@topic_0   0.000027  5.470055e-12  8.859376e-05  3.656498e-08  0.023011   \n",
      "@topic_1   0.000000  7.543542e-08  5.074544e-08  2.937397e-05  0.000895   \n",
      "@topic_2   0.157188  3.943438e-02  9.634783e-02  3.531535e-02  0.000529   \n",
      "@topic_3   0.026739  1.165666e-02  1.995719e-04  6.939170e-03  0.000309   \n",
      "@topic_4   0.042744  6.324421e-01  7.174061e-03  5.326916e-01  0.501930   \n",
      "@topic_5   0.116401  1.229206e-02  8.142553e-02  2.659780e-01  0.069236   \n",
      "@topic_6   0.376136  5.741600e-02  1.048824e-01  5.601943e-03  0.097926   \n",
      "@topic_7   0.163309  1.563600e-01  1.076597e-05  6.481794e-05  0.000017   \n",
      "@topic_8   0.002779  3.925607e-08  5.331730e-03  2.455484e-03  0.003307   \n",
      "@topic_9   0.000794  1.425065e-03  8.680101e-03  1.836350e-02  0.000393   \n",
      "@topic_10  0.031545  4.864063e-04  6.822531e-01  9.276314e-02  0.158381   \n",
      "@topic_11  0.010005  2.929158e-02  4.954722e-04  1.317859e-02  0.106781   \n",
      "@topic_12  0.000001  1.540389e-02  4.465908e-03  3.355340e-04  0.004254   \n",
      "@topic_13  0.055056  5.237564e-03  5.447794e-03  2.556852e-02  0.033012   \n",
      "@topic_14  0.017276  3.855418e-02  3.197123e-03  7.149926e-04  0.000019   \n",
      "\n",
      "                   3006      3007          3008          3009          3010  \\\n",
      "@topic_0   1.957883e-03  0.000003  1.880584e-02  3.284411e-08  5.062916e-11   \n",
      "@topic_1   3.125840e-09  0.000002  1.916852e-03  2.358139e-03  1.123533e-04   \n",
      "@topic_2   4.617338e-03  0.274582  1.035438e-05  5.992461e-02  7.972554e-02   \n",
      "@topic_3   4.240996e-05  0.010763  4.021739e-06  3.439124e-02  2.323689e-01   \n",
      "@topic_4   5.538424e-02  0.137051  3.462368e-03  4.187325e-02  4.170695e-01   \n",
      "@topic_5   2.462282e-05  0.015040  7.990147e-07  9.312629e-02  3.289506e-02   \n",
      "@topic_6   2.320423e-04  0.008153  6.622462e-07  2.465852e-02  4.073336e-03   \n",
      "@topic_7   3.693387e-09  0.011507  6.378742e-09  1.754512e-05  2.694910e-02   \n",
      "@topic_8   6.325097e-08  0.027514  5.784674e-02  3.420324e-03  2.061208e-03   \n",
      "@topic_9   2.270332e-06  0.000164  2.294929e-04  1.478349e-01  4.626278e-02   \n",
      "@topic_10  1.496891e-02  0.012100  6.286051e-06  7.630181e-04  4.165482e-02   \n",
      "@topic_11  1.676957e-04  0.479617  9.177161e-01  5.832067e-01  1.134698e-01   \n",
      "@topic_12  9.163995e-01  0.008182  2.467380e-14  1.429381e-05  1.918032e-05   \n",
      "@topic_13  1.890931e-05  0.000360  3.322743e-07  8.372818e-03  1.209570e-03   \n",
      "@topic_14  6.184144e-03  0.014964  2.818541e-09  3.831758e-05  2.128882e-03   \n",
      "\n",
      "               ...               3421          3422          3423  \\\n",
      "@topic_0       ...       2.400118e-02  1.399059e-08  1.669546e-01   \n",
      "@topic_1       ...       1.419732e-08  4.308802e-07  1.066009e-08   \n",
      "@topic_2       ...       2.461117e-03  3.053973e-04  4.152935e-02   \n",
      "@topic_3       ...       4.743242e-03  1.124633e-02  1.443313e-01   \n",
      "@topic_4       ...       1.030149e-02  1.556981e-05  1.541980e-01   \n",
      "@topic_5       ...       1.672114e-01  3.783147e-02  1.188398e-01   \n",
      "@topic_6       ...       6.482495e-01  3.336957e-02  2.151822e-01   \n",
      "@topic_7       ...       1.550178e-02  6.508943e-03  5.634608e-02   \n",
      "@topic_8       ...       2.256949e-03  1.091427e-03  1.011213e-02   \n",
      "@topic_9       ...       1.841016e-02  4.041863e-06  4.340129e-03   \n",
      "@topic_10      ...       1.583631e-03  1.962058e-02  4.269989e-02   \n",
      "@topic_11      ...       1.041117e-01  4.879741e-04  7.019763e-04   \n",
      "@topic_12      ...       5.572502e-08  7.564734e-01  4.844720e-05   \n",
      "@topic_13      ...       2.252811e-04  1.300036e-02  3.803416e-02   \n",
      "@topic_14      ...       9.423679e-04  1.200445e-01  6.681745e-03   \n",
      "\n",
      "                   3424          3425          3426          3427  \\\n",
      "@topic_0   3.956318e-01  4.873119e-04  1.043100e-03  2.407436e-09   \n",
      "@topic_1   1.087263e-04  8.001116e-07  9.310454e-04  6.499819e-08   \n",
      "@topic_2   6.074460e-02  4.141179e-03  2.315669e-03  1.681376e-03   \n",
      "@topic_3   1.533235e-02  5.446312e-01  7.082353e-03  1.229091e-01   \n",
      "@topic_4   1.238934e-01  9.604659e-04  7.373378e-03  3.445222e-05   \n",
      "@topic_5   2.090303e-05  2.162575e-02  3.142516e-04  7.990103e-04   \n",
      "@topic_6   3.904814e-02  2.146973e-03  3.700245e-03  5.121719e-04   \n",
      "@topic_7   2.987471e-06  1.707938e-06  1.601196e-12  3.606167e-08   \n",
      "@topic_8   3.120579e-02  8.295739e-02  1.576889e-05  4.800384e-02   \n",
      "@topic_9   6.868505e-10  1.540194e-04  6.258416e-06  8.090420e-05   \n",
      "@topic_10  1.587529e-01  2.618332e-01  8.392910e-01  7.297257e-01   \n",
      "@topic_11  6.463233e-02  1.305157e-03  7.901915e-02  7.073016e-02   \n",
      "@topic_12  2.184999e-02  3.641143e-10  2.158519e-03  1.885758e-06   \n",
      "@topic_13  1.636097e-03  7.708856e-02  5.674907e-02  2.549867e-02   \n",
      "@topic_14  8.714011e-02  2.666283e-03  2.482205e-07  2.260427e-05   \n",
      "\n",
      "                   3428          3429          3430  \n",
      "@topic_0   1.546586e-02  2.525335e-02  1.669592e-05  \n",
      "@topic_1   8.954658e-08  3.242374e-05  2.418616e-06  \n",
      "@topic_2   2.726608e-01  5.480818e-02  1.706932e-03  \n",
      "@topic_3   2.257947e-01  2.235560e-02  4.049348e-02  \n",
      "@topic_4   2.724878e-02  3.961679e-04  2.801936e-02  \n",
      "@topic_5   7.386183e-04  3.750456e-02  8.494043e-02  \n",
      "@topic_6   2.529679e-02  1.175927e-01  4.943201e-01  \n",
      "@topic_7   5.835568e-03  2.569400e-03  6.138413e-05  \n",
      "@topic_8   2.938011e-01  2.537088e-01  1.120450e-01  \n",
      "@topic_9   5.602194e-04  8.155512e-08  3.222171e-05  \n",
      "@topic_10  1.920005e-02  3.854783e-02  2.771743e-02  \n",
      "@topic_11  3.513925e-02  3.879987e-01  2.043650e-01  \n",
      "@topic_12  9.601451e-04  5.163819e-09  1.695372e-09  \n",
      "@topic_13  7.183181e-02  2.996369e-02  5.865393e-03  \n",
      "@topic_14  5.466108e-03  2.926846e-02  4.141108e-04  \n",
      "\n",
      "[15 rows x 430 columns]\n"
     ]
    }
   ],
   "source": [
    "print test_theta_matrix"
   ]
  }
 ],
 "metadata": {
  "kernelspec": {
   "display_name": "Python 2",
   "language": "python",
   "name": "python2"
  },
  "language_info": {
   "codemirror_mode": {
    "name": "ipython",
    "version": 2
   },
   "file_extension": ".py",
   "mimetype": "text/x-python",
   "name": "python",
   "nbconvert_exporter": "python",
   "pygments_lexer": "ipython2",
   "version": "2.7.7"
  }
 },
 "nbformat": 4,
 "nbformat_minor": 0
}
