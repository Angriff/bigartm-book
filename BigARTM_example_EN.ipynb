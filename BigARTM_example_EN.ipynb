{
 "cells": [
  {
   "cell_type": "markdown",
   "metadata": {},
   "source": [
    "# BigARTM new Python API."
   ]
  },
  {
   "cell_type": "markdown",
   "metadata": {},
   "source": [
    "## Example #1"
   ]
  },
  {
   "cell_type": "markdown",
   "metadata": {},
   "source": [
    "This paper provides simple example of usage of new Python API. We will learn a model on the small dataset 'kos'.\n",
    "Let's make necessary imports at first (note that you should have artm_model.py path in your Pyhton PATH variable):"
   ]
  },
  {
   "cell_type": "code",
   "execution_count": 1,
   "metadata": {
    "collapsed": false
   },
   "outputs": [],
   "source": [
    "%matplotlib inline\n",
    "import glob\n",
    "import matplotlib.pyplot as plt\n",
    "\n",
    "import artm.artm_model\n",
    "from artm.artm_model import *"
   ]
  },
  {
   "cell_type": "markdown",
   "metadata": {
    "collapsed": false
   },
   "source": [
    "The first step is to create a topic model. New API allows us to do it as a single line:"
   ]
  },
  {
   "cell_type": "code",
   "execution_count": 2,
   "metadata": {
    "collapsed": false
   },
   "outputs": [],
   "source": [
    "model = ArtmModel(num_topics=15)"
   ]
  },
  {
   "cell_type": "markdown",
   "metadata": {},
   "source": [
    "ArtmModel is an object, that contains all information about current state of the topic model. All our next actions will be held over it. First of all we need to parse the collection from 'docword' and 'vocab' files in UCI format, if it is necessary:"
   ]
  },
  {
   "cell_type": "code",
   "execution_count": 3,
   "metadata": {
    "collapsed": false
   },
   "outputs": [],
   "source": [
    "if len(glob.glob('kos' + \"/*.batch\")) < 1:\n",
    "    parse(data_path='', data_format='bow_uci', collection_name='kos')"
   ]
  },
  {
   "cell_type": "markdown",
   "metadata": {},
   "source": [
    "Next step is to initilize model with collection dictionary. It means, that \n",
    "- Phi matrix 'pwt' will be created in appliance with number of tokens in dictionary and topics count in model\n",
    "- This matrix will be filled with random numbers in (0, 1) and normalized\n",
    "\n",
    "Note that this step is optional, because the model can be auto-initialized during fit_offline() / fit_online() call."
   ]
  },
  {
   "cell_type": "code",
   "execution_count": 4,
   "metadata": {
    "collapsed": true
   },
   "outputs": [],
   "source": [
    "model.initialize(dictionary=model.load_dictionary('kos/dictionary'))"
   ]
  },
  {
   "cell_type": "markdown",
   "metadata": {},
   "source": [
    "ArtmModel provides all model scores, that exists in BigARTM. If you have applied the score to the model, the model will save it's values on every update of Phi matrix.\n",
    "In order to control the quality of the model we will add come scores to it:"
   ]
  },
  {
   "cell_type": "code",
   "execution_count": 5,
   "metadata": {
    "collapsed": true
   },
   "outputs": [],
   "source": [
    "model.scores.add(SparsityPhiScore(name='SparsityPhiScore'))\n",
    "model.scores.add(SparsityThetaScore(name='SparsityThetaScore'))\n",
    "model.scores.add(PerplexityScore(name='PerplexityScore'))"
   ]
  },
  {
   "cell_type": "markdown",
   "metadata": {},
   "source": [
    "Also it is usefull to add basic regularizers to improve sparsity and variance of the topics (we will set some initial tau coeffitients for the regularizers, they can be changed in future)"
   ]
  },
  {
   "cell_type": "code",
   "execution_count": 6,
   "metadata": {
    "collapsed": false
   },
   "outputs": [],
   "source": [
    "model.regularizers.add(SmoothSparsePhiRegularizer(name='SparsePhi', tau=-0.1))\n",
    "model.regularizers.add(SmoothSparseThetaRegularizer(name='SparseTheta', tau=-2.0))\n",
    "model.regularizers.add(DecorrelatorPhiRegularizer(name='DecorrelatorPhi', tau=100000.0))"
   ]
  },
  {
   "cell_type": "markdown",
   "metadata": {},
   "source": [
    "Now let's try to learn the model in the offline mode (e.g. with one Phi update during one scan of the whole collection). We will invoke 5 scans:"
   ]
  },
  {
   "cell_type": "code",
   "execution_count": 7,
   "metadata": {
    "collapsed": false
   },
   "outputs": [],
   "source": [
    "model.fit_offline(data_path='kos', num_collection_passes=5)"
   ]
  },
  {
   "cell_type": "markdown",
   "metadata": {},
   "source": [
    "Let's check the result of the first iteration of learning:"
   ]
  },
  {
   "cell_type": "code",
   "execution_count": 8,
   "metadata": {
    "collapsed": false
   },
   "outputs": [
    {
     "name": "stdout",
     "output_type": "stream",
     "text": [
      "Sparsity Phi:0.425060334009\n",
      "Sparsity Theta:0.699183673469\n"
     ]
    }
   ],
   "source": [
    "print 'Sparsity Phi:' + str(model.scores_info['SparsityPhiScore'].last_value)\n",
    "print 'Sparsity Theta:' + str(model.scores_info['SparsityThetaScore'].last_value)"
   ]
  },
  {
   "cell_type": "markdown",
   "metadata": {},
   "source": [
    "We can see, that sparsity levels of both Phi and Theta are too low. Let's increase (in modulus) the coefficients of regularization for sparsity regularizers:"
   ]
  },
  {
   "cell_type": "code",
   "execution_count": 9,
   "metadata": {
    "collapsed": true
   },
   "outputs": [],
   "source": [
    "model.regularizers['SparsePhi'].tau = -0.4\n",
    "model.regularizers['SparseTheta'].tau = -3.0"
   ]
  },
  {
   "cell_type": "markdown",
   "metadata": {},
   "source": [
    "Also it will be useful to add new score 'TopTokensScore'. It will allow us to see the most probable tokens in each topic"
   ]
  },
  {
   "cell_type": "code",
   "execution_count": 10,
   "metadata": {
    "collapsed": true
   },
   "outputs": [],
   "source": [
    "model.scores.add(TopTokensScore(name='TopTokensScore', num_tokens=5))"
   ]
  },
  {
   "cell_type": "markdown",
   "metadata": {},
   "source": [
    "Next we will continue the learning of our model, 15 scans of the collection will be invoked now"
   ]
  },
  {
   "cell_type": "code",
   "execution_count": 11,
   "metadata": {
    "collapsed": false
   },
   "outputs": [],
   "source": [
    "model.fit_offline(data_path='kos', num_collection_passes=15)"
   ]
  },
  {
   "cell_type": "code",
   "execution_count": 12,
   "metadata": {
    "collapsed": false
   },
   "outputs": [
    {
     "name": "stdout",
     "output_type": "stream",
     "text": [
      "Sparsity Phi:0.638024905879\n",
      "Sparsity Theta:0.793756073858\n"
     ]
    }
   ],
   "source": [
    "print 'Sparsity Phi:' + str(model.scores_info['SparsityPhiScore'].last_value)\n",
    "print 'Sparsity Theta:' + str(model.scores_info['SparsityThetaScore'].last_value)"
   ]
  },
  {
   "cell_type": "markdown",
   "metadata": {},
   "source": [
    "The sparsity is still unsatisfactory. Let's try new tau coefficients and continue model learning:"
   ]
  },
  {
   "cell_type": "code",
   "execution_count": 13,
   "metadata": {
    "collapsed": false
   },
   "outputs": [],
   "source": [
    "model.regularizers['SparsePhi'].tau = -1.5\n",
    "model.regularizers['SparseTheta'].tau = -5.0\n",
    "model.fit_offline(data_path='kos', num_collection_passes=15)"
   ]
  },
  {
   "cell_type": "markdown",
   "metadata": {},
   "source": [
    "Let's plot perplexity and sparsity of the model to check it's quality:"
   ]
  },
  {
   "cell_type": "code",
   "execution_count": 14,
   "metadata": {
    "collapsed": false
   },
   "outputs": [
    {
     "data": {
      "image/png": "[encoded data removed]",
      "text/plain": [
       "<matplotlib.figure.Figure at 0x8d2dcb0>"
      ]
     },
     "metadata": {},
     "output_type": "display_data"
    }
   ],
   "source": [
    "plt.plot(range(model.num_phi_updates), model.scores_info['PerplexityScore'].value, 'r--', linewidth=2)\n",
    "plt.xlabel('Iterations count')\n",
    "plt.ylabel('Perplexity')\n",
    "plt.grid(True)\n",
    "plt.show()"
   ]
  },
  {
   "cell_type": "code",
   "execution_count": 15,
   "metadata": {
    "collapsed": false
   },
   "outputs": [
    {
     "data": {
      "image/png": "[encoded data removed]",
      "text/plain": [
       "<matplotlib.figure.Figure at 0x936e950>"
      ]
     },
     "metadata": {},
     "output_type": "display_data"
    }
   ],
   "source": [
    "plt.plot(range(model.num_phi_updates), model.scores_info['SparsityPhiScore'].value, 'b--',\n",
    "         range(model.num_phi_updates), model.scores_info['SparsityThetaScore'].value, 'r--', linewidth=2)\n",
    "plt.xlabel('Iterations count')\n",
    "plt.ylabel('Phi sparsity, Theta sparsity')\n",
    "plt.grid(True)\n",
    "plt.show()"
   ]
  },
  {
   "cell_type": "markdown",
   "metadata": {},
   "source": [
    "For such small collection the sparsity is enough. Next step is to visualize the top tokens:"
   ]
  },
  {
   "cell_type": "code",
   "execution_count": 16,
   "metadata": {
    "collapsed": false
   },
   "outputs": [
    {
     "name": "stdout",
     "output_type": "stream",
     "text": [
      "@topic_0:  [u'bloggers', u'book', u'convention', u'blogs', u'boat']\n",
      "@topic_1:  [u'dean', u'clark', u'edwards', u'primary', u'lieberman']\n",
      "@topic_2:  [u'republican', u'republicans', u'party', u'vote', u'democrats']\n",
      "@topic_3:  [u'bush', u'administration', u'president', u'cheney', u'house']\n",
      "@topic_4:  [u'delay', u'house', u'media', u'committee', u'texas']\n",
      "@topic_5:  [u'democrats', u'states', u'million', u'state', u'democratic']\n",
      "@topic_6:  [u'iraq', u'war', u'bush', u'iraqi', u'bushs']\n",
      "@topic_7:  [u'military', u'soldiers', u'abu', u'pentagon', u'iraqi']\n",
      "@topic_8:  [u'carson', u'coburn', u'oklahoma', u'media', u'speech']\n",
      "@topic_9:  [u'party', u'nader', u'dean', u'unions', u'ballot']\n",
      "@topic_10:  [u'kerry', u'bush', u'poll', u'percent', u'voters']\n",
      "@topic_11:  [u'senate', u'race', u'elections', u'campaign', u'house']\n",
      "@topic_12:  [u'november', u'account', u'electoral', u'governor', u'house']\n",
      "@topic_13:  [u'bush', u'administration', u'tax', u'jobs', u'health']\n",
      "@topic_14:  [u'oil', u'space', u'blades', u'meteor', u'rights']\n"
     ]
    }
   ],
   "source": [
    "for topic_name in model.topic_names:\n",
    "    print topic_name + ': ',\n",
    "    print model.scores_info['TopTokensScore'].last_topic_info[topic_name].tokens"
   ]
  },
  {
   "cell_type": "markdown",
   "metadata": {},
   "source": [
    "Our last step is to save the model. ArtmModel provides two opportunities: save the model in BigARTM format and in .csv. \n",
    "- in first case you won't be able to visualize the model, but it can be loaded back in library for further learning;\n",
    "- .csv format could not be loaded back, but you are able to look at the Phi matrix by your eyes.\n",
    "\n",
    "Let's use both of methods:"
   ]
  },
  {
   "cell_type": "code",
   "execution_count": 17,
   "metadata": {
    "collapsed": true
   },
   "outputs": [],
   "source": [
    "model.save(file_name='kos_artm_model')\n",
    "model.to_csv(file_name='kos_artm_model.csv')"
   ]
  },
  {
   "cell_type": "markdown",
   "metadata": {},
   "source": [
    "In addition we can get the Theta matrix of the collection:"
   ]
  },
  {
   "cell_type": "code",
   "execution_count": 18,
   "metadata": {
    "collapsed": true
   },
   "outputs": [],
   "source": [
    "theta_matrix = model.get_theta()"
   ]
  },
  {
   "cell_type": "markdown",
   "metadata": {},
   "source": [
    "ArtmModel.get_theta() returns Theta matrix as pandas.DataFrame object. Let's print it:"
   ]
  },
  {
   "cell_type": "code",
   "execution_count": 19,
   "metadata": {
    "collapsed": false
   },
   "outputs": [
    {
     "name": "stdout",
     "output_type": "stream",
     "text": [
      "               1         2     3         4         5         6     7     8     \\\n",
      "@topic_0   0.000000  0.000000     0  0.000000  0.000000  0.000000     0     0   \n",
      "@topic_1   0.000000  0.000000     0  0.000000  0.000000  0.000000     0     0   \n",
      "@topic_2   0.000000  0.000000     0  0.000000  0.000000  0.000000     0     0   \n",
      "@topic_3   0.225261  0.000000     0  0.000000  0.000000  0.000000     0     0   \n",
      "@topic_4   0.000000  0.000000     0  0.840536  0.161937  0.000000     0     0   \n",
      "@topic_5   0.170846  0.000000     0  0.000000  0.000000  0.000000     0     0   \n",
      "@topic_6   0.139790  0.793196     0  0.159464  0.174044  0.000000     0     0   \n",
      "@topic_7   0.229703  0.000000     0  0.000000  0.000000  0.000000     0     0   \n",
      "@topic_8   0.000000  0.000000     0  0.000000  0.000000  0.000000     0     0   \n",
      "@topic_9   0.000000  0.000000     0  0.000000  0.000000  0.000000     0     0   \n",
      "@topic_10  0.234401  0.206804     0  0.000000  0.664019  0.552287     1     1   \n",
      "@topic_11  0.000000  0.000000     0  0.000000  0.000000  0.447713     0     0   \n",
      "@topic_12  0.000000  0.000000     1  0.000000  0.000000  0.000000     0     0   \n",
      "@topic_13  0.000000  0.000000     0  0.000000  0.000000  0.000000     0     0   \n",
      "@topic_14  0.000000  0.000000     0  0.000000  0.000000  0.000000     0     0   \n",
      "\n",
      "               9     10      ...        3421      3422      3423  3424  \\\n",
      "@topic_0   0.000000     0    ...     0.00000  0.000000  0.169999     1   \n",
      "@topic_1   0.000000     0    ...     0.00000  0.000000  0.000000     0   \n",
      "@topic_2   0.000000     0    ...     0.00000  0.000000  0.000000     0   \n",
      "@topic_3   0.000000     0    ...     0.00000  0.000000  0.173369     0   \n",
      "@topic_4   0.000000     0    ...     0.00000  0.000000  0.170544     0   \n",
      "@topic_5   0.000000     1    ...     0.16715  0.000000  0.144538     0   \n",
      "@topic_6   0.000000     0    ...     0.83285  0.000000  0.316459     0   \n",
      "@topic_7   0.000000     0    ...     0.00000  0.000000  0.025092     0   \n",
      "@topic_8   0.000000     0    ...     0.00000  0.000000  0.000000     0   \n",
      "@topic_9   0.000000     0    ...     0.00000  0.000000  0.000000     0   \n",
      "@topic_10  0.892931     0    ...     0.00000  0.000000  0.000000     0   \n",
      "@topic_11  0.107069     0    ...     0.00000  0.000000  0.000000     0   \n",
      "@topic_12  0.000000     0    ...     0.00000  0.855702  0.000000     0   \n",
      "@topic_13  0.000000     0    ...     0.00000  0.000000  0.000000     0   \n",
      "@topic_14  0.000000     0    ...     0.00000  0.144298  0.000000     0   \n",
      "\n",
      "               3425  3426  3427      3428      3429      3430  \n",
      "@topic_0   0.000000     0     0  0.000000  0.000000  0.000000  \n",
      "@topic_1   0.000000     0     0  0.000000  0.000000  0.000000  \n",
      "@topic_2   0.000000     0     0  0.393867  0.000000  0.000000  \n",
      "@topic_3   0.702793     0     0  0.265621  0.000000  0.000000  \n",
      "@topic_4   0.000000     0     0  0.000000  0.000000  0.000000  \n",
      "@topic_5   0.000000     0     0  0.000000  0.000000  0.000000  \n",
      "@topic_6   0.000000     0     0  0.000000  0.000000  0.684329  \n",
      "@topic_7   0.000000     0     0  0.000000  0.000000  0.000000  \n",
      "@topic_8   0.000000     0     0  0.340512  0.266671  0.000000  \n",
      "@topic_9   0.000000     0     0  0.000000  0.000000  0.000000  \n",
      "@topic_10  0.297207     1     0  0.000000  0.000000  0.000000  \n",
      "@topic_11  0.000000     0     0  0.000000  0.733329  0.315671  \n",
      "@topic_12  0.000000     0     0  0.000000  0.000000  0.000000  \n",
      "@topic_13  0.000000     0     0  0.000000  0.000000  0.000000  \n",
      "@topic_14  0.000000     0     0  0.000000  0.000000  0.000000  \n",
      "\n",
      "[15 rows x 3430 columns]\n"
     ]
    }
   ],
   "source": [
    "print theta_matrix"
   ]
  },
  {
   "cell_type": "markdown",
   "metadata": {},
   "source": [
    "## Example #2"
   ]
  },
  {
   "cell_type": "markdown",
   "metadata": {},
   "source": [
    "This is a second part of paper about basic usage of new Python API of BigARTM library. We will load back the model, saved in previous example, and proceed some new operations.\n",
    "\n",
    "The first step is to create a new topic model:"
   ]
  },
  {
   "cell_type": "code",
   "execution_count": 20,
   "metadata": {
    "collapsed": true
   },
   "outputs": [],
   "source": [
    "new_model = ArtmModel(num_processors=2, num_topics=1, num_document_passes=1)"
   ]
  },
  {
   "cell_type": "markdown",
   "metadata": {},
   "source": [
    "Second step is to add regularizers and scores. We'll restrict ourselves to one new score and two regularizers:"
   ]
  },
  {
   "cell_type": "code",
   "execution_count": 21,
   "metadata": {
    "collapsed": false
   },
   "outputs": [],
   "source": [
    "new_model.scores.add(TopicKernelScore(name='TopicKernelScore'))\n",
    "new_model.regularizers.add(SmoothSparsePhiRegularizer(name='SparsePhi', tau=-0.1))\n",
    "new_model.regularizers.add(DecorrelatorPhiRegularizer(name='DecorrelatorPhi', tau=100000.0))"
   ]
  },
  {
   "cell_type": "markdown",
   "metadata": {},
   "source": [
    "Now we will load 'kos_artm_model' file into library"
   ]
  },
  {
   "cell_type": "code",
   "execution_count": 22,
   "metadata": {
    "collapsed": true
   },
   "outputs": [],
   "source": [
    "new_model.load('kos_artm_model')"
   ]
  },
  {
   "cell_type": "markdown",
   "metadata": {},
   "source": [
    "Note, that loaded model will overwrite several things in you ArtmModel object: number of topics and their names, Phi matrix. It also will reset all saved information about topic model scores values. \n",
    "\n",
    "Nevertheless the scores and the regularizers, applied to ArtmModel object earlier, won't change. In our case it is a 'TopicKernelScore' score and 'SparsePhi' and 'DecorrelatorPhi' regularizers.\n",
    "\n",
    "Now let's continue model learning, but in online mode. It means that\n",
    "- the number of passes through single document will increase\n",
    "- Phi matrix updates will be proceed several times during one pass of the collection\n",
    "- we need only one pass through the collection (but here we'll do 5, because the 'kos' collection is too small)."
   ]
  },
  {
   "cell_type": "code",
   "execution_count": 23,
   "metadata": {
    "collapsed": false
   },
   "outputs": [],
   "source": [
    "new_model.num_document_passes = 20\n",
    "for i in range(5):\n",
    "    new_model.fit_online(data_path='kos', update_every=4)"
   ]
  },
  {
   "cell_type": "markdown",
   "metadata": {},
   "source": [
    "'update_every' tells model the number of batches to be processed before next update of Phi.\n",
    "\n",
    "Let's visualize topic kernel scores (average contrast and purity):"
   ]
  },
  {
   "cell_type": "code",
   "execution_count": 24,
   "metadata": {
    "collapsed": false
   },
   "outputs": [
    {
     "data": {
      "image/png": "[encoded data removed]",
      "text/plain": [
       "<matplotlib.figure.Figure at 0x91c7870>"
      ]
     },
     "metadata": {},
     "output_type": "display_data"
    }
   ],
   "source": [
    "plt.plot(range(new_model.num_phi_updates), new_model.scores_info['TopicKernelScore'].average_contrast, 'g--',\n",
    "         range(new_model.num_phi_updates), new_model.scores_info['TopicKernelScore'].average_purity, 'r--', linewidth=2)\n",
    "plt.xlabel('Iterations count')\n",
    "plt.ylabel('Kernel scores')\n",
    "plt.grid(True)\n",
    "plt.show()"
   ]
  },
  {
   "cell_type": "markdown",
   "metadata": {},
   "source": [
    "As we see, the further study of loaded model only downgraded the quality of the model.\n",
    "\n",
    "Also we can see all information about each topic. For instance let's print topic kernel tokens for first topic:"
   ]
  },
  {
   "cell_type": "code",
   "execution_count": 25,
   "metadata": {
    "collapsed": false
   },
   "outputs": [
    {
     "name": "stdout",
     "output_type": "stream",
     "text": [
      "[u'allowed', u'award', u'baseball', u'blogads', u'bloggers', u'blogging', u'blogosphere', u'blogs', u'boat', u'book', u'boston', u'bronze', u'curious', u'dailykos', u'drudge', u'drum', u'editors', u'fans', u'franken', u'fun', u'ideological', u'journalism', u'journalists', u'kevin', u'launch', u'limbaugh', u'links', u'lying', u'magazine', u'nevada', u'nyc', u'oreilly', u'owner', u'park', u'petraeus', u'posters', u'propaganda', u'putting', u'reader', u'readers', u'review', u'rewards', u'rnc', u'road', u'rowland', u'rush', u'season', u'selection', u'series', u'sox', u'star', u'starting', u'stations', u'suddenly', u'swift', u'treatment', u'trip', u'universe', u'updates', u'whos', u'writes', u'yankees']\n"
     ]
    }
   ],
   "source": [
    "print new_model.scores_info['TopicKernelScore'].last_topic_info[new_model.topic_names[0]].tokens"
   ]
  },
  {
   "cell_type": "markdown",
   "metadata": {},
   "source": [
    "If we have the batch with documents, that didn't take part in model learning, and we want to get Theta matrix for it, we can use 'find_theta' method:"
   ]
  },
  {
   "cell_type": "code",
   "execution_count": 26,
   "metadata": {
    "collapsed": true
   },
   "outputs": [],
   "source": [
    "test_theta_matrix = model.find_theta(data_path='kos_test', batches=['test_docs.batch'])"
   ]
  },
  {
   "cell_type": "markdown",
   "metadata": {},
   "source": [
    "ArtmModel.find_theta(), as ArtmModel.get_theta(), returns Theta matrix as pandas.DataFrame object. Let's print it:"
   ]
  },
  {
   "cell_type": "code",
   "execution_count": 27,
   "metadata": {
    "collapsed": false
   },
   "outputs": [
    {
     "name": "stdout",
     "output_type": "stream",
     "text": [
      "               3001          3002          3003          3004      3005  \\\n",
      "@topic_0   0.000027  5.470441e-12  8.858690e-05  3.656073e-08  0.023010   \n",
      "@topic_1   0.000000  7.542400e-08  5.074252e-08  2.937766e-05  0.000895   \n",
      "@topic_2   0.157189  3.943481e-02  9.634749e-02  3.531552e-02  0.000529   \n",
      "@topic_3   0.026739  1.165681e-02  1.995718e-04  6.939082e-03  0.000309   \n",
      "@topic_4   0.042745  6.324429e-01  7.173921e-03  5.326914e-01  0.501925   \n",
      "@topic_5   0.116400  1.229191e-02  8.142494e-02  2.659782e-01  0.069237   \n",
      "@topic_6   0.376137  5.741608e-02  1.048813e-01  5.601963e-03  0.097927   \n",
      "@topic_7   0.163308  1.563601e-01  1.076550e-05  6.481564e-05  0.000017   \n",
      "@topic_8   0.002779  3.925615e-08  5.331636e-03  2.455391e-03  0.003307   \n",
      "@topic_9   0.000794  1.425120e-03  8.679908e-03  1.836368e-02  0.000393   \n",
      "@topic_10  0.031546  4.864472e-04  6.822557e-01  9.276263e-02  0.158377   \n",
      "@topic_11  0.010005  2.929054e-02  4.955176e-04  1.317863e-02  0.106789   \n",
      "@topic_12  0.000001  1.540387e-02  4.465870e-03  3.355253e-04  0.004254   \n",
      "@topic_13  0.055056  5.237251e-03  5.447345e-03  2.556891e-02  0.033013   \n",
      "@topic_14  0.017275  3.855419e-02  3.197198e-03  7.149701e-04  0.000019   \n",
      "\n",
      "                   3006      3007          3008          3009          3010  \\\n",
      "@topic_0   1.957743e-03  0.000003  1.880584e-02  3.284748e-08  5.062467e-11   \n",
      "@topic_1   3.125592e-09  0.000002  1.916723e-03  2.358260e-03  1.123493e-04   \n",
      "@topic_2   4.616872e-03  0.274578  1.035474e-05  5.992467e-02  7.972527e-02   \n",
      "@topic_3   4.240339e-05  0.010763  4.021884e-06  3.439143e-02  2.323688e-01   \n",
      "@topic_4   5.538676e-02  0.137051  3.462399e-03  4.187404e-02  4.170706e-01   \n",
      "@topic_5   2.461949e-05  0.015040  7.990619e-07  9.312669e-02  3.289462e-02   \n",
      "@topic_6   2.320110e-04  0.008153  6.622639e-07  2.465888e-02  4.073304e-03   \n",
      "@topic_7   3.693162e-09  0.011507  6.378990e-09  1.754533e-05  2.694920e-02   \n",
      "@topic_8   6.324253e-08  0.027514  5.784757e-02  3.420430e-03  2.061207e-03   \n",
      "@topic_9   2.270031e-06  0.000164  2.294977e-04  1.478355e-01  4.626293e-02   \n",
      "@topic_10  1.497059e-02  0.012098  6.286373e-06  7.630670e-04  4.165542e-02   \n",
      "@topic_11  1.676826e-04  0.479622  9.177154e-01  5.832046e-01  1.134688e-01   \n",
      "@topic_12  9.163983e-01  0.008182  2.467612e-14  1.429419e-05  1.918081e-05   \n",
      "@topic_13  1.890517e-05  0.000360  3.322639e-07  8.372159e-03  1.209498e-03   \n",
      "@topic_14  6.181698e-03  0.014963  2.818743e-09  3.831803e-05  2.128884e-03   \n",
      "\n",
      "               ...               3421          3422          3423  \\\n",
      "@topic_0       ...       2.400130e-02  1.399033e-08  1.669547e-01   \n",
      "@topic_1       ...       1.419775e-08  4.308393e-07  1.066055e-08   \n",
      "@topic_2       ...       2.461137e-03  3.054179e-04  4.152995e-02   \n",
      "@topic_3       ...       4.743199e-03  1.124626e-02  1.443307e-01   \n",
      "@topic_4       ...       1.030163e-02  1.556981e-05  1.541960e-01   \n",
      "@topic_5       ...       1.672108e-01  3.783164e-02  1.188393e-01   \n",
      "@topic_6       ...       6.482498e-01  3.336946e-02  2.151837e-01   \n",
      "@topic_7       ...       1.550172e-02  6.509151e-03  5.634587e-02   \n",
      "@topic_8       ...       2.256948e-03  1.091433e-03  1.011228e-02   \n",
      "@topic_9       ...       1.841015e-02  4.043326e-06  4.340201e-03   \n",
      "@topic_10      ...       1.583679e-03  1.962112e-02  4.270084e-02   \n",
      "@topic_11      ...       1.041119e-01  4.879982e-04  7.019730e-04   \n",
      "@topic_12      ...       5.572601e-08  7.564732e-01  4.844844e-05   \n",
      "@topic_13      ...       2.252716e-04  1.300047e-02  3.803426e-02   \n",
      "@topic_14      ...       9.423902e-04  1.200438e-01  6.681676e-03   \n",
      "\n",
      "                   3424          3425          3426          3427  \\\n",
      "@topic_0   3.956321e-01  4.873087e-04  1.043109e-03  2.407362e-09   \n",
      "@topic_1   1.087007e-04  8.000366e-07  9.310510e-04  6.499575e-08   \n",
      "@topic_2   6.074485e-02  4.141121e-03  2.315672e-03  1.681376e-03   \n",
      "@topic_3   1.533243e-02  5.446305e-01  7.082315e-03  1.229088e-01   \n",
      "@topic_4   1.238947e-01  9.604794e-04  7.373440e-03  3.445175e-05   \n",
      "@topic_5   2.090214e-05  2.162662e-02  3.142604e-04  7.990293e-04   \n",
      "@topic_6   3.904757e-02  2.146973e-03  3.700350e-03  5.121732e-04   \n",
      "@topic_7   2.987411e-06  1.707961e-06  1.601304e-12  3.605977e-08   \n",
      "@topic_8   3.120588e-02  8.295789e-02  1.576891e-05  4.800370e-02   \n",
      "@topic_9   6.868285e-10  1.540130e-04  6.258147e-06  8.090044e-05   \n",
      "@topic_10  1.587540e-01  2.618305e-01  8.392902e-01  7.297261e-01   \n",
      "@topic_11  6.463181e-02  1.305145e-03  7.902038e-02  7.073128e-02   \n",
      "@topic_12  2.184978e-02  3.641256e-10  2.158494e-03  1.885782e-06   \n",
      "@topic_13  1.636078e-03  7.709071e-02  5.674848e-02  2.549748e-02   \n",
      "@topic_14  8.713819e-02  2.666312e-03  2.482125e-07  2.261730e-05   \n",
      "\n",
      "                   3428          3429          3430  \n",
      "@topic_0   1.546603e-02  2.525347e-02  1.669584e-05  \n",
      "@topic_1   8.953064e-08  3.241785e-05  2.418455e-06  \n",
      "@topic_2   2.726624e-01  5.480702e-02  1.706958e-03  \n",
      "@topic_3   2.257902e-01  2.235555e-02  4.049352e-02  \n",
      "@topic_4   2.724835e-02  3.961623e-04  2.801947e-02  \n",
      "@topic_5   7.386139e-04  3.750563e-02  8.494032e-02  \n",
      "@topic_6   2.529684e-02  1.175933e-01  4.943203e-01  \n",
      "@topic_7   5.835452e-03  2.569359e-03  6.138220e-05  \n",
      "@topic_8   2.938006e-01  2.537076e-01  1.120450e-01  \n",
      "@topic_9   5.601972e-04  8.155546e-08  3.222151e-05  \n",
      "@topic_10  1.919913e-02  3.854897e-02  2.771854e-02  \n",
      "@topic_11  3.513983e-02  3.879984e-01  2.043637e-01  \n",
      "@topic_12  9.601186e-04  5.163257e-09  1.695358e-09  \n",
      "@topic_13  7.183623e-02  2.996254e-02  5.865085e-03  \n",
      "@topic_14  5.466061e-03  2.926951e-02  4.141090e-04  \n",
      "\n",
      "[15 rows x 430 columns]\n"
     ]
    }
   ],
   "source": [
    "print test_theta_matrix"
   ]
  }
 ],
 "metadata": {
  "kernelspec": {
   "display_name": "Python 2",
   "language": "python",
   "name": "python2"
  },
  "language_info": {
   "codemirror_mode": {
    "name": "ipython",
    "version": 2
   },
   "file_extension": ".py",
   "mimetype": "text/x-python",
   "name": "python",
   "nbconvert_exporter": "python",
   "pygments_lexer": "ipython2",
   "version": "2.7.7"
  }
 },
 "nbformat": 4,
 "nbformat_minor": 0
}
