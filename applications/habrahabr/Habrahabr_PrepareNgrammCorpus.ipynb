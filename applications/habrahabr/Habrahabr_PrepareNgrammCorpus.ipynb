{
 "cells": [
  {
   "cell_type": "markdown",
   "metadata": {},
   "source": [
    "# Хабрахабр: мультиграммная тематическая модель"
   ]
  },
  {
   "cell_type": "markdown",
   "metadata": {},
   "source": [
    "## Данные\n",
    "\n",
    "- [habrahabr-dataset](https://github.com/romovpa/habrahabr-dataset)\n",
    "- [Архивы с данными](https://yadi.sk/d/b13MG_XGfxVBp)\n",
    "\n",
    "Распаковываем в `data` полный архив и добавляем к нему посчитанные N-граммы от Сергея Царькова: `data/ngrams`."
   ]
  },
  {
   "cell_type": "code",
   "execution_count": 1,
   "metadata": {
    "collapsed": false
   },
   "outputs": [
    {
     "name": "stdout",
     "output_type": "stream",
     "text": [
      "habrahabr_ngrams  habr_posts  posts.csv\r\n"
     ]
    }
   ],
   "source": [
    "!ls data"
   ]
  },
  {
   "cell_type": "markdown",
   "metadata": {},
   "source": [
    "## Корпус для BigARTM\n",
    "\n",
    "Делаем корпус мешков слов для обучения тематической модели в BigARTM."
   ]
  },
  {
   "cell_type": "code",
   "execution_count": 2,
   "metadata": {
    "collapsed": false
   },
   "outputs": [],
   "source": [
    "import pandas\n",
    "posts = pandas.read_csv('data/posts.csv', encoding='utf8') # таблица с базовой информацией о постах"
   ]
  },
  {
   "cell_type": "markdown",
   "metadata": {},
   "source": [
    "Отсеиваем посты из единственного хаба \"Чёрная дыра\", поско"
   ]
  },
  {
   "cell_type": "code",
   "execution_count": 3,
   "metadata": {
    "collapsed": false
   },
   "outputs": [],
   "source": [
    "good_post_ids = posts.ix[posts['hubs'] != u'Чёрная дыра', 'post_id'].values"
   ]
  },
  {
   "cell_type": "code",
   "execution_count": 9,
   "metadata": {
    "collapsed": true
   },
   "outputs": [],
   "source": [
    "def post_to_bow(post_id):\n",
    "    bow = []\n",
    "\n",
    "    def word_to_token(word):\n",
    "        return word.strip('#').replace(' ', '_').replace(':', '_').replace('|', '_')\n",
    "        \n",
    "    with open('data/habrahabr_ngrams/post_%d.xml' % post_id) as f:\n",
    "        for line in f:\n",
    "            line = line.decode('utf8')\n",
    "            _, word, cnt = line.rstrip().split('\\t')\n",
    "            cnt = int(cnt)\n",
    "            bow.append((word_to_token(word), cnt))\n",
    "            \n",
    "    return ' '.join(\n",
    "        token + ('' if cnt == 1 else ':%d' % cnt)\n",
    "        for token, cnt in bow\n",
    "    )"
   ]
  },
  {
   "cell_type": "code",
   "execution_count": 12,
   "metadata": {
    "collapsed": false
   },
   "outputs": [
    {
     "data": {
      "text/plain": [
       "102776"
      ]
     },
     "execution_count": 12,
     "metadata": {},
     "output_type": "execute_result"
    }
   ],
   "source": [
    "good_post_ids.shape[0]"
   ]
  },
  {
   "cell_type": "code",
   "execution_count": 15,
   "metadata": {
    "collapsed": true
   },
   "outputs": [],
   "source": [
    "import os"
   ]
  },
  {
   "cell_type": "code",
   "execution_count": 17,
   "metadata": {
    "collapsed": false
   },
   "outputs": [
    {
     "name": "stdout",
     "output_type": "stream",
     "text": [
      "0\n",
      "5000\n",
      "10000\n",
      "15000\n",
      "20000\n",
      "25000\n",
      "30000\n",
      "35000\n",
      "40000\n",
      "45000\n",
      "50000\n",
      "55000\n",
      "60000\n",
      "65000\n",
      "70000\n",
      "75000\n",
      "80000\n",
      "85000\n",
      "90000\n",
      "95000\n",
      "100000\n"
     ]
    }
   ],
   "source": [
    "with open('data/habrahabr_ngrams.vw', 'w') as fout:\n",
    "    for n, post_id in enumerate(good_post_ids):\n",
    "        if not os.path.exists('data/habrahabr_ngrams/post_%d.xml' % post_id):\n",
    "            continue\n",
    "        line = ('post_%d |text ' % post_id) + post_to_bow(post_id) + '\\n'\n",
    "        fout.write(line.encode('utf8'))\n",
    "        if n % 5000 == 0:\n",
    "            print n"
   ]
  },
  {
   "cell_type": "code",
   "execution_count": 18,
   "metadata": {
    "collapsed": false
   },
   "outputs": [
    {
     "name": "stdout",
     "output_type": "stream",
     "text": [
      "2.3G\tdata/habrahabr_ngrams.vw\r\n"
     ]
    }
   ],
   "source": [
    "!du -hs data/habrahabr_ngrams.vw"
   ]
  },
  {
   "cell_type": "code",
   "execution_count": 11,
   "metadata": {
    "collapsed": false
   },
   "outputs": [
    {
     "name": "stdout",
     "output_type": "stream",
     "text": [
      "юбилей:2 отмечает стотысячный_пост пост_поздравляю_жителей_ресурса пост_поздравляю праздник_дело стотысячный со_посетителей стотысячный_пост_поздравляю увлекательных любимый_ресурс_хабрахабр_отмечает для_праздник криков любимый_ресурс_хабрахабр_отмечает_юбилей ресурс_хабрахабр_отмечает торт_стороны любимый_ресурс под_названием под_пост гайдов торт хабрахабр знаменательным поздравляю_жителей_ресурса торт_со_стороны_посетителей ресурс_хабрахабр_отмечает_юбилей хабрахабр_отмечает увлекательных_статей жителей_ресурса юбилей_под_названием желаю нескучных_гайдов отмечает_юбилей пост_поздравляю_жителей дело жителей хабрахабр_отмечает_юбилей со_стороны любимый_ресурс_хабрахабр поздравляю стотысячный_пост_поздравляю_жителей_ресурса статей со_стороны_посетителей любимый ресурс_хабрахабр поздравляю_жителей ресурс:2 со_хабру нескучных стотысячный_пост_поздравляю_жителей\n"
     ]
    }
   ],
   "source": [
    "print post_to_bow(100000)"
   ]
  },
  {
   "cell_type": "code",
   "execution_count": 6,
   "metadata": {
    "collapsed": false
   },
   "outputs": [
    {
     "name": "stdout",
     "output_type": "stream",
     "text": [
      "юбилей\t#юбилей\t2\r\n",
      "отмечать\tотмечает\t1\r\n",
      "пост стотысячный\t#стотысячный пост\t1\r\n",
      "житель поздравлять пост ресурс\tпост поздравляю жителей ресурса\t1\r\n",
      "поздравлять пост\tпост поздравляю\t1\r\n",
      "дело праздник\t#праздник дело\t1\r\n",
      "стотысячный\t#стотысячный\t1\r\n",
      "посетитель\tсо посетителей\t1\r\n",
      "поздравлять пост стотысячный\tстотысячный пост поздравляю\t1\r\n",
      "увлекательный\tувлекательных\t1\r\n",
      "любимый отмечать ресурс хабрахабр\tлюбимый ресурс хабрахабр отмечает\t1\r\n",
      "праздник\tдля праздник\t1\r\n",
      "крик\tкриков\t1\r\n",
      "любимый отмечать ресурс хабрахабр юбилей\tлюбимый ресурс хабрахабр отмечает юбилей\t1\r\n",
      "отмечать ресурс хабрахабр\tресурс хабрахабр отмечает\t1\r\n",
      "сторона торт\tторт стороны\t1\r\n",
      "любимый ресурс\t#любимый ресурс\t1\r\n",
      "название\tпод названием\t1\r\n",
      "пост\tпод пост\t1\r\n",
      "гайд\tгайдов\t1\r\n",
      "торт\t#торт\t1\r\n",
      "хабрахабр\t#хабрахабр\t1\r\n",
      "знаменательный\tзнаменательным\t1\r\n",
      "житель поздравлять ресурс\tпоздравляю жителей ресурса\t1\r\n",
      "посетитель сторона торт\tторт со стороны посетителей\t1\r\n",
      "отмечать ресурс хабрахабр юбилей\tресурс хабрахабр отмечает юбилей\t1\r\n",
      "отмечать хабрахабр\tхабрахабр отмечает\t1\r\n",
      "статья увлекательный\tувлекательных статей\t1\r\n",
      "житель ресурс\tжителей ресурса\t1\r\n",
      "название юбилей\t#юбилей под названием\t1\r\n",
      "желать\tжелаю\t1\r\n",
      "гайд нескучный\tнескучных гайдов\t1\r\n",
      "отмечать юбилей\tотмечает юбилей\t1\r\n",
      "житель поздравлять пост\tпост поздравляю жителей\t1\r\n",
      "дело\t#дело\t1\r\n",
      "житель\tжителей\t1\r\n",
      "отмечать хабрахабр юбилей\tхабрахабр отмечает юбилей\t1\r\n",
      "сторона\tсо стороны\t1\r\n",
      "любимый ресурс хабрахабр\t#любимый ресурс хабрахабр\t1\r\n",
      "поздравлять\tпоздравляю\t1\r\n",
      "житель поздравлять пост ресурс стотысячный\tстотысячный пост поздравляю жителей ресурса\t1\r\n",
      "статья\tстатей\t1\r\n",
      "посетитель сторона\tсо стороны посетителей\t1\r\n",
      "любимый\t#любимый\t1\r\n",
      "ресурс хабрахабр\t#ресурс хабрахабр\t1\r\n",
      "житель поздравлять\tпоздравляю жителей\t1\r\n",
      "ресурс\t#ресурс\t2\r\n",
      "хабр\tсо хабру\t1\r\n",
      "нескучный\tнескучных\t1\r\n",
      "житель поздравлять пост стотысячный\tстотысячный пост поздравляю жителей\t1\r\n"
     ]
    }
   ],
   "source": [
    "!head -n 50 data/habrahabr_ngrams/post_100000.xml"
   ]
  },
  {
   "cell_type": "code",
   "execution_count": 4,
   "metadata": {
    "collapsed": false
   },
   "outputs": [
    {
     "name": "stdout",
     "output_type": "stream",
     "text": [
      "post_100000_comments.xml\n",
      "post_100000.xml\n",
      "post_100006_comments.xml\n",
      "post_100006.xml\n",
      "post_100007_comments.xml\n",
      "post_100007.xml\n",
      "post_100008_comments.xml\n",
      "post_100008.xml\n",
      "post_100009_comments.xml\n",
      "post_100009.xml\n",
      "ls: write error: Broken pipe\n"
     ]
    }
   ],
   "source": [
    "!ls data/habrahabr_ngrams/ | head"
   ]
  },
  {
   "cell_type": "markdown",
   "metadata": {},
   "source": [
    "## "
   ]
  }
 ],
 "metadata": {
  "kernelspec": {
   "display_name": "Python 2",
   "language": "python",
   "name": "python2"
  },
  "language_info": {
   "codemirror_mode": {
    "name": "ipython",
    "version": 2
   },
   "file_extension": ".py",
   "mimetype": "text/x-python",
   "name": "python",
   "nbconvert_exporter": "python",
   "pygments_lexer": "ipython2",
   "version": "2.7.3"
  }
 },
 "nbformat": 4,
 "nbformat_minor": 0
}
