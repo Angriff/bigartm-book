{
 "cells": [
  {
   "cell_type": "markdown",
   "metadata": {},
   "source": [
    "# BigARTM Python API."
   ]
  },
  {
   "cell_type": "markdown",
   "metadata": {},
   "source": [
    "BigARTM is an open library for topic modeling oftext collections. It's based on the ARTM theory. The projects main site\n",
    " is http://bigartm.org/.\n",
    "\n",
    "The example of BigARTM Python API usage is showen below. We'll proceed a model experiment.\n",
    "\n",
    "#### Description:\n",
    "Let's learn two topic models of text collections, ARTM and PLSA, and compare them.\n",
    "\n",
    "#### Quality measures:\n",
    "One of the important measures is the perplexity. Nevertheless it's not the only way to chech the quality of the model learning. The following qualities are implemented in library:\n",
    "\n",
    "- $\\Phi$ (token-topic) matrix sparsity;\n",
    "- $\\Theta$ (topic-doc) matrix sparsity;\n",
    "- topic kernel characteristics (purity, contrast, size);\n",
    "- perplexity;\n",
    "- coherency of top-tokens and tokens from topic kernels.\n",
    "\n",
    "We'll use the first four ones. The higher values of sparsities and average purity and contrast means the more interpretable model.\n",
    "\n",
    "#### Goals of the experiment:\n",
    "We'll try to learn the ARTM model in the way to obtain better values of sparsities and kernel characteristics, than in PLSA, without significant decline of the perplexity.\n",
    "\n",
    "The main tool to control the learning process is the regularization. Here's the list of currently implemented regularizers:\n",
    "\n",
    "- $\\Phi$ matrix sparsing (+ semi-supervised learning);\n",
    "- $\\Theta$ matrix sparsing (+ semi-supervised learning);\n",
    "- $\\Phi$ matrix topics decorrelation;\n",
    "- forced $\\Phi$ matrix sparsing;\n",
    "- classes balancing (Label Regularization);\n",
    "- coherency improving.\n",
    "\n",
    "We'll use the first three regularizers in ARTM model in this experiment. ARTM without the regularization corresponds the PLSA model.\n",
    "\n",
    "#### Text collection:\n",
    "Let's use the small 'kos' collection from the UCI repository https://archive.ics.uci.edu/ml/machine-learning-databases/bag-of-words/. The collection has following parameters:\n",
    "\n",
    "- 3430 documents;\n",
    "- 6906 tokens in the dictionary;\n",
    "- 467714 non-zero values in Bag-of-Words."
   ]
  },
  {
   "cell_type": "markdown",
   "metadata": {},
   "source": [
    "At first let's import all necessary modules (make sure you have the BigARTM Python API in your PATH variable):"
   ]
  },
  {
   "cell_type": "code",
   "execution_count": 1,
   "metadata": {
    "collapsed": false
   },
   "outputs": [],
   "source": [
    "%matplotlib inline\n",
    "import glob\n",
    "import matplotlib.pyplot as plt\n",
    "\n",
    "import artm"
   ]
  },
  {
   "cell_type": "markdown",
   "metadata": {},
   "source": [
    "First of all you need to prepare the input data. BigARTM has its own documents format for processing called batches. BigARTM has tools for their creation from Bag-of-Words UCI and Vowpal Wabbit formats (see more at http://docs.bigartm.org/en/latest/formats.html).\n",
    "\n",
    "Library Python API similarly to scikit-learn algorithms represents input data in the form of one class called BatchVectorizer. This class object get batches or UCI / VW files as inputs and is used as input parameter in all methods. If the given data is not batches, the object will create them and store to disk.\n",
    "\n",
    "So let's create the object of BatchVectorizer:"
   ]
  },
  {
   "cell_type": "code",
   "execution_count": 2,
   "metadata": {
    "collapsed": true
   },
   "outputs": [],
   "source": [
    "batch_vectorizer = None\n",
    "if len(glob.glob('kos' + \"/*.batch\")) < 1:\n",
    "    batch_vectorizer = artm.BatchVectorizer(data_path='', data_format='bow_uci', collection_name='kos', target_folder='kos')\n",
    "else:\n",
    "    batch_vectorizer = artm.BatchVectorizer(data_path='kos', data_format='batches')"
   ]
  },
  {
   "cell_type": "markdown",
   "metadata": {
    "collapsed": false
   },
   "source": [
    "ARTM is a class, that represents BigARTM Python API. Allows to use almost all library abilities in scikit-learn style. Let's create two topic models for our experiments. The most important parameter of the model is the number of topics. Optionally the user can define the list of regularizers and quality measures (scores) to be used in this model. This step can be done later. Note, that each model defines its own namespace for names of regularizers and scores."
   ]
  },
  {
   "cell_type": "code",
   "execution_count": 3,
   "metadata": {
    "collapsed": false
   },
   "outputs": [],
   "source": [
    "model_plsa = artm.ARTM(num_topics=15,\n",
    "                  scores=[artm.PerplexityScore(name='PerplexityScore',\n",
    "                                               use_unigram_document_model=False,\n",
    "                                               dictionary_name='dictionary')])\n",
    "\n",
    "model_artm = artm.ARTM(num_topics=15,\n",
    "                  scores=[artm.PerplexityScore(name='PerplexityScore',\n",
    "                                               use_unigram_document_model=False,\n",
    "                                               dictionary_name='dictionary')],\n",
    "                  regularizers=[artm.SmoothSparseThetaRegularizer(name='SparseTheta', tau=-0.15)])"
   ]
  },
  {
   "cell_type": "markdown",
   "metadata": {},
   "source": [
    "The next step is to initialize models. It can be done using dictionary. It means:\n",
    "- the $\\Phi$ matrix with the name 'pwt' will be created with numbers of rows and columns corresponding the numbers of tokens in the dictionary and topics in the model;\n",
    "- this matrix will be filled with random values from (0, 1) and normalized.\n",
    "\n",
    "Note this step is optional: the model will be auto-initialized during the calls of fit_offline() / fit_online().\n",
    "\n",
    "Dictionary is the object of BigARTM, containing the information about the collection (vocabulary, different counters and values, linked to tokens)."
   ]
  },
  {
   "cell_type": "code",
   "execution_count": 4,
   "metadata": {
    "collapsed": false
   },
   "outputs": [],
   "source": [
    "model_plsa.load_dictionary(dictionary_name='dictionary', dictionary_path='kos/dictionary')\n",
    "model_plsa.initialize(dictionary_name='dictionary')\n",
    "\n",
    "model_artm.load_dictionary(dictionary_name='dictionary', dictionary_path='kos/dictionary')\n",
    "model_artm.initialize(dictionary_name='dictionary')"
   ]
  },
  {
   "cell_type": "markdown",
   "metadata": {},
   "source": [
    "As it was said earlier, ARTM provides the ability to use all the scores of BigARTM. Once the score was included into model, the model will save all its values, obtained at the time of each $\\Phi$ matrix update. Let's add the scores we need for our experiment (only ones, missed in the constructors):"
   ]
  },
  {
   "cell_type": "code",
   "execution_count": 5,
   "metadata": {
    "collapsed": false
   },
   "outputs": [],
   "source": [
    "model_plsa.scores.add(artm.SparsityPhiScore(name='SparsityPhiScore'))\n",
    "model_plsa.scores.add(artm.SparsityThetaScore(name='SparsityThetaScore'))\n",
    "model_plsa.scores.add(artm.TopicKernelScore(name='TopicKernelScore', probability_mass_threshold=0.3))\n",
    "\n",
    "model_artm.scores.add(artm.SparsityPhiScore(name='SparsityPhiScore'))\n",
    "model_artm.scores.add(artm.SparsityThetaScore(name='SparsityThetaScore'))\n",
    "model_artm.scores.add(artm.TopicKernelScore(name='TopicKernelScore', probability_mass_threshold=0.3))"
   ]
  },
  {
   "cell_type": "markdown",
   "metadata": {},
   "source": [
    "Now we'll do the same thing with the regularizers for artm_model (let's set their start coefficients of the regularization, these values can be changed later):"
   ]
  },
  {
   "cell_type": "code",
   "execution_count": 6,
   "metadata": {
    "collapsed": false
   },
   "outputs": [],
   "source": [
    "model_artm.regularizers.add(artm.SmoothSparsePhiRegularizer(name='SparsePhi', tau=-0.1))\n",
    "model_artm.regularizers.add(artm.DecorrelatorPhiRegularizer(name='DecorrelatorPhi', tau=1.5e+5))"
   ]
  },
  {
   "cell_type": "markdown",
   "metadata": {},
   "source": [
    "Now we'll try to learn the model in offline mode (e.g. with one $\\Phi$ matrix update during one path through the whole collection). Let's start with 15 passes:"
   ]
  },
  {
   "cell_type": "code",
   "execution_count": 7,
   "metadata": {
    "collapsed": false
   },
   "outputs": [],
   "source": [
    "model_plsa.fit_offline(batch_vectorizer=batch_vectorizer, num_collection_passes=15, num_document_passes=1)\n",
    "model_artm.fit_offline(batch_vectorizer=batch_vectorizer, num_collection_passes=15, num_document_passes=1)"
   ]
  },
  {
   "cell_type": "markdown",
   "metadata": {},
   "source": [
    "Let's check the results of first part of learning process by comparing the values of scores of both models:"
   ]
  },
  {
   "cell_type": "code",
   "execution_count": 8,
   "metadata": {
    "collapsed": false
   },
   "outputs": [
    {
     "name": "stdout",
     "output_type": "stream",
     "text": [
      "Sparsity Phi: 0.022 (PLSA) vs. 0.605 (ARTM)\n",
      "Sparsity Theta: 0.000 (PLSA) vs. 0.406 (ARTM)\n",
      "Kernel contrast: 0.523 (PLSA) vs. 0.550 (ARTM)\n",
      "Kernel purity: 0.378 (PLSA) vs. 0.452 (ARTM)\n",
      "Perplexity: 1510.217 (PLSA) vs. 1540.619 (ARTM)\n"
     ]
    },
    {
     "data": {
      "image/png": "[encoded data removed]",
      "text/plain": [
       "<matplotlib.figure.Figure at 0x8d33330>"
      ]
     },
     "metadata": {},
     "output_type": "display_data"
    }
   ],
   "source": [
    "def print_measures(model_plsa, model_artm):\n",
    "    print 'Sparsity Phi: {0:.3f} (PLSA) vs. {1:.3f} (ARTM)'.format(\n",
    "        model_plsa.score_tracker['SparsityPhiScore'].last_value,\n",
    "        model_artm.score_tracker['SparsityPhiScore'].last_value)\n",
    "\n",
    "    print 'Sparsity Theta: {0:.3f} (PLSA) vs. {1:.3f} (ARTM)'.format(\n",
    "        model_plsa.score_tracker['SparsityThetaScore'].last_value,\n",
    "        model_artm.score_tracker['SparsityThetaScore'].last_value)\n",
    "\n",
    "    print 'Kernel contrast: {0:.3f} (PLSA) vs. {1:.3f} (ARTM)'.format(\n",
    "        model_plsa.score_tracker['TopicKernelScore'].last_average_contrast,\n",
    "        model_artm.score_tracker['TopicKernelScore'].last_average_contrast)\n",
    "\n",
    "    print 'Kernel purity: {0:.3f} (PLSA) vs. {1:.3f} (ARTM)'.format(\n",
    "        model_plsa.score_tracker['TopicKernelScore'].last_average_purity,\n",
    "        model_artm.score_tracker['TopicKernelScore'].last_average_purity)\n",
    "\n",
    "    print 'Perplexity: {0:.3f} (PLSA) vs. {1:.3f} (ARTM)'.format(\n",
    "        model_plsa.score_tracker['PerplexityScore'].last_value,\n",
    "        model_artm.score_tracker['PerplexityScore'].last_value)\n",
    "\n",
    "    plt.plot(xrange(model_plsa.num_phi_updates), model_plsa.score_tracker['PerplexityScore'].value, 'b--',\n",
    "             xrange(model_artm.num_phi_updates), model_artm.score_tracker['PerplexityScore'].value, 'r--', linewidth=2)\n",
    "    plt.xlabel('Iterations count')\n",
    "    plt.ylabel('PLSA perp. (blue), ARTM perp. (red)')\n",
    "    plt.grid(True)\n",
    "    plt.show()\n",
    "    \n",
    "print_measures(model_plsa, model_artm)"
   ]
  },
  {
   "cell_type": "markdown",
   "metadata": {},
   "source": [
    "We can see, that we have an improvement of sparsities and kernel measures, and the downgrade of the perplexion isn't big. Let's try to increase the absolute values of regularization coefficients:"
   ]
  },
  {
   "cell_type": "code",
   "execution_count": 9,
   "metadata": {
    "collapsed": false
   },
   "outputs": [],
   "source": [
    "model_artm.regularizers['SparsePhi'].tau = -0.2\n",
    "model_artm.regularizers['SparseTheta'].tau = -0.2\n",
    "model_artm.regularizers['DecorrelatorPhi'].tau = 2.5e+5"
   ]
  },
  {
   "cell_type": "markdown",
   "metadata": {},
   "source": [
    "Besides that let's include into each model the TopTokenScore measure, which allows to look at the most probable tokens in each topic:"
   ]
  },
  {
   "cell_type": "code",
   "execution_count": 10,
   "metadata": {
    "collapsed": true
   },
   "outputs": [],
   "source": [
    "model_plsa.scores.add(artm.TopTokensScore(name='TopTokensScore', num_tokens=6))\n",
    "model_artm.scores.add(artm.TopTokensScore(name='TopTokensScore', num_tokens=6))"
   ]
  },
  {
   "cell_type": "markdown",
   "metadata": {},
   "source": [
    "We'll continue the learning process with 25 passes through the collection, and than will look at the values of the scores:"
   ]
  },
  {
   "cell_type": "code",
   "execution_count": 11,
   "metadata": {
    "collapsed": false
   },
   "outputs": [],
   "source": [
    "model_plsa.fit_offline(batch_vectorizer=batch_vectorizer, num_collection_passes=25, num_document_passes=1)\n",
    "model_artm.fit_offline(batch_vectorizer=batch_vectorizer, num_collection_passes=25, num_document_passes=1)"
   ]
  },
  {
   "cell_type": "code",
   "execution_count": 12,
   "metadata": {
    "collapsed": false
   },
   "outputs": [
    {
     "name": "stdout",
     "output_type": "stream",
     "text": [
      "Sparsity Phi: 0.332 (PLSA) vs. 0.740 (ARTM)\n",
      "Sparsity Theta: 0.082 (PLSA) vs. 0.602 (ARTM)\n",
      "Kernel contrast: 0.530 (PLSA) vs. 0.568 (ARTM)\n",
      "Kernel purity: 0.396 (PLSA) vs. 0.531 (ARTM)\n",
      "Perplexity: 1365.804 (PLSA) vs. 1475.455 (ARTM)\n"
     ]
    },
    {
     "data": {
      "image/png": "[encoded data removed]",
      "text/plain": [
       "<matplotlib.figure.Figure at 0xec3fbf0>"
      ]
     },
     "metadata": {},
     "output_type": "display_data"
    }
   ],
   "source": [
    "print_measures(model_plsa, model_artm)"
   ]
  },
  {
   "cell_type": "markdown",
   "metadata": {},
   "source": [
    "Becides let's plot the changes of matrices sparsities by iterations:"
   ]
  },
  {
   "cell_type": "code",
   "execution_count": 13,
   "metadata": {
    "collapsed": false
   },
   "outputs": [
    {
     "data": {
      "image/png": "[encoded data removed]",
      "text/plain": [
       "<matplotlib.figure.Figure at 0x10e20e10>"
      ]
     },
     "metadata": {},
     "output_type": "display_data"
    },
    {
     "data": {
      "image/png": "[encoded data removed]",
      "text/plain": [
       "<matplotlib.figure.Figure at 0x10f36f50>"
      ]
     },
     "metadata": {},
     "output_type": "display_data"
    }
   ],
   "source": [
    "plt.plot(xrange(model_plsa.num_phi_updates), model_plsa.score_tracker['SparsityPhiScore'].value, 'b--',\n",
    "                 xrange(model_artm.num_phi_updates), model_artm.score_tracker['SparsityPhiScore'].value, 'r--', linewidth=2)\n",
    "plt.xlabel('Iterations count')\n",
    "plt.ylabel('PLSA Phi sp. (blue), ARTM Phi sp. (red)')\n",
    "plt.grid(True)\n",
    "plt.show()\n",
    "\n",
    "plt.plot(xrange(model_plsa.num_phi_updates), model_plsa.score_tracker['SparsityThetaScore'].value, 'b--',\n",
    "                 xrange(model_artm.num_phi_updates), model_artm.score_tracker['SparsityThetaScore'].value, 'r--', linewidth=2)\n",
    "plt.xlabel('Iterations count')\n",
    "plt.ylabel('PLSA Theta sp. (blue), ARTM Theta sp. (red)')\n",
    "plt.grid(True)\n",
    "plt.show()"
   ]
  },
  {
   "cell_type": "markdown",
   "metadata": {
    "collapsed": false
   },
   "source": [
    "It seems that achieved result is enough. The regularization helped us to improve all scores with quite small perplexity downgrade. Let's look at top-tokens:"
   ]
  },
  {
   "cell_type": "code",
   "execution_count": 14,
   "metadata": {
    "collapsed": false
   },
   "outputs": [
    {
     "name": "stdout",
     "output_type": "stream",
     "text": [
      "@topic_0:  [u'bush', u'tax', u'states', u'president', u'party', u'political']\n",
      "@topic_1:  [u'iraq', u'war', u'military', u'troops', u'soldiers', u'iraqi']\n",
      "@topic_2:  [u'november', u'poll', u'house', u'governor', u'electoral', u'account']\n",
      "@topic_3:  [u'senate', u'republican', u'race', u'democrats', u'gop', u'republicans']\n",
      "@topic_4:  [u'time', u'people', u'general', u'election', u'speech', u'specter']\n",
      "@topic_5:  [u'dean', u'kerry', u'edwards', u'primary', u'clark', u'democratic']\n",
      "@topic_6:  [u'state', u'race', u'district', u'elections', u'candidate', u'party']\n",
      "@topic_7:  [u'administration', u'bush', u'years', u'president', u'jobs', u'marriage']\n",
      "@topic_8:  [u'campaign', u'dean', u'democratic', u'party', u'media', u'people']\n",
      "@topic_9:  [u'house', u'million', u'republican', u'money', u'delay', u'committee']\n",
      "@topic_10:  [u'november', u'voting', u'vote', u'kerry', u'republicans', u'electoral']\n",
      "@topic_11:  [u'iraq', u'bush', u'war', u'administration', u'president', u'intelligence']\n",
      "@topic_12:  [u'bush', u'poll', u'kerry', u'percent', u'polls', u'voters']\n",
      "@topic_13:  [u'media', u'news', u'time', u'people', u'white', u'house']\n",
      "@topic_14:  [u'bush', u'kerry', u'general', u'president', u'bushs', u'campaign']\n"
     ]
    }
   ],
   "source": [
    "for topic_name in model_plsa.topic_names:\n",
    "    print topic_name + ': ',\n",
    "    print model_plsa.score_tracker['TopTokensScore'].last_topic_info[topic_name].tokens"
   ]
  },
  {
   "cell_type": "code",
   "execution_count": 15,
   "metadata": {
    "collapsed": false
   },
   "outputs": [
    {
     "name": "stdout",
     "output_type": "stream",
     "text": [
      "@topic_0:  [u'party', u'tax', u'political', u'law', u'court', u'issue']\n",
      "@topic_1:  [u'military', u'troops', u'soldiers', u'killed', u'army', u'service']\n",
      "@topic_2:  [u'labor', u'account', u'governor', u'profile', u'poll', u'parecommend']\n",
      "@topic_3:  [u'senate', u'republican', u'gop', u'senator', u'republicans', u'carson']\n",
      "@topic_4:  [u'specter', u'toomey', u'speech', u'signs', u'yesterday', u'workers']\n",
      "@topic_5:  [u'dean', u'edwards', u'clark', u'primary', u'kerry', u'democratic']\n",
      "@topic_6:  [u'race', u'state', u'candidate', u'candidates', u'nader', u'district']\n",
      "@topic_7:  [u'administration', u'years', u'jobs', u'commission', u'white', u'year']\n",
      "@topic_8:  [u'campaign', u'media', u'unions', u'union', u'press', u'endorsement']\n",
      "@topic_9:  [u'house', u'million', u'money', u'delay', u'republican', u'committee']\n",
      "@topic_10:  [u'november', u'vote', u'voting', u'electoral', u'account', u'voter']\n",
      "@topic_11:  [u'iraq', u'war', u'administration', u'iraqi', u'american', u'intelligence']\n",
      "@topic_12:  [u'bush', u'kerry', u'poll', u'general', u'president', u'bushs']\n",
      "@topic_13:  [u'time', u'people', u'media', u'john', u'news', u'political']\n",
      "@topic_14:  [u'percent', u'states', u'voters', u'ohio', u'election', u'voter']\n"
     ]
    }
   ],
   "source": [
    "for topic_name in model_artm.topic_names:\n",
    "    print topic_name + ': ',\n",
    "    print model_artm.score_tracker['TopTokensScore'].last_topic_info[topic_name].tokens"
   ]
  },
  {
   "cell_type": "markdown",
   "metadata": {
    "collapsed": false
   },
   "source": [
    "We can see, that topics are approximatelly equal in terms of interpretability, but they are more different in ARTM."
   ]
  },
  {
   "cell_type": "markdown",
   "metadata": {},
   "source": [
    "Let's extract the $\\Phi$ matrix as pandas.DataFrame and print it (to do this operation with more options use ARTm.get_phi()):"
   ]
  },
  {
   "cell_type": "code",
   "execution_count": 16,
   "metadata": {
    "collapsed": false
   },
   "outputs": [
    {
     "name": "stdout",
     "output_type": "stream",
     "text": [
      "            @topic_0  @topic_1  @topic_2  @topic_3  @topic_4  @topic_5  \\\n",
      "aarp        0.000000  0.000000  0.000000  0.000000  0.000000  0.000000   \n",
      "abandon     0.000350  0.000000  0.000000  0.000239  0.000000  0.000162   \n",
      "abandoned   0.000183  0.000000  0.000036  0.000000  0.000000  0.000044   \n",
      "abandoning  0.000054  0.000000  0.000000  0.000171  0.000000  0.000167   \n",
      "abb         0.000657  0.000000  0.000000  0.000000  0.000000  0.000000   \n",
      "abc         0.000000  0.000000  0.000000  0.000000  0.000000  0.000000   \n",
      "abcs        0.000000  0.000066  0.000000  0.000167  0.000000  0.000000   \n",
      "abdullah    0.000000  0.000000  0.000000  0.000000  0.000000  0.000000   \n",
      "ability     0.000490  0.000000  0.000000  0.000100  0.000000  0.000236   \n",
      "aboard      0.000000  0.000347  0.000000  0.000000  0.000261  0.000000   \n",
      "abortion    0.003113  0.000000  0.000000  0.000417  0.000000  0.000000   \n",
      "abortions   0.000524  0.000000  0.000000  0.000000  0.000000  0.000000   \n",
      "abraham     0.000000  0.000000  0.000000  0.000000  0.000989  0.000000   \n",
      "abrams      0.000000  0.000000  0.000000  0.000000  0.000000  0.000000   \n",
      "abroad      0.000000  0.000702  0.000000  0.000081  0.000311  0.000000   \n",
      "absence     0.000000  0.000000  0.000000  0.000000  0.000000  0.000179   \n",
      "absent      0.000000  0.000000  0.000000  0.000000  0.000000  0.000000   \n",
      "absentee    0.000000  0.000000  0.000206  0.000000  0.000000  0.000000   \n",
      "absolute    0.000000  0.000000  0.000000  0.000000  0.000364  0.000000   \n",
      "absolutely  0.000000  0.000002  0.000000  0.000000  0.000763  0.000049   \n",
      "abstain     0.000000  0.000000  0.000000  0.000000  0.000000  0.000000   \n",
      "absurd      0.000000  0.000000  0.000000  0.000000  0.000000  0.000000   \n",
      "abu         0.000000  0.000103  0.000000  0.000000  0.000000  0.000000   \n",
      "abuse       0.000000  0.000740  0.000000  0.000000  0.000000  0.000000   \n",
      "abuses      0.000000  0.001875  0.000000  0.000000  0.000000  0.000000   \n",
      "academy     0.000251  0.000171  0.000000  0.000000  0.000000  0.000150   \n",
      "accent      0.000000  0.000000  0.000000  0.000000  0.000000  0.000000   \n",
      "accept      0.000000  0.000000  0.000000  0.000000  0.000000  0.000074   \n",
      "acceptable  0.000236  0.000208  0.000043  0.000064  0.000000  0.000000   \n",
      "acceptance  0.000000  0.000000  0.000000  0.000000  0.001041  0.000000   \n",
      "...              ...       ...       ...       ...       ...       ...   \n",
      "yanks       0.000000  0.000000  0.000000  0.000000  0.000000  0.000000   \n",
      "yard        0.000000  0.000000  0.000041  0.000000  0.000000  0.000249   \n",
      "yeah        0.000000  0.000000  0.000000  0.000410  0.001217  0.000000   \n",
      "year        0.001763  0.002559  0.000000  0.000006  0.000000  0.000135   \n",
      "years       0.003812  0.001410  0.000030  0.000000  0.000000  0.000477   \n",
      "yell        0.000000  0.000000  0.000000  0.000000  0.000000  0.000303   \n",
      "yellin      0.000000  0.000000  0.000000  0.000000  0.000000  0.000517   \n",
      "yesterday   0.000000  0.000553  0.000000  0.000426  0.004497  0.000212   \n",
      "yesterdays  0.000000  0.000070  0.000000  0.000046  0.000205  0.000000   \n",
      "yield       0.000123  0.000000  0.000000  0.000000  0.000000  0.000000   \n",
      "york        0.000000  0.000307  0.001702  0.000000  0.002027  0.000000   \n",
      "yorker      0.000051  0.000442  0.000000  0.000000  0.000000  0.000000   \n",
      "yorkers     0.000000  0.000360  0.000000  0.000000  0.000000  0.000000   \n",
      "youd        0.000000  0.000287  0.000000  0.000083  0.000000  0.000000   \n",
      "youll       0.000411  0.000000  0.000083  0.000000  0.000000  0.000171   \n",
      "young       0.000161  0.000813  0.000000  0.000430  0.000591  0.000160   \n",
      "younger     0.000592  0.000000  0.000000  0.000000  0.000000  0.000354   \n",
      "youre       0.000597  0.000000  0.000368  0.000650  0.001955  0.000000   \n",
      "youth       0.000000  0.000000  0.000000  0.000000  0.000573  0.000112   \n",
      "youve       0.000064  0.000000  0.000122  0.000000  0.000952  0.000081   \n",
      "yucca       0.000000  0.000000  0.000000  0.000000  0.000000  0.000000   \n",
      "yup         0.000029  0.000000  0.000000  0.000000  0.000000  0.000000   \n",
      "zahn        0.000000  0.000000  0.000000  0.000000  0.000000  0.000000   \n",
      "zarqawi     0.000000  0.000000  0.000000  0.000000  0.000000  0.000000   \n",
      "zell        0.000000  0.000000  0.000000  0.002560  0.000000  0.000000   \n",
      "zimbabwe    0.000000  0.000323  0.000000  0.000000  0.000000  0.000000   \n",
      "zogby       0.000000  0.000000  0.004862  0.000000  0.000000  0.003687   \n",
      "zogbys      0.000000  0.000000  0.000000  0.000000  0.000000  0.000680   \n",
      "zone        0.000000  0.000907  0.000136  0.000049  0.000000  0.000181   \n",
      "zones       0.000000  0.000395  0.000033  0.000000  0.000000  0.000000   \n",
      "\n",
      "            @topic_6  @topic_7  @topic_8  @topic_9  @topic_10  @topic_11  \\\n",
      "aarp        0.000000  0.000000  0.000000  0.000000   0.000000   0.000000   \n",
      "abandon     0.000152  0.000000  0.000000  0.000000   0.000000   0.000000   \n",
      "abandoned   0.000000  0.000321  0.000054  0.000000   0.000025   0.000000   \n",
      "abandoning  0.000000  0.000000  0.000000  0.000000   0.000000   0.000000   \n",
      "abb         0.000000  0.000000  0.000000  0.000000   0.000000   0.000000   \n",
      "abc         0.000000  0.000000  0.001623  0.000000   0.000059   0.000155   \n",
      "abcs        0.000000  0.000134  0.000000  0.000000   0.000000   0.000000   \n",
      "abdullah    0.000000  0.000000  0.000000  0.000000   0.000000   0.000202   \n",
      "ability     0.001144  0.000000  0.000432  0.000119   0.000088   0.000535   \n",
      "aboard      0.000000  0.000000  0.000000  0.000000   0.000000   0.000000   \n",
      "abortion    0.000000  0.000000  0.000000  0.000000   0.000000   0.000000   \n",
      "abortions   0.000000  0.000000  0.000000  0.000000   0.000000   0.000000   \n",
      "abraham     0.000000  0.000000  0.000000  0.000000   0.000000   0.000000   \n",
      "abrams      0.000000  0.000433  0.000000  0.000000   0.000000   0.000099   \n",
      "abroad      0.000177  0.000439  0.000000  0.000000   0.000000   0.000000   \n",
      "absence     0.000285  0.000000  0.000000  0.000000   0.000074   0.000141   \n",
      "absent      0.000000  0.000149  0.000000  0.000000   0.000100   0.000000   \n",
      "absentee    0.000799  0.000000  0.000000  0.000000   0.000000   0.000000   \n",
      "absolute    0.000093  0.000000  0.000078  0.000000   0.000052   0.000089   \n",
      "absolutely  0.000000  0.000050  0.000176  0.000000   0.000000   0.000000   \n",
      "abstain     0.000000  0.000000  0.000000  0.000000   0.003154   0.000000   \n",
      "absurd      0.000000  0.000000  0.000326  0.000051   0.000000   0.000000   \n",
      "abu         0.000000  0.000000  0.000000  0.000000   0.000000   0.003674   \n",
      "abuse       0.000000  0.000000  0.000000  0.000272   0.000000   0.001229   \n",
      "abuses      0.000000  0.000000  0.000000  0.000000   0.000000   0.000393   \n",
      "academy     0.000000  0.000040  0.000000  0.000000   0.000000   0.000000   \n",
      "accent      0.000000  0.000000  0.000109  0.000000   0.000000   0.000000   \n",
      "accept      0.000000  0.000193  0.000000  0.000420   0.000000   0.000618   \n",
      "acceptable  0.000000  0.000000  0.000000  0.000000   0.000000   0.000000   \n",
      "acceptance  0.000050  0.000000  0.000000  0.000000   0.000000   0.000000   \n",
      "...              ...       ...       ...       ...        ...        ...   \n",
      "yanks       0.000000  0.000000  0.000161  0.000000   0.000000   0.000000   \n",
      "yard        0.000000  0.000000  0.000000  0.000000   0.000000   0.000000   \n",
      "yeah        0.000306  0.000272  0.000565  0.000256   0.000000   0.000264   \n",
      "year        0.001171  0.007419  0.002169  0.002629   0.000000   0.000156   \n",
      "years       0.001371  0.009146  0.000000  0.000484   0.000000   0.000789   \n",
      "yell        0.000000  0.000000  0.000000  0.000000   0.000000   0.000000   \n",
      "yellin      0.000267  0.000000  0.000000  0.000731   0.000147   0.000095   \n",
      "yesterday   0.000000  0.000239  0.000000  0.001537   0.000000   0.000939   \n",
      "yesterdays  0.000000  0.000000  0.000068  0.000000   0.000000   0.000000   \n",
      "yield       0.000098  0.000000  0.000000  0.000000   0.000000   0.000000   \n",
      "york        0.000000  0.000000  0.002198  0.001391   0.000000   0.000352   \n",
      "yorker      0.000000  0.000000  0.000000  0.000000   0.000000   0.000000   \n",
      "yorkers     0.000000  0.000000  0.000000  0.000000   0.000000   0.000000   \n",
      "youd        0.000228  0.000000  0.000289  0.000000   0.000000   0.000000   \n",
      "youll       0.000000  0.000000  0.000854  0.000098   0.000000   0.000083   \n",
      "young       0.000150  0.000000  0.000000  0.000298   0.000000   0.000000   \n",
      "younger     0.000083  0.000000  0.000000  0.000000   0.000000   0.000000   \n",
      "youre       0.000546  0.000000  0.000808  0.000000   0.000000   0.000161   \n",
      "youth       0.000000  0.000000  0.000000  0.000000   0.000000   0.000000   \n",
      "youve       0.000333  0.000000  0.000416  0.000000   0.000000   0.000397   \n",
      "yucca       0.000000  0.000000  0.000000  0.000000   0.000000   0.000000   \n",
      "yup         0.000000  0.000000  0.000000  0.000000   0.000000   0.000050   \n",
      "zahn        0.000000  0.000000  0.000072  0.000000   0.000000   0.000078   \n",
      "zarqawi     0.000000  0.000000  0.000000  0.000000   0.000000   0.000488   \n",
      "zell        0.000000  0.000000  0.000000  0.000000   0.000000   0.000000   \n",
      "zimbabwe    0.000000  0.000000  0.000000  0.000000   0.000000   0.000000   \n",
      "zogby       0.000000  0.000000  0.000000  0.000000   0.000141   0.000000   \n",
      "zogbys      0.000000  0.000000  0.000000  0.000000   0.000000   0.000000   \n",
      "zone        0.000465  0.000000  0.000000  0.000000   0.000000   0.000000   \n",
      "zones       0.000000  0.000000  0.000000  0.000000   0.000000   0.000000   \n",
      "\n",
      "            @topic_12  @topic_13  @topic_14  \n",
      "aarp         0.000000   0.000411   0.000000  \n",
      "abandon      0.000000   0.000000   0.000083  \n",
      "abandoned    0.000000   0.000000   0.000231  \n",
      "abandoning   0.000000   0.000000   0.000270  \n",
      "abb          0.000000   0.000000   0.000000  \n",
      "abc          0.000859   0.000000   0.000228  \n",
      "abcs         0.000149   0.000000   0.000000  \n",
      "abdullah     0.000000   0.000000   0.000000  \n",
      "ability      0.000000   0.000263   0.000000  \n",
      "aboard       0.000000   0.000154   0.000000  \n",
      "abortion     0.000000   0.000000   0.000000  \n",
      "abortions    0.000000   0.000000   0.000000  \n",
      "abraham      0.000000   0.000000   0.000000  \n",
      "abrams       0.000000   0.000000   0.000000  \n",
      "abroad       0.000000   0.000000   0.000000  \n",
      "absence      0.000000   0.000000   0.000008  \n",
      "absent       0.000000   0.000157   0.000174  \n",
      "absentee     0.000000   0.000000   0.000000  \n",
      "absolute     0.000000   0.000315   0.000000  \n",
      "absolutely   0.000136   0.000288   0.000000  \n",
      "abstain      0.000000   0.000000   0.000000  \n",
      "absurd       0.000000   0.000000   0.000000  \n",
      "abu          0.000000   0.000000   0.000000  \n",
      "abuse        0.000000   0.000395   0.000000  \n",
      "abuses       0.000000   0.000000   0.000000  \n",
      "academy      0.000000   0.000000   0.000000  \n",
      "accent       0.000000   0.000040   0.000290  \n",
      "accept       0.000408   0.000000   0.000092  \n",
      "acceptable   0.000000   0.000157   0.000000  \n",
      "acceptance   0.000258   0.000227   0.000000  \n",
      "...               ...        ...        ...  \n",
      "yanks        0.000051   0.000000   0.000256  \n",
      "yard         0.000000   0.000000   0.000224  \n",
      "yeah         0.000421   0.000050   0.000000  \n",
      "year         0.001416   0.000171   0.002756  \n",
      "years        0.000767   0.001817   0.005628  \n",
      "yell         0.000000   0.000000   0.000172  \n",
      "yellin       0.000000   0.000000   0.000000  \n",
      "yesterday    0.000547   0.000000   0.000000  \n",
      "yesterdays   0.000315   0.000253   0.000000  \n",
      "yield        0.000000   0.000306   0.000000  \n",
      "york         0.000368   0.000000   0.003268  \n",
      "yorker       0.000000   0.000000   0.000000  \n",
      "yorkers      0.000000   0.000000   0.000000  \n",
      "youd         0.000022   0.000000   0.000000  \n",
      "youll        0.000022   0.000842   0.000000  \n",
      "young        0.000334   0.001980   0.000000  \n",
      "younger      0.000000   0.000000   0.000000  \n",
      "youre        0.000280   0.002244   0.000660  \n",
      "youth        0.000000   0.000000   0.000000  \n",
      "youve        0.000228   0.001252   0.000000  \n",
      "yucca        0.000000   0.000376   0.000000  \n",
      "yup          0.000119   0.000000   0.000000  \n",
      "zahn         0.000000   0.000000   0.000000  \n",
      "zarqawi      0.000017   0.000000   0.000000  \n",
      "zell         0.000000   0.000042   0.000000  \n",
      "zimbabwe     0.000000   0.000000   0.000000  \n",
      "zogby        0.002645   0.000000   0.000024  \n",
      "zogbys       0.000277   0.000000   0.000000  \n",
      "zone         0.000000   0.000000   0.000000  \n",
      "zones        0.000000   0.000000   0.000000  \n",
      "\n",
      "[6906 rows x 15 columns]\n"
     ]
    }
   ],
   "source": [
    "print model_artm.phi_"
   ]
  },
  {
   "cell_type": "markdown",
   "metadata": {},
   "source": [
    "We can store the model to disk with an ability to reload it:"
   ]
  },
  {
   "cell_type": "code",
   "execution_count": 17,
   "metadata": {
    "collapsed": false
   },
   "outputs": [],
   "source": [
    "model_artm.save(filename='kos_artm_model')  # save the model to disk\n",
    "\n",
    "# model = artm.ARTM(...)                    # create new model\n",
    "# model.load(filename='kos_artm_model')     # load saved model into new instance"
   ]
  },
  {
   "cell_type": "markdown",
   "metadata": {},
   "source": [
    "Let's additionally extract $\\Theta$ mtrix and print it:"
   ]
  },
  {
   "cell_type": "code",
   "execution_count": 18,
   "metadata": {
    "collapsed": false,
    "scrolled": true
   },
   "outputs": [
    {
     "name": "stdout",
     "output_type": "stream",
     "text": [
      "               2001      2002      2003      2004      2005      2006  \\\n",
      "@topic_0   0.067481  0.000000  0.000000  0.000000  0.000000  0.000000   \n",
      "@topic_1   0.000000  0.000000  0.000000  0.207492  0.000000  0.000000   \n",
      "@topic_2   0.000000  0.000000  0.000000  0.000000  0.000000  0.761782   \n",
      "@topic_3   0.008255  0.000000  0.000000  0.000000  0.000000  0.000000   \n",
      "@topic_4   0.000000  0.000000  0.000000  0.098357  0.000000  0.000000   \n",
      "@topic_5   0.100168  0.444500  0.711200  0.015994  0.633351  0.000000   \n",
      "@topic_6   0.020800  0.143583  0.000000  0.000000  0.090034  0.000000   \n",
      "@topic_7   0.000000  0.000000  0.000000  0.293395  0.000000  0.000000   \n",
      "@topic_8   0.071087  0.265716  0.267102  0.000000  0.000000  0.000000   \n",
      "@topic_9   0.660074  0.000000  0.000000  0.118694  0.000000  0.000000   \n",
      "@topic_10  0.014342  0.000000  0.021698  0.000000  0.000000  0.218897   \n",
      "@topic_11  0.000000  0.000000  0.000000  0.056249  0.000000  0.000000   \n",
      "@topic_12  0.057793  0.000000  0.000000  0.000000  0.276615  0.019321   \n",
      "@topic_13  0.000000  0.000000  0.000000  0.054615  0.000000  0.000000   \n",
      "@topic_14  0.000000  0.146202  0.000000  0.155204  0.000000  0.000000   \n",
      "\n",
      "               2007      2008      2009      2010    ...         3421  \\\n",
      "@topic_0   0.000000  0.000000  0.199291  0.000000    ...     0.000000   \n",
      "@topic_1   0.139264  0.000000  0.000000  0.000000    ...     0.312308   \n",
      "@topic_2   0.000000  0.000000  0.000000  0.000000    ...     0.000000   \n",
      "@topic_3   0.000000  0.000000  0.000000  0.000000    ...     0.244082   \n",
      "@topic_4   0.038610  0.000000  0.073896  0.092537    ...     0.000000   \n",
      "@topic_5   0.112434  0.802891  0.022171  0.000000    ...     0.000000   \n",
      "@topic_6   0.416537  0.048166  0.085764  0.000000    ...     0.000000   \n",
      "@topic_7   0.000000  0.000000  0.385716  0.047028    ...     0.000000   \n",
      "@topic_8   0.260371  0.127574  0.024974  0.297582    ...     0.092366   \n",
      "@topic_9   0.032784  0.000000  0.016041  0.000000    ...     0.129875   \n",
      "@topic_10  0.000000  0.021369  0.000000  0.000000    ...     0.000000   \n",
      "@topic_11  0.000000  0.000000  0.136654  0.000000    ...     0.117937   \n",
      "@topic_12  0.000000  0.000000  0.055491  0.047457    ...     0.103432   \n",
      "@topic_13  0.000000  0.000000  0.000000  0.515396    ...     0.000000   \n",
      "@topic_14  0.000000  0.000000  0.000000  0.000000    ...     0.000000   \n",
      "\n",
      "               3422      3423      3424      3425      3426      3427  \\\n",
      "@topic_0   0.000000  0.000000  0.000000  0.000000  0.000000  0.039310   \n",
      "@topic_1   0.088784  0.080694  0.000000  0.000000  0.000000  0.000000   \n",
      "@topic_2   0.009682  0.037034  0.048171  0.000000  0.000000  0.000000   \n",
      "@topic_3   0.000000  0.112404  0.219774  0.000000  0.066308  0.000000   \n",
      "@topic_4   0.101495  0.000000  0.000000  0.000000  0.040677  0.000000   \n",
      "@topic_5   0.000000  0.000000  0.000000  0.000000  0.008462  0.090352   \n",
      "@topic_6   0.000000  0.000000  0.106319  0.041240  0.000000  0.000000   \n",
      "@topic_7   0.000000  0.030733  0.000000  0.000000  0.000000  0.000000   \n",
      "@topic_8   0.000000  0.043644  0.229049  0.000000  0.000000  0.080275   \n",
      "@topic_9   0.000000  0.147402  0.052955  0.000000  0.000000  0.000000   \n",
      "@topic_10  0.691181  0.000000  0.000000  0.000000  0.026972  0.000000   \n",
      "@topic_11  0.000000  0.093647  0.000000  0.077098  0.000000  0.000000   \n",
      "@topic_12  0.108858  0.171321  0.343731  0.667596  0.773543  0.688500   \n",
      "@topic_13  0.000000  0.272353  0.000000  0.133350  0.000000  0.000000   \n",
      "@topic_14  0.000000  0.010770  0.000000  0.080716  0.084038  0.101563   \n",
      "\n",
      "               3428      3429      3430  \n",
      "@topic_0   0.432546  0.430796  0.156186  \n",
      "@topic_1   0.000000  0.000000  0.064176  \n",
      "@topic_2   0.000000  0.000000  0.000000  \n",
      "@topic_3   0.000000  0.316691  0.288642  \n",
      "@topic_4   0.000000  0.000000  0.000000  \n",
      "@topic_5   0.000000  0.000000  0.000000  \n",
      "@topic_6   0.000000  0.029191  0.000000  \n",
      "@topic_7   0.030102  0.000000  0.000000  \n",
      "@topic_8   0.000000  0.000000  0.070009  \n",
      "@topic_9   0.144588  0.000000  0.000000  \n",
      "@topic_10  0.011323  0.000000  0.000000  \n",
      "@topic_11  0.050171  0.067022  0.210310  \n",
      "@topic_12  0.102622  0.156299  0.210677  \n",
      "@topic_13  0.228648  0.000000  0.000000  \n",
      "@topic_14  0.000000  0.000000  0.000000  \n",
      "\n",
      "[15 rows x 3430 columns]\n"
     ]
    }
   ],
   "source": [
    "theta_matrix = model_artm.fit_transform()\n",
    "print theta_matrix"
   ]
  },
  {
   "cell_type": "markdown",
   "metadata": {},
   "source": [
    "Можно использовать модель для определения векторов $\\theta_d$ для новых документов с помощью метода ARTM.transform():"
   ]
  },
  {
   "cell_type": "code",
   "execution_count": 19,
   "metadata": {
    "collapsed": false,
    "scrolled": true
   },
   "outputs": [
    {
     "name": "stdout",
     "output_type": "stream",
     "text": [
      "               3001      3002      3003      3004      3005      3006  \\\n",
      "@topic_0   0.091626  0.051341  0.084178  0.113109  0.062232  0.013974   \n",
      "@topic_1   0.078571  0.042425  0.025621  0.033497  0.044191  0.021204   \n",
      "@topic_2   0.011039  0.044933  0.011057  0.027369  0.036670  0.295919   \n",
      "@topic_3   0.052996  0.039658  0.055971  0.097226  0.060337  0.030398   \n",
      "@topic_4   0.107471  0.063107  0.059513  0.055636  0.037655  0.014663   \n",
      "@topic_5   0.026716  0.028380  0.053424  0.052916  0.058957  0.021769   \n",
      "@topic_6   0.061239  0.046306  0.091071  0.069617  0.064477  0.027188   \n",
      "@topic_7   0.060626  0.072943  0.027753  0.045421  0.034514  0.012981   \n",
      "@topic_8   0.046049  0.036000  0.049218  0.085700  0.039967  0.016622   \n",
      "@topic_9   0.075803  0.373726  0.028326  0.141573  0.185461  0.035030   \n",
      "@topic_10  0.024496  0.027005  0.122641  0.044386  0.050464  0.381458   \n",
      "@topic_11  0.149485  0.050984  0.078244  0.057471  0.081199  0.012682   \n",
      "@topic_12  0.074925  0.050844  0.184449  0.093292  0.119310  0.058822   \n",
      "@topic_13  0.054886  0.042338  0.037857  0.046660  0.091642  0.030833   \n",
      "@topic_14  0.084071  0.030010  0.090676  0.036127  0.032924  0.026456   \n",
      "\n",
      "               3007      3008      3009      3010    ...         3421  \\\n",
      "@topic_0   0.135083  0.040394  0.070500  0.054120    ...     0.053217   \n",
      "@topic_1   0.033187  0.026365  0.031285  0.051316    ...     0.188329   \n",
      "@topic_2   0.014831  0.006156  0.025022  0.015693    ...     0.018047   \n",
      "@topic_3   0.149433  0.111226  0.111084  0.077831    ...     0.117872   \n",
      "@topic_4   0.032542  0.047830  0.035773  0.049776    ...     0.047223   \n",
      "@topic_5   0.035800  0.073704  0.062772  0.052942    ...     0.028251   \n",
      "@topic_6   0.205175  0.289144  0.163030  0.071736    ...     0.051952   \n",
      "@topic_7   0.038034  0.024754  0.042682  0.071886    ...     0.035179   \n",
      "@topic_8   0.025486  0.029871  0.039220  0.064998    ...     0.080373   \n",
      "@topic_9   0.087366  0.194811  0.221564  0.253696    ...     0.078390   \n",
      "@topic_10  0.032463  0.024156  0.032925  0.020051    ...     0.018027   \n",
      "@topic_11  0.045937  0.022048  0.034563  0.049819    ...     0.112073   \n",
      "@topic_12  0.052789  0.052914  0.051892  0.050814    ...     0.074052   \n",
      "@topic_13  0.040613  0.037710  0.032525  0.052787    ...     0.054900   \n",
      "@topic_14  0.071261  0.018918  0.045164  0.062534    ...     0.042118   \n",
      "\n",
      "               3422      3423      3424      3425      3426      3427  \\\n",
      "@topic_0   0.029688  0.056136  0.030656  0.037794  0.033733  0.065057   \n",
      "@topic_1   0.044970  0.083241  0.058157  0.031748  0.010574  0.021766   \n",
      "@topic_2   0.170558  0.040457  0.043998  0.008223  0.040032  0.008721   \n",
      "@topic_3   0.033000  0.092317  0.094547  0.083945  0.057029  0.051220   \n",
      "@topic_4   0.062132  0.037539  0.086836  0.075058  0.061395  0.075814   \n",
      "@topic_5   0.023858  0.039621  0.027054  0.039687  0.074499  0.048541   \n",
      "@topic_6   0.029032  0.037871  0.072648  0.062533  0.051166  0.069541   \n",
      "@topic_7   0.026313  0.064232  0.030583  0.073252  0.056748  0.071994   \n",
      "@topic_8   0.018689  0.070856  0.092027  0.058238  0.043525  0.070542   \n",
      "@topic_9   0.023774  0.085163  0.078939  0.052960  0.026771  0.040209   \n",
      "@topic_10  0.369834  0.015975  0.034444  0.009358  0.061814  0.050535   \n",
      "@topic_11  0.033076  0.084772  0.041239  0.082667  0.040756  0.037102   \n",
      "@topic_12  0.077779  0.103942  0.125025  0.235061  0.308191  0.212962   \n",
      "@topic_13  0.016357  0.131226  0.143185  0.098799  0.036963  0.046091   \n",
      "@topic_14  0.040940  0.056652  0.040662  0.050675  0.096804  0.129903   \n",
      "\n",
      "               3428      3429      3430  \n",
      "@topic_0   0.216935  0.181619  0.083660  \n",
      "@topic_1   0.049587  0.034619  0.071326  \n",
      "@topic_2   0.021753  0.007940  0.009281  \n",
      "@topic_3   0.052247  0.195912  0.143868  \n",
      "@topic_4   0.059768  0.024548  0.047320  \n",
      "@topic_5   0.035378  0.048469  0.042357  \n",
      "@topic_6   0.025609  0.087325  0.068865  \n",
      "@topic_7   0.065516  0.041504  0.054057  \n",
      "@topic_8   0.049607  0.036873  0.074177  \n",
      "@topic_9   0.085877  0.053949  0.037463  \n",
      "@topic_10  0.022597  0.012686  0.010203  \n",
      "@topic_11  0.072966  0.065032  0.134728  \n",
      "@topic_12  0.083369  0.107953  0.133119  \n",
      "@topic_13  0.101585  0.058545  0.052958  \n",
      "@topic_14  0.057206  0.043026  0.036616  \n",
      "\n",
      "[15 rows x 430 columns]\n"
     ]
    }
   ],
   "source": [
    "test_batch_vectorizer = artm.BatchVectorizer(data_format='batches', data_path='kos_test', batches=['test_docs.batch'])\n",
    "test_theta_matrix = model_artm.transform(batch_vectorizer=test_batch_vectorizer)\n",
    "print test_theta_matrix"
   ]
  },
  {
   "cell_type": "markdown",
   "metadata": {},
   "source": [
    "#### Conclusion\n",
    "\n",
    "Topic modeling task has an infinite set of solutions. It gives us a freedom in our choice. Regularizers give an opportunity to get the result, that satisfacts several criteria (such as sparsity, interpretability) at the same time.\n",
    "\n",
    "Showen example is a demonstrative one, one can choose more flexible strategies of regularization to get better result. The experiments with other, bigger collection can be proceeded in the same way as it was described above."
   ]
  }
 ],
 "metadata": {
  "kernelspec": {
   "display_name": "Python 2",
   "language": "python",
   "name": "python2"
  },
  "language_info": {
   "codemirror_mode": {
    "name": "ipython",
    "version": 2
   },
   "file_extension": ".py",
   "mimetype": "text/x-python",
   "name": "python",
   "nbconvert_exporter": "python",
   "pygments_lexer": "ipython2",
   "version": "2.7.10"
  }
 },
 "nbformat": 4,
 "nbformat_minor": 0
}
