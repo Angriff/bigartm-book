{
 "cells": [
  {
   "cell_type": "markdown",
   "metadata": {},
   "source": [
    "#Тематическая модель на данных Last.fm"
   ]
  },
  {
   "cell_type": "markdown",
   "metadata": {
    "collapsed": true
   },
   "source": [
    "###Данные"
   ]
  },
  {
   "cell_type": "markdown",
   "metadata": {},
   "source": [
    "Данные Last.fm брались <a href=http:/www.dtic.upf.edu/~ocelma/MusicRecommendationDataset/lastfm-360K.html> отсюда</a>. Они содержат плейлисты 360 тысяч пользователей с указанием сколько раз каждый юзер слушал музыканта. Эти плейлисты рассматривались как документы в тематической модели, и выделенные темы образовывали различные музыкальные жанры (названия которых я оставлю подобрать читателю)."
   ]
  },
  {
   "cell_type": "markdown",
   "metadata": {
    "collapsed": true
   },
   "source": [
    "###Процесс"
   ]
  },
  {
   "cell_type": "markdown",
   "metadata": {
    "collapsed": true
   },
   "source": [
    "Подключаем все необходимые библиотеки."
   ]
  },
  {
   "cell_type": "code",
   "execution_count": 1,
   "metadata": {
    "collapsed": false
   },
   "outputs": [],
   "source": [
    "from lastfm_util import *\n",
    "import matplotlib.pyplot as plt\n",
    "\n",
    "import artm.artm_model\n",
    "from artm.artm_model import *\n",
    "\n",
    "%matplotlib inline\n",
    "\n",
    "plays_file = 'usersha1-artmbid-artname-plays.tsv' #Название файла с данными"
   ]
  },
  {
   "cell_type": "markdown",
   "metadata": {
    "collapsed": true
   },
   "source": [
    "Теперь надо распарсить коллекцию и подать ее библиотеке. Я использовал свой парсер и создавал вручную батчи в нужном формате."
   ]
  },
  {
   "cell_type": "code",
   "execution_count": 2,
   "metadata": {
    "collapsed": false
   },
   "outputs": [],
   "source": [
    "batch_path, dictionary_path = create_batches(users_to_handle = 5000, users_in_batch = 1000) \n",
    "#Мы обрабатываем только первые 100 тысяч записей и строим батчи по 1000 штук юзеров в каждом"
   ]
  },
  {
   "cell_type": "markdown",
   "metadata": {},
   "source": [
    "Следующий шаг - настоить и запустить bigartm."
   ]
  },
  {
   "cell_type": "markdown",
   "metadata": {
    "collapsed": true
   },
   "source": [
    "Создаем названия главных и фоновых тем, потом настраиваем регуляризаторы и счетчики."
   ]
  },
  {
   "cell_type": "code",
   "execution_count": 3,
   "metadata": {
    "collapsed": false
   },
   "outputs": [],
   "source": [
    "all_topics, objective_topics, background_topics = create_topic_names(200, 5)\n",
    "\n",
    "model = ArtmModel(topic_names=all_topics)\n",
    "model.num_processors = 4\n",
    "\n",
    "#Счетчики\n",
    "model.scores.add(SparsityPhiScore(name='ObjectiveSparsityPhiScore', topic_names=objective_topics))\n",
    "model.scores.add(SparsityThetaScore(name='ObjectiveSparsityThetaScore', topic_names=objective_topics))\n",
    "model.scores.add(PerplexityScore(name='PerplexityScore'))\n",
    "model.scores.add(TopTokensScore(name='TopTokensScore', num_tokens=5))\n",
    "model.scores.add(TopTokensScore(name='TopTokensScoreExtended', num_tokens=20))\n",
    "\n",
    "#Регуляризаторы\n",
    "model.regularizers.add(SmoothSparsePhiRegularizer(name='ObjectiveSparsePhi',\n",
    "                                                  topic_names=objective_topics, tau=-0.1))\n",
    "model.regularizers.add(SmoothSparseThetaRegularizer(name='ObjectiveSparseTheta',\n",
    "                                                    topic_names=objective_topics, tau=-2.0))\n",
    "model.regularizers.add(SmoothSparsePhiRegularizer(name='BackgroundSparsePhi',\n",
    "                                                  topic_names=background_topics, tau=0.1))\n",
    "model.regularizers.add(SmoothSparseThetaRegularizer(name='BackgroundSparseTheta',\n",
    "                                                    topic_names=background_topics, tau=2.0))\n",
    "model.regularizers.add(DecorrelatorPhiRegularizer(name='DecorrelatorPhi',\n",
    "                                                  topic_names=objective_topics, tau=100000.0))\n",
    "\n",
    "model.initialize(data_path=batch_path)"
   ]
  },
  {
   "cell_type": "markdown",
   "metadata": {},
   "source": [
    "Запускаем!"
   ]
  },
  {
   "cell_type": "code",
   "execution_count": 4,
   "metadata": {
    "collapsed": false
   },
   "outputs": [],
   "source": [
    "model.fit_offline(data_path=batch_path, num_collection_passes=15)"
   ]
  },
  {
   "cell_type": "markdown",
   "metadata": {},
   "source": [
    "###Результаты"
   ]
  },
  {
   "cell_type": "markdown",
   "metadata": {},
   "source": [
    "Теперь уже можно порисовать графики и вывести жанры. "
   ]
  },
  {
   "cell_type": "code",
   "execution_count": 5,
   "metadata": {
    "collapsed": false
   },
   "outputs": [
    {
     "data": {
      "image/png": "[encoded data removed]",
      "text/plain": [
       "<matplotlib.figure.Figure at 0x7f390e8acc90>"
      ]
     },
     "metadata": {},
     "output_type": "display_data"
    },
    {
     "data": {
      "image/png": "[encoded data removed]",
      "text/plain": [
       "<matplotlib.figure.Figure at 0x7f390e8acd10>"
      ]
     },
     "metadata": {},
     "output_type": "display_data"
    }
   ],
   "source": [
    "plt.plot(range(model.num_phi_updates), model.scores_info['PerplexityScore'].value, 'r--', linewidth=2)\n",
    "plt.xlabel('Iterations count')\n",
    "plt.ylabel('Perplexity')\n",
    "plt.grid(True)\n",
    "plt.show()\n",
    "\n",
    "plt.plot(range(model.num_phi_updates), model.scores_info['ObjectiveSparsityPhiScore'].value, 'b--',\n",
    "         range(model.num_phi_updates), model.scores_info['ObjectiveSparsityThetaScore'].value, 'r--', linewidth=2)\n",
    "plt.xlabel('Iterations count')\n",
    "plt.ylabel('Objective Phi sparsity, Theta sparsity')\n",
    "plt.grid(True)\n",
    "plt.show()"
   ]
  },
  {
   "cell_type": "code",
   "execution_count": 16,
   "metadata": {
    "collapsed": false
   },
   "outputs": [
    {
     "name": "stdout",
     "output_type": "stream",
     "text": [
      "Genres\n",
      "objective topic 0:  [u'kate nash', u'tellison', u'those dancing days', u'lykke li', u'mystery jets']\n",
      "objective topic 1:  [u'phil ochs', u'the string quartet', u'crosby, stills, nash & young', u'david archuleta', u'hercules and love affair']\n",
      "objective topic 2:  [u'kiuas', u'\\u0410\\u0440\\u0434\\u0430', u'scartown', u'osi', u'disarmonia mundi']\n",
      "objective topic 3:  [u'ufo', u'phil ochs', u'the string quartet', u'crosby, stills, nash & young', u'david archuleta']\n",
      "objective topic 4:  [u'phil ochs', u'the string quartet', u'crosby, stills, nash & young', u'david archuleta', u'hercules and love affair']\n",
      "objective topic 5:  [u'phil ochs', u'the string quartet', u'crosby, stills, nash & young', u'david archuleta', u'hercules and love affair']\n",
      "objective topic 6:  [u'phil ochs', u'the string quartet', u'crosby, stills, nash & young', u'david archuleta', u'hercules and love affair']\n",
      "objective topic 7:  [u'phil ochs', u'the string quartet', u'crosby, stills, nash & young', u'david archuleta', u'hercules and love affair']\n",
      "objective topic 8:  [u'dreamweaver', u'indians', u'sacred spirit', u'medwyn goodall', u'amethystium']\n",
      "objective topic 9:  [u'iron & wine', u'jonathan richman', u'captain beefheart & his magic band', u'fleet foxes', u'el perro del mar']\n",
      "objective topic 10:  [u'ac/dc', u'stam1na', u'volbeat', u'trivium', u'megadeth']\n",
      "objective topic 11:  [u'phil ochs', u'the string quartet', u'crosby, stills, nash & young', u'david archuleta', u'hercules and love affair']\n",
      "objective topic 12:  [u'madredeus', u'a\\u0219a', u'penguin cafe orchestra', u'ravid goldschmidt', u'humanos']\n",
      "objective topic 13:  [u'phil ochs', u'the string quartet', u'crosby, stills, nash & young', u'david archuleta', u'hercules and love affair']\n",
      "objective topic 14:  [u'phil ochs', u'the string quartet', u'crosby, stills, nash & young', u'david archuleta', u'hercules and love affair']\n",
      "objective topic 15:  [u'phil ochs', u'the string quartet', u'crosby, stills, nash & young', u'david archuleta', u'hercules and love affair']\n",
      "objective topic 16:  [u'phil ochs', u'the string quartet', u'crosby, stills, nash & young', u'david archuleta', u'hercules and love affair']\n",
      "objective topic 17:  [u'phil ochs', u'the string quartet', u'crosby, stills, nash & young', u'david archuleta', u'hercules and love affair']\n",
      "objective topic 18:  [u'grease', u'ripsipiirakka', u'kuningas p\\xe4hkin\\xe4 & set\\xe4 tamu', u'genesis', u'jukka poika']\n",
      "objective topic 19:  [u'phil ochs', u'the string quartet', u'crosby, stills, nash & young', u'david archuleta', u'hercules and love affair']\n",
      "objective topic 20:  [u'phil ochs', u'the string quartet', u'crosby, stills, nash & young', u'david archuleta', u'hercules and love affair']\n",
      "objective topic 21:  [u'asa', u'nas', u'charon', u'naglfar', u'tehosekoitin']\n",
      "objective topic 22:  [u'phil ochs', u'the string quartet', u'crosby, stills, nash & young', u'david archuleta', u'hercules and love affair']\n",
      "objective topic 23:  [u'mike oldfield', u'mattafix', u'loreena mckennitt', u'styx', u'joan osborne']\n",
      "objective topic 24:  [u'die \\xc4rzte', u'melissa etheridge', u'juliette & the licks', u'elvenking', u'eluveitie']\n",
      "objective topic 25:  [u'phil ochs', u'the string quartet', u'crosby, stills, nash & young', u'david archuleta', u'hercules and love affair']\n",
      "objective topic 26:  [u'phil ochs', u'the string quartet', u'crosby, stills, nash & young', u'david archuleta', u'hercules and love affair']\n",
      "objective topic 27:  [u'phil ochs', u'the string quartet', u'crosby, stills, nash & young', u'david archuleta', u'hercules and love affair']\n",
      "objective topic 28:  [u'phil ochs', u'the string quartet', u'crosby, stills, nash & young', u'david archuleta', u'hercules and love affair']\n",
      "objective topic 29:  [u'architecture in helsinki', u'aphex twin', u'atmosphere', u'plaid', u'joanna newsom']\n",
      "objective topic 30:  [u'phil ochs', u'the string quartet', u'crosby, stills, nash & young', u'david archuleta', u'hercules and love affair']\n",
      "objective topic 31:  [u'paradise lost', u'phil ochs', u'the string quartet', u'crosby, stills, nash & young', u'david archuleta']\n",
      "objective topic 32:  [u'do as infinity', u'\\u4f34\\u90fd\\u7f8e\\u5b50', u'\\u4e2d\\u5cf6\\u7f8e\\u5609', u'\\u52a0\\u85e4\\u30df\\u30ea\\u30e4', u'\\u5b89\\u826f\\u57ce\\u7d05']\n",
      "objective topic 33:  [u'scar symmetry', u'shadow gallery', u'boney nem', u'norther', u'\\u041e\\u043b\\u044c\\u0432\\u0438']\n",
      "objective topic 34:  [u'phil ochs', u'the string quartet', u'crosby, stills, nash & young', u'david archuleta', u'hercules and love affair']\n",
      "objective topic 35:  [u'the 69 eyes', u'phil ochs', u'the string quartet', u'crosby, stills, nash & young', u'david archuleta']\n",
      "objective topic 36:  [u'mississippi john hurt', u'son house', u'skip james', u'leadbelly', u\"lightnin' hopkins\"]\n",
      "objective topic 37:  [u'phil ochs', u'the string quartet', u'crosby, stills, nash & young', u'david archuleta', u'hercules and love affair']\n",
      "objective topic 38:  [u'afterhours', u'explosions in the sky', u'bruce springsteen', u'asian dub foundation', u'akira kosemura']\n",
      "objective topic 39:  [u'feist', u'garbage', u'kaki king', u'electrelane', u'go!go!7188']\n",
      "objective topic 40:  [u'the blood brothers', u'the postal service', u'the new pornographers', u'mindless self indulgence', u'the faint']\n",
      "objective topic 41:  [u'phil ochs', u'the string quartet', u'crosby, stills, nash & young', u'david archuleta', u'hercules and love affair']\n",
      "objective topic 42:  [u'kimya dawson', u'deichkind', u'die toten hosen', u'marvin gaye & tammi terrell', u'tom jones']\n",
      "objective topic 43:  [u'sentenced', u'shade empire', u'avain', u'phil ochs', u'the string quartet']\n",
      "objective topic 44:  [u'phil ochs', u'the string quartet', u'crosby, stills, nash & young', u'david archuleta', u'hercules and love affair']\n",
      "objective topic 45:  [u'phil ochs', u'the string quartet', u'crosby, stills, nash & young', u'david archuleta', u'hercules and love affair']\n",
      "objective topic 46:  [u'kent', u'against me!', u'timbuktu', u'flogging molly', u'toto']\n",
      "objective topic 47:  [u'phil ochs', u'the string quartet', u'crosby, stills, nash & young', u'david archuleta', u'hercules and love affair']\n",
      "objective topic 48:  [u'phil ochs', u'the string quartet', u'crosby, stills, nash & young', u'david archuleta', u'hercules and love affair']\n",
      "objective topic 49:  [u'phil ochs', u'the string quartet', u'crosby, stills, nash & young', u'david archuleta', u'hercules and love affair']\n",
      "objective topic 50:  [u'the go! team', u'girl talk', u'elizabeth mitchell', u'the band', u'beastie boys']\n",
      "objective topic 51:  [u'my bloody valentine', u'sonic youth', u'tape', u'machinefabriek', u'hood']\n",
      "objective topic 52:  [u'the killers', u'placebo', u's\\xe4kert!', u'detektivbyr\\xe5n', u'lars winnerb\\xe4ck']\n",
      "objective topic 53:  [u'phil ochs', u'the string quartet', u'crosby, stills, nash & young', u'david archuleta', u'hercules and love affair']\n",
      "objective topic 54:  [u'devendra banhart', u'kings of leon', u'the bluetones', u'supergrass', u'pixies']\n",
      "objective topic 55:  [u'skarface', u'mad caddies', u'nofx', u'the planet smashers', u'ska-p']\n",
      "objective topic 56:  [u'phil ochs', u'the string quartet', u'crosby, stills, nash & young', u'david archuleta', u'hercules and love affair']\n",
      "objective topic 57:  [u'camila', u'britney spears', u'acoustic alchemy', u'jazzamor', u'al jarreau']\n",
      "objective topic 58:  [u'phil ochs', u'the string quartet', u'crosby, stills, nash & young', u'david archuleta', u'hercules and love affair']\n",
      "objective topic 59:  [u'pin', u'feel', u'sade', u'belinda carlisle', u'hall & oates']\n",
      "objective topic 60:  [u'phil ochs', u'the string quartet', u'crosby, stills, nash & young', u'david archuleta', u'hercules and love affair']\n",
      "objective topic 61:  [u'phil ochs', u'the string quartet', u'crosby, stills, nash & young', u'david archuleta', u'hercules and love affair']\n",
      "objective topic 62:  [u'current 93', u'coil', u'andrew liles', u'16 horsepower', u'angels of light']\n",
      "objective topic 63:  [u'thompson twins', u'hanson', u'no doubt', u'orchestral manoeuvres in the dark', u'the human league']\n",
      "objective topic 64:  [u'phil ochs', u'the string quartet', u'crosby, stills, nash & young', u'david archuleta', u'hercules and love affair']\n",
      "objective topic 65:  [u'jacks mannequin', u'turin brakes', u'jenny lewis', u'fever ray', u'copeland']\n",
      "objective topic 66:  [u'phil ochs', u'the string quartet', u'crosby, stills, nash & young', u'david archuleta', u'hercules and love affair']\n",
      "objective topic 67:  [u'kaiser chiefs', u'irina', u'phil ochs', u'the string quartet', u'crosby, stills, nash & young']\n",
      "objective topic 68:  [u'phil ochs', u'the string quartet', u'crosby, stills, nash & young', u'david archuleta', u'hercules and love affair']\n",
      "objective topic 69:  [u'phil ochs', u'the string quartet', u'crosby, stills, nash & young', u'david archuleta', u'hercules and love affair']\n",
      "objective topic 70:  [u'phil ochs', u'the string quartet', u'crosby, stills, nash & young', u'david archuleta', u'hercules and love affair']\n",
      "objective topic 71:  [u'phil ochs', u'the string quartet', u'crosby, stills, nash & young', u'david archuleta', u'hercules and love affair']\n",
      "objective topic 72:  [u'madonna', u'hooverphonic', u'helena paparizou', u'shakira', u'evermore']\n",
      "objective topic 73:  [u'the brian jonestown massacre', u'iggy pop', u'phil ochs', u'the string quartet', u'crosby, stills, nash & young']\n",
      "objective topic 74:  [u'phil ochs', u'the string quartet', u'crosby, stills, nash & young', u'david archuleta', u'hercules and love affair']\n",
      "objective topic 75:  [u'trash pour 4', u'paolo conte', u'madeleine peyroux', u'astrud gilberto', u'roberto menescal']\n",
      "objective topic 76:  [u'phil ochs', u'the string quartet', u'crosby, stills, nash & young', u'david archuleta', u'hercules and love affair']\n",
      "objective topic 77:  [u'\\u015eebnem ferah', u'duman', u'teoman', u'anathema', u'ya\\u015far']\n",
      "objective topic 78:  [u'phil ochs', u'the string quartet', u'crosby, stills, nash & young', u'david archuleta', u'hercules and love affair']\n",
      "objective topic 79:  [u'deerhoof', u'fear before the march of flames', u'breathe carolina', u'the honorary title', u'cancer bats']\n",
      "objective topic 80:  [u'sinergy', u'tsjuder', u'carach angren', u'phil ochs', u'the string quartet']\n",
      "objective topic 81:  [u'30 seconds to mars', u'angels & airwaves', u'interpol', u'the dead weather', u'amy winehouse']\n",
      "objective topic 82:  [u'phil ochs', u'the string quartet', u'crosby, stills, nash & young', u'david archuleta', u'hercules and love affair']\n",
      "objective topic 83:  [u'phil ochs', u'the string quartet', u'crosby, stills, nash & young', u'david archuleta', u'hercules and love affair']\n",
      "objective topic 84:  [u'lostprophets', u'the ataris', u'all time low', u'lucky boys confusion', u'four year strong']\n",
      "objective topic 85:  [u'alkaline trio', u'michael armstrong', u'phil ochs', u'the string quartet', u'crosby, stills, nash & young']\n",
      "objective topic 86:  [u'one tree hill', u'kate voegele', u'yellowcard', u'this beautiful republic', u'fm static']\n",
      "objective topic 87:  [u'phil ochs', u'the string quartet', u'crosby, stills, nash & young', u'david archuleta', u'hercules and love affair']\n",
      "objective topic 88:  [u'phil ochs', u'the string quartet', u'crosby, stills, nash & young', u'david archuleta', u'hercules and love affair']\n",
      "objective topic 89:  [u'cannibal corpse', u'phil ochs', u'the string quartet', u'crosby, stills, nash & young', u'david archuleta']\n",
      "objective topic 90:  [u'galneryus', u'powerglove', u'susumu hirasawa', u'supercar', u'europe']\n",
      "objective topic 91:  [u'phil ochs', u'the string quartet', u'crosby, stills, nash & young', u'david archuleta', u'hercules and love affair']\n",
      "objective topic 92:  [u'soundgarden', u'stone temple pilots', u'buckethead', u'alice in chains', u'the cult']\n",
      "objective topic 93:  [u'beck', u'pj harvey', u'deus', u'air', u'carla bruni']\n",
      "objective topic 94:  [u'phil ochs', u'the string quartet', u'crosby, stills, nash & young', u'david archuleta', u'hercules and love affair']\n",
      "objective topic 95:  [u'phil ochs', u'the string quartet', u'crosby, stills, nash & young', u'david archuleta', u'hercules and love affair']\n",
      "objective topic 96:  [u'in extremo', u'soundtrack', u'eisregen', u'phil ochs', u'the string quartet']\n",
      "objective topic 97:  [u'soko', u'reuben', u'alina orlova', u'sounds like violence', u'dear euphoria']\n",
      "objective topic 98:  [u'phil ochs', u'the string quartet', u'crosby, stills, nash & young', u'david archuleta', u'hercules and love affair']\n",
      "objective topic 99:  [u'phil ochs', u'the string quartet', u'crosby, stills, nash & young', u'david archuleta', u'hercules and love affair']\n",
      "objective topic 100:  [u'phil ochs', u'the string quartet', u'crosby, stills, nash & young', u'david archuleta', u'hercules and love affair']\n",
      "objective topic 101:  [u'the magnetic fields', u'devo', u'regina spektor', u'songstowearpantsto.com', u'clap your hands say yeah']\n",
      "objective topic 102:  [u'phil ochs', u'the string quartet', u'crosby, stills, nash & young', u'david archuleta', u'hercules and love affair']\n",
      "objective topic 103:  [u'cyndi lauper', u'the heart throbs', u'noisettes', u'chris rea', u'phil ochs']\n",
      "objective topic 104:  [u'phil ochs', u'the string quartet', u'crosby, stills, nash & young', u'david archuleta', u'hercules and love affair']\n",
      "objective topic 105:  [u'phil ochs', u'the string quartet', u'crosby, stills, nash & young', u'david archuleta', u'hercules and love affair']\n",
      "objective topic 106:  [u'phil ochs', u'the string quartet', u'crosby, stills, nash & young', u'david archuleta', u'hercules and love affair']\n",
      "objective topic 107:  [u'phil ochs', u'the string quartet', u'crosby, stills, nash & young', u'david archuleta', u'hercules and love affair']\n",
      "objective topic 108:  [u'trentem\\xf8ller', u'lamb', u'kylie minogue', u'phil ochs', u'the string quartet']\n",
      "objective topic 109:  [u'phil ochs', u'the string quartet', u'crosby, stills, nash & young', u'david archuleta', u'hercules and love affair']\n",
      "objective topic 110:  [u'phil ochs', u'the string quartet', u'crosby, stills, nash & young', u'david archuleta', u'hercules and love affair']\n",
      "objective topic 111:  [u'the knife', u'the kills', u'kristian anttila', u'phil ochs', u'the string quartet']\n",
      "objective topic 112:  [u'phil ochs', u'the string quartet', u'crosby, stills, nash & young', u'david archuleta', u'hercules and love affair']\n",
      "objective topic 113:  [u'twilight', u'schneider tm', u'b. fleischmann', u'hauschka', u'scott matthew']\n",
      "objective topic 114:  [u'jack johnson', u'linkin park', u'daniel powter', u'take that', u'avril lavigne']\n",
      "objective topic 115:  [u'phil ochs', u'the string quartet', u'crosby, stills, nash & young', u'david archuleta', u'hercules and love affair']\n",
      "objective topic 116:  [u'phil ochs', u'the string quartet', u'crosby, stills, nash & young', u'david archuleta', u'hercules and love affair']\n",
      "objective topic 117:  [u'phil ochs', u'the string quartet', u'crosby, stills, nash & young', u'david archuleta', u'hercules and love affair']\n",
      "objective topic 118:  [u'asobi seksu', u'phil ochs', u'the string quartet', u'crosby, stills, nash & young', u'david archuleta']\n",
      "objective topic 119:  [u'incognito', u'tori amos', u'jazzanova', u'micatone', u'beady belle']\n",
      "objective topic 120:  [u'grave digger', u'running wild', u'primal fear', u'paragon', u'annihilator']\n",
      "objective topic 121:  [u'phil ochs', u'the string quartet', u'crosby, stills, nash & young', u'david archuleta', u'hercules and love affair']\n",
      "objective topic 122:  [u'delicatessen', u'milton banana trio', u'phil ochs', u'the string quartet', u'crosby, stills, nash & young']\n",
      "objective topic 123:  [u'children of bodom', u'godsmack', u'kab\\xe1t', u'nirvana', u'system of a down']\n",
      "objective topic 124:  [u'the features', u'jens lekman', u'hank williams', u'the avett brothers', u'jean-yves thibaudet']\n",
      "objective topic 125:  [u'phil ochs', u'the string quartet', u'crosby, stills, nash & young', u'david archuleta', u'hercules and love affair']\n",
      "objective topic 126:  [u'phil ochs', u'the string quartet', u'crosby, stills, nash & young', u'david archuleta', u'hercules and love affair']\n",
      "objective topic 127:  [u'the black keys', u'the polyphonic spree', u'delirious?', u'jackie mittoo', u'matisyahu']\n",
      "objective topic 128:  [u'the byrds', u'neil young', u'the kinks', u'simon & garfunkel', u'van morrison']\n",
      "objective topic 129:  [u'the rurals', u'jimpster', u'miguel migs', u'kerri chandler', u'fred everything']\n",
      "objective topic 130:  [u'phil ochs', u'the string quartet', u'crosby, stills, nash & young', u'david archuleta', u'hercules and love affair']\n",
      "objective topic 131:  [u'as i lay dying', u'skillet', u'bullet for my valentine', u'atreyu', u'dead by april']\n",
      "objective topic 132:  [u'phil ochs', u'the string quartet', u'crosby, stills, nash & young', u'david archuleta', u'hercules and love affair']\n",
      "objective topic 133:  [u'phil ochs', u'the string quartet', u'crosby, stills, nash & young', u'david archuleta', u'hercules and love affair']\n",
      "objective topic 134:  [u'phil ochs', u'the string quartet', u'crosby, stills, nash & young', u'david archuleta', u'hercules and love affair']\n",
      "objective topic 135:  [u'phil ochs', u'the string quartet', u'crosby, stills, nash & young', u'david archuleta', u'hercules and love affair']\n",
      "objective topic 136:  [u'phil ochs', u'the string quartet', u'crosby, stills, nash & young', u'david archuleta', u'hercules and love affair']\n",
      "objective topic 137:  [u'phil ochs', u'the string quartet', u'crosby, stills, nash & young', u'david archuleta', u'hercules and love affair']\n",
      "objective topic 138:  [u'the varukers', u'antidote', u'devin townsend', u'arcturus', u'mukeka di rato']\n",
      "objective topic 139:  [u'phil ochs', u'the string quartet', u'crosby, stills, nash & young', u'david archuleta', u'hercules and love affair']\n",
      "objective topic 140:  [u'phil ochs', u'the string quartet', u'crosby, stills, nash & young', u'david archuleta', u'hercules and love affair']\n",
      "objective topic 141:  [u'phil ochs', u'the string quartet', u'crosby, stills, nash & young', u'david archuleta', u'hercules and love affair']\n",
      "objective topic 142:  [u'the rolling stones', u'the dandy warhols', u'new order', u'stevie wonder', u'the who']\n",
      "objective topic 143:  [u'e-rotic', u'goo goo dolls', u'maroon 5', u'chorale', u'john legend']\n",
      "objective topic 144:  [u'phil ochs', u'the string quartet', u'crosby, stills, nash & young', u'david archuleta', u'hercules and love affair']\n",
      "objective topic 145:  [u'phil ochs', u'the string quartet', u'crosby, stills, nash & young', u'david archuleta', u'hercules and love affair']\n",
      "objective topic 146:  [u'phil ochs', u'the string quartet', u'crosby, stills, nash & young', u'david archuleta', u'hercules and love affair']\n",
      "objective topic 147:  [u'phil ochs', u'the string quartet', u'crosby, stills, nash & young', u'david archuleta', u'hercules and love affair']\n",
      "objective topic 148:  [u'phil ochs', u'the string quartet', u'crosby, stills, nash & young', u'david archuleta', u'hercules and love affair']\n",
      "objective topic 149:  [u'abstrakt algebra', u'phil ochs', u'the string quartet', u'crosby, stills, nash & young', u'david archuleta']\n",
      "objective topic 150:  [u'phil ochs', u'the string quartet', u'crosby, stills, nash & young', u'david archuleta', u'hercules and love affair']\n",
      "objective topic 151:  [u'phil ochs', u'the string quartet', u'crosby, stills, nash & young', u'david archuleta', u'hercules and love affair']\n",
      "objective topic 152:  [u'phil ochs', u'the string quartet', u'crosby, stills, nash & young', u'david archuleta', u'hercules and love affair']\n",
      "objective topic 153:  [u'zero 7', u't. rex', u'morcheeba', u'jefferson airplane', u'pram']\n",
      "objective topic 154:  [u'jamiroquai', u'acda en de munnik', u'angus & julia stone', u'anouk', u'[unknown]']\n",
      "objective topic 155:  [u'seba', u'phoneheads', u'schandmaul', u'fl\\u0451ur', u'blue man group']\n",
      "objective topic 156:  [u'phil ochs', u'the string quartet', u'crosby, stills, nash & young', u'david archuleta', u'hercules and love affair']\n",
      "objective topic 157:  [u'phil ochs', u'the string quartet', u'crosby, stills, nash & young', u'david archuleta', u'hercules and love affair']\n",
      "objective topic 158:  [u'the adolescents', u'the suspects', u'rancid', u'oxymoron', u'descendents']\n",
      "objective topic 159:  [u'phil ochs', u'the string quartet', u'crosby, stills, nash & young', u'david archuleta', u'hercules and love affair']\n",
      "objective topic 160:  [u'phil ochs', u'the string quartet', u'crosby, stills, nash & young', u'david archuleta', u'hercules and love affair']\n",
      "objective topic 161:  [u'phil ochs', u'the string quartet', u'crosby, stills, nash & young', u'david archuleta', u'hercules and love affair']\n",
      "objective topic 162:  [u'phil ochs', u'the string quartet', u'crosby, stills, nash & young', u'david archuleta', u'hercules and love affair']\n",
      "objective topic 163:  [u'dub fx', u'box car racer', u'zebrahead', u'sum 41', u'paul oakenfold']\n",
      "objective topic 164:  [u'the cramps', u'\\xc9dith piaf', u'the gossip', u'black lips', u'phil ochs']\n",
      "objective topic 165:  [u'phil ochs', u'the string quartet', u'crosby, stills, nash & young', u'david archuleta', u'hercules and love affair']\n",
      "objective topic 166:  [u'the birthday', u'halfby', u'beat crusaders', u'i am robot and proud', u'halcali']\n",
      "objective topic 167:  [u'stereolab', u'koushik', u'gang gang dance', u'hercules and love affair', u'todd rundgren']\n",
      "objective topic 168:  [u'phil ochs', u'the string quartet', u'crosby, stills, nash & young', u'david archuleta', u'hercules and love affair']\n",
      "objective topic 169:  [u'phil ochs', u'the string quartet', u'crosby, stills, nash & young', u'david archuleta', u'hercules and love affair']\n",
      "objective topic 170:  [u'phil ochs', u'the string quartet', u'crosby, stills, nash & young', u'david archuleta', u'hercules and love affair']\n",
      "objective topic 171:  [u'misfits', u'joy division', u\"master's hammer\", u'rubella ballet', u'cauda pavonis']\n",
      "objective topic 172:  [u'ocean colour scene', u'inspiral carpets', u'delays', u'phil ochs', u'the string quartet']\n",
      "objective topic 173:  [u'phil ochs', u'the string quartet', u'crosby, stills, nash & young', u'david archuleta', u'hercules and love affair']\n",
      "objective topic 174:  [u'phil ochs', u'the string quartet', u'crosby, stills, nash & young', u'david archuleta', u'hercules and love affair']\n",
      "objective topic 175:  [u'amon tobin', u'four tet', u'justice', u'clutch', u'white denim']\n",
      "objective topic 176:  [u'duncan dhu', u'herman d\\xfcne', u'schiller', u'philippe vachey', u'notre-dame de paris']\n",
      "objective topic 177:  [u'phil ochs', u'the string quartet', u'crosby, stills, nash & young', u'david archuleta', u'hercules and love affair']\n",
      "objective topic 178:  [u'phil ochs', u'the string quartet', u'crosby, stills, nash & young', u'david archuleta', u'hercules and love affair']\n",
      "objective topic 179:  [u'phil ochs', u'the string quartet', u'crosby, stills, nash & young', u'david archuleta', u'hercules and love affair']\n",
      "objective topic 180:  [u'jessica simpson', u'phil ochs', u'the string quartet', u'crosby, stills, nash & young', u'david archuleta']\n",
      "objective topic 181:  [u'phil ochs', u'the string quartet', u'crosby, stills, nash & young', u'david archuleta', u'hercules and love affair']\n",
      "objective topic 182:  [u'phil ochs', u'the string quartet', u'crosby, stills, nash & young', u'david archuleta', u'hercules and love affair']\n",
      "objective topic 183:  [u'moderndog', u'black eyed peas', u'boyd kosiyabong', u'yokee playboy', u'jim gaffigan']\n",
      "objective topic 184:  [u'phil ochs', u'the string quartet', u'crosby, stills, nash & young', u'david archuleta', u'hercules and love affair']\n",
      "objective topic 185:  [u'phil ochs', u'the string quartet', u'crosby, stills, nash & young', u'david archuleta', u'hercules and love affair']\n",
      "objective topic 186:  [u'steve earle', u'uncle tupelo', u'billy bragg', u'beth orton', u'lisa miller']\n",
      "objective topic 187:  [u'phil ochs', u'the string quartet', u'crosby, stills, nash & young', u'david archuleta', u'hercules and love affair']\n",
      "objective topic 188:  [u'eric clapton', u'carole king', u'nickel creek', u'joni mitchell', u'joan armatrading']\n",
      "objective topic 189:  [u'phil ochs', u'the string quartet', u'crosby, stills, nash & young', u'david archuleta', u'hercules and love affair']\n",
      "objective topic 190:  [u'phil ochs', u'the string quartet', u'crosby, stills, nash & young', u'david archuleta', u'hercules and love affair']\n",
      "objective topic 191:  [u'phil ochs', u'the string quartet', u'crosby, stills, nash & young', u'david archuleta', u'hercules and love affair']\n",
      "objective topic 192:  [u'phil ochs', u'the string quartet', u'crosby, stills, nash & young', u'david archuleta', u'hercules and love affair']\n",
      "objective topic 193:  [u'orson', u'disco ensemble', u'goodbooks', u'feeder', u'sunrise avenue']\n",
      "objective topic 194:  [u'phil ochs', u'the string quartet', u'crosby, stills, nash & young', u'david archuleta', u'hercules and love affair']\n",
      "Background genres\n",
      "background topic 0:  [u'radiohead', u'blink-182', u'metallica', u'rilo kiley', u'death cab for cutie']\n",
      "background topic 1:  [u'radiohead', u'kingston wall', u'arctic monkeys', u'the beatles', u'sigur r\\xf3s']\n",
      "background topic 2:  [u'radiohead', u'johnny cash', u'nick cave & the bad seeds', u'rock universal', u'david & the citizens']\n",
      "background topic 3:  [u'they might be giants', u'queen', u'bob dylan', u'the beatles', u'u2']\n",
      "background topic 4:  [u'the most serene republic', u'nine inch nails', u'stars', u'3 na bossa', u'broken social scene']\n"
     ]
    }
   ],
   "source": [
    "print_genres(model, objective_topics, background_topics)"
   ]
  },
  {
   "cell_type": "markdown",
   "metadata": {},
   "source": [
    "Дальше мы можем по этой тематической модели искать похожих артистов и давать рекомендации пользователям."
   ]
  },
  {
   "cell_type": "markdown",
   "metadata": {},
   "source": [
    "Например, найдем похожих артистов для Metallica, Green day и Beatles. "
   ]
  },
  {
   "cell_type": "code",
   "execution_count": 17,
   "metadata": {
    "collapsed": false
   },
   "outputs": [
    {
     "name": "stdout",
     "output_type": "stream",
     "text": [
      "Mettalica\n",
      "Green day\n",
      "Beatles\n"
     ]
    }
   ],
   "source": [
    "print \"Mettalica\"\n",
    "for musician in find_similar_musicians(model, \"metallica\", 5, objective_topics):\n",
    "    print musician[0], musician[1]\n",
    "print \"Green day\"\n",
    "for musician in find_similar_musicians(model, \"green day\", 5, objective_topics):\n",
    "    print musician[0], musician[1]\n",
    "print \"Beatles\"\n",
    "for musician in find_similar_musicians(model, \"the beatles\", 5, objective_topics):\n",
    "    print musician[0], musician[1]"
   ]
  },
  {
   "cell_type": "code",
   "execution_count": 8,
   "metadata": {
    "collapsed": false
   },
   "outputs": [
    {
     "name": "stdout",
     "output_type": "stream",
     "text": [
      "User's top musicians\n",
      "0.0837137118861 radiohead\n",
      "0.0588825999635 the knife\n",
      "0.0555048384152 the hives\n",
      "0.0298521088187 yeah yeah yeahs\n",
      "0.026839510681 phoenix\n",
      "\n",
      "Recommendations\n",
      "0.00305446515099 sigur rós\n",
      "0.00123349494476 muse\n",
      "0.00122201632214 björk\n",
      "0.00109000139401 blur\n",
      "0.000938436419917 tool\n"
     ]
    }
   ],
   "source": [
    "def print_user_info(user_id, top_musicians_count):\n",
    "    for match in sorted([(match[1], match[0]) for match in users[user_id].items()], reverse=True)[:top_musicians_count]:\n",
    "        print match[0], match[1]\n",
    "    \n",
    "def recommend_musicians(model, user_id, top_musicians_count, objective_topics):\n",
    "    top_matches = {}\n",
    "    \n",
    "    user_topic = users[user_id]\n",
    "\n",
    "    for topic in objective_topics:\n",
    "        topic_musicians = model.scores_info['TopTokensScoreExtended'].last_topic_info[topic].tokens\n",
    "        topic_weights = model.scores_info['TopTokensScoreExtended'].last_topic_info[topic].weights\n",
    "        \n",
    "        user_score = 0\n",
    "        for musician in topic_musicians:\n",
    "            if musician in user_topic:\n",
    "                user_score += user_topic[musician] * topic_weights[topic_musicians.index(musician)]\n",
    "        \n",
    "        for musician in topic_musicians:\n",
    "            if musician not in user_topic:\n",
    "                if musician in top_matches:\n",
    "                    top_matches[musician] += user_score * topic_weights[topic_musicians.index(musician)]\n",
    "                else:\n",
    "                    top_matches[musician] = user_score * topic_weights[topic_musicians.index(musician)]\n",
    "\n",
    "    return sorted([(match[1], match[0]) for match in top_matches.items()], reverse=True)[:top_musicians_count]\n",
    "\n",
    "user_id = \"000710d4dff11af267edd2f70bf54e7678bdd729\"\n",
    "print \"User's top musicians\"\n",
    "print_user_info(user_id, 5)\n",
    "    \n",
    "print\n",
    "\n",
    "print \"Recommendations\"\n",
    "for musician in recommend_musicians(model, user_id, 5, objective_topics):\n",
    "    print musician[0], musician[1]\n"
   ]
  },
  {
   "cell_type": "code",
   "execution_count": 6,
   "metadata": {
    "collapsed": false
   },
   "outputs": [],
   "source": [
    "import visualization_ldavis as visualization\n",
    "visualizer = visualization.ArtmModelVisualizer(model, dictionary_path=dictionary_path)\n",
    "visualizer"
   ]
  }
 ],
 "metadata": {
  "kernelspec": {
   "display_name": "Python 2",
   "language": "python",
   "name": "python2"
  },
  "language_info": {
   "codemirror_mode": {
    "name": "ipython",
    "version": 2
   },
   "file_extension": ".py",
   "mimetype": "text/x-python",
   "name": "python",
   "nbconvert_exporter": "python",
   "pygments_lexer": "ipython2",
   "version": "2.7.9"
  }
 },
 "nbformat": 4,
 "nbformat_minor": 0
}
