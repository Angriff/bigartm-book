{
 "cells": [
  {
   "cell_type": "markdown",
   "metadata": {},
   "source": [
    "# Формулировка проблемы\n",
    "\n",
    "Low-level wrapper для Python должен являться **биндингом** имеющегося API в Питон, учитывающим паттерны программирования в Питоне. При этом он не должен являться самостоятельной библиотекой, требующей поддержки и диктующей свои правила, как это происходит с существующий Low-level Python API.\n",
    "\n",
    "В идеале:\n",
    "  - человек по [документации C-API](http://docs.bigartm.org/en/latest/ref/c_interface.html) должен без дополнительных знаний брать и пользоваться оберткой в питоне\n",
    "  - при изменении C-API необходимо мимнимум правок в Python-обертку\n",
    "  - у пользователя не должно быть попоболи от жутких конструкций, не свойственных Python\n",
    "  \n",
    "Предлагаемое решение:\n",
    "Обертка C-API для питона должна генерироваться автоматчиески по достаточно простому описанию. Обертка выполняется в виде одного небольшого модуля (не более 1к строк, лучше — меньше), содержащего класс `LibArtm`. \n",
    "\n",
    "На основе Low-level wrapper будет строиться удобная python-библиотека для тематического моделирования (реализация `ArtmModel`)."
   ]
  },
  {
   "cell_type": "markdown",
   "metadata": {},
   "source": [
    "# Использование C-API напрямую"
   ]
  },
  {
   "cell_type": "code",
   "execution_count": 1,
   "metadata": {
    "collapsed": true
   },
   "outputs": [],
   "source": [
    "import ctypes\n",
    "from artm import messages_pb2"
   ]
  },
  {
   "cell_type": "markdown",
   "metadata": {},
   "source": [
    "# Сообщения об ошибках"
   ]
  },
  {
   "cell_type": "code",
   "execution_count": 35,
   "metadata": {
    "collapsed": true
   },
   "outputs": [],
   "source": [
    "ARTM_SUCCESS = 0\n",
    "ARTM_STILL_WORKING = -1\n",
    "\n",
    "class ArtmException(BaseException): pass\n",
    "\n",
    "class InternalError(ArtmException): pass\n",
    "class ArgumentOutOfRangeException(ArtmException): pass\n",
    "class InvalidMasterIdException(ArtmException): pass\n",
    "class CorruptedMessageException(ArtmException): pass\n",
    "class InvalidOperationException(ArtmException): pass\n",
    "class DiskReadException(ArtmException): pass\n",
    "class DiskWriteException(ArtmException): pass\n",
    "\n",
    "ARTM_EXCEPTION_BY_CODE = {\n",
    "    -2: InternalError,\n",
    "    -3: ArgumentOutOfRangeException,\n",
    "    -4: InvalidMasterIdException,\n",
    "    -5: CorruptedMessageException,\n",
    "    -6: InvalidOperationException,\n",
    "    -7: DiskReadException,\n",
    "    -8: DiskWriteException,\n",
    "}"
   ]
  },
  {
   "cell_type": "markdown",
   "metadata": {},
   "source": [
    "# Обертка для удобного вызова низкоуровнего API"
   ]
  },
  {
   "cell_type": "code",
   "execution_count": 46,
   "metadata": {
    "collapsed": false
   },
   "outputs": [],
   "source": [
    "import ctypes\n",
    "from google import protobuf\n",
    "from artm import messages_pb2\n",
    "\n",
    "class LibArtm(object):\n",
    "    \n",
    "    def __init__(self, lib_name):\n",
    "        self.cdll = ctypes.CDLL(lib_name)\n",
    "        \n",
    "    def __getattr__(self, name):\n",
    "        func = getattr(self.cdll, name)\n",
    "        if func is None:\n",
    "            raise AttributeError('%s is not a function of libartm' % name)\n",
    "        return self._wrap_call(func)\n",
    "    \n",
    "    def _check_error(self, error_code):\n",
    "        if error_code < -1:\n",
    "            lib.cdll.ArtmGetLastErrorMessage.restype = ctypes.c_char_p\n",
    "            error_message = lib.cdll.ArtmGetLastErrorMessage()\n",
    "            \n",
    "            # remove exception name from error message\n",
    "            error_message = error_message.split(':', 1)[-1].strip()\n",
    "            \n",
    "            exception_class = ARTM_EXCEPTION_BY_CODE.get(error_code)\n",
    "            if exception_class is not None:\n",
    "                raise exception_class(error_message)\n",
    "            else:\n",
    "                raise RuntimeError(error_message)\n",
    "    \n",
    "    def _wrap_call(self, func):\n",
    "        def artm_api_call(*args):\n",
    "            cargs = []\n",
    "            for arg in args:\n",
    "                if isinstance(arg, basestring):\n",
    "                    arg_cstr_p = ctypes.create_string_buffer(arg)\n",
    "                    cargs.append(arg_cstr_p)\n",
    "                    \n",
    "                elif isinstance(arg, protobuf.message.Message):\n",
    "                    message_str = arg.SerializeToString()\n",
    "                    message_cstr_p = ctypes.create_string_buffer(message_str)\n",
    "                    cargs += [len(message_str), message_cstr_p]\n",
    "                    \n",
    "                else:\n",
    "                    cargs.append(arg)\n",
    "            \n",
    "            result = func(*cargs)\n",
    "            self._check_error(result)\n",
    "            return result\n",
    "        \n",
    "        return artm_api_call\n",
    "            \n",
    "    def _copy_request_result(self, length):\n",
    "        message_blob = ctypes.create_string_buffer(length)\n",
    "        error_code = self.lib_.ArtmCopyRequestResult(length, message_blob)\n",
    "        self._check_error(error_code)\n",
    "        return message_blob\n",
    "        "
   ]
  },
  {
   "cell_type": "code",
   "execution_count": 47,
   "metadata": {
    "collapsed": true
   },
   "outputs": [],
   "source": [
    "lib = LibArtm('build/src/artm/libartm.dylib')"
   ]
  },
  {
   "cell_type": "code",
   "execution_count": 49,
   "metadata": {
    "collapsed": false
   },
   "outputs": [],
   "source": [
    "config = messages_pb2.MasterComponentConfig()\n",
    "config.processors_count = -1\n",
    "\n",
    "master_id = lib.ArtmCreateMasterComponent(config)"
   ]
  },
  {
   "cell_type": "code",
   "execution_count": 50,
   "metadata": {
    "collapsed": false
   },
   "outputs": [
    {
     "data": {
      "text/plain": [
       "0"
      ]
     },
     "execution_count": 50,
     "metadata": {},
     "output_type": "execute_result"
    }
   ],
   "source": [
    "lib.ArtmCreateModel(master_id, messages_pb2.ModelConfig())"
   ]
  },
  {
   "cell_type": "markdown",
   "metadata": {},
   "source": [
    "# Спецификация API и автоматическая генерация обертки\n",
    "\n",
    "Модификация обертки, приведенной выше, решает следующие задачи:\n",
    "\n",
    " - Автоматическа проверка аргументов\n",
    " - Осмысленное возвращаемое значение: \n",
    "   - `ArtmCreateMasterComponent` возвращает `int`\n",
    "   - функции вроде `ArtmRequestThetaMatrix` возвращают сообщение\n",
    "   - функции без возвращаемого знвчения возвращают `None` (вместо `ARTM_SUCCESS`)\n",
    " - Автодокументирование: при вызове справки, отображается нормальная спецификация функции\n",
    " - Быстрое создание сообщений: вместо сообщения можно передать `dict`, который умным образом преобразуется в соответствующее сообщение (гораздо удобнее в питоне)"
   ]
  },
  {
   "cell_type": "markdown",
   "metadata": {},
   "source": [
    "##### Вводим элементы языка, которыми будет описано API"
   ]
  },
  {
   "cell_type": "code",
   "execution_count": 52,
   "metadata": {
    "collapsed": true
   },
   "outputs": [],
   "source": [
    "class CallSpec(object):\n",
    "    def __init__(self, name, arguments, result=None):\n",
    "        self.name_ = name\n",
    "        self.arguments_ = arguments\n",
    "        self.result_ = result\n",
    "        \n",
    "class Arguments(object):\n",
    "    def __init__(self, **kwargs):\n",
    "        self.fields = [\n",
    "            (name, type_)\n",
    "            for name, type_ in kwargs.iteritems()\n",
    "        ]"
   ]
  },
  {
   "cell_type": "markdown",
   "metadata": {},
   "source": [
    "##### Описываем API при помощи специального dsl\n",
    "\n",
    "Список `ARTM_API` нужно будет редактировать при изменении low-level API. Заметьте: необходимо будет минимальное число правок, в отличие от существующего `artm.library`.\n",
    "\n",
    "Некоторые функции из API объявляются _специальными_, для них по понятной причине не делается обертка:\n",
    "  - `ArtmGetLastErrorMessage`\n",
    "  - `ArtmCopyRequestResult`"
   ]
  },
  {
   "cell_type": "code",
   "execution_count": 53,
   "metadata": {
    "collapsed": false
   },
   "outputs": [],
   "source": [
    "ARTM_API = [\n",
    "    CallSpec(\n",
    "        'ArtmCreateMasterComponent', \n",
    "        Arguments(config=messages_pb2.MasterComponentConfig), \n",
    "        int,\n",
    "    ),\n",
    "    CallSpec(\n",
    "        'ArtmReconfigureMasterComponent',\n",
    "        Arguments(master_id=int, config=messages_pb2.MasterComponentConfig),\n",
    "    ),\n",
    "    CallSpec(\n",
    "        'ArtmDisposeMasterComponent',\n",
    "        Arguments(master_id=int),\n",
    "    ),\n",
    "    CallSpec(\n",
    "        'ArtmCreateModel',\n",
    "        Arguments(master_id=int, config=messages_pb2.ModelConfig),\n",
    "    ),\n",
    "    CallSpec(\n",
    "        'ArtmReconfigureModel',\n",
    "        Arguments(master_id=int, config=messages_pb2.ModelConfig),\n",
    "    ),\n",
    "    CallSpec(\n",
    "        'ArtmDisposeModel',\n",
    "        Arguments(master_id=int, name=str),\n",
    "    ),\n",
    "    CallSpec(\n",
    "        'ArtmCreateRegularizer',\n",
    "        Arguments(master_id=int, config=messages_pb2.RegularizerConfig),\n",
    "    ),\n",
    "    CallSpec(\n",
    "        'ArtmReconfigureRegularizer',\n",
    "        Arguments(master_id=int, config=messages_pb2.RegularizerConfig),\n",
    "    ),\n",
    "    CallSpec(\n",
    "        'ArtmDisposeRegularizer',\n",
    "        Arguments(master_id=int, name=str),\n",
    "    ),\n",
    "    CallSpec(\n",
    "        'ArtmCreateDictionary',\n",
    "        Arguments(master_id=int, config=messages_pb2.DictionaryConfig),\n",
    "    ),\n",
    "    CallSpec(\n",
    "        'ArtmReconfigureDictionary',\n",
    "        Arguments(master_id=int, config=messages_pb2.DictionaryConfig),\n",
    "    ),\n",
    "    CallSpec(\n",
    "        'ArtmDisposeDictionary',\n",
    "        Arguments(master_id=int, name=str),\n",
    "    ),\n",
    "    CallSpec(\n",
    "        'ArtmAddBatch',\n",
    "        Arguments(master_id=int, args=messages_pb2.AddBatchArgs),\n",
    "    ),\n",
    "    CallSpec(\n",
    "        'ArtmInvokeIteration',\n",
    "        Arguments(master_id=int, args=messages_pb2.InvokeIterationArgs),\n",
    "    ),\n",
    "    CallSpec(\n",
    "        'ArtmSynchronizeModel',\n",
    "        Arguments(master_id=int, args=messages_pb2.SynchronizeModelArgs),\n",
    "    ),\n",
    "    CallSpec(\n",
    "        'ArtmInitializeModel',\n",
    "        Arguments(master_id=int, args=messages_pb2.InitializeModelArgs),\n",
    "    ),\n",
    "    CallSpec(\n",
    "        'ArtmExportModel',\n",
    "        Arguments(master_id=int, args=messages_pb2.ExportModelArgs),\n",
    "    ),\n",
    "    CallSpec(\n",
    "        'ArtmImportModel',\n",
    "        Arguments(master_id=int, args=messages_pb2.ImportModelArgs),\n",
    "    ),\n",
    "    CallSpec(\n",
    "        'ArtmWaitIdle',\n",
    "        Arguments(master_id=int, args=messages_pb2.WaitIdleArgs),\n",
    "    ),\n",
    "    CallSpec(\n",
    "        'ArtmOverwriteTopicModel',\n",
    "        Arguments(master_id=int, model=messages_pb2.TopicModel),\n",
    "    ),\n",
    "    CallSpec(\n",
    "        'ArtmRequestThetaMatrix',\n",
    "        Arguments(master_id=int, args=messages_pb2.GetThetaMatrixArgs),\n",
    "        messages_pb2.ThetaMatrix,\n",
    "    ),\n",
    "    CallSpec(\n",
    "        'ArtmRequestTopicModel',\n",
    "        Arguments(master_id=int, args=messages_pb2.GetTopicModelArgs),\n",
    "        messages_pb2.TopicModel,\n",
    "    ),\n",
    "    CallSpec(\n",
    "        'ArtmRequestRegularizerState',\n",
    "        Arguments(master_id=int, name=str),\n",
    "        messages_pb2.RegularizerInternalState,\n",
    "    ),\n",
    "    CallSpec(\n",
    "        'ArtmRequestScore',\n",
    "        Arguments(master_id=int, args=messages_pb2.GetScoreValueArgs),\n",
    "        messages_pb2.ScoreData,\n",
    "    ),\n",
    "    CallSpec(\n",
    "        'ArtmRequestParseCollection',\n",
    "        Arguments(args=messages_pb2.CollectionParserConfig),\n",
    "        messages_pb2.DictionaryConfig,\n",
    "    ),\n",
    "    CallSpec(\n",
    "        'ArtmRequestLoadDictionary',\n",
    "        Arguments(filename=str),\n",
    "        messages_pb2.DictionaryConfig,\n",
    "    ),\n",
    "    CallSpec(\n",
    "        'ArtmRequestLoadBatch',\n",
    "        Arguments(filename=str),\n",
    "        messages_pb2.Batch,\n",
    "    ),\n",
    "    CallSpec(\n",
    "        'ArtmSaveBatch',\n",
    "        Arguments(filename=str, batch=messages_pb2.Batch),\n",
    "        ErrorCode,\n",
    "    ),\n",
    "    CallSpec(\n",
    "        'ArtmSaveBatch',\n",
    "        Arguments(filename=str, batch=messages_pb2.Batch),\n",
    "        ErrorCode,\n",
    "    ),\n",
    "]"
   ]
  },
  {
   "cell_type": "markdown",
   "metadata": {},
   "source": [
    "##### Объект класса `LibArtm` при помощи `__getattr__` автоматически создает обертки над вызовами API"
   ]
  },
  {
   "cell_type": "code",
   "execution_count": null,
   "metadata": {
    "collapsed": true
   },
   "outputs": [],
   "source": [
    "class LibArtm(object):\n",
    "    pass # TODO"
   ]
  }
 ],
 "metadata": {
  "kernelspec": {
   "display_name": "Python 2",
   "language": "python",
   "name": "python2"
  },
  "language_info": {
   "codemirror_mode": {
    "name": "ipython",
    "version": 2
   },
   "file_extension": ".py",
   "mimetype": "text/x-python",
   "name": "python",
   "nbconvert_exporter": "python",
   "pygments_lexer": "ipython2",
   "version": "2.7.8"
  }
 },
 "nbformat": 4,
 "nbformat_minor": 0
}
