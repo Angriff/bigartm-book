{
 "cells": [
  {
   "cell_type": "markdown",
   "metadata": {},
   "source": [
    "## Построение тематической модели классификации коллекции EUR-lex."
   ]
  },
  {
   "cell_type": "markdown",
   "metadata": {},
   "source": [
    "### Мурат Апишев, great-mel@yandex.ru"
   ]
  },
  {
   "cell_type": "markdown",
   "metadata": {},
   "source": [
    "#### Описание эксперимента и датасета"
   ]
  },
  {
   "cell_type": "markdown",
   "metadata": {},
   "source": [
    "В данном эксперименте мы будем строить тематическую модель коллекции EUR-lex, в которой имеются две модальности --- слова и метки классов. Она имеет следующие характеристики (после предобработки):\n",
    "- 20000 документов, около 18000 разбитых в батчи обучающей выборки по 1000 штук, и примерно 1950 лежащих в отдельном тестовом батче;\n",
    "- 21000 слов в словаре после предобработки;\n",
    "- 3900 меток классов;\n",
    "- каждый документ относится в среднем к 3-6 классам.\n",
    "\n",
    "Цель эксперимента --- построить качественную тематическую модель классификации. Критериями качества являются:\n",
    "- площадь под ROC-кривой (AUC-ROC)\n",
    "- площадь под кривой precision-recall (AUC-PR)\n",
    "- доля документов, у которых самая вероятная метка класса оказалась неверной (OneError)\n",
    "- доля документов, которые не были классифицированы идеально (IsError)\n",
    "- средняя точность: для каждой верной метки считается доля верных меток, ранжированных выше, после чего происходит усреднение внутри документа и по всем документам (AverPrec). \n",
    "\n",
    "AUC-характеристики считаются между вектором вероятностей классов и вектором верных ответов для одного документа, после чего происходит усреднение по всем документам.\n",
    "\n",
    "Все описанные величины считаются на тестовой выбоке, документы тестового батча не содержат информации о своих метках классов.\n",
    "\n",
    "Все метрики взяты из статьи T. Rubin, A. Chambers, P. Smyth, M. Steyvers: Statistical topic models for multi-label document classification."
   ]
  },
  {
   "cell_type": "markdown",
   "metadata": {},
   "source": [
    "#### Описание хода эксперимента"
   ]
  },
  {
   "cell_type": "markdown",
   "metadata": {},
   "source": [
    "Прежде всего подключим необходимые пакеты Python и новый API BigARTM:"
   ]
  },
  {
   "cell_type": "code",
   "execution_count": 1,
   "metadata": {
    "collapsed": false
   },
   "outputs": [],
   "source": [
    "from __future__ import division\n",
    "\n",
    "import os\n",
    "import sys\n",
    "import glob\n",
    "import pickle\n",
    "import numpy\n",
    "import sklearn.metrics\n",
    "\n",
    "import artm"
   ]
  },
  {
   "cell_type": "markdown",
   "metadata": {},
   "source": [
    "Далее определим две вспомогательные функции, которые будут использоваться при вычислении функционалов качества:"
   ]
  },
  {
   "cell_type": "code",
   "execution_count": 2,
   "metadata": {
    "collapsed": true
   },
   "outputs": [],
   "source": [
    "def perfect_classification(true_labels, probs):\n",
    "    temp_true_labels = list(true_labels)\n",
    "    temp_probs = list(probs)\n",
    "    for i in xrange(sum(true_labels)):\n",
    "        idx = temp_probs.index(max(temp_probs))\n",
    "        \n",
    "        if temp_true_labels[idx] == 0:\n",
    "            return False\n",
    "        \n",
    "        del temp_true_labels[idx]\n",
    "        del temp_probs[idx]\n",
    "    return True"
   ]
  },
  {
   "cell_type": "code",
   "execution_count": 3,
   "metadata": {
    "collapsed": true
   },
   "outputs": [],
   "source": [
    "def count_precision(true_labels, probs):\n",
    "    retval, index = 0, -1\n",
    "    for label in true_labels:\n",
    "        denominator, numerator = 0, 0\n",
    "        index += 1\n",
    "        if label:\n",
    "            for prob_idx in xrange(len(probs)):\n",
    "                if probs[prob_idx] > probs[index]:\n",
    "                    denominator += 1\n",
    "                    if true_labels[prob_idx] == 1:\n",
    "                        numerator += 1\n",
    "        if denominator > 0:\n",
    "            retval += numerator / denominator\n",
    "    retval /= sum(true_labels)\n",
    "    return retval"
   ]
  },
  {
   "cell_type": "markdown",
   "metadata": {},
   "source": [
    "Теперь определим несколько полезных статических констант. Это\n",
    "- имена модальностей (те, что использовались парсером при создании батчей и словаря);\n",
    "- полное имя директории с батчами;\n",
    "- полное имя файла с информацией о метках тестовых документов;\n",
    "- имя файла с расширением '.batch_test', содержащего тестовые документы."
   ]
  },
  {
   "cell_type": "code",
   "execution_count": 4,
   "metadata": {
    "collapsed": true
   },
   "outputs": [],
   "source": [
    "labels_class = '@labels_class'\n",
    "tokens_class = '@default_class'\n",
    "\n",
    "data_folder         = 'D:/Work/University/course_work/bigartm/multimodal_experiments/eurlex_data'\n",
    "test_labels_file    = os.path.join(data_folder, 'test_labels.eurlex_artm')\n",
    "test_documents_file = '7d6a65e7-712a-43e5-bdad-529075961598.batch_test'"
   ]
  },
  {
   "cell_type": "markdown",
   "metadata": {},
   "source": [
    "Сразу загрузим из файла информацию о тестовых метках:"
   ]
  },
  {
   "cell_type": "code",
   "execution_count": 5,
   "metadata": {
    "collapsed": false
   },
   "outputs": [],
   "source": [
    "with open(test_labels_file, 'rb') as f:\n",
    "    true_p_cd = [[int(p_cd) for p_cd in p_d] for p_d in pickle.load(f)]"
   ]
  },
  {
   "cell_type": "markdown",
   "metadata": {},
   "source": [
    "Наша модель будет характеризоваться определённым набором параметров, а именно\n",
    "- числом тем\n",
    "- числом итераций по коллекции\n",
    "- числом итераций по документу (+)\n",
    "- весом модальности \"метки классов\" (+)\n",
    "- весом модальности \"слова\" (+)\n",
    "- коэффициентом сглаживания Теты (+)\n",
    "- коэффициентом сглаживания Фи (+)\n",
    "- коэффициентом сглаживания Пси (+)\n",
    "- коэффициентом регуляризатора балансирования классов (+)\n",
    "\n",
    "(+) --- величина представляет собой список значений, по одному на каждую итерацию прохода по коллекции.\n",
    "\n",
    "Кроме этих основных величин надо задать технический список номеров итераций, на которых следует подсчитывать значения метрик."
   ]
  },
  {
   "cell_type": "code",
   "execution_count": 6,
   "metadata": {
    "collapsed": true
   },
   "outputs": [],
   "source": [
    "num_topics            = 100\n",
    "num_collection_passes = 5\n",
    "\n",
    "num_document_passes   = [16] * num_collection_passes\n",
    "labels_class_weight   = [1.0, 1.0, 0.9, 0.9, 0.9, 0.8, 0.8, 0.8, 0.7, 0.7]\n",
    "tokens_class_weight   = [1] * num_collection_passes\n",
    "\n",
    "smooth_theta_tau      = [0.02] * num_collection_passes\n",
    "smooth_phi_tau        = [0.01] * num_collection_passes\n",
    "\n",
    "smooth_psi_tau        = [0.01] * num_collection_passes\n",
    "label_psi_tau         = [0.0] * num_collection_passes\n",
    "\n",
    "count_scores_iters = [num_collection_passes - 1]"
   ]
  },
  {
   "cell_type": "markdown",
   "metadata": {},
   "source": [
    "Теперь, собственно, создадим модель, после чего инициализируем её с помощью словаря коллекции:"
   ]
  },
  {
   "cell_type": "code",
   "execution_count": 7,
   "metadata": {
    "collapsed": false
   },
   "outputs": [],
   "source": [
    "model = artm.ArtmModel(num_topics=num_topics, num_document_passes=1)"
   ]
  },
  {
   "cell_type": "code",
   "execution_count": 8,
   "metadata": {
    "collapsed": false
   },
   "outputs": [],
   "source": [
    "model.load_dictionary(dictionary_name='dictionary', dictionary_path=os.path.join(data_folder, 'dictionary.eurlex_artm'))\n",
    "model.initialize(dictionary_name='dictionary')"
   ]
  },
  {
   "cell_type": "markdown",
   "metadata": {},
   "source": [
    "Теперь добавим регуляризаторы сглаживания для всех матриц (Фи, Пси и Тета), а также регуляризатор балансирования классов для матрицы Пси:"
   ]
  },
  {
   "cell_type": "code",
   "execution_count": 9,
   "metadata": {
    "collapsed": false
   },
   "outputs": [],
   "source": [
    "model.regularizers.add(artm.SmoothSparsePhiRegularizer(name='SmoothPsiRegularizer', class_ids=[labels_class]))\n",
    "model.regularizers.add(artm.LabelRegularizationPhiRegularizer(name='LabelPsiRegularizer', class_ids=[labels_class]))\n",
    "\n",
    "model.regularizers.add(artm.SmoothSparsePhiRegularizer(name='SmoothPhiRegularizer', class_ids=[tokens_class]))\n",
    "model.regularizers.add(artm.SmoothSparseThetaRegularizer(name='SmoothThetaRegularizer'))"
   ]
  },
  {
   "cell_type": "markdown",
   "metadata": {},
   "source": [
    "Всё, можно приступать к обучению модели и подсчёту необходимых метрик. Во время каждой итерации прохода по коллекции будем обновлять значения коэффициентов регуляризации, весов модальностей и числа итераций прохода по документу, после чего вызывать метод обучения. В том случае, если на данной итерации нужно производить подсчёт функционалов качества, будем делать это следующим образом:\n",
    "- строим матрицу Тета для тестового батча, основываясь на текущем состоянии модели;\n",
    "- извлекаем матрицу Пси и вычисляем вероятности классов в документах как p(c|d) = sum_t p(c|t) * p(t|d);\n",
    "- подаём этот вектор и вектор верных ответов для данного документа в функции, описанные ранее или вызванные из пакета sklearn, сохраняем результаты;\n",
    "- усредняем все агрегированные данные по всем документам и печатаем результат."
   ]
  },
  {
   "cell_type": "code",
   "execution_count": 10,
   "metadata": {
    "collapsed": false
   },
   "outputs": [
    {
     "name": "stdout",
     "output_type": "stream",
     "text": [
      "Start processing iteration #0...\n",
      "Start processing iteration #1...\n",
      "Start processing iteration #2...\n",
      "Start processing iteration #3...\n",
      "Start processing iteration #4...\n",
      "Find scores for model on iter #4...\n",
      "AUC-ROC = 0.964  | OneError = 65.3  | IsError = 99.8  | AverPrec = 0.117  | AUC-PR = 0.211\n"
     ]
    }
   ],
   "source": [
    "for iter in xrange(num_collection_passes):\n",
    "    print 'Start processing iteration #' + str(iter) + '...'\n",
    "    model.regularizers['SmoothPsiRegularizer'].tau = smooth_psi_tau[iter]\n",
    "    model.regularizers['LabelPsiRegularizer'].tau = label_psi_tau[iter]\n",
    "    model.regularizers['SmoothPhiRegularizer'].tau = smooth_phi_tau[iter]\n",
    "    model.regularizers['SmoothThetaRegularizer'].tau = smooth_theta_tau[iter]\n",
    "    \n",
    "    model.class_ids = {tokens_class: tokens_class_weight[iter], labels_class: labels_class_weight[iter]}\n",
    "\n",
    "    model.num_document_passes = num_document_passes[iter]\n",
    "\n",
    "    model.fit_offline(num_collection_passes=1, data_path=data_folder)\n",
    "    \n",
    "    test_theta = model.find_theta(data_path=data_folder, batches=[test_documents_file])\n",
    "    Psi = model.get_phi(class_ids=[labels_class]).as_matrix()\n",
    "    \n",
    "    items_auc_roc, items_auc_pr = [], []\n",
    "    one_error, is_error, precision = 0, 0, 0\n",
    "    \n",
    "    if iter in count_scores_iters:\n",
    "        print 'Find scores for model on iter #' + str(iter) + '...'\n",
    "        for item_index in xrange(len(test_theta.columns)):\n",
    "            p_cd = [numpy.dot(test_theta[item_index], p_w) for p_w in Psi]\n",
    "\n",
    "            items_auc_roc.append(sklearn.metrics.roc_auc_score(true_p_cd[item_index], p_cd))\n",
    "            prec, rec, _ = sklearn.metrics.precision_recall_curve(true_p_cd[item_index], p_cd)\n",
    "            items_auc_pr.append(sklearn.metrics.auc(rec, prec))\n",
    "\n",
    "            if true_p_cd[item_index][p_cd.index(max(p_cd))] == 0:\n",
    "                one_error += 1\n",
    "\n",
    "            if not perfect_classification(true_p_cd[item_index], p_cd):\n",
    "                is_error += 1\n",
    "\n",
    "            precision += count_precision(true_p_cd[item_index], p_cd)\n",
    "\n",
    "        average_auc       = sum(items_auc_roc) / len(items_auc_roc)\n",
    "        average_auc_pr    = sum(items_auc_pr) / len(items_auc_roc)\n",
    "        average_one_error = (one_error / len(items_auc_roc)) * 100\n",
    "        average_is_error  = (is_error / len(items_auc_roc)) * 100\n",
    "        average_precision = precision / len(items_auc_roc)\n",
    "\n",
    "        print \"AUC-ROC = %.3f \" % average_auc,\n",
    "        print \"| OneError = %.1f \" % average_one_error,\n",
    "        print \"| IsError = %.1f \" % average_is_error,\n",
    "        print \"| AverPrec = %.3f \" % average_precision,\n",
    "        print \"| AUC-PR = %.3f\" % average_auc_pr"
   ]
  }
 ],
 "metadata": {
  "kernelspec": {
   "display_name": "Python 2",
   "language": "python",
   "name": "python2"
  },
  "language_info": {
   "codemirror_mode": {
    "name": "ipython",
    "version": 2
   },
   "file_extension": ".py",
   "mimetype": "text/x-python",
   "name": "python",
   "nbconvert_exporter": "python",
   "pygments_lexer": "ipython2",
   "version": "2.7.7"
  }
 },
 "nbformat": 4,
 "nbformat_minor": 0
}
