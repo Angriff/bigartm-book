{
 "cells": [
  {
   "cell_type": "markdown",
   "metadata": {},
   "source": [
    "### Качаем данные [(ссылка)](https://archive.ics.uci.edu/ml/datasets/Bag+of+Words)"
   ]
  },
  {
   "cell_type": "code",
   "execution_count": 1,
   "metadata": {
    "collapsed": false
   },
   "outputs": [
    {
     "name": "stdout",
     "output_type": "stream",
     "text": [
      "--2015-08-04 18:16:52--  https://archive.ics.uci.edu/ml/machine-learning-databases/bag-of-words/docword.nips.txt.gz\n",
      "Resolving archive.ics.uci.edu (archive.ics.uci.edu)... 128.195.1.95\n",
      "Connecting to archive.ics.uci.edu (archive.ics.uci.edu)|128.195.1.95|:443... connected.\n",
      "HTTP request sent, awaiting response... 200 OK\n",
      "Length: 2288169 (2,2M) [application/x-gzip]\n",
      "Saving to: `docword.nips.txt.gz'\n",
      "\n",
      "100%[======================================>] 2 288 169    924K/s   in 2,4s    \n",
      "\n",
      "2015-08-04 18:16:56 (924 KB/s) - `docword.nips.txt.gz' saved [2288169/2288169]\n",
      "\n"
     ]
    }
   ],
   "source": [
    "!wget https://archive.ics.uci.edu/ml/machine-learning-databases/bag-of-words/docword.nips.txt.gz"
   ]
  },
  {
   "cell_type": "code",
   "execution_count": 2,
   "metadata": {
    "collapsed": false
   },
   "outputs": [
    {
     "name": "stdout",
     "output_type": "stream",
     "text": [
      "--2015-08-04 18:16:57--  https://archive.ics.uci.edu/ml/machine-learning-databases/bag-of-words/vocab.nips.txt\n",
      "Resolving archive.ics.uci.edu (archive.ics.uci.edu)... 128.195.1.95\n",
      "Connecting to archive.ics.uci.edu (archive.ics.uci.edu)|128.195.1.95|:443... connected.\n",
      "HTTP request sent, awaiting response... 200 OK\n",
      "Length: 100807 (98K) [text/plain]\n",
      "Saving to: `vocab.nips.txt'\n",
      "\n",
      "100%[======================================>] 100 807      162K/s   in 0,6s    \n",
      "\n",
      "2015-08-04 18:16:59 (162 KB/s) - `vocab.nips.txt' saved [100807/100807]\n",
      "\n"
     ]
    }
   ],
   "source": [
    "!wget https://archive.ics.uci.edu/ml/machine-learning-databases/bag-of-words/vocab.nips.txt"
   ]
  },
  {
   "cell_type": "markdown",
   "metadata": {},
   "source": [
    "разархивируем "
   ]
  },
  {
   "cell_type": "code",
   "execution_count": 3,
   "metadata": {
    "collapsed": true
   },
   "outputs": [],
   "source": [
    "!gzip -d docword.nips.txt.gz"
   ]
  },
  {
   "cell_type": "markdown",
   "metadata": {},
   "source": [
    "смотрим "
   ]
  },
  {
   "cell_type": "code",
   "execution_count": 4,
   "metadata": {
    "collapsed": false
   },
   "outputs": [
    {
     "name": "stdout",
     "output_type": "stream",
     "text": [
      "1500\r\n",
      "12419\r\n",
      "746316\r\n",
      "1 2 1\r\n",
      "1 39 1\r\n",
      "1 42 3\r\n",
      "1 77 1\r\n",
      "1 95 1\r\n",
      "1 96 1\r\n",
      "1 105 1\r\n"
     ]
    }
   ],
   "source": [
    "!head docword.nips.txt"
   ]
  },
  {
   "cell_type": "code",
   "execution_count": 5,
   "metadata": {
    "collapsed": false
   },
   "outputs": [
    {
     "name": "stdout",
     "output_type": "stream",
     "text": [
      "a2i\r\n",
      "aaa\r\n",
      "aaai\r\n",
      "aapo\r\n",
      "aat\r\n",
      "aazhang\r\n",
      "abandonment\r\n",
      "abbott\r\n",
      "abbreviated\r\n",
      "abcde\r\n"
     ]
    }
   ],
   "source": [
    "!head vocab.nips.txt"
   ]
  },
  {
   "cell_type": "markdown",
   "metadata": {},
   "source": [
    "### Делаем батчи"
   ]
  },
  {
   "cell_type": "markdown",
   "metadata": {},
   "source": [
    "Для этого подготовим отдельную папку 'uci_data' и положим в неё файлы 'docword.nips.txt', 'vocab.nips.txt'. Названия файлов должны быть в формате 'docword.collection_name.txt', 'vocab.collection_name.txt'"
   ]
  },
  {
   "cell_type": "code",
   "execution_count": 6,
   "metadata": {
    "collapsed": false
   },
   "outputs": [],
   "source": [
    "import artm\n",
    "from artm.artm_model import parse"
   ]
  },
  {
   "cell_type": "code",
   "execution_count": 7,
   "metadata": {
    "collapsed": true
   },
   "outputs": [],
   "source": [
    "!mkdir uci_data"
   ]
  },
  {
   "cell_type": "code",
   "execution_count": 8,
   "metadata": {
    "collapsed": false
   },
   "outputs": [
    {
     "name": "stdout",
     "output_type": "stream",
     "text": [
      "docword.nips.txt  Tutorial UCI bag of words.ipynb  uci_data  vocab.nips.txt\r\n"
     ]
    }
   ],
   "source": [
    "!ls"
   ]
  },
  {
   "cell_type": "code",
   "execution_count": 9,
   "metadata": {
    "collapsed": true
   },
   "outputs": [],
   "source": [
    "!mv docword.nips.txt uci_data"
   ]
  },
  {
   "cell_type": "code",
   "execution_count": 10,
   "metadata": {
    "collapsed": true
   },
   "outputs": [],
   "source": [
    "!mv vocab.nips.txt uci_data"
   ]
  },
  {
   "cell_type": "code",
   "execution_count": 11,
   "metadata": {
    "collapsed": false
   },
   "outputs": [
    {
     "name": "stdout",
     "output_type": "stream",
     "text": [
      "Tutorial UCI bag of words.ipynb  uci_data\r\n"
     ]
    }
   ],
   "source": [
    "!ls"
   ]
  },
  {
   "cell_type": "markdown",
   "metadata": {},
   "source": [
    "В команду parse передаём название коллекции, путь к папке где лежат данные и формат данных. "
   ]
  },
  {
   "cell_type": "code",
   "execution_count": 12,
   "metadata": {
    "collapsed": false
   },
   "outputs": [],
   "source": [
    "parse(collection_name='nips', data_path='uci_data', data_format = 'bow_uci')"
   ]
  },
  {
   "cell_type": "markdown",
   "metadata": {},
   "source": [
    "В результате вызова создастся папка collection_name, где будут находится батчи и словарь. "
   ]
  },
  {
   "cell_type": "code",
   "execution_count": 13,
   "metadata": {
    "collapsed": false
   },
   "outputs": [
    {
     "name": "stdout",
     "output_type": "stream",
     "text": [
      "16c498f3-aaf9-4950-b15b-044b2a6338fc.batch  dictionary\r\n",
      "469a3037-ec94-44dd-a9d9-0e9fb5d22508.batch\r\n"
     ]
    }
   ],
   "source": [
    "!cd nips && ls"
   ]
  },
  {
   "cell_type": "markdown",
   "metadata": {},
   "source": [
    "### Строим модель "
   ]
  },
  {
   "cell_type": "code",
   "execution_count": 14,
   "metadata": {
    "collapsed": true
   },
   "outputs": [],
   "source": [
    "model = artm.artm_model.ArtmModel(num_topics=20)"
   ]
  },
  {
   "cell_type": "markdown",
   "metadata": {},
   "source": [
    "На этапе инициализации передаём путь к словарю "
   ]
  },
  {
   "cell_type": "code",
   "execution_count": 15,
   "metadata": {
    "collapsed": false
   },
   "outputs": [],
   "source": [
    "model.load_dictionary(dictionary_name='dictionary', dictionary_path='nips/dictionary')\n",
    "model.initialize(dictionary_name='dictionary')"
   ]
  },
  {
   "cell_type": "code",
   "execution_count": 16,
   "metadata": {
    "collapsed": true
   },
   "outputs": [],
   "source": [
    "model.fit_offline(data_path='nips', num_collection_passes=2)"
   ]
  },
  {
   "cell_type": "code",
   "execution_count": 17,
   "metadata": {
    "collapsed": true
   },
   "outputs": [],
   "source": [
    "def show_topics(model, top):\n",
    "    phi = model.get_phi()\n",
    "    for topic in model.topic_names:\n",
    "        phi = phi.sort(topic, ascending=False)\n",
    "        top_words = ''\n",
    "        for word in phi[topic][:top].index:\n",
    "            top_words += word + ', '\n",
    "        print topic\n",
    "        print top_words + '\\n'\n",
    "\n",
    "def show_topics_with_highlihts(model, top, words):\n",
    "    phi = model.get_phi()\n",
    "    for topic in model.topic_names:\n",
    "        phi = phi.sort(topic, ascending=False)\n",
    "        top_words = ''\n",
    "        for word in phi[topic][:top].index:\n",
    "            if word in words:\n",
    "                word = '\\x1b[93;46m' + word + '\\x1b[0m'\n",
    "            top_words += word + ', '\n",
    "        print topic\n",
    "        print top_words + '\\n'"
   ]
  },
  {
   "cell_type": "markdown",
   "metadata": {},
   "source": [
    "Смотрим на получившиеся темы "
   ]
  },
  {
   "cell_type": "code",
   "execution_count": 18,
   "metadata": {
    "collapsed": false,
    "scrolled": false
   },
   "outputs": [
    {
     "name": "stdout",
     "output_type": "stream",
     "text": [
      "@topic_0\n",
      "network, learning, set, neural, model, algorithm, input, weight, data, function, space, result, neuron, number, parameter, vector, method, performance, values, point, \n",
      "\n",
      "@topic_1\n",
      "network, weight, system, model, neuron, output, neural, algorithm, set, learning, parameter, layer, result, current, input, error, problem, step, chip, dynamic, \n",
      "\n",
      "@topic_2\n",
      "network, output, unit, function, problem, data, learning, layer, error, model, training, point, vector, result, net, pattern, mean, algorithm, field, system, \n",
      "\n",
      "@topic_3\n",
      "model, network, neuron, system, data, input, unit, neural, result, equation, control, parameter, number, order, weight, function, synaptic, cell, training, pattern, \n",
      "\n",
      "@topic_4\n",
      "network, system, data, algorithm, model, parameter, training, neural, term, layer, weight, linear, word, cell, set, unit, probability, single, point, space, \n",
      "\n",
      "@topic_5\n",
      "data, neural, model, result, number, weight, set, system, neuron, training, space, rate, pattern, error, level, algorithm, cell, function, large, method, \n",
      "\n",
      "@topic_6\n",
      "function, network, algorithm, neural, training, unit, error, result, system, vector, learning, number, weight, model, values, space, information, net, hidden, input, \n",
      "\n",
      "@topic_7\n",
      "network, input, function, set, algorithm, unit, system, output, model, learning, training, neural, number, vector, error, result, object, test, hidden, speech, \n",
      "\n",
      "@topic_8\n",
      "model, learning, set, error, data, vector, problem, function, training, result, method, distribution, step, class, parameter, performance, unit, map, space, noise, \n",
      "\n",
      "@topic_9\n",
      "model, training, neural, function, network, error, set, output, input, data, result, learning, problem, unit, system, experiment, pattern, method, hidden, space, \n",
      "\n",
      "@topic_10\n",
      "learning, algorithm, problem, number, neuron, cell, point, result, information, image, function, pattern, recognition, neural, parameter, component, input, mean, set, visual, \n",
      "\n",
      "@topic_11\n",
      "model, set, result, cell, problem, point, space, data, image, weight, pattern, object, number, neural, layer, experiment, rule, approach, order, neuron, \n",
      "\n",
      "@topic_12\n",
      "network, model, function, neural, input, weight, system, learning, unit, training, method, data, order, neuron, task, linear, signal, distribution, problem, algorithm, \n",
      "\n",
      "@topic_13\n",
      "learning, network, input, function, data, output, neural, model, pattern, weight, information, term, cell, equation, linear, algorithm, layer, rule, performance, space, \n",
      "\n",
      "@topic_14\n",
      "set, model, control, method, training, parameter, output, error, data, point, system, input, classifier, test, dynamic, number, algorithm, equation, performance, pattern, \n",
      "\n",
      "@topic_15\n",
      "network, learning, algorithm, output, function, parameter, set, unit, vector, problem, data, input, space, point, term, information, linear, training, probability, performance, \n",
      "\n",
      "@topic_16\n",
      "input, learning, network, algorithm, task, number, data, model, method, action, unit, pattern, step, output, set, probability, performance, point, values, function, \n",
      "\n",
      "@topic_17\n",
      "learning, input, model, system, set, data, method, number, function, result, training, error, representation, problem, component, noise, images, performance, unit, speech, \n",
      "\n",
      "@topic_18\n",
      "network, function, input, neural, problem, neuron, error, unit, system, noise, signal, distribution, gaussian, point, algorithm, weight, values, information, training, learning, \n",
      "\n",
      "@topic_19\n",
      "network, learning, training, model, neural, set, problem, error, recognition, system, unit, point, information, function, hidden, order, performance, feature, output, task, \n",
      "\n"
     ]
    }
   ],
   "source": [
    "show_topics(model, 20)"
   ]
  },
  {
   "cell_type": "code",
   "execution_count": 19,
   "metadata": {
    "collapsed": false
   },
   "outputs": [
    {
     "name": "stdout",
     "output_type": "stream",
     "text": [
      "@topic_0\n",
      "\u001b[93;46mnetwork\u001b[0m, learning, set, \u001b[93;46mneural\u001b[0m, model, algorithm, input, weight, data, function, space, result, neuron, number, parameter, vector, method, performance, values, point, \n",
      "\n",
      "@topic_1\n",
      "\u001b[93;46mnetwork\u001b[0m, weight, system, model, neuron, output, \u001b[93;46mneural\u001b[0m, algorithm, set, learning, parameter, layer, result, current, input, error, problem, step, chip, dynamic, \n",
      "\n",
      "@topic_2\n",
      "\u001b[93;46mnetwork\u001b[0m, output, unit, function, problem, data, learning, layer, error, model, training, point, vector, result, net, \u001b[93;46mpattern\u001b[0m, mean, algorithm, field, system, \n",
      "\n",
      "@topic_3\n",
      "model, \u001b[93;46mnetwork\u001b[0m, neuron, system, data, input, unit, \u001b[93;46mneural\u001b[0m, result, equation, control, parameter, number, order, weight, function, synaptic, cell, training, \u001b[93;46mpattern\u001b[0m, \n",
      "\n",
      "@topic_4\n",
      "\u001b[93;46mnetwork\u001b[0m, system, data, algorithm, model, parameter, training, \u001b[93;46mneural\u001b[0m, term, layer, weight, linear, word, cell, set, unit, probability, single, point, space, \n",
      "\n",
      "@topic_5\n",
      "data, \u001b[93;46mneural\u001b[0m, model, result, number, weight, set, system, neuron, training, space, rate, \u001b[93;46mpattern\u001b[0m, error, level, algorithm, cell, function, large, method, \n",
      "\n",
      "@topic_6\n",
      "function, \u001b[93;46mnetwork\u001b[0m, algorithm, \u001b[93;46mneural\u001b[0m, training, unit, error, result, system, vector, learning, number, weight, model, values, space, information, net, hidden, input, \n",
      "\n",
      "@topic_7\n",
      "\u001b[93;46mnetwork\u001b[0m, input, function, set, algorithm, unit, system, output, model, learning, training, \u001b[93;46mneural\u001b[0m, number, vector, error, result, object, test, hidden, speech, \n",
      "\n",
      "@topic_8\n",
      "model, learning, set, error, data, vector, problem, function, training, result, method, distribution, step, class, parameter, performance, unit, map, space, noise, \n",
      "\n",
      "@topic_9\n",
      "model, training, \u001b[93;46mneural\u001b[0m, function, \u001b[93;46mnetwork\u001b[0m, error, set, output, input, data, result, learning, problem, unit, system, experiment, \u001b[93;46mpattern\u001b[0m, method, hidden, space, \n",
      "\n",
      "@topic_10\n",
      "learning, algorithm, problem, number, neuron, cell, point, result, information, \u001b[93;46mimage\u001b[0m, function, \u001b[93;46mpattern\u001b[0m, \u001b[93;46mrecognition\u001b[0m, \u001b[93;46mneural\u001b[0m, parameter, component, input, mean, set, visual, \n",
      "\n",
      "@topic_11\n",
      "model, set, result, cell, problem, point, space, data, \u001b[93;46mimage\u001b[0m, weight, \u001b[93;46mpattern\u001b[0m, object, number, \u001b[93;46mneural\u001b[0m, layer, experiment, rule, approach, order, neuron, \n",
      "\n",
      "@topic_12\n",
      "\u001b[93;46mnetwork\u001b[0m, model, function, \u001b[93;46mneural\u001b[0m, input, weight, system, learning, unit, training, method, data, order, neuron, task, linear, signal, distribution, problem, algorithm, \n",
      "\n",
      "@topic_13\n",
      "learning, \u001b[93;46mnetwork\u001b[0m, input, function, data, output, \u001b[93;46mneural\u001b[0m, model, \u001b[93;46mpattern\u001b[0m, weight, information, term, cell, equation, linear, algorithm, layer, rule, performance, space, \n",
      "\n",
      "@topic_14\n",
      "set, model, control, method, training, parameter, output, error, data, point, system, input, classifier, test, dynamic, number, algorithm, equation, performance, \u001b[93;46mpattern\u001b[0m, \n",
      "\n",
      "@topic_15\n",
      "\u001b[93;46mnetwork\u001b[0m, learning, algorithm, output, function, parameter, set, unit, vector, problem, data, input, space, point, term, information, linear, training, probability, performance, \n",
      "\n",
      "@topic_16\n",
      "input, learning, \u001b[93;46mnetwork\u001b[0m, algorithm, task, number, data, model, method, action, unit, \u001b[93;46mpattern\u001b[0m, step, output, set, probability, performance, point, values, function, \n",
      "\n",
      "@topic_17\n",
      "learning, input, model, system, set, data, method, number, function, result, training, error, representation, problem, component, noise, images, performance, unit, speech, \n",
      "\n",
      "@topic_18\n",
      "\u001b[93;46mnetwork\u001b[0m, function, input, \u001b[93;46mneural\u001b[0m, problem, neuron, error, unit, system, noise, signal, distribution, gaussian, point, algorithm, weight, values, information, training, learning, \n",
      "\n",
      "@topic_19\n",
      "\u001b[93;46mnetwork\u001b[0m, learning, training, model, \u001b[93;46mneural\u001b[0m, set, problem, error, \u001b[93;46mrecognition\u001b[0m, system, unit, point, information, function, hidden, order, performance, feature, output, task, \n",
      "\n"
     ]
    }
   ],
   "source": [
    "interesting_words = ['network', 'neural', 'recognition', 'image', 'pattern']\n",
    "show_topics_with_highlihts(model, 20, interesting_words)"
   ]
  }
 ],
 "metadata": {
  "kernelspec": {
   "display_name": "Python 2",
   "language": "python",
   "name": "python2"
  },
  "language_info": {
   "codemirror_mode": {
    "name": "ipython",
    "version": 2
   },
   "file_extension": ".py",
   "mimetype": "text/x-python",
   "name": "python",
   "nbconvert_exporter": "python",
   "pygments_lexer": "ipython2",
   "version": "2.7.3"
  }
 },
 "nbformat": 4,
 "nbformat_minor": 0
}
