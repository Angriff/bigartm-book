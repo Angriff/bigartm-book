{
 "cells": [
  {
   "cell_type": "markdown",
   "metadata": {},
   "source": [
    "# Новый Python интерфейс BigARTM."
   ]
  },
  {
   "cell_type": "markdown",
   "metadata": {},
   "source": [
    "## Пример №1"
   ]
  },
  {
   "cell_type": "markdown",
   "metadata": {},
   "source": [
    "Здесь приводится простой пример использования нового пользовательского интерфейса на Python библиотеки BigARTM. Мы будем обучать тематическую модель маленькой коллекции 'kos'.\n",
    "Для начала подключим все необходимые модули (убедитесь, что путь к model.py находится в вашей переменной PATH):"
   ]
  },
  {
   "cell_type": "code",
   "execution_count": 1,
   "metadata": {
    "collapsed": false
   },
   "outputs": [],
   "source": [
    "%matplotlib inline\n",
    "import glob\n",
    "import matplotlib.pyplot as plt\n",
    "\n",
    "import artm"
   ]
  },
  {
   "cell_type": "markdown",
   "metadata": {
    "collapsed": false
   },
   "source": [
    "Первым делом содадим тематическую модель. Новый интерфейс позволяет сделать это в одну строчку:"
   ]
  },
  {
   "cell_type": "code",
   "execution_count": 2,
   "metadata": {
    "collapsed": false
   },
   "outputs": [],
   "source": [
    "model = artm.ArtmModel(num_topics=15)"
   ]
  },
  {
   "cell_type": "markdown",
   "metadata": {},
   "source": [
    "ArtmModel — это объект, содержащий в себе всю информацию о текущем состоянии тематической модели. Все наши последующие действия будут производиться в рамках него. Прежде всего распарсим из файлов 'docword' и 'vocab' в формате UCI, если это необходимо:"
   ]
  },
  {
   "cell_type": "code",
   "execution_count": 3,
   "metadata": {
    "collapsed": false
   },
   "outputs": [],
   "source": [
    "if len(glob.glob('kos' + \"/*.batch\")) < 1:\n",
    "    artm.parse(data_path='', data_format='bow_uci', collection_name='kos')"
   ]
  },
  {
   "cell_type": "markdown",
   "metadata": {},
   "source": [
    "Следующий шаг — инициализация модели. Сделаем это по словарю, что означает, что\n",
    "- будет создана матрица Фи с именем 'pwt', число строк и столбцов в ней будет взято исходя из числа слов в словаре и заданного в модели числа тем;\n",
    "- эа матрица будет заполнена случайными значениями из диапазона (0, 1) и нормализована.\n",
    "\n",
    "Надо отметить, что этот шаг является опциональным, поскольку модель может быть автоматически инициализирована во время вызовов fit_offline() / fit_online()."
   ]
  },
  {
   "cell_type": "code",
   "execution_count": 4,
   "metadata": {
    "collapsed": false
   },
   "outputs": [],
   "source": [
    "model.load_dictionary(dictionary_name='dictionary', dictionary_path='kos/dictionary')\n",
    "model.initialize(dictionary_name='dictionary')"
   ]
  },
  {
   "cell_type": "markdown",
   "metadata": {},
   "source": [
    "ArtmModel предоставляет возможность использовать все функционалы качества, имеющиеся в BigARTM. Если функционал подключен к модели, то модель будет сохранять все его значения, полученные на момент каждого обновления матрицы Фи.\n",
    "Для контроля за качеством получаемой модели введём несколько метрик:"
   ]
  },
  {
   "cell_type": "code",
   "execution_count": 5,
   "metadata": {
    "collapsed": false
   },
   "outputs": [],
   "source": [
    "model.scores.add(artm.SparsityPhiScore(name='SparsityPhiScore'))\n",
    "model.scores.add(artm.SparsityThetaScore(name='SparsityThetaScore'))\n",
    "model.scores.add(artm.PerplexityScore(name='PerplexityScore'))"
   ]
  },
  {
   "cell_type": "markdown",
   "metadata": {},
   "source": [
    "Также полезно добавить несколько базовых регуляризаторов, повышающих разреженность и различность тем (зададим им стартовые коэффициенты регуляризации, которые можно будет позже изменить)"
   ]
  },
  {
   "cell_type": "code",
   "execution_count": 6,
   "metadata": {
    "collapsed": false
   },
   "outputs": [],
   "source": [
    "model.regularizers.add(artm.SmoothSparsePhiRegularizer(name='SparsePhi', tau=-0.1))\n",
    "model.regularizers.add(artm.SmoothSparseThetaRegularizer(name='SparseTheta', tau=-2.0))\n",
    "model.regularizers.add(artm.DecorrelatorPhiRegularizer(name='DecorrelatorPhi', tau=100000.0))"
   ]
  },
  {
   "cell_type": "markdown",
   "metadata": {},
   "source": [
    "Теперь попробуем обучить модель в оффлайн-режиме (т.е. обновляя Фи раз за проход по коллекции). Инициируем пять проходов:"
   ]
  },
  {
   "cell_type": "code",
   "execution_count": 7,
   "metadata": {
    "collapsed": false
   },
   "outputs": [],
   "source": [
    "model.fit_offline(data_path='kos', num_collection_passes=5)"
   ]
  },
  {
   "cell_type": "markdown",
   "metadata": {},
   "source": [
    "Проверим результаты первой итерации обучения:"
   ]
  },
  {
   "cell_type": "code",
   "execution_count": 8,
   "metadata": {
    "collapsed": false
   },
   "outputs": [
    {
     "name": "stdout",
     "output_type": "stream",
     "text": [
      "Sparsity Phi:0.425060334009\n",
      "Sparsity Theta:0.699183673469\n"
     ]
    }
   ],
   "source": [
    "print 'Sparsity Phi:' + str(model.scores_info['SparsityPhiScore'].last_value)\n",
    "print 'Sparsity Theta:' + str(model.scores_info['SparsityThetaScore'].last_value)"
   ]
  },
  {
   "cell_type": "markdown",
   "metadata": {},
   "source": [
    "Видно, что разреженности матриц пока ещё слишком невелики. Попробуем увеличить по модулю значения коэффициентов регуляризации при разреживающих регуляризаторах:"
   ]
  },
  {
   "cell_type": "code",
   "execution_count": 9,
   "metadata": {
    "collapsed": false
   },
   "outputs": [],
   "source": [
    "model.regularizers['SparsePhi'].tau = -0.4\n",
    "model.regularizers['SparseTheta'].tau = -3.0"
   ]
  },
  {
   "cell_type": "markdown",
   "metadata": {},
   "source": [
    "Также полезно добавить функционал 'TopTokensScore'. Он позволит нам увидеть самые вероятные слова в каждой полученной теме"
   ]
  },
  {
   "cell_type": "code",
   "execution_count": 10,
   "metadata": {
    "collapsed": false
   },
   "outputs": [],
   "source": [
    "model.scores.add(artm.TopTokensScore(name='TopTokensScore', num_tokens=5))"
   ]
  },
  {
   "cell_type": "markdown",
   "metadata": {},
   "source": [
    "Продолжим обучение модели, инициировав 15 проходов по коллекции:"
   ]
  },
  {
   "cell_type": "code",
   "execution_count": 11,
   "metadata": {
    "collapsed": false
   },
   "outputs": [],
   "source": [
    "model.fit_offline(data_path='kos', num_collection_passes=15)"
   ]
  },
  {
   "cell_type": "code",
   "execution_count": 12,
   "metadata": {
    "collapsed": false
   },
   "outputs": [
    {
     "name": "stdout",
     "output_type": "stream",
     "text": [
      "Sparsity Phi:0.638024905879\n",
      "Sparsity Theta:0.793756073858\n"
     ]
    }
   ],
   "source": [
    "print 'Sparsity Phi:' + str(model.scores_info['SparsityPhiScore'].last_value)\n",
    "print 'Sparsity Theta:' + str(model.scores_info['SparsityThetaScore'].last_value)"
   ]
  },
  {
   "cell_type": "markdown",
   "metadata": {},
   "source": [
    "Разреженность всё ещё неудовлетворительная. Попробуем ещё усилить разреживание и продолжить обучение:"
   ]
  },
  {
   "cell_type": "code",
   "execution_count": 13,
   "metadata": {
    "collapsed": false
   },
   "outputs": [],
   "source": [
    "model.regularizers['SparsePhi'].tau = -1.5\n",
    "model.regularizers['SparseTheta'].tau = -5.0\n",
    "model.fit_offline(data_path='kos', num_collection_passes=15)"
   ]
  },
  {
   "cell_type": "markdown",
   "metadata": {},
   "source": [
    "Нарисуем графики перплексии и разреженностей:"
   ]
  },
  {
   "cell_type": "code",
   "execution_count": 14,
   "metadata": {
    "collapsed": false
   },
   "outputs": [
    {
     "data": {
      "image/png": "[encoded data removed]",
      "text/plain": [
       "<matplotlib.figure.Figure at 0x906f450>"
      ]
     },
     "metadata": {},
     "output_type": "display_data"
    }
   ],
   "source": [
    "plt.plot(xrange(model.num_phi_updates), model.scores_info['PerplexityScore'].value, 'r--', linewidth=2)\n",
    "plt.xlabel('Iterations count')\n",
    "plt.ylabel('Perplexity')\n",
    "plt.grid(True)\n",
    "plt.show()"
   ]
  },
  {
   "cell_type": "code",
   "execution_count": 15,
   "metadata": {
    "collapsed": false
   },
   "outputs": [
    {
     "data": {
      "image/png": "[encoded data removed]",
      "text/plain": [
       "<matplotlib.figure.Figure at 0x906f410>"
      ]
     },
     "metadata": {},
     "output_type": "display_data"
    }
   ],
   "source": [
    "plt.plot(xrange(model.num_phi_updates), model.scores_info['SparsityPhiScore'].value, 'b--',\n",
    "         xrange(model.num_phi_updates), model.scores_info['SparsityThetaScore'].value, 'r--', linewidth=2)\n",
    "plt.xlabel('Iterations count')\n",
    "plt.ylabel('Phi sparsity, Theta sparsity')\n",
    "plt.grid(True)\n",
    "plt.show()"
   ]
  },
  {
   "cell_type": "markdown",
   "metadata": {},
   "source": [
    "Для столь маленькой коллекции разреженность достаточная. Напечатаем топовые слова в каждой теме:"
   ]
  },
  {
   "cell_type": "code",
   "execution_count": 16,
   "metadata": {
    "collapsed": false
   },
   "outputs": [
    {
     "name": "stdout",
     "output_type": "stream",
     "text": [
      "@topic_0:  [u'bloggers', u'book', u'convention', u'blogs', u'boat']\n",
      "@topic_1:  [u'dean', u'clark', u'edwards', u'primary', u'lieberman']\n",
      "@topic_2:  [u'republican', u'republicans', u'party', u'vote', u'democrats']\n",
      "@topic_3:  [u'bush', u'administration', u'president', u'cheney', u'house']\n",
      "@topic_4:  [u'delay', u'house', u'media', u'committee', u'texas']\n",
      "@topic_5:  [u'democrats', u'states', u'million', u'state', u'democratic']\n",
      "@topic_6:  [u'iraq', u'war', u'bush', u'iraqi', u'bushs']\n",
      "@topic_7:  [u'military', u'soldiers', u'abu', u'pentagon', u'iraqi']\n",
      "@topic_8:  [u'carson', u'coburn', u'oklahoma', u'media', u'speech']\n",
      "@topic_9:  [u'party', u'nader', u'dean', u'unions', u'ballot']\n",
      "@topic_10:  [u'kerry', u'bush', u'poll', u'percent', u'voters']\n",
      "@topic_11:  [u'senate', u'race', u'elections', u'campaign', u'house']\n",
      "@topic_12:  [u'november', u'account', u'electoral', u'governor', u'house']\n",
      "@topic_13:  [u'bush', u'administration', u'tax', u'jobs', u'health']\n",
      "@topic_14:  [u'oil', u'space', u'blades', u'meteor', u'rights']\n"
     ]
    }
   ],
   "source": [
    "for topic_name in model.topic_names:\n",
    "    print topic_name + ': ',\n",
    "    print model.scores_info['TopTokensScore'].last_topic_info[topic_name].tokens"
   ]
  },
  {
   "cell_type": "markdown",
   "metadata": {},
   "source": [
    "Извлечём матрицу Фи в виде pandas.DataFrame:"
   ]
  },
  {
   "cell_type": "code",
   "execution_count": 17,
   "metadata": {
    "collapsed": false
   },
   "outputs": [],
   "source": [
    "phi_matrix = model.get_phi()"
   ]
  },
  {
   "cell_type": "markdown",
   "metadata": {},
   "source": [
    "Напечатаем её:"
   ]
  },
  {
   "cell_type": "code",
   "execution_count": 18,
   "metadata": {
    "collapsed": false
   },
   "outputs": [
    {
     "name": "stdout",
     "output_type": "stream",
     "text": [
      "            @topic_0  @topic_1  @topic_2  @topic_3  @topic_4  @topic_5  \\\n",
      "aarp        0.000000  0.000000  0.000000  0.000000  0.000570  0.000000   \n",
      "abandon     0.000000  0.000000  0.000211  0.000000  0.000000  0.000000   \n",
      "abandoned   0.000000  0.000000  0.000169  0.000000  0.000000  0.000000   \n",
      "abandoning  0.000000  0.000000  0.000000  0.000000  0.000000  0.000246   \n",
      "abb         0.000000  0.000000  0.000342  0.000000  0.000000  0.000000   \n",
      "abc         0.000000  0.000000  0.000000  0.001528  0.000000  0.000000   \n",
      "abcs        0.000000  0.000000  0.000000  0.000240  0.000000  0.000000   \n",
      "abdullah    0.000000  0.000000  0.000000  0.000023  0.000000  0.000000   \n",
      "ability     0.000000  0.000000  0.000000  0.000000  0.000163  0.000411   \n",
      "aboard      0.000000  0.000000  0.000000  0.000000  0.000000  0.000000   \n",
      "abortion    0.000000  0.000000  0.002297  0.000000  0.000000  0.000000   \n",
      "abortions   0.000000  0.000000  0.000000  0.000000  0.000000  0.000000   \n",
      "abraham     0.000000  0.000000  0.000000  0.000000  0.000000  0.000000   \n",
      "abrams      0.000000  0.000000  0.000000  0.000167  0.000000  0.000000   \n",
      "abroad      0.000000  0.000000  0.000000  0.000000  0.000000  0.000256   \n",
      "absence     0.000000  0.000000  0.000185  0.000000  0.000103  0.000102   \n",
      "absent      0.000000  0.000000  0.000000  0.000000  0.000238  0.000093   \n",
      "absentee    0.000000  0.000000  0.000000  0.000000  0.000000  0.000568   \n",
      "absolute    0.000000  0.000000  0.000156  0.000000  0.000000  0.000019   \n",
      "absolutely  0.000000  0.000000  0.000183  0.000117  0.000000  0.000000   \n",
      "abstain     0.000000  0.000000  0.000000  0.000000  0.000000  0.000000   \n",
      "absurd      0.000000  0.000000  0.000000  0.000000  0.000033  0.000000   \n",
      "abu         0.000000  0.000000  0.000000  0.000122  0.000000  0.000000   \n",
      "abuse       0.000000  0.000000  0.000516  0.000000  0.000000  0.000000   \n",
      "abuses      0.000000  0.000000  0.000000  0.000000  0.000000  0.000000   \n",
      "academy     0.000000  0.000000  0.000000  0.000000  0.000000  0.000000   \n",
      "accent      0.000000  0.000000  0.000000  0.000103  0.000000  0.000128   \n",
      "accept      0.000000  0.000000  0.000000  0.000354  0.000215  0.000336   \n",
      "acceptable  0.000000  0.000000  0.000041  0.000000  0.000000  0.000000   \n",
      "acceptance  0.000000  0.000000  0.000000  0.000022  0.000000  0.000000   \n",
      "...              ...       ...       ...       ...       ...       ...   \n",
      "yanks       0.001220  0.000000  0.000000  0.000102  0.000000  0.000000   \n",
      "yard        0.000000  0.000000  0.000000  0.000000  0.000461  0.000000   \n",
      "yeah        0.000000  0.000000  0.000359  0.000565  0.000215  0.000058   \n",
      "year        0.000000  0.000347  0.001968  0.000551  0.000443  0.003779   \n",
      "years       0.000496  0.000000  0.003959  0.000762  0.000866  0.001724   \n",
      "yell        0.000000  0.000000  0.000000  0.000000  0.000000  0.000000   \n",
      "yellin      0.000000  0.000000  0.000000  0.000000  0.000000  0.001334   \n",
      "yesterday   0.002396  0.000088  0.000586  0.001341  0.001606  0.000675   \n",
      "yesterdays  0.000000  0.000000  0.000000  0.000000  0.000126  0.000000   \n",
      "yield       0.000000  0.000000  0.000087  0.000000  0.000000  0.000000   \n",
      "york        0.011536  0.000000  0.000906  0.001980  0.000000  0.000913   \n",
      "yorker      0.000000  0.000000  0.000000  0.000000  0.000000  0.000000   \n",
      "yorkers     0.002204  0.000000  0.000000  0.000000  0.000000  0.000000   \n",
      "youd        0.000000  0.000000  0.000138  0.000226  0.000000  0.000000   \n",
      "youll       0.000000  0.000000  0.000111  0.000000  0.000207  0.000073   \n",
      "young       0.000000  0.000000  0.000741  0.000000  0.000000  0.000000   \n",
      "younger     0.000000  0.000000  0.000300  0.000000  0.000000  0.000000   \n",
      "youre       0.001711  0.000000  0.000683  0.000524  0.001161  0.000000   \n",
      "youth       0.000000  0.000000  0.000077  0.000000  0.000131  0.000000   \n",
      "youve       0.000000  0.000000  0.000162  0.000601  0.000691  0.000000   \n",
      "yucca       0.000000  0.000000  0.000283  0.000000  0.000000  0.000000   \n",
      "yup         0.000000  0.000000  0.000000  0.000000  0.000000  0.000000   \n",
      "zahn        0.000000  0.000000  0.000000  0.000000  0.000000  0.000000   \n",
      "zarqawi     0.000000  0.000000  0.000000  0.000000  0.000000  0.000000   \n",
      "zell        0.000000  0.000000  0.001555  0.000025  0.000000  0.000177   \n",
      "zimbabwe    0.000000  0.000000  0.000000  0.000000  0.000000  0.000000   \n",
      "zogby       0.000000  0.009707  0.000000  0.000000  0.000000  0.000072   \n",
      "zogbys      0.000000  0.000948  0.000000  0.000000  0.000000  0.000000   \n",
      "zone        0.000000  0.000200  0.000000  0.000000  0.000000  0.000000   \n",
      "zones       0.000000  0.000000  0.000000  0.000000  0.000000  0.000000   \n",
      "\n",
      "            @topic_6  @topic_7  @topic_8  @topic_9  @topic_10  @topic_11  \\\n",
      "aarp        0.000000  0.000000  0.000000  0.000000   0.000000   0.000000   \n",
      "abandon     0.000000  0.000000  0.000000  0.000000   0.000132   0.000000   \n",
      "abandoned   0.000000  0.000000  0.000000  0.000000   0.000053   0.000000   \n",
      "abandoning  0.000000  0.000000  0.000000  0.000000   0.000092   0.000000   \n",
      "abb         0.000000  0.000000  0.000000  0.000490   0.000000   0.000021   \n",
      "abc         0.000153  0.000000  0.000000  0.000457   0.000581   0.000000   \n",
      "abcs        0.000000  0.000000  0.000000  0.000000   0.000090   0.000000   \n",
      "abdullah    0.000110  0.000000  0.000000  0.000000   0.000000   0.000000   \n",
      "ability     0.000440  0.000000  0.000000  0.000544   0.000292   0.000628   \n",
      "aboard      0.000135  0.000000  0.000000  0.000000   0.000000   0.000000   \n",
      "abortion    0.000011  0.000000  0.001004  0.000000   0.000000   0.000601   \n",
      "abortions   0.000000  0.000000  0.000327  0.000000   0.000000   0.000000   \n",
      "abraham     0.000164  0.000000  0.000000  0.000000   0.000000   0.000000   \n",
      "abrams      0.000000  0.000576  0.000000  0.000000   0.000000   0.000000   \n",
      "abroad      0.000214  0.000000  0.000000  0.000000   0.000000   0.000000   \n",
      "absence     0.000098  0.000000  0.000000  0.000000   0.000000   0.000000   \n",
      "absent      0.000000  0.000000  0.000000  0.000000   0.000000   0.000000   \n",
      "absentee    0.000000  0.000000  0.000000  0.000000   0.000000   0.000000   \n",
      "absolute    0.000000  0.000000  0.000000  0.000000   0.000000   0.000000   \n",
      "absolutely  0.000000  0.000294  0.000269  0.000000   0.000145   0.000000   \n",
      "abstain     0.000000  0.000000  0.000000  0.000000   0.000000   0.000000   \n",
      "absurd      0.000000  0.000000  0.000100  0.000000   0.000000   0.000099   \n",
      "abu         0.000288  0.009411  0.000000  0.000000   0.000000   0.000000   \n",
      "abuse       0.000030  0.004601  0.000000  0.000000   0.000000   0.000000   \n",
      "abuses      0.000150  0.003175  0.000000  0.000000   0.000000   0.000000   \n",
      "academy     0.000086  0.000000  0.000000  0.000000   0.000024   0.000000   \n",
      "accent      0.000000  0.000000  0.000000  0.000000   0.000000   0.000000   \n",
      "accept      0.000207  0.000770  0.000000  0.000000   0.000248   0.000000   \n",
      "acceptable  0.000000  0.000462  0.000518  0.000000   0.000000   0.000000   \n",
      "acceptance  0.000086  0.000000  0.000000  0.000180   0.000162   0.000000   \n",
      "...              ...       ...       ...       ...        ...        ...   \n",
      "yanks       0.000026  0.000000  0.000000  0.000000   0.000000   0.000000   \n",
      "yard        0.000000  0.000000  0.000000  0.000000   0.000000   0.000000   \n",
      "yeah        0.000245  0.000000  0.000000  0.000000   0.000319   0.000724   \n",
      "year        0.001547  0.000869  0.000000  0.000490   0.001383   0.001262   \n",
      "years       0.001906  0.000000  0.002247  0.000228   0.001481   0.000703   \n",
      "yell        0.000000  0.000000  0.000000  0.000000   0.000110   0.000000   \n",
      "yellin      0.000129  0.000000  0.000054  0.000000   0.000000   0.000000   \n",
      "yesterday   0.000786  0.000980  0.000390  0.000000   0.000402   0.000000   \n",
      "yesterdays  0.000113  0.000000  0.000000  0.000000   0.000226   0.000000   \n",
      "yield       0.000000  0.000000  0.000000  0.000000   0.000030   0.000000   \n",
      "york        0.000069  0.000735  0.000000  0.001860   0.000542   0.000000   \n",
      "yorker      0.000000  0.000418  0.000053  0.000000   0.000000   0.000000   \n",
      "yorkers     0.000000  0.000000  0.000000  0.000000   0.000000   0.000000   \n",
      "youd        0.000000  0.000000  0.000000  0.000000   0.000000   0.000200   \n",
      "youll       0.000000  0.000401  0.000481  0.000224   0.000251   0.000000   \n",
      "young       0.000437  0.000432  0.002040  0.000000   0.000333   0.000632   \n",
      "younger     0.000000  0.000000  0.000224  0.000000   0.000194   0.000000   \n",
      "youre       0.000573  0.000000  0.002967  0.000000   0.000550   0.000620   \n",
      "youth       0.000047  0.000000  0.000000  0.000000   0.000000   0.000000   \n",
      "youve       0.000431  0.000000  0.000000  0.000113   0.000193   0.000378   \n",
      "yucca       0.000000  0.000000  0.000000  0.000000   0.000000   0.000000   \n",
      "yup         0.000000  0.000097  0.000000  0.000000   0.000051   0.000000   \n",
      "zahn        0.000043  0.000000  0.000000  0.000000   0.000000   0.000000   \n",
      "zarqawi     0.000385  0.000000  0.000000  0.000000   0.000000   0.000000   \n",
      "zell        0.000000  0.000000  0.000000  0.000000   0.000026   0.000000   \n",
      "zimbabwe    0.000000  0.000000  0.000000  0.000000   0.000000   0.000000   \n",
      "zogby       0.000000  0.000000  0.000000  0.000000   0.002090   0.000000   \n",
      "zogbys      0.000000  0.000000  0.000000  0.000000   0.000228   0.000000   \n",
      "zone        0.000435  0.000000  0.000000  0.000000   0.000117   0.000110   \n",
      "zones       0.000146  0.000000  0.000000  0.000000   0.000000   0.000000   \n",
      "\n",
      "            @topic_12  @topic_13  @topic_14  \n",
      "aarp         0.000000   0.000000   0.000000  \n",
      "abandon      0.000000   0.000000   0.000422  \n",
      "abandoned    0.000014   0.000239   0.000000  \n",
      "abandoning   0.000000   0.000000   0.000000  \n",
      "abb          0.000000   0.000000   0.000000  \n",
      "abc          0.000043   0.000000   0.000000  \n",
      "abcs         0.000000   0.000000   0.000000  \n",
      "abdullah     0.000000   0.000000   0.000000  \n",
      "ability      0.000000   0.000000   0.001347  \n",
      "aboard       0.000000   0.000000   0.000509  \n",
      "abortion     0.000000   0.000000   0.000000  \n",
      "abortions    0.000000   0.000244   0.000000  \n",
      "abraham      0.000000   0.000000   0.000203  \n",
      "abrams       0.000000   0.000000   0.000000  \n",
      "abroad       0.000000   0.000270   0.000723  \n",
      "absence      0.000000   0.000000   0.000000  \n",
      "absent       0.000048   0.000020   0.000000  \n",
      "absentee     0.000113   0.000000   0.000000  \n",
      "absolute     0.000000   0.000200   0.000462  \n",
      "absolutely   0.000000   0.000012   0.000000  \n",
      "abstain      0.001674   0.000000   0.000000  \n",
      "absurd       0.000000   0.000000   0.000000  \n",
      "abu          0.000000   0.000000   0.000259  \n",
      "abuse        0.000000   0.000000   0.000226  \n",
      "abuses       0.000000   0.000000   0.000433  \n",
      "academy      0.000000   0.000000   0.000570  \n",
      "accent       0.000000   0.000000   0.000000  \n",
      "accept       0.000000   0.000000   0.000000  \n",
      "acceptable   0.000000   0.000000   0.000037  \n",
      "acceptance   0.000000   0.000310   0.000000  \n",
      "...               ...        ...        ...  \n",
      "yanks        0.000000   0.000000   0.000000  \n",
      "yard         0.000000   0.000000   0.000000  \n",
      "yeah         0.000000   0.000171   0.000000  \n",
      "year         0.000000   0.006123   0.002804  \n",
      "years        0.000000   0.006540   0.006421  \n",
      "yell         0.000000   0.000000   0.000000  \n",
      "yellin       0.000000   0.000000   0.000000  \n",
      "yesterday    0.000000   0.000348   0.000511  \n",
      "yesterdays   0.000000   0.000000   0.000055  \n",
      "yield        0.000000   0.000163   0.000000  \n",
      "york         0.001017   0.000803   0.000082  \n",
      "yorker       0.000000   0.000000   0.000000  \n",
      "yorkers      0.000000   0.000000   0.000041  \n",
      "youd         0.000000   0.000000   0.000000  \n",
      "youll        0.000071   0.000426   0.000000  \n",
      "young        0.000000   0.000440   0.000000  \n",
      "younger      0.000000   0.000000   0.000000  \n",
      "youre        0.000131   0.000362   0.000000  \n",
      "youth        0.000000   0.000000   0.000000  \n",
      "youve        0.000010   0.000044   0.000946  \n",
      "yucca        0.000000   0.000000   0.000000  \n",
      "yup          0.000000   0.000000   0.000000  \n",
      "zahn         0.000000   0.000000   0.000000  \n",
      "zarqawi      0.000000   0.000000   0.000000  \n",
      "zell         0.000000   0.000000   0.000000  \n",
      "zimbabwe     0.000000   0.000208   0.000000  \n",
      "zogby        0.001674   0.000000   0.000659  \n",
      "zogbys       0.000000   0.000000   0.000000  \n",
      "zone         0.000000   0.000000   0.000000  \n",
      "zones        0.000000   0.000000   0.000000  \n",
      "\n",
      "[6906 rows x 15 columns]\n"
     ]
    }
   ],
   "source": [
    "print phi_matrix"
   ]
  },
  {
   "cell_type": "markdown",
   "metadata": {},
   "source": [
    "Последний шаг — сохранение модели. ArtmModel предоставляет две возможности: сохранить модель в формате BigARTM или в .csv файл. \n",
    "- в первом случае модель нельзя будет никак визуализировать, но можно загрузить обратно в ArtmModel и продолжить работу с ней;\n",
    "- .csv файл нельзя загрузить обратно, но на него можно посмотреть глазами."
   ]
  },
  {
   "cell_type": "code",
   "execution_count": 19,
   "metadata": {
    "collapsed": false
   },
   "outputs": [],
   "source": [
    "model.save(file_name='kos_artm_model')\n",
    "model.to_csv(file_name='kos_artm_model.csv')"
   ]
  },
  {
   "cell_type": "markdown",
   "metadata": {},
   "source": [
    "Дополнительно извлечём Тету:"
   ]
  },
  {
   "cell_type": "code",
   "execution_count": 20,
   "metadata": {
    "collapsed": false
   },
   "outputs": [],
   "source": [
    "theta_matrix = model.get_theta()"
   ]
  },
  {
   "cell_type": "markdown",
   "metadata": {},
   "source": [
    "ArtmModel.get_theta() возвращает Теут как объект pandas.DataFrame. Напечатаем её:"
   ]
  },
  {
   "cell_type": "code",
   "execution_count": 21,
   "metadata": {
    "collapsed": false
   },
   "outputs": [
    {
     "name": "stdout",
     "output_type": "stream",
     "text": [
      "               1001      1002      1003      1004      1005      1006  \\\n",
      "@topic_0   0.000000  0.000000  0.000000  0.000000  0.000000  0.000000   \n",
      "@topic_1   0.000000  0.000000  0.000000  0.000000  0.000000  0.000000   \n",
      "@topic_2   0.000000  0.178653  0.000000  0.000000  0.353748  0.000000   \n",
      "@topic_3   0.000000  0.216704  0.125455  0.000000  0.000000  0.000000   \n",
      "@topic_4   0.000000  0.000000  0.000000  0.000000  0.000000  0.000000   \n",
      "@topic_5   0.000000  0.000000  0.000000  0.000000  0.000000  0.000000   \n",
      "@topic_6   0.498038  0.000000  0.874545  0.587979  0.394651  0.391527   \n",
      "@topic_7   0.290726  0.000000  0.000000  0.412021  0.251601  0.430575   \n",
      "@topic_8   0.000000  0.000000  0.000000  0.000000  0.000000  0.000000   \n",
      "@topic_9   0.000000  0.000000  0.000000  0.000000  0.000000  0.000000   \n",
      "@topic_10  0.211236  0.000000  0.000000  0.000000  0.000000  0.000000   \n",
      "@topic_11  0.000000  0.000000  0.000000  0.000000  0.000000  0.000000   \n",
      "@topic_12  0.000000  0.509984  0.000000  0.000000  0.000000  0.000000   \n",
      "@topic_13  0.000000  0.000000  0.000000  0.000000  0.000000  0.000000   \n",
      "@topic_14  0.000000  0.094659  0.000000  0.000000  0.000000  0.177898   \n",
      "\n",
      "               1007      1008      1009      1010    ...         991   992   \\\n",
      "@topic_0   0.000000  0.000000  0.000000  0.000000    ...     0.039854     0   \n",
      "@topic_1   0.000000  0.000000  0.000000  0.000000    ...     0.000000     0   \n",
      "@topic_2   0.000000  0.000000  0.524066  0.102158    ...     0.000000     0   \n",
      "@topic_3   0.000000  0.026960  0.000000  0.000000    ...     0.047606     0   \n",
      "@topic_4   0.000000  0.000000  0.000000  0.000000    ...     0.000000     0   \n",
      "@topic_5   0.000000  0.000000  0.000000  0.020648    ...     0.000000     0   \n",
      "@topic_6   0.334164  0.454015  0.414320  0.000000    ...     0.602648     1   \n",
      "@topic_7   0.084368  0.315044  0.061614  0.000000    ...     0.000000     0   \n",
      "@topic_8   0.000000  0.000000  0.000000  0.000000    ...     0.000000     0   \n",
      "@topic_9   0.000000  0.000000  0.000000  0.000000    ...     0.000000     0   \n",
      "@topic_10  0.000000  0.000000  0.000000  0.693886    ...     0.000000     0   \n",
      "@topic_11  0.000000  0.000000  0.000000  0.000000    ...     0.000000     0   \n",
      "@topic_12  0.000000  0.000000  0.000000  0.000000    ...     0.309892     0   \n",
      "@topic_13  0.581468  0.203981  0.000000  0.183308    ...     0.000000     0   \n",
      "@topic_14  0.000000  0.000000  0.000000  0.000000    ...     0.000000     0   \n",
      "\n",
      "           993       994       995       996       997       998       999   \\\n",
      "@topic_0      0  0.000000  0.000000  0.000000  0.000000  0.000000  0.000000   \n",
      "@topic_1      0  0.000000  0.000000  0.000000  0.000000  0.000000  0.000000   \n",
      "@topic_2      0  0.000000  0.505572  0.000000  0.000000  0.000000  0.000000   \n",
      "@topic_3      0  0.387727  0.000000  0.000000  0.000000  0.000000  0.000000   \n",
      "@topic_4      0  0.000000  0.000000  0.000000  0.000000  0.000000  0.000000   \n",
      "@topic_5      0  0.000000  0.000000  0.000000  0.000000  0.000000  0.000000   \n",
      "@topic_6      0  0.258294  0.000000  0.000000  0.466806  0.673292  0.471347   \n",
      "@topic_7      1  0.353979  0.000000  0.103841  0.113852  0.119259  0.000000   \n",
      "@topic_8      0  0.000000  0.000000  0.000000  0.000000  0.000000  0.000000   \n",
      "@topic_9      0  0.000000  0.000000  0.000000  0.000000  0.000000  0.000000   \n",
      "@topic_10     0  0.000000  0.494428  0.896159  0.419342  0.000000  0.000000   \n",
      "@topic_11     0  0.000000  0.000000  0.000000  0.000000  0.000000  0.000000   \n",
      "@topic_12     0  0.000000  0.000000  0.000000  0.000000  0.000000  0.000000   \n",
      "@topic_13     0  0.000000  0.000000  0.000000  0.000000  0.058765  0.528654   \n",
      "@topic_14     0  0.000000  0.000000  0.000000  0.000000  0.148684  0.000000   \n",
      "\n",
      "               1000  \n",
      "@topic_0   0.000000  \n",
      "@topic_1   0.000000  \n",
      "@topic_2   0.000000  \n",
      "@topic_3   0.000000  \n",
      "@topic_4   0.000000  \n",
      "@topic_5   0.000000  \n",
      "@topic_6   0.974959  \n",
      "@topic_7   0.000000  \n",
      "@topic_8   0.000000  \n",
      "@topic_9   0.000000  \n",
      "@topic_10  0.000000  \n",
      "@topic_11  0.000000  \n",
      "@topic_12  0.000000  \n",
      "@topic_13  0.000000  \n",
      "@topic_14  0.025041  \n",
      "\n",
      "[15 rows x 3430 columns]\n"
     ]
    }
   ],
   "source": [
    "print theta_matrix"
   ]
  },
  {
   "cell_type": "markdown",
   "metadata": {},
   "source": [
    "## Пример №2"
   ]
  },
  {
   "cell_type": "markdown",
   "metadata": {},
   "source": [
    "Это вторая часть примера использования нового интерфейса библиотеки. Загрузим обратно модель, сохранённую в прошлой части и применим к ней несколько операций.\n",
    "\n",
    "В первую очередь создадим новую тематическую модель:"
   ]
  },
  {
   "cell_type": "code",
   "execution_count": 22,
   "metadata": {
    "collapsed": false
   },
   "outputs": [],
   "source": [
    "new_model = artm.ArtmModel(num_topics=1, num_document_passes=1)"
   ]
  },
  {
   "cell_type": "markdown",
   "metadata": {},
   "source": [
    "Вторым шагом добавим в неё функционалы и регуляризаторы. Ограничимся одной новой метрикой и двумя уже знакомыми регуляризаторами:"
   ]
  },
  {
   "cell_type": "code",
   "execution_count": 23,
   "metadata": {
    "collapsed": false
   },
   "outputs": [],
   "source": [
    "new_model.scores.add(artm.TopicKernelScore(name='TopicKernelScore'))\n",
    "new_model.regularizers.add(artm.SmoothSparsePhiRegularizer(name='SparsePhi', tau=-0.1))\n",
    "new_model.regularizers.add(artm.DecorrelatorPhiRegularizer(name='DecorrelatorPhi', tau=100000.0))"
   ]
  },
  {
   "cell_type": "markdown",
   "metadata": {},
   "source": [
    "Теперь загрузим файл 'kos_artm_model' с моделью обратно в библиотеку"
   ]
  },
  {
   "cell_type": "code",
   "execution_count": 24,
   "metadata": {
    "collapsed": true
   },
   "outputs": [],
   "source": [
    "new_model.load('kos_artm_model')"
   ]
  },
  {
   "cell_type": "markdown",
   "metadata": {},
   "source": [
    "Имейте ввиду, что загружаемая модель перепишет несколько параметров нашего объекта ArtmModel: число и имена тем, матрицу Фи. Также загрузка сотрёт всю информацию о данных метрик, посчитанных ранее. Тем не менее, сами подключенные метрики и регуляризаторы никуда не денуться. В нашем случае это функционал 'TopicKernelScore' и регуляризаторы 'SparsePhi' и 'DecorrealtorPhi'.\n",
    "\n",
    "Теперь продолжим обучение модели, но, для примера, рассмотрим онлайновый режим. Это означает, что\n",
    "- число проходов по каждому документу увеличивается\n",
    "- матрица Фи может быть обновлена произвольное количество раз за один проход по коллекции (но не чаще, чем раз за обработанный батч)\n",
    "- нам требуется только оин проход по коллекции (но здесь мы сделаем 5, поскольку коллекция 'kos' довольно маленькая)."
   ]
  },
  {
   "cell_type": "code",
   "execution_count": 25,
   "metadata": {
    "collapsed": false
   },
   "outputs": [],
   "source": [
    "new_model.num_document_passes = 20\n",
    "for i in xrange(5):\n",
    "    new_model.fit_online(data_path='kos', update_every=4)"
   ]
  },
  {
   "cell_type": "markdown",
   "metadata": {},
   "source": [
    "Параметр 'update_every' говорит модели о том, раз в сколько батчей следует обновлять матрицу Фи.\n",
    "\n",
    "Выведем средние харакетристики ядер тем (чистоту и контрастность):"
   ]
  },
  {
   "cell_type": "code",
   "execution_count": 26,
   "metadata": {
    "collapsed": false
   },
   "outputs": [
    {
     "data": {
      "image/png": "[encoded data removed]",
      "text/plain": [
       "<matplotlib.figure.Figure at 0xdbeae90>"
      ]
     },
     "metadata": {},
     "output_type": "display_data"
    }
   ],
   "source": [
    "plt.plot(xrange(new_model.num_phi_updates), new_model.scores_info['TopicKernelScore'].average_contrast, 'g--',\n",
    "         xrange(new_model.num_phi_updates), new_model.scores_info['TopicKernelScore'].average_purity, 'r--', linewidth=2)\n",
    "plt.xlabel('Iterations count')\n",
    "plt.ylabel('Kernel scores')\n",
    "plt.grid(True)\n",
    "plt.show()"
   ]
  },
  {
   "cell_type": "markdown",
   "metadata": {},
   "source": [
    "Как мы видим, дальнейшее обучение загруженной модели только ухудшило её качество.\n",
    "\n",
    "Также можно посмотреть на ифнормацию о ядрах каждой темы. Для примера выведем все ядровые слова первой темы:"
   ]
  },
  {
   "cell_type": "code",
   "execution_count": 27,
   "metadata": {
    "collapsed": false
   },
   "outputs": [
    {
     "name": "stdout",
     "output_type": "stream",
     "text": [
      "[u'allowed', u'award', u'baseball', u'blogads', u'bloggers', u'blogging', u'blogosphere', u'blogs', u'boat', u'book', u'boston', u'bronze', u'curious', u'dailykos', u'drudge', u'drum', u'editors', u'fans', u'franken', u'fun', u'ideological', u'journalism', u'journalists', u'kevin', u'launch', u'limbaugh', u'links', u'lying', u'magazine', u'nevada', u'nyc', u'oreilly', u'owner', u'park', u'petraeus', u'posters', u'propaganda', u'putting', u'reader', u'readers', u'review', u'rewards', u'rnc', u'road', u'rowland', u'rush', u'season', u'selection', u'series', u'sox', u'star', u'starting', u'stations', u'suddenly', u'swift', u'treatment', u'trip', u'universe', u'updates', u'whos', u'writes', u'yankees']\n"
     ]
    }
   ],
   "source": [
    "print new_model.scores_info['TopicKernelScore'].last_topic_info[new_model.topic_names[0]].tokens"
   ]
  },
  {
   "cell_type": "markdown",
   "metadata": {},
   "source": [
    "Если у нас есть батч с документами, который не являлся частью обучающей выборки (или являлся, но мы не сохраняли Тету для экономии памяти), и мы хотим узнать столбцы матрицы Теты для него, то следует использовать метод 'find_theta':"
   ]
  },
  {
   "cell_type": "code",
   "execution_count": 28,
   "metadata": {
    "collapsed": false
   },
   "outputs": [],
   "source": [
    "test_theta_matrix = model.find_theta(data_path='kos_test', batches=['test_docs.batch'])"
   ]
  },
  {
   "cell_type": "markdown",
   "metadata": {},
   "source": [
    "ArtmModel.find_theta(), как и ArtmModel.get_theta(), возвращает Тету в виде объекта pandas.DataFrame. Напечатаем ее:"
   ]
  },
  {
   "cell_type": "code",
   "execution_count": 29,
   "metadata": {
    "collapsed": false
   },
   "outputs": [
    {
     "name": "stdout",
     "output_type": "stream",
     "text": [
      "               3001          3002          3003          3004      3005  \\\n",
      "@topic_0   0.000027  5.470489e-12  8.858154e-05  3.656309e-08  0.023009   \n",
      "@topic_1   0.000000  7.541699e-08  5.074051e-08  2.938045e-05  0.000895   \n",
      "@topic_2   0.157189  3.943506e-02  9.634718e-02  3.531554e-02  0.000529   \n",
      "@topic_3   0.026739  1.165693e-02  1.995720e-04  6.939135e-03  0.000309   \n",
      "@topic_4   0.042745  6.324435e-01  7.173850e-03  5.326908e-01  0.501921   \n",
      "@topic_5   0.116399  1.229168e-02  8.142457e-02  2.659782e-01  0.069237   \n",
      "@topic_6   0.376137  5.741606e-02  1.048807e-01  5.601984e-03  0.097928   \n",
      "@topic_7   0.163308  1.563603e-01  1.076513e-05  6.481620e-05  0.000017   \n",
      "@topic_8   0.002778  3.925599e-08  5.331547e-03  2.455403e-03  0.003307   \n",
      "@topic_9   0.000794  1.425130e-03  8.679743e-03  1.836380e-02  0.000393   \n",
      "@topic_10  0.031546  4.864770e-04  6.822578e-01  9.276247e-02  0.158374   \n",
      "@topic_11  0.010005  2.928978e-02  4.955504e-04  1.317876e-02  0.106795   \n",
      "@topic_12  0.000001  1.540385e-02  4.465850e-03  3.355200e-04  0.004254   \n",
      "@topic_13  0.055055  5.237011e-03  5.446994e-03  2.556916e-02  0.033013   \n",
      "@topic_14  0.017274  3.855428e-02  3.197273e-03  7.149512e-04  0.000019   \n",
      "\n",
      "                   3006      3007          3008          3009          3010  \\\n",
      "@topic_0   1.957635e-03  0.000003  1.880585e-02  3.284933e-08  5.062126e-11   \n",
      "@topic_1   3.125443e-09  0.000002  1.916624e-03  2.358349e-03  1.123462e-04   \n",
      "@topic_2   4.616522e-03  0.274576  1.035501e-05  5.992464e-02  7.972501e-02   \n",
      "@topic_3   4.239898e-05  0.010763  4.022042e-06  3.439169e-02  2.323690e-01   \n",
      "@topic_4   5.538867e-02  0.137051  3.462417e-03  4.187476e-02  4.170712e-01   \n",
      "@topic_5   2.461691e-05  0.015040  7.990910e-07  9.312698e-02  3.289416e-02   \n",
      "@topic_6   2.319883e-04  0.008153  6.622799e-07  2.465918e-02  4.073276e-03   \n",
      "@topic_7   3.693050e-09  0.011507  6.379254e-09  1.754549e-05  2.694929e-02   \n",
      "@topic_8   6.323615e-08  0.027515  5.784821e-02  3.420540e-03  2.061191e-03   \n",
      "@topic_9   2.269786e-06  0.000164  2.295050e-04  1.478354e-01  4.626302e-02   \n",
      "@topic_10  1.497181e-02  0.012097  6.286659e-06  7.631029e-04  4.165591e-02   \n",
      "@topic_11  1.676735e-04  0.479625  9.177150e-01  5.832035e-01  1.134682e-01   \n",
      "@topic_12  9.163975e-01  0.008182  2.467790e-14  1.429444e-05  1.918111e-05   \n",
      "@topic_13  1.890211e-05  0.000360  3.322594e-07  8.371604e-03  1.209445e-03   \n",
      "@topic_14  6.179897e-03  0.014963  2.818882e-09  3.831892e-05  2.128887e-03   \n",
      "\n",
      "               ...               3421          3422          3423  \\\n",
      "@topic_0       ...       2.400133e-02  1.399018e-08  1.669547e-01   \n",
      "@topic_1       ...       1.419814e-08  4.308100e-07  1.066091e-08   \n",
      "@topic_2       ...       2.461152e-03  3.054291e-04  4.153028e-02   \n",
      "@topic_3       ...       4.743215e-03  1.124622e-02  1.443308e-01   \n",
      "@topic_4       ...       1.030171e-02  1.556988e-05  1.541945e-01   \n",
      "@topic_5       ...       1.672102e-01  3.783172e-02  1.188388e-01   \n",
      "@topic_6       ...       6.482497e-01  3.336943e-02  2.151848e-01   \n",
      "@topic_7       ...       1.550181e-02  6.509293e-03  5.634551e-02   \n",
      "@topic_8       ...       2.256963e-03  1.091430e-03  1.011237e-02   \n",
      "@topic_9       ...       1.841017e-02  4.044366e-06  4.340245e-03   \n",
      "@topic_10      ...       1.583715e-03  1.962137e-02  4.270140e-02   \n",
      "@topic_11      ...       1.041121e-01  4.880119e-04  7.019680e-04   \n",
      "@topic_12      ...       5.572664e-08  7.564731e-01  4.844932e-05   \n",
      "@topic_13      ...       2.252655e-04  1.300061e-02  3.803436e-02   \n",
      "@topic_14      ...       9.424071e-04  1.200433e-01  6.681643e-03   \n",
      "\n",
      "                   3424          3425          3426          3427  \\\n",
      "@topic_0   3.956324e-01  4.873016e-04  1.043100e-03  2.407279e-09   \n",
      "@topic_1   1.086835e-04  7.999851e-07  9.310526e-04  6.499417e-08   \n",
      "@topic_2   6.074489e-02  4.141038e-03  2.315671e-03  1.681369e-03   \n",
      "@topic_3   1.533263e-02  5.446304e-01  7.082344e-03  1.229086e-01   \n",
      "@topic_4   1.238957e-01  9.604887e-04  7.373504e-03  3.445144e-05   \n",
      "@topic_5   2.090159e-05  2.162725e-02  3.142668e-04  7.990474e-04   \n",
      "@topic_6   3.904733e-02  2.146959e-03  3.700415e-03  5.121772e-04   \n",
      "@topic_7   2.987399e-06  1.707993e-06  1.601424e-12  3.605857e-08   \n",
      "@topic_8   3.120593e-02  8.295829e-02  1.576889e-05  4.800371e-02   \n",
      "@topic_9   6.868139e-10  1.540093e-04  6.257970e-06  8.089836e-05   \n",
      "@topic_10  1.587546e-01  2.618282e-01  8.392895e-01  7.297266e-01   \n",
      "@topic_11  6.463131e-02  1.305135e-03  7.902127e-02  7.073206e-02   \n",
      "@topic_12  2.184964e-02  3.641331e-10  2.158477e-03  1.885811e-06   \n",
      "@topic_13  1.636064e-03  7.709204e-02  5.674805e-02  2.549651e-02   \n",
      "@topic_14  8.713698e-02  2.666353e-03  2.482072e-07  2.260947e-05   \n",
      "\n",
      "                   3428          3429          3430  \n",
      "@topic_0   1.546613e-02  2.525348e-02  1.669577e-05  \n",
      "@topic_1   8.951800e-08  3.241359e-05  2.418340e-06  \n",
      "@topic_2   2.726641e-01  5.480753e-02  1.706967e-03  \n",
      "@topic_3   2.257870e-01  2.235578e-02  4.049375e-02  \n",
      "@topic_4   2.724795e-02  3.961596e-04  2.801956e-02  \n",
      "@topic_5   7.386045e-04  3.750633e-02  8.494022e-02  \n",
      "@topic_6   2.529695e-02  1.175934e-01  4.943205e-01  \n",
      "@topic_7   5.835280e-03  2.569332e-03  6.138186e-05  \n",
      "@topic_8   2.938003e-01  2.537070e-01  1.120450e-01  \n",
      "@topic_9   5.601931e-04  8.155578e-08  3.222120e-05  \n",
      "@topic_10  1.919843e-02  3.854957e-02  2.771932e-02  \n",
      "@topic_11  3.514019e-02  3.879981e-01  2.043629e-01  \n",
      "@topic_12  9.600918e-04  5.162846e-09  1.695347e-09  \n",
      "@topic_13  7.183957e-02  2.996158e-02  5.864833e-03  \n",
      "@topic_14  5.465163e-03  2.926939e-02  4.141045e-04  \n",
      "\n",
      "[15 rows x 430 columns]\n"
     ]
    }
   ],
   "source": [
    "print test_theta_matrix"
   ]
  }
 ],
 "metadata": {
  "kernelspec": {
   "display_name": "Python 2",
   "language": "python",
   "name": "python2"
  },
  "language_info": {
   "codemirror_mode": {
    "name": "ipython",
    "version": 2
   },
   "file_extension": ".py",
   "mimetype": "text/x-python",
   "name": "python",
   "nbconvert_exporter": "python",
   "pygments_lexer": "ipython2",
   "version": "2.7.7"
  }
 },
 "nbformat": 4,
 "nbformat_minor": 0
}
