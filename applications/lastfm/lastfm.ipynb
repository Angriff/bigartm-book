{
 "cells": [
  {
   "cell_type": "markdown",
   "metadata": {},
   "source": [
    "#Тематическая модель на данных Last.fm"
   ]
  },
  {
   "cell_type": "markdown",
   "metadata": {
    "collapsed": true
   },
   "source": [
    "###Данные"
   ]
  },
  {
   "cell_type": "markdown",
   "metadata": {},
   "source": [
    "Данные Last.fm брались <a href=http:/www.dtic.upf.edu/~ocelma/MusicRecommendationDataset/lastfm-360K.html> отсюда</a>. Они содержат плейлисты 360 тысяч пользователей с указанием сколько раз каждый юзер слушал музыканта. Эти плейлисты рассматривались как документы в тематической модели, и выделенные темы образовывали различные музыкальные жанры (названия которых я оставлю подобрать читателю)."
   ]
  },
  {
   "cell_type": "markdown",
   "metadata": {
    "collapsed": true
   },
   "source": [
    "###Процесс"
   ]
  },
  {
   "cell_type": "markdown",
   "metadata": {
    "collapsed": true
   },
   "source": [
    "Подключаем все необходимые библиотеки."
   ]
  },
  {
   "cell_type": "code",
   "execution_count": 1,
   "metadata": {
    "collapsed": false
   },
   "outputs": [],
   "source": [
    "from lastfm_util import *\n",
    "import matplotlib.pyplot as plt\n",
    "\n",
    "import artm.artm_model\n",
    "from artm.artm_model import *\n",
    "\n",
    "%matplotlib inline\n",
    "\n",
    "plays_file = 'usersha1-artmbid-artname-plays.tsv' #Название файла с данными"
   ]
  },
  {
   "cell_type": "markdown",
   "metadata": {
    "collapsed": true
   },
   "source": [
    "Теперь надо распарсить коллекцию и подать ее библиотеке. Я использовал свой парсер и создавал вручную батчи в нужном формате."
   ]
  },
  {
   "cell_type": "code",
   "execution_count": 2,
   "metadata": {
    "collapsed": false
   },
   "outputs": [],
   "source": [
    "batch_path = create_batches(users_to_handle = 100000, users_in_batch = 1000) \n",
    "#Мы обрабатываем только первые 100 тысяч записей и строим батчи по 1000 штук юзеров в каждом"
   ]
  },
  {
   "cell_type": "markdown",
   "metadata": {},
   "source": [
    "Следующий шаг - настоить и запустить bigartm."
   ]
  },
  {
   "cell_type": "markdown",
   "metadata": {
    "collapsed": true
   },
   "source": [
    "Создаем названия главных и фоновых тем, потом настраиваем регуляризаторы и счетчики."
   ]
  },
  {
   "cell_type": "code",
   "execution_count": 3,
   "metadata": {
    "collapsed": false
   },
   "outputs": [],
   "source": [
    "all_topics, objective_topics, background_topics = create_topic_names(200, 5)\n",
    "\n",
    "model = ArtmModel(topic_names=all_topics)\n",
    "model.num_processors = 4\n",
    "\n",
    "#Счетчики\n",
    "model.scores.add(SparsityPhiScore(name='ObjectiveSparsityPhiScore', topic_names=objective_topics))\n",
    "model.scores.add(SparsityThetaScore(name='ObjectiveSparsityThetaScore', topic_names=objective_topics))\n",
    "model.scores.add(PerplexityScore(name='PerplexityScore'))\n",
    "model.scores.add(TopTokensScore(name='TopTokensScore', num_tokens=5))\n",
    "model.scores.add(TopTokensScore(name='TopTokensScoreExtended', num_tokens=20))\n",
    "\n",
    "#Регуляризаторы\n",
    "model.regularizers.add(SmoothSparsePhiRegularizer(name='ObjectiveSparsePhi',\n",
    "                                                  topic_names=objective_topics, tau=-0.1))\n",
    "model.regularizers.add(SmoothSparseThetaRegularizer(name='ObjectiveSparseTheta',\n",
    "                                                    topic_names=objective_topics, tau=-2.0))\n",
    "model.regularizers.add(SmoothSparsePhiRegularizer(name='BackgroundSparsePhi',\n",
    "                                                  topic_names=background_topics, tau=0.1))\n",
    "model.regularizers.add(SmoothSparseThetaRegularizer(name='BackgroundSparseTheta',\n",
    "                                                    topic_names=background_topics, tau=2.0))\n",
    "model.regularizers.add(DecorrelatorPhiRegularizer(name='DecorrelatorPhi',\n",
    "                                                  topic_names=objective_topics, tau=100000.0))\n",
    "\n",
    "model.initialize(data_path=batch_path)"
   ]
  },
  {
   "cell_type": "markdown",
   "metadata": {},
   "source": [
    "Запускаем!"
   ]
  },
  {
   "cell_type": "code",
   "execution_count": 4,
   "metadata": {
    "collapsed": false
   },
   "outputs": [],
   "source": [
    "model.fit_offline(data_path=batch_path, num_collection_passes=15)"
   ]
  },
  {
   "cell_type": "markdown",
   "metadata": {},
   "source": [
    "###Результаты"
   ]
  },
  {
   "cell_type": "markdown",
   "metadata": {},
   "source": [
    "Теперь уже можно порисовать графики и вывести жанры. "
   ]
  },
  {
   "cell_type": "code",
   "execution_count": 5,
   "metadata": {
    "collapsed": false
   },
   "outputs": [
    {
     "data": {
      "image/png": "[encoded data removed]",
      "text/plain": [
       "<matplotlib.figure.Figure at 0x7fea895213d0>"
      ]
     },
     "metadata": {},
     "output_type": "display_data"
    },
    {
     "data": {
      "image/png": "[encoded data removed]",
      "text/plain": [
       "<matplotlib.figure.Figure at 0x7fea89470810>"
      ]
     },
     "metadata": {},
     "output_type": "display_data"
    }
   ],
   "source": [
    "plt.plot(range(model.num_phi_updates), model.scores_info['PerplexityScore'].value, 'r--', linewidth=2)\n",
    "plt.xlabel('Iterations count')\n",
    "plt.ylabel('Perplexity')\n",
    "plt.grid(True)\n",
    "plt.show()\n",
    "\n",
    "plt.plot(range(model.num_phi_updates), model.scores_info['ObjectiveSparsityPhiScore'].value, 'b--',\n",
    "         range(model.num_phi_updates), model.scores_info['ObjectiveSparsityThetaScore'].value, 'r--', linewidth=2)\n",
    "plt.xlabel('Iterations count')\n",
    "plt.ylabel('Objective Phi sparsity, Theta sparsity')\n",
    "plt.grid(True)\n",
    "plt.show()"
   ]
  },
  {
   "cell_type": "code",
   "execution_count": 6,
   "metadata": {
    "collapsed": false
   },
   "outputs": [
    {
     "name": "stdout",
     "output_type": "stream",
     "text": [
      "Genres\n",
      "objective topic 0:  [u'metallica', u'black sabbath', u'mot\\xf6rhead', u'deep purple', u'black label society']\n",
      "objective topic 1:  [u'dropkick murphys', u'flogging molly', u'rancid', u'madness', u'the specials']\n",
      "objective topic 2:  [u'tocotronic', u'kettcar', u'tomte', u'the notwist', u'rosenstolz']\n",
      "objective topic 3:  [u'rush', u'the sisters of mercy', u'siouxsie and the banshees', u'bauhaus', u'steely dan']\n",
      "objective topic 4:  [u'\\ub3d9\\ubc29\\uc2e0\\uae30', u'big bang', u'super junior', u'kat-tun', u'epik high']\n",
      "objective topic 5:  [u'die \\xc4rzte', u'b\\xf6hse onkelz', u'die toten hosen', u'farin urlaub', u'broilers']\n",
      "objective topic 6:  [u'cannibal corpse', u'behemoth', u'nile', u'meshuggah', u'vader']\n",
      "objective topic 7:  [u'incubus', u'stereophonics', u'311', u'our lady peace', u'ash']\n",
      "objective topic 8:  [u'glenn gould', u'camel', u'os mutantes', u'emerson, lake & palmer', u'seu jorge']\n",
      "objective topic 9:  [u'bad religion', u'nofx', u'millencolin', u'anti-flag', u'pennywise']\n",
      "objective topic 10:  [u'iron maiden', u'megadeth', u'ozzy osbourne', u'judas priest', u'bruce dickinson']\n",
      "objective topic 11:  [u'brian eno', u'the fall', u'low', u'can', u'wire']\n",
      "objective topic 12:  [u'placebo', u'iamx', u'sneaker pimps', u'archive', u'vast']\n",
      "objective topic 13:  [u'atmosphere', u'jedi mind tricks', u'aesop rock', u'cunninlynguists', u'immortal technique']\n",
      "objective topic 14:  [u'bob marley & the wailers', u'the cat empire', u'sizzla', u'groundation', u'bill hicks']\n",
      "objective topic 15:  [u'k.i.z.', u'bushido', u'kool savas', u'sido', u'prinz pi']\n",
      "objective topic 16:  [u'cat power', u'rufus wainwright', u'calexico', u'camera obscura', u'mirah']\n",
      "objective topic 17:  [u'johann sebastian bach', u'fr\\xe9d\\xe9ric chopin', u'ludwig van beethoven', u'wolfgang amadeus mozart', u'antonio vivaldi']\n",
      "objective topic 18:  [u'mando diao', u'beatsteaks', u'max\\xefmo park', u'the subways', u'clueso']\n",
      "objective topic 19:  [u'nasum', u'napalm death', u'pig destroyer', u'anal cunt', u'afghanistan-v.a']\n",
      "objective topic 20:  [u'turbonegro', u'tiger army', u'indigo girls', u'social distortion', u'nekromantix']\n",
      "objective topic 21:  [u'black flag', u'bad brains', u'minor threat', u'devo', u'descendents']\n",
      "objective topic 22:  [u'joe satriani', u'fleetwood mac', u'neil young', u'steve vai', u'blondie']\n",
      "objective topic 23:  [u'abba', u'bryan adams', u'roxette', u'elton john', u'phil collins']\n",
      "objective topic 24:  [u'eminem', u'2pac', u'lil wayne', u'nas', u'the game']\n",
      "objective topic 25:  [u'as i lay dying', u'bring me the horizon', u'parkway drive', u'the devil wears prada', u'a day to remember']\n",
      "objective topic 26:  [u'enrique iglesias', u'scooter', u'cascada', u'basshunter', u'groove coverage']\n",
      "objective topic 27:  [u'the doors', u'the who', u'jimi hendrix', u'creedence clearwater revival', u'the jimi hendrix experience']\n",
      "objective topic 28:  [u'john mayer', u'counting crows', u'anouk', u'david gray', u'toto']\n",
      "objective topic 29:  [u'the rasmus', u'carter burwell', u'esbj\\xf6rn svensson trio', u'grace and julian', u'negative']\n",
      "objective topic 30:  [u'dave matthews band', u'dispatch', u'fabrizio de andr\\xe9', u'o.a.r.', u'elio e le storie tese']\n",
      "objective topic 31:  [u'foo fighters', u'the offspring', u'mindless self indulgence', u'dethklok', u'godsmack']\n",
      "objective topic 32:  [u'ensiferum', u'finntroll', u'korpiklaani', u'amon amarth', u'eluveitie']\n",
      "objective topic 33:  [u'have heart', u'comeback kid', u'hatebreed', u'terror', u'madball']\n",
      "objective topic 34:  [u'3oh!3', u'metro station', u'hladno pivo', u'frauenarzt und manny marc', u'cherine anderson & kymani marley']\n",
      "objective topic 35:  [u'cypress hill', u'wu-tang clan', u'krec', u'ghostface', u'beastie boys']\n",
      "objective topic 36:  [u'o.s.t.r.', u'eldo', u'westlife', u'paktofonika', u'donguralesko']\n",
      "objective topic 37:  [u'ayreon', u'pain of salvation', u'devin townsend', u'symphony x', u'evergrey']\n",
      "objective topic 38:  [u'the cure', u'the smiths', u'joy division', u'morrissey', u'new order']\n",
      "objective topic 39:  [u'elliott smith', u'bright eyes', u'sufjan stevens', u'iron & wine', u'the shins']\n",
      "objective topic 40:  [u'max richter', u'biosphere', u'stars of the lid', u'tim hecker', u'helios']\n",
      "objective topic 41:  [u'arctic monkeys', u'the strokes', u'the kooks', u'the libertines', u'babyshambles']\n",
      "objective topic 42:  [u'[unknown]', u'boa', u'soil & \"pimp\" sessions', u's.h.e', u'kota hoshino']\n",
      "objective topic 43:  [u'wilco', u'neko case', u'the avett brothers', u'josh ritter', u'drive-by truckers']\n",
      "objective topic 44:  [u'frank zappa', u'grateful dead', u'phish', u'the album leaf', u'poshet']\n",
      "objective topic 45:  [u'of montreal', u'andrew bird', u'spoon', u'the magnetic fields', u'the new pornographers']\n",
      "objective topic 46:  [u'queen', u'ac/dc', u'aerosmith', u'van halen', u'def leppard']\n",
      "objective topic 47:  [u'rise against', u'billy talent', u'tenacious d', u'avenged sevenfold', u'bullet for my valentine']\n",
      "objective topic 48:  [u'sigur r\\xf3s', u'richard cheese', u'madrugada', u'hu? hannaliisa uusma', u'24 italian songs and arias']\n",
      "objective topic 49:  [u'tori amos', u'the cranberries', u'alanis morissette', u'sarah mclachlan', u'robbie williams']\n",
      "objective topic 50:  [u'queens of the stone age', u'gorillaz', u'gnarls barkley', u'eagles of death metal', u'deus']\n",
      "objective topic 51:  [u'massive attack', u'air', u'r\\xf6yksopp', u'the chemical brothers', u'goldfrapp']\n",
      "objective topic 52:  [u'in flames', u'disturbed', u'slipknot', u'lamb of god', u'killswitch engage']\n",
      "objective topic 53:  [u'los planetas', u'extremoduro', u'h\\xe9roes del silencio', u'la casa azul', u'vetusta morla']\n",
      "objective topic 54:  [u'the pogues', u'songs: ohia', u'above & beyond pres. oceanlab', u'the dubliners', u'townes van zandt']\n",
      "objective topic 55:  [u'machinae supremacy', u'stam1na', u'klamydia', u'kotiteollisuus', u'turmion k\\xe4til\\xf6t']\n",
      "objective topic 56:  [u'hot chip', u'vampire weekend', u'emilie simon', u'super furry animals', u'the walkmen']\n",
      "objective topic 57:  [u'brand new', u'coheed and cambria', u'enigma', u'mike oldfield', u'circa survive']\n",
      "objective topic 58:  [u'amy winehouse', u'nina simone', u'billie holiday', u'caetano veloso', u'aretha franklin']\n",
      "objective topic 59:  [u'daft punk', u'justice', u'basement jaxx', u'the chemical brothers', u'charly parker']\n",
      "objective topic 60:  [u'britney spears', u'lady gaga', u'beyonc\\xe9', u'katy perry', u'rihanna']\n",
      "objective topic 61:  [u'evanescence', u'kiss', u'lordi', u'uriah heep', u'wwe']\n",
      "objective topic 62:  [u'burzum', u'darkthrone', u'marduk', u'satyricon', u'immortal']\n",
      "objective topic 63:  [u'nelly furtado', u'justin timberlake', u'black eyed peas', u'rihanna', u'timbaland']\n",
      "objective topic 64:  [u'coma', u'myslovitz', u'kult', u'happysad', u'pid\\u017cama porno']\n",
      "objective topic 65:  [u'moby', u'akira yamaoka', u'mutate now', u'bisquit', u'efterklang']\n",
      "objective topic 66:  [u'fall out boy', u'paramore', u'panic at the disco', u'jimmy eat world', u'dashboard confessional']\n",
      "objective topic 67:  [u'los hermanos', u'chico buarque', u'engenheiros do hawaii', u'legi\\xe3o urbana', u'fresno']\n",
      "objective topic 68:  [u'explosions in the sky', u'mogwai', u'god is an astronaut', u'isis', u'65daysofstatic']\n",
      "objective topic 69:  [u'the residents', u'lena chamamyan', u'broken social scene presents kevin drew', u'autisterna', u'bohren & der club of gore']\n",
      "objective topic 70:  [u'pj harvey', u'pulp', u'suede', u'primal scream', u'the raveonettes']\n",
      "objective topic 71:  [u'minus the bear', u'at the drive-in', u'cursive', u'fugazi', u'...and you will know us by the trail of dead']\n",
      "objective topic 72:  [u'kanye west', u\"lil' wayne\", u'jay-z', u'lupe fiasco', u'outkast']\n",
      "objective topic 73:  [u'genesis', u'king crimson', u'peter gabriel', u'supertramp', u'the alan parsons project']\n",
      "objective topic 74:  [u'modest mouse', u'beck', u'eels', u'the flaming lips', u'pixies']\n",
      "objective topic 75:  [u'prince', u'stevie wonder', u'otis redding', u'sam cooke', u'public enemy']\n",
      "objective topic 76:  [u'death cab for cutie', u'damien rice', u'the postal service', u'jimmy eat world', u'guster']\n",
      "objective topic 77:  [u'the radio dept.', u'stereolab', u'm83', u'saint etienne', u'slowdive']\n",
      "objective topic 78:  [u'hans zimmer', u'howard shore', u'john williams', u'soundtrack', u'ennio morricone']\n",
      "objective topic 79:  [u'asp', u'oomph!', u'blutengel', u'combichrist', u'unheilig']\n",
      "objective topic 80:  [u'porcupine tree', u'opeth', u'marillion', u'riverside', u'blackfield']\n",
      "objective topic 81:  [u'norah jones', u'michael bubl\\xe9', u'jamie cullum', u'diana krall', u'ella fitzgerald']\n",
      "objective topic 82:  [u'the roots', u'a tribe called quest', u'j dilla', u'madlib', u'mf doom']\n",
      "objective topic 83:  [u'noir d\\xe9sir', u'camp rock', u'tryo', u'\\xc9dith piaf', u'center za dehumanizacijo']\n",
      "objective topic 84:  [u'avril lavigne', u'backstreet boys', u'jonas brothers', u'kelly clarkson', u'simple plan']\n",
      "objective topic 85:  [u'\\u690d\\u677e\\u4f38\\u592b', u'ani difranco', u'\\u83c5\\u91ce\\u3088\\u3046\\u5b50', u'the seatbelts', u'\\u5149\\u7530\\u5eb7\\u5178']\n",
      "objective topic 86:  [u'volbeat', u'die apokalyptischen reiter', u'eisregen', u'barbariz & pastacas', u'knorkator']\n",
      "objective topic 87:  [u'misfits', u'dire straits', u'mark knopfler', u'sex pistols', u'the exploited']\n",
      "objective topic 88:  [u'barenaked ladies', u'billy joel', u'dixie chicks', u'carrie underwood', u'rascal flatts']\n",
      "objective topic 89:  [u'emilie autumn', u'cradle of filth', u'rasputina', u'jack off jill', u'kittie']\n",
      "objective topic 90:  [u'soilwork', u'scar symmetry', u'hawkwind', u'sonic syndicate', u'muslimgauze']\n",
      "objective topic 91:  [u'mariah carey', u'alicia keys', u'chris brown', u'ne-yo', u'beyonc\\xe9']\n",
      "objective topic 92:  [u'tool', u'a perfect circle', u'deftones', u'the mars volta', u'faith no more']\n",
      "objective topic 93:  [u'louis armstrong', u'16 horsepower', u'nat king cole', u'kid cudi', u'brielle davis']\n",
      "objective topic 94:  [u'alkaline trio', u'against me!', u'the gaslight anthem', u'the get up kids', u'hot water music']\n",
      "objective topic 95:  [u'tegan and sara', u'ladytron', u'metric', u'le tigre', u'the distillers']\n",
      "objective topic 96:  [u'kylie minogue', u'christina aguilera', u'girls aloud', u'c\\xe9line dion', u'sugababes']\n",
      "objective topic 97:  [u'yann tiersen', u'miles davis', u'john coltrane', u'chet baker', u'bill evans']\n",
      "objective topic 98:  [u'the pillows', u'asian kung-fu generation', u'ellegarden', u'\\u304f\\u308b\\u308a', u'polysics']\n",
      "objective topic 99:  [u'rammstein', u'ko\\u042fn', u'marilyn manson', u'slipknot', u'guano apes']\n",
      "objective topic 100:  [u'cmx', u'the sounds', u'apulanta', u'disco ensemble', u'pmmp']\n",
      "objective topic 101:  [u'manu chao', u'gogol bordello', u'ska-p', u'aaron marshall', u'chumbawamba']\n",
      "objective topic 102:  [u'belle and sebastian', u'beirut', u'girl talk', u'patrick wolf', u'architecture in helsinki']\n",
      "objective topic 103:  [u'nine inch nails', u'einst\\xfcrzende neubauten', u'saul williams', u'marilyn manson', u'filter']\n",
      "objective topic 104:  [u'reel big fish', u'less than jake', u'streetlight manifesto', u'mad caddies', u'goldfinger']\n",
      "objective topic 105:  [u'vnv nation', u'apoptygma berzerk', u'covenant', u'assemblage 23', u'and one']\n",
      "objective topic 106:  [u'\\u68b6\\u6d66\\u7531\\u8a18', u'kotoko', u'high and mighty color', u'ali project', u'uverworld']\n",
      "objective topic 107:  [u'him', u'the 69 eyes', u'bloodhound gang', u'cky', u'entwine']\n",
      "objective topic 108:  [u'the white stripes', u'franz ferdinand', u'blur', u'the hives', u'the raconteurs']\n",
      "objective topic 109:  [u'shakira', u'juanes', u'hilary duff', u'rbd', u'man\\xe1']\n",
      "objective topic 110:  [u'crystal castles', u'klaxons', u'cansei de ser sexy', u'foals', u'tokyo police club']\n",
      "objective topic 111:  [u'jarom\\xedr nohavica', u'daniel landa', u'vypsan\\xe1 fixa', u'hork\\xfd\\u017ee sl\\xed\\u017ee', u'kab\\xe1t']\n",
      "objective topic 112:  [u'tom waits', u'nick cave and the bad seeds', u'ryan adams', u'the black keys', u'my morning jacket']\n",
      "objective topic 113:  [u'converge', u'the dillinger escape plan', u'the blood brothers', u'the fall of troy', u'fear before the march of flames']\n",
      "objective topic 114:  [u'led zeppelin', u'eric clapton', u'the rolling stones', u'b.b. king', u'lynyrd skynyrd']\n",
      "objective topic 115:  [u'n*e*r*d', u'john legend', u'disney', u'say hi to your mom', u'matt pond pa']\n",
      "objective topic 116:  [u'bon jovi', u'alice cooper', u'\"weird al\" yankovic', u'bowling for soup', u'me first and the gimme gimmes']\n",
      "objective topic 117:  [u'sonata arctica', u'blind guardian', u'kamelot', u'edguy', u'hammerfall']\n",
      "objective topic 118:  [u'breaking benjamin', u'three days grace', u'seether', u'staind', u'nickelback']\n",
      "objective topic 119:  [u'dir en grey', u'gackt', u'\\u30e0\\u30c3\\u30af', u\"l'arc~en~ciel\", u'maximum the hormone']\n",
      "objective topic 120:  [u'slayer', u'sepultura', u'pantera', u'kreator', u'testament']\n",
      "objective topic 121:  [u'pink floyd', u'nirvana', u'roger waters', u'david gilmour', u'monty python']\n",
      "objective topic 122:  [u'dj ti\\xebsto', u'paul oakenfold', u'paolo fresu / uri caine', u'azra (sevdah shuttle band)', u'wizo']\n",
      "objective topic 123:  [u'nightwish', u'apocalyptica', u'therion', u'rammstein', u\"blackmore's night\"]\n",
      "objective topic 124:  [u'relient k', u'p.o.d.', u'skillet', u'demon hunter', u'pillar']\n",
      "objective topic 125:  [u'bj\\xf6rk', u'they might be giants', u'antony and the johnsons', u'the cinematic orchestra', u'dj shadow']\n",
      "objective topic 126:  [u'nouvelle vague', u'morphine', u'ween', u'stereo total', u'everclear']\n",
      "objective topic 127:  [u'imogen heap', u'mew', u'jason mraz', u'frou frou', u'stars']\n",
      "objective topic 128:  [u'bob dylan', u'bruce springsteen', u'simon & garfunkel', u'leonard cohen', u'neil young']\n",
      "objective topic 129:  [u'linkin park', u'green day', u'nickelback', u'fort minor', u'eminem']\n",
      "objective topic 130:  [u'lacuna coil', u'within temptation', u'epica', u'nightwish', u'after forever']\n",
      "objective topic 131:  [u'diary of dreams', u'lacrimosa', u'deine lakaien', u'comedy central', u'qntal']\n",
      "objective topic 132:  [u'the beatles', u'the beach boys', u'john lennon', u'paul mccartney', u'george harrison']\n",
      "objective topic 133:  [u'michael jackson', u'm\\xf6tley cr\\xfce', u\"guns n' roses\", u'skid row', u'hanoi rocks']\n",
      "objective topic 134:  [u'bloc party', u'interpol', u'arcade fire', u'editors', u'the national']\n",
      "objective topic 135:  [u'depeche mode', u'u2', u'r.e.m.', u'pet shop boys', u'the police']\n",
      "objective topic 136:  [u'\\u6d5c\\u5d0e\\u3042\\u3086\\u307f', u'\\u5b87\\u591a\\u7530\\u30d2\\u30ab\\u30eb', u'\\u5742\\u672c\\u771f\\u7dbe', u'perfume', u'\\u5016\\u7530\\u4f86\\u672a']\n",
      "objective topic 137:  [u'30 seconds to mars', u'sum 41', u'my chemical romance', u'papa roach', u'lostprophets']\n",
      "objective topic 138:  [u'lumen', u'fl\\u0451ur', u'myl\\xe8ne farmer', u'\\u0421\\u043f\\u043b\\u0438\\u043d', u'z\\u0435\\u043c\\u0444\\u0438\\u0440\\u0430']\n",
      "objective topic 139:  [u'blink-182', u'funeral for a friend', u'angels & airwaves', u'silverstein', u'underoath']\n",
      "objective topic 140:  [u'manic street preachers', u'sleater-kinney', u'advent children', u'sloan', u'the replacements']\n",
      "objective topic 141:  [u'burial', u'bayram band', u'flying lotus', u'dizzee rascal', u'skream']\n",
      "objective topic 142:  [u'ulver', u'jethro tull', u'agalloch', u'arcturus', u'ozric tentacles']\n",
      "objective topic 143:  [u'ramones', u'the clash', u'pixies', u'sublime', u'beastie boys']\n",
      "objective topic 144:  [u'sezen aksu', u'duman', u'teoman', u'\\u015eebnem ferah', u'pinhani']\n",
      "objective topic 145:  [u'coldplay', u'muse', u'the killers', u'snow patrol', u'keane']\n",
      "objective topic 146:  [u'jamiroquai', u'erykah badu', u'jill scott', u'lauryn hill', u'corinne bailey rae']\n",
      "objective topic 147:  [u'frank sinatra', u'cake', u'cat stevens', u'dj-waxy', u'jaane tu... ya jaane na']\n",
      "objective topic 148:  [u'david bowie', u'the rolling stones', u'the kinks', u'elvis costello', u'the velvet underground']\n",
      "objective topic 149:  [u'children of bodom', u'in flames', u'dark tranquillity', u'arch enemy', u'dimmu borgir']\n",
      "objective topic 150:  [u'jack johnson', u'kings of convenience', u'jos\\xe9 gonz\\xe1lez', u'feist', u'ben harper']\n",
      "objective topic 151:  [u'red hot chili peppers', u'rage against the machine', u'audioslave', u'guns n roses', u'velvet revolver']\n",
      "objective topic 152:  [u'venetian snares', u'the flashbulb', u'high contrast', u'london elektricity', u'logistics']\n",
      "objective topic 153:  [u'dead can dance', u'the dresden dolls', u'vangelis', u'kraftwerk', u'ludovico einaudi']\n",
      "objective topic 154:  [u'kent', u'lars winnerb\\xe4ck', u'h\\xe5kan hellstr\\xf6m', u'anna ternheim', u'slagsm\\xe5lsklubben']\n",
      "objective topic 155:  [u'james blunt', u'lifehouse', u'goo goo dolls', u'3 doors down', u'the fray']\n",
      "objective topic 156:  [u'atb', u'armin van buuren', u'ti\\xebsto', u'paul van dyk', u'delerium']\n",
      "objective topic 157:  [u'kings of leon', u'black rebel motorcycle club', u'the dandy warhols', u'elbow', u'doves']\n",
      "objective topic 158:  [u'system of a down', u'serj tankian', u'scars on broadway', u'disturbed', u'we are the physics']\n",
      "objective topic 159:  [u'kashmir', u'phyllis hyman', u'frau kraushaar', u'nintendo', u'veto']\n",
      "objective topic 160:  [u'iced earth', u'helloween', u'judas priest', u'manowar', u'scorpions']\n",
      "objective topic 161:  [u'bonobo', u'zero 7', u'rjd2', u'thievery corporation', u'amon tobin']\n",
      "objective topic 162:  [u'kmfdm', u'ministry', u'skinny puppy', u'front line assembly', u'front 242']\n",
      "objective topic 163:  [u'shpongle', u'juno reactor', u'astral projection', u'carbon based lifeforms', u'infected mushroom']\n",
      "objective topic 164:  [u'mcfly', u'mika', u'katie melua', u'plain white ts', u'ordo rosarius equilibrio & spiritual front']\n",
      "objective topic 165:  [u'dean martin', u'marvin gaye', u'kaizers orchestra', u'al green', u'\\u20ac\\u20ac\\u20ac\\u2013\\u20ac\\xe2\\u20ac\\xce\\u20ac\\xac\\u20ac\\xab\\u20ac\\xea']\n",
      "objective topic 166:  [u'fant\\xf4mas', u'pizzicato five', u'mr. bungle', u'louis logic & j.j. brown', u'aretha franklin & otis redding']\n",
      "objective topic 167:  [u'electric six', u'seal', u'jeremy soule', u'frank klepacki', u'furunkulus nonsens']\n",
      "objective topic 168:  [u'the smashing pumpkins', u'pearl jam', u'alice in chains', u'nirvana', u'soundgarden']\n",
      "objective topic 169:  [u'bob marley', u'gentleman', u'matisyahu', u'seeed', u'blumentopf']\n",
      "objective topic 170:  [u'switchfoot', u'hillsong united', u'hillsong', u'jars of clay', u'david crowder band']\n",
      "objective topic 171:  [u'enya', u'sarah brightman', u'loreena mckennitt', u'jonathan larson', u'andrew lloyd webber']\n",
      "objective topic 172:  [u'kaiser chiefs', u'maroon 5', u'hot hot heat', u'the bravery', u'hard-fi']\n",
      "objective topic 173:  [u'afi', u'the used', u'new found glory', u'the all-american rejects', u'silverchair']\n",
      "objective topic 174:  [u'portishead', u'garbage', u'the cardigans', u'tricky', u'm\\xfam']\n",
      "objective topic 175:  [u'buckethead', u'john frusciante', u'citizen cope', u'2 minutos', u'carajo']\n",
      "objective topic 176:  [u'radiohead', u'thom yorke', u'air', u'jon brion', u'badly drawn boy']\n",
      "objective topic 177:  [u'de-phazz', u'koop', u'jazzanova', u'dizzy rascal ft. calvin harris', u'st. germain']\n",
      "objective topic 178:  [u't.a.t.u.', u'caf\\xe9 del mar', u'collective soul', u'kaskade', u'reamonn']\n",
      "objective topic 179:  [u'kyuss', u'clutch', u'melvins', u'the hellacopters', u'monster magnet']\n",
      "objective topic 180:  [u'dream theater', u'dredg', u'ian m banks', u'liquid tension experiment', u\"king's x\"]\n",
      "objective topic 181:  [u'oasis', u'soda stereo', u'andr\\xe9s calamaro', u'caf\\xe9 tacuba', u'babas\\xf3nicos']\n",
      "objective topic 182:  [u'boards of canada', u'aphex twin', u'autechre', u'squarepusher', u'four tet']\n",
      "objective topic 183:  [u'madonna', u'das gro\\xdfe deutsche schlager fe', u'cyndi lauper', u'natalie imbruglia', u'barbra streisand']\n",
      "objective topic 184:  [u'sonic youth', u'pavement', u'my bloody valentine', u'guided by voices', u'yo la tengo']\n",
      "objective topic 185:  [u'animal collective', u'the mountain goats', u'devendra banhart', u'grizzly bear', u'okkervil river']\n",
      "objective topic 186:  [u'johnny cash', u'elvis presley', u't\\xe9dio boys', u'hank williams', u'buddy holly']\n",
      "objective topic 187:  [u'alexisonfire', u'city and colour', u'biffy clyro', u'65daysofstatic', u'fightstar']\n",
      "objective topic 188:  [u'coil', u'current 93', u'death in june', u'swans', u'flagrant fowl']\n",
      "objective topic 189:  [u'regina spektor', u'the knife', u'cocorosie', u'feist', u'lily allen']\n",
      "objective topic 190:  [u'subway to sally', u'in extremo', u'schandmaul', u'feeder', u'zebrahead']\n",
      "objective topic 191:  [u'ben folds', u'weezer', u'ben folds five', u'flight of the conchords', u'crowded house']\n",
      "objective topic 192:  [u'the prodigy', u'infected mushroom', u'pendulum', u'the crystal method', u'the chemical brothers']\n",
      "objective topic 193:  [u'poets of the fall', u'the birthday massacre', u'celldweller', u'dope', u'(hed) planet earth']\n",
      "objective topic 194:  [u'anathema', u'katatonia', u'paradise lost', u'moonspell', u'the gathering']\n",
      "Background genres\n",
      "background topic 0:  [u'morcheeba', u'sting', u'dido', u'gotan project', u'amy macdonald']\n",
      "background topic 1:  [u'mgmt', u'cut copy', u'digitalism', u'hot chip', u'the presets']\n",
      "background topic 2:  [u'serge gainsbourg', u'various artists', u'jacques brel', u'astor piazzolla', u'murat & jose band']\n",
      "background topic 3:  [u'james brown', u'ray charles', u'santana', u'buena vista social club', u'antonio serrano']\n",
      "background topic 4:  [u'thievery corporation', u'trentem\\xf8ller', u'booka shade', u'apparat', u'ellen allien']\n"
     ]
    }
   ],
   "source": [
    "print_genres(model, objective_topics, background_topics)"
   ]
  },
  {
   "cell_type": "markdown",
   "metadata": {},
   "source": [
    "Дальше мы можем по этой тематической модели искать похожих артистов и давать рекомендации пользователям."
   ]
  },
  {
   "cell_type": "markdown",
   "metadata": {},
   "source": [
    "Например, найдем похожих артистов для Metallica, Green day и Beatles. "
   ]
  },
  {
   "cell_type": "code",
   "execution_count": 7,
   "metadata": {
    "collapsed": false
   },
   "outputs": [
    {
     "name": "stdout",
     "output_type": "stream",
     "text": [
      "Mettalica\n",
      "0.0596895914539 black sabbath\n",
      "0.0370497202255 motörhead\n",
      "0.0208851218806 deep purple\n",
      "0.0208783883819 black label society\n",
      "0.0169997033966 pantera\n",
      "Green day\n",
      "0.14385525151 linkin park\n",
      "0.0191671629789 nickelback\n",
      "0.00953302687415 fort minor\n",
      "0.00753056790779 eminem\n",
      "0.00229328834612 jay-z and linkin park\n",
      "Beatles\n",
      "0.0298802760885 the beach boys\n",
      "0.0270847116987 john lennon\n",
      "0.0143877274924 paul mccartney\n",
      "0.0102277409521 george harrison\n",
      "0.00648181141148 weezer\n"
     ]
    }
   ],
   "source": [
    "print \"Mettalica\"\n",
    "for musician in find_similar_musicians(model, \"metallica\", 5, objective_topics):\n",
    "    print musician[0], musician[1]\n",
    "print \"Green day\"\n",
    "for musician in find_similar_musicians(model, \"green day\", 5, objective_topics):\n",
    "    print musician[0], musician[1]\n",
    "print \"Beatles\"\n",
    "for musician in find_similar_musicians(model, \"the beatles\", 5, objective_topics):\n",
    "    print musician[0], musician[1]"
   ]
  },
  {
   "cell_type": "code",
   "execution_count": 9,
   "metadata": {
    "collapsed": false
   },
   "outputs": [
    {
     "name": "stdout",
     "output_type": "stream",
     "text": [
      "User's top musicians\n",
      "0.0837137118861 radiohead\n",
      "0.0588825999635 the knife\n",
      "0.0555048384152 the hives\n",
      "0.0298521088187 yeah yeah yeahs\n",
      "0.026839510681 phoenix\n",
      "\n",
      "Recommendations\n",
      "0.00451580265449 pink floyd\n",
      "0.00236852535405 the white stripes\n",
      "0.00175632873202 muse\n",
      "0.00151532176732 modest mouse\n",
      "0.00145771811452 queens of the stone age\n"
     ]
    }
   ],
   "source": [
    "def print_user_info(user_id, top_musicians_count):\n",
    "    for match in sorted([(match[1], match[0]) for match in users[user_id].items()], reverse=True)[:top_musicians_count]:\n",
    "        print match[0], match[1]\n",
    "    \n",
    "def recommend_musicians(model, user_id, top_musicians_count, objective_topics):\n",
    "    top_matches = {}\n",
    "    \n",
    "    user_topic = users[user_id]\n",
    "\n",
    "    for topic in objective_topics:\n",
    "        topic_musicians = model.scores_info['TopTokensScoreExtended'].last_topic_info[topic].tokens\n",
    "        topic_weights = model.scores_info['TopTokensScoreExtended'].last_topic_info[topic].weights\n",
    "        \n",
    "        user_score = 0\n",
    "        for musician in topic_musicians:\n",
    "            if musician in user_topic:\n",
    "                user_score += user_topic[musician] * topic_weights[topic_musicians.index(musician)]\n",
    "        \n",
    "        for musician in topic_musicians:\n",
    "            if musician not in user_topic:\n",
    "                if musician in top_matches:\n",
    "                    top_matches[musician] += user_score * topic_weights[topic_musicians.index(musician)]\n",
    "                else:\n",
    "                    top_matches[musician] = user_score * topic_weights[topic_musicians.index(musician)]\n",
    "\n",
    "    return sorted([(match[1], match[0]) for match in top_matches.items()], reverse=True)[:top_musicians_count]\n",
    "\n",
    "user_id = \"000710d4dff11af267edd2f70bf54e7678bdd729\"\n",
    "print \"User's top musicians\"\n",
    "print_user_info(user_id, 5)\n",
    "    \n",
    "print\n",
    "\n",
    "print \"Recommendations\"\n",
    "for musician in recommend_musicians(model, user_id, 5, objective_topics):\n",
    "    print musician[0], musician[1]\n"
   ]
  }
 ],
 "metadata": {
  "kernelspec": {
   "display_name": "Python 2",
   "language": "python",
   "name": "python2"
  },
  "language_info": {
   "codemirror_mode": {
    "name": "ipython",
    "version": 2
   },
   "file_extension": ".py",
   "mimetype": "text/x-python",
   "name": "python",
   "nbconvert_exporter": "python",
   "pygments_lexer": "ipython2",
   "version": "2.7.9"
  }
 },
 "nbformat": 4,
 "nbformat_minor": 0
}
