{
 "cells": [
  {
   "cell_type": "markdown",
   "metadata": {},
   "source": [
    "# BigARTM Python API."
   ]
  },
  {
   "cell_type": "markdown",
   "metadata": {},
   "source": [
    "BigARTM &ndash; открытая библиотека для тематического моделирования текстовых коллекций, реализующая теорию аддитивной регуляризации тематических моделей (ARTM). Основной сайт проекта http://bigartm.org/.\n",
    "\n",
    "Здесь показан пример использования пользовательского Python API библиотеки. Мы проведём демонстрационный эксперимент.\n",
    "\n",
    "#### Описание:\n",
    "Построим две тематические модели коллекции текстовых документов, ARTM и PLSA, сравним качество полученных моделей.\n",
    "\n",
    "#### Функционалы качества:\n",
    "Важным функционалом является перплексия коллекции. Тем не менее, это далеко не единственная величина, характеризующая качество обучения. В BigARTM реализованы следующие функционалы:\n",
    "\n",
    "- разреженность матрицы $\\Phi$ (слова-темы);\n",
    "- разреженность матрицы $\\Theta$ (темы-документы);\n",
    "- характеристики ядер тем (чистота, контрастность, размер);\n",
    "- перплексия;\n",
    "- когерентность топ-слов и слов из ядер тем.\n",
    "\n",
    "Мы будем использовать первые четыре. Более сильные разреженности матриц и более высокие средние значения чистоты и контрастности способствуют большей интерпретируемости модели.\n",
    "\n",
    "#### Цель эксперимента:\n",
    "Попробуем обучить модель ARTM таким образом, чтобы, в сравнении с PLSA, улучшить значения разреженностей и ядровых характеристик и не сильно ухудшить перплексию.\n",
    "\n",
    "Основным инструментом для корректирования процесса обучения являются регуляризаторы. Список имеющихся в BigARTM регуляризаторов:\n",
    "\n",
    "- разреживание матрицы $\\Phi$ (+ частичное обучение);\n",
    "- разреживание матрицы $\\Theta$ (+ частичное обучение);\n",
    "- декоррелирование тем в матрице $\\Phi$;\n",
    "- принудительное разреживание $\\Phi$;\n",
    "- балансирование классов (Label Regularization);\n",
    "- повышение когерентности.\n",
    "\n",
    "В этом эксперименте для обучения ARTM воспользуемся первыми тремя регуляризаторами. ARTM без регуляризации соответствует PLSA.\n",
    "\n",
    "#### Коллекция:\n",
    "Воспользуемся небольшой коллекцией 'kos', доступной в репозитории UCI https://archive.ics.uci.edu/ml/machine-learning-databases/bag-of-words/. Параметры коллекции следующие:\n",
    "\n",
    "- 3430 документов;\n",
    "- 6906 слов в словаре;\n",
    "- 467714 ненулевых счётчиков в \"мешке слов\"."
   ]
  },
  {
   "cell_type": "markdown",
   "metadata": {},
   "source": [
    "Для начала подключим все необходимые модули (убедитесь, что путь к Python API BigARTM находится в вашей переменной PATH):"
   ]
  },
  {
   "cell_type": "code",
   "execution_count": 1,
   "metadata": {
    "collapsed": false
   },
   "outputs": [],
   "source": [
    "%matplotlib inline\n",
    "import glob\n",
    "import os\n",
    "import matplotlib.pyplot as plt\n",
    "\n",
    "import artm"
   ]
  },
  {
   "cell_type": "markdown",
   "metadata": {},
   "source": [
    "Прежде всего необходимо подготовить входные данные. BigARTM имеет собственный формат документов для обработки, называемый батчами. В библиотеке присутствуют средства по созданию батчей из файлов в форматах Bag-Of-Words UCI и Vowpal Wabbit (подробности можно найти в http://docs.bigartm.org/en/latest/formats.html).\n",
    "\n",
    "В Python API, по аналогии с алгоритмами из scikit-learn, входные данные представлены одним классом BatchVectorizer. Объект этого класса принимает на вход батчи или файлы UCI / VW и подаётся на вход всем методам. В случае, если входные данные не являются батчами, он создаёт их и сохраняет на диск для последующего быстрого использования.\n",
    "\n",
    "Итак, создадим объект BatchVectorizer:"
   ]
  },
  {
   "cell_type": "code",
   "execution_count": 3,
   "metadata": {
    "collapsed": false
   },
   "outputs": [
    {
     "ename": "DiskReadException",
     "evalue": "File vocab.kos.txt does not exist.",
     "output_type": "error",
     "traceback": [
      "\u001b[1;31m---------------------------------------------------------------------------\u001b[0m",
      "\u001b[1;31mDiskReadException\u001b[0m                         Traceback (most recent call last)",
      "\u001b[1;32m<ipython-input-3-d7b2261e7054>\u001b[0m in \u001b[0;36m<module>\u001b[1;34m()\u001b[0m\n\u001b[0;32m      1\u001b[0m \u001b[0mbatch_vectorizer\u001b[0m \u001b[1;33m=\u001b[0m \u001b[0mNone\u001b[0m\u001b[1;33m\u001b[0m\u001b[0m\n\u001b[0;32m      2\u001b[0m \u001b[1;32mif\u001b[0m \u001b[0mlen\u001b[0m\u001b[1;33m(\u001b[0m\u001b[0mglob\u001b[0m\u001b[1;33m.\u001b[0m\u001b[0mglob\u001b[0m\u001b[1;33m(\u001b[0m\u001b[0mos\u001b[0m\u001b[1;33m.\u001b[0m\u001b[0mpath\u001b[0m\u001b[1;33m.\u001b[0m\u001b[0mjoin\u001b[0m\u001b[1;33m(\u001b[0m\u001b[1;34m'kos'\u001b[0m\u001b[1;33m,\u001b[0m \u001b[1;34m'*.batch'\u001b[0m\u001b[1;33m)\u001b[0m\u001b[1;33m)\u001b[0m\u001b[1;33m)\u001b[0m \u001b[1;33m<\u001b[0m \u001b[1;36m1\u001b[0m\u001b[1;33m:\u001b[0m\u001b[1;33m\u001b[0m\u001b[0m\n\u001b[1;32m----> 3\u001b[1;33m     \u001b[0mbatch_vectorizer\u001b[0m \u001b[1;33m=\u001b[0m \u001b[0martm\u001b[0m\u001b[1;33m.\u001b[0m\u001b[0mBatchVectorizer\u001b[0m\u001b[1;33m(\u001b[0m\u001b[0mdata_path\u001b[0m\u001b[1;33m=\u001b[0m\u001b[1;34m''\u001b[0m\u001b[1;33m,\u001b[0m \u001b[0mdata_format\u001b[0m\u001b[1;33m=\u001b[0m\u001b[1;34m'bow_uci'\u001b[0m\u001b[1;33m,\u001b[0m \u001b[0mcollection_name\u001b[0m\u001b[1;33m=\u001b[0m\u001b[1;34m'kos'\u001b[0m\u001b[1;33m,\u001b[0m \u001b[0mtarget_folder\u001b[0m\u001b[1;33m=\u001b[0m\u001b[1;34m'kos'\u001b[0m\u001b[1;33m)\u001b[0m\u001b[1;33m\u001b[0m\u001b[0m\n\u001b[0m\u001b[0;32m      4\u001b[0m \u001b[1;32melse\u001b[0m\u001b[1;33m:\u001b[0m\u001b[1;33m\u001b[0m\u001b[0m\n\u001b[0;32m      5\u001b[0m     \u001b[0mbatch_vectorizer\u001b[0m \u001b[1;33m=\u001b[0m \u001b[0martm\u001b[0m\u001b[1;33m.\u001b[0m\u001b[0mBatchVectorizer\u001b[0m\u001b[1;33m(\u001b[0m\u001b[0mdata_path\u001b[0m\u001b[1;33m=\u001b[0m\u001b[1;34m'kos'\u001b[0m\u001b[1;33m,\u001b[0m \u001b[0mdata_format\u001b[0m\u001b[1;33m=\u001b[0m\u001b[1;34m'batches'\u001b[0m\u001b[1;33m)\u001b[0m\u001b[1;33m\u001b[0m\u001b[0m\n",
      "\u001b[1;32mD:\\Work\\BigARTM\\bigartm\\python\\artm\\batches_utils.pyc\u001b[0m in \u001b[0;36m__init__\u001b[1;34m(self, batches, collection_name, data_path, data_format, target_folder, batch_size, batch_name_type, data_weight)\u001b[0m\n\u001b[0;32m    107\u001b[0m \u001b[1;33m\u001b[0m\u001b[0m\n\u001b[0;32m    108\u001b[0m                 \u001b[0mlib\u001b[0m \u001b[1;33m=\u001b[0m \u001b[0mwrapper\u001b[0m\u001b[1;33m.\u001b[0m\u001b[0mLibArtm\u001b[0m\u001b[1;33m(\u001b[0m\u001b[1;33m)\u001b[0m\u001b[1;33m\u001b[0m\u001b[0m\n\u001b[1;32m--> 109\u001b[1;33m                 \u001b[0mlib\u001b[0m\u001b[1;33m.\u001b[0m\u001b[0mArtmParseCollection\u001b[0m\u001b[1;33m(\u001b[0m\u001b[0mparser_config\u001b[0m\u001b[1;33m)\u001b[0m\u001b[1;33m\u001b[0m\u001b[0m\n\u001b[0m\u001b[0;32m    110\u001b[0m                 \u001b[0mbatch_filenames\u001b[0m \u001b[1;33m=\u001b[0m \u001b[0mglob\u001b[0m\u001b[1;33m.\u001b[0m\u001b[0mglob\u001b[0m\u001b[1;33m(\u001b[0m\u001b[0mos\u001b[0m\u001b[1;33m.\u001b[0m\u001b[0mpath\u001b[0m\u001b[1;33m.\u001b[0m\u001b[0mjoin\u001b[0m\u001b[1;33m(\u001b[0m\u001b[0mtarget_folder\u001b[0m\u001b[1;33m,\u001b[0m \u001b[1;34m'*.batch'\u001b[0m\u001b[1;33m)\u001b[0m\u001b[1;33m)\u001b[0m\u001b[1;33m\u001b[0m\u001b[0m\n\u001b[0;32m    111\u001b[0m                 \u001b[0mself\u001b[0m\u001b[1;33m.\u001b[0m\u001b[0m_batches_list\u001b[0m \u001b[1;33m+=\u001b[0m \u001b[1;33m[\u001b[0m\u001b[0mBatch\u001b[0m\u001b[1;33m(\u001b[0m\u001b[0mfilename\u001b[0m\u001b[1;33m)\u001b[0m \u001b[1;32mfor\u001b[0m \u001b[0mfilename\u001b[0m \u001b[1;32min\u001b[0m \u001b[0mbatch_filenames\u001b[0m\u001b[1;33m]\u001b[0m\u001b[1;33m\u001b[0m\u001b[0m\n",
      "\u001b[1;32mD:\\Work\\BigARTM\\bigartm\\python\\artm\\wrapper\\api.pyc\u001b[0m in \u001b[0;36martm_api_call\u001b[1;34m(*args)\u001b[0m\n\u001b[0;32m    129\u001b[0m                 \u001b[0mfunc\u001b[0m\u001b[1;33m.\u001b[0m\u001b[0mrestype\u001b[0m \u001b[1;33m=\u001b[0m \u001b[0mspec\u001b[0m\u001b[1;33m.\u001b[0m\u001b[0mresult_type\u001b[0m\u001b[1;33m\u001b[0m\u001b[0m\n\u001b[0;32m    130\u001b[0m             \u001b[0mresult\u001b[0m \u001b[1;33m=\u001b[0m \u001b[0mfunc\u001b[0m\u001b[1;33m(\u001b[0m\u001b[1;33m*\u001b[0m\u001b[0mc_args\u001b[0m\u001b[1;33m)\u001b[0m\u001b[1;33m\u001b[0m\u001b[0m\n\u001b[1;32m--> 131\u001b[1;33m             \u001b[0mself\u001b[0m\u001b[1;33m.\u001b[0m\u001b[0m_check_error\u001b[0m\u001b[1;33m(\u001b[0m\u001b[0mresult\u001b[0m\u001b[1;33m)\u001b[0m\u001b[1;33m\u001b[0m\u001b[0m\n\u001b[0m\u001b[0;32m    132\u001b[0m \u001b[1;33m\u001b[0m\u001b[0m\n\u001b[0;32m    133\u001b[0m             \u001b[1;31m# return result value\u001b[0m\u001b[1;33m\u001b[0m\u001b[1;33m\u001b[0m\u001b[0m\n",
      "\u001b[1;32mD:\\Work\\BigARTM\\bigartm\\python\\artm\\wrapper\\api.pyc\u001b[0m in \u001b[0;36m_check_error\u001b[1;34m(self, error_code)\u001b[0m\n\u001b[0;32m     65\u001b[0m             \u001b[0mexception_class\u001b[0m \u001b[1;33m=\u001b[0m \u001b[0mARTM_EXCEPTION_BY_CODE\u001b[0m\u001b[1;33m.\u001b[0m\u001b[0mget\u001b[0m\u001b[1;33m(\u001b[0m\u001b[0merror_code\u001b[0m\u001b[1;33m)\u001b[0m\u001b[1;33m\u001b[0m\u001b[0m\n\u001b[0;32m     66\u001b[0m             \u001b[1;32mif\u001b[0m \u001b[0mexception_class\u001b[0m \u001b[1;32mis\u001b[0m \u001b[1;32mnot\u001b[0m \u001b[0mNone\u001b[0m\u001b[1;33m:\u001b[0m\u001b[1;33m\u001b[0m\u001b[0m\n\u001b[1;32m---> 67\u001b[1;33m                 \u001b[1;32mraise\u001b[0m \u001b[0mexception_class\u001b[0m\u001b[1;33m(\u001b[0m\u001b[0merror_message\u001b[0m\u001b[1;33m)\u001b[0m\u001b[1;33m\u001b[0m\u001b[0m\n\u001b[0m\u001b[0;32m     68\u001b[0m             \u001b[1;32melse\u001b[0m\u001b[1;33m:\u001b[0m\u001b[1;33m\u001b[0m\u001b[0m\n\u001b[0;32m     69\u001b[0m                 \u001b[1;32mraise\u001b[0m \u001b[0mRuntimeError\u001b[0m\u001b[1;33m(\u001b[0m\u001b[0merror_message\u001b[0m\u001b[1;33m)\u001b[0m\u001b[1;33m\u001b[0m\u001b[0m\n",
      "\u001b[1;31mDiskReadException\u001b[0m: File vocab.kos.txt does not exist."
     ]
    }
   ],
   "source": [
    "batch_vectorizer = None\n",
    "if len(glob.glob(os.path.join('kos', '*.batch'))) < 1:\n",
    "    batch_vectorizer = artm.BatchVectorizer(data_path='', data_format='bow_uci', collection_name='kos', target_folder='kos')\n",
    "else:\n",
    "    batch_vectorizer = artm.BatchVectorizer(data_path='kos', data_format='batches')"
   ]
  },
  {
   "cell_type": "markdown",
   "metadata": {
    "collapsed": false
   },
   "source": [
    "ARTM &ndash; это класс, представляющий собой Python API BigARTM, и позволяющий использовать практически все возможности библиотеки в стиле scikit-learn. Создадим две тематические модели для нашего эксперимента. Наиболее важным параметром модели является число тем. Опционально можно указать списки регуляризаторов и функционалов качества, которые следует использовать для данной модели. Если этого не сделать, то регуляризаторы и функционалы всегда можно добавить позднее. Обратите внимание, что каждая модель задаёт своё пространство имён для названий регуляризаторов и функционалов качества."
   ]
  },
  {
   "cell_type": "code",
   "execution_count": 2,
   "metadata": {
    "collapsed": false
   },
   "outputs": [
    {
     "ename": "TypeError",
     "evalue": "__init__() got an unexpected keyword argument 'dictionary_name'",
     "output_type": "error",
     "traceback": [
      "\u001b[1;31m---------------------------------------------------------------------------\u001b[0m",
      "\u001b[1;31mTypeError\u001b[0m                                 Traceback (most recent call last)",
      "\u001b[1;32m<ipython-input-2-42cdff40ad2e>\u001b[0m in \u001b[0;36m<module>\u001b[1;34m()\u001b[0m\n\u001b[0;32m      2\u001b[0m                   scores=[artm.PerplexityScore(name='PerplexityScore',\n\u001b[0;32m      3\u001b[0m                                                \u001b[0muse_unigram_document_model\u001b[0m\u001b[1;33m=\u001b[0m\u001b[0mFalse\u001b[0m\u001b[1;33m,\u001b[0m\u001b[1;33m\u001b[0m\u001b[0m\n\u001b[1;32m----> 4\u001b[1;33m                                                dictionary_name='dictionary')])\n\u001b[0m\u001b[0;32m      5\u001b[0m \u001b[1;33m\u001b[0m\u001b[0m\n\u001b[0;32m      6\u001b[0m model_artm = artm.ARTM(topic_names=['topic_{}'.format(i) for i in xrange(15)],\n",
      "\u001b[1;31mTypeError\u001b[0m: __init__() got an unexpected keyword argument 'dictionary_name'"
     ]
    }
   ],
   "source": [
    "model_plsa = artm.ARTM(topic_names=['topic_{}'.format(i) for i in xrange(15)],\n",
    "                  scores=[artm.PerplexityScore(name='PerplexityScore',\n",
    "                                               use_unigram_document_model=False,\n",
    "                                               dictionary_name='dictionary')])\n",
    "\n",
    "model_artm = artm.ARTM(topic_names=['topic_{}'.format(i) for i in xrange(15)],\n",
    "                  scores=[artm.PerplexityScore(name='PerplexityScore',\n",
    "                                               use_unigram_document_model=False,\n",
    "                                               dictionary_name='dictionary')],\n",
    "                  regularizers=[artm.SmoothSparseThetaRegularizer(name='SparseTheta', tau=-0.15)])"
   ]
  },
  {
   "cell_type": "markdown",
   "metadata": {},
   "source": [
    "Следующий шаг — инициализация моделей. Сделаем это по словарю, что означает, что\n",
    "- будет создана матрица $\\Phi$ с именем 'pwt', число строк и столбцов в ней будет взято исходя из числа слов в словаре и заданного в модели числа тем;\n",
    "- эта матрица будет заполнена случайными значениями из диапазона (0, 1) и нормализована.\n",
    "\n",
    "Надо отметить, что этот шаг является опциональным, поскольку модель может быть автоматически инициализирована во время вызовов fit_offline() / fit_online().\n",
    "\n",
    "Словарь &ndash; это объект BigARTM, содержащий информацию о коллекции (словарь коллекции, различные величины и счётчики, связанные со словами). Создать словарь можно на основе папки с батчами. Затем собранный словарь можно сохранять на диск и позже подгрузить вновь."
   ]
  },
  {
   "cell_type": "code",
   "execution_count": 4,
   "metadata": {
    "collapsed": false
   },
   "outputs": [],
   "source": [
    "if not os.path.isfile('kos/dictionary.dict'):\n",
    "    model_plsa.gather_dictionary('dictionary', batch_vectorizer.data_path)\n",
    "    model_plsa.save_dictionary(dictionary_name='dictionary', dictionary_path='kos/dictionary.dict')\n",
    "\n",
    "model_plsa.load_dictionary(dictionary_name='dictionary', dictionary_path='kos/dictionary.dict')\n",
    "model_artm.load_dictionary(dictionary_name='dictionary', dictionary_path='kos/dictionary.dict')"
   ]
  },
  {
   "cell_type": "markdown",
   "metadata": {},
   "source": [
    "Затем словари можно использовать, чтобы инициализировать модель:"
   ]
  },
  {
   "cell_type": "code",
   "execution_count": 5,
   "metadata": {
    "collapsed": false
   },
   "outputs": [],
   "source": [
    "model_plsa.initialize(dictionary_name='dictionary')\n",
    "model_artm.initialize(dictionary_name='dictionary')"
   ]
  },
  {
   "cell_type": "markdown",
   "metadata": {},
   "source": [
    "Как уже было сказано, ARTM предоставляет возможность использовать все функционалы качества, имеющиеся в BigARTM. Если функционал подключен к модели, то модель будет сохранять все его значения, полученные на момент каждого обновления матрицы $\\Phi$. Добавим функционалы качества, нужные для нашего эксперимента, которые отсутствовали в конструкторах:"
   ]
  },
  {
   "cell_type": "code",
   "execution_count": 6,
   "metadata": {
    "collapsed": false
   },
   "outputs": [],
   "source": [
    "model_plsa.scores.add(artm.SparsityPhiScore(name='SparsityPhiScore'))\n",
    "model_plsa.scores.add(artm.SparsityThetaScore(name='SparsityThetaScore'))\n",
    "model_plsa.scores.add(artm.TopicKernelScore(name='TopicKernelScore', probability_mass_threshold=0.3))\n",
    "\n",
    "model_artm.scores.add(artm.SparsityPhiScore(name='SparsityPhiScore'))\n",
    "model_artm.scores.add(artm.SparsityThetaScore(name='SparsityThetaScore'))\n",
    "model_artm.scores.add(artm.TopicKernelScore(name='TopicKernelScore', probability_mass_threshold=0.3))"
   ]
  },
  {
   "cell_type": "markdown",
   "metadata": {},
   "source": [
    "Аналогично поступим с регуляризаторами для model_artm (зададим им стартовые коэффициенты регуляризации, которые можно будет позже изменить при необходимости):"
   ]
  },
  {
   "cell_type": "code",
   "execution_count": 7,
   "metadata": {
    "collapsed": false
   },
   "outputs": [],
   "source": [
    "model_artm.regularizers.add(artm.SmoothSparsePhiRegularizer(name='SparsePhi', tau=-0.1))\n",
    "model_artm.regularizers.add(artm.DecorrelatorPhiRegularizer(name='DecorrelatorPhi', tau=1.5e+5))"
   ]
  },
  {
   "cell_type": "markdown",
   "metadata": {},
   "source": [
    "Теперь попробуем обучить модели в оффлайн-режиме (т.е. обновляя Фи раз за проход по коллекции). Инициируем пятнадцать проходов:"
   ]
  },
  {
   "cell_type": "code",
   "execution_count": 8,
   "metadata": {
    "collapsed": false
   },
   "outputs": [],
   "source": [
    "model_plsa.num_document_passes = 1\n",
    "model_artm.num_document_passes = 1\n",
    "\n",
    "model_plsa.fit_offline(batch_vectorizer=batch_vectorizer, num_collection_passes=15)\n",
    "model_artm.fit_offline(batch_vectorizer=batch_vectorizer, num_collection_passes=15)"
   ]
  },
  {
   "cell_type": "markdown",
   "metadata": {},
   "source": [
    "Проверим результаты первой итерации обучения, сравнив финальные значения функционалов, а также графики перплексии (опишем печать в виде функции для возможности повторного использования):"
   ]
  },
  {
   "cell_type": "code",
   "execution_count": 9,
   "metadata": {
    "collapsed": false
   },
   "outputs": [
    {
     "name": "stdout",
     "output_type": "stream",
     "text": [
      "Sparsity Phi: 0.022 (PLSA) vs. 0.605 (ARTM)\n",
      "Sparsity Theta: 0.000 (PLSA) vs. 0.406 (ARTM)\n",
      "Kernel contrast: 0.523 (PLSA) vs. 0.550 (ARTM)\n",
      "Kernel purity: 0.378 (PLSA) vs. 0.452 (ARTM)\n",
      "Perplexity: 1510.214 (PLSA) vs. 1540.619 (ARTM)\n"
     ]
    },
    {
     "data": {
      "image/png": "[encoded data removed]",
      "text/plain": [
       "<matplotlib.figure.Figure at 0x11a3cf28>"
      ]
     },
     "metadata": {},
     "output_type": "display_data"
    }
   ],
   "source": [
    "def print_measures(model_plsa, model_artm):\n",
    "    print 'Sparsity Phi: {0:.3f} (PLSA) vs. {1:.3f} (ARTM)'.format(\n",
    "        model_plsa.score_tracker['SparsityPhiScore'].last_value,\n",
    "        model_artm.score_tracker['SparsityPhiScore'].last_value)\n",
    "\n",
    "    print 'Sparsity Theta: {0:.3f} (PLSA) vs. {1:.3f} (ARTM)'.format(\n",
    "        model_plsa.score_tracker['SparsityThetaScore'].last_value,\n",
    "        model_artm.score_tracker['SparsityThetaScore'].last_value)\n",
    "\n",
    "    print 'Kernel contrast: {0:.3f} (PLSA) vs. {1:.3f} (ARTM)'.format(\n",
    "        model_plsa.score_tracker['TopicKernelScore'].last_average_contrast,\n",
    "        model_artm.score_tracker['TopicKernelScore'].last_average_contrast)\n",
    "\n",
    "    print 'Kernel purity: {0:.3f} (PLSA) vs. {1:.3f} (ARTM)'.format(\n",
    "        model_plsa.score_tracker['TopicKernelScore'].last_average_purity,\n",
    "        model_artm.score_tracker['TopicKernelScore'].last_average_purity)\n",
    "\n",
    "    print 'Perplexity: {0:.3f} (PLSA) vs. {1:.3f} (ARTM)'.format(\n",
    "        model_plsa.score_tracker['PerplexityScore'].last_value,\n",
    "        model_artm.score_tracker['PerplexityScore'].last_value)\n",
    "\n",
    "    plt.plot(xrange(model_plsa.num_phi_updates), model_plsa.score_tracker['PerplexityScore'].value, 'b--',\n",
    "             xrange(model_artm.num_phi_updates), model_artm.score_tracker['PerplexityScore'].value, 'r--', linewidth=2)\n",
    "    plt.xlabel('Iterations count')\n",
    "    plt.ylabel('PLSA perp. (blue), ARTM perp. (red)')\n",
    "    plt.grid(True)\n",
    "    plt.show()\n",
    "    \n",
    "print_measures(model_plsa, model_artm)"
   ]
  },
  {
   "cell_type": "markdown",
   "metadata": {},
   "source": [
    "Видно, что улучшения разреженностей и ядровых характеристик есть, а ухудшение перплексии невелико. Попробуем увеличить по модулю значения коэффициентов регуляризации при регуляризаторах:"
   ]
  },
  {
   "cell_type": "code",
   "execution_count": 10,
   "metadata": {
    "collapsed": false
   },
   "outputs": [],
   "source": [
    "model_artm.regularizers['SparsePhi'].tau = -0.2\n",
    "model_artm.regularizers['SparseTheta'].tau = -0.2\n",
    "model_artm.regularizers['DecorrelatorPhi'].tau = 2.5e+5"
   ]
  },
  {
   "cell_type": "markdown",
   "metadata": {},
   "source": [
    "Кроме того, подключим к каждой из моделей функционал TopTokensScore, который позволит взглянуть на самые вероятные слова в каждой теме:"
   ]
  },
  {
   "cell_type": "code",
   "execution_count": 11,
   "metadata": {
    "collapsed": true
   },
   "outputs": [],
   "source": [
    "model_plsa.scores.add(artm.TopTokensScore(name='TopTokensScore', num_tokens=6))\n",
    "model_artm.scores.add(artm.TopTokensScore(name='TopTokensScore', num_tokens=6))"
   ]
  },
  {
   "cell_type": "markdown",
   "metadata": {},
   "source": [
    "Продолжим обучение моделей, инициировав 25 проходов по коллекции, после чего снова посмотрим на значения функционалов качества:"
   ]
  },
  {
   "cell_type": "code",
   "execution_count": 12,
   "metadata": {
    "collapsed": false
   },
   "outputs": [],
   "source": [
    "model_plsa.fit_offline(batch_vectorizer=batch_vectorizer, num_collection_passes=25)\n",
    "model_artm.fit_offline(batch_vectorizer=batch_vectorizer, num_collection_passes=25)"
   ]
  },
  {
   "cell_type": "code",
   "execution_count": 13,
   "metadata": {
    "collapsed": false
   },
   "outputs": [
    {
     "name": "stdout",
     "output_type": "stream",
     "text": [
      "Sparsity Phi: 0.332 (PLSA) vs. 0.721 (ARTM)\n",
      "Sparsity Theta: 0.082 (PLSA) vs. 0.601 (ARTM)\n",
      "Kernel contrast: 0.530 (PLSA) vs. 0.560 (ARTM)\n",
      "Kernel purity: 0.396 (PLSA) vs. 0.504 (ARTM)\n",
      "Perplexity: 1365.804 (PLSA) vs. 1464.751 (ARTM)\n"
     ]
    },
    {
     "data": {
      "image/png": "[encoded data removed]",
      "text/plain": [
       "<matplotlib.figure.Figure at 0x15932a90>"
      ]
     },
     "metadata": {},
     "output_type": "display_data"
    }
   ],
   "source": [
    "print_measures(model_plsa, model_artm)"
   ]
  },
  {
   "cell_type": "markdown",
   "metadata": {},
   "source": [
    "Кроме того, для наглядности построим графики изменения разреженностей матриц по итерациям:"
   ]
  },
  {
   "cell_type": "code",
   "execution_count": 14,
   "metadata": {
    "collapsed": false
   },
   "outputs": [
    {
     "data": {
      "image/png": "[encoded data removed]",
      "text/plain": [
       "<matplotlib.figure.Figure at 0x15ab9048>"
      ]
     },
     "metadata": {},
     "output_type": "display_data"
    },
    {
     "data": {
      "image/png": "[encoded data removed]",
      "text/plain": [
       "<matplotlib.figure.Figure at 0x15ceffd0>"
      ]
     },
     "metadata": {},
     "output_type": "display_data"
    }
   ],
   "source": [
    "plt.plot(xrange(model_plsa.num_phi_updates), model_plsa.score_tracker['SparsityPhiScore'].value, 'b--',\n",
    "                 xrange(model_artm.num_phi_updates), model_artm.score_tracker['SparsityPhiScore'].value, 'r--', linewidth=2)\n",
    "plt.xlabel('Iterations count')\n",
    "plt.ylabel('PLSA Phi sp. (blue), ARTM Phi sp. (red)')\n",
    "plt.grid(True)\n",
    "plt.show()\n",
    "\n",
    "plt.plot(xrange(model_plsa.num_phi_updates), model_plsa.score_tracker['SparsityThetaScore'].value, 'b--',\n",
    "                 xrange(model_artm.num_phi_updates), model_artm.score_tracker['SparsityThetaScore'].value, 'r--', linewidth=2)\n",
    "plt.xlabel('Iterations count')\n",
    "plt.ylabel('PLSA Theta sp. (blue), ARTM Theta sp. (red)')\n",
    "plt.grid(True)\n",
    "plt.show()"
   ]
  },
  {
   "cell_type": "markdown",
   "metadata": {
    "collapsed": false
   },
   "source": [
    "Кажется, что достигнутых результатов достаточно. Регуляризация позволила добиться улучшения всех характеристик, ухудшив перплексию в пределах разумного. Взглянем на топ-слова слова моделей:"
   ]
  },
  {
   "cell_type": "code",
   "execution_count": 15,
   "metadata": {
    "collapsed": false
   },
   "outputs": [
    {
     "name": "stdout",
     "output_type": "stream",
     "text": [
      "topic_0:  [u'bush', u'tax', u'states', u'president', u'party', u'political']\n",
      "topic_1:  [u'iraq', u'war', u'military', u'troops', u'soldiers', u'iraqi']\n",
      "topic_2:  [u'november', u'poll', u'house', u'governor', u'electoral', u'account']\n",
      "topic_3:  [u'senate', u'republican', u'race', u'democrats', u'gop', u'republicans']\n",
      "topic_4:  [u'time', u'people', u'general', u'election', u'speech', u'specter']\n",
      "topic_5:  [u'dean', u'kerry', u'edwards', u'primary', u'clark', u'democratic']\n",
      "topic_6:  [u'state', u'race', u'district', u'elections', u'candidate', u'party']\n",
      "topic_7:  [u'administration', u'bush', u'years', u'president', u'jobs', u'marriage']\n",
      "topic_8:  [u'campaign', u'dean', u'democratic', u'party', u'media', u'people']\n",
      "topic_9:  [u'house', u'million', u'republican', u'money', u'delay', u'committee']\n",
      "topic_10:  [u'november', u'voting', u'vote', u'kerry', u'republicans', u'electoral']\n",
      "topic_11:  [u'iraq', u'bush', u'war', u'administration', u'president', u'intelligence']\n",
      "topic_12:  [u'bush', u'poll', u'kerry', u'percent', u'polls', u'voters']\n",
      "topic_13:  [u'media', u'news', u'time', u'people', u'white', u'house']\n",
      "topic_14:  [u'bush', u'kerry', u'general', u'president', u'bushs', u'campaign']\n"
     ]
    }
   ],
   "source": [
    "for topic_name in model_plsa.topic_names:\n",
    "    print topic_name + ': ',\n",
    "    print model_plsa.score_tracker['TopTokensScore'].last_topic_info[topic_name].tokens"
   ]
  },
  {
   "cell_type": "code",
   "execution_count": 16,
   "metadata": {
    "collapsed": false
   },
   "outputs": [
    {
     "name": "stdout",
     "output_type": "stream",
     "text": [
      "topic_0:  [u'party', u'tax', u'political', u'law', u'court', u'issue']\n",
      "topic_1:  [u'military', u'troops', u'soldiers', u'killed', u'war', u'army']\n",
      "topic_2:  [u'november', u'governor', u'poll', u'account', u'electoral', u'house']\n",
      "topic_3:  [u'senate', u'republican', u'gop', u'republicans', u'senator', u'democrats']\n",
      "topic_4:  [u'specter', u'speech', u'toomey', u'signs', u'time', u'message']\n",
      "topic_5:  [u'dean', u'edwards', u'clark', u'primary', u'kerry', u'democratic']\n",
      "topic_6:  [u'race', u'state', u'candidate', u'district', u'nader', u'candidates']\n",
      "topic_7:  [u'administration', u'years', u'jobs', u'commission', u'president', u'white']\n",
      "topic_8:  [u'campaign', u'media', u'democratic', u'unions', u'union', u'news']\n",
      "topic_9:  [u'house', u'million', u'money', u'republican', u'delay', u'committee']\n",
      "topic_10:  [u'november', u'vote', u'voting', u'electoral', u'account', u'governor']\n",
      "topic_11:  [u'iraq', u'war', u'administration', u'bush', u'iraqi', u'american']\n",
      "topic_12:  [u'bush', u'kerry', u'poll', u'general', u'president', u'bushs']\n",
      "topic_13:  [u'time', u'people', u'media', u'news', u'john', u'political']\n",
      "topic_14:  [u'percent', u'states', u'voters', u'ohio', u'election', u'state']\n"
     ]
    }
   ],
   "source": [
    "for topic_name in model_artm.topic_names:\n",
    "    print topic_name + ': ',\n",
    "    print model_artm.score_tracker['TopTokensScore'].last_topic_info[topic_name].tokens"
   ]
  },
  {
   "cell_type": "markdown",
   "metadata": {
    "collapsed": false
   },
   "source": [
    "Видно, что темы примерно одинаково интерпретируемы, но в модели ARTM они существенно разнообразнее."
   ]
  },
  {
   "cell_type": "markdown",
   "metadata": {},
   "source": [
    "Извлечём матрицу $\\Phi$ в виде pandas.DataFrame и напечатаем её (в случае необходимости, можно извлекать части матрицы с помощью метода ARTM.get_phi()):"
   ]
  },
  {
   "cell_type": "code",
   "execution_count": 17,
   "metadata": {
    "collapsed": false
   },
   "outputs": [
    {
     "name": "stdout",
     "output_type": "stream",
     "text": [
      "                   topic_0   topic_1   topic_2   topic_3   topic_4   topic_5  \\\n",
      "parentheses       0.000000  0.000000  0.000000  0.000000  0.000000  0.000258   \n",
      "opinion           0.000000  0.000226  0.000000  0.000000  0.000000  0.000000   \n",
      "attitude          0.000000  0.000000  0.000000  0.000000  0.000000  0.000000   \n",
      "held              0.000571  0.000585  0.000154  0.000983  0.000000  0.000000   \n",
      "impeachment       0.000000  0.000084  0.000000  0.000000  0.000000  0.000000   \n",
      "platform          0.001414  0.000000  0.000000  0.000288  0.000000  0.000000   \n",
      "msnbc             0.000000  0.000000  0.000000  0.000409  0.000000  0.000361   \n",
      "assault           0.000000  0.000145  0.000000  0.000000  0.001514  0.000000   \n",
      "tools             0.000229  0.000000  0.000000  0.000000  0.000548  0.000000   \n",
      "vance             0.000000  0.000000  0.000000  0.000000  0.000000  0.000000   \n",
      "contingent        0.000000  0.000469  0.000000  0.000000  0.000000  0.000000   \n",
      "drove             0.000000  0.000284  0.000000  0.000000  0.000405  0.000000   \n",
      "stripped          0.000000  0.000175  0.000000  0.000000  0.000496  0.000000   \n",
      "air               0.000000  0.003906  0.000000  0.000000  0.001934  0.000000   \n",
      "baby              0.000000  0.000241  0.000071  0.000070  0.000000  0.000000   \n",
      "highlight         0.000265  0.000000  0.000000  0.000000  0.000208  0.000000   \n",
      "honored           0.000000  0.000000  0.000000  0.000095  0.000000  0.000000   \n",
      "kerry             0.000000  0.000000  0.000000  0.000000  0.000000  0.028851   \n",
      "nethercutt        0.000000  0.000000  0.000000  0.000000  0.000000  0.000000   \n",
      "kansas            0.000098  0.000130  0.000000  0.000123  0.000000  0.000000   \n",
      "annual            0.000015  0.000225  0.000000  0.000000  0.000000  0.000000   \n",
      "disaster          0.000000  0.000000  0.000000  0.000000  0.001014  0.000000   \n",
      "operatives        0.000000  0.000000  0.000000  0.000116  0.000000  0.000000   \n",
      "fluid             0.000137  0.000000  0.000000  0.000000  0.000000  0.000251   \n",
      "aug               0.000000  0.000555  0.000000  0.001225  0.001762  0.000000   \n",
      "monitoring        0.000000  0.000000  0.000000  0.000000  0.000260  0.000225   \n",
      "initially         0.000000  0.000245  0.000000  0.000000  0.000000  0.000000   \n",
      "kysen             0.000000  0.000000  0.000000  0.000593  0.000000  0.000000   \n",
      "action            0.001279  0.000153  0.000000  0.000000  0.000379  0.000303   \n",
      "wide              0.000000  0.000431  0.000000  0.000000  0.000602  0.000267   \n",
      "...                    ...       ...       ...       ...       ...       ...   \n",
      "drake             0.000000  0.000000  0.000000  0.000000  0.000000  0.000377   \n",
      "freeway           0.000000  0.000000  0.000031  0.000000  0.000000  0.000000   \n",
      "playbook          0.000000  0.000000  0.000000  0.000000  0.000000  0.000000   \n",
      "hoodies           0.000000  0.000000  0.002497  0.000000  0.000000  0.000000   \n",
      "vaantirepublican  0.000000  0.000000  0.002464  0.000000  0.000000  0.000000   \n",
      "suck              0.000000  0.000000  0.000000  0.000000  0.000000  0.000097   \n",
      "thirdplace        0.000000  0.000000  0.000000  0.000000  0.000000  0.000377   \n",
      "wink              0.000000  0.000000  0.000000  0.000000  0.000930  0.000000   \n",
      "inching           0.000000  0.000000  0.000000  0.000000  0.000000  0.000293   \n",
      "intangibles       0.000000  0.000000  0.000032  0.000309  0.000000  0.000000   \n",
      "sawyer            0.000000  0.000000  0.000000  0.000000  0.000000  0.000415   \n",
      "composite         0.000000  0.000000  0.000000  0.000000  0.000000  0.000000   \n",
      "geps              0.000000  0.000000  0.000000  0.000000  0.000000  0.000000   \n",
      "postiowa          0.000000  0.000000  0.000000  0.000000  0.000000  0.000000   \n",
      "brush             0.000000  0.000000  0.000000  0.000000  0.000000  0.000000   \n",
      "caucusgoers       0.000000  0.000000  0.000000  0.000000  0.000000  0.000000   \n",
      "countylevel       0.000000  0.000000  0.000000  0.000000  0.000000  0.000000   \n",
      "outreach          0.000000  0.000000  0.000000  0.000000  0.000000  0.000000   \n",
      "rncs              0.000060  0.000000  0.000000  0.000000  0.000000  0.000000   \n",
      "uaw               0.000000  0.000000  0.000000  0.000000  0.000000  0.000000   \n",
      "deanclark         0.000000  0.000000  0.000000  0.000000  0.000000  0.000377   \n",
      "samarra           0.000000  0.000000  0.000000  0.000000  0.000743  0.000000   \n",
      "postdebate        0.000000  0.000000  0.000000  0.000379  0.000000  0.000000   \n",
      "schwarz           0.000518  0.000000  0.000000  0.000000  0.000000  0.000000   \n",
      "asserted          0.000000  0.000000  0.000000  0.000000  0.000097  0.000000   \n",
      "aft               0.000000  0.000000  0.000000  0.000000  0.000000  0.000000   \n",
      "spindizzy         0.000000  0.000000  0.000776  0.000000  0.000000  0.000000   \n",
      "barnes            0.000000  0.000000  0.000000  0.000014  0.000000  0.000000   \n",
      "barbour           0.000000  0.000000  0.000000  0.000000  0.000000  0.000000   \n",
      "kroll             0.000000  0.000344  0.000000  0.000000  0.000000  0.000000   \n",
      "\n",
      "                   topic_6   topic_7   topic_8   topic_9  topic_10  topic_11  \\\n",
      "parentheses       0.000035  0.000000  0.000000  0.000000  0.000000  0.000000   \n",
      "opinion           0.000278  0.000000  0.000651  0.000000  0.000000  0.000304   \n",
      "attitude          0.000000  0.000175  0.000000  0.000289  0.000000  0.000068   \n",
      "held              0.000000  0.000322  0.000000  0.002681  0.000000  0.000812   \n",
      "impeachment       0.000000  0.000000  0.000129  0.000077  0.000053  0.000000   \n",
      "platform          0.000000  0.000000  0.000000  0.000000  0.000000  0.000000   \n",
      "msnbc             0.000000  0.000000  0.000000  0.000000  0.000057  0.000131   \n",
      "assault           0.000000  0.000000  0.000150  0.000000  0.000000  0.000156   \n",
      "tools             0.000000  0.000000  0.000236  0.000000  0.000000  0.000000   \n",
      "vance             0.000000  0.000000  0.000000  0.000000  0.000000  0.000000   \n",
      "contingent        0.000000  0.000115  0.000000  0.000000  0.000000  0.000000   \n",
      "drove             0.000000  0.000000  0.000000  0.000000  0.000000  0.000000   \n",
      "stripped          0.000000  0.000000  0.000000  0.000046  0.000000  0.000000   \n",
      "air               0.000527  0.000463  0.000069  0.001289  0.000291  0.000024   \n",
      "baby              0.000166  0.000083  0.000000  0.000000  0.000000  0.000000   \n",
      "highlight         0.000000  0.000330  0.000333  0.000000  0.000000  0.000000   \n",
      "honored           0.000000  0.000000  0.000000  0.000000  0.000000  0.000000   \n",
      "kerry             0.000000  0.000000  0.000000  0.000000  0.009861  0.000000   \n",
      "nethercutt        0.000082  0.000000  0.000000  0.000000  0.000000  0.000000   \n",
      "kansas            0.000172  0.000000  0.000000  0.000000  0.000000  0.000000   \n",
      "annual            0.000000  0.001514  0.000000  0.000000  0.000000  0.000000   \n",
      "disaster          0.000064  0.000000  0.000105  0.000000  0.000000  0.000651   \n",
      "operatives        0.000000  0.000000  0.000243  0.000031  0.000000  0.000462   \n",
      "fluid             0.000000  0.000000  0.000000  0.000000  0.000000  0.000000   \n",
      "aug               0.000226  0.000023  0.000980  0.001689  0.000000  0.000084   \n",
      "monitoring        0.000000  0.000000  0.000000  0.000000  0.000000  0.000059   \n",
      "initially         0.000000  0.000287  0.000171  0.000000  0.000000  0.000157   \n",
      "kysen             0.000000  0.000000  0.000000  0.000000  0.000000  0.000000   \n",
      "action            0.000000  0.000376  0.000489  0.001434  0.000000  0.000658   \n",
      "wide              0.000253  0.000000  0.000000  0.000000  0.000000  0.000000   \n",
      "...                    ...       ...       ...       ...       ...       ...   \n",
      "drake             0.000000  0.000000  0.000000  0.000000  0.000000  0.000000   \n",
      "freeway           0.000000  0.000000  0.000302  0.000000  0.000000  0.000000   \n",
      "playbook          0.000000  0.000000  0.000000  0.000000  0.000000  0.000000   \n",
      "hoodies           0.000000  0.000000  0.000000  0.000000  0.000000  0.000000   \n",
      "vaantirepublican  0.000000  0.000000  0.000000  0.000000  0.000000  0.000000   \n",
      "suck              0.000000  0.000000  0.000262  0.000000  0.000000  0.000028   \n",
      "thirdplace        0.000000  0.000000  0.000000  0.000000  0.000000  0.000000   \n",
      "wink              0.000000  0.000000  0.000000  0.000000  0.000000  0.000000   \n",
      "inching           0.000000  0.000000  0.000042  0.000000  0.000000  0.000000   \n",
      "intangibles       0.000000  0.000000  0.000000  0.000000  0.000000  0.000000   \n",
      "sawyer            0.000000  0.000000  0.000000  0.000000  0.000000  0.000000   \n",
      "composite         0.000016  0.000000  0.000000  0.000000  0.000000  0.000000   \n",
      "geps              0.000134  0.000000  0.000419  0.000000  0.000000  0.000000   \n",
      "postiowa          0.000000  0.000000  0.000536  0.000000  0.000000  0.000000   \n",
      "brush             0.000000  0.000000  0.000000  0.000000  0.000000  0.000000   \n",
      "caucusgoers       0.000648  0.000000  0.000000  0.000000  0.000000  0.000000   \n",
      "countylevel       0.000098  0.000000  0.000000  0.000000  0.000000  0.000000   \n",
      "outreach          0.000000  0.000000  0.000037  0.000000  0.000000  0.000000   \n",
      "rncs              0.000000  0.000000  0.000000  0.000204  0.000000  0.000000   \n",
      "uaw               0.000000  0.000000  0.000382  0.000000  0.000000  0.000000   \n",
      "deanclark         0.000000  0.000000  0.000000  0.000000  0.000000  0.000000   \n",
      "samarra           0.000000  0.000000  0.000000  0.000000  0.000000  0.000000   \n",
      "postdebate        0.000000  0.000000  0.000000  0.000000  0.000000  0.000000   \n",
      "schwarz           0.000000  0.000000  0.000000  0.000000  0.000000  0.000000   \n",
      "asserted          0.000000  0.000000  0.000000  0.000000  0.000000  0.000000   \n",
      "aft               0.000000  0.000000  0.000459  0.000000  0.000000  0.000000   \n",
      "spindizzy         0.000000  0.000000  0.000000  0.000000  0.000000  0.000000   \n",
      "barnes            0.000000  0.000000  0.000000  0.000207  0.000000  0.000000   \n",
      "barbour           0.000000  0.000000  0.000000  0.000088  0.000000  0.000000   \n",
      "kroll             0.000000  0.000000  0.000000  0.000000  0.000000  0.000000   \n",
      "\n",
      "                  topic_12  topic_13  topic_14  \n",
      "parentheses       0.000000  0.000000  0.000000  \n",
      "opinion           0.001432  0.000315  0.000521  \n",
      "attitude          0.000079  0.000000  0.000000  \n",
      "held              0.000985  0.000000  0.000000  \n",
      "impeachment       0.000000  0.000000  0.000351  \n",
      "platform          0.000000  0.000000  0.000000  \n",
      "msnbc             0.000240  0.000115  0.000847  \n",
      "assault           0.000000  0.000289  0.000059  \n",
      "tools             0.000000  0.000406  0.000000  \n",
      "vance             0.000000  0.000000  0.000968  \n",
      "contingent        0.000000  0.000000  0.000000  \n",
      "drove             0.000000  0.000000  0.000000  \n",
      "stripped          0.000000  0.000000  0.000000  \n",
      "air               0.000418  0.001409  0.000720  \n",
      "baby              0.000000  0.000649  0.000000  \n",
      "highlight         0.000000  0.000012  0.000000  \n",
      "honored           0.000000  0.000274  0.000093  \n",
      "kerry             0.058815  0.000000  0.000565  \n",
      "nethercutt        0.000191  0.000000  0.000000  \n",
      "kansas            0.000064  0.000000  0.000644  \n",
      "annual            0.000000  0.000287  0.000000  \n",
      "disaster          0.000000  0.000070  0.000393  \n",
      "operatives        0.000000  0.000392  0.000000  \n",
      "fluid             0.000000  0.000000  0.000000  \n",
      "aug               0.002885  0.000000  0.000424  \n",
      "monitoring        0.000000  0.000000  0.000000  \n",
      "initially         0.000151  0.000227  0.000068  \n",
      "kysen             0.000000  0.000264  0.000000  \n",
      "action            0.000000  0.000000  0.000795  \n",
      "wide              0.000058  0.000000  0.000172  \n",
      "...                    ...       ...       ...  \n",
      "drake             0.000000  0.000000  0.000000  \n",
      "freeway           0.000000  0.000000  0.000000  \n",
      "playbook          0.000261  0.000000  0.000000  \n",
      "hoodies           0.000000  0.000000  0.000000  \n",
      "vaantirepublican  0.000000  0.000000  0.000000  \n",
      "suck              0.000000  0.000000  0.000000  \n",
      "thirdplace        0.000000  0.000000  0.000000  \n",
      "wink              0.000000  0.000046  0.000000  \n",
      "inching           0.000000  0.000000  0.000000  \n",
      "intangibles       0.000000  0.000000  0.000000  \n",
      "sawyer            0.000000  0.000000  0.000000  \n",
      "composite         0.000210  0.000000  0.000000  \n",
      "geps              0.000000  0.000000  0.000000  \n",
      "postiowa          0.000000  0.000000  0.000000  \n",
      "brush             0.000000  0.000305  0.000119  \n",
      "caucusgoers       0.000000  0.000000  0.000000  \n",
      "countylevel       0.000000  0.000371  0.000000  \n",
      "outreach          0.000000  0.000000  0.000796  \n",
      "rncs              0.000000  0.000000  0.000038  \n",
      "uaw               0.000000  0.000000  0.000000  \n",
      "deanclark         0.000000  0.000000  0.000000  \n",
      "samarra           0.000000  0.000000  0.000000  \n",
      "postdebate        0.000000  0.000000  0.000641  \n",
      "schwarz           0.000000  0.000000  0.000000  \n",
      "asserted          0.000162  0.000000  0.000000  \n",
      "aft               0.000000  0.000000  0.000000  \n",
      "spindizzy         0.000000  0.000000  0.000000  \n",
      "barnes            0.000290  0.000000  0.000000  \n",
      "barbour           0.000000  0.000000  0.000433  \n",
      "kroll             0.000000  0.000000  0.000000  \n",
      "\n",
      "[6906 rows x 15 columns]\n"
     ]
    }
   ],
   "source": [
    "print model_artm.phi_"
   ]
  },
  {
   "cell_type": "markdown",
   "metadata": {},
   "source": [
    "Модель можно сохранить с возможностью последующей загрузки:"
   ]
  },
  {
   "cell_type": "code",
   "execution_count": 18,
   "metadata": {
    "collapsed": false
   },
   "outputs": [],
   "source": [
    "model_artm.save(filename='kos_artm_model')  # save the model to disk\n",
    "\n",
    "# model = artm.ARTM(topic_names=[])                    # create new model\n",
    "# model.load(filename='kos_artm_model')     # load saved model into new instance"
   ]
  },
  {
   "cell_type": "markdown",
   "metadata": {},
   "source": [
    "Дополнительно извлечём $\\Theta$ в виде pandas.DataFrame и напечатаем её:"
   ]
  },
  {
   "cell_type": "code",
   "execution_count": 19,
   "metadata": {
    "collapsed": false,
    "scrolled": true
   },
   "outputs": [
    {
     "name": "stdout",
     "output_type": "stream",
     "text": [
      "              2001      2002      2003      2004      2005      2006  \\\n",
      "topic_0   0.066747  0.000000  0.000000  0.000000  0.000000  0.000000   \n",
      "topic_1   0.000000  0.000000  0.000000  0.204691  0.000000  0.000000   \n",
      "topic_2   0.000000  0.000000  0.000000  0.000000  0.000000  0.919343   \n",
      "topic_3   0.007970  0.000000  0.000000  0.000000  0.000000  0.000000   \n",
      "topic_4   0.000000  0.000000  0.000000  0.097521  0.000000  0.000000   \n",
      "topic_5   0.101254  0.441901  0.690197  0.014904  0.634291  0.000000   \n",
      "topic_6   0.013182  0.142726  0.000000  0.000000  0.092444  0.000000   \n",
      "topic_7   0.000000  0.000000  0.000000  0.310019  0.000000  0.000000   \n",
      "topic_8   0.077955  0.273763  0.309803  0.000000  0.000000  0.000000   \n",
      "topic_9   0.666219  0.000000  0.000000  0.117660  0.000000  0.000000   \n",
      "topic_10  0.015237  0.000000  0.000000  0.000000  0.000000  0.055730   \n",
      "topic_11  0.000000  0.000000  0.000000  0.040025  0.000000  0.000000   \n",
      "topic_12  0.051437  0.000000  0.000000  0.000000  0.273264  0.024927   \n",
      "topic_13  0.000000  0.000000  0.000000  0.048423  0.000000  0.000000   \n",
      "topic_14  0.000000  0.141610  0.000000  0.166756  0.000000  0.000000   \n",
      "\n",
      "              2007      2008      2009      2010    ...         3421  \\\n",
      "topic_0   0.000000  0.000000  0.189357  0.000000    ...     0.000064   \n",
      "topic_1   0.120420  0.000000  0.011376  0.000000    ...     0.342264   \n",
      "topic_2   0.000000  0.000000  0.000000  0.000000    ...     0.000000   \n",
      "topic_3   0.000000  0.000000  0.000000  0.000000    ...     0.244845   \n",
      "topic_4   0.030462  0.000000  0.072762  0.089031    ...     0.000000   \n",
      "topic_5   0.091140  0.797579  0.022820  0.000000    ...     0.000000   \n",
      "topic_6   0.430607  0.033478  0.058805  0.000000    ...     0.000000   \n",
      "topic_7   0.000000  0.000000  0.397454  0.051202    ...     0.000000   \n",
      "topic_8   0.256944  0.151131  0.045119  0.294184    ...     0.097267   \n",
      "topic_9   0.015249  0.000000  0.010778  0.000000    ...     0.132040   \n",
      "topic_10  0.000000  0.017811  0.000000  0.000000    ...     0.000000   \n",
      "topic_11  0.000000  0.000000  0.141585  0.000000    ...     0.093098   \n",
      "topic_12  0.000000  0.000000  0.049943  0.046146    ...     0.090423   \n",
      "topic_13  0.055178  0.000000  0.000000  0.519438    ...     0.000000   \n",
      "topic_14  0.000000  0.000000  0.000000  0.000000    ...     0.000000   \n",
      "\n",
      "              3422      3423      3424      3425      3426      3427  \\\n",
      "topic_0   0.000000  0.000000  0.000000  0.000000  0.000000  0.047211   \n",
      "topic_1   0.083605  0.104620  0.000000  0.000000  0.000000  0.000000   \n",
      "topic_2   0.013783  0.037047  0.047848  0.000000  0.000000  0.000000   \n",
      "topic_3   0.000000  0.090457  0.170150  0.000000  0.074221  0.000000   \n",
      "topic_4   0.103875  0.000000  0.000000  0.000000  0.044540  0.000000   \n",
      "topic_5   0.000000  0.000000  0.000000  0.000000  0.000000  0.093375   \n",
      "topic_6   0.000000  0.000000  0.111164  0.039583  0.000000  0.000000   \n",
      "topic_7   0.000000  0.031417  0.000000  0.000000  0.000000  0.000000   \n",
      "topic_8   0.000000  0.046704  0.236443  0.000000  0.000000  0.084199   \n",
      "topic_9   0.000000  0.144356  0.073494  0.000000  0.000000  0.000000   \n",
      "topic_10  0.698044  0.000000  0.000000  0.000000  0.018530  0.000000   \n",
      "topic_11  0.000000  0.083506  0.000000  0.121347  0.000000  0.000000   \n",
      "topic_12  0.100694  0.173714  0.360901  0.652094  0.781999  0.660108   \n",
      "topic_13  0.000000  0.282091  0.000000  0.142681  0.000000  0.000000   \n",
      "topic_14  0.000000  0.006088  0.000000  0.044295  0.080710  0.115107   \n",
      "\n",
      "              3428      3429      3430  \n",
      "topic_0   0.445318  0.425492  0.141245  \n",
      "topic_1   0.000000  0.000000  0.067818  \n",
      "topic_2   0.000000  0.000000  0.000000  \n",
      "topic_3   0.000000  0.323666  0.311623  \n",
      "topic_4   0.000000  0.000000  0.000000  \n",
      "topic_5   0.000000  0.000000  0.000000  \n",
      "topic_6   0.000000  0.029632  0.000000  \n",
      "topic_7   0.024618  0.000000  0.000000  \n",
      "topic_8   0.000000  0.000000  0.068481  \n",
      "topic_9   0.133405  0.000000  0.000000  \n",
      "topic_10  0.013085  0.000000  0.000000  \n",
      "topic_11  0.055991  0.069901  0.217612  \n",
      "topic_12  0.096147  0.151309  0.193221  \n",
      "topic_13  0.231435  0.000000  0.000000  \n",
      "topic_14  0.000000  0.000000  0.000000  \n",
      "\n",
      "[15 rows x 3430 columns]\n"
     ]
    }
   ],
   "source": [
    "theta_matrix = model_artm.get_theta()\n",
    "print theta_matrix"
   ]
  },
  {
   "cell_type": "markdown",
   "metadata": {},
   "source": [
    "Можно использовать модель для определения векторов $\\theta_d$ для новых документов с помощью метода ARTM.transform():"
   ]
  },
  {
   "cell_type": "code",
   "execution_count": 20,
   "metadata": {
    "collapsed": false,
    "scrolled": true
   },
   "outputs": [
    {
     "name": "stdout",
     "output_type": "stream",
     "text": [
      "              3001      3002      3003      3004      3005      3006  \\\n",
      "topic_0   0.090061  0.052500  0.082226  0.113270  0.066424  0.013094   \n",
      "topic_1   0.081177  0.042778  0.025247  0.033883  0.044768  0.020293   \n",
      "topic_2   0.012976  0.042517  0.010438  0.031512  0.039660  0.328030   \n",
      "topic_3   0.051793  0.039099  0.052948  0.097168  0.058483  0.030320   \n",
      "topic_4   0.114853  0.066534  0.058967  0.057343  0.036550  0.015402   \n",
      "topic_5   0.026519  0.027120  0.054451  0.053113  0.059482  0.021904   \n",
      "topic_6   0.059681  0.045757  0.083296  0.067679  0.061700  0.025327   \n",
      "topic_7   0.062244  0.074381  0.025125  0.046615  0.035011  0.012782   \n",
      "topic_8   0.046812  0.036259  0.045797  0.087329  0.040499  0.015984   \n",
      "topic_9   0.074736  0.375979  0.026324  0.141197  0.184587  0.034145   \n",
      "topic_10  0.023609  0.027198  0.143750  0.041299  0.048756  0.359048   \n",
      "topic_11  0.147780  0.050472  0.079082  0.057337  0.083605  0.012344   \n",
      "topic_12  0.070624  0.048572  0.172403  0.087323  0.114977  0.054975   \n",
      "topic_13  0.052958  0.040312  0.043809  0.046686  0.093253  0.030480   \n",
      "topic_14  0.084178  0.030523  0.096135  0.038246  0.032244  0.025872   \n",
      "\n",
      "              3007      3008      3009      3010    ...         3421  \\\n",
      "topic_0   0.141059  0.039167  0.068153  0.054238    ...     0.052096   \n",
      "topic_1   0.034083  0.024126  0.030475  0.050765    ...     0.195412   \n",
      "topic_2   0.016343  0.003795  0.024514  0.015283    ...     0.016308   \n",
      "topic_3   0.143044  0.112727  0.112395  0.077623    ...     0.115740   \n",
      "topic_4   0.033224  0.048505  0.038171  0.050877    ...     0.048930   \n",
      "topic_5   0.035500  0.072850  0.061656  0.051455    ...     0.027430   \n",
      "topic_6   0.214234  0.295035  0.160859  0.070665    ...     0.050341   \n",
      "topic_7   0.035121  0.022736  0.043589  0.073235    ...     0.035268   \n",
      "topic_8   0.025438  0.028825  0.040992  0.064207    ...     0.081214   \n",
      "topic_9   0.081320  0.197507  0.222119  0.252888    ...     0.079655   \n",
      "topic_10  0.032279  0.027904  0.034184  0.021686    ...     0.018764   \n",
      "topic_11  0.043844  0.020349  0.033518  0.050097    ...     0.110108   \n",
      "topic_12  0.050858  0.050587  0.048911  0.049001    ...     0.071641   \n",
      "topic_13  0.041096  0.038150  0.032158  0.055044    ...     0.054115   \n",
      "topic_14  0.072557  0.017737  0.048308  0.062936    ...     0.042978   \n",
      "\n",
      "              3422      3423      3424      3425      3426      3427  \\\n",
      "topic_0   0.028333  0.055569  0.027266  0.040906  0.035970  0.069731   \n",
      "topic_1   0.044716  0.097045  0.062472  0.052198  0.009492  0.020349   \n",
      "topic_2   0.196134  0.039542  0.039372  0.007807  0.038704  0.003587   \n",
      "topic_3   0.032368  0.082816  0.077951  0.083990  0.058458  0.051542   \n",
      "topic_4   0.062141  0.039273  0.090674  0.077673  0.063321  0.080372   \n",
      "topic_5   0.024554  0.038396  0.025917  0.040374  0.076853  0.049183   \n",
      "topic_6   0.027815  0.037040  0.073842  0.059749  0.049802  0.067134   \n",
      "topic_7   0.026050  0.065705  0.035839  0.064538  0.054916  0.071432   \n",
      "topic_8   0.018118  0.070612  0.089752  0.058132  0.042357  0.069801   \n",
      "topic_9   0.023232  0.084869  0.080882  0.054338  0.026577  0.035823   \n",
      "topic_10  0.354779  0.017141  0.036859  0.008762  0.064431  0.053879   \n",
      "topic_11  0.033243  0.080429  0.041629  0.090707  0.042540  0.035446   \n",
      "topic_12  0.073896  0.103859  0.129431  0.219218  0.304392  0.212390   \n",
      "topic_13  0.015176  0.131798  0.147503  0.099389  0.035833  0.043268   \n",
      "topic_14  0.039445  0.055905  0.040610  0.042219  0.096353  0.136065   \n",
      "\n",
      "              3428      3429      3430  \n",
      "topic_0   0.224061  0.185709  0.080732  \n",
      "topic_1   0.050783  0.033427  0.075788  \n",
      "topic_2   0.020409  0.006529  0.007458  \n",
      "topic_3   0.052067  0.200724  0.148265  \n",
      "topic_4   0.060330  0.025682  0.050424  \n",
      "topic_5   0.033058  0.045085  0.040200  \n",
      "topic_6   0.025033  0.086124  0.067435  \n",
      "topic_7   0.064332  0.040222  0.054979  \n",
      "topic_8   0.049341  0.036545  0.072856  \n",
      "topic_9   0.084864  0.054208  0.038054  \n",
      "topic_10  0.024809  0.012920  0.010898  \n",
      "topic_11  0.074518  0.067006  0.135115  \n",
      "topic_12  0.078537  0.105742  0.128134  \n",
      "topic_13  0.103218  0.058994  0.053050  \n",
      "topic_14  0.054641  0.041083  0.036613  \n",
      "\n",
      "[15 rows x 430 columns]\n"
     ]
    }
   ],
   "source": [
    "test_batch_vectorizer = artm.BatchVectorizer(data_format='batches', data_path='kos_test', batches=['test_docs.batch'])\n",
    "test_theta_matrix = model_artm.transform(batch_vectorizer=test_batch_vectorizer)\n",
    "print test_theta_matrix"
   ]
  },
  {
   "cell_type": "markdown",
   "metadata": {},
   "source": [
    "#### Выводы\n",
    "\n",
    "Задача построения тематической модели имеет бесконечно большое множество решений. Это даёт большую свободу действий, и регуляризаторы позволяют использовать её для получения результата, удовлетворяющего сразу нескольким требованиям (разреженность, интерпретируемость, удовлетворительное значение перплексии и т.п.).\n",
    "\n",
    "Приведённый выше пример является демонстрационным, можно пробовать более гибкие стратегии регуляризации для получения ещё более хорошего результата. По аналогичной схеме можно производить эксперименты с более крупными коллекциями."
   ]
  }
 ],
 "metadata": {
  "kernelspec": {
   "display_name": "Python 2",
   "language": "python",
   "name": "python2"
  },
  "language_info": {
   "codemirror_mode": {
    "name": "ipython",
    "version": 2
   },
   "file_extension": ".py",
   "mimetype": "text/x-python",
   "name": "python",
   "nbconvert_exporter": "python",
   "pygments_lexer": "ipython2",
   "version": "2.7.11"
  }
 },
 "nbformat": 4,
 "nbformat_minor": 0
}
