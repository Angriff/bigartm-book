{
 "cells": [
  {
   "cell_type": "markdown",
   "metadata": {
    "slideshow": {
     "slide_type": "slide"
    }
   },
   "source": [
    "# Тематическое моделирование. Библиотека BigARTM"
   ]
  },
  {
   "cell_type": "markdown",
   "metadata": {
    "slideshow": {
     "slide_type": "slide"
    }
   },
   "source": [
    "## BigARTM\n",
    "\n",
    "__Структура библиотеки:__\n",
    "* Ядро на C++\n",
    "* Интерфейсы: command line, C++, python\n",
    "* Передача данных между ядром и интерфейсом: protobuf\n",
    "\n",
    "__Ключевые особенности:__\n",
    "* Эффективность [Big]:\n",
    "    * Параллельная обработка данных (multithread)\n",
    "    * Необходимость хранения только матрицы $\\Phi$, матрицу $\\Theta$ хранить необязательно\n",
    "* Богатая встроенная библиотека регуляризаторов и метрик качества [AR]\n",
    "* Поддержка многомодальных тематических моделей [TM]"
   ]
  },
  {
   "cell_type": "markdown",
   "metadata": {
    "slideshow": {
     "slide_type": "slide"
    }
   },
   "source": [
    "## Установка\n",
    "Документация: [http://docs.bigartm.org/en/stable/](http://docs.bigartm.org/en/stable/)\n",
    "\n",
    "Документация по установке: [http://docs.bigartm.org/en/stable/installation](http://docs.bigartm.org/en/stable/installation)\n",
    "(см. свою ОС)\n",
    "\n",
    "__Видеоинструкция по установке:__\n",
    "* [Windows](https://www.coursera.org/learn/unsupervised-learning/lecture/qmsFm/ustanovka-bigartm-v-windows)\n",
    "* [Linux](https://www.coursera.org/learn/unsupervised-learning/lecture/zPyO0/ustanovka-bigartm-v-linux-mint)\n",
    "* [Mac OS](https://www.coursera.org/learn/unsupervised-learning/lecture/nuIhL/ustanovka-bigartm-v-mac-os-x)\n",
    "\n",
    "__Порядок установки:__\n",
    "1. Python 2.7 + numpy, pandas\n",
    "1. Скачать релиз / git clone\n",
    "1. Установка protobuf\n",
    "1. Для Linux / Mac OS: компиляция ядра\n",
    "1. Установка python-модуля artm\n",
    "1. Добавление artm/bin в PATH (или создание ARTM_SHARED_LIBRARY), artm/python в PYTHONPATH\n",
    "\n",
    "__Документация к python интерфейсу:__ [http://bigartm.readthedocs.io/en/stable/python_interface.html](http://bigartm.readthedocs.io/en/stable/python_interface.html)"
   ]
  },
  {
   "cell_type": "markdown",
   "metadata": {
    "slideshow": {
     "slide_type": "slide"
    }
   },
   "source": [
    "## Формат входных данных\n",
    "### Оформление файла с данными\n",
    "Наиболее удобный формат: __vowpal wabbit__ - специальная разметка txt-файла:\n",
    "* каждая строка - один документ\n",
    "* первое _слово_ в строке - название документа\n",
    "* далее через пробел следуют пары _слово:количество_ (слова могут повторяться, _:1_ можно опускать, счетчики суммируются)\n",
    "* _|слово_ - название модальности (после него следуют слова этой модальности)\n",
    "* если название модальности не указано, слова относятся к модальности @default_class\n",
    "\n",
    "__Наиболее простой пример:__\n",
    "\n",
    "     тематическое моделирование это метод статистический анализ текстовый коллекция\n",
    "\n",
    "__Пример:__\n",
    "\n",
    "    Лекция1 вы:5 я:3 поэтому:3 иногда |@lecturer Надя Аня |@keywords ТМ ARTM BigARTM |@text тематическое моделирование это метод статистический анализ текстовый коллекция:2 представляться матрица частота слово"
   ]
  },
  {
   "cell_type": "markdown",
   "metadata": {
    "slideshow": {
     "slide_type": "slide"
    }
   },
   "source": [
    "### Лекции Постнауки\n",
    "Материалы сайта [postnauka.ru](http://postnauka.ru)\n",
    "\n",
    "Две модальности:\n",
    "* Текст лекции\n",
    "* Автор\n",
    "\n",
    "Названия - ссылка на видеолекцию\n",
    "\n",
    "__Мини-задача:__ сделать тематический рубрикатор Постнауки"
   ]
  },
  {
   "cell_type": "markdown",
   "metadata": {
    "slideshow": {
     "slide_type": "slide"
    }
   },
   "source": [
    "### Предобработка\n",
    "Рекомендуется выполнять предобработку коллекции:\n",
    "* Лемматизация (приведение слов к начальной форме, рус. - pymorphy2 / mystem, англ. - nltk)\n",
    "* Удаление стоп слов (предлоги, союзы, общие слова) - по словарям\n",
    "* Для анализа соц. сетей - оставлять слова только из словаря\n",
    "* Фильтрация словаря (удаление очень редких и очень частых слов) - умеет BigARTM"
   ]
  },
  {
   "cell_type": "markdown",
   "metadata": {
    "slideshow": {
     "slide_type": "slide"
    }
   },
   "source": [
    "### Импорт данных\n",
    "BigARTM преобразует данные во внутренний формат - батчи. Батчи сохраняются в заданную директорию и управляются объектом класса BatchVectorizer."
   ]
  },
  {
   "cell_type": "code",
   "execution_count": 28,
   "metadata": {
    "collapsed": true,
    "slideshow": {
     "slide_type": "subslide"
    }
   },
   "outputs": [],
   "source": [
    "import artm\n",
    "import glob\n",
    "import os"
   ]
  },
  {
   "cell_type": "code",
   "execution_count": 29,
   "metadata": {
    "collapsed": false,
    "slideshow": {
     "slide_type": "slide"
    }
   },
   "outputs": [],
   "source": [
    "source_file = os.path.join(\"data\", \"lectures.txt\")\n",
    "batches_folder = \"lectures_batches\"\n",
    "if not glob.glob(os.path.join(batches_folder, \"*\")):\n",
    "    batch_vectorizer = artm.BatchVectorizer(data_path=source_file, \n",
    "                                            data_format=\"vowpal_wabbit\", \n",
    "                                            target_folder=batches_folder,\n",
    "                                            batch_size=100)\n",
    "else:\n",
    "    batch_vectorizer = artm.BatchVectorizer(data_path=batches_folder,\n",
    "                                            data_format='batches')"
   ]
  },
  {
   "cell_type": "markdown",
   "metadata": {
    "slideshow": {
     "slide_type": "subslide"
    }
   },
   "source": [
    "При первом выполнении этой ячейки в директории lectures_batches появятся файлы с расширением .batch, в следующие разы батчи будут считываться уже из этой директории."
   ]
  },
  {
   "cell_type": "markdown",
   "metadata": {
    "slideshow": {
     "slide_type": "slide"
    }
   },
   "source": [
    "### Сборка словаря"
   ]
  },
  {
   "cell_type": "markdown",
   "metadata": {
    "slideshow": {
     "slide_type": "subslide"
    }
   },
   "source": [
    "После преобразования данных нужно собрать словарь, с которым будет работать модель."
   ]
  },
  {
   "cell_type": "code",
   "execution_count": 30,
   "metadata": {
    "collapsed": false,
    "slideshow": {
     "slide_type": "subslide"
    }
   },
   "outputs": [],
   "source": [
    "dict_name = os.path.join(batches_folder, \"dict.txt\")\n",
    "dictionary = artm.Dictionary(name=\"dictionary\")\n",
    "if not os.path.exists(dict_name):\n",
    "    dictionary.gather(batches_folder)\n",
    "    dictionary.save_text(dict_name)\n",
    "else:\n",
    "    dictionary.load_text(dict_name)"
   ]
  },
  {
   "cell_type": "markdown",
   "metadata": {
    "slideshow": {
     "slide_type": "subslide"
    }
   },
   "source": [
    "При первом выполнении этой ячеки в директории lectures_batches появится текстовый файл со словарем, в следующие разы словарь будет считываться из этого файла."
   ]
  },
  {
   "cell_type": "markdown",
   "metadata": {
    "slideshow": {
     "slide_type": "slide"
    }
   },
   "source": [
    "## Построение модели\n",
    "В BigARTM реализованы два варианта обучения тематической модели: offline и online.\n",
    "\n",
    "Обучение offline:\n",
    "* выполняется много проходов по коллекции (обычно 20-30)\n",
    "* при каждом проходе по коллекции - несколько проходов по каждому батчу\n",
    "* при каждом проходе по батчу - вычисление локальной $\\Theta$ (с регуляризацией) и обновление глобальной $\\Phi$\n",
    "* после прохода по коллекции - регуляризация глобальной $\\Phi$.\n",
    "\n",
    "Обучение online:\n",
    "* один или несколько проходов по коллекции\n",
    "* для улучшения сходимости добавляются параметры сглаживания\n",
    "* подходит для очень больших коллекций"
   ]
  },
  {
   "cell_type": "code",
   "execution_count": 31,
   "metadata": {
    "collapsed": false,
    "slideshow": {
     "slide_type": "slide"
    }
   },
   "outputs": [],
   "source": [
    "scores_list = []\n",
    "scores_list.append(artm.PerplexityScore(name='PerplexityScore'))  # перплексия (перенормированное правдоподобие)\n",
    "scores_list.append(artm.SparsityPhiScore(name='SparsityPhiScore', class_id=\"@text\"))   # разреженность Phi\n",
    "scores_list.append(artm.SparsityThetaScore(name='SparsityThetaScore'))   # разреженность Theta\n",
    "scores_list.append(artm.TopTokensScore(name=\"top_words\", \n",
    "                                          num_tokens=15, \n",
    "                                          class_id=\"@text\"))  # для печати наиболее вероятных терминов темы\n",
    "                                                                           "
   ]
  },
  {
   "cell_type": "code",
   "execution_count": 32,
   "metadata": {
    "collapsed": false,
    "slideshow": {
     "slide_type": "subslide"
    }
   },
   "outputs": [],
   "source": [
    "T = 30   # количество тем\n",
    "model_artm = artm.ARTM(num_topics=T,  # число тем\n",
    "                       class_ids={\"@text\":1, \"@author\":5},   # число после названия модальностей - это их веса\n",
    "                       num_document_passes=10,   # сколько делать проходов по документу\n",
    "                       cache_theta=True,   # хранить или нет глоабльную матрицу Theta\n",
    "                       reuse_theta=False,   # если Theta хранится, нужно ли ее вновь инициализировать при каждом проходе\n",
    "                       theta_columns_naming=\"title\",   # как именовать столбцы в матрице Theta\n",
    "                       seed=789,   # random seed\n",
    "                       scores=scores_list)  # метрики качества"
   ]
  },
  {
   "cell_type": "markdown",
   "metadata": {
    "slideshow": {
     "slide_type": "slide"
    }
   },
   "source": [
    "Модель нужно инициализировать с помощью словаря. Затем мы сможем ее обучить:"
   ]
  },
  {
   "cell_type": "code",
   "execution_count": 33,
   "metadata": {
    "collapsed": false,
    "slideshow": {
     "slide_type": "subslide"
    }
   },
   "outputs": [
    {
     "name": "stdout",
     "output_type": "stream",
     "text": [
      "Wall time: 13.9 s\n"
     ]
    }
   ],
   "source": [
    "model_artm.initialize(dictionary)\n",
    "%time model_artm.fit_offline(batch_vectorizer=batch_vectorizer, \\\n",
    "                             num_collection_passes=30)"
   ]
  },
  {
   "cell_type": "markdown",
   "metadata": {
    "slideshow": {
     "slide_type": "slide"
    }
   },
   "source": [
    "Необходимое число итераций можно отслеживать по графику перплексии. Когда она перестала меняться, модель сошлась."
   ]
  },
  {
   "cell_type": "code",
   "execution_count": 34,
   "metadata": {
    "collapsed": false,
    "slideshow": {
     "slide_type": "subslide"
    }
   },
   "outputs": [],
   "source": [
    "from matplotlib import pyplot as plt\n",
    "%matplotlib inline\n",
    "import seaborn"
   ]
  },
  {
   "cell_type": "code",
   "execution_count": 35,
   "metadata": {
    "collapsed": false,
    "slideshow": {
     "slide_type": "subslide"
    }
   },
   "outputs": [
    {
     "data": {
      "text/plain": [
       "[<matplotlib.lines.Line2D at 0x137e7160>]"
      ]
     },
     "execution_count": 35,
     "metadata": {},
     "output_type": "execute_result"
    },
    {
     "data": {
      "image/png": "[encoded data removed]",
      "text/plain": [
       "<matplotlib.figure.Figure at 0x1436c320>"
      ]
     },
     "metadata": {},
     "output_type": "display_data"
    }
   ],
   "source": [
    "plt.plot(model_artm.score_tracker[\"PerplexityScore\"].value[1:]) "
   ]
  },
  {
   "cell_type": "code",
   "execution_count": 36,
   "metadata": {
    "collapsed": false,
    "slideshow": {
     "slide_type": "subslide"
    }
   },
   "outputs": [
    {
     "name": "stdout",
     "output_type": "stream",
     "text": [
      "Perplexity: 1027.70824476\n"
     ]
    }
   ],
   "source": [
    "print \"Perplexity:\", model_artm.score_tracker[\"PerplexityScore\"].last_value"
   ]
  },
  {
   "cell_type": "markdown",
   "metadata": {
    "slideshow": {
     "slide_type": "slide"
    }
   },
   "source": [
    "Выведем топы слов:"
   ]
  },
  {
   "cell_type": "code",
   "execution_count": 37,
   "metadata": {
    "collapsed": false,
    "slideshow": {
     "slide_type": "subslide"
    }
   },
   "outputs": [
    {
     "name": "stdout",
     "output_type": "stream",
     "text": [
      "topic_0:  это что который быть этот мозг человек или мочь заболевание пациент болезнь система очень как\n",
      "topic_1:  что это быть этот который материал как мочь такой для можно свет очень свойство они\n",
      "topic_2:  быть что звезда это этот черный дыра который объект такой время они как очень скорость\n",
      "topic_3:  быть что это этот который данные для как сеть они такой компьютер информация задача мочь\n",
      "topic_4:  культура это быть который этот что язык как век христианский восток они другой литература текст\n",
      "topic_5:  быть что это этот который они год как очень мочь такой весь вид животное организм\n",
      "topic_6:  человек что это который этот быть как они мочь тот такой или поведение для другой\n",
      "topic_7:  что быть это этот который пространство как структура мочь такой если они какой-то один самый\n",
      "topic_8:  быть что это этот как ребенок который человек они она очень женщина такой когда потому\n",
      "topic_9:  это быть что этот который квантовый поле частица такой как мочь магнитный электрон атом энергия\n",
      "topic_10:  быть что это который этот как они век свой весь русь такой год тот один\n",
      "topic_11:  право что быть это этот как который римский вещь такой тот или экономический юрист правовой\n",
      "topic_12:  что как это этот который философия быть наука мир социальный теория понятие социология философский свой\n",
      "topic_13:  быть что это который этот как мочь операция человек другой когда говорить такой орган сердце\n",
      "topic_14:  что быть галактика планета это звезда который этот мочь очень как они земля большой такой\n",
      "topic_15:  быть что это который этот год война россия они как русский советский тот политический первый\n",
      "topic_16:  язык что слово быть это который этот русский как такой они или например один мочь\n",
      "topic_17:  который это быть этот что они как государство век очень царь весь свой бог история\n",
      "topic_18:  это быть этот который что как материал соединение температура такой новый химический при для очень\n",
      "topic_19:  что который быть как это этот мочь человек история такой для тот новый свой или\n",
      "topic_20:  быть что частица этот это который теория взаимодействие кварк весь они как симметрия физика модель\n",
      "topic_21:  что быть это который этот фильм словарь как она очень мочь тот они или потому\n",
      "topic_22:  что это быть как этот который они человек или роль тот для лицо другой так\n",
      "topic_23:  клетка быть это что который этот они ген как днк белок мочь такой очень для\n",
      "topic_24:  быть это они что этот как человек очень самый который раса большой весь или мочь\n",
      "topic_25:  какой наука рассказывать это как проблема доктор быть каков развитие для исследование этот новый который\n",
      "topic_26:  быть это что который год этот как политический власть революция они человек государство свой тот\n",
      "topic_27:  что быть который как или память это этот мочь человек наш если они задача решение\n",
      "topic_28:  это что город быть который этот как робот они человек такой мочь тот городской или\n",
      "topic_29:  быть что который университет этот это как они год свой такой наука тот для человек\n"
     ]
    }
   ],
   "source": [
    "for topic_name in model_artm.topic_names:\n",
    "    print topic_name + ': ',\n",
    "    for word in model_artm.score_tracker[\"top_words\"].last_tokens[topic_name]:\n",
    "        print word,\n",
    "    print"
   ]
  },
  {
   "cell_type": "markdown",
   "metadata": {
    "slideshow": {
     "slide_type": "slide"
    }
   },
   "source": [
    "Разреженность матриц:"
   ]
  },
  {
   "cell_type": "code",
   "execution_count": 38,
   "metadata": {
    "collapsed": false,
    "slideshow": {
     "slide_type": "subslide"
    }
   },
   "outputs": [
    {
     "name": "stdout",
     "output_type": "stream",
     "text": [
      "Phi sparsity: 0.825863182284\n",
      "Theta sparsity: 0.0\n"
     ]
    }
   ],
   "source": [
    "print \"Phi sparsity:\",model_artm.score_tracker[\"SparsityPhiScore\"].last_value\n",
    "print \"Theta sparsity:\", model_artm.score_tracker[\"SparsityThetaScore\"].last_value"
   ]
  },
  {
   "cell_type": "markdown",
   "metadata": {
    "slideshow": {
     "slide_type": "slide"
    }
   },
   "source": [
    "В темах много общеупотребительных слов (так называемой фоновой лексики). Чтобы этого избежать, будем использовать разреживающий регуляризатор для матрицы $\\Phi$. Он будет подавлять слова, которые имеют большую частоту во всей коллекции."
   ]
  },
  {
   "cell_type": "code",
   "execution_count": 39,
   "metadata": {
    "collapsed": false,
    "slideshow": {
     "slide_type": "subslide"
    }
   },
   "outputs": [],
   "source": [
    "model_artm.regularizers.add(artm.SmoothSparsePhiRegularizer(name='SparsePhi', \n",
    "                                                            tau=-5*1e5, \n",
    "                                                            dictionary=\"dictionary\",\n",
    "                                                            class_ids=[\"@text\"]))"
   ]
  },
  {
   "cell_type": "code",
   "execution_count": 40,
   "metadata": {
    "collapsed": false,
    "slideshow": {
     "slide_type": "subslide"
    }
   },
   "outputs": [],
   "source": [
    "model_artm.fit_offline(batch_vectorizer=batch_vectorizer, \n",
    "                       num_collection_passes=15)"
   ]
  },
  {
   "cell_type": "code",
   "execution_count": 41,
   "metadata": {
    "collapsed": false,
    "slideshow": {
     "slide_type": "slide"
    }
   },
   "outputs": [
    {
     "name": "stdout",
     "output_type": "stream",
     "text": [
      "topic_0:  болезнь заболевание пациент лечение врач боль препарат медицинский иммунный сон больной диагностика синдром наследственный сосуд\n",
      "topic_1:  оптический полимер лазерный углеродный электроника полимерный собственник микроскоп имущество двумерный транзистор кремний нитрид волокно электричество\n",
      "topic_2:  черный дыра нейтронный рентгеновский относительность сверхновый компактный астрономия вспышка всплеск часы светить отсчет обсерватория горизонт\n",
      "topic_3:  данные компьютер сеть машина алгоритм вычислительный пользователь нейронный программный программирование доверие кодирование репутация затрата подчиненный\n",
      "topic_4:  христианский восток письменность христианство христианин арабский рукопись сирийский араб армянский кавказский коптский ближний быт грузинский\n",
      "topic_5:  микроорганизм озеро метан климат микроб хищник экосистема экология многоклеточный микробный дно радиация углекислый яйцо скелет\n",
      "topic_6:  трудность коллективный личностный поведенческий стресс агрессия агрессивный диагностировать шахматы деструктивный шахматный межгрупповой конструктивный ввп игровой\n",
      "topic_7:  трехмерный реликтовый геометрия космологический многомерный теорема инфляционный четырехмерный дар аномалия неоднородность сечение интерферометр гармоника вселять\n",
      "topic_8:  ребенок женщина миф чтение мать костюм пьеса детство гусейнов дочь материнство гасан мандельштам петрушевская семиотика\n",
      "topic_9:  поле квантовый магнитный электрон фотон жидкость механика ускоритель кольцо коллайдер струна волновой детектор шаман конденсат\n",
      "topic_10:  русь святой песня князь сага культ византийский апостол самка самец повесть византия федор ярослав временной\n",
      "topic_11:  право римский правовой юрист юридический должник собственность обязательство владение исполнение финансовый кредитор долг кодекс стрелец\n",
      "topic_12:  философия социология философский философ социологический социолог платон повседневность кант виталий бердяев гегель сократ аристотель бытие\n",
      "topic_13:  печень трансплантация парк хирургия бахтин желудок химиотерапия полость железа пересадка брюшной федоров злокачественный антиоксидант кишка\n",
      "topic_14:  галактика планета диск скопление спутник звездный орбита массивный спиральный астроном газовый облако планетный марс линзовидный\n",
      "topic_15:  война реформа петр сталин враг армия крестьянин шмитт руководство польский эмиграция большевик войско императорский украина\n",
      "topic_16:  язык корпус лингвист глагол лингвистика языковой гласный грамматика согласный лингвистический падеж говор анекдот синтаксический синтаксис\n",
      "topic_17:  царь ритуал праздник египет сакральный египетский тысячелетие майя компилятор мифологический археологический ислам долина завоевание периодизация\n",
      "topic_18:  химический соединение давление химия сверхпроводимость сверхпроводник алмаз сверхпроводящий железо кристаллический натрий дизайн магнит жидкий ион\n",
      "topic_19:  медиа метро цифровой обучать шумерский скрытый шпенглер мес вероятностный шумер культурология контент полезность фуад спортивный\n",
      "topic_20:  частица кварк стандартный симметрия элементарный нейтрино материя протон бозон адрон нейтрон лептон зеркальный топ ницше\n",
      "topic_21:  словарь фильм кино кинематограф культовый цитата насилие фразеологизм павлов салон обществознание порнография вестерн режиссер мольер\n",
      "topic_22:  актер фрейм соколов стихотворение судья полиция адвокат незамещенный подлежащее уголовный ролевой виноградов местоимение чужак лира\n",
      "topic_23:  клетка ген днк белок генетический последовательность молекулярный растение геном биология бактерия мутация рнк вирус мышь\n",
      "topic_24:  раса африка станислав нос землетрясение индия монголоид дробышевский сибирь индеец территориальный сейсмический аляска австралия география\n",
      "topic_25:  музей подготовка синтетический преподавание ожирение компетенция биоэтика керамика образовательный полет похоронный музейный самоутверждение проектирование керамический\n",
      "topic_26:  германия партия король франция республика террор монархия депутат конституция демократия гумбольдт орден правление конвент демократический\n",
      "topic_27:  память мышление восприятие когнитивный психолог эмоциональный зрительный запоминать творческий кора испытуемый интерференция кратковременный долговременный воспроизведение\n",
      "topic_28:  робот горожанин государь концепт робототехника пещерный поисковик загрязнение чернышевский агломерация антропоморфный погребение невеста мат паук\n",
      "topic_29:  университет факультет стих диссертация баратынский снорри экзамен заговор галилей уваров оперативный кринолин магия евразийство трубецкой\n"
     ]
    }
   ],
   "source": [
    "for topic_name in model_artm.topic_names:\n",
    "    print topic_name + ': ',\n",
    "    for word in model_artm.score_tracker[\"top_words\"].last_tokens[topic_name]:\n",
    "        print word,\n",
    "    print"
   ]
  },
  {
   "cell_type": "code",
   "execution_count": 42,
   "metadata": {
    "collapsed": false,
    "slideshow": {
     "slide_type": "slide"
    }
   },
   "outputs": [
    {
     "name": "stdout",
     "output_type": "stream",
     "text": [
      "Phi sparsity: 0.980155986883\n",
      "Theta sparsity: 0.784490740741\n"
     ]
    }
   ],
   "source": [
    "# еще раз посмотрим на разреженность\n",
    "print \"Phi sparsity:\", model_artm.score_tracker[\"SparsityPhiScore\"].last_value\n",
    "print \"Theta sparsity:\", model_artm.score_tracker[\"SparsityThetaScore\"].last_value"
   ]
  },
  {
   "cell_type": "markdown",
   "metadata": {
    "slideshow": {
     "slide_type": "subslide"
    }
   },
   "source": [
    "Обратите внимание, что разреживать модель рекомендуется только после того, как она сошлась без регуляризации."
   ]
  },
  {
   "cell_type": "markdown",
   "metadata": {
    "slideshow": {
     "slide_type": "slide"
    }
   },
   "source": [
    "### Сохранение и загрузка модели"
   ]
  },
  {
   "cell_type": "code",
   "execution_count": 43,
   "metadata": {
    "collapsed": true,
    "slideshow": {
     "slide_type": "subslide"
    }
   },
   "outputs": [],
   "source": [
    "model_artm.save(\"my_model\")"
   ]
  },
  {
   "cell_type": "code",
   "execution_count": 44,
   "metadata": {
    "collapsed": false,
    "slideshow": {
     "slide_type": "subslide"
    }
   },
   "outputs": [],
   "source": [
    "#model_artm.load(\"my_model\")"
   ]
  },
  {
   "cell_type": "markdown",
   "metadata": {
    "slideshow": {
     "slide_type": "slide"
    }
   },
   "source": [
    "### Работа с моделью"
   ]
  },
  {
   "cell_type": "code",
   "execution_count": 45,
   "metadata": {
    "collapsed": false,
    "slideshow": {
     "slide_type": "subslide"
    }
   },
   "outputs": [],
   "source": [
    "phi = model_artm.get_phi(class_ids=[\"@text\"])"
   ]
  },
  {
   "cell_type": "code",
   "execution_count": 46,
   "metadata": {
    "collapsed": false,
    "slideshow": {
     "slide_type": "subslide"
    }
   },
   "outputs": [
    {
     "data": {
      "text/html": [
       "<div>\n",
       "<table border=\"1\" class=\"dataframe\">\n",
       "  <thead>\n",
       "    <tr style=\"text-align: right;\">\n",
       "      <th></th>\n",
       "      <th>topic_0</th>\n",
       "      <th>topic_1</th>\n",
       "      <th>topic_2</th>\n",
       "      <th>topic_3</th>\n",
       "      <th>topic_4</th>\n",
       "      <th>topic_5</th>\n",
       "      <th>topic_6</th>\n",
       "      <th>topic_7</th>\n",
       "      <th>topic_8</th>\n",
       "      <th>topic_9</th>\n",
       "      <th>...</th>\n",
       "      <th>topic_20</th>\n",
       "      <th>topic_21</th>\n",
       "      <th>topic_22</th>\n",
       "      <th>topic_23</th>\n",
       "      <th>topic_24</th>\n",
       "      <th>topic_25</th>\n",
       "      <th>topic_26</th>\n",
       "      <th>topic_27</th>\n",
       "      <th>topic_28</th>\n",
       "      <th>topic_29</th>\n",
       "    </tr>\n",
       "  </thead>\n",
       "  <tbody>\n",
       "    <tr>\n",
       "      <th>аллель</th>\n",
       "      <td>0</td>\n",
       "      <td>0</td>\n",
       "      <td>0</td>\n",
       "      <td>0.000000</td>\n",
       "      <td>0.000000</td>\n",
       "      <td>0</td>\n",
       "      <td>0</td>\n",
       "      <td>0</td>\n",
       "      <td>0</td>\n",
       "      <td>0</td>\n",
       "      <td>...</td>\n",
       "      <td>0</td>\n",
       "      <td>0</td>\n",
       "      <td>0</td>\n",
       "      <td>0.000000</td>\n",
       "      <td>0</td>\n",
       "      <td>0</td>\n",
       "      <td>0</td>\n",
       "      <td>0</td>\n",
       "      <td>0</td>\n",
       "      <td>0</td>\n",
       "    </tr>\n",
       "    <tr>\n",
       "      <th>халиф</th>\n",
       "      <td>0</td>\n",
       "      <td>0</td>\n",
       "      <td>0</td>\n",
       "      <td>0.000000</td>\n",
       "      <td>0.001039</td>\n",
       "      <td>0</td>\n",
       "      <td>0</td>\n",
       "      <td>0</td>\n",
       "      <td>0</td>\n",
       "      <td>0</td>\n",
       "      <td>...</td>\n",
       "      <td>0</td>\n",
       "      <td>0</td>\n",
       "      <td>0</td>\n",
       "      <td>0.000000</td>\n",
       "      <td>0</td>\n",
       "      <td>0</td>\n",
       "      <td>0</td>\n",
       "      <td>0</td>\n",
       "      <td>0</td>\n",
       "      <td>0</td>\n",
       "    </tr>\n",
       "    <tr>\n",
       "      <th>прокопович</th>\n",
       "      <td>0</td>\n",
       "      <td>0</td>\n",
       "      <td>0</td>\n",
       "      <td>0.000000</td>\n",
       "      <td>0.000000</td>\n",
       "      <td>0</td>\n",
       "      <td>0</td>\n",
       "      <td>0</td>\n",
       "      <td>0</td>\n",
       "      <td>0</td>\n",
       "      <td>...</td>\n",
       "      <td>0</td>\n",
       "      <td>0</td>\n",
       "      <td>0</td>\n",
       "      <td>0.000000</td>\n",
       "      <td>0</td>\n",
       "      <td>0</td>\n",
       "      <td>0</td>\n",
       "      <td>0</td>\n",
       "      <td>0</td>\n",
       "      <td>0</td>\n",
       "    </tr>\n",
       "    <tr>\n",
       "      <th>клетка</th>\n",
       "      <td>0</td>\n",
       "      <td>0</td>\n",
       "      <td>0</td>\n",
       "      <td>0.000000</td>\n",
       "      <td>0.000000</td>\n",
       "      <td>0</td>\n",
       "      <td>0</td>\n",
       "      <td>0</td>\n",
       "      <td>0</td>\n",
       "      <td>0</td>\n",
       "      <td>...</td>\n",
       "      <td>0</td>\n",
       "      <td>0</td>\n",
       "      <td>0</td>\n",
       "      <td>0.133672</td>\n",
       "      <td>0</td>\n",
       "      <td>0</td>\n",
       "      <td>0</td>\n",
       "      <td>0</td>\n",
       "      <td>0</td>\n",
       "      <td>0</td>\n",
       "    </tr>\n",
       "    <tr>\n",
       "      <th>передаваемый</th>\n",
       "      <td>0</td>\n",
       "      <td>0</td>\n",
       "      <td>0</td>\n",
       "      <td>0.000277</td>\n",
       "      <td>0.000000</td>\n",
       "      <td>0</td>\n",
       "      <td>0</td>\n",
       "      <td>0</td>\n",
       "      <td>0</td>\n",
       "      <td>0</td>\n",
       "      <td>...</td>\n",
       "      <td>0</td>\n",
       "      <td>0</td>\n",
       "      <td>0</td>\n",
       "      <td>0.000000</td>\n",
       "      <td>0</td>\n",
       "      <td>0</td>\n",
       "      <td>0</td>\n",
       "      <td>0</td>\n",
       "      <td>0</td>\n",
       "      <td>0</td>\n",
       "    </tr>\n",
       "  </tbody>\n",
       "</table>\n",
       "<p>5 rows × 30 columns</p>\n",
       "</div>"
      ],
      "text/plain": [
       "              topic_0  topic_1  topic_2   topic_3   topic_4  topic_5  topic_6  \\\n",
       "аллель              0        0        0  0.000000  0.000000        0        0   \n",
       "халиф               0        0        0  0.000000  0.001039        0        0   \n",
       "прокопович          0        0        0  0.000000  0.000000        0        0   \n",
       "клетка              0        0        0  0.000000  0.000000        0        0   \n",
       "передаваемый        0        0        0  0.000277  0.000000        0        0   \n",
       "\n",
       "              topic_7  topic_8  topic_9    ...     topic_20  topic_21  \\\n",
       "аллель              0        0        0    ...            0         0   \n",
       "халиф               0        0        0    ...            0         0   \n",
       "прокопович          0        0        0    ...            0         0   \n",
       "клетка              0        0        0    ...            0         0   \n",
       "передаваемый        0        0        0    ...            0         0   \n",
       "\n",
       "              topic_22  topic_23  topic_24  topic_25  topic_26  topic_27  \\\n",
       "аллель               0  0.000000         0         0         0         0   \n",
       "халиф                0  0.000000         0         0         0         0   \n",
       "прокопович           0  0.000000         0         0         0         0   \n",
       "клетка               0  0.133672         0         0         0         0   \n",
       "передаваемый         0  0.000000         0         0         0         0   \n",
       "\n",
       "              topic_28  topic_29  \n",
       "аллель               0         0  \n",
       "халиф                0         0  \n",
       "прокопович           0         0  \n",
       "клетка               0         0  \n",
       "передаваемый         0         0  \n",
       "\n",
       "[5 rows x 30 columns]"
      ]
     },
     "execution_count": 46,
     "metadata": {},
     "output_type": "execute_result"
    }
   ],
   "source": [
    "phi.head()"
   ]
  },
  {
   "cell_type": "markdown",
   "metadata": {
    "slideshow": {
     "slide_type": "slide"
    }
   },
   "source": [
    "Тематические профили документов:"
   ]
  },
  {
   "cell_type": "code",
   "execution_count": 47,
   "metadata": {
    "collapsed": false,
    "slideshow": {
     "slide_type": "subslide"
    }
   },
   "outputs": [
    {
     "data": {
      "text/html": [
       "<div>\n",
       "<table border=\"1\" class=\"dataframe\">\n",
       "  <thead>\n",
       "    <tr style=\"text-align: right;\">\n",
       "      <th></th>\n",
       "      <th>http://postnauka.ru/video/19330</th>\n",
       "      <th>http://postnauka.ru/video/19357</th>\n",
       "      <th>http://postnauka.ru/video/19371</th>\n",
       "      <th>http://postnauka.ru/video/19436</th>\n",
       "      <th>http://postnauka.ru/video/19451</th>\n",
       "      <th>http://postnauka.ru/video/19453</th>\n",
       "      <th>http://postnauka.ru/video/19456</th>\n",
       "      <th>http://postnauka.ru/video/19457</th>\n",
       "      <th>http://postnauka.ru/video/19458</th>\n",
       "      <th>http://postnauka.ru/video/19459</th>\n",
       "      <th>...</th>\n",
       "      <th>http://postnauka.ru/video/12739</th>\n",
       "      <th>http://postnauka.ru/video/12740</th>\n",
       "      <th>http://postnauka.ru/video/12898</th>\n",
       "      <th>http://postnauka.ru/video/12904</th>\n",
       "      <th>http://postnauka.ru/video/12971</th>\n",
       "      <th>http://postnauka.ru/video/12974</th>\n",
       "      <th>http://postnauka.ru/video/13041</th>\n",
       "      <th>http://postnauka.ru/video/13042</th>\n",
       "      <th>http://postnauka.ru/video/13043</th>\n",
       "      <th>http://postnauka.ru/video/13092</th>\n",
       "    </tr>\n",
       "  </thead>\n",
       "  <tbody>\n",
       "    <tr>\n",
       "      <th>topic_0</th>\n",
       "      <td>0.00000</td>\n",
       "      <td>0.000000</td>\n",
       "      <td>0</td>\n",
       "      <td>0</td>\n",
       "      <td>0</td>\n",
       "      <td>0</td>\n",
       "      <td>0.000000</td>\n",
       "      <td>0.000000</td>\n",
       "      <td>0.000000</td>\n",
       "      <td>0.119048</td>\n",
       "      <td>...</td>\n",
       "      <td>0.000000</td>\n",
       "      <td>0</td>\n",
       "      <td>0</td>\n",
       "      <td>0</td>\n",
       "      <td>0</td>\n",
       "      <td>0.3125</td>\n",
       "      <td>0</td>\n",
       "      <td>0</td>\n",
       "      <td>0</td>\n",
       "      <td>0.423077</td>\n",
       "    </tr>\n",
       "    <tr>\n",
       "      <th>topic_1</th>\n",
       "      <td>0.00000</td>\n",
       "      <td>0.000000</td>\n",
       "      <td>0</td>\n",
       "      <td>0</td>\n",
       "      <td>0</td>\n",
       "      <td>0</td>\n",
       "      <td>0.048780</td>\n",
       "      <td>0.071429</td>\n",
       "      <td>0.113636</td>\n",
       "      <td>0.000000</td>\n",
       "      <td>...</td>\n",
       "      <td>0.000000</td>\n",
       "      <td>0</td>\n",
       "      <td>0</td>\n",
       "      <td>0</td>\n",
       "      <td>0</td>\n",
       "      <td>0.2500</td>\n",
       "      <td>0</td>\n",
       "      <td>0</td>\n",
       "      <td>0</td>\n",
       "      <td>0.000000</td>\n",
       "    </tr>\n",
       "    <tr>\n",
       "      <th>topic_2</th>\n",
       "      <td>0.00000</td>\n",
       "      <td>0.000000</td>\n",
       "      <td>0</td>\n",
       "      <td>0</td>\n",
       "      <td>0</td>\n",
       "      <td>0</td>\n",
       "      <td>0.000000</td>\n",
       "      <td>0.000000</td>\n",
       "      <td>0.000000</td>\n",
       "      <td>0.000000</td>\n",
       "      <td>...</td>\n",
       "      <td>0.014085</td>\n",
       "      <td>0</td>\n",
       "      <td>0</td>\n",
       "      <td>0</td>\n",
       "      <td>0</td>\n",
       "      <td>0.0000</td>\n",
       "      <td>0</td>\n",
       "      <td>0</td>\n",
       "      <td>0</td>\n",
       "      <td>0.000000</td>\n",
       "    </tr>\n",
       "    <tr>\n",
       "      <th>topic_3</th>\n",
       "      <td>0.02439</td>\n",
       "      <td>0.000000</td>\n",
       "      <td>0</td>\n",
       "      <td>0</td>\n",
       "      <td>0</td>\n",
       "      <td>0</td>\n",
       "      <td>0.073182</td>\n",
       "      <td>0.071429</td>\n",
       "      <td>0.000000</td>\n",
       "      <td>0.000000</td>\n",
       "      <td>...</td>\n",
       "      <td>0.000000</td>\n",
       "      <td>0</td>\n",
       "      <td>0</td>\n",
       "      <td>0</td>\n",
       "      <td>0</td>\n",
       "      <td>0.0000</td>\n",
       "      <td>0</td>\n",
       "      <td>0</td>\n",
       "      <td>0</td>\n",
       "      <td>0.000000</td>\n",
       "    </tr>\n",
       "    <tr>\n",
       "      <th>topic_4</th>\n",
       "      <td>0.00000</td>\n",
       "      <td>0.018182</td>\n",
       "      <td>0</td>\n",
       "      <td>0</td>\n",
       "      <td>0</td>\n",
       "      <td>0</td>\n",
       "      <td>0.000000</td>\n",
       "      <td>0.000000</td>\n",
       "      <td>0.000000</td>\n",
       "      <td>0.000000</td>\n",
       "      <td>...</td>\n",
       "      <td>0.309859</td>\n",
       "      <td>0</td>\n",
       "      <td>0</td>\n",
       "      <td>0</td>\n",
       "      <td>0</td>\n",
       "      <td>0.0000</td>\n",
       "      <td>0</td>\n",
       "      <td>0</td>\n",
       "      <td>0</td>\n",
       "      <td>0.000000</td>\n",
       "    </tr>\n",
       "  </tbody>\n",
       "</table>\n",
       "<p>5 rows × 1728 columns</p>\n",
       "</div>"
      ],
      "text/plain": [
       "         http://postnauka.ru/video/19330  http://postnauka.ru/video/19357  \\\n",
       "topic_0                          0.00000                         0.000000   \n",
       "topic_1                          0.00000                         0.000000   \n",
       "topic_2                          0.00000                         0.000000   \n",
       "topic_3                          0.02439                         0.000000   \n",
       "topic_4                          0.00000                         0.018182   \n",
       "\n",
       "         http://postnauka.ru/video/19371  http://postnauka.ru/video/19436  \\\n",
       "topic_0                                0                                0   \n",
       "topic_1                                0                                0   \n",
       "topic_2                                0                                0   \n",
       "topic_3                                0                                0   \n",
       "topic_4                                0                                0   \n",
       "\n",
       "         http://postnauka.ru/video/19451  http://postnauka.ru/video/19453  \\\n",
       "topic_0                                0                                0   \n",
       "topic_1                                0                                0   \n",
       "topic_2                                0                                0   \n",
       "topic_3                                0                                0   \n",
       "topic_4                                0                                0   \n",
       "\n",
       "         http://postnauka.ru/video/19456  http://postnauka.ru/video/19457  \\\n",
       "topic_0                         0.000000                         0.000000   \n",
       "topic_1                         0.048780                         0.071429   \n",
       "topic_2                         0.000000                         0.000000   \n",
       "topic_3                         0.073182                         0.071429   \n",
       "topic_4                         0.000000                         0.000000   \n",
       "\n",
       "         http://postnauka.ru/video/19458  http://postnauka.ru/video/19459  \\\n",
       "topic_0                         0.000000                         0.119048   \n",
       "topic_1                         0.113636                         0.000000   \n",
       "topic_2                         0.000000                         0.000000   \n",
       "topic_3                         0.000000                         0.000000   \n",
       "topic_4                         0.000000                         0.000000   \n",
       "\n",
       "                      ...                 http://postnauka.ru/video/12739  \\\n",
       "topic_0               ...                                        0.000000   \n",
       "topic_1               ...                                        0.000000   \n",
       "topic_2               ...                                        0.014085   \n",
       "topic_3               ...                                        0.000000   \n",
       "topic_4               ...                                        0.309859   \n",
       "\n",
       "         http://postnauka.ru/video/12740  http://postnauka.ru/video/12898  \\\n",
       "topic_0                                0                                0   \n",
       "topic_1                                0                                0   \n",
       "topic_2                                0                                0   \n",
       "topic_3                                0                                0   \n",
       "topic_4                                0                                0   \n",
       "\n",
       "         http://postnauka.ru/video/12904  http://postnauka.ru/video/12971  \\\n",
       "topic_0                                0                                0   \n",
       "topic_1                                0                                0   \n",
       "topic_2                                0                                0   \n",
       "topic_3                                0                                0   \n",
       "topic_4                                0                                0   \n",
       "\n",
       "         http://postnauka.ru/video/12974  http://postnauka.ru/video/13041  \\\n",
       "topic_0                           0.3125                                0   \n",
       "topic_1                           0.2500                                0   \n",
       "topic_2                           0.0000                                0   \n",
       "topic_3                           0.0000                                0   \n",
       "topic_4                           0.0000                                0   \n",
       "\n",
       "         http://postnauka.ru/video/13042  http://postnauka.ru/video/13043  \\\n",
       "topic_0                                0                                0   \n",
       "topic_1                                0                                0   \n",
       "topic_2                                0                                0   \n",
       "topic_3                                0                                0   \n",
       "topic_4                                0                                0   \n",
       "\n",
       "         http://postnauka.ru/video/13092  \n",
       "topic_0                         0.423077  \n",
       "topic_1                         0.000000  \n",
       "topic_2                         0.000000  \n",
       "topic_3                         0.000000  \n",
       "topic_4                         0.000000  \n",
       "\n",
       "[5 rows x 1728 columns]"
      ]
     },
     "execution_count": 47,
     "metadata": {},
     "output_type": "execute_result"
    }
   ],
   "source": [
    "theta = model_artm.get_theta()\n",
    "theta.head()"
   ]
  },
  {
   "cell_type": "markdown",
   "metadata": {
    "slideshow": {
     "slide_type": "slide"
    }
   },
   "source": [
    "Если бы у нас были новые батчи, по которым мы не строим модель, а хотим только получить матрицу theta, можно пользоваться методом transform."
   ]
  },
  {
   "cell_type": "code",
   "execution_count": 48,
   "metadata": {
    "collapsed": true,
    "slideshow": {
     "slide_type": "subslide"
    }
   },
   "outputs": [],
   "source": [
    "theta_test = model_artm.transform(batch_vectorizer)"
   ]
  },
  {
   "cell_type": "markdown",
   "metadata": {
    "slideshow": {
     "slide_type": "slide"
    }
   },
   "source": [
    "Параметры модели:"
   ]
  },
  {
   "cell_type": "code",
   "execution_count": 49,
   "metadata": {
    "collapsed": false,
    "slideshow": {
     "slide_type": "subslide"
    }
   },
   "outputs": [
    {
     "name": "stdout",
     "output_type": "stream",
     "text": [
      "{'@text': 1, '@author': 5}\n",
      "[u'topic_0', u'topic_1', u'topic_2', u'topic_3', u'topic_4', u'topic_5', u'topic_6', u'topic_7', u'topic_8', u'topic_9', u'topic_10', u'topic_11', u'topic_12', u'topic_13', u'topic_14', u'topic_15', u'topic_16', u'topic_17', u'topic_18', u'topic_19', u'topic_20', u'topic_21', u'topic_22', u'topic_23', u'topic_24', u'topic_25', u'topic_26', u'topic_27', u'topic_28', u'topic_29']\n",
      "['PerplexityScore', 'SparsityPhiScore', 'SparsityThetaScore', 'top_words']\n",
      "['SparsePhi']\n"
     ]
    }
   ],
   "source": [
    "print model_artm.class_ids\n",
    "print model_artm.topic_names\n",
    "print model_artm.score_tracker.keys()\n",
    "print model_artm.regularizers.data.keys()"
   ]
  },
  {
   "cell_type": "markdown",
   "metadata": {
    "collapsed": true,
    "slideshow": {
     "slide_type": "slide"
    }
   },
   "source": [
    "### Посмотрим, что получилось"
   ]
  },
  {
   "cell_type": "code",
   "execution_count": 50,
   "metadata": {
    "collapsed": true,
    "slideshow": {
     "slide_type": "subslide"
    }
   },
   "outputs": [],
   "source": [
    "import numpy as np\n",
    "import pandas as pd"
   ]
  },
  {
   "cell_type": "code",
   "execution_count": 51,
   "metadata": {
    "collapsed": false,
    "slideshow": {
     "slide_type": "subslide"
    }
   },
   "outputs": [],
   "source": [
    "def print_topic(model, topic_name):\n",
    "    theta = model.get_theta()\n",
    "    docs = theta.ix[topic_name].sort_values()[:-10:-1]\n",
    "    \n",
    "    print \"------\", topic_name, \"------\"\n",
    "    print \"Терминология:\", \" \".join(model.score_tracker[\"top_words\"].last_tokens[topic_name][:10])\n",
    "    print \"Лекции:\"\n",
    "    for link in docs.index:\n",
    "        print \"*\", link"
   ]
  },
  {
   "cell_type": "code",
   "execution_count": 52,
   "metadata": {
    "collapsed": false,
    "slideshow": {
     "slide_type": "subslide"
    }
   },
   "outputs": [
    {
     "name": "stdout",
     "output_type": "stream",
     "text": [
      "------ topic_12 ------\n",
      "Терминология: философия социология философский философ социологический социолог платон повседневность кант виталий\n",
      "Лекции:\n",
      "* http://postnauka.ru/video/2955\n",
      "* http://postnauka.ru/video/20390\n",
      "* http://postnauka.ru/video/6380\n",
      "* http://postnauka.ru/video/14297\n",
      "* http://postnauka.ru/video/6725\n",
      "* http://postnauka.ru/video/3405\n",
      "* http://postnauka.ru/video/8623\n",
      "* http://postnauka.ru/video/2526\n",
      "* http://postnauka.ru/video/3628\n"
     ]
    }
   ],
   "source": [
    "print_topic(model_artm, model_artm.topic_names[12])"
   ]
  },
  {
   "cell_type": "markdown",
   "metadata": {
    "slideshow": {
     "slide_type": "slide"
    }
   },
   "source": [
    "Поиск похожих авторов:"
   ]
  },
  {
   "cell_type": "code",
   "execution_count": 53,
   "metadata": {
    "collapsed": false,
    "slideshow": {
     "slide_type": "subslide"
    }
   },
   "outputs": [],
   "source": [
    "authors_phi = model_artm.get_phi(class_ids=[\"@author\"])"
   ]
  },
  {
   "cell_type": "code",
   "execution_count": 54,
   "metadata": {
    "collapsed": false,
    "slideshow": {
     "slide_type": "subslide"
    }
   },
   "outputs": [],
   "source": [
    "### Профили авторов:\n",
    "authors_topics = authors_phi.values\n",
    "authors_topics /= authors_topics.sum(axis=1)[:, np.newaxis]"
   ]
  },
  {
   "cell_type": "code",
   "execution_count": 55,
   "metadata": {
    "collapsed": false,
    "slideshow": {
     "slide_type": "subslide"
    }
   },
   "outputs": [],
   "source": [
    "authors_corr = pd.DataFrame(data=np.corrcoef(authors_topics),\n",
    "                            index=authors_phi.index,\n",
    "                            columns=authors_phi.index)"
   ]
  },
  {
   "cell_type": "code",
   "execution_count": 56,
   "metadata": {
    "collapsed": false,
    "slideshow": {
     "slide_type": "subslide"
    }
   },
   "outputs": [
    {
     "data": {
      "text/html": [
       "<div>\n",
       "<table border=\"1\" class=\"dataframe\">\n",
       "  <thead>\n",
       "    <tr style=\"text-align: right;\">\n",
       "      <th></th>\n",
       "      <th>Андрей_Лукашов</th>\n",
       "      <th>Татьяна_Ребеко</th>\n",
       "      <th>Кирилл_Зыбин</th>\n",
       "      <th>Роберт_Лэнгер</th>\n",
       "      <th>Валерий_Рубаков</th>\n",
       "      <th>Александр_Петренко</th>\n",
       "      <th>Рой_Глаубер</th>\n",
       "      <th>Алексей_Муравьёв</th>\n",
       "      <th>Константин_Звездин</th>\n",
       "      <th>Александр_Парфенов</th>\n",
       "      <th>...</th>\n",
       "      <th>Пётр_Турчин</th>\n",
       "      <th>Юрий_Рогулёв</th>\n",
       "      <th>Екатерина_Болтунова</th>\n",
       "      <th>Дэвид_Кларк</th>\n",
       "      <th>Алексей_Малашенко</th>\n",
       "      <th>Ирина_Левонтина</th>\n",
       "      <th>Андрей_Коротаев</th>\n",
       "      <th>Александр_Беленький</th>\n",
       "      <th>Павел_Степанцов</th>\n",
       "      <th>Дэвид_Гросс</th>\n",
       "    </tr>\n",
       "  </thead>\n",
       "  <tbody>\n",
       "    <tr>\n",
       "      <th>Андрей_Лукашов</th>\n",
       "      <td>1.000000</td>\n",
       "      <td>-0.034488</td>\n",
       "      <td>-0.034483</td>\n",
       "      <td>-0.034483</td>\n",
       "      <td>-0.047304</td>\n",
       "      <td>-0.034483</td>\n",
       "      <td>-0.034483</td>\n",
       "      <td>-0.034483</td>\n",
       "      <td>-0.034504</td>\n",
       "      <td>-0.034483</td>\n",
       "      <td>...</td>\n",
       "      <td>-0.034483</td>\n",
       "      <td>-0.035156</td>\n",
       "      <td>-0.034483</td>\n",
       "      <td>-0.034483</td>\n",
       "      <td>-0.034483</td>\n",
       "      <td>-0.034483</td>\n",
       "      <td>-0.034483</td>\n",
       "      <td>-0.034483</td>\n",
       "      <td>-0.034483</td>\n",
       "      <td>-0.034483</td>\n",
       "    </tr>\n",
       "    <tr>\n",
       "      <th>Татьяна_Ребеко</th>\n",
       "      <td>-0.034488</td>\n",
       "      <td>1.000000</td>\n",
       "      <td>-0.034488</td>\n",
       "      <td>-0.034488</td>\n",
       "      <td>-0.047312</td>\n",
       "      <td>-0.034488</td>\n",
       "      <td>-0.034488</td>\n",
       "      <td>-0.034488</td>\n",
       "      <td>-0.034510</td>\n",
       "      <td>-0.034488</td>\n",
       "      <td>...</td>\n",
       "      <td>-0.034488</td>\n",
       "      <td>-0.035162</td>\n",
       "      <td>-0.034488</td>\n",
       "      <td>-0.034488</td>\n",
       "      <td>-0.034488</td>\n",
       "      <td>-0.034488</td>\n",
       "      <td>-0.034488</td>\n",
       "      <td>-0.034488</td>\n",
       "      <td>-0.034488</td>\n",
       "      <td>-0.034489</td>\n",
       "    </tr>\n",
       "    <tr>\n",
       "      <th>Кирилл_Зыбин</th>\n",
       "      <td>-0.034483</td>\n",
       "      <td>-0.034488</td>\n",
       "      <td>1.000000</td>\n",
       "      <td>-0.034483</td>\n",
       "      <td>-0.047304</td>\n",
       "      <td>-0.034483</td>\n",
       "      <td>-0.034482</td>\n",
       "      <td>-0.034483</td>\n",
       "      <td>-0.034504</td>\n",
       "      <td>-0.034483</td>\n",
       "      <td>...</td>\n",
       "      <td>-0.034483</td>\n",
       "      <td>-0.035156</td>\n",
       "      <td>-0.034483</td>\n",
       "      <td>-0.034483</td>\n",
       "      <td>-0.034483</td>\n",
       "      <td>-0.034483</td>\n",
       "      <td>-0.034483</td>\n",
       "      <td>-0.034483</td>\n",
       "      <td>-0.034483</td>\n",
       "      <td>1.000000</td>\n",
       "    </tr>\n",
       "    <tr>\n",
       "      <th>Роберт_Лэнгер</th>\n",
       "      <td>-0.034483</td>\n",
       "      <td>-0.034488</td>\n",
       "      <td>-0.034483</td>\n",
       "      <td>1.000000</td>\n",
       "      <td>-0.047304</td>\n",
       "      <td>-0.034483</td>\n",
       "      <td>-0.034483</td>\n",
       "      <td>-0.034483</td>\n",
       "      <td>-0.034504</td>\n",
       "      <td>-0.034483</td>\n",
       "      <td>...</td>\n",
       "      <td>-0.034483</td>\n",
       "      <td>-0.035156</td>\n",
       "      <td>-0.034483</td>\n",
       "      <td>-0.034483</td>\n",
       "      <td>1.000000</td>\n",
       "      <td>-0.034483</td>\n",
       "      <td>-0.034483</td>\n",
       "      <td>1.000000</td>\n",
       "      <td>-0.034483</td>\n",
       "      <td>-0.034483</td>\n",
       "    </tr>\n",
       "    <tr>\n",
       "      <th>Валерий_Рубаков</th>\n",
       "      <td>-0.047304</td>\n",
       "      <td>-0.047312</td>\n",
       "      <td>-0.047304</td>\n",
       "      <td>-0.047304</td>\n",
       "      <td>1.000000</td>\n",
       "      <td>-0.047304</td>\n",
       "      <td>-0.047304</td>\n",
       "      <td>-0.047304</td>\n",
       "      <td>-0.047333</td>\n",
       "      <td>-0.047304</td>\n",
       "      <td>...</td>\n",
       "      <td>-0.047304</td>\n",
       "      <td>-0.048227</td>\n",
       "      <td>-0.047304</td>\n",
       "      <td>-0.047304</td>\n",
       "      <td>-0.047304</td>\n",
       "      <td>-0.047304</td>\n",
       "      <td>-0.047304</td>\n",
       "      <td>-0.047304</td>\n",
       "      <td>-0.047304</td>\n",
       "      <td>-0.047297</td>\n",
       "    </tr>\n",
       "  </tbody>\n",
       "</table>\n",
       "<p>5 rows × 539 columns</p>\n",
       "</div>"
      ],
      "text/plain": [
       "                 Андрей_Лукашов  Татьяна_Ребеко  Кирилл_Зыбин  Роберт_Лэнгер  \\\n",
       "Андрей_Лукашов         1.000000       -0.034488     -0.034483      -0.034483   \n",
       "Татьяна_Ребеко        -0.034488        1.000000     -0.034488      -0.034488   \n",
       "Кирилл_Зыбин          -0.034483       -0.034488      1.000000      -0.034483   \n",
       "Роберт_Лэнгер         -0.034483       -0.034488     -0.034483       1.000000   \n",
       "Валерий_Рубаков       -0.047304       -0.047312     -0.047304      -0.047304   \n",
       "\n",
       "                 Валерий_Рубаков  Александр_Петренко  Рой_Глаубер  \\\n",
       "Андрей_Лукашов         -0.047304           -0.034483    -0.034483   \n",
       "Татьяна_Ребеко         -0.047312           -0.034488    -0.034488   \n",
       "Кирилл_Зыбин           -0.047304           -0.034483    -0.034482   \n",
       "Роберт_Лэнгер          -0.047304           -0.034483    -0.034483   \n",
       "Валерий_Рубаков         1.000000           -0.047304    -0.047304   \n",
       "\n",
       "                 Алексей_Муравьёв  Константин_Звездин  Александр_Парфенов  \\\n",
       "Андрей_Лукашов          -0.034483           -0.034504           -0.034483   \n",
       "Татьяна_Ребеко          -0.034488           -0.034510           -0.034488   \n",
       "Кирилл_Зыбин            -0.034483           -0.034504           -0.034483   \n",
       "Роберт_Лэнгер           -0.034483           -0.034504           -0.034483   \n",
       "Валерий_Рубаков         -0.047304           -0.047333           -0.047304   \n",
       "\n",
       "                    ...       Пётр_Турчин  Юрий_Рогулёв  Екатерина_Болтунова  \\\n",
       "Андрей_Лукашов      ...         -0.034483     -0.035156            -0.034483   \n",
       "Татьяна_Ребеко      ...         -0.034488     -0.035162            -0.034488   \n",
       "Кирилл_Зыбин        ...         -0.034483     -0.035156            -0.034483   \n",
       "Роберт_Лэнгер       ...         -0.034483     -0.035156            -0.034483   \n",
       "Валерий_Рубаков     ...         -0.047304     -0.048227            -0.047304   \n",
       "\n",
       "                 Дэвид_Кларк  Алексей_Малашенко  Ирина_Левонтина  \\\n",
       "Андрей_Лукашов     -0.034483          -0.034483        -0.034483   \n",
       "Татьяна_Ребеко     -0.034488          -0.034488        -0.034488   \n",
       "Кирилл_Зыбин       -0.034483          -0.034483        -0.034483   \n",
       "Роберт_Лэнгер      -0.034483           1.000000        -0.034483   \n",
       "Валерий_Рубаков    -0.047304          -0.047304        -0.047304   \n",
       "\n",
       "                 Андрей_Коротаев  Александр_Беленький  Павел_Степанцов  \\\n",
       "Андрей_Лукашов         -0.034483            -0.034483        -0.034483   \n",
       "Татьяна_Ребеко         -0.034488            -0.034488        -0.034488   \n",
       "Кирилл_Зыбин           -0.034483            -0.034483        -0.034483   \n",
       "Роберт_Лэнгер          -0.034483             1.000000        -0.034483   \n",
       "Валерий_Рубаков        -0.047304            -0.047304        -0.047304   \n",
       "\n",
       "                 Дэвид_Гросс  \n",
       "Андрей_Лукашов     -0.034483  \n",
       "Татьяна_Ребеко     -0.034489  \n",
       "Кирилл_Зыбин        1.000000  \n",
       "Роберт_Лэнгер      -0.034483  \n",
       "Валерий_Рубаков    -0.047297  \n",
       "\n",
       "[5 rows x 539 columns]"
      ]
     },
     "execution_count": 56,
     "metadata": {},
     "output_type": "execute_result"
    }
   ],
   "source": [
    "authors_corr.head()"
   ]
  },
  {
   "cell_type": "code",
   "execution_count": 57,
   "metadata": {
    "collapsed": false,
    "slideshow": {
     "slide_type": "subslide"
    }
   },
   "outputs": [
    {
     "data": {
      "text/plain": [
       "Валерий_Рубаков          1.000000\n",
       "Дмитрий_Горбунов         0.879814\n",
       "Михаил_Фейгельман        0.879814\n",
       "Николай_Мощевитин        0.879814\n",
       "Макс_Тегмарк             0.879814\n",
       "Сергей_Ландо             0.879814\n",
       "Сергей_Нечаев            0.879814\n",
       "Олег_Верходанов          0.879814\n",
       "Михаил_Эпштейн           0.879814\n",
       "Александра_Скрипченко    0.879814\n",
       "Алексей_Моисеев          0.879814\n",
       "Мэтью_Басс               0.879814\n",
       "Лайман_Пейдж             0.879814\n",
       "Илья_Щуров               0.879814\n",
       "Алексей_Старобинский     0.879814\n",
       "Григорий_Кабатянский     0.746174\n",
       "Григорий_Юдин            0.687089\n",
       "Сергей_Кетов             0.444698\n",
       "Михаил_Данилов           0.444698\n",
       "Name: Валерий_Рубаков, dtype: float64"
      ]
     },
     "execution_count": 57,
     "metadata": {},
     "output_type": "execute_result"
    }
   ],
   "source": [
    "authors_corr[u\"Валерий_Рубаков\"].sort_values()[:-20:-1]"
   ]
  },
  {
   "cell_type": "markdown",
   "metadata": {
    "slideshow": {
     "slide_type": "slide"
    }
   },
   "source": [
    "# Профилирование пользователей соц. сетей в BigARTM"
   ]
  },
  {
   "cell_type": "markdown",
   "metadata": {
    "slideshow": {
     "slide_type": "subslide"
    }
   },
   "source": [
    "__Исходные данные (NUS-MSS):__\n",
    "* Пользователи с аккаунтом в трех соц. сетях: Twitter, Instagram, Fousquare\n",
    "* Атрибуты пользователей: пол, возрастная группа, уровень образования, семейное положение, уровень дохода\n",
    "* Сообщения пользователей:\n",
    "    * Текст (с хештегами, url, ссылками на пользователей...)\n",
    "    * Изображения\n",
    "    * Метки локации\n",
    "    * Метки времени\n",
    "    \n",
    "__Задачи:__\n",
    "* предсказать атрибут пользователя по его сообщениям\n",
    "* исследовать, чем отличается активность пользователей, имеющих разные значения атрибута\n",
    "\n",
    "$\\rightarrow$ __Профилирование пользователей:__\n",
    "\n",
    "поиск скрытых представлений пользователей, характеризующих их поведение в сети"
   ]
  },
  {
   "cell_type": "markdown",
   "metadata": {
    "slideshow": {
     "slide_type": "slide"
    }
   },
   "source": [
    "## Профилирование с помощью тематического моделирования\n",
    "Поиск тем в соц. сетях\n",
    "\n",
    "Документы?"
   ]
  },
  {
   "cell_type": "markdown",
   "metadata": {
    "slideshow": {
     "slide_type": "subslide"
    }
   },
   "source": [
    "__Документы:__\n",
    "пользователи\n",
    "* агрегируем все сообщения одного пользователя\n",
    "* заодно решаем проблему коротких текстов"
   ]
  },
  {
   "cell_type": "markdown",
   "metadata": {
    "slideshow": {
     "slide_type": "subslide"
    }
   },
   "source": [
    "Модальности?"
   ]
  },
  {
   "cell_type": "markdown",
   "metadata": {
    "slideshow": {
     "slide_type": "subslide"
    }
   },
   "source": [
    "__Модальности:__\n",
    "* Текст (@text)\n",
    "* Хештеги (@hashtags)\n",
    "* Категории изображений (@images)\n",
    "* Категории локаций (@venue_categories)\n",
    "* Дни написания сообщений (@day)\n",
    "_________\n",
    "* Атрибут \n"
   ]
  },
  {
   "cell_type": "markdown",
   "metadata": {
    "slideshow": {
     "slide_type": "slide"
    }
   },
   "source": [
    "Vowpal wabbit:\n",
    "* london_users.txt - сообщения пользователей\n",
    "* london_users_train.txt - сообщения пользователей и пол (обучающая выборка)\n",
    "* london_users_test.txt - сообщения пользователей (тестовая выборка)\n",
    "\n",
    "Предобработка текстов:\n",
    "* удаление из текстов ссылок и хештегов\n",
    "* лемматизация\n",
    "* удаление стоп-слов, фильтрация слов по словарю (оставляем только словарные слова)\n",
    "* удаление коротких слов (меньше трех букв)"
   ]
  },
  {
   "cell_type": "markdown",
   "metadata": {
    "slideshow": {
     "slide_type": "slide"
    }
   },
   "source": [
    "Будем анализировать пол (больше всего пользователей):"
   ]
  },
  {
   "cell_type": "code",
   "execution_count": 58,
   "metadata": {
    "collapsed": false,
    "slideshow": {
     "slide_type": "subslide"
    }
   },
   "outputs": [
    {
     "name": "stdout",
     "output_type": "stream",
     "text": [
      "gender : Counter({'male': 2282, 'female': 966})\n",
      "realAge : Counter()\n",
      "ageGroup : Counter()\n",
      "relationship : Counter({'single': 194, 'married': 179, 'in a relationship': 86})\n",
      "educationLevel : Counter({'undergraduate': 540, 'school': 176, 'college': 134, 'graduate': 24})\n",
      "occupation : Counter({'management': 356, 'arts, design, entertainment, sports, and media': 161, 'office and administrative support': 59, 'computer and mathematical': 58, 'personal care and service': 52, 'archetecture and engineering': 51, 'sales and related': 41, 'protective service': 37, 'food preparation and service related': 33, 'education, training, and library': 25, 'healthcare support': 22, 'transportation and material moving': 18, 'legal': 11, 'production': 8, 'business and financial operations': 8, 'healthcare practitioners and technical': 5, 'farming, fishing and forestry': 5, 'life, physical, and social science': 5, 'construction and extraction': 4, 'building and grounds cleaning and maintenance': 4, 'community and social service': 3})\n",
      "income : Counter({'$$': 70, '$$$': 49, '$': 24, '$$$$': 6})\n"
     ]
    }
   ],
   "source": [
    "import collections\n",
    "london_train = pd.read_csv(os.path.join(\"data\", \"LondonTrain.csv\"))\n",
    "for column in london_train.columns[3:]:\n",
    "    print column, \":\", collections.Counter(london_train[column].dropna())"
   ]
  },
  {
   "cell_type": "code",
   "execution_count": 59,
   "metadata": {
    "collapsed": true,
    "slideshow": {
     "slide_type": "subslide"
    }
   },
   "outputs": [],
   "source": [
    "london_test = pd.read_csv(os.path.join(\"data\", \"LondonTest.csv\"))"
   ]
  },
  {
   "cell_type": "markdown",
   "metadata": {
    "slideshow": {
     "slide_type": "slide"
    }
   },
   "source": [
    "Импортируем данные:"
   ]
  },
  {
   "cell_type": "code",
   "execution_count": 60,
   "metadata": {
    "collapsed": false,
    "slideshow": {
     "slide_type": "subslide"
    }
   },
   "outputs": [],
   "source": [
    "batch_vectorizer = artm.BatchVectorizer(data_path=\"data/london_users_train.txt\",\\\n",
    "                                        data_format=\"vowpal_wabbit\",\\\n",
    "                                        target_folder=\"train_batches\")\n",
    "dictionary = artm.Dictionary(name=\"dictionary\")\n",
    "dictionary.gather(batch_vectorizer.data_path)"
   ]
  },
  {
   "cell_type": "code",
   "execution_count": 61,
   "metadata": {
    "collapsed": true,
    "slideshow": {
     "slide_type": "subslide"
    }
   },
   "outputs": [],
   "source": [
    "batch_vectorizer_test = artm.BatchVectorizer(data_path=\"data/london_users_test.txt\",\\\n",
    "                                        data_format=\"vowpal_wabbit\",\\\n",
    "                                        target_folder=\"test_batches\")"
   ]
  },
  {
   "cell_type": "markdown",
   "metadata": {
    "slideshow": {
     "slide_type": "slide"
    }
   },
   "source": [
    "Создаем класс модели:"
   ]
  },
  {
   "cell_type": "code",
   "execution_count": 62,
   "metadata": {
    "collapsed": false,
    "slideshow": {
     "slide_type": "subslide"
    }
   },
   "outputs": [],
   "source": [
    "modals = [\"@text\", \"@day\", \"@venue_categories\", \"@images\", \"@hashtags\"]\n",
    "T = 50\n",
    "model_artm = artm.ARTM(num_topics=T, \n",
    "                      class_ids={\"@text\":1, \"@day\":1, \"@venue_categories\":1, \\\n",
    "                                 \"@venue_name\":1, \"@images\":1, \"@hashtags\":1,\n",
    "                                 \"gender\":0},   # пока анализируем только сообщения\n",
    "                      num_document_passes=10,\n",
    "                      seed=867)\n",
    "model_artm.scores.add(artm.PerplexityScore(name='PerplexityScore'))\n",
    "model_artm.scores.add(artm.SparsityPhiScore(name='SparsityPhiScore'))\n",
    "model_artm.scores.add(artm.SparsityThetaScore(name='SparsityThetaScore'))\n",
    "for mod in modals:\n",
    "    model_artm.scores.add(artm.TopTokensScore(name=\"top_\"+mod[1:], \n",
    "                                              num_tokens=15, \n",
    "                                              class_id=mod))"
   ]
  },
  {
   "cell_type": "markdown",
   "metadata": {
    "slideshow": {
     "slide_type": "slide"
    }
   },
   "source": [
    "Обучим модель:"
   ]
  },
  {
   "cell_type": "code",
   "execution_count": 63,
   "metadata": {
    "collapsed": false,
    "slideshow": {
     "slide_type": "subslide"
    }
   },
   "outputs": [
    {
     "name": "stdout",
     "output_type": "stream",
     "text": [
      "Wall time: 1min 47s\n"
     ]
    }
   ],
   "source": [
    "model_artm.initialize(dictionary)\n",
    "%time model_artm.fit_offline(batch_vectorizer=batch_vectorizer, \\\n",
    "                             num_collection_passes=20)"
   ]
  },
  {
   "cell_type": "markdown",
   "metadata": {
    "slideshow": {
     "slide_type": "subslide"
    }
   },
   "source": [
    "Что будем делать с обученной моделью?"
   ]
  },
  {
   "cell_type": "markdown",
   "metadata": {
    "slideshow": {
     "slide_type": "slide"
    }
   },
   "source": [
    "Посмотрим темы:"
   ]
  },
  {
   "cell_type": "code",
   "execution_count": 64,
   "metadata": {
    "collapsed": false,
    "scrolled": true,
    "slideshow": {
     "slide_type": "subslide"
    }
   },
   "outputs": [
    {
     "name": "stdout",
     "output_type": "stream",
     "text": [
      "topic_0:  badge, ale, fund, brew, aged, barrel, patient, brewing, chic, map, pumpkin, global, science, specialist, bock\n",
      "topic_1:  automatically, unfollowed, dashboard, preview, shoot, hah, owl, tiffany, sunny, merry, boo, color, clear, hoot, loud\n",
      "topic_2:  photography, cinema, screening, lightroom, hull, press, giant, thats, bet, stadium, flower, enjoying, saint, score, leather\n",
      "topic_3:  quiz, platform, connected, express, zombie, midland, cathedral, daughter, added, delay, wharf, canary, river, science, central\n",
      "topic_4:  fulham, score, lad, banter, current, scored, joke, sold, harry, condition, genuinely, cloudy, scene, transfer, sunrise\n",
      "topic_5:  search, agency, technique, croydon, workshop, appreciate, creative, rate, impact, hub, economy, speaker, library, exciting, midland\n",
      "topic_6:  hall, tax, writing, teacher, financial, tory, policy, pupil, labour, wigan, audience, conservative, reform, duty, parliament\n",
      "topic_7:  pitch, berlin, added, subject, bill, studio, cloud, panel, apply, application, accelerator, ping, campus, venture, bee\n",
      "topic_8:  spur, peter, tho, champion, stadium, swift, score, comrade, literally, injury, rail, draw, cloud, coach, friendly\n",
      "topic_9:  bottle, anime, daughter, tho, yoga, enter, cheese, ship, gilly, colour, ale, flavour, brewery, simply, cow\n",
      "topic_10:  bacon, roll, drug, vinyl, mix, location, remix, pull, urban, tune, electric, gallery, lounge, faith, indoor\n",
      "topic_11:  homeless, homelessness, mission, math, employee, sept, screening, moving, sock, housing, helping, connect, folk, thanksgiving, youth\n",
      "topic_12:  bear, shanghai, pew, cousin, alan, kai, jay, preview, mum, wave, bin, harry, wet, nearly, sweetie\n",
      "topic_13:  hammersmith, agent, underground, property, estate, soul, brent, southern, jazz, tube, piccadilly, industry, harrow, funk, superb\n",
      "topic_14:  tho, yea, ugh, jack, literally, teeth, fandom, prob, dental, housemate, junior, dumb, gif, agreed, thread\n",
      "topic_15:  labour, bill, debate, election, tory, gave, politics, dover, interchange, political, nick, source, anti, poll, liberal\n",
      "topic_16:  tout, par, elle, bon, ton, toi, tait, nous, bande, encore, gen, vie, temp, dire, sans\n",
      "topic_17:  client, curry, joining, fancy, executive, taxi, increase, invite, biz, consulting, transfer, roundup, bow, charity, interested\n",
      "topic_18:  soho, hospital, giveaway, clean, perfume, decent, wrote, standard, partnership, flat, annoying, earring, general, factor, concert\n",
      "topic_19:  writing, language, nope, harry, literally, keyboard, mac, stupid, writer, fiction, sort, basically, beta, character, comic\n",
      "topic_20:  gig, joke, yr, shout, rally, punk, festive, flat, laugh, gravity, festival, dapper, terrible, slightly, metal\n",
      "topic_21:  het, wat, nu, zo, nog, om, kan, hoe, eh, penang, dit, tot, barcelona, ga, mag\n",
      "topic_22:  ich, ist, den, hat, mal, edition, lucky, wir, nach, ber, berlin, kick, orient, bin, sie\n",
      "topic_23:  lar, sen, yok, ge, ay, zel, ey, bile, bug, ar, ak, biz, lan, yap, zaman\n",
      "topic_24:  kensington, trend, lounge, interstellar, gate, across, luxury, inn, nail, cape, village, wonderland, nap, central, ride\n",
      "topic_25:  grape, developer, redux, dev, device, copy, wall, learning, hack, security, value, yea, source, conversation, technology\n",
      "topic_26:  sam, bitch, queen, aha, cant, bae, drunk, ride, adorable, rage, hurt, rude, handsome, literally, stupid\n",
      "topic_27:  gym, ran, pace, traveled, church, soho, mick, worked, weight, carol, calorie, queen, mental, wharf, covent\n",
      "topic_28:  cocktail, hong, och, terminal, whisky, rum, lounge, jag, tasting, om, bali, delicious, dorado, bound, temple\n",
      "topic_29:  galaxy, nexus, bucket, lollipop, camera, tablet, cant, nope, gear, sigh, display, bitch, pi, calendar, thats\n",
      "topic_30:  delicious, marathon, recipe, gig, pumpkin, kit, swim, exercise, healthy, kitchen, jake, cheese, bike, salad, treat\n",
      "topic_31:  cricket, captain, hull, score, winning, champion, lad, finish, scored, client, legend, decent, massive, sterling, boom\n",
      "topic_32:  tory, singh, matey, labour, council, tube, shoe, perhaps, tax, raising, peak, panda, mayor, election, lucky\n",
      "topic_33:  fir, responsible, tourism, writing, map, topic, meridian, festival, editor, recording, technology, soho, private, culture, wale\n",
      "topic_34:  cop, protest, protester, officer, gun, idiot, racist, brown, repost, science, shooting, anarchy, religion, jury, fox\n",
      "topic_35:  egg, chicken, menu, cheese, brunch, soho, dessert, meat, dish, cooking, sauce, venue, growing, pork, resistance\n",
      "topic_36:  construction, client, architect, presentation, industry, speaker, slide, developer, survey, process, information, browser, workshop, technology, useful\n",
      "topic_37:  poppy, musical, lee, dress, remembrance, mood, congratulation, comet, act, interstellar, tune, anniversary, dance, advert, seem\n",
      "topic_38:  berlin, stella, yummy, barcelona, sister, outfit, upon, bye, wearing, flower, dress, peggy, throwback, shoe, studio\n",
      "topic_39:  finished, bike, cycling, potential, ride, urban, ferry, isle, wood, bound, terminal, castle, spring, royal, table\n",
      "topic_40:  growth, technology, trend, insight, china, platform, marketer, consumer, industry, analytics, engagement, value, management, search, global\n",
      "topic_41:  engineer, competitive, kingdom, independence, senior, development, director, depending, advertising, developer, opportunity, apply, global, negotiable, consultant\n",
      "topic_42:  fulham, cottage, hammer, ham, study, tate, craven, palace, score, stadium, abroad, pack, smith, lad, colin\n",
      "topic_43:  nak, hoy, dah, hay, yang, sin, kat, soy, tan, apa, pun, persona, mana, baru, mo\n",
      "topic_44:  khan, worker, minister, army, election, court, political, protest, province, president, chief, terrorist, ko, democracy, speaker\n",
      "topic_45:  respect, appreciate, although, arse, seth, innovation, tribe, sort, seem, actor, finger, profile, hopefully, joke, mum\n",
      "topic_46:  yoga, grace, print, classic, workshop, fierce, primrose, lord, flower, breathe, printer, hub, lucy, exciting, weekly\n",
      "topic_47:  sausage, peek, crew, church, woo, jumper, tube, midland, upgrade, nearly, berlin, enjoying, destiny, route, ride\n",
      "topic_48:  rio, agora, bom, era, sou, boa, tempo, dar, amor, mim, hora, ria, ar, sabe, bangkok\n",
      "topic_49:  cocktail, gin, tasting, rum, bottle, delicious, spirit, menu, nancy, exciting, treat, congratulation, reserve, president, bartender\n"
     ]
    }
   ],
   "source": [
    "for topic_name in model_artm.topic_names:\n",
    "    print topic_name + ': ',\n",
    "    print \", \".join(model_artm.score_tracker[\"top_text\"].last_tokens[topic_name])"
   ]
  },
  {
   "cell_type": "code",
   "execution_count": 65,
   "metadata": {
    "collapsed": false,
    "slideshow": {
     "slide_type": "slide"
    }
   },
   "outputs": [
    {
     "name": "stdout",
     "output_type": "stream",
     "text": [
      "topic_0:  digitalhealth, amsterdam, leweb, london, vatmoss, diffmed, health2eu, swfintech, blackfriday, kfdublin, opendata, christmas, health, healthcare, bristol\n",
      "topic_1:  google, ux, design, taeny, seo, hootamb, swcork, beauty, hootsuitelife, fergusonoctober, hootlove, ferguson, photoshoot, apple, hormonestheseries2\n",
      "topic_2:  tvtag, london, streetphotography, xfactor, londra, streetlife, christmas, lff, vacation, saintsfc, wba, nyc, imaceleb, holidaysarecoming, halloween\n",
      "topic_3:  fb, bangladesh, breaking, gadvhaiti, indyref, london, biffybarras, tbt, mediaincontext, holidays, spain, morocco, party, selfie, wikipedia\n",
      "topic_4:  hipstamatic, watfordfc, sh, ffc, oggl, ripon, lufc, canucks, amsterdam, arsenal, afc, instasize, toweroflondon, myabviewnow, believe\n",
      "topic_5:  xfactor, searchenginejournal, birmingham, searchenginewatch, tedxbrum, igersbirmingham, streetart, brightonseo, ilovebrum, graffiti, brumfotos, lunch, christmasinbham, christmas, socialselling\n",
      "topic_6:  bbcqt, lifeyouwantsj, ukip, whatisschool, christmas, flexandshanice, as2014, 4nhour, mutuals, qpr, autumnstatement, atl, paris, supersoulsunday, food\n",
      "topic_7:  dailypun, gls14, startups, friends, msvpitchuk, startup, pitchatpalace, tcdisrupt, bytethebook, fbm14, msvuk, lifestyle, london, snow, insidemsva\n",
      "topic_8:  coys, mufc, thfc, f1, vmworld, vbrownbag, cfc, ntapinsight, rubyconf, coyg, scd, netappateam, vmware, bbcfootball, wedfevents\n",
      "topic_9:  camrgb, nisekoi, win, cameronmustgo, doctorwho, fiacomit, saoanime, nightnight, oretwi, hanayamata, llsif, yii2014, 12beersofxmas, rwanime, indyref\n",
      "topic_10:  nowplaying, spotify, music, vscocam, vinyl, london, shazam, lastfm, leo, art, spb, buildthenews, instagramrussia, wearevsco, foodie\n",
      "topic_11:  evoula, travel, chicago, fnlint, athens, fall, ifc2014, hungerhack, brighton, caeh14, givingtuesday, homelessness, homeless, la, brick2014\n",
      "topic_12:  pingpong, liveinth, shanghai, sehun, standuptocancer, finderskeepers, paris, nofilter, alarictravels, nyc, shanghailikeadiamond, exoplanetinbkk, kai, lastfm, nationtv\n",
      "topic_13:  london, ff, retweeters, exchangelife, noplaceiratherbe, مؤتمرأبل, photography, art, southeastern, zpp100, win, xfactor, sunset, gbbo, ty\n",
      "topic_14:  mamacita, bluecourtdental, uk, superjunior, ealinghour, 슈퍼주니어, tvtag, 마마시타, onceuponatime, 아야야, 1, skinsolutions, facialaesthetics, 東方神起, lastfm\n",
      "topic_15:  nfl, londonlife, singapore, lfc, patriots, theapprentice, japan, travel, htafc, run, ucl, running, myfavorite, nikeplus, pmqs\n",
      "topic_16:  nyfw, ss2015, menswear, soundcloud, np, support, vmas, paris, usopen, ss15, billyreid, screenfilmsummit, robertgeller, nw, mcr\n",
      "topic_17:  hampshirehour, currybusiness, london, ff, surreychat, englandhour, airport, nyc, dorsethour, satchatuk, travel, christmas, thebigidea, soundcloud, taxi\n",
      "topic_18:  london, xfactor, christmas, foodporn, theapprentice, swbaku, gsb2014, blackfriday, nzbloggers, homeland, fitstatsuk, love, win, lastfm, themissing\n",
      "topic_19:  nuks, gay, xboxone, remixldn, sascon, dataquality, ps4share, festive, mdm, gayuk, ff, gaypic, gayboy, gayboys, canada\n",
      "topic_20:  lastfm, au2014, びよーん, ukbimcrew, tweeklyfm, ps4share, instacat, tlモーターショー過疎部, котэ, brx14, destiny, beer, jingle, meshiyosoi, agentsofshield\n",
      "topic_21:  السعودية, قطر, cyprus, داعش, الرياض, لندن, qatar, النصر, العراق, مصر, lifeissweet, الهلال, الدوحة, غزة, اليمن\n",
      "topic_22:  lofc, movember, e17, rm4a, halamadrid, sapb1cloud, london, الهلال, ff, millwall, harrypotter, h96, blackfriday, watford, walthamstow\n",
      "topic_23:  istanbul, italiax10, repost, galatasaray, festivalscienza, hırsızvar, uk, oradiscienze, blue, fenerinmacivar, alexdesouza, turkey, oyundakal, piazzapulita, mafiacapitale\n",
      "topic_24:  fashion, style, latergram, thelafashionblog, ootd, trends, losangeles, coyg, luxury, thelafashionbloglovesfashionweek, californialove, mtb, lfw, fivbmenswch, bpl\n",
      "topic_25:  london, lascot14, awesome, mtpcon, mba, belgium, ux, sunday, agile, itunesfestival, lfw, blogfest, 12pubshuge, ebola, beach\n",
      "topic_26:  jaturamitr, xfnmlm, เพื่อนเฮี้ยนโรงเรียนหลอน, hormonestheseries2, กูจะไม่ยอมเห็นรูปนี้คนเดียว, callahantweets, welovekingth, …, รีล่า, thewalkingdead, bighero6th, samcallahan, ศพบนตึกร้าง, askcallahan, aries\n",
      "topic_27:  nikeplus, fitstatsuk, holiday, fun, london, travel, cnmac14, quran, followfriday, hadith, uk, ghc14, makeitcount, worldaidsday, morning\n",
      "topic_28:  travel, qpr, london, paris, christmas, bali, france, igerslondon, italy, ttot, moneymap, photooftheday, foodie, haigclub, traveltuesday\n",
      "topic_29:  pes2015, tvtag, tbt, vscocam, icebucketchallenge, applelive, iphone6, apple, instagood, basset, purposefuel, hound, thewestwing, igers, selfie\n",
      "topic_30:  london, selfie, ukrunchat, love, breakfast, luxurytravel, bbcbeat, paddingtontrail, smallbizsatuk, fitfluential, healthy, foodporn, tbt, coffee, ecomchat\n",
      "topic_31:  lfc, f1, mufc, ynwa, londradaybyday, ausvind, measure, googleanalytics, destiny, london, pechinoexpress, wc15, engvind, londra, mcfc\n",
      "topic_32:  fitfam, cameronmustgo, plymouth, fitness, theapprentice, fitnessmotivation, bbcqt, fitfluential, gymlife, rt, ff, coffee, christmas, afc, lestweforget\n",
      "topic_33:  marketing, london, rttc, italy, startup, life, klmsummertime, ppc, work, sem, innovation, ventures, news, instadaily, worklikeanetwork\n",
      "topic_34:  ferguson, repost, tiwaworks, nufc, ericgarner, blacklivesmatter, fergusondecision, lufc, nyc, mikebrown, asknigelfarage, onelasttime, vmas2014, ebola, marketingmondays\n",
      "topic_35:  christmas, instapic, nofilter, nexus5, foodporn, tfw, instagood, london, thisislondon, sixsecondtour, londonstreet, lollipopupdate, instafood, christmastree, supperclub\n",
      "topic_36:  virginradiobeyonceyegötürüyor, nbslive, bim, wtrends14, websummit, fireday, ciobinspired, fail, networkforum, fb, london, capsigsm, perfectroof, granddesigns, imageofconstruction\n",
      "topic_37:  london, cometlanding, menaict14, uk, disney, dubai, jordan, xfactor, selfie, lestweforget, jo, hsg14, love, nofilter, f1\n",
      "topic_38:  love, vscocam, cat, soundhound, vsco, nofilter, home, happy, yummy, london, xf8, wedding, instafood, sunday, food\n",
      "topic_39:  endomondo, endorphins, urban, bromptonbicycle, yotbtrail, brompton, in, yearofthebus, art, hrtechconf, palmsprings, cycling, nofilter, rsca, colchester\n",
      "topic_40:  socialmedia, mobile, twitter, facebook, social, london, tech, digital, tangofiesta, marketing, ff, google, christmas, apple, cloud\n",
      "topic_41:  jobs, job, hiring, indyref, goodmorning, engineeringjobs, itjobs, quote, quoteoftheday, budapest, voteyes, affiliatehuddle, bettertogether, recruitment, happiness\n",
      "topic_42:  coyi, ffc, ff, 3pointsplease, football, footballcouple, bigtrip2014, together, bristolcity, ffxiv, cislondon, aleague, 3points, coyw, coyi父\n",
      "topic_43:  throwback, coachtrip, comedinewithme, cfc, ayotzinapa, dinnerdate, 3cicte, catchingfire, thefaultinourstars, explorebc, malaysia, yamecanse, moebius909, ggmu, unitedkingdom\n",
      "topic_44:  mqm, therightman, pakistan, pti, acceptptiresignations, karachi, joinmqm, unitedagainsttaliban, isis, altafhussain, youmeshuhadamqm, altafhussainday, ppp, india, …\n",
      "topic_45:  london, food, autumn, bexhillianmag, gbbo, manchester, christmas, makeup, glasgow, gym, tbt, excited, cats, skol, uk\n",
      "topic_46:  wellmaking, 3dprinting, craftivism, london, applelive, unbounddigital, sourcingchat, prt, aodus, salesforce, zmorph, view, 3dprinter, buenosdias, christmas\n",
      "topic_47:  fb, theapprentice, london, 헬로비너스, cake, bioy, 끈적끈적, hyperlocal, luv, running, eventprofs, iabengage, soeconf2014, futuredecoded, cycling\n",
      "topic_48:  yelp, ifunny, nofilter, murrayftw, emabiggestfans1d, fitstats, mexicanbar, losmariachisbh, rt, mtvstars, mexicanfood, martinfreeman, bhz, brazil, brasil\n",
      "topic_49:  london, cocktails, christmas, thetrend, otew2014, lego, bacarditriangle, starwars, 50bestbars, cocktail, rum, reinvent, advent, ff, gin\n"
     ]
    }
   ],
   "source": [
    "for topic_name in model_artm.topic_names:\n",
    "    print topic_name + ': ',\n",
    "    print \", \".join(model_artm.score_tracker[\"top_hashtags\"].last_tokens[topic_name])"
   ]
  },
  {
   "cell_type": "code",
   "execution_count": 66,
   "metadata": {
    "collapsed": false,
    "slideshow": {
     "slide_type": "slide"
    }
   },
   "outputs": [
    {
     "name": "stdout",
     "output_type": "stream",
     "text": [
      "topic_0:  Home_(private), Neighborhood, City, Office, Rest_Area, General_Travel, Town, Fast_Food_Restaurant, Building, Gas_Station_/_Garage, Coworking_Space, Other_Great_Outdoors, Garden, Moving_Target, Park\n",
      "topic_1:  Airport, Mall, Hotel, Japanese_Restaurant, Church, Café, Convention_Center, Noodle_House, Movie_Theater, Burger_Joint, Italian_Restaurant, Harbor_/_Marina, American_Restaurant, Street, Playground\n",
      "topic_2:  Movie_Theater, Theater, Art_Gallery, Pub, Performing_Arts_Venue, American_Restaurant, Concert_Hall, Soccer_Stadium, Bar, Office, Hotel, Art_Museum, Palace, Neighborhood, Coffee_Shop\n",
      "topic_3:  Train_Station, Pub, Office, Bar, Platform, Hotel, Coffee_Shop, Hotel_Bar, Plaza, Church, Café, Gym_/_Fitness_Center, Home_(private), Cocktail_Bar, Grocery_Store\n",
      "topic_4:  Pub, Soccer_Stadium, Sports_Bar, Bar, Theme_Park_Ride_/_Attraction, Nightclub, Student_Center, Coffee_Shop, Train_Station, Café, Chinese_Restaurant, American_Restaurant, Fast_Food_Restaurant, Concert_Hall, Church\n",
      "topic_5:  Train_Station, Hotel, Airport, Italian_Restaurant, French_Restaurant, Office, Lounge, Performing_Arts_Venue, Tram_Station, Coffee_Shop, Indian_Restaurant, Café, Restaurant, Gym_Pool, Plaza\n",
      "topic_6:  Pub, Gym, Train_Station, Bar, Hotel, Café, Coffee_Shop, Airport, Flea_Market, Market, Italian_Restaurant, Restaurant, Home_(private), Government_Building, History_Museum\n",
      "topic_7:  Coffee_Shop, Pub, Gym, Residential_Building_(Apartment_/_Condo), Advertising_Agency, Bar, Café, Home_(private), Gym_Pool, Building, Light_Rail_Station, Lounge, Noodle_House, Restaurant, Gym_/_Fitness_Center\n",
      "topic_8:  Coffee_Shop, Pub, Soccer_Stadium, Bar, Hotel, Airport, Coworking_Space, Café, Mexican_Restaurant, Japanese_Restaurant, Cocktail_Bar, Burger_Joint, Italian_Restaurant, Tech_Startup, Restaurant\n",
      "topic_9:  Home_(private), Office, Eastern_European_Restaurant, Airport, Restaurant, Hotel, Mall, Café, Metro_Station, College_Academic_Building, Factory, Bar, Pub, Department_Store, Building\n",
      "topic_10:  Hotel, Airport, Pub, Restaurant, Airport_Lounge, Train_Station, Bar, Airport_Terminal, Office, Café, Music_Venue, Plaza, Sports_Bar, Coffee_Shop, Mediterranean_Restaurant\n",
      "topic_11:  Airport, Coffee_Shop, Gas_Station_/_Garage, Theater, Supermarket, Office, Car_Wash, Road, Mall, Mediterranean_Restaurant, Multiplex, Toll_Plaza, Mexican_Restaurant, Restaurant, Theme_Park\n",
      "topic_12:  Airport, Hotel, Indie_Movie_Theater, Mall, City, Bar, Multiplex, Movie_Theater, American_Restaurant, Airport_Lounge, Café, Italian_Restaurant, Pub, Gastropub, Restaurant\n",
      "topic_13:  Pub, Train_Station, Mall, Metro_Station, Bridge, Neighborhood, Grocery_Store, Park, Residential_Building_(Apartment_/_Condo), Supermarket, Bar, Plaza, Fast_Food_Restaurant, Clothing_Store, Bakery\n",
      "topic_14:  Mall, Pub, Café, Bar, Korean_Restaurant, Metro_Station, Restaurant, Italian_Restaurant, Japanese_Restaurant, Soccer_Field, Fast_Food_Restaurant, Cocktail_Bar, Indian_Restaurant, Wine_Bar, Gym_/_Fitness_Center\n",
      "topic_15:  Train_Station, Metro_Station, Movie_Theater, Home_(private), Residential_Building_(Apartment_/_Condo), Bus_Station, Building, Mall, Hotel, Bakery, Supermarket, Sandwich_Place, Platform, Theme_Park, Convenience_Store\n",
      "topic_16:  Bar, City, Neighborhood, Nightclub, Building, French_Restaurant, Mall, Hookah_Bar, Café, Multiplex, Theme_Park, Restaurant, Art_Museum, Concert_Hall, Movie_Theater\n",
      "topic_17:  Coffee_Shop, Airport, Office, Hotel, Airport_Terminal, Taxi, Pub, Distribution_Center, Café, Japanese_Restaurant, Hostel, American_Restaurant, Fast_Food_Restaurant, Social_Club, Indian_Restaurant\n",
      "topic_18:  Pub, Hospital, Coffee_Shop, Home_(private), Gym_/_Fitness_Center, Bar, Hotel, Italian_Restaurant, Café, Airport, Concert_Hall, Cocktail_Bar, Train_Station, Movie_Theater, Theater\n",
      "topic_19:  Town, Home_(private), Road, Medical_Center, Office, Gym_/_Fitness_Center, Coffee_Shop, Hotel, Bookstore, Forest, Train_Station, Café, City, Other_Great_Outdoors, Burger_Joint\n",
      "topic_20:  Pub, Train_Station, Bar, Music_Venue, Grocery_Store, Café, Restaurant, Coffee_Shop, Airport, Rock_Club, Burger_Joint, Neighborhood, High_School, Building, Gastropub\n",
      "topic_21:  Airport, Hotel, Home_(private), Building, Restaurant, Office, General_College_&_University, Multiplex, Mosque, Train_Station, Bar, Brewery, Pizza_Place, Italian_Restaurant, Soccer_Stadium\n",
      "topic_22:  Train_Station, Coffee_Shop, Pub, Café, Bar, Hotel, Field, Soccer_Stadium, Restaurant, Office, German_Restaurant, Christmas_Market, Fast_Food_Restaurant, Asian_Restaurant, Airport\n",
      "topic_23:  Café, Mall, Other_Great_Outdoors, Neighborhood, University, Coffee_Shop, Turkish_Restaurant, Nightclub, Student_Center, Restaurant, Airport, County, Plaza, Dessert_Shop, High_School\n",
      "topic_24:  Airport, Hotel, Airport_Lounge, History_Museum, Bridge, Airport_Gate, Resort, Italian_Restaurant, Park, American_Restaurant, Movie_Theater, Seafood_Restaurant, Mall, Asian_Restaurant, Residential_Building_(Apartment_/_Condo)\n",
      "topic_25:  Pub, Coffee_Shop, Airport, Event_Space, Hotel, Building, Office, Art_Gallery, Bar, Restaurant, General_College_&_University, Burger_Joint, Music_Venue, Tech_Startup, Train_Station\n",
      "topic_26:  School, Restaurant, High_School, Gay_Bar, Japanese_Restaurant, Burger_Joint, Supermarket, Mall, Asian_Restaurant, Home_(private), Clothing_Store, Steakhouse, Pizza_Place, Ice_Cream_Shop, Breakfast_Spot\n",
      "topic_27:  Gym, Pub, Office, Gym_/_Fitness_Center, Park, Bar, Supermarket, Hotel, Restaurant, French_Restaurant, Coffee_Shop, Music_Venue, Airport, Pizza_Place, Gastropub\n",
      "topic_28:  Airport, Hotel, Coffee_Shop, Airport_Lounge, Airport_Terminal, Restaurant, Office, Home_(private), Train_Station, City, Movie_Theater, Event_Space, Resort, Bar, Building\n",
      "topic_29:  Airport, Mall, Department_Store, Airport_Terminal, Café, Burger_Joint, Residential_Building_(Apartment_/_Condo), Historic_Site, Plaza, Restaurant, Gay_Bar, Beach, Neighborhood, City, Seafood_Restaurant\n",
      "topic_30:  Airport, Bar, Music_Venue, Coffee_Shop, Hotel, Café, Restaurant, Mexican_Restaurant, Nightclub, Neighborhood, American_Restaurant, Gastropub, Wine_Bar, Concert_Hall, French_Restaurant\n",
      "topic_31:  Pub, Advertising_Agency, Train_Station, Coffee_Shop, Hotel, Bar, Café, Gym, Indian_Restaurant, Gym_/_Fitness_Center, Bakery, Pizza_Place, Neighborhood, Mall, Restaurant\n",
      "topic_32:  Pub, City_Hall, Gay_Bar, Supermarket, Neighborhood, Park, Fast_Food_Restaurant, Theater, Restaurant, Indian_Restaurant, Bus_Station, Bus_Line, Mall, Coffee_Shop, Pizza_Place\n",
      "topic_33:  Residential_Building_(Apartment_/_Condo), Coffee_Shop, Pub, Gay_Bar, Airport, Office, Tech_Startup, Café, Pizza_Place, University, Coworking_Space, Restaurant, Bar, Bakery, French_Restaurant\n",
      "topic_34:  University, Home_(private), Coffee_Shop, Movie_Theater, Train_Station, Bar, Park, Meeting_Room, Supermarket, Sporting_Goods_Shop, Portuguese_Restaurant, Italian_Restaurant, Mall, Gym_/_Fitness_Center, Concert_Hall\n",
      "topic_35:  Coffee_Shop, Mall, Department_Store, Burger_Joint, Café, Street, Building, Frozen_Yogurt, American_Restaurant, University, Home_(private), Italian_Restaurant, General_College_&_University, City, Sushi_Restaurant\n",
      "topic_36:  Train_Station, Airport, Hotel, Convention_Center, Office, Pub, Building, Coffee_Shop, Cocktail_Bar, Event_Space, Italian_Restaurant, Bar, Home_(private), Restaurant, History_Museum\n",
      "topic_37:  Hotel, Middle_School, Pub, Train_Station, Mall, Bar, Park, General_Entertainment, Plaza, Neighborhood, Theater, Art_Gallery, Airport, Burger_Joint, Café\n",
      "topic_38:  Café, Dance_Studio, Coffee_Shop, Airport, Hotel, Italian_Restaurant, Vietnamese_Restaurant, City, Japanese_Restaurant, Pizza_Place, Nightclub, University, Cocktail_Bar, Department_Store, Art_Gallery\n",
      "topic_39:  Restaurant, Boat_or_Ferry, Hotel, Train_Station, Coffee_Shop, Café, Home_(private), Airport, Pub, Gym_/_Fitness_Center, History_Museum, Building, General_Entertainment, Italian_Restaurant, Mall\n",
      "topic_40:  Office, Airport, Hotel, Tech_Startup, Coworking_Space, Pub, Coffee_Shop, Airport_Lounge, Restaurant, Convention_Center, Italian_Restaurant, Art_Gallery, Steakhouse, Government_Building, American_Restaurant\n",
      "topic_41:  Airport, Coworking_Space, Coffee_Shop, Office, Café, Bar, Restaurant, Pub, Hotel, Mall, Airport_Gate, Burger_Joint, Airport_Lounge, Airport_Terminal, Tech_Startup\n",
      "topic_42:  Soccer_Stadium, Home_(private), Office, Gym, Hotel, Pub, Café, Mall, Electronics_Store, Supermarket, Airport, Bar, Gas_Station_/_Garage, Italian_Restaurant, Gym_/_Fitness_Center\n",
      "topic_43:  Airport, College_Academic_Building, Mall, University, Mexican_Restaurant, Multiplex, Restaurant, Office, Bar, Hotel, Malaysian_Restaurant, City, History_Museum, Café, Nightclub\n",
      "topic_44:  Neighborhood, Office, Metro_Station, City, Garden, Country, Road, Courthouse, Plaza, Café, Movie_Theater, Train_Station, Mall, Middle_Eastern_Restaurant, Coffee_Shop\n",
      "topic_45:  Train_Station, Supermarket, Platform, Café, Bar, Non-Profit, Hotel, Coffee_Shop, Plaza, Airport, Pub, Beach, Hospital, Church, History_Museum\n",
      "topic_46:  Airport, Yoga_Studio, Office, Coworking_Space, Hotel, Design_Studio, Restaurant, Airport_Terminal, Convention_Center, Café, Wings_Joint, American_Restaurant, Theater, Burger_Joint, Event_Space\n",
      "topic_47:  Train_Station, Hotel, Pub, Coffee_Shop, Airport, Café, Neighborhood, Bar, Park, Church, Burger_Joint, Office, Home_(private), Event_Space, Beach\n",
      "topic_48:  Home_(private), Mall, Gym, Airport, Residential_Building_(Apartment_/_Condo), Beach, School, City, Office, Fast_Food_Restaurant, Gym_/_Fitness_Center, Neighborhood, Brazilian_Restaurant, College_Arts_Building, General_Entertainment\n",
      "topic_49:  Cocktail_Bar, Pub, Bar, Airport, Hotel, Theater, Restaurant, Concert_Hall, Gastropub, Burger_Joint, Italian_Restaurant, Café, Steakhouse, Lounge, Neighborhood\n"
     ]
    }
   ],
   "source": [
    "for topic_name in model_artm.topic_names:\n",
    "    print topic_name + ': ',\n",
    "    print \", \".join(model_artm.score_tracker[\"top_venue_categories\"].last_tokens[topic_name])"
   ]
  },
  {
   "cell_type": "code",
   "execution_count": 67,
   "metadata": {
    "collapsed": false,
    "slideshow": {
     "slide_type": "slide"
    }
   },
   "outputs": [
    {
     "name": "stdout",
     "output_type": "stream",
     "text": [
      "topic_0:  bow-tie, electric_guitar, ski_mask, piano_accordion, street_sign, fire_engine, wok, king_snake, stupa, isopod, soda_bottle, purse, shopping_basket, scorpion, handkerchief\n",
      "topic_1:  Sus_scrofa, crane, ski_mask, brassiere, cauldron, hair_slide, buckler, Doberman_pinscher, pencil_eraser, goblet, internet_site, nipple, ice_lolly, sleeping_bag, Ambystoma_maculatum\n",
      "topic_2:  crane, brassiere, motor_scooter, transverse_flute, eating_house, merry-go-round, eel, Aepyceros_melampus, piano_accordion, pickelhaube, packet, tiger_cat, jellyfish, slug, Cebus_capucinus\n",
      "topic_3:  pug-dog, picture_palace, vase, merry-go-round, Cancer_irroratus, space_bar, bucket, feather_boa, steel_drum, wig, quill_pen, shower_cap, purse, membranophone, drumstick\n",
      "topic_4:  Sus_scrofa, ski_mask, buckler, bow-tie, bearskin, barracouta, lawn_mower, tow_truck, cauldron, German_shepherd_dog, stage, crawdaddy, safety_pin, oxygen_mask, Lepisosteus_osseus\n",
      "topic_5:  Sus_scrofa, picture_palace, cauldron, stage, crawdaddy, paper_towel, toyshop, wax_light, electric_guitar, ski_mask, packet, barrel, waffle_iron, barbershop, jack-o'-lantern\n",
      "topic_6:  crane, transverse_flute, packet, crutch, pug-dog, hognose_snake, Cancer_irroratus, beer_glass, sea_cucumber, ladle, pill_bottle, membranophone, pretzel, wax_light, Shih-Tzu\n",
      "topic_7:  wax_light, ladle, jigsaw_puzzle, sea_urchin, shopping_basket, lamp_shade, plumber's_helper, jammies, mortarboard, balloon, bearskin, palace, paintbrush, menu, kelpie\n",
      "topic_8:  Sus_scrofa, crane, Paralithodes_camtschatica, space_bar, bow-tie, Ibizan_Podenco, plumber's_helper, crawdaddy, sombrero, lamp_shade, chow_chow, theatre_curtain, electric_ray, handkerchief, bassoon\n",
      "topic_9:  Ornithorhynchus_anatinus, bow-tie, barrel, eating_house, eel, snorkel, Tinca_tinca, cauldron, beer_glass, field_glasses, Bouviers_des_Flandres, lamp_shade, swimming_trunks, mousetrap, coffee_mug\n",
      "topic_10:  crane, Sus_scrofa, scorpion, plough, chow_chow, prayer_mat, assault_rifle, jellyfish, mortarboard, prison_house, military_uniform, analog_clock, head_cabbage, Chihuahua, hot_dog\n",
      "topic_11:  sewing_machine, paper_towel, lamp_shade, space_bar, Chihuahua, balloon, ten-gallon_hat, stole, harp, chow_chow, magnetic_compass, Sus_scrofa, head_cabbage, feather_boa, hamper\n",
      "topic_12:  crane, electric_guitar, crawdaddy, balloon, vase, hair_slide, transverse_flute, wax_light, piano_accordion, Tinca_tinca, blue_jean, racquet, jinrikisha, French_horn, poncho\n",
      "topic_13:  Sus_scrofa, sea_urchin, ski_mask, palace, lamp_shade, tractor, planetarium, ocean_liner, laptop_computer, assault_rifle, electric_fan, shopping_basket, motor_scooter, dirigible, sombrero\n",
      "topic_14:  Sus_scrofa, wax_light, sea_urchin, shopping_basket, crane, balloon, pretzel, pillow, French_bulldog, tobacconist_shop, waffle_iron, pitcher, cricket, pandean_pipe, box_tortoise\n",
      "topic_15:  crane, Sus_scrofa, electric_guitar, stage, sombrero, jigsaw_puzzle, ladle, comic_book, bucket, king_snake, vault, bassoon, tray, dust_wrapper, planetarium\n",
      "topic_16:  crane, wax_light, goblet, transverse_flute, bulletproof_vest, space_bar, quill_pen, harp, lip_rouge, beer_glass, ski_mask, coffee_mug, hautbois, cradle, poncho\n",
      "topic_17:  crane, Sus_scrofa, picture_palace, eel, wig, sarong, barracouta, Doberman_pinscher, Irish_wolfhound, prison_house, magnetic_compass, barbell, black-and-tan_coonhound, red_wine, water_jug\n",
      "topic_18:  Cancer_irroratus, drumstick, king_snake, coffeepot, stage, lamp_shade, recreational_vehicle, chambered_nautilus, garbage_truck, shower_cap, bassoon, Ambystoma_maculatum, stole, thimble, assault_rifle\n",
      "topic_19:  pandean_pipe, Lepisosteus_osseus, handkerchief, wig, prayer_mat, lotion, sweatshirt, piano_accordion, stole, Homarus_americanus, wax_light, microphone, cloak, dumbbell, barbershop\n",
      "topic_20:  cauldron, ski_mask, Hungarian_pointer, laptop_computer, Indian_cobra, milk_can, bucket, Python_sebae, bluetick, wig, Mustela_putorius, Sus_scrofa, Ambystoma_maculatum, Ornithorhynchus_anatinus, jinrikisha\n",
      "topic_21:  crane, electric_guitar, Paralithodes_camtschatica, military_uniform, crawdaddy, Sus_scrofa, golden_retriever, French_bulldog, barracouta, Ambystoma_maculatum, stole, crutch, Tinca_tinca, hair_spray, oxygen_mask\n",
      "topic_22:  crane, Sus_scrofa, Lepisosteus_osseus, palace, sunglass, tow_truck, plough, golf_ball, tobacconist_shop, barracouta, comforter, black-and-tan_coonhound, cairn_terrier, paintbrush, meat_loaf\n",
      "topic_23:  crane, Sus_scrofa, electric_guitar, bulletproof_vest, neck_brace, ice_lolly, sweatshirt, jammies, feather_boa, prayer_mat, wig, dark_glasses, snorkel, toyshop, Chihuahua\n",
      "topic_24:  ski_mask, bearskin, motor_scooter, safety_pin, electric_guitar, shopping_cart, assault_rifle, blue_jean, harp, shopping_basket, goblet, cauldron, Lepisosteus_osseus, pretzel, Ornithorhynchus_anatinus\n",
      "topic_25:  miniskirt, planetarium, sea_urchin, Canis_dingo, ice_lolly, Tibetan_mastiff, chow_chow, black-and-tan_coonhound, acorn_squash, neck_brace, handkerchief, transverse_flute, pretzel, taxicab, pencil_eraser\n",
      "topic_26:  photocopier, Ornithorhynchus_anatinus, wig, snorkel, sombrero, space_bar, head_cabbage, motor_scooter, ping-pong_ball, brassiere, spiny_lobster, wardrobe, electric_ray, banjo, paper_towel\n",
      "topic_27:  Sus_scrofa, bow-tie, shopping_cart, piano_accordion, isopod, membranophone, laptop_computer, armoured_combat_vehicle, Hungarian_pointer, Acinonyx_jubatus, handkerchief, obelisk, Siberian_husky, sleuthhound, umbrella\n",
      "topic_28:  crane, Sus_scrofa, sea_urchin, throne, vault, jigsaw_puzzle, spiny_lobster, pickelhaube, whiskey_jug, bakehouse, armoured_combat_vehicle, packet, Hungarian_pointer, tam-tam, Ibizan_Podenco\n",
      "topic_29:  handkerchief, seat_belt, paper_towel, ice_lolly, Chihuahua, baseball_player, purse, wig, sea_urchin, miniskirt, hair_slide, bassoon, dumbbell, barbell, packet\n",
      "topic_30:  Sus_scrofa, ladle, sea_urchin, wax_light, safety_pin, pandean_pipe, stage, harp, paper_towel, chocolate_syrup, waffle_iron, wine_bottle, pug-dog, Paralithodes_camtschatica, eel\n",
      "topic_31:  Sus_scrofa, electric_guitar, hognose_snake, vase, Ambystoma_maculatum, ski_mask, coffee_mug, snorkel, shopping_cart, paper_towel, chambered_nautilus, balustrade, bearskin, cardigan, piano_accordion\n",
      "topic_32:  crane, sleuthhound, packet, Paralithodes_camtschatica, Alligator_mississipiensis, rugby_ball, vase, Hungarian_pointer, Ambystoma_maculatum, Constrictor_constrictor, wine_bottle, scorpion, wok, crossword_puzzle, monkey_pinscher\n",
      "topic_33:  hognose_snake, coffeepot, pug-dog, packet, balloon, electric_ray, tabby_cat, street_sign, Egyptian_cat, motor_scooter, planetarium, electric_guitar, kuvasz, espresso, minivan\n",
      "topic_34:  Sus_scrofa, crane, street_sign, packet, space_bar, Cebus_capucinus, wax_light, oil_filter, comic_book, toyshop, abacus, eel, mousetrap, piano_accordion, barbershop\n",
      "topic_35:  chocolate_syrup, picture_palace, eating_house, sea_cucumber, Labrador_retriever, acorn_squash, crawdaddy, hot_dog, ice_cream, toaster, mierkat, nail, coffeepot, whiskey_jug, hand_blower\n",
      "topic_36:  electric_guitar, Sus_scrofa, bow-tie, shopping_basket, sombrero, harp, West_Highland_white_terrier, barbell, balance_beam, ocean_liner, comic_book, isopod, espresso, Ambystoma_mexicanum, street_sign\n",
      "topic_37:  bucket, sombrero, piano_accordion, electric_fan, cathode-ray_oscilloscope, sea_cucumber, toyshop, hair_spray, recreational_vehicle, abacus, pillow, paper_towel, stole, merry-go-round, Egyptian_cat\n",
      "topic_38:  Sus_scrofa, brassiere, Brittany_spaniel, transverse_flute, Labrador_retriever, stupa, hognose_snake, membranophone, marmoset, abacus, Welsh_springer_spaniel, crawdaddy, chambered_nautilus, king_snake, racquet\n",
      "topic_39:  crane, electric_guitar, pug-dog, sombrero, Egyptian_cat, cathode-ray_oscilloscope, Labrador_retriever, prayer_mat, coffee_mug, ocean_liner, breastplate, monkey_pinscher, pandean_pipe, Chihuahua, membranophone\n",
      "topic_40:  Lepisosteus_osseus, transverse_flute, ladle, computer_keyboard, eel, Labrador_retriever, jammies, coffee_mug, fiddle, recreational_vehicle, spiny_lobster, computer_mouse, lamp_shade, eating_house, stretcher\n",
      "topic_41:  Sus_scrofa, vase, cauldron, stupa, ski_mask, sombrero, sunglass, lumbermill, steel_drum, cradle, gown, laptop_computer, jammies, balustrade, park_bench\n",
      "topic_42:  Sus_scrofa, pug-dog, plough, ladle, isopod, planetarium, barracouta, picture_palace, pandean_pipe, membranophone, Ambystoma_maculatum, beer_glass, crossword_puzzle, jigsaw_puzzle, lionfish\n",
      "topic_43:  Sus_scrofa, crane, Lepisosteus_osseus, wax_light, jammies, merry-go-round, shower_cap, kimono, hair_slide, blue_jean, balloon, stretcher, brassiere, ice_lolly, swing\n",
      "topic_44:  Sus_scrofa, pug-dog, abacus, neck_brace, stole, sea_cucumber, sea_urchin, plumber's_helper, Irish_wolfhound, sleeping_bag, space_bar, standard_schnauzer, pretzel, fire_engine, jigsaw_puzzle\n",
      "topic_45:  Sus_scrofa, ski_mask, laptop_computer, vase, stole, pug-dog, balustrade, bow-tie, membranophone, neck_brace, lamp_shade, ladle, feather_boa, throne, goblet\n",
      "topic_46:  crane, electric_guitar, vase, assault_rifle, planetarium, computer_keyboard, jigsaw_puzzle, picture_palace, crossword_puzzle, ski_mask, hognose_snake, Paralithodes_camtschatica, beer_glass, ocean_liner, wok\n",
      "topic_47:  electric_guitar, sombrero, transverse_flute, purse, crawdaddy, rugby_ball, paper_towel, tow_truck, car_mirror, balloon, crane, abacus, tobacconist_shop, Tibetan_mastiff, blue_jean\n",
      "topic_48:  Sus_scrofa, neck_brace, oxygen_mask, ski_mask, sombrero, electric_guitar, wig, wax_light, hair_spray, Homarus_americanus, packet, transverse_flute, mask, comic_book, crane\n",
      "topic_49:  Sus_scrofa, picture_palace, waffle_iron, menu, toyshop, electric_guitar, altar, crossword_puzzle, barrel, harp, ten-gallon_hat, Labrador_retriever, ski_mask, electric_ray, tractor\n"
     ]
    }
   ],
   "source": [
    "for topic_name in model_artm.topic_names:\n",
    "    print topic_name + ': ',\n",
    "    print \", \".join(model_artm.score_tracker[\"top_images\"].last_tokens[topic_name])"
   ]
  },
  {
   "cell_type": "markdown",
   "metadata": {
    "slideshow": {
     "slide_type": "slide"
    }
   },
   "source": [
    "Профили пользователей:"
   ]
  },
  {
   "cell_type": "code",
   "execution_count": 68,
   "metadata": {
    "collapsed": true,
    "slideshow": {
     "slide_type": "subslide"
    }
   },
   "outputs": [],
   "source": [
    "model_artm.theta_columns_naming = \"title\"\n",
    "theta = model_artm.transform(batch_vectorizer)"
   ]
  },
  {
   "cell_type": "code",
   "execution_count": 69,
   "metadata": {
    "collapsed": false,
    "slideshow": {
     "slide_type": "subslide"
    }
   },
   "outputs": [
    {
     "data": {
      "text/html": [
       "<div>\n",
       "<table border=\"1\" class=\"dataframe\">\n",
       "  <thead>\n",
       "    <tr style=\"text-align: right;\">\n",
       "      <th></th>\n",
       "      <th>topic_0</th>\n",
       "      <th>topic_1</th>\n",
       "      <th>topic_2</th>\n",
       "      <th>topic_3</th>\n",
       "      <th>topic_4</th>\n",
       "      <th>topic_5</th>\n",
       "      <th>topic_6</th>\n",
       "      <th>topic_7</th>\n",
       "      <th>topic_8</th>\n",
       "      <th>topic_9</th>\n",
       "      <th>...</th>\n",
       "      <th>topic_40</th>\n",
       "      <th>topic_41</th>\n",
       "      <th>topic_42</th>\n",
       "      <th>topic_43</th>\n",
       "      <th>topic_44</th>\n",
       "      <th>topic_45</th>\n",
       "      <th>topic_46</th>\n",
       "      <th>topic_47</th>\n",
       "      <th>topic_48</th>\n",
       "      <th>topic_49</th>\n",
       "    </tr>\n",
       "  </thead>\n",
       "  <tbody>\n",
       "    <tr>\n",
       "      <th>1056e82616e9a27eee13cbcb045f6d7b</th>\n",
       "      <td>5.551455e-05</td>\n",
       "      <td>3.071664e-04</td>\n",
       "      <td>0.000002</td>\n",
       "      <td>0.000024</td>\n",
       "      <td>1.028577e-02</td>\n",
       "      <td>0.001795</td>\n",
       "      <td>0.000016</td>\n",
       "      <td>0.000028</td>\n",
       "      <td>0.000063</td>\n",
       "      <td>4.506726e-04</td>\n",
       "      <td>...</td>\n",
       "      <td>0.025787</td>\n",
       "      <td>1.095047e-02</td>\n",
       "      <td>0.010889</td>\n",
       "      <td>0.000011</td>\n",
       "      <td>2.172080e-04</td>\n",
       "      <td>0.000010</td>\n",
       "      <td>0.016067</td>\n",
       "      <td>0.000002</td>\n",
       "      <td>0.008240</td>\n",
       "      <td>0.000999</td>\n",
       "    </tr>\n",
       "    <tr>\n",
       "      <th>3914aa074b505528c26d8af0659e57b7</th>\n",
       "      <td>1.403768e-05</td>\n",
       "      <td>7.939011e-05</td>\n",
       "      <td>0.116985</td>\n",
       "      <td>0.000048</td>\n",
       "      <td>1.291078e-06</td>\n",
       "      <td>0.000765</td>\n",
       "      <td>0.000101</td>\n",
       "      <td>0.000092</td>\n",
       "      <td>0.000027</td>\n",
       "      <td>4.835771e-05</td>\n",
       "      <td>...</td>\n",
       "      <td>0.000718</td>\n",
       "      <td>6.250591e-04</td>\n",
       "      <td>0.000430</td>\n",
       "      <td>0.002373</td>\n",
       "      <td>4.761821e-06</td>\n",
       "      <td>0.176148</td>\n",
       "      <td>0.008867</td>\n",
       "      <td>0.000129</td>\n",
       "      <td>0.000173</td>\n",
       "      <td>0.000015</td>\n",
       "    </tr>\n",
       "    <tr>\n",
       "      <th>529b1ce53166eea850052a1f14e4906a</th>\n",
       "      <td>2.227682e-02</td>\n",
       "      <td>1.489825e-02</td>\n",
       "      <td>0.023176</td>\n",
       "      <td>0.017778</td>\n",
       "      <td>1.215842e-02</td>\n",
       "      <td>0.021679</td>\n",
       "      <td>0.017723</td>\n",
       "      <td>0.028195</td>\n",
       "      <td>0.017146</td>\n",
       "      <td>1.748337e-02</td>\n",
       "      <td>...</td>\n",
       "      <td>0.016357</td>\n",
       "      <td>1.665150e-02</td>\n",
       "      <td>0.016820</td>\n",
       "      <td>0.037791</td>\n",
       "      <td>1.647421e-02</td>\n",
       "      <td>0.015464</td>\n",
       "      <td>0.016636</td>\n",
       "      <td>0.020575</td>\n",
       "      <td>0.022324</td>\n",
       "      <td>0.017877</td>\n",
       "    </tr>\n",
       "    <tr>\n",
       "      <th>bcc012f1342f85308443dfeb187e5966</th>\n",
       "      <td>3.612599e-07</td>\n",
       "      <td>2.870211e-07</td>\n",
       "      <td>0.000026</td>\n",
       "      <td>0.000061</td>\n",
       "      <td>6.354963e-08</td>\n",
       "      <td>0.000002</td>\n",
       "      <td>0.000005</td>\n",
       "      <td>0.000013</td>\n",
       "      <td>0.011792</td>\n",
       "      <td>5.454961e-07</td>\n",
       "      <td>...</td>\n",
       "      <td>0.000001</td>\n",
       "      <td>8.304287e-07</td>\n",
       "      <td>0.000001</td>\n",
       "      <td>0.391931</td>\n",
       "      <td>2.243911e-07</td>\n",
       "      <td>0.004173</td>\n",
       "      <td>0.000467</td>\n",
       "      <td>0.000297</td>\n",
       "      <td>0.019096</td>\n",
       "      <td>0.000721</td>\n",
       "    </tr>\n",
       "    <tr>\n",
       "      <th>b4a6df760e1615fbb925cc00aa7c6519</th>\n",
       "      <td>6.742258e-02</td>\n",
       "      <td>6.019495e-04</td>\n",
       "      <td>0.001521</td>\n",
       "      <td>0.000556</td>\n",
       "      <td>2.648560e-05</td>\n",
       "      <td>0.000149</td>\n",
       "      <td>0.000926</td>\n",
       "      <td>0.000791</td>\n",
       "      <td>0.000414</td>\n",
       "      <td>5.805595e-04</td>\n",
       "      <td>...</td>\n",
       "      <td>0.000241</td>\n",
       "      <td>2.782722e-04</td>\n",
       "      <td>0.000248</td>\n",
       "      <td>0.000046</td>\n",
       "      <td>9.885131e-07</td>\n",
       "      <td>0.000012</td>\n",
       "      <td>0.000082</td>\n",
       "      <td>0.000718</td>\n",
       "      <td>0.000150</td>\n",
       "      <td>0.008369</td>\n",
       "    </tr>\n",
       "  </tbody>\n",
       "</table>\n",
       "<p>5 rows × 50 columns</p>\n",
       "</div>"
      ],
      "text/plain": [
       "                                       topic_0       topic_1   topic_2  \\\n",
       "1056e82616e9a27eee13cbcb045f6d7b  5.551455e-05  3.071664e-04  0.000002   \n",
       "3914aa074b505528c26d8af0659e57b7  1.403768e-05  7.939011e-05  0.116985   \n",
       "529b1ce53166eea850052a1f14e4906a  2.227682e-02  1.489825e-02  0.023176   \n",
       "bcc012f1342f85308443dfeb187e5966  3.612599e-07  2.870211e-07  0.000026   \n",
       "b4a6df760e1615fbb925cc00aa7c6519  6.742258e-02  6.019495e-04  0.001521   \n",
       "\n",
       "                                   topic_3       topic_4   topic_5   topic_6  \\\n",
       "1056e82616e9a27eee13cbcb045f6d7b  0.000024  1.028577e-02  0.001795  0.000016   \n",
       "3914aa074b505528c26d8af0659e57b7  0.000048  1.291078e-06  0.000765  0.000101   \n",
       "529b1ce53166eea850052a1f14e4906a  0.017778  1.215842e-02  0.021679  0.017723   \n",
       "bcc012f1342f85308443dfeb187e5966  0.000061  6.354963e-08  0.000002  0.000005   \n",
       "b4a6df760e1615fbb925cc00aa7c6519  0.000556  2.648560e-05  0.000149  0.000926   \n",
       "\n",
       "                                   topic_7   topic_8       topic_9    ...     \\\n",
       "1056e82616e9a27eee13cbcb045f6d7b  0.000028  0.000063  4.506726e-04    ...      \n",
       "3914aa074b505528c26d8af0659e57b7  0.000092  0.000027  4.835771e-05    ...      \n",
       "529b1ce53166eea850052a1f14e4906a  0.028195  0.017146  1.748337e-02    ...      \n",
       "bcc012f1342f85308443dfeb187e5966  0.000013  0.011792  5.454961e-07    ...      \n",
       "b4a6df760e1615fbb925cc00aa7c6519  0.000791  0.000414  5.805595e-04    ...      \n",
       "\n",
       "                                  topic_40      topic_41  topic_42  topic_43  \\\n",
       "1056e82616e9a27eee13cbcb045f6d7b  0.025787  1.095047e-02  0.010889  0.000011   \n",
       "3914aa074b505528c26d8af0659e57b7  0.000718  6.250591e-04  0.000430  0.002373   \n",
       "529b1ce53166eea850052a1f14e4906a  0.016357  1.665150e-02  0.016820  0.037791   \n",
       "bcc012f1342f85308443dfeb187e5966  0.000001  8.304287e-07  0.000001  0.391931   \n",
       "b4a6df760e1615fbb925cc00aa7c6519  0.000241  2.782722e-04  0.000248  0.000046   \n",
       "\n",
       "                                      topic_44  topic_45  topic_46  topic_47  \\\n",
       "1056e82616e9a27eee13cbcb045f6d7b  2.172080e-04  0.000010  0.016067  0.000002   \n",
       "3914aa074b505528c26d8af0659e57b7  4.761821e-06  0.176148  0.008867  0.000129   \n",
       "529b1ce53166eea850052a1f14e4906a  1.647421e-02  0.015464  0.016636  0.020575   \n",
       "bcc012f1342f85308443dfeb187e5966  2.243911e-07  0.004173  0.000467  0.000297   \n",
       "b4a6df760e1615fbb925cc00aa7c6519  9.885131e-07  0.000012  0.000082  0.000718   \n",
       "\n",
       "                                  topic_48  topic_49  \n",
       "1056e82616e9a27eee13cbcb045f6d7b  0.008240  0.000999  \n",
       "3914aa074b505528c26d8af0659e57b7  0.000173  0.000015  \n",
       "529b1ce53166eea850052a1f14e4906a  0.022324  0.017877  \n",
       "bcc012f1342f85308443dfeb187e5966  0.019096  0.000721  \n",
       "b4a6df760e1615fbb925cc00aa7c6519  0.000150  0.008369  \n",
       "\n",
       "[5 rows x 50 columns]"
      ]
     },
     "execution_count": 69,
     "metadata": {},
     "output_type": "execute_result"
    }
   ],
   "source": [
    "theta.T.head()"
   ]
  },
  {
   "cell_type": "code",
   "execution_count": 70,
   "metadata": {
    "collapsed": false,
    "slideshow": {
     "slide_type": "subslide"
    }
   },
   "outputs": [
    {
     "data": {
      "text/plain": [
       "1056e82616e9a27eee13cbcb045f6d7b    0.853906\n",
       "3914aa074b505528c26d8af0659e57b7    0.276507\n",
       "529b1ce53166eea850052a1f14e4906a    0.052626\n",
       "bcc012f1342f85308443dfeb187e5966    0.567928\n",
       "b4a6df760e1615fbb925cc00aa7c6519    0.873678\n",
       "111ef6d7aa963055d7b847e043f9535a    0.393274\n",
       "a9cb7444b4e32b06fd4f60c00cc5a688    0.274372\n",
       "c25e00d759e245a8087baed1cb6e410e    0.129995\n",
       "b30de9fd025b2cc8a176bb0658383ffb    0.053093\n",
       "65cf06a5ea12f731df97e80091971470    0.493953\n",
       "505de7a3405166acc58fe36f26c4f4e8    0.035995\n",
       "dbadfe9ff0e10489cb5fb20da2889497    0.044111\n",
       "d0a028ed075052809ff5488ad0dd119a    0.041979\n",
       "bbfd350b691130c61ba42f2dcc712526    0.582588\n",
       "7761a4aec64be88dc8ccf7dbcfcf0b63    0.126359\n",
       "f4e7c9f86944b27e3a1954106125c095    0.072569\n",
       "ba1bef15978c086add26e115c734f525    0.502689\n",
       "a35a322cc4c74e315d50ffbb96849c83    0.264407\n",
       "029603ec9fc5764928d2e58ca078edfd    0.403969\n",
       "ad1b20b6024d5ec4b13e9747c48087c7    0.642019\n",
       "dtype: float32"
      ]
     },
     "execution_count": 70,
     "metadata": {},
     "output_type": "execute_result"
    }
   ],
   "source": [
    "theta.max(axis=0).head(20)"
   ]
  },
  {
   "cell_type": "markdown",
   "metadata": {
    "slideshow": {
     "slide_type": "subslide"
    }
   },
   "source": [
    "Интерпретировать сложно :("
   ]
  },
  {
   "cell_type": "markdown",
   "metadata": {
    "slideshow": {
     "slide_type": "slide"
    }
   },
   "source": [
    "Профили пользователей:"
   ]
  },
  {
   "cell_type": "code",
   "execution_count": 71,
   "metadata": {
    "collapsed": false,
    "slideshow": {
     "slide_type": "subslide"
    }
   },
   "outputs": [
    {
     "data": {
      "text/html": [
       "<div>\n",
       "<table border=\"1\" class=\"dataframe\">\n",
       "  <thead>\n",
       "    <tr style=\"text-align: right;\">\n",
       "      <th></th>\n",
       "      <th>topic_0</th>\n",
       "      <th>topic_1</th>\n",
       "      <th>topic_2</th>\n",
       "      <th>topic_3</th>\n",
       "      <th>topic_4</th>\n",
       "      <th>topic_5</th>\n",
       "      <th>topic_6</th>\n",
       "      <th>topic_7</th>\n",
       "      <th>topic_8</th>\n",
       "      <th>topic_9</th>\n",
       "      <th>...</th>\n",
       "      <th>topic_41</th>\n",
       "      <th>topic_42</th>\n",
       "      <th>topic_43</th>\n",
       "      <th>topic_44</th>\n",
       "      <th>topic_45</th>\n",
       "      <th>topic_46</th>\n",
       "      <th>topic_47</th>\n",
       "      <th>topic_48</th>\n",
       "      <th>topic_49</th>\n",
       "      <th>row ID</th>\n",
       "    </tr>\n",
       "  </thead>\n",
       "  <tbody>\n",
       "    <tr>\n",
       "      <th>1056e82616e9a27eee13cbcb045f6d7b</th>\n",
       "      <td>5.551455e-05</td>\n",
       "      <td>3.071664e-04</td>\n",
       "      <td>0.000002</td>\n",
       "      <td>0.000024</td>\n",
       "      <td>1.028577e-02</td>\n",
       "      <td>0.001795</td>\n",
       "      <td>0.000016</td>\n",
       "      <td>0.000028</td>\n",
       "      <td>0.000063</td>\n",
       "      <td>4.506726e-04</td>\n",
       "      <td>...</td>\n",
       "      <td>1.095047e-02</td>\n",
       "      <td>0.010889</td>\n",
       "      <td>0.000011</td>\n",
       "      <td>2.172080e-04</td>\n",
       "      <td>0.000010</td>\n",
       "      <td>0.016067</td>\n",
       "      <td>0.000002</td>\n",
       "      <td>0.008240</td>\n",
       "      <td>0.000999</td>\n",
       "      <td>1056e82616e9a27eee13cbcb045f6d7b</td>\n",
       "    </tr>\n",
       "    <tr>\n",
       "      <th>3914aa074b505528c26d8af0659e57b7</th>\n",
       "      <td>1.403768e-05</td>\n",
       "      <td>7.939011e-05</td>\n",
       "      <td>0.116985</td>\n",
       "      <td>0.000048</td>\n",
       "      <td>1.291078e-06</td>\n",
       "      <td>0.000765</td>\n",
       "      <td>0.000101</td>\n",
       "      <td>0.000092</td>\n",
       "      <td>0.000027</td>\n",
       "      <td>4.835771e-05</td>\n",
       "      <td>...</td>\n",
       "      <td>6.250591e-04</td>\n",
       "      <td>0.000430</td>\n",
       "      <td>0.002373</td>\n",
       "      <td>4.761821e-06</td>\n",
       "      <td>0.176148</td>\n",
       "      <td>0.008867</td>\n",
       "      <td>0.000129</td>\n",
       "      <td>0.000173</td>\n",
       "      <td>0.000015</td>\n",
       "      <td>3914aa074b505528c26d8af0659e57b7</td>\n",
       "    </tr>\n",
       "    <tr>\n",
       "      <th>529b1ce53166eea850052a1f14e4906a</th>\n",
       "      <td>2.227682e-02</td>\n",
       "      <td>1.489825e-02</td>\n",
       "      <td>0.023176</td>\n",
       "      <td>0.017778</td>\n",
       "      <td>1.215842e-02</td>\n",
       "      <td>0.021679</td>\n",
       "      <td>0.017723</td>\n",
       "      <td>0.028195</td>\n",
       "      <td>0.017146</td>\n",
       "      <td>1.748337e-02</td>\n",
       "      <td>...</td>\n",
       "      <td>1.665150e-02</td>\n",
       "      <td>0.016820</td>\n",
       "      <td>0.037791</td>\n",
       "      <td>1.647421e-02</td>\n",
       "      <td>0.015464</td>\n",
       "      <td>0.016636</td>\n",
       "      <td>0.020575</td>\n",
       "      <td>0.022324</td>\n",
       "      <td>0.017877</td>\n",
       "      <td>529b1ce53166eea850052a1f14e4906a</td>\n",
       "    </tr>\n",
       "    <tr>\n",
       "      <th>bcc012f1342f85308443dfeb187e5966</th>\n",
       "      <td>3.612599e-07</td>\n",
       "      <td>2.870211e-07</td>\n",
       "      <td>0.000026</td>\n",
       "      <td>0.000061</td>\n",
       "      <td>6.354963e-08</td>\n",
       "      <td>0.000002</td>\n",
       "      <td>0.000005</td>\n",
       "      <td>0.000013</td>\n",
       "      <td>0.011792</td>\n",
       "      <td>5.454961e-07</td>\n",
       "      <td>...</td>\n",
       "      <td>8.304287e-07</td>\n",
       "      <td>0.000001</td>\n",
       "      <td>0.391931</td>\n",
       "      <td>2.243911e-07</td>\n",
       "      <td>0.004173</td>\n",
       "      <td>0.000467</td>\n",
       "      <td>0.000297</td>\n",
       "      <td>0.019096</td>\n",
       "      <td>0.000721</td>\n",
       "      <td>bcc012f1342f85308443dfeb187e5966</td>\n",
       "    </tr>\n",
       "    <tr>\n",
       "      <th>b4a6df760e1615fbb925cc00aa7c6519</th>\n",
       "      <td>6.742258e-02</td>\n",
       "      <td>6.019495e-04</td>\n",
       "      <td>0.001521</td>\n",
       "      <td>0.000556</td>\n",
       "      <td>2.648560e-05</td>\n",
       "      <td>0.000149</td>\n",
       "      <td>0.000926</td>\n",
       "      <td>0.000791</td>\n",
       "      <td>0.000414</td>\n",
       "      <td>5.805595e-04</td>\n",
       "      <td>...</td>\n",
       "      <td>2.782722e-04</td>\n",
       "      <td>0.000248</td>\n",
       "      <td>0.000046</td>\n",
       "      <td>9.885131e-07</td>\n",
       "      <td>0.000012</td>\n",
       "      <td>0.000082</td>\n",
       "      <td>0.000718</td>\n",
       "      <td>0.000150</td>\n",
       "      <td>0.008369</td>\n",
       "      <td>b4a6df760e1615fbb925cc00aa7c6519</td>\n",
       "    </tr>\n",
       "  </tbody>\n",
       "</table>\n",
       "<p>5 rows × 51 columns</p>\n",
       "</div>"
      ],
      "text/plain": [
       "                                       topic_0       topic_1   topic_2  \\\n",
       "1056e82616e9a27eee13cbcb045f6d7b  5.551455e-05  3.071664e-04  0.000002   \n",
       "3914aa074b505528c26d8af0659e57b7  1.403768e-05  7.939011e-05  0.116985   \n",
       "529b1ce53166eea850052a1f14e4906a  2.227682e-02  1.489825e-02  0.023176   \n",
       "bcc012f1342f85308443dfeb187e5966  3.612599e-07  2.870211e-07  0.000026   \n",
       "b4a6df760e1615fbb925cc00aa7c6519  6.742258e-02  6.019495e-04  0.001521   \n",
       "\n",
       "                                   topic_3       topic_4   topic_5   topic_6  \\\n",
       "1056e82616e9a27eee13cbcb045f6d7b  0.000024  1.028577e-02  0.001795  0.000016   \n",
       "3914aa074b505528c26d8af0659e57b7  0.000048  1.291078e-06  0.000765  0.000101   \n",
       "529b1ce53166eea850052a1f14e4906a  0.017778  1.215842e-02  0.021679  0.017723   \n",
       "bcc012f1342f85308443dfeb187e5966  0.000061  6.354963e-08  0.000002  0.000005   \n",
       "b4a6df760e1615fbb925cc00aa7c6519  0.000556  2.648560e-05  0.000149  0.000926   \n",
       "\n",
       "                                   topic_7   topic_8       topic_9  \\\n",
       "1056e82616e9a27eee13cbcb045f6d7b  0.000028  0.000063  4.506726e-04   \n",
       "3914aa074b505528c26d8af0659e57b7  0.000092  0.000027  4.835771e-05   \n",
       "529b1ce53166eea850052a1f14e4906a  0.028195  0.017146  1.748337e-02   \n",
       "bcc012f1342f85308443dfeb187e5966  0.000013  0.011792  5.454961e-07   \n",
       "b4a6df760e1615fbb925cc00aa7c6519  0.000791  0.000414  5.805595e-04   \n",
       "\n",
       "                                                ...                 \\\n",
       "1056e82616e9a27eee13cbcb045f6d7b                ...                  \n",
       "3914aa074b505528c26d8af0659e57b7                ...                  \n",
       "529b1ce53166eea850052a1f14e4906a                ...                  \n",
       "bcc012f1342f85308443dfeb187e5966                ...                  \n",
       "b4a6df760e1615fbb925cc00aa7c6519                ...                  \n",
       "\n",
       "                                      topic_41  topic_42  topic_43  \\\n",
       "1056e82616e9a27eee13cbcb045f6d7b  1.095047e-02  0.010889  0.000011   \n",
       "3914aa074b505528c26d8af0659e57b7  6.250591e-04  0.000430  0.002373   \n",
       "529b1ce53166eea850052a1f14e4906a  1.665150e-02  0.016820  0.037791   \n",
       "bcc012f1342f85308443dfeb187e5966  8.304287e-07  0.000001  0.391931   \n",
       "b4a6df760e1615fbb925cc00aa7c6519  2.782722e-04  0.000248  0.000046   \n",
       "\n",
       "                                      topic_44  topic_45  topic_46  topic_47  \\\n",
       "1056e82616e9a27eee13cbcb045f6d7b  2.172080e-04  0.000010  0.016067  0.000002   \n",
       "3914aa074b505528c26d8af0659e57b7  4.761821e-06  0.176148  0.008867  0.000129   \n",
       "529b1ce53166eea850052a1f14e4906a  1.647421e-02  0.015464  0.016636  0.020575   \n",
       "bcc012f1342f85308443dfeb187e5966  2.243911e-07  0.004173  0.000467  0.000297   \n",
       "b4a6df760e1615fbb925cc00aa7c6519  9.885131e-07  0.000012  0.000082  0.000718   \n",
       "\n",
       "                                  topic_48  topic_49  \\\n",
       "1056e82616e9a27eee13cbcb045f6d7b  0.008240  0.000999   \n",
       "3914aa074b505528c26d8af0659e57b7  0.000173  0.000015   \n",
       "529b1ce53166eea850052a1f14e4906a  0.022324  0.017877   \n",
       "bcc012f1342f85308443dfeb187e5966  0.019096  0.000721   \n",
       "b4a6df760e1615fbb925cc00aa7c6519  0.000150  0.008369   \n",
       "\n",
       "                                                            row ID  \n",
       "1056e82616e9a27eee13cbcb045f6d7b  1056e82616e9a27eee13cbcb045f6d7b  \n",
       "3914aa074b505528c26d8af0659e57b7  3914aa074b505528c26d8af0659e57b7  \n",
       "529b1ce53166eea850052a1f14e4906a  529b1ce53166eea850052a1f14e4906a  \n",
       "bcc012f1342f85308443dfeb187e5966  bcc012f1342f85308443dfeb187e5966  \n",
       "b4a6df760e1615fbb925cc00aa7c6519  b4a6df760e1615fbb925cc00aa7c6519  \n",
       "\n",
       "[5 rows x 51 columns]"
      ]
     },
     "execution_count": 71,
     "metadata": {},
     "output_type": "execute_result"
    }
   ],
   "source": [
    "theta_2 = theta.T\n",
    "theta_2[\"row ID\"] = theta_2.index\n",
    "theta_2.head()"
   ]
  },
  {
   "cell_type": "code",
   "execution_count": 72,
   "metadata": {
    "collapsed": false,
    "slideshow": {
     "slide_type": "subslide"
    }
   },
   "outputs": [
    {
     "data": {
      "text/html": [
       "<div>\n",
       "<table border=\"1\" class=\"dataframe\">\n",
       "  <thead>\n",
       "    <tr style=\"text-align: right;\">\n",
       "      <th></th>\n",
       "      <th>topic_0</th>\n",
       "      <th>topic_1</th>\n",
       "      <th>topic_2</th>\n",
       "      <th>topic_3</th>\n",
       "      <th>topic_4</th>\n",
       "      <th>topic_5</th>\n",
       "      <th>topic_6</th>\n",
       "      <th>topic_7</th>\n",
       "      <th>topic_8</th>\n",
       "      <th>topic_9</th>\n",
       "      <th>...</th>\n",
       "      <th>topic_42</th>\n",
       "      <th>topic_43</th>\n",
       "      <th>topic_44</th>\n",
       "      <th>topic_45</th>\n",
       "      <th>topic_46</th>\n",
       "      <th>topic_47</th>\n",
       "      <th>topic_48</th>\n",
       "      <th>topic_49</th>\n",
       "      <th>row ID</th>\n",
       "      <th>gender</th>\n",
       "    </tr>\n",
       "  </thead>\n",
       "  <tbody>\n",
       "    <tr>\n",
       "      <th>0</th>\n",
       "      <td>5.551455e-05</td>\n",
       "      <td>3.071664e-04</td>\n",
       "      <td>0.000002</td>\n",
       "      <td>0.000024</td>\n",
       "      <td>1.028577e-02</td>\n",
       "      <td>0.001795</td>\n",
       "      <td>0.000016</td>\n",
       "      <td>0.000028</td>\n",
       "      <td>0.000063</td>\n",
       "      <td>4.506726e-04</td>\n",
       "      <td>...</td>\n",
       "      <td>0.010889</td>\n",
       "      <td>0.000011</td>\n",
       "      <td>2.172080e-04</td>\n",
       "      <td>0.000010</td>\n",
       "      <td>0.016067</td>\n",
       "      <td>0.000002</td>\n",
       "      <td>0.008240</td>\n",
       "      <td>0.000999</td>\n",
       "      <td>1056e82616e9a27eee13cbcb045f6d7b</td>\n",
       "      <td>male</td>\n",
       "    </tr>\n",
       "    <tr>\n",
       "      <th>1</th>\n",
       "      <td>1.403768e-05</td>\n",
       "      <td>7.939011e-05</td>\n",
       "      <td>0.116985</td>\n",
       "      <td>0.000048</td>\n",
       "      <td>1.291078e-06</td>\n",
       "      <td>0.000765</td>\n",
       "      <td>0.000101</td>\n",
       "      <td>0.000092</td>\n",
       "      <td>0.000027</td>\n",
       "      <td>4.835771e-05</td>\n",
       "      <td>...</td>\n",
       "      <td>0.000430</td>\n",
       "      <td>0.002373</td>\n",
       "      <td>4.761821e-06</td>\n",
       "      <td>0.176148</td>\n",
       "      <td>0.008867</td>\n",
       "      <td>0.000129</td>\n",
       "      <td>0.000173</td>\n",
       "      <td>0.000015</td>\n",
       "      <td>3914aa074b505528c26d8af0659e57b7</td>\n",
       "      <td>female</td>\n",
       "    </tr>\n",
       "    <tr>\n",
       "      <th>2</th>\n",
       "      <td>2.227682e-02</td>\n",
       "      <td>1.489825e-02</td>\n",
       "      <td>0.023176</td>\n",
       "      <td>0.017778</td>\n",
       "      <td>1.215842e-02</td>\n",
       "      <td>0.021679</td>\n",
       "      <td>0.017723</td>\n",
       "      <td>0.028195</td>\n",
       "      <td>0.017146</td>\n",
       "      <td>1.748337e-02</td>\n",
       "      <td>...</td>\n",
       "      <td>0.016820</td>\n",
       "      <td>0.037791</td>\n",
       "      <td>1.647421e-02</td>\n",
       "      <td>0.015464</td>\n",
       "      <td>0.016636</td>\n",
       "      <td>0.020575</td>\n",
       "      <td>0.022324</td>\n",
       "      <td>0.017877</td>\n",
       "      <td>529b1ce53166eea850052a1f14e4906a</td>\n",
       "      <td>male</td>\n",
       "    </tr>\n",
       "    <tr>\n",
       "      <th>3</th>\n",
       "      <td>3.612599e-07</td>\n",
       "      <td>2.870211e-07</td>\n",
       "      <td>0.000026</td>\n",
       "      <td>0.000061</td>\n",
       "      <td>6.354963e-08</td>\n",
       "      <td>0.000002</td>\n",
       "      <td>0.000005</td>\n",
       "      <td>0.000013</td>\n",
       "      <td>0.011792</td>\n",
       "      <td>5.454961e-07</td>\n",
       "      <td>...</td>\n",
       "      <td>0.000001</td>\n",
       "      <td>0.391931</td>\n",
       "      <td>2.243911e-07</td>\n",
       "      <td>0.004173</td>\n",
       "      <td>0.000467</td>\n",
       "      <td>0.000297</td>\n",
       "      <td>0.019096</td>\n",
       "      <td>0.000721</td>\n",
       "      <td>bcc012f1342f85308443dfeb187e5966</td>\n",
       "      <td>male</td>\n",
       "    </tr>\n",
       "    <tr>\n",
       "      <th>4</th>\n",
       "      <td>6.742258e-02</td>\n",
       "      <td>6.019495e-04</td>\n",
       "      <td>0.001521</td>\n",
       "      <td>0.000556</td>\n",
       "      <td>2.648560e-05</td>\n",
       "      <td>0.000149</td>\n",
       "      <td>0.000926</td>\n",
       "      <td>0.000791</td>\n",
       "      <td>0.000414</td>\n",
       "      <td>5.805595e-04</td>\n",
       "      <td>...</td>\n",
       "      <td>0.000248</td>\n",
       "      <td>0.000046</td>\n",
       "      <td>9.885131e-07</td>\n",
       "      <td>0.000012</td>\n",
       "      <td>0.000082</td>\n",
       "      <td>0.000718</td>\n",
       "      <td>0.000150</td>\n",
       "      <td>0.008369</td>\n",
       "      <td>b4a6df760e1615fbb925cc00aa7c6519</td>\n",
       "      <td>male</td>\n",
       "    </tr>\n",
       "  </tbody>\n",
       "</table>\n",
       "<p>5 rows × 52 columns</p>\n",
       "</div>"
      ],
      "text/plain": [
       "        topic_0       topic_1   topic_2   topic_3       topic_4   topic_5  \\\n",
       "0  5.551455e-05  3.071664e-04  0.000002  0.000024  1.028577e-02  0.001795   \n",
       "1  1.403768e-05  7.939011e-05  0.116985  0.000048  1.291078e-06  0.000765   \n",
       "2  2.227682e-02  1.489825e-02  0.023176  0.017778  1.215842e-02  0.021679   \n",
       "3  3.612599e-07  2.870211e-07  0.000026  0.000061  6.354963e-08  0.000002   \n",
       "4  6.742258e-02  6.019495e-04  0.001521  0.000556  2.648560e-05  0.000149   \n",
       "\n",
       "    topic_6   topic_7   topic_8       topic_9   ...    topic_42  topic_43  \\\n",
       "0  0.000016  0.000028  0.000063  4.506726e-04   ...    0.010889  0.000011   \n",
       "1  0.000101  0.000092  0.000027  4.835771e-05   ...    0.000430  0.002373   \n",
       "2  0.017723  0.028195  0.017146  1.748337e-02   ...    0.016820  0.037791   \n",
       "3  0.000005  0.000013  0.011792  5.454961e-07   ...    0.000001  0.391931   \n",
       "4  0.000926  0.000791  0.000414  5.805595e-04   ...    0.000248  0.000046   \n",
       "\n",
       "       topic_44  topic_45  topic_46  topic_47  topic_48  topic_49  \\\n",
       "0  2.172080e-04  0.000010  0.016067  0.000002  0.008240  0.000999   \n",
       "1  4.761821e-06  0.176148  0.008867  0.000129  0.000173  0.000015   \n",
       "2  1.647421e-02  0.015464  0.016636  0.020575  0.022324  0.017877   \n",
       "3  2.243911e-07  0.004173  0.000467  0.000297  0.019096  0.000721   \n",
       "4  9.885131e-07  0.000012  0.000082  0.000718  0.000150  0.008369   \n",
       "\n",
       "                             row ID  gender  \n",
       "0  1056e82616e9a27eee13cbcb045f6d7b    male  \n",
       "1  3914aa074b505528c26d8af0659e57b7  female  \n",
       "2  529b1ce53166eea850052a1f14e4906a    male  \n",
       "3  bcc012f1342f85308443dfeb187e5966    male  \n",
       "4  b4a6df760e1615fbb925cc00aa7c6519    male  \n",
       "\n",
       "[5 rows x 52 columns]"
      ]
     },
     "execution_count": 72,
     "metadata": {},
     "output_type": "execute_result"
    }
   ],
   "source": [
    "theta_train = theta_2.merge(london_train[[\"row ID\", \"gender\"]], on=\"row ID\")\n",
    "theta_train.head()"
   ]
  },
  {
   "cell_type": "markdown",
   "metadata": {
    "slideshow": {
     "slide_type": "slide"
    }
   },
   "source": [
    "Оформим в функцию:"
   ]
  },
  {
   "cell_type": "code",
   "execution_count": 73,
   "metadata": {
    "collapsed": true,
    "slideshow": {
     "slide_type": "subslide"
    }
   },
   "outputs": [],
   "source": [
    "def get_theta_with_gender(model_artm, batch_vectorizer, london_groundtruth):\n",
    "    model_artm.theta_columns_naming = \"title\"\n",
    "    theta = model_artm.transform(batch_vectorizer)\n",
    "    theta_2 = theta.T\n",
    "    theta_2[\"row ID\"] = theta_2.index\n",
    "    theta_2.head()\n",
    "    theta_train = theta_2.merge(london_groundtruth[[\"row ID\", \"gender\"]], on=\"row ID\")\n",
    "    return theta_train"
   ]
  },
  {
   "cell_type": "code",
   "execution_count": 74,
   "metadata": {
    "collapsed": false,
    "slideshow": {
     "slide_type": "subslide"
    }
   },
   "outputs": [
    {
     "data": {
      "text/html": [
       "<div>\n",
       "<table border=\"1\" class=\"dataframe\">\n",
       "  <thead>\n",
       "    <tr style=\"text-align: right;\">\n",
       "      <th></th>\n",
       "      <th>topic_0</th>\n",
       "      <th>topic_1</th>\n",
       "      <th>topic_2</th>\n",
       "      <th>topic_3</th>\n",
       "      <th>topic_4</th>\n",
       "      <th>topic_5</th>\n",
       "      <th>topic_6</th>\n",
       "      <th>topic_7</th>\n",
       "      <th>topic_8</th>\n",
       "      <th>topic_9</th>\n",
       "      <th>...</th>\n",
       "      <th>topic_42</th>\n",
       "      <th>topic_43</th>\n",
       "      <th>topic_44</th>\n",
       "      <th>topic_45</th>\n",
       "      <th>topic_46</th>\n",
       "      <th>topic_47</th>\n",
       "      <th>topic_48</th>\n",
       "      <th>topic_49</th>\n",
       "      <th>row ID</th>\n",
       "      <th>gender</th>\n",
       "    </tr>\n",
       "  </thead>\n",
       "  <tbody>\n",
       "    <tr>\n",
       "      <th>0</th>\n",
       "      <td>0.020989</td>\n",
       "      <td>0.024917</td>\n",
       "      <td>1.755437e-02</td>\n",
       "      <td>0.020656</td>\n",
       "      <td>1.755586e-02</td>\n",
       "      <td>1.794804e-02</td>\n",
       "      <td>0.022473</td>\n",
       "      <td>0.020354</td>\n",
       "      <td>0.017626</td>\n",
       "      <td>0.016571</td>\n",
       "      <td>...</td>\n",
       "      <td>0.019563</td>\n",
       "      <td>0.046218</td>\n",
       "      <td>0.013170</td>\n",
       "      <td>0.014064</td>\n",
       "      <td>0.018487</td>\n",
       "      <td>0.016967</td>\n",
       "      <td>0.021893</td>\n",
       "      <td>0.023644</td>\n",
       "      <td>1518476681eb6faca572810e975589fc</td>\n",
       "      <td>female</td>\n",
       "    </tr>\n",
       "    <tr>\n",
       "      <th>1</th>\n",
       "      <td>0.010152</td>\n",
       "      <td>0.055102</td>\n",
       "      <td>5.645168e-05</td>\n",
       "      <td>0.004861</td>\n",
       "      <td>4.669917e-06</td>\n",
       "      <td>4.948882e-03</td>\n",
       "      <td>0.002757</td>\n",
       "      <td>0.000055</td>\n",
       "      <td>0.000973</td>\n",
       "      <td>0.000225</td>\n",
       "      <td>...</td>\n",
       "      <td>0.001147</td>\n",
       "      <td>0.011750</td>\n",
       "      <td>0.030127</td>\n",
       "      <td>0.000061</td>\n",
       "      <td>0.069329</td>\n",
       "      <td>0.000047</td>\n",
       "      <td>0.000003</td>\n",
       "      <td>0.042757</td>\n",
       "      <td>34eb37aad29f7d1498b93ed21a4674e3</td>\n",
       "      <td>female</td>\n",
       "    </tr>\n",
       "    <tr>\n",
       "      <th>2</th>\n",
       "      <td>0.021606</td>\n",
       "      <td>0.020235</td>\n",
       "      <td>1.943818e-02</td>\n",
       "      <td>0.020305</td>\n",
       "      <td>1.935029e-02</td>\n",
       "      <td>1.982816e-02</td>\n",
       "      <td>0.020431</td>\n",
       "      <td>0.020249</td>\n",
       "      <td>0.020952</td>\n",
       "      <td>0.019050</td>\n",
       "      <td>...</td>\n",
       "      <td>0.019761</td>\n",
       "      <td>0.019711</td>\n",
       "      <td>0.019432</td>\n",
       "      <td>0.018912</td>\n",
       "      <td>0.020117</td>\n",
       "      <td>0.019760</td>\n",
       "      <td>0.019556</td>\n",
       "      <td>0.020329</td>\n",
       "      <td>c27f4d0da1621bc3ab9cd90d16944d8d</td>\n",
       "      <td>female</td>\n",
       "    </tr>\n",
       "    <tr>\n",
       "      <th>3</th>\n",
       "      <td>0.007073</td>\n",
       "      <td>0.017759</td>\n",
       "      <td>8.144327e-03</td>\n",
       "      <td>0.012777</td>\n",
       "      <td>2.549726e-01</td>\n",
       "      <td>7.434667e-03</td>\n",
       "      <td>0.015602</td>\n",
       "      <td>0.010650</td>\n",
       "      <td>0.022360</td>\n",
       "      <td>0.020760</td>\n",
       "      <td>...</td>\n",
       "      <td>0.017812</td>\n",
       "      <td>0.006084</td>\n",
       "      <td>0.054844</td>\n",
       "      <td>0.027096</td>\n",
       "      <td>0.008199</td>\n",
       "      <td>0.006888</td>\n",
       "      <td>0.004643</td>\n",
       "      <td>0.004691</td>\n",
       "      <td>bf5be0e65f24b55393a79115ce56e7bd</td>\n",
       "      <td>male</td>\n",
       "    </tr>\n",
       "    <tr>\n",
       "      <th>4</th>\n",
       "      <td>0.002048</td>\n",
       "      <td>0.069012</td>\n",
       "      <td>2.254601e-07</td>\n",
       "      <td>0.004073</td>\n",
       "      <td>7.349436e-07</td>\n",
       "      <td>3.405318e-07</td>\n",
       "      <td>0.000816</td>\n",
       "      <td>0.000011</td>\n",
       "      <td>0.000075</td>\n",
       "      <td>0.007503</td>\n",
       "      <td>...</td>\n",
       "      <td>0.001699</td>\n",
       "      <td>0.001289</td>\n",
       "      <td>0.011664</td>\n",
       "      <td>0.253653</td>\n",
       "      <td>0.003734</td>\n",
       "      <td>0.000008</td>\n",
       "      <td>0.426828</td>\n",
       "      <td>0.000054</td>\n",
       "      <td>b4b4cbb33a9e062f2a48ab964ddd0b96</td>\n",
       "      <td>male</td>\n",
       "    </tr>\n",
       "  </tbody>\n",
       "</table>\n",
       "<p>5 rows × 52 columns</p>\n",
       "</div>"
      ],
      "text/plain": [
       "    topic_0   topic_1       topic_2   topic_3       topic_4       topic_5  \\\n",
       "0  0.020989  0.024917  1.755437e-02  0.020656  1.755586e-02  1.794804e-02   \n",
       "1  0.010152  0.055102  5.645168e-05  0.004861  4.669917e-06  4.948882e-03   \n",
       "2  0.021606  0.020235  1.943818e-02  0.020305  1.935029e-02  1.982816e-02   \n",
       "3  0.007073  0.017759  8.144327e-03  0.012777  2.549726e-01  7.434667e-03   \n",
       "4  0.002048  0.069012  2.254601e-07  0.004073  7.349436e-07  3.405318e-07   \n",
       "\n",
       "    topic_6   topic_7   topic_8   topic_9   ...    topic_42  topic_43  \\\n",
       "0  0.022473  0.020354  0.017626  0.016571   ...    0.019563  0.046218   \n",
       "1  0.002757  0.000055  0.000973  0.000225   ...    0.001147  0.011750   \n",
       "2  0.020431  0.020249  0.020952  0.019050   ...    0.019761  0.019711   \n",
       "3  0.015602  0.010650  0.022360  0.020760   ...    0.017812  0.006084   \n",
       "4  0.000816  0.000011  0.000075  0.007503   ...    0.001699  0.001289   \n",
       "\n",
       "   topic_44  topic_45  topic_46  topic_47  topic_48  topic_49  \\\n",
       "0  0.013170  0.014064  0.018487  0.016967  0.021893  0.023644   \n",
       "1  0.030127  0.000061  0.069329  0.000047  0.000003  0.042757   \n",
       "2  0.019432  0.018912  0.020117  0.019760  0.019556  0.020329   \n",
       "3  0.054844  0.027096  0.008199  0.006888  0.004643  0.004691   \n",
       "4  0.011664  0.253653  0.003734  0.000008  0.426828  0.000054   \n",
       "\n",
       "                             row ID  gender  \n",
       "0  1518476681eb6faca572810e975589fc  female  \n",
       "1  34eb37aad29f7d1498b93ed21a4674e3  female  \n",
       "2  c27f4d0da1621bc3ab9cd90d16944d8d  female  \n",
       "3  bf5be0e65f24b55393a79115ce56e7bd    male  \n",
       "4  b4b4cbb33a9e062f2a48ab964ddd0b96    male  \n",
       "\n",
       "[5 rows x 52 columns]"
      ]
     },
     "execution_count": 74,
     "metadata": {},
     "output_type": "execute_result"
    }
   ],
   "source": [
    "theta_test = get_theta_with_gender(model_artm, batch_vectorizer_test, london_test)\n",
    "theta_test.head()"
   ]
  },
  {
   "cell_type": "markdown",
   "metadata": {
    "slideshow": {
     "slide_type": "slide"
    }
   },
   "source": [
    "Предсказания:"
   ]
  },
  {
   "cell_type": "code",
   "execution_count": 75,
   "metadata": {
    "collapsed": true,
    "slideshow": {
     "slide_type": "subslide"
    }
   },
   "outputs": [],
   "source": [
    "from sklearn.neighbors import KNeighborsClassifier\n",
    "from sklearn.metrics import accuracy_score, f1_score"
   ]
  },
  {
   "cell_type": "code",
   "execution_count": 76,
   "metadata": {
    "collapsed": false,
    "slideshow": {
     "slide_type": "subslide"
    }
   },
   "outputs": [
    {
     "data": {
      "text/plain": [
       "0.73913043478260854"
      ]
     },
     "execution_count": 76,
     "metadata": {},
     "output_type": "execute_result"
    }
   ],
   "source": [
    "rf = KNeighborsClassifier()\n",
    "rf.fit(theta_train[model_artm.topic_names], \n",
    "       theta_train[\"gender\"].map({\"female\":0, \"male\":1}))\n",
    "predict = rf.predict(theta_test[model_artm.topic_names])\n",
    "f1_score(theta_test[\"gender\"].map({\"female\":0, \"male\":1}), predict)"
   ]
  },
  {
   "cell_type": "markdown",
   "metadata": {
    "slideshow": {
     "slide_type": "slide"
    }
   },
   "source": [
    "Визуализация:"
   ]
  },
  {
   "cell_type": "code",
   "execution_count": 77,
   "metadata": {
    "collapsed": true,
    "slideshow": {
     "slide_type": "subslide"
    }
   },
   "outputs": [],
   "source": [
    "from sklearn.manifold import MDS"
   ]
  },
  {
   "cell_type": "code",
   "execution_count": 78,
   "metadata": {
    "collapsed": true,
    "slideshow": {
     "slide_type": "subslide"
    }
   },
   "outputs": [],
   "source": [
    "mds = MDS()\n",
    "features = mds.fit_transform(theta_train[model_artm.topic_names].values[:1000, :].astype(np.float64))"
   ]
  },
  {
   "cell_type": "code",
   "execution_count": 79,
   "metadata": {
    "collapsed": false,
    "slideshow": {
     "slide_type": "subslide"
    }
   },
   "outputs": [
    {
     "data": {
      "text/plain": [
       "<matplotlib.collections.PathCollection at 0x5276ab00>"
      ]
     },
     "execution_count": 79,
     "metadata": {},
     "output_type": "execute_result"
    },
    {
     "name": "stderr",
     "output_type": "stream",
     "text": [
      "C:\\Anaconda2\\lib\\site-packages\\matplotlib\\collections.py:590: FutureWarning: elementwise comparison failed; returning scalar instead, but in the future will perform elementwise comparison\n",
      "  if self._edgecolors == str('face'):\n"
     ]
    },
    {
     "data": {
      "image/png": "[encoded data removed]",
      "text/plain": [
       "<matplotlib.figure.Figure at 0x525691d0>"
      ]
     },
     "metadata": {},
     "output_type": "display_data"
    }
   ],
   "source": [
    "index = (theta_train[\"gender\"]==\"male\")[:1000].values\n",
    "plt.scatter(features[index, 0], features[index, 1], color=\"red\")\n",
    "index = (theta_train[\"gender\"]==\"female\")[:1000].values\n",
    "plt.scatter(features[index, 0], features[index, 1], color=\"blue\")"
   ]
  },
  {
   "cell_type": "markdown",
   "metadata": {
    "slideshow": {
     "slide_type": "slide"
    }
   },
   "source": [
    "Строим модель, которая учитывает пол при моделировании тем:"
   ]
  },
  {
   "cell_type": "code",
   "execution_count": 102,
   "metadata": {
    "collapsed": false,
    "slideshow": {
     "slide_type": "subslide"
    }
   },
   "outputs": [],
   "source": [
    "modals = [\"@text\", \"@day\", \"@venue_categories\", \"@images\", \"@hashtags\"]\n",
    "T = 50\n",
    "model_artm = artm.ARTM(num_topics=T, \n",
    "                      class_ids={\"@text\":1, \"@day\":1, \"@venue_categories\":1, \\\n",
    "                                 \"@venue_name\":1, \"@images\":1, \"@hashtags\":1,\n",
    "                                 \"gender\":100},\n",
    "                      num_document_passes=10,\n",
    "                      seed=867)\n",
    "model_artm.scores.add(artm.PerplexityScore(name='PerplexityScore'))\n",
    "model_artm.scores.add(artm.SparsityPhiScore(name='SparsityPhiScore'))\n",
    "model_artm.scores.add(artm.SparsityThetaScore(name='SparsityThetaScore'))\n",
    "for mod in modals:\n",
    "    model_artm.scores.add(artm.TopTokensScore(name=\"top_\"+mod[1:], num_tokens=15, class_id=mod))"
   ]
  },
  {
   "cell_type": "code",
   "execution_count": 103,
   "metadata": {
    "collapsed": false,
    "slideshow": {
     "slide_type": "slide"
    }
   },
   "outputs": [
    {
     "name": "stdout",
     "output_type": "stream",
     "text": [
      "Wall time: 1min 48s\n"
     ]
    }
   ],
   "source": [
    "model_artm.initialize(dictionary)\n",
    "%time model_artm.fit_offline(batch_vectorizer=batch_vectorizer, \\\n",
    "                             num_collection_passes=20)"
   ]
  },
  {
   "cell_type": "markdown",
   "metadata": {
    "slideshow": {
     "slide_type": "subslide"
    }
   },
   "source": [
    "Чем отличаются предыдущая модель и эта?"
   ]
  },
  {
   "cell_type": "code",
   "execution_count": 104,
   "metadata": {
    "collapsed": false,
    "scrolled": true,
    "slideshow": {
     "slide_type": "slide"
    }
   },
   "outputs": [
    {
     "name": "stdout",
     "output_type": "stream",
     "text": [
      "topic_0:  badge, ale, brew, brewery, pumpkin, rum, aged, brewing, fund, barrel, chic, patient, donation, dorado, pale\n",
      "topic_1:  dashboard, language, preview, shoot, tiffany, owl, hah, clear, writing, protest, boo, basically, fiction, hoot, loud\n",
      "topic_2:  screening, cinema, press, dance, cancer, sing, empire, enjoying, exhibition, flower, finger, watched, colour, singing, pair\n",
      "topic_3:  ran, pace, traveled, bike, route, cloud, delay, platform, connected, daughter, bound, wife, express, gym, quiz\n",
      "topic_4:  fulham, lad, score, scored, decent, banter, cottage, stadium, joke, sold, current, genuinely, scene, loan, derby\n",
      "topic_5:  workshop, search, technique, croydon, impact, exciting, hub, creative, ace, library, inspiring, speaker, rate, midland, agency\n",
      "topic_6:  teacher, writing, tho, jake, sausage, pupil, gym, block, nearly, literally, straight, ugh, jumper, wigan, stupid\n",
      "topic_7:  berlin, wrote, subject, bill, yea, faith, computer, hack, cloud, chip, privacy, camera, net, type, device\n",
      "topic_8:  spur, champion, peter, hull, score, winning, injury, tho, cricket, scored, captain, stadium, maria, draw, premier\n",
      "topic_9:  bottle, anime, daughter, tho, yoga, enter, cheese, gilly, colour, ship, progress, flavour, simply, dirty, button\n",
      "topic_10:  bacon, roll, drug, leather, master, mick, bali, autumn, delicious, pug, boot, puppy, breathe, yoga, pool\n",
      "topic_11:  finished, homeless, cycling, client, homelessness, edition, executive, taxi, employee, bike, sept, moving, transfer, sock, mission\n",
      "topic_12:  rio, agora, bom, era, sou, tempo, boa, dar, mim, pi, ria, fa, amor, sabe, hora\n",
      "topic_13:  hammersmith, agent, underground, property, estate, church, tube, soul, southern, brent, piccadilly, harrow, jazz, pint, funk\n",
      "topic_14:  bike, teeth, dental, court, cooper, grant, skin, lane, catching, sticker, happening, spur, average, conversation, babe\n",
      "topic_15:  labour, tory, tax, bill, election, debate, political, policy, politics, anti, parliament, poll, gave, claim, nick\n",
      "topic_16:  tout, elle, par, bon, ton, toi, tait, nous, bande, encore, gen, temp, dire, sans, vie\n",
      "topic_17:  curry, location, fancy, joining, pull, invite, roundup, increase, biz, client, swift, consulting, profile, express, charity\n",
      "topic_18:  harry, hospital, giveaway, study, abroad, direction, premiere, perfume, nancy, literally, partnership, babe, concert, soho, clean\n",
      "topic_19:  mac, nope, beta, file, machine, fix, keyboard, computer, fa, button, sense, appreciate, usually, gig, stupid\n",
      "topic_20:  bear, gig, cousin, arm, joke, print, printer, rally, lane, bin, gravity, delay, festive, metal, punk\n",
      "topic_21:  math, hurt, bum, happiness, bae, meant, smell, hide, eh, teacher, finger, meridian, sexy, stupid, balloon\n",
      "topic_22:  wet, lucky, bet, kit, hammer, nearly, hopefully, crap, kick, wave, warm, swim, mum, decent, nope\n",
      "topic_23:  lar, sen, yok, ge, zel, ay, ey, bile, bug, ar, gol, biz, lan, ak, yap\n",
      "topic_24:  lounge, gym, kensington, covent, across, soho, interstellar, berlin, terminal, shadow, village, cape, central, plane, pool\n",
      "topic_25:  hall, writing, fabulous, dutch, knitting, agency, comic, gig, mum, insight, common, enter, bike, jam, gallery\n",
      "topic_26:  sam, aha, ride, bitch, queen, rage, tune, watched, gig, drunk, sugar, sort, literally, annoying, lad\n",
      "topic_27:  automatically, unfollowed, hockey, lord, wharf, abbey, canary, sunny, poppy, nail, partner, laura, cab, florence, festive\n",
      "topic_28:  photography, hong, och, jag, whisky, pew, lightroom, om, barcelona, lounge, bound, bra, energy, gallery, dub\n",
      "topic_29:  galaxy, bucket, nexus, tablet, russia, camera, cant, prime, moon, lollipop, display, sigh, gear, plane, doctor\n",
      "topic_30:  pitch, recipe, marathon, added, delicious, exercise, pumpkin, thanksgiving, panel, yoga, exciting, apply, role, study, inspiration\n",
      "topic_31:  tho, yea, ugh, literally, fandom, prob, agreed, thread, idol, housemate, whatever, nope, gif, honestly, dumb\n",
      "topic_32:  singh, council, shoe, tube, tory, panda, raising, peak, drunk, mum, mayor, labour, perhaps, switch, penguin\n",
      "topic_33:  developer, fir, technology, grace, device, map, hack, testing, writing, classic, fierce, primrose, responsible, wearable, smart\n",
      "topic_34:  cop, idiot, protest, gun, protester, collaboration, officer, racist, anarchy, shooting, religion, fox, brown, science, arse\n",
      "topic_35:  egg, menu, cheese, chicken, dessert, brunch, soho, growing, dish, meat, cooking, sauce, venue, cocktail, fish\n",
      "topic_36:  construction, architect, industry, client, presentation, speaker, survey, process, information, slide, upon, workshop, standard, peter, technology\n",
      "topic_37:  het, wat, nu, zo, nog, engineer, om, competitive, hoe, kan, depending, dit, tot, negotiable, ga\n",
      "topic_38:  berlin, trend, bye, stella, urban, sister, outfit, wearing, nail, peggy, lazy, dress, luxury, forgot, flower\n",
      "topic_39:  kingdom, appreciate, potential, advertising, development, apply, senior, opportunity, engineer, director, interested, terminal, bound, urban, partner\n",
      "topic_40:  growth, trend, technology, marketer, search, consumer, platform, insight, industry, analytics, value, china, global, billion, engagement\n",
      "topic_41:  independence, feminist, interchange, abuse, poll, parent, threat, anti, cork, japan, political, voting, crime, science, journalist\n",
      "topic_42:  barcelona, although, unity, peek, partner, device, hopefully, cloud, royal, seem, security, address, developer, plane, platform\n",
      "topic_43:  nak, dah, yang, kat, pun, apa, mana, baru, orang, main, costa, kan, dari, saya, matey\n",
      "topic_44:  khan, worker, army, election, minister, court, political, protest, province, terrorist, ko, assembly, speaker, president, democracy\n",
      "topic_45:  jack, respect, tribe, seth, innovation, bitch, sister, actor, kim, describe, cant, handsome, lak, drawing, crush\n",
      "topic_46:  hoy, hay, sin, tan, soy, mo, persona, hasta, era, mal, fin, dice, amor, ante, han\n",
      "topic_47:  jest, relationship, frank, flat, ten, pink, scene, destiny, congratulation, exciting, wi, matchmaker, winning, millennium, queen\n",
      "topic_48:  bangkok, martin, center, island, soho, delicious, direction, yummy, gold, shanghai, brunch, bay, bye, gym, bang\n",
      "topic_49:  ich, cocktail, ist, berlin, den, tasting, gin, hat, rum, mal, wir, nach, ber, spirit, bottle\n"
     ]
    }
   ],
   "source": [
    "for topic_name in model_artm.topic_names:\n",
    "    print topic_name + ': ',\n",
    "    print \", \".join(model_artm.score_tracker[\"top_text\"].last_tokens[topic_name])"
   ]
  },
  {
   "cell_type": "code",
   "execution_count": 105,
   "metadata": {
    "collapsed": false,
    "slideshow": {
     "slide_type": "slide"
    }
   },
   "outputs": [],
   "source": [
    "mds = MDS()\n",
    "features = mds.fit_transform(theta_train[model_artm.topic_names].values[:1000, :].astype(np.float64))"
   ]
  },
  {
   "cell_type": "code",
   "execution_count": 106,
   "metadata": {
    "collapsed": false,
    "slideshow": {
     "slide_type": "subslide"
    }
   },
   "outputs": [
    {
     "data": {
      "text/plain": [
       "<matplotlib.collections.PathCollection at 0x1303d5c0>"
      ]
     },
     "execution_count": 106,
     "metadata": {},
     "output_type": "execute_result"
    },
    {
     "data": {
      "image/png": "[encoded data removed]",
      "text/plain": [
       "<matplotlib.figure.Figure at 0x4d87bf60>"
      ]
     },
     "metadata": {},
     "output_type": "display_data"
    }
   ],
   "source": [
    "index = (theta_train[\"gender\"]==\"male\")[:1000].values\n",
    "plt.scatter(features[index, 0], features[index, 1], color=\"red\")\n",
    "index = (theta_train[\"gender\"]==\"female\")[:1000].values\n",
    "plt.scatter(features[index, 0], features[index, 1], color=\"blue\")"
   ]
  },
  {
   "cell_type": "code",
   "execution_count": 85,
   "metadata": {
    "collapsed": false,
    "slideshow": {
     "slide_type": "slide"
    }
   },
   "outputs": [],
   "source": [
    "theta_train = get_theta_with_gender(model_artm, batch_vectorizer, london_train)\n",
    "theta_test = get_theta_with_gender(model_artm, batch_vectorizer_test, london_test)"
   ]
  },
  {
   "cell_type": "code",
   "execution_count": 86,
   "metadata": {
    "collapsed": false,
    "slideshow": {
     "slide_type": "subslide"
    }
   },
   "outputs": [
    {
     "data": {
      "text/plain": [
       "0.76068376068376076"
      ]
     },
     "execution_count": 86,
     "metadata": {},
     "output_type": "execute_result"
    }
   ],
   "source": [
    "rf = KNeighborsClassifier()\n",
    "rf.fit(theta_train[model_artm.topic_names], \n",
    "       theta_train[\"gender\"].map({\"female\":0, \"male\":1}))\n",
    "predict = rf.predict(theta_test[model_artm.topic_names])\n",
    "f1_score(theta_test[\"gender\"].map({\"female\":0, \"male\":1}), predict)"
   ]
  },
  {
   "cell_type": "markdown",
   "metadata": {
    "slideshow": {
     "slide_type": "slide"
    }
   },
   "source": [
    "BigARTM умеет предсказывать значения класса:\n",
    "\n",
    "$p(g|d) = \\sum_{t} p(g|t) p(t|d) = \\sum_{t} \\phi_{gt} \\theta_{td}$"
   ]
  },
  {
   "cell_type": "code",
   "execution_count": 87,
   "metadata": {
    "collapsed": false,
    "slideshow": {
     "slide_type": "subslide"
    }
   },
   "outputs": [],
   "source": [
    "predict_artm = model_artm.transform(batch_vectorizer_test, predict_class_id=\"gender\").T"
   ]
  },
  {
   "cell_type": "code",
   "execution_count": 88,
   "metadata": {
    "collapsed": false,
    "slideshow": {
     "slide_type": "subslide"
    }
   },
   "outputs": [],
   "source": [
    "predict_artm[\"row ID\"] = predict_artm.index\n",
    "predict_artm_with_gender = predict_artm.merge(london_test[[\"gender\", \"row ID\"]], \n",
    "                                              on=\"row ID\")"
   ]
  },
  {
   "cell_type": "code",
   "execution_count": 89,
   "metadata": {
    "collapsed": false,
    "slideshow": {
     "slide_type": "subslide"
    }
   },
   "outputs": [
    {
     "data": {
      "text/plain": [
       "0.78294573643410859"
      ]
     },
     "execution_count": 89,
     "metadata": {},
     "output_type": "execute_result"
    }
   ],
   "source": [
    "f1_score(predict_artm_with_gender[\"gender\"].map({\"female\":0, \"male\":1}), \n",
    "         predict_artm_with_gender[\"male\"]>0.5)"
   ]
  },
  {
   "cell_type": "markdown",
   "metadata": {
    "slideshow": {
     "slide_type": "slide"
    }
   },
   "source": [
    "Посмотрим, как модель соотносит темы и пол пользователя:"
   ]
  },
  {
   "cell_type": "code",
   "execution_count": 90,
   "metadata": {
    "collapsed": true,
    "slideshow": {
     "slide_type": "subslide"
    }
   },
   "outputs": [],
   "source": [
    "phi = model_artm.get_phi(class_ids=[\"gender\"])"
   ]
  },
  {
   "cell_type": "code",
   "execution_count": 91,
   "metadata": {
    "collapsed": false,
    "slideshow": {
     "slide_type": "subslide"
    }
   },
   "outputs": [
    {
     "data": {
      "text/html": [
       "<div>\n",
       "<table border=\"1\" class=\"dataframe\">\n",
       "  <thead>\n",
       "    <tr style=\"text-align: right;\">\n",
       "      <th></th>\n",
       "      <th>topic_0</th>\n",
       "      <th>topic_1</th>\n",
       "      <th>topic_2</th>\n",
       "      <th>topic_3</th>\n",
       "      <th>topic_4</th>\n",
       "      <th>topic_5</th>\n",
       "      <th>topic_6</th>\n",
       "      <th>topic_7</th>\n",
       "      <th>topic_8</th>\n",
       "      <th>topic_9</th>\n",
       "      <th>...</th>\n",
       "      <th>topic_40</th>\n",
       "      <th>topic_41</th>\n",
       "      <th>topic_42</th>\n",
       "      <th>topic_43</th>\n",
       "      <th>topic_44</th>\n",
       "      <th>topic_45</th>\n",
       "      <th>topic_46</th>\n",
       "      <th>topic_47</th>\n",
       "      <th>topic_48</th>\n",
       "      <th>topic_49</th>\n",
       "    </tr>\n",
       "  </thead>\n",
       "  <tbody>\n",
       "    <tr>\n",
       "      <th>male</th>\n",
       "      <td>0.992702</td>\n",
       "      <td>0.999996</td>\n",
       "      <td>0.00001</td>\n",
       "      <td>1.000000e+00</td>\n",
       "      <td>1.000000e+00</td>\n",
       "      <td>0.000003</td>\n",
       "      <td>0.999988</td>\n",
       "      <td>1.000000e+00</td>\n",
       "      <td>1.000000e+00</td>\n",
       "      <td>1.000000e+00</td>\n",
       "      <td>...</td>\n",
       "      <td>1.000000e+00</td>\n",
       "      <td>1.000000e+00</td>\n",
       "      <td>1</td>\n",
       "      <td>1.000000e+00</td>\n",
       "      <td>1.000000e+00</td>\n",
       "      <td>2.436286e-15</td>\n",
       "      <td>5.211973e-07</td>\n",
       "      <td>1.109299e-13</td>\n",
       "      <td>1.000000e+00</td>\n",
       "      <td>1.000000e+00</td>\n",
       "    </tr>\n",
       "    <tr>\n",
       "      <th>female</th>\n",
       "      <td>0.007298</td>\n",
       "      <td>0.000004</td>\n",
       "      <td>0.99999</td>\n",
       "      <td>4.372152e-16</td>\n",
       "      <td>5.825128e-11</td>\n",
       "      <td>0.999997</td>\n",
       "      <td>0.000012</td>\n",
       "      <td>9.047643e-14</td>\n",
       "      <td>1.760400e-10</td>\n",
       "      <td>9.160315e-13</td>\n",
       "      <td>...</td>\n",
       "      <td>7.161265e-11</td>\n",
       "      <td>1.903917e-08</td>\n",
       "      <td>0</td>\n",
       "      <td>6.371013e-10</td>\n",
       "      <td>9.960633e-10</td>\n",
       "      <td>1.000000e+00</td>\n",
       "      <td>9.999995e-01</td>\n",
       "      <td>1.000000e+00</td>\n",
       "      <td>9.172352e-10</td>\n",
       "      <td>8.733173e-13</td>\n",
       "    </tr>\n",
       "  </tbody>\n",
       "</table>\n",
       "<p>2 rows × 50 columns</p>\n",
       "</div>"
      ],
      "text/plain": [
       "         topic_0   topic_1  topic_2       topic_3       topic_4   topic_5  \\\n",
       "male    0.992702  0.999996  0.00001  1.000000e+00  1.000000e+00  0.000003   \n",
       "female  0.007298  0.000004  0.99999  4.372152e-16  5.825128e-11  0.999997   \n",
       "\n",
       "         topic_6       topic_7       topic_8       topic_9      ...       \\\n",
       "male    0.999988  1.000000e+00  1.000000e+00  1.000000e+00      ...        \n",
       "female  0.000012  9.047643e-14  1.760400e-10  9.160315e-13      ...        \n",
       "\n",
       "            topic_40      topic_41  topic_42      topic_43      topic_44  \\\n",
       "male    1.000000e+00  1.000000e+00         1  1.000000e+00  1.000000e+00   \n",
       "female  7.161265e-11  1.903917e-08         0  6.371013e-10  9.960633e-10   \n",
       "\n",
       "            topic_45      topic_46      topic_47      topic_48      topic_49  \n",
       "male    2.436286e-15  5.211973e-07  1.109299e-13  1.000000e+00  1.000000e+00  \n",
       "female  1.000000e+00  9.999995e-01  1.000000e+00  9.172352e-10  8.733173e-13  \n",
       "\n",
       "[2 rows x 50 columns]"
      ]
     },
     "execution_count": 91,
     "metadata": {},
     "output_type": "execute_result"
    }
   ],
   "source": [
    "phi"
   ]
  },
  {
   "cell_type": "code",
   "execution_count": 92,
   "metadata": {
    "collapsed": false,
    "slideshow": {
     "slide_type": "slide"
    }
   },
   "outputs": [
    {
     "name": "stdout",
     "output_type": "stream",
     "text": [
      "male (0.992702):  badge, ale, brew, brewery, pumpkin, rum, aged, brewing, fund, barrel, chic, patient, donation, dorado, pale\n",
      "male (0.999996):  dashboard, language, preview, shoot, tiffany, owl, hah, clear, writing, protest, boo, basically, fiction, hoot, loud\n",
      "female (0.999990):  screening, cinema, press, dance, cancer, sing, empire, enjoying, exhibition, flower, finger, watched, colour, singing, pair\n",
      "male (1.000000):  ran, pace, traveled, bike, route, cloud, delay, platform, connected, daughter, bound, wife, express, gym, quiz\n",
      "male (1.000000):  fulham, lad, score, scored, decent, banter, cottage, stadium, joke, sold, current, genuinely, scene, loan, derby\n",
      "female (0.999997):  workshop, search, technique, croydon, impact, exciting, hub, creative, ace, library, inspiring, speaker, rate, midland, agency\n",
      "male (0.999988):  teacher, writing, tho, jake, sausage, pupil, gym, block, nearly, literally, straight, ugh, jumper, wigan, stupid\n",
      "male (1.000000):  berlin, wrote, subject, bill, yea, faith, computer, hack, cloud, chip, privacy, camera, net, type, device\n",
      "male (1.000000):  spur, champion, peter, hull, score, winning, injury, tho, cricket, scored, captain, stadium, maria, draw, premier\n",
      "male (1.000000):  bottle, anime, daughter, tho, yoga, enter, cheese, gilly, colour, ship, progress, flavour, simply, dirty, button\n",
      "female (1.000000):  bacon, roll, drug, leather, master, mick, bali, autumn, delicious, pug, boot, puppy, breathe, yoga, pool\n",
      "male (1.000000):  finished, homeless, cycling, client, homelessness, edition, executive, taxi, employee, bike, sept, moving, transfer, sock, mission\n",
      "female (0.609697):  rio, agora, bom, era, sou, tempo, boa, dar, mim, pi, ria, fa, amor, sabe, hora\n",
      "male (1.000000):  hammersmith, agent, underground, property, estate, church, tube, soul, southern, brent, piccadilly, harrow, jazz, pint, funk\n",
      "male (1.000000):  bike, teeth, dental, court, cooper, grant, skin, lane, catching, sticker, happening, spur, average, conversation, babe\n",
      "male (1.000000):  labour, tory, tax, bill, election, debate, political, policy, politics, anti, parliament, poll, gave, claim, nick\n",
      "male (0.999985):  tout, elle, par, bon, ton, toi, tait, nous, bande, encore, gen, temp, dire, sans, vie\n",
      "male (1.000000):  curry, location, fancy, joining, pull, invite, roundup, increase, biz, client, swift, consulting, profile, express, charity\n",
      "female (1.000000):  harry, hospital, giveaway, study, abroad, direction, premiere, perfume, nancy, literally, partnership, babe, concert, soho, clean\n",
      "male (1.000000):  mac, nope, beta, file, machine, fix, keyboard, computer, fa, button, sense, appreciate, usually, gig, stupid\n",
      "male (1.000000):  bear, gig, cousin, arm, joke, print, printer, rally, lane, bin, gravity, delay, festive, metal, punk\n",
      "female (0.511747):  math, hurt, bum, happiness, bae, meant, smell, hide, eh, teacher, finger, meridian, sexy, stupid, balloon\n",
      "female (0.851041):  wet, lucky, bet, kit, hammer, nearly, hopefully, crap, kick, wave, warm, swim, mum, decent, nope\n",
      "male (1.000000):  lar, sen, yok, ge, zel, ay, ey, bile, bug, ar, gol, biz, lan, ak, yap\n",
      "male (1.000000):  lounge, gym, kensington, covent, across, soho, interstellar, berlin, terminal, shadow, village, cape, central, plane, pool\n",
      "female (1.000000):  hall, writing, fabulous, dutch, knitting, agency, comic, gig, mum, insight, common, enter, bike, jam, gallery\n",
      "male (1.000000):  sam, aha, ride, bitch, queen, rage, tune, watched, gig, drunk, sugar, sort, literally, annoying, lad\n",
      "female (1.000000):  automatically, unfollowed, hockey, lord, wharf, abbey, canary, sunny, poppy, nail, partner, laura, cab, florence, festive\n",
      "male (1.000000):  photography, hong, och, jag, whisky, pew, lightroom, om, barcelona, lounge, bound, bra, energy, gallery, dub\n",
      "male (0.999902):  galaxy, bucket, nexus, tablet, russia, camera, cant, prime, moon, lollipop, display, sigh, gear, plane, doctor\n",
      "female (1.000000):  pitch, recipe, marathon, added, delicious, exercise, pumpkin, thanksgiving, panel, yoga, exciting, apply, role, study, inspiration\n",
      "female (0.999227):  tho, yea, ugh, literally, fandom, prob, agreed, thread, idol, housemate, whatever, nope, gif, honestly, dumb\n",
      "male (0.999991):  singh, council, shoe, tube, tory, panda, raising, peak, drunk, mum, mayor, labour, perhaps, switch, penguin\n",
      "male (1.000000):  developer, fir, technology, grace, device, map, hack, testing, writing, classic, fierce, primrose, responsible, wearable, smart\n",
      "male (1.000000):  cop, idiot, protest, gun, protester, collaboration, officer, racist, anarchy, shooting, religion, fox, brown, science, arse\n",
      "female (0.994068):  egg, menu, cheese, chicken, dessert, brunch, soho, growing, dish, meat, cooking, sauce, venue, cocktail, fish\n",
      "male (0.998261):  construction, architect, industry, client, presentation, speaker, survey, process, information, slide, upon, workshop, standard, peter, technology\n",
      "female (0.999999):  het, wat, nu, zo, nog, engineer, om, competitive, hoe, kan, depending, dit, tot, negotiable, ga\n",
      "female (0.999999):  berlin, trend, bye, stella, urban, sister, outfit, wearing, nail, peggy, lazy, dress, luxury, forgot, flower\n",
      "male (1.000000):  kingdom, appreciate, potential, advertising, development, apply, senior, opportunity, engineer, director, interested, terminal, bound, urban, partner\n",
      "male (1.000000):  growth, trend, technology, marketer, search, consumer, platform, insight, industry, analytics, value, china, global, billion, engagement\n",
      "male (1.000000):  independence, feminist, interchange, abuse, poll, parent, threat, anti, cork, japan, political, voting, crime, science, journalist\n",
      "male (1.000000):  barcelona, although, unity, peek, partner, device, hopefully, cloud, royal, seem, security, address, developer, plane, platform\n",
      "male (1.000000):  nak, dah, yang, kat, pun, apa, mana, baru, orang, main, costa, kan, dari, saya, matey\n",
      "male (1.000000):  khan, worker, army, election, minister, court, political, protest, province, terrorist, ko, assembly, speaker, president, democracy\n",
      "female (1.000000):  jack, respect, tribe, seth, innovation, bitch, sister, actor, kim, describe, cant, handsome, lak, drawing, crush\n",
      "female (0.999999):  hoy, hay, sin, tan, soy, mo, persona, hasta, era, mal, fin, dice, amor, ante, han\n",
      "female (1.000000):  jest, relationship, frank, flat, ten, pink, scene, destiny, congratulation, exciting, wi, matchmaker, winning, millennium, queen\n",
      "male (1.000000):  bangkok, martin, center, island, soho, delicious, direction, yummy, gold, shanghai, brunch, bay, bye, gym, bang\n",
      "male (1.000000):  ich, cocktail, ist, berlin, den, tasting, gin, hat, rum, mal, wir, nach, ber, spirit, bottle\n"
     ]
    }
   ],
   "source": [
    "for topic_name in model_artm.topic_names:\n",
    "    print phi[topic_name].argmax(), \"(%3f): \" % phi[topic_name].max(),\n",
    "    print \", \".join(model_artm.score_tracker[\"top_text\"].last_tokens[topic_name])"
   ]
  },
  {
   "cell_type": "markdown",
   "metadata": {
    "slideshow": {
     "slide_type": "slide"
    }
   },
   "source": [
    "Визуализируем $\\phi_{gt}$"
   ]
  },
  {
   "cell_type": "code",
   "execution_count": 93,
   "metadata": {
    "collapsed": false,
    "slideshow": {
     "slide_type": "subslide"
    }
   },
   "outputs": [
    {
     "data": {
      "text/plain": [
       "<matplotlib.text.Text at 0x12fb55c0>"
      ]
     },
     "execution_count": 93,
     "metadata": {},
     "output_type": "execute_result"
    },
    {
     "data": {
      "image/png": "[encoded data removed]",
      "text/plain": [
       "<matplotlib.figure.Figure at 0x5aecccc0>"
      ]
     },
     "metadata": {},
     "output_type": "display_data"
    }
   ],
   "source": [
    "plt.scatter(phi.T[\"male\"], phi.T[\"female\"], alpha=0.3)\n",
    "plt.xlabel(\"p (male | topic)\")\n",
    "plt.ylabel(\"p (female | topic)\")"
   ]
  },
  {
   "cell_type": "markdown",
   "metadata": {
    "slideshow": {
     "slide_type": "subslide"
    }
   },
   "source": [
    "Практически все темы \"моногендерные\""
   ]
  },
  {
   "cell_type": "markdown",
   "metadata": {
    "slideshow": {
     "slide_type": "slide"
    }
   },
   "source": [
    "Добавим разреживание:"
   ]
  },
  {
   "cell_type": "code",
   "execution_count": 94,
   "metadata": {
    "collapsed": true,
    "slideshow": {
     "slide_type": "subslide"
    }
   },
   "outputs": [],
   "source": [
    "modals = [\"@text\", \"@day\", \"@venue_categories\", \"@images\", \"@hashtags\"]\n",
    "T = 50\n",
    "model_artm = artm.ARTM(num_topics=T, \n",
    "                      class_ids={\"@text\":1, \"@day\":1, \"@venue_categories\":1, \\\n",
    "                                 \"@venue_name\":1, \"@images\":1, \"@hashtags\":1,\n",
    "                                 \"gender\":100},\n",
    "                      num_document_passes=10,\n",
    "                      seed=867)\n",
    "model_artm.scores.add(artm.PerplexityScore(name='PerplexityScore'))\n",
    "model_artm.scores.add(artm.SparsityPhiScore(name='SparsityPhiScore'))\n",
    "model_artm.scores.add(artm.SparsityThetaScore(name='SparsityThetaScore'))\n",
    "for mod in modals:\n",
    "    model_artm.scores.add(artm.TopTokensScore(name=\"top_\"+mod[1:], \n",
    "                                              num_tokens=15, \n",
    "                                              class_id=mod))"
   ]
  },
  {
   "cell_type": "code",
   "execution_count": 95,
   "metadata": {
    "collapsed": false,
    "slideshow": {
     "slide_type": "slide"
    }
   },
   "outputs": [
    {
     "name": "stdout",
     "output_type": "stream",
     "text": [
      "Wall time: 55 s\n"
     ]
    }
   ],
   "source": [
    "model_artm.initialize(dictionary)\n",
    "%time model_artm.fit_offline(batch_vectorizer=batch_vectorizer, \\\n",
    "                             num_collection_passes=10)"
   ]
  },
  {
   "cell_type": "code",
   "execution_count": 96,
   "metadata": {
    "collapsed": true,
    "slideshow": {
     "slide_type": "subslide"
    }
   },
   "outputs": [],
   "source": [
    "model_artm.regularizers.add(artm.SmoothSparsePhiRegularizer(name='SparsePhi', \n",
    "                                                            tau=-5*1e5, \n",
    "                                                            dictionary=\"dictionary\",\n",
    "                                                           class_ids=[\"@text\"]))"
   ]
  },
  {
   "cell_type": "code",
   "execution_count": 97,
   "metadata": {
    "collapsed": false,
    "slideshow": {
     "slide_type": "subslide"
    }
   },
   "outputs": [
    {
     "name": "stdout",
     "output_type": "stream",
     "text": [
      "Wall time: 1min 1s\n"
     ]
    }
   ],
   "source": [
    "%time model_artm.fit_offline(batch_vectorizer=batch_vectorizer, \\\n",
    "                             num_collection_passes=10)"
   ]
  },
  {
   "cell_type": "code",
   "execution_count": 98,
   "metadata": {
    "collapsed": false,
    "slideshow": {
     "slide_type": "slide"
    }
   },
   "outputs": [
    {
     "name": "stdout",
     "output_type": "stream",
     "text": [
      "male (0.992702):  badge, ale, taste, brew, flying, pumpkin, aged, fund, brewery, fruit, honey, farm, smoke, camp, pale\n",
      "male (0.999996):  shoot, hero, preview, clear, mo, studio, merry, loud, speak, dashboard, color, hah, brown, boo, peace\n",
      "female (0.999990):  dance, cinema, sing, surprise, cancer, screening, press, middle, singing, queen, colour, pair, bird, tune, scary\n",
      "male (1.000000):  route, ran, delay, pace, leaving, private, platform, bike, traveled, speed, given, delivery, wife, quiz, despite\n",
      "male (1.000000):  fulham, lad, current, joke, decent, sold, score, terrible, banter, absolute, cottage, condition, honest, draw, scene\n",
      "female (0.999997):  workshop, exciting, search, library, creative, inspiring, involved, truly, hub, technique, focus, ace, rate, nature, avoid\n",
      "male (0.999988):  writing, block, teacher, truly, character, straight, nearly, beyond, yr, fantasy, sausage, jake, chap, treat, lord\n",
      "male (1.000000):  chip, wrote, type, faith, german, subject, camera, recently, cook, surprise, large, stock, computer, bill, known\n",
      "male (1.000000):  winning, champion, score, peter, spur, stadium, legend, premier, captain, draw, injury, hull, coach, kick, cricket\n",
      "male (1.000000):  bottle, enter, daughter, ship, colour, skill, button, selling, simply, longer, anime, dirty, cheese, progress, rail\n",
      "female (1.000000):  roll, bacon, animal, drug, autumn, master, natural, banana, leather, sandwich, princess, toy, heaven, potato, puppy\n",
      "male (1.000000):  finished, moving, homeless, taxi, client, cycling, helping, edition, mission, sept, donate, sock, celebrate, youth, executive\n",
      "female (0.609697):  rio, agora, bom, era, pi, sou, tempo, boa, dar, fa, ria, mim, po, chi, tutti\n",
      "male (1.000000):  tube, underground, agent, hammersmith, church, property, earth, mix, estate, piccadilly, soul, royal, jazz, pint, district\n",
      "male (1.000000):  court, bike, conversation, lane, happening, catching, twice, lion, teeth, begin, strange, average, skin, exciting, sticker\n",
      "male (1.000000):  labour, bill, debate, tory, policy, claim, gave, capital, response, anti, former, speech, major, ex, wale\n",
      "male (0.999985):  par, tout, elle, bon, ton, toi, nous, tait, gen, encore, marvel, teaser, bande, sans, temp\n",
      "male (1.000000):  fancy, invite, spent, location, pull, curry, joining, somewhere, holding, option, reminder, charity, setting, express, feed\n",
      "female (1.000000):  harry, hospital, concert, study, college, queen, direction, premiere, wake, giveaway, middle, female, broke, clean, doctor\n",
      "male (1.000000):  mac, sense, fix, original, button, machine, file, currently, completely, keyboard, unfortunately, possible, act, expect, mail\n",
      "male (1.000000):  bear, gig, arm, print, shout, festival, metal, bin, hip, floor, proper, slightly, joke, terrible, mostly\n",
      "female (0.511747):  hurt, eh, meant, happiness, mistake, mouth, math, taste, finger, smell, bae, hide, laugh, everyday, regret\n",
      "female (0.851041):  lucky, bet, nearly, shame, warm, hopefully, wet, mum, proper, foot, load, crap, wave, kick, kit\n",
      "male (1.000000):  sen, lar, yok, ge, zel, ay, ar, ey, bug, bile, gol, lan, biz, mu, ak\n",
      "male (1.000000):  gym, across, soho, lounge, interstellar, covent, gate, kensington, village, plane, bush, central, shadow, shepherd, terminal\n",
      "female (1.000000):  hall, festival, fabulous, stunning, common, poster, exhibition, dutch, enter, flower, comic, enjoying, jam, gallery, gig\n",
      "male (1.000000):  sam, watched, sort, ride, wearing, although, forgot, knew, drunk, load, decided, actual, stuck, silly, alright\n",
      "female (1.000000):  automatically, unfollowed, nail, lord, festive, sunny, wharf, alan, abbey, pool, canary, poppy, cab, hanging, laura\n",
      "male (1.000000):  photography, hong, wall, land, magazine, according, och, jag, energy, resort, terminal, landed, bound, whisky, gallery\n",
      "male (0.999902):  bucket, galaxy, nexus, camera, ex, russia, plane, lollipop, moon, tablet, gear, cant, biggest, prime, crash\n",
      "female (1.000000):  added, delicious, recipe, treat, marathon, pitch, thanksgiving, milk, guest, kitchen, competition, healthy, exercise, finish, cream\n",
      "female (0.999227):  tho, literally, ugh, whatever, knew, agreed, stupid, dare, normal, honestly, yea, basically, unless, type, opinion\n",
      "male (0.999991):  shoe, thats, council, mum, suit, whilst, drunk, keeping, anywhere, singh, awake, clearly, colour, certain, switch\n",
      "male (1.000000):  developer, cloud, technology, device, map, security, smart, testing, hack, summit, fi, robot, difference, classic, china\n",
      "male (1.000000):  gun, shut, cop, killing, idiot, racist, decision, sick, officer, fox, shooting, brown, wife, standing, religion\n",
      "female (0.994068):  egg, chicken, cheese, fish, menu, cooking, meat, brunch, opening, sauce, roast, pork, growing, dessert, venue\n",
      "male (0.998261):  standard, industry, speaking, presentation, often, speaker, construction, information, designer, slide, upon, process, term, survey, client\n",
      "female (0.999999):  het, wat, nu, engineer, zo, om, nog, competitive, studio, lee, hoe, musical, depending, kan, ga\n",
      "female (0.999999):  berlin, palace, wearing, sister, trend, bye, stella, quote, urban, jean, royal, mix, shoe, rose, luxury\n",
      "male (1.000000):  appreciate, kingdom, interested, director, table, opportunity, apply, potential, wood, partner, longer, development, talent, exclusive, prize\n",
      "male (1.000000):  value, global, growth, trend, platform, search, billion, research, insight, management, technology, advice, expert, improve, study\n",
      "male (1.000000):  parent, language, independence, letter, oil, abuse, crime, voting, freedom, fear, union, feminist, century, japan, brain\n",
      "male (1.000000):  barcelona, board, although, flying, charge, hopefully, seem, machine, speak, pack, address, plane, royal, leaving, smart\n",
      "male (1.000000):  nak, dah, yang, kat, pun, apa, main, costa, mana, baru, orang, dari, kan, saya, throwback\n",
      "male (1.000000):  worker, khan, army, minister, president, election, court, protest, terrorist, victim, political, force, chief, demand, parliament\n",
      "female (1.000000):  respect, jack, kim, mad, cant, bitch, sister, crush, handsome, wake, famous, born, deserve, singer, seth\n",
      "female (0.999999):  hoy, hay, sin, tan, mo, soy, persona, mal, hasta, era, dice, fin, amor, ante, han\n",
      "female (1.000000):  ten, collection, pink, scene, flat, moon, relationship, soul, lecture, frank, wild, carry, holy, coat, prince\n",
      "male (1.000000):  martin, island, gold, center, bay, bangkok, direction, bang, yummy, repost, palm, pie, bond, shanghai, plaza\n",
      "male (1.000000):  cocktail, ich, berlin, hat, gin, tasting, ist, den, bottle, crew, spirit, rum, main, tag, mail\n"
     ]
    }
   ],
   "source": [
    "for topic_name in model_artm.topic_names:\n",
    "    print phi[topic_name].argmax(), \"(%3f): \" % phi[topic_name].max(),\n",
    "    print \", \".join(model_artm.score_tracker[\"top_text\"].last_tokens[topic_name])"
   ]
  },
  {
   "cell_type": "code",
   "execution_count": 99,
   "metadata": {
    "collapsed": true,
    "slideshow": {
     "slide_type": "slide"
    }
   },
   "outputs": [],
   "source": [
    "model_artm.theta_columns_naming = \"title\"\n",
    "predict_artm = model_artm.transform(batch_vectorizer_test, predict_class_id=\"gender\").T\n",
    "predict_artm[\"row ID\"] = predict_artm.index\n",
    "predict_artm_with_gender = predict_artm.merge(london_test[[\"gender\", \"row ID\"]], \n",
    "                                              on=\"row ID\")"
   ]
  },
  {
   "cell_type": "code",
   "execution_count": 100,
   "metadata": {
    "collapsed": false,
    "slideshow": {
     "slide_type": "subslide"
    }
   },
   "outputs": [
    {
     "data": {
      "text/plain": [
       "0.8045977011494253"
      ]
     },
     "execution_count": 100,
     "metadata": {},
     "output_type": "execute_result"
    }
   ],
   "source": [
    "f1_score(predict_artm_with_gender[\"gender\"].map({\"female\":0, \"male\":1}), \n",
    "         predict_artm_with_gender[\"male\"]>0.5)"
   ]
  },
  {
   "cell_type": "markdown",
   "metadata": {
    "slideshow": {
     "slide_type": "slide"
    }
   },
   "source": [
    "Добавим регуляризатор декорреляции:"
   ]
  },
  {
   "cell_type": "code",
   "execution_count": 101,
   "metadata": {
    "collapsed": false,
    "slideshow": {
     "slide_type": "subslide"
    }
   },
   "outputs": [
    {
     "name": "stdout",
     "output_type": "stream",
     "text": [
      "Wall time: 1min 2s\n",
      "Wall time: 1min 1s\n"
     ]
    },
    {
     "data": {
      "text/plain": [
       "0.8045977011494253"
      ]
     },
     "execution_count": 101,
     "metadata": {},
     "output_type": "execute_result"
    }
   ],
   "source": [
    "modals = [\"@text\", \"@day\", \"@venue_categories\", \"@images\", \"@hashtags\"]\n",
    "T = 50\n",
    "model_artm = artm.ARTM(num_topics=T, \n",
    "                      class_ids={\"@text\":1, \"@day\":1, \"@venue_categories\":1, \\\n",
    "                                 \"@venue_name\":1, \"@images\":1, \"@hashtags\":1,\n",
    "                                 \"gender\":100},\n",
    "                      num_document_passes=10,\n",
    "                      seed=867)\n",
    "model_artm.scores.add(artm.PerplexityScore(name='PerplexityScore'))\n",
    "model_artm.scores.add(artm.SparsityPhiScore(name='SparsityPhiScore'))\n",
    "model_artm.scores.add(artm.SparsityThetaScore(name='SparsityThetaScore'))\n",
    "for mod in modals:\n",
    "    model_artm.scores.add(artm.TopTokensScore(name=\"top_\"+mod[1:], num_tokens=15, class_id=mod))\n",
    "model_artm.initialize(dictionary)\n",
    "model_artm.regularizers.add(artm.DecorrelatorPhiRegularizer(name='DecPhi', \n",
    "                                                            tau=10**5,\n",
    "                                                           class_ids=[\"@text\"]))\n",
    "%time model_artm.fit_offline(batch_vectorizer=batch_vectorizer, \\\n",
    "                             num_collection_passes=10)\n",
    "model_artm.regularizers.add(artm.SmoothSparsePhiRegularizer(name='SparsePhi', \n",
    "                                                            tau=-5*1e5, \n",
    "                                                            dictionary=\"dictionary\",\n",
    "                                                           class_ids=[\"@text\"]))\n",
    "%time model_artm.fit_offline(batch_vectorizer=batch_vectorizer, \\\n",
    "                             num_collection_passes=10)\n",
    "model_artm.theta_columns_naming = \"title\"\n",
    "predict_artm = model_artm.transform(batch_vectorizer_test, \n",
    "                                    predict_class_id=\"gender\").T\n",
    "predict_artm[\"row ID\"] = predict_artm.index\n",
    "predict_artm_with_gender = predict_artm.merge(london_test[[\"gender\", \"row ID\"]], \n",
    "                                              on=\"row ID\")\n",
    "f1_score(predict_artm_with_gender[\"gender\"].map({\"female\":0, \"male\":1}), \n",
    "         predict_artm_with_gender[\"male\"]>0.5)"
   ]
  },
  {
   "cell_type": "markdown",
   "metadata": {
    "slideshow": {
     "slide_type": "slide"
    }
   },
   "source": [
    "__Итого:__\n",
    "* Модальности позволяют инкорпорировать разные типы данных в одной модели\n",
    "* Регуляризаторы улучшают качество модели\n",
    "* Добаление целевого признака в качестве модальности:\n",
    "    * позволяет строить ориентированные на целевой признак темы\n",
    "    * автоматически настраивает параметры линейной модели для прогнозирования целевого признака\n",
    "* Открытый вопрос: как оценивать качество модели?"
   ]
  },
  {
   "cell_type": "markdown",
   "metadata": {
    "slideshow": {
     "slide_type": "slide"
    }
   },
   "source": [
    "__Что еще для исследования:__\n",
    "* Мы не анализировали темы:\n",
    "     * верно ли модель определяет \"гендерность\" темы? (визуализация)\n",
    "     * поиск неочевидных сочетаний тема-пол\n",
    "     * поиск \"оригинальных\" пользователей\n",
    "* Дальнейшая переориентация модели на целевой признак:\n",
    "     * поиск перманентных тем - сглаживающий регуляризатор для модальности времени\n",
    "     * создание словаря \"гендерных\" слов и создание отдельной модальности с этими словами (с большим весм)\n",
    "     \n",
    "__Что еще для предсказания признака:__   \n",
    "* Настройка параметров: веса модальностей, коэффициенты регуляризации, число тем...\n",
    "* Другие признаки (обычно тематические профили  добавляют к исходным признакам)\n",
    "* Другие алгоритмы классификации (деервья, случайные леса, нейросети...)\n",
    "* Композиции алгоритмов"
   ]
  }
 ],
 "metadata": {
  "celltoolbar": "Slideshow",
  "kernelspec": {
   "display_name": "Python 2",
   "language": "python",
   "name": "python2"
  },
  "language_info": {
   "codemirror_mode": {
    "name": "ipython",
    "version": 2
   },
   "file_extension": ".py",
   "mimetype": "text/x-python",
   "name": "python",
   "nbconvert_exporter": "python",
   "pygments_lexer": "ipython2",
   "version": "2.7.12"
  }
 },
 "nbformat": 4,
 "nbformat_minor": 0
}
