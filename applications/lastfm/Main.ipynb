{
 "cells": [
  {
   "cell_type": "markdown",
   "metadata": {},
   "source": [
    "# Last.fm: тематическая структура плейлистов пользователей\n",
    "\n",
    "## Задачи\n",
    "\n",
    "Наборы данных: [Oscar Celma's Last.fm Music Recommendation Dataset](http://www.dtic.upf.edu/~ocelma/MusicRecommendationDataset/)\n",
    "\n",
    "1. вывести топы артистов по темам, убедиться что темы образуют вполне себе жанры и направления в музыке\n",
    "2. выделить попсятину и вирусных артистов при помощи регуляризаторов\n",
    "3. сделать функцию, которая по артисту предлагает похожих, продемонстрировать ее работу на примере (прототип рекомендательной системы)\n",
    "4. сделать функцию, которая по пользователю предлагает ранжированный список артистов, которые похожи по темам на плейлист пользователя, но не входят в него; продемонстрировать ее работу на примере.\n",
    "5. прикрутить [LDAvis](https://github.com/cpsievert/LDAvis) к построенной тематической модели\n",
    "6. построить карту артистов при помощи [t-SNE как у Эрика](http://erikbern.com/page/5/)\n",
    "7. попробовать сделать сравнение качества рекомендаций (функция из пункта 4) внешними метриками качества рекомендаций, сделать бенчмарк в общем; если это удастся — будет численный результат для добавления в публикацию. "
   ]
  },
  {
   "cell_type": "code",
   "execution_count": null,
   "metadata": {
    "collapsed": true
   },
   "outputs": [],
   "source": []
  }
 ],
 "metadata": {
  "kernelspec": {
   "display_name": "Python 2",
   "language": "python",
   "name": "python2"
  },
  "language_info": {
   "codemirror_mode": {
    "name": "ipython",
    "version": 2
   },
   "file_extension": ".py",
   "mimetype": "text/x-python",
   "name": "python",
   "nbconvert_exporter": "python",
   "pygments_lexer": "ipython2",
   "version": "2.7.8"
  }
 },
 "nbformat": 4,
 "nbformat_minor": 0
}
