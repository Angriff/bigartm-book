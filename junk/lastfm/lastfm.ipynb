{
 "cells": [
  {
   "cell_type": "markdown",
   "metadata": {},
   "source": [
    "## Тематическая модель на данных Last.fm"
   ]
  },
  {
   "cell_type": "markdown",
   "metadata": {},
   "source": [
    "Сначала настраиваем и подключаем нужные библиотеки"
   ]
  },
  {
   "cell_type": "code",
   "execution_count": 1,
   "metadata": {
    "collapsed": true
   },
   "outputs": [],
   "source": [
    "import os\n",
    "import sys\n",
    "HOME = '/home/vovapolu/Projects/'\n",
    "BIGARTM_PATH = HOME + 'bigartm/'\n",
    "BIGARTM_BUILD_PATH = BIGARTM_PATH + 'build/'\n",
    "sys.path.append(os.path.join(BIGARTM_PATH, 'src/python'))\n",
    "os.environ['ARTM_SHARED_LIBRARY'] = os.path.join(BIGARTM_BUILD_PATH, 'src/artm/libartm.so')"
   ]
  },
  {
   "cell_type": "markdown",
   "metadata": {},
   "source": [
    "Теперь создаем батч и map'ы для исполнителей"
   ]
  },
  {
   "cell_type": "code",
   "execution_count": 2,
   "metadata": {
    "collapsed": true
   },
   "outputs": [],
   "source": [
    "import artm.messages_pb2, artm.library, uuid\n",
    "import csv\n",
    "\n",
    "plays_file = 'usersha1-artmbid-artname-plays.tsv'\n",
    "\n",
    "batch = artm.messages_pb2.Batch()\n",
    "batch.id = str(uuid.uuid4())\n",
    "artist_id_to_name = {}\n",
    "artists_idxs = {}\n",
    "artists = []"
   ]
  },
  {
   "cell_type": "markdown",
   "metadata": {},
   "source": [
    "Читаем файл и строим батч"
   ]
  },
  {
   "cell_type": "code",
   "execution_count": null,
   "metadata": {
    "collapsed": false,
    "scrolled": true
   },
   "outputs": [],
   "source": [
    "last_user_id = ''\n",
    "now_item_id = 0\n",
    "\n",
    "users_to_handle = 5000\n",
    "\n",
    "with open(plays_file, 'rb') as tsvin:\n",
    "    tsvin = csv.reader(tsvin, delimiter='\\t')\n",
    "\n",
    "    field = None\n",
    "\n",
    "    for row in tsvin:\n",
    "\n",
    "        if now_item_id > users_to_handle:\n",
    "            break\n",
    "\n",
    "        user_id, artist_id, artist_name, plays = row\n",
    "        if artist_id not in artists:\n",
    "            artist_id_to_name[artist_id] = artist_name\n",
    "            artists_idxs[artist_id] = len(artists)\n",
    "            artists.append(artist_name)\n",
    "\n",
    "        if user_id != last_user_id:\n",
    "            item = batch.item.add()\n",
    "            item.id = now_item_id\n",
    "            now_item_id += 1\n",
    "\n",
    "            field = item.field.add()\n",
    "\n",
    "            last_user_id = user_id\n",
    "\n",
    "        field.token_id.append(artists_idxs[artist_id])\n",
    "        field.token_count.append(int(plays))\n",
    "\n",
    "for artist in artists:\n",
    "    try:\n",
    "        ascii_artist = artist.decode('ascii')\n",
    "    except UnicodeDecodeError:\n",
    "        print artist\n",
    "        print \"it was not a ascii-encoded unicode string\"\n",
    "        print \"added empty string as artist name\"\n",
    "        batch.token.append('')\n",
    "    else:\n",
    "        batch.token.append(ascii_artist)"
   ]
  },
  {
   "cell_type": "markdown",
   "metadata": {},
   "source": [
    "Запускаем BigArtm"
   ]
  },
  {
   "cell_type": "code",
   "execution_count": 4,
   "metadata": {
    "collapsed": false
   },
   "outputs": [
    {
     "name": "stdout",
     "output_type": "stream",
     "text": [
      "Iteration#0: Perplexity = 0.000\n",
      "Iteration#1: Perplexity = 13289.567\n",
      "Iteration#2: Perplexity = 3592.548\n",
      "Iteration#3: Perplexity = 1486.924\n",
      "Iteration#4: Perplexity = 870.014\n",
      "Iteration#5: Perplexity = 617.223\n",
      "Iteration#6: Perplexity = 487.607\n",
      "Iteration#7: Perplexity = 410.929\n",
      "Iteration#8: Perplexity = 360.966\n",
      "Iteration#9: Perplexity = 326.116\n",
      "Iteration#10: Perplexity = 300.567\n",
      "Iteration#11: Perplexity = 281.101\n",
      "Iteration#12: Perplexity = 265.806\n",
      "Iteration#13: Perplexity = 253.489\n",
      "Iteration#14: Perplexity = 243.365\n",
      "Iteration#15: Perplexity = 234.900\n",
      "Iteration#16: Perplexity = 227.720\n",
      "Iteration#17: Perplexity = 221.554\n",
      "Iteration#18: Perplexity = 216.202\n",
      "Iteration#19: Perplexity = 211.510\n",
      "Top tokens per topic: \n",
      "Topic#1:  lake of tears(0.025)  metallica(0.022)  spoon(0.022)  kreator(0.022)  \n",
      "Topic#2:  (0.246)  mitsumune shinkichi(0.077)  nagaoka seikou(0.056)  key(0.037)  \n",
      "Topic#3:  the orb(0.075)  (0.027)  coma(0.026)  ulrich schnauss(0.023)  \n",
      "Topic#4:  avenged sevenfold(0.044)  system of a down(0.036)  bullet for my valentine(0.036)  iron maiden(0.035)  \n",
      "Topic#5:  cat power(0.038)  thievery corporation(0.023)  air(0.023)  massive attack(0.021)  \n",
      "Topic#6:  the kooks(0.039)  la vela puerca(0.029)  placebo(0.028)  kings of leon(0.026)  \n",
      "Topic#7:  afi(0.027)  los suaves(0.023)  finch(0.022)  the fall(0.020)  \n",
      "Topic#8:  (0.085)  pearl jam(0.052)  radiohead(0.039)  porcupine tree(0.033)  \n",
      "Topic#9:  o.s.t.r.(0.021)  sizzla(0.021)  el cuarteto de nos(0.017)  los hermanos(0.015)  \n",
      "Topic#10:  pink floyd(0.192)  u2(0.024)  rush(0.023)  radiohead(0.023)  \n",
      "Topic#11:  annihilator(0.077)  freak kitchen(0.030)  bad religion(0.029)  sonata arctica(0.028)  \n",
      "Topic#12:  (0.041)  static-x(0.028)  betty blowtorch(0.021)  dope(0.020)  \n",
      "Topic#13:  electric six(0.056)  the hives(0.015)  incubus(0.011)  franz ferdinand(0.011)  \n",
      "Topic#14:  sublime(0.049)  bathory(0.042)  bad brains(0.031)  frank sinatra(0.028)  \n",
      "Topic#15:  bad religion(0.071)  nofx(0.057)  anti-flag(0.035)  rancid(0.023)  \n",
      "Topic#16:  the cure(0.143)  anne clark(0.053)  depeche mode(0.050)  (0.032)  \n",
      "Topic#17:  nas(0.039)  2pac(0.024)  dilated peoples(0.021)  dead prez(0.019)  \n",
      "Topic#18:  dead can dance(0.035)  tiamat(0.021)  the dismemberment plan(0.019)  havoc unit(0.017)  \n",
      "Topic#19:  cunninlynguists(0.023)  the tough alliance(0.018)  cecil(0.015)  j dilla(0.014)  \n",
      "Topic#20:  kent(0.083)  the cardigans(0.036)  citizen cope(0.033)  kaijin(0.029)  \n",
      "Topic#21:  in flames(0.070)  sentenced(0.040)  dark tranquillity(0.033)  soilwork(0.030)  \n",
      "Topic#22:  lil wayne(0.818)  neutral milk hotel(0.048)  gary jules(0.032)  t.i.(0.024)  \n",
      "Topic#23:  angelo branduardi(0.106)  inti-illimani(0.074)  franco battiato(0.066)  loreena mckennitt(0.053)  \n",
      "Topic#24:  (0.057)  glenn gould(0.043)  the specials(0.017)  kiss(0.017)  \n",
      "Topic#25:  bonobo(0.046)  bon jovi(0.026)  dj shadow(0.026)  amon tobin(0.025)  \n",
      "Topic#26:  nirvana(0.112)  (0.059)  elvis presley(0.051)  queens of the stone age(0.025)  \n",
      "Topic#27:  the clash(0.022)  skinny puppy(0.020)  nevermore(0.019)  hermaphrodit(0.018)  \n",
      "Topic#28:  (0.049)  kat-tun(0.029)  ayaka(0.019)  12012(0.016)  \n",
      "Topic#29:  nightwish(0.045)  kraftwerk(0.032)  finntroll(0.030)  mike oldfield(0.017)  \n",
      "Topic#30:  garbage(0.225)  metric(0.085)  lady gaga(0.082)  the cardigans(0.079)  \n",
      "Topic#31:  devendra banhart(0.049)  cocorosie(0.041)  kings of convenience(0.037)  antony and the johnsons(0.031)  \n",
      "Topic#32:  tenacious d(0.057)  feist(0.037)  john mayer(0.023)  amy winehouse(0.021)  \n",
      "Topic#33:  falcom sound team jdk(0.057)  the beatles(0.042)  anthrax(0.015)  gym class heroes(0.013)  \n",
      "Topic#34:  death cab for cutie(0.092)  john mayer(0.078)  the decemberists(0.052)  coldplay(0.042)  \n",
      "Topic#35:  ennio morricone(0.069)  the jimi hendrix experience(0.032)  david byrne(0.027)  gogol bordello(0.026)  \n",
      "Topic#36:  burial(0.032)  wiley(0.029)  j dilla(0.023)  trim(0.020)  \n",
      "Topic#37:  iron maiden(0.048)  led zeppelin(0.042)  linkin park(0.037)  foo fighters(0.037)  \n",
      "Topic#38:  hilary duff(0.080)  vienna teng(0.047)  evanescence(0.034)  yo-yo ma(0.025)  \n",
      "Topic#39:  (0.067)  linkin park(0.026)  static-x(0.022)  the prodigy(0.017)  \n",
      "Topic#40:  tom petty and the heartbreakers(0.040)  the rolling stones(0.032)  tom waits(0.031)  the beatles(0.025)  \n",
      "Topic#41:  radiohead(0.234)  coldplay(0.054)  sufjan stevens(0.051)  pj harvey(0.034)  \n",
      "Topic#42:  serebro(0.059)  o.s.t.r.(0.050)  ekkaia(0.020)  what we feel(0.020)  \n",
      "Topic#43:  (0.044)  judas priest(0.027)  metallica(0.015)  arch enemy(0.015)  \n",
      "Topic#44:  (0.058)  apoptygma berzerk(0.051)  the presets(0.047)  joshua radin(0.023)  \n",
      "Topic#45:  ryan adams(0.059)  bright eyes(0.050)  bob dylan(0.038)  david sylvian(0.037)  \n",
      "Topic#46:  joan baez(0.042)  r.e.m.(0.039)  radiohead(0.034)  boards of canada(0.023)  \n",
      "Topic#47:  blind guardian(0.045)  anaal nathrakh(0.034)  acid house kings(0.020)  iced earth(0.020)  \n",
      "Topic#48:  nine inch nails(0.042)  coldplay(0.038)  keane(0.038)  shpongle(0.030)  \n",
      "Topic#49:  (0.048)  geto boys(0.040)  the beatles(0.027)  nine inch nails(0.027)  \n",
      "Topic#50:  madina lake(0.079)  they might be giants(0.070)  envy on the coast(0.034)  fall out boy(0.031)  \n",
      "Topic#51:  of montreal(0.068)  the smiths(0.055)  pixies(0.040)  morrissey(0.031)  \n",
      "Topic#52:  the beatles(0.083)  the doors(0.046)  queen(0.041)  svenska akademien(0.020)  \n",
      "Topic#53:  dream theater(0.084)  children of bodom(0.052)  coheed and cambria(0.037)  chamillionaire(0.024)  \n",
      "Topic#54:  bob dylan(0.224)  tom waits(0.060)  the beatles(0.036)  neil young(0.033)  \n",
      "Topic#55:  kylie minogue(0.104)  madonna(0.085)  the innocence mission(0.040)  band of horses(0.039)  \n",
      "Topic#56:  anberlin(0.022)  taking back sunday(0.016)  blink-182(0.014)  silverstein(0.013)  \n",
      "Topic#57:  the beatles(0.038)  amon amarth(0.024)  oasis(0.022)  (0.021)  \n",
      "Topic#58:  nine inch nails(0.228)  system of a down(0.045)  (0.042)  deftones(0.036)  \n",
      "Topic#59:  east clubbers(0.069)  arctic monkeys(0.035)  interpol(0.029)  the libertines(0.023)  \n",
      "Topic#60:  (0.066)  kingston wall(0.041)  nightwish(0.035)  the offspring(0.034)  \n",
      "Topic#61:  in flames(0.208)  linkin park(0.098)  evanescence(0.039)  opeth(0.024)  \n",
      "Topic#62:  new order(0.206)  joy division(0.045)  rilo kiley(0.031)  radiohead(0.031)  \n",
      "Topic#63:  death cab for cutie(0.051)  circa survive(0.040)  copeland(0.038)  coheed and cambria(0.035)  \n",
      "Topic#64:  michael jackson(0.149)  (0.040)  the beatles(0.033)  caetano veloso(0.017)  \n",
      "Topic#65:  hanzel und gretyl(0.019)  muse(0.014)  arctic monkeys(0.013)  keane(0.013)  \n",
      "Topic#66:  britney spears(0.125)  lady gaga(0.034)  (0.031)  the saturdays(0.029)  \n",
      "Topic#67:  the beatles(0.232)  the pillbugs(0.095)  wondermints(0.039)  lacuna coil(0.028)  \n",
      "Topic#68:  my dying bride(0.049)  kate bush(0.025)  nortt(0.025)  tori amos(0.022)  \n",
      "Topic#69:  mcfly(0.027)  avril lavigne(0.021)  clannad(0.021)  martin odonnell & michael salvatori(0.020)  \n",
      "Topic#70:  skinny puppy(0.024)  manowar(0.021)  ani difranco(0.019)  (0.019)  \n",
      "Topic#71:  akira yamaoka(0.048)  thea gilmore(0.034)  the prodigy(0.028)  fettes brot(0.027)  \n",
      "Topic#72:  rise against(0.052)  fall out boy(0.041)  anberlin(0.038)  the all-american rejects(0.033)  \n",
      "Topic#73:  oasis(0.032)  shiny toy guns(0.030)  (0.027)  stevie wonder(0.025)  \n",
      "Topic#74:  ac/dc(0.158)  led zeppelin(0.086)  ramones(0.079)  the beatles(0.054)  \n",
      "Topic#75:  boards of canada(0.047)  radiohead(0.037)  aphex twin(0.035)  squarepusher(0.026)  \n",
      "Topic#76:  (0.088)  mandy moore(0.040)  david & the citizens(0.036)  kent(0.031)  \n",
      "Topic#77:  dead can dance(0.072)  antimatter(0.037)  cinema strange(0.028)  diary of dreams(0.027)  \n",
      "Topic#78:  u2(0.204)  jars of clay(0.017)  green day(0.013)  fleetwood mac(0.012)  \n",
      "Topic#79:  (0.821)  placebo(0.017)  madonna(0.012)  lumen(0.012)  \n",
      "Topic#80:  (0.064)  diary of dreams(0.025)  apparat(0.023)  andrew bird(0.020)  \n",
      "Topic#81:  3 na bossa(0.083)  (0.043)  gal costa(0.030)  john pizzarelli(0.030)  \n",
      "Topic#82:  insane clown posse(0.090)  twiztid(0.043)  kottonmouth kings(0.041)  dave matthews band(0.025)  \n",
      "Topic#83:  (0.035)  excrementory grindfuckers(0.025)  job for a cowboy(0.022)  pagan's mind(0.018)  \n",
      "Topic#84:  (0.027)  alpinestars(0.020)  depeche mode(0.019)  prince(0.016)  \n",
      "Topic#85:  the most serene republic(0.093)  stars(0.078)  broken social scene(0.057)  have heart(0.041)  \n",
      "Topic#86:  emilie autumn(0.040)  moonspell(0.036)  paradise lost(0.031)  blutengel(0.030)  \n",
      "Topic#87:  nickelback(0.040)  jack johnson(0.031)  elefant(0.029)  the bosshoss(0.027)  \n",
      "Topic#88:  eros ramazzotti(0.059)  serge gainsbourg(0.029)  the paper chase(0.027)  elliott smith(0.027)  \n",
      "Topic#89:  tegan and sara(0.068)  rammstein(0.042)  morcheeba(0.031)  the national(0.024)  \n",
      "Topic#90:  50 cent(0.042)  ween(0.035)  blink-182(0.032)  n*e*r*d(0.022)  \n",
      "Topic#91:  tiger army(0.037)  yann tiersen(0.034)  the mighty mighty bosstones(0.031)  misfits(0.024)  \n",
      "Topic#92:  grave digger(0.022)  judas priest(0.022)  running wild(0.021)  paramore(0.020)  \n",
      "Topic#93:  (0.095)  metallica(0.092)  red hot chili peppers(0.032)  godsmack(0.030)  \n",
      "Topic#94:  (0.127)  johann sebastian bach(0.082)  ludwig van beethoven(0.063)  claudio arrau(0.046)  \n",
      "Topic#95:  o.s.t.r.(0.067)  thin lizzy(0.038)  coma(0.033)  hey(0.028)  \n",
      "Topic#96:  cocteau twins(0.030)  bonnie 'prince' billy(0.022)  buddhistson(0.022)  songs: ohia(0.018)  \n",
      "Topic#97:  j dilla(0.063)  manu chao(0.042)  jay-z(0.033)  kanye west(0.030)  \n",
      "Topic#98:  radiohead(0.024)  primus(0.023)  the hold steady(0.017)  faith no more(0.016)  \n",
      "Topic#99:  johnny cash(0.072)  (0.047)  jack johnson(0.041)  stress(0.029)  \n",
      "Topic#100:  fresno(0.096)  anberlin(0.033)  yellowcard(0.033)  mae(0.030)  \n"
     ]
    },
    {
     "name": "stderr",
     "output_type": "stream",
     "text": [
      "libartm.so: cannot open shared object file: No such file or directory, fall back to ARTM_SHARED_LIBRARY environment variable\n"
     ]
    }
   ],
   "source": [
    "with artm.library.MasterComponent() as master:\n",
    "    perplexity_score = master.CreatePerplexityScore()\n",
    "    top_tokens_score = master.CreateTopTokensScore(num_tokens=4)\n",
    "    model = master.CreateModel(topics_count=100, inner_iterations_count=10)\n",
    "\n",
    "    for iteration in range(0, 50):\n",
    "        master.AddBatch(batch)\n",
    "        master.WaitIdle()\n",
    "        model.Synchronize()\n",
    "        print \"Iteration#\" + str(iteration) + \": Perplexity = %.3f\" % perplexity_score.GetValue(model).value\n",
    "\n",
    "    top_tokens = top_tokens_score.GetValue(model)\n",
    "\n",
    "artm.library.Visualizers.PrintTopTokensScore(top_tokens)"
   ]
  }
 ],
 "metadata": {
  "kernelspec": {
   "display_name": "Python 2",
   "language": "python",
   "name": "python2"
  },
  "language_info": {
   "codemirror_mode": {
    "name": "ipython",
    "version": 2
   },
   "file_extension": ".py",
   "mimetype": "text/x-python",
   "name": "python",
   "nbconvert_exporter": "python",
   "pygments_lexer": "ipython2",
   "version": "2.7.9"
  }
 },
 "nbformat": 4,
 "nbformat_minor": 0
}
