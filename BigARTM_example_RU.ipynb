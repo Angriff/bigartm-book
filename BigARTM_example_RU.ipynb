{
 "cells": [
  {
   "cell_type": "markdown",
   "metadata": {},
   "source": [
    "# Новый Python интерфейс BigARTM."
   ]
  },
  {
   "cell_type": "markdown",
   "metadata": {},
   "source": [
    "## Пример №1"
   ]
  },
  {
   "cell_type": "markdown",
   "metadata": {},
   "source": [
    "Здесь приводится простой пример использования нового пользовательского интерфейса на Python библиотеки BigARTM. Мы будем обучать тематическую модель маленькой коллекции 'kos'.\n",
    "Для начала подключим все необходимые модули (убедитесь, что путь к artm_model.py находится в вашей переменной PATH):"
   ]
  },
  {
   "cell_type": "code",
   "execution_count": 1,
   "metadata": {
    "collapsed": false
   },
   "outputs": [],
   "source": [
    "%matplotlib inline\n",
    "import glob\n",
    "import matplotlib.pyplot as plt\n",
    "\n",
    "import artm.artm_model\n",
    "from artm.artm_model import *"
   ]
  },
  {
   "cell_type": "markdown",
   "metadata": {
    "collapsed": false
   },
   "source": [
    "Первым делом содадим тематическую модель. Новый интерфейс позволяет сделать это в одну строчку:"
   ]
  },
  {
   "cell_type": "code",
   "execution_count": 2,
   "metadata": {
    "collapsed": false
   },
   "outputs": [],
   "source": [
    "model = ArtmModel(num_topics=15)"
   ]
  },
  {
   "cell_type": "markdown",
   "metadata": {},
   "source": [
    "ArtmModel — это объект, содержащий в себе всю информацию о текущем состоянии тематической модели. Все наши последующие действия будут производиться в рамках него. Прежде всего распарсим из файлов 'docword' и 'vocab' в формате UCI, если это необходимо:"
   ]
  },
  {
   "cell_type": "code",
   "execution_count": 3,
   "metadata": {
    "collapsed": false
   },
   "outputs": [],
   "source": [
    "if len(glob.glob('kos' + \"/*.batch\")) < 1:\n",
    "    parse(data_path='', data_format='bow_uci', collection_name='kos')"
   ]
  },
  {
   "cell_type": "markdown",
   "metadata": {},
   "source": [
    "Следующий шаг — инициализация модели. Сделаем это по словарю, что означает, что\n",
    "- будет создана матрица Фи с именем 'pwt', число строк и столбцов в ней будет взято исходя из числа слов в словаре и заданного в модели числа тем;\n",
    "- эа матрица будет заполнена случайными значениями из диапазона (0, 1) и нормализована.\n",
    "\n",
    "Надо отметить, что этот шаг является опциональным, поскольку модель может быть автоматически инициализирована во время вызовов fit_offline() / fit_online()."
   ]
  },
  {
   "cell_type": "code",
   "execution_count": 4,
   "metadata": {
    "collapsed": false
   },
   "outputs": [],
   "source": [
    "model.initialize(dictionary=model.load_dictionary('kos/dictionary'))"
   ]
  },
  {
   "cell_type": "markdown",
   "metadata": {},
   "source": [
    "ArtmModelпредоставляет возможность использовать все функционалы качества, имеющиеся в BigARTM. Если функционал подключен к модели, то модель будет сохранять все его значения, полученные на момент каждого обновления матрицы Фи.\n",
    "Для контроля за качеством получаемой модели введём несколько метрик:"
   ]
  },
  {
   "cell_type": "code",
   "execution_count": 5,
   "metadata": {
    "collapsed": true
   },
   "outputs": [],
   "source": [
    "model.scores.add(SparsityPhiScore(name='SparsityPhiScore'))\n",
    "model.scores.add(SparsityThetaScore(name='SparsityThetaScore'))\n",
    "model.scores.add(PerplexityScore(name='PerplexityScore'))"
   ]
  },
  {
   "cell_type": "markdown",
   "metadata": {},
   "source": [
    "Также полезно добавить несколько базовых регуляризаторов, повышающих разреженность и различность тем (зададим им стартовые коэффициенты регуляризации, которые можно будет позже изменить)"
   ]
  },
  {
   "cell_type": "code",
   "execution_count": 6,
   "metadata": {
    "collapsed": false
   },
   "outputs": [],
   "source": [
    "model.regularizers.add(SmoothSparsePhiRegularizer(name='SparsePhi', tau=-0.1))\n",
    "model.regularizers.add(SmoothSparseThetaRegularizer(name='SparseTheta', tau=-2.0))\n",
    "model.regularizers.add(DecorrelatorPhiRegularizer(name='DecorrelatorPhi', tau=100000.0))"
   ]
  },
  {
   "cell_type": "markdown",
   "metadata": {},
   "source": [
    "Теперь попробуем обучить модель в оффлайн-режиме (т.е. обновляя Фи раз за проход по коллекции). Инициируем пять проходов:"
   ]
  },
  {
   "cell_type": "code",
   "execution_count": 7,
   "metadata": {
    "collapsed": false
   },
   "outputs": [],
   "source": [
    "model.fit_offline(data_path='kos', num_collection_passes=5)"
   ]
  },
  {
   "cell_type": "markdown",
   "metadata": {},
   "source": [
    "Проверим результаты первой итерации обучения:"
   ]
  },
  {
   "cell_type": "code",
   "execution_count": 8,
   "metadata": {
    "collapsed": false
   },
   "outputs": [
    {
     "name": "stdout",
     "output_type": "stream",
     "text": [
      "Sparsity Phi:0.425060334009\n",
      "Sparsity Theta:0.699183673469\n"
     ]
    }
   ],
   "source": [
    "print 'Sparsity Phi:' + str(model.scores_info['SparsityPhiScore'].last_value)\n",
    "print 'Sparsity Theta:' + str(model.scores_info['SparsityThetaScore'].last_value)"
   ]
  },
  {
   "cell_type": "markdown",
   "metadata": {},
   "source": [
    "Видно, что разреженности матриц пока ещё слишком невелики. Попробуем увеличить по модулю значения коэффициентов регуляризации при разреживающих регуляризаторах:"
   ]
  },
  {
   "cell_type": "code",
   "execution_count": 9,
   "metadata": {
    "collapsed": true
   },
   "outputs": [],
   "source": [
    "model.regularizers['SparsePhi'].tau = -0.4\n",
    "model.regularizers['SparseTheta'].tau = -3.0"
   ]
  },
  {
   "cell_type": "markdown",
   "metadata": {},
   "source": [
    "Также полезно добавить функционал 'TopTokensScore'. Он позволит нам увидеть самые вероятные слова в каждой полученной теме"
   ]
  },
  {
   "cell_type": "code",
   "execution_count": 10,
   "metadata": {
    "collapsed": false
   },
   "outputs": [],
   "source": [
    "model.scores.add(TopTokensScore(name='TopTokensScore', num_tokens=5))"
   ]
  },
  {
   "cell_type": "markdown",
   "metadata": {},
   "source": [
    "Продолжим обучение модели, инициировав 15 проходов по коллекции:"
   ]
  },
  {
   "cell_type": "code",
   "execution_count": 11,
   "metadata": {
    "collapsed": false
   },
   "outputs": [],
   "source": [
    "model.fit_offline(data_path='kos', num_collection_passes=15)"
   ]
  },
  {
   "cell_type": "code",
   "execution_count": 12,
   "metadata": {
    "collapsed": false
   },
   "outputs": [
    {
     "name": "stdout",
     "output_type": "stream",
     "text": [
      "Sparsity Phi:0.638024905879\n",
      "Sparsity Theta:0.793756073858\n"
     ]
    }
   ],
   "source": [
    "print 'Sparsity Phi:' + str(model.scores_info['SparsityPhiScore'].last_value)\n",
    "print 'Sparsity Theta:' + str(model.scores_info['SparsityThetaScore'].last_value)"
   ]
  },
  {
   "cell_type": "markdown",
   "metadata": {},
   "source": [
    "Разреженность всё ещё неудовлетворительная. Попробуем ещё усилить разреживание и продолжить обучение:"
   ]
  },
  {
   "cell_type": "code",
   "execution_count": 13,
   "metadata": {
    "collapsed": false
   },
   "outputs": [],
   "source": [
    "model.regularizers['SparsePhi'].tau = -1.5\n",
    "model.regularizers['SparseTheta'].tau = -5.0\n",
    "model.fit_offline(data_path='kos', num_collection_passes=15)"
   ]
  },
  {
   "cell_type": "markdown",
   "metadata": {},
   "source": [
    "Нарисуем графики перплексии и разреженностей:"
   ]
  },
  {
   "cell_type": "code",
   "execution_count": 14,
   "metadata": {
    "collapsed": false
   },
   "outputs": [
    {
     "data": {
      "image/png": "[encoded data removed]",
      "text/plain": [
       "<matplotlib.figure.Figure at 0x8e2e3f0>"
      ]
     },
     "metadata": {},
     "output_type": "display_data"
    }
   ],
   "source": [
    "plt.plot(range(model.num_phi_updates), model.scores_info['PerplexityScore'].value, 'r--', linewidth=2)\n",
    "plt.xlabel('Iterations count')\n",
    "plt.ylabel('Perplexity')\n",
    "plt.grid(True)\n",
    "plt.show()"
   ]
  },
  {
   "cell_type": "code",
   "execution_count": 15,
   "metadata": {
    "collapsed": false
   },
   "outputs": [
    {
     "data": {
      "image/png": "[encoded data removed]",
      "text/plain": [
       "<matplotlib.figure.Figure at 0x93499b0>"
      ]
     },
     "metadata": {},
     "output_type": "display_data"
    }
   ],
   "source": [
    "plt.plot(range(model.num_phi_updates), model.scores_info['SparsityPhiScore'].value, 'b--',\n",
    "         range(model.num_phi_updates), model.scores_info['SparsityThetaScore'].value, 'r--', linewidth=2)\n",
    "plt.xlabel('Iterations count')\n",
    "plt.ylabel('Phi sparsity, Theta sparsity')\n",
    "plt.grid(True)\n",
    "plt.show()"
   ]
  },
  {
   "cell_type": "markdown",
   "metadata": {},
   "source": [
    "Для столь маленькой коллекции разреженность достаточная. Напечатаем топовые слова в каждой теме:"
   ]
  },
  {
   "cell_type": "code",
   "execution_count": 16,
   "metadata": {
    "collapsed": false
   },
   "outputs": [
    {
     "name": "stdout",
     "output_type": "stream",
     "text": [
      "@topic_0:  [u'bloggers', u'book', u'convention', u'blogs', u'boat']\n",
      "@topic_1:  [u'dean', u'clark', u'edwards', u'primary', u'lieberman']\n",
      "@topic_2:  [u'republican', u'republicans', u'party', u'vote', u'democrats']\n",
      "@topic_3:  [u'bush', u'administration', u'president', u'cheney', u'house']\n",
      "@topic_4:  [u'delay', u'house', u'media', u'committee', u'texas']\n",
      "@topic_5:  [u'democrats', u'states', u'million', u'state', u'democratic']\n",
      "@topic_6:  [u'iraq', u'war', u'bush', u'iraqi', u'bushs']\n",
      "@topic_7:  [u'military', u'soldiers', u'abu', u'pentagon', u'iraqi']\n",
      "@topic_8:  [u'carson', u'coburn', u'oklahoma', u'media', u'speech']\n",
      "@topic_9:  [u'party', u'nader', u'dean', u'unions', u'ballot']\n",
      "@topic_10:  [u'kerry', u'bush', u'poll', u'percent', u'voters']\n",
      "@topic_11:  [u'senate', u'race', u'elections', u'campaign', u'house']\n",
      "@topic_12:  [u'november', u'account', u'electoral', u'governor', u'house']\n",
      "@topic_13:  [u'bush', u'administration', u'tax', u'jobs', u'health']\n",
      "@topic_14:  [u'oil', u'space', u'blades', u'meteor', u'rights']\n"
     ]
    }
   ],
   "source": [
    "for topic_name in model.topic_names:\n",
    "    print topic_name + ': ',\n",
    "    print model.scores_info['TopTokensScore'].last_topic_info[topic_name].tokens"
   ]
  },
  {
   "cell_type": "markdown",
   "metadata": {},
   "source": [
    "Последний шаг — сохранение модели. ArtmModel предоставляет две возможности: сохранить модель в формате BigARTM или в .csv файл. \n",
    "- в первом случае модель нельзя будет никак визуализировать, но можно загрузить обратно в ArtmModel и продолжить работу с ней;\n",
    "- .csv файл нельяз загрузить обратно, но на него можно посмотреть глазами.\n",
    "\n",
    "Воспользуемся обеими возможностями:"
   ]
  },
  {
   "cell_type": "code",
   "execution_count": 17,
   "metadata": {
    "collapsed": true
   },
   "outputs": [],
   "source": [
    "model.save(file_name='kos_artm_model')\n",
    "model.to_csv(file_name='kos_artm_model.csv')"
   ]
  },
  {
   "cell_type": "markdown",
   "metadata": {},
   "source": [
    "Дополнительно извлечём Тету:"
   ]
  },
  {
   "cell_type": "code",
   "execution_count": 18,
   "metadata": {
    "collapsed": false
   },
   "outputs": [],
   "source": [
    "theta_matrix = model.get_theta()"
   ]
  },
  {
   "cell_type": "markdown",
   "metadata": {},
   "source": [
    "ArtmModel.get_theta() возвращает Теут как объект pandas.DataFrame. Напечатаем её:"
   ]
  },
  {
   "cell_type": "code",
   "execution_count": 19,
   "metadata": {
    "collapsed": false
   },
   "outputs": [
    {
     "name": "stdout",
     "output_type": "stream",
     "text": [
      "               1         2     3         4         5         6     7     8     \\\n",
      "@topic_0   0.000000  0.000000     0  0.000000  0.000000  0.000000     0     0   \n",
      "@topic_1   0.000000  0.000000     0  0.000000  0.000000  0.000000     0     0   \n",
      "@topic_2   0.000000  0.000000     0  0.000000  0.000000  0.000000     0     0   \n",
      "@topic_3   0.225274  0.000000     0  0.000000  0.000000  0.000000     0     0   \n",
      "@topic_4   0.000000  0.000000     0  0.840536  0.161937  0.000000     0     0   \n",
      "@topic_5   0.170842  0.000000     0  0.000000  0.000000  0.000000     0     0   \n",
      "@topic_6   0.139775  0.793201     0  0.159464  0.174049  0.000000     0     0   \n",
      "@topic_7   0.229708  0.000000     0  0.000000  0.000000  0.000000     0     0   \n",
      "@topic_8   0.000000  0.000000     0  0.000000  0.000000  0.000000     0     0   \n",
      "@topic_9   0.000000  0.000000     0  0.000000  0.000000  0.000000     0     0   \n",
      "@topic_10  0.234401  0.206799     0  0.000000  0.664014  0.552273     1     1   \n",
      "@topic_11  0.000000  0.000000     0  0.000000  0.000000  0.447727     0     0   \n",
      "@topic_12  0.000000  0.000000     1  0.000000  0.000000  0.000000     0     0   \n",
      "@topic_13  0.000000  0.000000     0  0.000000  0.000000  0.000000     0     0   \n",
      "@topic_14  0.000000  0.000000     0  0.000000  0.000000  0.000000     0     0   \n",
      "\n",
      "               9     10      ...        3421      3422      3423  3424  \\\n",
      "@topic_0   0.000000     0    ...     0.00000  0.000000  0.169999     1   \n",
      "@topic_1   0.000000     0    ...     0.00000  0.000000  0.000000     0   \n",
      "@topic_2   0.000000     0    ...     0.00000  0.000000  0.000000     0   \n",
      "@topic_3   0.000000     0    ...     0.00000  0.000000  0.173368     0   \n",
      "@topic_4   0.000000     0    ...     0.00000  0.000000  0.170547     0   \n",
      "@topic_5   0.000000     1    ...     0.16715  0.000000  0.144539     0   \n",
      "@topic_6   0.000000     0    ...     0.83285  0.000000  0.316454     0   \n",
      "@topic_7   0.000000     0    ...     0.00000  0.000000  0.025093     0   \n",
      "@topic_8   0.000000     0    ...     0.00000  0.000000  0.000000     0   \n",
      "@topic_9   0.000000     0    ...     0.00000  0.000000  0.000000     0   \n",
      "@topic_10  0.892934     0    ...     0.00000  0.000000  0.000000     0   \n",
      "@topic_11  0.107066     0    ...     0.00000  0.000000  0.000000     0   \n",
      "@topic_12  0.000000     0    ...     0.00000  0.855702  0.000000     0   \n",
      "@topic_13  0.000000     0    ...     0.00000  0.000000  0.000000     0   \n",
      "@topic_14  0.000000     0    ...     0.00000  0.144298  0.000000     0   \n",
      "\n",
      "              3425  3426  3427      3428      3429      3430  \n",
      "@topic_0   0.00000     0     0  0.000000  0.000000  0.000000  \n",
      "@topic_1   0.00000     0     0  0.000000  0.000000  0.000000  \n",
      "@topic_2   0.00000     0     0  0.393861  0.000000  0.000000  \n",
      "@topic_3   0.70279     0     0  0.265628  0.000000  0.000000  \n",
      "@topic_4   0.00000     0     0  0.000000  0.000000  0.000000  \n",
      "@topic_5   0.00000     0     0  0.000000  0.000000  0.000000  \n",
      "@topic_6   0.00000     0     0  0.000000  0.000000  0.684327  \n",
      "@topic_7   0.00000     0     0  0.000000  0.000000  0.000000  \n",
      "@topic_8   0.00000     0     0  0.340511  0.266672  0.000000  \n",
      "@topic_9   0.00000     0     0  0.000000  0.000000  0.000000  \n",
      "@topic_10  0.29721     1     0  0.000000  0.000000  0.000000  \n",
      "@topic_11  0.00000     0     0  0.000000  0.733328  0.315673  \n",
      "@topic_12  0.00000     0     0  0.000000  0.000000  0.000000  \n",
      "@topic_13  0.00000     0     0  0.000000  0.000000  0.000000  \n",
      "@topic_14  0.00000     0     0  0.000000  0.000000  0.000000  \n",
      "\n",
      "[15 rows x 3430 columns]\n"
     ]
    }
   ],
   "source": [
    "print theta_matrix"
   ]
  },
  {
   "cell_type": "markdown",
   "metadata": {},
   "source": [
    "## Пример №2"
   ]
  },
  {
   "cell_type": "markdown",
   "metadata": {},
   "source": [
    "Это вторая часть примера использования нового интерфейса библиотеки. Загрузим обратно модель, сохранённую в прошлой части и применим к ней несколько операций.\n",
    "\n",
    "В первую очередь создадим новую тематическую модель:"
   ]
  },
  {
   "cell_type": "code",
   "execution_count": 20,
   "metadata": {
    "collapsed": false
   },
   "outputs": [],
   "source": [
    "new_model = ArtmModel(num_processors=2, num_topics=1, num_document_passes=1)"
   ]
  },
  {
   "cell_type": "markdown",
   "metadata": {},
   "source": [
    "Вторым шагом добавим в неё функционалы и регуляризаторы. Ограничимся одной новой метрикой и двумя уже знакомыми регуляризаторами:"
   ]
  },
  {
   "cell_type": "code",
   "execution_count": 21,
   "metadata": {
    "collapsed": false
   },
   "outputs": [],
   "source": [
    "new_model.scores.add(TopicKernelScore(name='TopicKernelScore'))\n",
    "new_model.regularizers.add(SmoothSparsePhiRegularizer(name='SparsePhi', tau=-0.1))\n",
    "new_model.regularizers.add(DecorrelatorPhiRegularizer(name='DecorrelatorPhi', tau=100000.0))"
   ]
  },
  {
   "cell_type": "markdown",
   "metadata": {},
   "source": [
    "Теперь загрузим файл 'kos_artm_model' с моделью обратно в библиотеку"
   ]
  },
  {
   "cell_type": "code",
   "execution_count": 22,
   "metadata": {
    "collapsed": true
   },
   "outputs": [],
   "source": [
    "new_model.load('kos_artm_model')"
   ]
  },
  {
   "cell_type": "markdown",
   "metadata": {},
   "source": [
    "Имейте ввиду, что загружаемая модель перепишет несколько параметров нашего объекта ArtmModel: число и имена тем, матрицу Фи. Также загрузка сотрёт всю информацию о данных метрик, посчитанных ранее. Тем не менее, сами подключенные метрики и регуляризаторы никуда не денуться. В нашем случае это функционал 'TopicKernelScore' и регуляризаторы 'SparsePhi' и 'DecorrealtorPhi'.\n",
    "\n",
    "Теперь продолжим обучение модели, но, для примера, рассмотрим онлайновый режим. Это означает, что\n",
    "- число проходов по каждому документу увеличивается\n",
    "- матрица Фи может быть обновлена произвольное количество раз за один проход по коллекции (но не чаще, чем раз за обработанный батч)\n",
    "- нам требуется только оин проход по коллекции (но здесь мы сделаем 5, поскольку коллекция 'kos' довольно маленькая)."
   ]
  },
  {
   "cell_type": "code",
   "execution_count": 23,
   "metadata": {
    "collapsed": false
   },
   "outputs": [],
   "source": [
    "new_model.num_document_passes = 20\n",
    "for i in range(5):\n",
    "    new_model.fit_online(data_path='kos', update_every=4)"
   ]
  },
  {
   "cell_type": "markdown",
   "metadata": {},
   "source": [
    "Параметр 'update_every' говорит модели о том, раз в сколько батчей следует обновлять матрицу Фи.\n",
    "\n",
    "Выведем средние харакетристики ядер тем (чистоту и контрастность):"
   ]
  },
  {
   "cell_type": "code",
   "execution_count": 24,
   "metadata": {
    "collapsed": false
   },
   "outputs": [
    {
     "data": {
      "image/png": "[encoded data removed]",
      "text/plain": [
       "<matplotlib.figure.Figure at 0x8e45f30>"
      ]
     },
     "metadata": {},
     "output_type": "display_data"
    }
   ],
   "source": [
    "plt.plot(range(new_model.num_phi_updates), new_model.scores_info['TopicKernelScore'].average_contrast, 'g--',\n",
    "         range(new_model.num_phi_updates), new_model.scores_info['TopicKernelScore'].average_purity, 'r--', linewidth=2)\n",
    "plt.xlabel('Iterations count')\n",
    "plt.ylabel('Kernel scores')\n",
    "plt.grid(True)\n",
    "plt.show()"
   ]
  },
  {
   "cell_type": "markdown",
   "metadata": {},
   "source": [
    "Как мы видим, дальнейшее обучение загруженной модели только ухудшило её качество.\n",
    "\n",
    "Также можно посмотреть на ифнормацию о ядрах каждой темы. Для примера выведем все ядровые слова первой темы:"
   ]
  },
  {
   "cell_type": "code",
   "execution_count": 25,
   "metadata": {
    "collapsed": false
   },
   "outputs": [
    {
     "name": "stdout",
     "output_type": "stream",
     "text": [
      "[u'allowed', u'award', u'baseball', u'blogads', u'bloggers', u'blogging', u'blogosphere', u'blogs', u'boat', u'book', u'boston', u'bronze', u'curious', u'dailykos', u'drudge', u'drum', u'editors', u'fans', u'franken', u'fun', u'ideological', u'journalism', u'journalists', u'kevin', u'launch', u'limbaugh', u'links', u'lying', u'magazine', u'nevada', u'nyc', u'oreilly', u'owner', u'park', u'petraeus', u'posters', u'propaganda', u'putting', u'reader', u'readers', u'review', u'rewards', u'rnc', u'road', u'rowland', u'rush', u'season', u'selection', u'series', u'sox', u'star', u'starting', u'stations', u'suddenly', u'swift', u'treatment', u'trip', u'universe', u'updates', u'whos', u'writes', u'yankees']\n"
     ]
    }
   ],
   "source": [
    "print new_model.scores_info['TopicKernelScore'].last_topic_info[new_model.topic_names[0]].tokens"
   ]
  },
  {
   "cell_type": "markdown",
   "metadata": {},
   "source": [
    "Если у нас есть батч с документами, который не являлся частью обучающей выборки (или являлся, но мы не сохраняли Тету для экономии памяти), и мы хотим узнать столбцы матрицы Теты для него, то следует использовать метод 'find_theta':"
   ]
  },
  {
   "cell_type": "code",
   "execution_count": 26,
   "metadata": {
    "collapsed": false
   },
   "outputs": [],
   "source": [
    "test_theta_matrix = model.find_theta(data_path='kos_test', batches=['test_docs.batch'])"
   ]
  },
  {
   "cell_type": "markdown",
   "metadata": {},
   "source": [
    "ArtmModel.find_theta(), как и ArtmModel.get_theta(), возвращает Тету в виде объекта pandas.DataFrame. Напечатаем ее:"
   ]
  },
  {
   "cell_type": "code",
   "execution_count": 27,
   "metadata": {
    "collapsed": false
   },
   "outputs": [
    {
     "name": "stdout",
     "output_type": "stream",
     "text": [
      "               3001          3002          3003          3004      3005  \\\n",
      "@topic_0   0.000027  5.470353e-12  8.860754e-05  3.655218e-08  0.023012   \n",
      "@topic_1   0.000000  7.545636e-08  5.074987e-08  2.936660e-05  0.000895   \n",
      "@topic_2   0.157189  3.943398e-02  9.634904e-02  3.531444e-02  0.000529   \n",
      "@topic_3   0.026738  1.165643e-02  1.995699e-04  6.938869e-03  0.000309   \n",
      "@topic_4   0.042742  6.324405e-01  7.174250e-03  5.326925e-01  0.501939   \n",
      "@topic_5   0.116401  1.229227e-02  8.142789e-02  2.659805e-01  0.069234   \n",
      "@topic_6   0.376136  5.741584e-02  1.048846e-01  5.601915e-03  0.097925   \n",
      "@topic_7   0.163309  1.563597e-01  1.076673e-05  6.481285e-05  0.000017   \n",
      "@topic_8   0.002779  3.925704e-08  5.331933e-03  2.455392e-03  0.003307   \n",
      "@topic_9   0.000794  1.424964e-03  8.680467e-03  1.836287e-02  0.000393   \n",
      "@topic_10  0.031543  4.863139e-04  6.822457e-01  9.276280e-02  0.158388   \n",
      "@topic_11  0.010005  2.929365e-02  4.954084e-04  1.317805e-02  0.106768   \n",
      "@topic_12  0.000001  1.540402e-02  4.466038e-03  3.355341e-04  0.004254   \n",
      "@topic_13  0.055057  5.238064e-03  5.448653e-03  2.556784e-02  0.033011   \n",
      "@topic_14  0.017278  3.855430e-02  3.197016e-03  7.150364e-04  0.000019   \n",
      "\n",
      "                   3006      3007          3008          3009          3010  \\\n",
      "@topic_0   1.958138e-03  0.000003  1.880585e-02  3.283745e-08  5.063742e-11   \n",
      "@topic_1   3.126218e-09  0.000002  1.916999e-03  2.357868e-03  1.123587e-04   \n",
      "@topic_2   4.618214e-03  0.274588  1.035407e-05  5.992331e-02  7.972641e-02   \n",
      "@topic_3   4.242095e-05  0.010762  4.021326e-06  3.439111e-02  2.323681e-01   \n",
      "@topic_4   5.537989e-02  0.137052  3.462226e-03  4.187137e-02  4.170675e-01   \n",
      "@topic_5   2.462813e-05  0.015041  7.989864e-07  9.313004e-02  3.289598e-02   \n",
      "@topic_6   2.320973e-04  0.008152  6.622106e-07  2.465798e-02  4.073445e-03   \n",
      "@topic_7   3.693762e-09  0.011506  6.378179e-09  1.754476e-05  2.694880e-02   \n",
      "@topic_8   6.326545e-08  0.027513  5.784509e-02  3.420139e-03  2.061254e-03   \n",
      "@topic_9   2.270886e-06  0.000164  2.294747e-04  1.478319e-01  4.626258e-02   \n",
      "@topic_10  1.496590e-02  0.012102  6.285240e-06  7.629282e-04  4.165348e-02   \n",
      "@topic_11  1.677241e-04  0.479609  9.177179e-01  5.832095e-01  1.134724e-01   \n",
      "@topic_12  9.164013e-01  0.008182  2.466835e-14  1.429291e-05  1.917925e-05   \n",
      "@topic_13  1.891638e-05  0.000360  3.322736e-07  8.373672e-03  1.209697e-03   \n",
      "@topic_14  6.188333e-03  0.014964  2.818032e-09  3.831520e-05  2.128864e-03   \n",
      "\n",
      "               ...               3421          3422          3423  \\\n",
      "@topic_0       ...       2.400126e-02  1.399135e-08  1.669544e-01   \n",
      "@topic_1       ...       1.419649e-08  4.309549e-07  1.065905e-08   \n",
      "@topic_2       ...       2.461158e-03  3.053845e-04  4.152853e-02   \n",
      "@topic_3       ...       4.743169e-03  1.124649e-02  1.443312e-01   \n",
      "@topic_4       ...       1.030095e-02  1.556942e-05  1.542018e-01   \n",
      "@topic_5       ...       1.672120e-01  3.783094e-02  1.188411e-01   \n",
      "@topic_6       ...       6.482496e-01  3.336978e-02  2.151801e-01   \n",
      "@topic_7       ...       1.550162e-02  6.508622e-03  5.634695e-02   \n",
      "@topic_8       ...       2.256851e-03  1.091440e-03  1.011193e-02   \n",
      "@topic_9       ...       1.841013e-02  4.039347e-06  4.340013e-03   \n",
      "@topic_10      ...       1.583516e-03  1.961991e-02  4.269786e-02   \n",
      "@topic_11      ...       1.041121e-01  4.879666e-04  7.019978e-04   \n",
      "@topic_12      ...       5.572401e-08  7.564736e-01  4.844493e-05   \n",
      "@topic_13      ...       2.252920e-04  1.300004e-02  3.803377e-02   \n",
      "@topic_14      ...       9.423499e-04  1.200457e-01  6.681880e-03   \n",
      "\n",
      "                   3424          3425          3426          3427  \\\n",
      "@topic_0   3.956311e-01  4.873439e-04  1.043119e-03  2.407661e-09   \n",
      "@topic_1   1.087731e-04  8.002460e-07  9.310517e-04  6.500002e-08   \n",
      "@topic_2   6.074492e-02  4.141603e-03  2.315703e-03  1.681388e-03   \n",
      "@topic_3   1.533171e-02  5.446326e-01  7.082374e-03  1.229098e-01   \n",
      "@topic_4   1.238907e-01  9.604499e-04  7.373271e-03  3.445407e-05   \n",
      "@topic_5   2.090364e-05  2.162406e-02  3.142572e-04  7.990667e-04   \n",
      "@topic_6   3.904856e-02  2.147020e-03  3.700150e-03  5.121763e-04   \n",
      "@topic_7   2.987465e-06  1.707940e-06  1.601035e-12  3.606485e-08   \n",
      "@topic_8   3.120562e-02  8.295634e-02  1.576874e-05  4.800390e-02   \n",
      "@topic_9   6.868899e-10  1.540326e-04  6.258832e-06  8.090609e-05   \n",
      "@topic_10  1.587504e-01  2.618373e-01  8.392924e-01  7.297251e-01   \n",
      "@topic_11  6.463464e-02  1.305115e-03  7.901706e-02  7.072787e-02   \n",
      "@topic_12  2.185041e-02  3.641071e-10  2.158598e-03  1.885772e-06   \n",
      "@topic_13  1.636132e-03  7.708546e-02  5.674985e-02  2.550073e-02   \n",
      "@topic_14  8.714323e-02  2.666233e-03  2.482411e-07  2.261067e-05   \n",
      "\n",
      "                   3428          3429          3430  \n",
      "@topic_0   1.546536e-02  2.525320e-02  1.669582e-05  \n",
      "@topic_1   8.957561e-08  3.243330e-05  2.418846e-06  \n",
      "@topic_2   2.726591e-01  5.480893e-02  1.706955e-03  \n",
      "@topic_3   2.258014e-01  2.235514e-02  4.049277e-02  \n",
      "@topic_4   2.724972e-02  3.961760e-04  2.801920e-02  \n",
      "@topic_5   7.385599e-04  3.750250e-02  8.494136e-02  \n",
      "@topic_6   2.529631e-02  1.175922e-01  4.943202e-01  \n",
      "@topic_7   5.835740e-03  2.569473e-03  6.138672e-05  \n",
      "@topic_8   2.938016e-01  2.537102e-01  1.120451e-01  \n",
      "@topic_9   5.602285e-04  8.155146e-08  3.222013e-05  \n",
      "@topic_10  1.920097e-02  3.854555e-02  2.771512e-02  \n",
      "@topic_11  3.513910e-02  3.880009e-01  2.043668e-01  \n",
      "@topic_12  9.601773e-04  5.164771e-09  1.695404e-09  \n",
      "@topic_13  7.182383e-02  2.996543e-02  5.865854e-03  \n",
      "@topic_14  5.467571e-03  2.926775e-02  4.141166e-04  \n",
      "\n",
      "[15 rows x 430 columns]\n"
     ]
    }
   ],
   "source": [
    "print test_theta_matrix"
   ]
  }
 ],
 "metadata": {
  "kernelspec": {
   "display_name": "Python 2",
   "language": "python",
   "name": "python2"
  },
  "language_info": {
   "codemirror_mode": {
    "name": "ipython",
    "version": 2
   },
   "file_extension": ".py",
   "mimetype": "text/x-python",
   "name": "python",
   "nbconvert_exporter": "python",
   "pygments_lexer": "ipython2",
   "version": "2.7.7"
  }
 },
 "nbformat": 4,
 "nbformat_minor": 0
}
