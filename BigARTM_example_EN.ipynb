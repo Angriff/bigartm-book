{
 "cells": [
  {
   "cell_type": "markdown",
   "metadata": {},
   "source": [
    "# BigARTM new Python API."
   ]
  },
  {
   "cell_type": "markdown",
   "metadata": {},
   "source": [
    "## Example #1"
   ]
  },
  {
   "cell_type": "markdown",
   "metadata": {},
   "source": [
    "This paper provides simple example of usage of new Python API. We will learn a model on the small dataset 'kos'.\n",
    "Let's make necessary imports at first (note that you should have artm_model.py path in your Pyhton PATH variable):"
   ]
  },
  {
   "cell_type": "code",
   "execution_count": 1,
   "metadata": {
    "collapsed": false
   },
   "outputs": [],
   "source": [
    "%matplotlib inline\n",
    "import glob\n",
    "import matplotlib.pyplot as plt\n",
    "\n",
    "import artm.artm_model\n",
    "from artm.artm_model import *"
   ]
  },
  {
   "cell_type": "markdown",
   "metadata": {
    "collapsed": false
   },
   "source": [
    "The first step is to create a topic model. New API allows us to do it as a single line:"
   ]
  },
  {
   "cell_type": "code",
   "execution_count": 2,
   "metadata": {
    "collapsed": false
   },
   "outputs": [],
   "source": [
    "model = ArtmModel(num_processors=2, topics_count = 15, document_passes_count=1)"
   ]
  },
  {
   "cell_type": "markdown",
   "metadata": {},
   "source": [
    "ArtmModel is an object, that contains all information about current state of the topic model. All our next actions will be held over it. First of all we need to parse the collection from 'docword' and 'vocab' files in UCI format, if it is necessary:"
   ]
  },
  {
   "cell_type": "code",
   "execution_count": 3,
   "metadata": {
    "collapsed": false
   },
   "outputs": [],
   "source": [
    "if len(glob.glob('kos' + \"/*.batch\")) < 1:\n",
    "    model.parse(data_path='', data_format='bow_uci', collection_name='kos')"
   ]
  },
  {
   "cell_type": "markdown",
   "metadata": {},
   "source": [
    "Next step is to initilize model with collection dictionary. It means, that \n",
    "- Phi matrix 'pwt' will be created in appliance with number of tokens in dictionary and topics count in model\n",
    "- This matrix will be filled with random numbers in (0, 1) and normalized"
   ]
  },
  {
   "cell_type": "code",
   "execution_count": 4,
   "metadata": {
    "collapsed": true
   },
   "outputs": [],
   "source": [
    "model.initialize(dictionary=model.load_dictionary('kos/dictionary'))"
   ]
  },
  {
   "cell_type": "markdown",
   "metadata": {},
   "source": [
    "ArtmModel provides all model scores, that exists in BigARTM. If you have applied the score to the model, the model will save it's values on every update of Phi matrix.\n",
    "In order to control the quality of the model we will add come scores to it:"
   ]
  },
  {
   "cell_type": "code",
   "execution_count": 5,
   "metadata": {
    "collapsed": true
   },
   "outputs": [],
   "source": [
    "model.scores.add(SparsityPhiScore(name='SparsityPhiScore'))\n",
    "model.scores.add(SparsityThetaScore(name='SparsityThetaScore'))\n",
    "model.scores.add(PerplexityScore(name='PerplexityScore'))"
   ]
  },
  {
   "cell_type": "markdown",
   "metadata": {},
   "source": [
    "Also it is usefull to add basic regularizers to improve sparsity and variance of the topics (we will set some initial tau coeffitients for the regularizers, they can be changed in future)"
   ]
  },
  {
   "cell_type": "code",
   "execution_count": 6,
   "metadata": {
    "collapsed": false
   },
   "outputs": [],
   "source": [
    "model.regularizers.add(SmoothSparsePhiRegularizer(name='SparsePhi', tau=-0.1))\n",
    "model.regularizers.add(SmoothSparseThetaRegularizer(name='SparseTheta', tau=-2.0))\n",
    "model.regularizers.add(DecorrelatorPhiRegularizer(name='DecorrelatorPhi', tau=100000.0))"
   ]
  },
  {
   "cell_type": "markdown",
   "metadata": {},
   "source": [
    "Now let's try to learn the model in the offline mode (e.g. with one Phi update during one scan of the whole collection). We will invoke 5 scans:"
   ]
  },
  {
   "cell_type": "code",
   "execution_count": 7,
   "metadata": {
    "collapsed": false
   },
   "outputs": [
    {
     "name": "stdout",
     "output_type": "stream",
     "text": [
      "fit_offline() found 4 batches\n"
     ]
    }
   ],
   "source": [
    "model.fit_offline(data_path='kos', collection_passes_count=5)"
   ]
  },
  {
   "cell_type": "markdown",
   "metadata": {},
   "source": [
    "Let's check the result of the first iteration of learning:"
   ]
  },
  {
   "cell_type": "code",
   "execution_count": 8,
   "metadata": {
    "collapsed": false
   },
   "outputs": [
    {
     "name": "stdout",
     "output_type": "stream",
     "text": [
      "Sparsity Phi:0.269446857805\n",
      "Sparsity Theta:0.0504412050534\n"
     ]
    }
   ],
   "source": [
    "print 'Sparsity Phi:' + str(model.scores_info['SparsityPhiScore'].value[model.num_phi_updates-1])\n",
    "print 'Sparsity Theta:' + str(model.scores_info['SparsityThetaScore'].value[model.num_phi_updates-1])"
   ]
  },
  {
   "cell_type": "markdown",
   "metadata": {},
   "source": [
    "We can see, that sparsity levels of both Phi and Theta are too low. Let's increase (in modulus) the coefficients of regularization for sparsity regularizers:"
   ]
  },
  {
   "cell_type": "code",
   "execution_count": 9,
   "metadata": {
    "collapsed": true
   },
   "outputs": [],
   "source": [
    "model.regularizers['SparsePhi'].tau = -0.4\n",
    "model.regularizers['SparseTheta'].tau = -3.0"
   ]
  },
  {
   "cell_type": "markdown",
   "metadata": {},
   "source": [
    "Also it will be useful to add new score 'TopTokensScore'. It will allow us to see the most probable tokens in each topic"
   ]
  },
  {
   "cell_type": "code",
   "execution_count": 10,
   "metadata": {
    "collapsed": true
   },
   "outputs": [],
   "source": [
    "model.scores.add(TopTokensScore(name='TopTokensScore', num_tokens=5))"
   ]
  },
  {
   "cell_type": "markdown",
   "metadata": {},
   "source": [
    "Next we will continue the learning of our model, 15 scans of the collection will be invoked now"
   ]
  },
  {
   "cell_type": "code",
   "execution_count": 11,
   "metadata": {
    "collapsed": false
   },
   "outputs": [
    {
     "name": "stdout",
     "output_type": "stream",
     "text": [
      "fit_offline() found 4 batches\n"
     ]
    }
   ],
   "source": [
    "model.fit_offline(data_path='kos', collection_passes_count=15)"
   ]
  },
  {
   "cell_type": "code",
   "execution_count": 12,
   "metadata": {
    "collapsed": false
   },
   "outputs": [
    {
     "name": "stdout",
     "output_type": "stream",
     "text": [
      "Sparsity Phi:0.465942658558\n",
      "Sparsity Theta:0.126535471331\n"
     ]
    }
   ],
   "source": [
    "print 'Sparsity Phi:' + str(model.scores_info['SparsityPhiScore'].value[model.num_phi_updates-1])\n",
    "print 'Sparsity Theta:' + str(model.scores_info['SparsityThetaScore'].value[model.num_phi_updates-1])"
   ]
  },
  {
   "cell_type": "markdown",
   "metadata": {},
   "source": [
    "The sparsity is still unsatisfactory. Let's try new tau coefficients and continue model learning:"
   ]
  },
  {
   "cell_type": "code",
   "execution_count": 13,
   "metadata": {
    "collapsed": false
   },
   "outputs": [
    {
     "name": "stdout",
     "output_type": "stream",
     "text": [
      "fit_offline() found 4 batches\n"
     ]
    }
   ],
   "source": [
    "model.regularizers['SparsePhi'].tau = -1.5\n",
    "model.regularizers['SparseTheta'].tau = -5.0\n",
    "model.fit_offline(data_path='kos', collection_passes_count=15)"
   ]
  },
  {
   "cell_type": "markdown",
   "metadata": {},
   "source": [
    "Let's plot perplexity and sparsity of the model to check it's quality:"
   ]
  },
  {
   "cell_type": "code",
   "execution_count": 14,
   "metadata": {
    "collapsed": false
   },
   "outputs": [
    {
     "data": {
      "image/png": "[encoded data removed]",
      "text/plain": [
       "<matplotlib.figure.Figure at 0x10d35690>"
      ]
     },
     "metadata": {},
     "output_type": "display_data"
    }
   ],
   "source": [
    "plt.plot(range(model.num_phi_updates), model.scores_info['PerplexityScore'].value, 'r--', linewidth=2)\n",
    "plt.xlabel('Iterations count')\n",
    "plt.ylabel('Perplexity')\n",
    "plt.grid(True)\n",
    "plt.show()"
   ]
  },
  {
   "cell_type": "code",
   "execution_count": 15,
   "metadata": {
    "collapsed": false
   },
   "outputs": [
    {
     "data": {
      "image/png": "[encoded data removed]",
      "text/plain": [
       "<matplotlib.figure.Figure at 0x10cf1d70>"
      ]
     },
     "metadata": {},
     "output_type": "display_data"
    }
   ],
   "source": [
    "plt.plot(range(model.num_phi_updates), model.scores_info['SparsityPhiScore'].value, 'b--',\n",
    "         range(model.num_phi_updates), model.scores_info['SparsityThetaScore'].value, 'r--', linewidth=2)\n",
    "plt.xlabel('Iterations count')\n",
    "plt.ylabel('Phi sparsity, Theta sparsity')\n",
    "plt.grid(True)\n",
    "plt.show()"
   ]
  },
  {
   "cell_type": "markdown",
   "metadata": {},
   "source": [
    "For such small collection the sparsity is enough. Next step is to visualize the top tokens:"
   ]
  },
  {
   "cell_type": "code",
   "execution_count": 16,
   "metadata": {
    "collapsed": false
   },
   "outputs": [
    {
     "name": "stdout",
     "output_type": "stream",
     "text": [
      "@topic_0:  [u'time', u'november', u'republicans', u'party', u'democratic']\n",
      "@topic_1:  [u'primary', u'house', u'democratic', u'dean', u'edwards']\n",
      "@topic_2:  [u'people', u'media', u'percent', u'voters', u'president']\n",
      "@topic_3:  [u'bush', u'polls', u'poll', u'edwards', u'kerry']\n",
      "@topic_4:  [u'vote', u'house', u'voters', u'kerry', u'general']\n",
      "@topic_5:  [u'million', u'kerry', u'campaign', u'states', u'republicans']\n",
      "@topic_6:  [u'iraq', u'war', u'president', u'bush', u'campaign']\n",
      "@topic_7:  [u'republican', u'iraq', u'news', u'war', u'american']\n",
      "@topic_8:  [u'race', u'political', u'media', u'senate', u'percent']\n",
      "@topic_9:  [u'news', u'national', u'house', u'iraq', u'republican']\n",
      "@topic_10:  [u'bush', u'kerry', u'general', u'dean', u'john']\n",
      "@topic_11:  [u'state', u'republican', u'race', u'gop', u'senate']\n",
      "@topic_12:  [u'november', u'electoral', u'governor', u'election', u'republicans']\n",
      "@topic_13:  [u'administration', u'war', u'military', u'president', u'attacks']\n",
      "@topic_14:  [u'war', u'administration', u'vote', u'democratic', u'iraq']\n"
     ]
    }
   ],
   "source": [
    "for topic_name in model.topic_names:\n",
    "    print topic_name + ': ',\n",
    "    print model.scores_info['TopTokensScore'].topic_info[model.num_phi_updates-1][topic_name].tokens"
   ]
  },
  {
   "cell_type": "markdown",
   "metadata": {},
   "source": [
    "Our last step is to save the model. ArtmModel provides two opportunities: save the model in BigARTM format and in .csv. \n",
    "- in first case you won't be able to visualize the model, but it can be loaded back in library for further learning;\n",
    "- .csv format could not be loaded back, but you are able to look at the Phi matrix by your eyes.\n",
    "\n",
    "Let's use both of methods:"
   ]
  },
  {
   "cell_type": "code",
   "execution_count": 17,
   "metadata": {
    "collapsed": true
   },
   "outputs": [],
   "source": [
    "model.save(file_name='kos_artm_model')\n",
    "model.to_csv(file_name='kos_artm_model.csv')"
   ]
  },
  {
   "cell_type": "markdown",
   "metadata": {},
   "source": [
    "In addition we can get the Theta matrix of the collection:"
   ]
  },
  {
   "cell_type": "code",
   "execution_count": 18,
   "metadata": {
    "collapsed": true
   },
   "outputs": [],
   "source": [
    "theta_matrix = model.get_theta()"
   ]
  },
  {
   "cell_type": "markdown",
   "metadata": {},
   "source": [
    "ArtmModel.get_theta() returns Theta matrix as pandas.DataFrame object. Let's print it:"
   ]
  },
  {
   "cell_type": "code",
   "execution_count": 19,
   "metadata": {
    "collapsed": false
   },
   "outputs": [
    {
     "name": "stdout",
     "output_type": "stream",
     "text": [
      "               1         2         3         4         5         6     \\\n",
      "@topic_0   0.014261  0.000000  0.105319  0.019052  0.033899  0.000000   \n",
      "@topic_1   0.009671  0.000000  0.112252  0.018944  0.059511  0.000000   \n",
      "@topic_2   0.072351  0.000000  0.002619  0.052918  0.088838  0.130116   \n",
      "@topic_3   0.050547  0.000000  0.022269  0.014338  0.091518  0.461974   \n",
      "@topic_4   0.047901  0.145377  0.034588  0.066858  0.078943  0.000000   \n",
      "@topic_5   0.066929  0.048521  0.008950  0.024730  0.046341  0.000000   \n",
      "@topic_6   0.086723  0.176252  0.000000  0.278602  0.093366  0.000000   \n",
      "@topic_7   0.154492  0.000000  0.000000  0.081138  0.070640  0.000000   \n",
      "@topic_8   0.108675  0.036419  0.039579  0.189418  0.106646  0.000000   \n",
      "@topic_9   0.065367  0.000000  0.000000  0.082803  0.069246  0.000000   \n",
      "@topic_10  0.101369  0.593430  0.000931  0.015973  0.134315  0.150549   \n",
      "@topic_11  0.057795  0.000000  0.000000  0.061220  0.053252  0.257360   \n",
      "@topic_12  0.000000  0.000000  0.627942  0.022108  0.000000  0.000000   \n",
      "@topic_13  0.091134  0.000000  0.000000  0.057479  0.055902  0.000000   \n",
      "@topic_14  0.072784  0.000000  0.045551  0.014417  0.017584  0.000000   \n",
      "\n",
      "               7         8         9     10      ...         3421      3422  \\\n",
      "@topic_0   0.058670  0.000000  0.000000     0    ...     0.056335  0.081560   \n",
      "@topic_1   0.045146  0.000000  0.000000     0    ...     0.000000  0.099271   \n",
      "@topic_2   0.143865  0.396477  0.200183     0    ...     0.089444  0.026469   \n",
      "@topic_3   0.130864  0.603523  0.087699     0    ...     0.000000  0.044148   \n",
      "@topic_4   0.017653  0.000000  0.000000     0    ...     0.000000  0.040794   \n",
      "@topic_5   0.013968  0.000000  0.089209     1    ...     0.057342  0.030909   \n",
      "@topic_6   0.000000  0.000000  0.000000     0    ...     0.184397  0.014085   \n",
      "@topic_7   0.000000  0.000000  0.028746     0    ...     0.104372  0.004743   \n",
      "@topic_8   0.072561  0.000000  0.045560     0    ...     0.136794  0.074987   \n",
      "@topic_9   0.000000  0.000000  0.000000     0    ...     0.215987  0.011413   \n",
      "@topic_10  0.296701  0.000000  0.309496     0    ...     0.020488  0.058019   \n",
      "@topic_11  0.003787  0.000000  0.239107     0    ...     0.065745  0.007441   \n",
      "@topic_12  0.000000  0.000000  0.000000     0    ...     0.000000  0.417845   \n",
      "@topic_13  0.025941  0.000000  0.000000     0    ...     0.069095  0.018946   \n",
      "@topic_14  0.190844  0.000000  0.000000     0    ...     0.000000  0.069371   \n",
      "\n",
      "               3423      3424      3425      3426  3427      3428      3429  \\\n",
      "@topic_0   0.061677  0.730991  0.000000  0.000000     0  0.000000  0.000000   \n",
      "@topic_1   0.022040  0.000000  0.000000  0.000000     0  0.000000  0.000000   \n",
      "@topic_2   0.053413  0.000000  0.000000  0.000000     0  0.122297  0.070704   \n",
      "@topic_3   0.027884  0.000000  0.053747  0.289502     0  0.000000  0.000000   \n",
      "@topic_4   0.074401  0.000000  0.000000  0.000000     0  0.000000  0.000000   \n",
      "@topic_5   0.148491  0.190348  0.000000  0.000000     0  0.000000  0.000000   \n",
      "@topic_6   0.118118  0.078661  0.000000  0.000000     0  0.579700  0.345049   \n",
      "@topic_7   0.076799  0.000000  0.000000  0.000000     0  0.041902  0.000000   \n",
      "@topic_8   0.079124  0.000000  0.000000  0.000000     0  0.000000  0.065312   \n",
      "@topic_9   0.078431  0.000000  0.762467  0.000000     0  0.024156  0.000000   \n",
      "@topic_10  0.062633  0.000000  0.183786  0.291610     0  0.144363  0.003316   \n",
      "@topic_11  0.044452  0.000000  0.000000  0.220203     0  0.024971  0.515619   \n",
      "@topic_12  0.000580  0.000000  0.000000  0.198686     0  0.000000  0.000000   \n",
      "@topic_13  0.110226  0.000000  0.000000  0.000000     0  0.026628  0.000000   \n",
      "@topic_14  0.041732  0.000000  0.000000  0.000000     0  0.035984  0.000000   \n",
      "\n",
      "               3430  \n",
      "@topic_0   0.039623  \n",
      "@topic_1   0.000000  \n",
      "@topic_2   0.000000  \n",
      "@topic_3   0.068157  \n",
      "@topic_4   0.000000  \n",
      "@topic_5   0.193910  \n",
      "@topic_6   0.190451  \n",
      "@topic_7   0.000000  \n",
      "@topic_8   0.244570  \n",
      "@topic_9   0.000000  \n",
      "@topic_10  0.127229  \n",
      "@topic_11  0.088064  \n",
      "@topic_12  0.000000  \n",
      "@topic_13  0.032768  \n",
      "@topic_14  0.015228  \n",
      "\n",
      "[15 rows x 3430 columns]\n"
     ]
    }
   ],
   "source": [
    "print theta_matrix"
   ]
  },
  {
   "cell_type": "markdown",
   "metadata": {},
   "source": [
    "## Example #2"
   ]
  },
  {
   "cell_type": "markdown",
   "metadata": {},
   "source": [
    "This is a second part of paper about basic usage of new Python API of BigARTM library. We will load back the model, saved in previous example, and proceed some new operations.\n",
    "\n",
    "The first step is to create a topic model:"
   ]
  },
  {
   "cell_type": "code",
   "execution_count": 20,
   "metadata": {
    "collapsed": true
   },
   "outputs": [],
   "source": [
    "new_model = ArtmModel(num_processors=2, topics_count = 1, document_passes_count=1)"
   ]
  },
  {
   "cell_type": "markdown",
   "metadata": {},
   "source": [
    "Second step is to add regularizers and scores. We'll restrict ourselves to one new score and two regularizers:"
   ]
  },
  {
   "cell_type": "code",
   "execution_count": 21,
   "metadata": {
    "collapsed": false
   },
   "outputs": [],
   "source": [
    "new_model.scores.add(TopicKernelScore(name='TopicKernelScore'))\n",
    "new_model.regularizers.add(SmoothSparsePhiRegularizer(name='SparsePhi', tau=-0.1))\n",
    "new_model.regularizers.add(DecorrelatorPhiRegularizer(name='DecorrelatorPhi', tau=100000.0))"
   ]
  },
  {
   "cell_type": "markdown",
   "metadata": {},
   "source": [
    "Now we will load 'kos_artm_model' file into library"
   ]
  },
  {
   "cell_type": "code",
   "execution_count": 22,
   "metadata": {
    "collapsed": true
   },
   "outputs": [],
   "source": [
    "new_model.load('kos_artm_model')"
   ]
  },
  {
   "cell_type": "markdown",
   "metadata": {},
   "source": [
    "Note, that loaded model will overwrite several things in you ArtmModel object: number of topics and their names, Phi matrix. It also will reset all saved information about topic model scores values. \n",
    "\n",
    "Nevertheless the scores and the regularizers, applied to ArtmModel object earlier, won't change. In our case it is a 'TopicKernelScore' score and 'SparsePhi' and 'DecorrelatorPhi' regularizers.\n",
    "\n",
    "Now let's continue model learning, but in online mode. It means that\n",
    "- the number of passes through single document will increase\n",
    "- Phi matrix updates will be proceed several times during one pass of the collection\n",
    "- we need only one pass through the collection (but here we'll do 5, because the 'kos' collection is too small)."
   ]
  },
  {
   "cell_type": "code",
   "execution_count": 23,
   "metadata": {
    "collapsed": false
   },
   "outputs": [
    {
     "name": "stdout",
     "output_type": "stream",
     "text": [
      "fit_online() found 4 batches\n",
      "fit_online() found 4 batches\n",
      "fit_online() found 4 batches\n",
      "fit_online() found 4 batches\n",
      "fit_online() found 4 batches\n"
     ]
    }
   ],
   "source": [
    "new_model.document_passes_count = 5\n",
    "for i in range(5):\n",
    "    new_model.fit_online(data_path='kos', update_every=4)"
   ]
  },
  {
   "cell_type": "markdown",
   "metadata": {},
   "source": [
    "'update_every' tells model the number of batches to be processed before next update of Phi.\n",
    "\n",
    "Let's visualize topic kernel scores (average contrast and purity):"
   ]
  },
  {
   "cell_type": "code",
   "execution_count": 24,
   "metadata": {
    "collapsed": false
   },
   "outputs": [
    {
     "data": {
      "image/png": "[encoded data removed]",
      "text/plain": [
       "<matplotlib.figure.Figure at 0x9d29990>"
      ]
     },
     "metadata": {},
     "output_type": "display_data"
    }
   ],
   "source": [
    "plt.plot(range(new_model.num_phi_updates), new_model.scores_info['TopicKernelScore'].average_contrast, 'g--',\n",
    "         range(new_model.num_phi_updates), new_model.scores_info['TopicKernelScore'].average_purity, 'r--', linewidth=2)\n",
    "plt.xlabel('Iterations count')\n",
    "plt.ylabel('Kernel scores')\n",
    "plt.grid(True)\n",
    "plt.show()"
   ]
  },
  {
   "cell_type": "markdown",
   "metadata": {},
   "source": [
    "As we see, the further study of loaded model only downgraded the quality of the model.\n",
    "\n",
    "Also we can see all information about each topic. For instance let's print topic kernel tokens for first topic:"
   ]
  },
  {
   "cell_type": "code",
   "execution_count": 25,
   "metadata": {
    "collapsed": false
   },
   "outputs": [
    {
     "name": "stdout",
     "output_type": "stream",
     "text": [
      "[u'ability', u'additional', u'ado', u'age', u'agreed', u'aksen', u'alqaeda', u'anniversary', u'appeal', u'application', u'aps', u'assembly', u'atlanta', u'attributed', u'barend', u'basis', u'beer', u'began', u'bench', u'berg', u'biggest', u'black', u'boston', u'brahimi', u'building', u'carry', u'cast', u'ceremony', u'changed', u'collapse', u'columbia', u'commissions', u'completely', u'condis', u'conflicts', u'continued', u'cycles', u'deadline', u'determine', u'discipline', u'donors', u'double', u'emilys', u'entered', u'existing', u'feels', u'feet', u'filter', u'financial', u'finished', u'floor', u'forget', u'fresh', u'fun', u'fundraisers', u'goal', u'gods', u'grand', u'graphic', u'graves', u'guild', u'guilty', u'guns', u'happen', u'happened', u'happy', u'hear', u'hearings', u'heart', u'hiring', u'hotels', u'hunt', u'inappropriate', u'indication', u'indictment', u'interest', u'invaded', u'involved', u'jokes', u'jury', u'knew', u'learned', u'longer', u'looked', u'lud', u'mcauliffe', u'member', u'memorial', u'michael', u'minimize', u'misconduct', u'monkeys', u'nick', u'nyc', u'observer', u'ocean', u'oceana', u'officers', u'optimist', u'oreilly', u'organizing', u'original', u'pace', u'page', u'paper', u'park', u'partys', u'photo', u'picture', u'plame', u'planned', u'plans', u'players', u'playing', u'politicians', u'presidency', u'pressure', u'prominent', u'protesters', u'quarter', u'radicals', u'rapidly', u'rare', u'ready', u'realized', u'red', u'reid', u'religion', u'remark', u'retaliation', u'rice', u'romero', u'roots', u'sadrs', u'sam', u'samara', u'script', u'sick', u'signed', u'skeptical', u'smith', u'sox', u'spot', u'stand', u'stars', u'status', u'stevens', u'stork', u'subject', u'success', u'sudden', u'suddenly', u'supporting', u'susan', u'talked', u'tall', u'targetting', u'test', u'testify', u'testimony', u'theyll', u'town', u'unity', u'updates', u'upset', u'victims', u'visits', u'voice', u'walk', u'wanted', u'warfare', u'watching', u'weekend', u'whos', u'woodward', u'yeah', u'youve', u'zone']\n"
     ]
    }
   ],
   "source": [
    "print new_model.scores_info['TopicKernelScore'].topic_info[new_model.num_phi_updates-1][new_model.topic_names[0]].tokens"
   ]
  },
  {
   "cell_type": "markdown",
   "metadata": {},
   "source": [
    "If we have the batch with documents, that didn't take part in model learning, and we want to get Theta matrix for it, we can use 'find_theta' method:"
   ]
  },
  {
   "cell_type": "code",
   "execution_count": 26,
   "metadata": {
    "collapsed": true
   },
   "outputs": [],
   "source": [
    "test_theta_matrix = model.find_theta(data_path='kos_test', batches=['test_docs.batch'])"
   ]
  },
  {
   "cell_type": "markdown",
   "metadata": {},
   "source": [
    "ArtmModel.find_theta(), as ArtmModel.get_theta(), returns Theta matrix as pandas.DataFrame object. Let's print it:"
   ]
  },
  {
   "cell_type": "code",
   "execution_count": 27,
   "metadata": {
    "collapsed": false
   },
   "outputs": [
    {
     "name": "stdout",
     "output_type": "stream",
     "text": [
      "               3001      3002      3003      3004      3005      3006  \\\n",
      "@topic_0   0.052405  0.056842  0.067987  0.074254  0.048657  0.092068   \n",
      "@topic_1   0.057474  0.065114  0.025062  0.059797  0.074546  0.084413   \n",
      "@topic_2   0.074210  0.037380  0.056515  0.062600  0.049415  0.029606   \n",
      "@topic_3   0.062127  0.035865  0.087573  0.056028  0.045298  0.039367   \n",
      "@topic_4   0.075845  0.073009  0.114470  0.071336  0.074960  0.051759   \n",
      "@topic_5   0.048106  0.042939  0.126453  0.095189  0.100056  0.034118   \n",
      "@topic_6   0.096502  0.051853  0.041913  0.078791  0.074480  0.021237   \n",
      "@topic_7   0.095494  0.224685  0.064006  0.073358  0.112833  0.029555   \n",
      "@topic_8   0.059493  0.062609  0.035958  0.059914  0.069148  0.041933   \n",
      "@topic_9   0.088458  0.064677  0.037460  0.057890  0.079724  0.029288   \n",
      "@topic_10  0.055875  0.037867  0.125445  0.096637  0.099749  0.036904   \n",
      "@topic_11  0.054936  0.081085  0.056414  0.077700  0.049745  0.024867   \n",
      "@topic_12  0.021757  0.038342  0.043907  0.033245  0.031768  0.403157   \n",
      "@topic_13  0.076190  0.087298  0.056556  0.055574  0.054711  0.023986   \n",
      "@topic_14  0.081128  0.040435  0.060282  0.047687  0.034911  0.057742   \n",
      "\n",
      "               3007      3008      3009      3010    ...         3421  \\\n",
      "@topic_0   0.071978  0.166598  0.057343  0.061079    ...     0.069135   \n",
      "@topic_1   0.047913  0.060503  0.075477  0.057231    ...     0.043746   \n",
      "@topic_2   0.057269  0.053857  0.046866  0.043218    ...     0.079235   \n",
      "@topic_3   0.045823  0.054726  0.054837  0.045374    ...     0.032124   \n",
      "@topic_4   0.080227  0.052359  0.087955  0.069349    ...     0.038539   \n",
      "@topic_5   0.053411  0.074375  0.056505  0.062678    ...     0.069930   \n",
      "@topic_6   0.039166  0.050311  0.055364  0.061849    ...     0.109311   \n",
      "@topic_7   0.067162  0.041838  0.065791  0.119426    ...     0.083448   \n",
      "@topic_8   0.128921  0.124233  0.058044  0.071771    ...     0.094996   \n",
      "@topic_9   0.089049  0.045548  0.105156  0.094531    ...     0.120147   \n",
      "@topic_10  0.046650  0.054507  0.054893  0.070781    ...     0.055455   \n",
      "@topic_11  0.105924  0.152067  0.161951  0.082323    ...     0.072006   \n",
      "@topic_12  0.021712  0.007264  0.023352  0.016950    ...     0.012497   \n",
      "@topic_13  0.039901  0.031225  0.057887  0.087814    ...     0.073082   \n",
      "@topic_14  0.104897  0.030590  0.038579  0.055625    ...     0.046349   \n",
      "\n",
      "               3422      3423      3424      3425      3426      3427  \\\n",
      "@topic_0   0.076141  0.062936  0.151553  0.054860  0.056071  0.075431   \n",
      "@topic_1   0.088734  0.032660  0.042899  0.034115  0.042660  0.036627   \n",
      "@topic_2   0.040033  0.056522  0.049247  0.043006  0.066165  0.083409   \n",
      "@topic_3   0.049744  0.036289  0.052527  0.088088  0.113612  0.088341   \n",
      "@topic_4   0.049208  0.072327  0.067194  0.052432  0.050717  0.056918   \n",
      "@topic_5   0.042508  0.129583  0.117806  0.047317  0.062484  0.064802   \n",
      "@topic_6   0.032150  0.106065  0.109732  0.067528  0.054030  0.145409   \n",
      "@topic_7   0.025766  0.074825  0.036969  0.043647  0.037290  0.039432   \n",
      "@topic_8   0.072509  0.076742  0.067635  0.081441  0.047067  0.048416   \n",
      "@topic_9   0.030228  0.075915  0.028345  0.173825  0.045298  0.046254   \n",
      "@topic_10  0.057628  0.062333  0.056817  0.100925  0.110345  0.106266   \n",
      "@topic_11  0.027766  0.049434  0.101543  0.057267  0.104634  0.081523   \n",
      "@topic_12  0.304149  0.016135  0.031326  0.028676  0.099837  0.022585   \n",
      "@topic_13  0.035318  0.100528  0.050561  0.084488  0.048365  0.059324   \n",
      "@topic_14  0.068118  0.047707  0.035846  0.042383  0.061427  0.045262   \n",
      "\n",
      "               3428      3429      3430  \n",
      "@topic_0   0.057749  0.054822  0.068237  \n",
      "@topic_1   0.032516  0.040104  0.029804  \n",
      "@topic_2   0.087695  0.089449  0.052116  \n",
      "@topic_3   0.049343  0.060541  0.071307  \n",
      "@topic_4   0.049193  0.042067  0.053617  \n",
      "@topic_5   0.034194  0.063615  0.103535  \n",
      "@topic_6   0.190073  0.121519  0.103057  \n",
      "@topic_7   0.069550  0.062645  0.056901  \n",
      "@topic_8   0.057675  0.090423  0.116141  \n",
      "@topic_9   0.065953  0.023320  0.045966  \n",
      "@topic_10  0.087443  0.075862  0.081146  \n",
      "@topic_11  0.065634  0.142853  0.079456  \n",
      "@topic_12  0.017406  0.012814  0.009398  \n",
      "@topic_13  0.066469  0.058217  0.066364  \n",
      "@topic_14  0.069109  0.061750  0.062953  \n",
      "\n",
      "[15 rows x 430 columns]\n"
     ]
    }
   ],
   "source": [
    "print test_theta_matrix"
   ]
  }
 ],
 "metadata": {
  "kernelspec": {
   "display_name": "Python 2",
   "language": "python",
   "name": "python2"
  },
  "language_info": {
   "codemirror_mode": {
    "name": "ipython",
    "version": 2
   },
   "file_extension": ".py",
   "mimetype": "text/x-python",
   "name": "python",
   "nbconvert_exporter": "python",
   "pygments_lexer": "ipython2",
   "version": "2.7.7"
  }
 },
 "nbformat": 4,
 "nbformat_minor": 0
}
