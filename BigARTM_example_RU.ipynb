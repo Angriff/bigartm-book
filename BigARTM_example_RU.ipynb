{
 "cells": [
  {
   "cell_type": "markdown",
   "metadata": {},
   "source": [
    "# Новый Python интерфейс BigARTM."
   ]
  },
  {
   "cell_type": "markdown",
   "metadata": {},
   "source": [
    "## Пример №1"
   ]
  },
  {
   "cell_type": "markdown",
   "metadata": {},
   "source": [
    "Здесь приводится простой пример использования нового пользовательского интерфейса на Python библиотеки BigARTM. Мы будем обучать тематическую модель маленькой коллекции 'kos'.\n",
    "Для начала подключим все необходимые модули (убедитесь, что путь к artm_model.py находится в вашей переменной PATH):"
   ]
  },
  {
   "cell_type": "code",
   "execution_count": 1,
   "metadata": {
    "collapsed": false
   },
   "outputs": [],
   "source": [
    "%matplotlib inline\n",
    "import glob\n",
    "import matplotlib.pyplot as plt\n",
    "\n",
    "import artm.artm_model\n",
    "from artm.artm_model import *"
   ]
  },
  {
   "cell_type": "markdown",
   "metadata": {
    "collapsed": false
   },
   "source": [
    "Первым делом содадим тематическую модель. Новый интерфейс позволяет сделать это в одну строчку:"
   ]
  },
  {
   "cell_type": "code",
   "execution_count": 2,
   "metadata": {
    "collapsed": false
   },
   "outputs": [],
   "source": [
    "model = ArtmModel(num_topics=15)"
   ]
  },
  {
   "cell_type": "markdown",
   "metadata": {},
   "source": [
    "ArtmModel — это объект, содержащий в себе всю информацию о текущем состоянии тематической модели. Все наши последующие действия будут производиться в рамках него. Прежде всего распарсим из файлов 'docword' и 'vocab' в формате UCI, если это необходимо:"
   ]
  },
  {
   "cell_type": "code",
   "execution_count": 3,
   "metadata": {
    "collapsed": false
   },
   "outputs": [],
   "source": [
    "if len(glob.glob('kos' + \"/*.batch\")) < 1:\n",
    "    model.parse(data_path='', data_format='bow_uci', collection_name='kos')"
   ]
  },
  {
   "cell_type": "markdown",
   "metadata": {},
   "source": [
    "Следующий шаг — инициализация модели. Сделаем это по словарю, что означает, что\n",
    "- будет создана матрица Фи с именем 'pwt', число строк и столбцов в ней будет взято исходя из числа слов в словаре и заданного в модели числа тем;\n",
    "- эа матрица будет заполнена случайными значениями из диапазона (0, 1) и нормализована.\n",
    "\n",
    "Надо отметить, что этот шаг является опциональным, поскольку модель может быть автоматически инициализирована во время вызовов fit_offline() / fit_online()."
   ]
  },
  {
   "cell_type": "code",
   "execution_count": 4,
   "metadata": {
    "collapsed": false
   },
   "outputs": [],
   "source": [
    "model.initialize(dictionary=model.load_dictionary('kos/dictionary'))"
   ]
  },
  {
   "cell_type": "markdown",
   "metadata": {},
   "source": [
    "ArtmModelпредоставляет возможность использовать все функционалы качества, имеющиеся в BigARTM. Если функционал подключен к модели, то модель будет сохранять все его значения, полученные на момент каждого обновления матрицы Фи.\n",
    "Для контроля за качеством получаемой модели введём несколько метрик:"
   ]
  },
  {
   "cell_type": "code",
   "execution_count": 5,
   "metadata": {
    "collapsed": true
   },
   "outputs": [],
   "source": [
    "model.scores.add(SparsityPhiScore(name='SparsityPhiScore'))\n",
    "model.scores.add(SparsityThetaScore(name='SparsityThetaScore'))\n",
    "model.scores.add(PerplexityScore(name='PerplexityScore'))"
   ]
  },
  {
   "cell_type": "markdown",
   "metadata": {},
   "source": [
    "Также полезно добавить несколько базовых регуляризаторов, повышающих разреженность и различность тем (зададим им стартовые коэффициенты регуляризации, которые можно будет позже изменить)"
   ]
  },
  {
   "cell_type": "code",
   "execution_count": 6,
   "metadata": {
    "collapsed": false
   },
   "outputs": [],
   "source": [
    "model.regularizers.add(SmoothSparsePhiRegularizer(name='SparsePhi', tau=-0.1))\n",
    "model.regularizers.add(SmoothSparseThetaRegularizer(name='SparseTheta', tau=-2.0))\n",
    "model.regularizers.add(DecorrelatorPhiRegularizer(name='DecorrelatorPhi', tau=100000.0))"
   ]
  },
  {
   "cell_type": "markdown",
   "metadata": {},
   "source": [
    "Теперь попробуем обучить модель в оффлайн-режиме (т.е. обновляя Фи раз за проход по коллекции). Инициируем пять проходов:"
   ]
  },
  {
   "cell_type": "code",
   "execution_count": 7,
   "metadata": {
    "collapsed": false
   },
   "outputs": [
    {
     "name": "stdout",
     "output_type": "stream",
     "text": [
      "fit_offline() found 4 batches\n"
     ]
    }
   ],
   "source": [
    "model.fit_offline(data_path='kos', num_collection_passes=5)"
   ]
  },
  {
   "cell_type": "markdown",
   "metadata": {},
   "source": [
    "Проверим результаты первой итерации обучения:"
   ]
  },
  {
   "cell_type": "code",
   "execution_count": 8,
   "metadata": {
    "collapsed": false
   },
   "outputs": [
    {
     "name": "stdout",
     "output_type": "stream",
     "text": [
      "Sparsity Phi:0.154937735303\n",
      "Sparsity Theta:0.0457803692906\n"
     ]
    }
   ],
   "source": [
    "print 'Sparsity Phi:' + str(model.scores_info['SparsityPhiScore'].last_value)\n",
    "print 'Sparsity Theta:' + str(model.scores_info['SparsityThetaScore'].last_value)"
   ]
  },
  {
   "cell_type": "markdown",
   "metadata": {},
   "source": [
    "Видно, что разреженности матриц пока ещё слишком невелики. Попробуем увеличить по модулю значения коэффициентов регуляризации при разреживающих регуляризаторах:"
   ]
  },
  {
   "cell_type": "code",
   "execution_count": 9,
   "metadata": {
    "collapsed": true
   },
   "outputs": [],
   "source": [
    "model.regularizers['SparsePhi'].tau = -0.4\n",
    "model.regularizers['SparseTheta'].tau = -3.0"
   ]
  },
  {
   "cell_type": "markdown",
   "metadata": {},
   "source": [
    "Также полезно добавить функционал 'TopTokensScore'. Он позволит нам увидеть самые вероятные слова в каждой полученной теме"
   ]
  },
  {
   "cell_type": "code",
   "execution_count": 10,
   "metadata": {
    "collapsed": false
   },
   "outputs": [],
   "source": [
    "model.scores.add(TopTokensScore(name='TopTokensScore', num_tokens=5))"
   ]
  },
  {
   "cell_type": "markdown",
   "metadata": {},
   "source": [
    "Продолжим обучение модели, инициировав 15 проходов по коллекции:"
   ]
  },
  {
   "cell_type": "code",
   "execution_count": 11,
   "metadata": {
    "collapsed": false
   },
   "outputs": [
    {
     "name": "stdout",
     "output_type": "stream",
     "text": [
      "fit_offline() found 4 batches\n"
     ]
    }
   ],
   "source": [
    "model.fit_offline(data_path='kos', num_collection_passes=15)"
   ]
  },
  {
   "cell_type": "code",
   "execution_count": 12,
   "metadata": {
    "collapsed": false
   },
   "outputs": [
    {
     "name": "stdout",
     "output_type": "stream",
     "text": [
      "Sparsity Phi:0.783762911478\n",
      "Sparsity Theta:0.193765792031\n"
     ]
    }
   ],
   "source": [
    "print 'Sparsity Phi:' + str(model.scores_info['SparsityPhiScore'].last_value)\n",
    "print 'Sparsity Theta:' + str(model.scores_info['SparsityThetaScore'].last_value)"
   ]
  },
  {
   "cell_type": "markdown",
   "metadata": {},
   "source": [
    "Разреженность всё ещё неудовлетворительная. Попробуем ещё усилить разреживание и продолжить обучение:"
   ]
  },
  {
   "cell_type": "code",
   "execution_count": 13,
   "metadata": {
    "collapsed": false
   },
   "outputs": [
    {
     "name": "stdout",
     "output_type": "stream",
     "text": [
      "fit_offline() found 4 batches\n"
     ]
    }
   ],
   "source": [
    "model.regularizers['SparsePhi'].tau = -1.5\n",
    "model.regularizers['SparseTheta'].tau = -5.0\n",
    "model.fit_offline(data_path='kos', num_collection_passes=15)"
   ]
  },
  {
   "cell_type": "markdown",
   "metadata": {},
   "source": [
    "Нарисуем графики перплексии и разреженностей:"
   ]
  },
  {
   "cell_type": "code",
   "execution_count": 14,
   "metadata": {
    "collapsed": false
   },
   "outputs": [
    {
     "data": {
      "image/png": "[encoded data removed]",
      "text/plain": [
       "<matplotlib.figure.Figure at 0x8d1b690>"
      ]
     },
     "metadata": {},
     "output_type": "display_data"
    }
   ],
   "source": [
    "plt.plot(range(model.num_phi_updates), model.scores_info['PerplexityScore'].value, 'r--', linewidth=2)\n",
    "plt.xlabel('Iterations count')\n",
    "plt.ylabel('Perplexity')\n",
    "plt.grid(True)\n",
    "plt.show()"
   ]
  },
  {
   "cell_type": "code",
   "execution_count": 15,
   "metadata": {
    "collapsed": false
   },
   "outputs": [
    {
     "data": {
      "image/png": "[encoded data removed]",
      "text/plain": [
       "<matplotlib.figure.Figure at 0x10a931d0>"
      ]
     },
     "metadata": {},
     "output_type": "display_data"
    }
   ],
   "source": [
    "plt.plot(range(model.num_phi_updates), model.scores_info['SparsityPhiScore'].value, 'b--',\n",
    "         range(model.num_phi_updates), model.scores_info['SparsityThetaScore'].value, 'r--', linewidth=2)\n",
    "plt.xlabel('Iterations count')\n",
    "plt.ylabel('Phi sparsity, Theta sparsity')\n",
    "plt.grid(True)\n",
    "plt.show()"
   ]
  },
  {
   "cell_type": "markdown",
   "metadata": {},
   "source": [
    "Для столь маленькой коллекции разреженность достаточная. Напечатаем топовые слова в каждой теме:"
   ]
  },
  {
   "cell_type": "code",
   "execution_count": 16,
   "metadata": {
    "collapsed": false
   },
   "outputs": [
    {
     "name": "stdout",
     "output_type": "stream",
     "text": [
      "@topic_0:  [u'account', u'republicans', u'polls', u'governor', u'voter']\n",
      "@topic_1:  [u'dean', u'democratic', u'edwards', u'primary', u'clark']\n",
      "@topic_2:  [u'people', u'issue', u'republicans', u'bill', u'george']\n",
      "@topic_3:  [u'bush', u'president', u'bushs', u'administration', u'white']\n",
      "@topic_4:  [u'jobs', u'community', u'time', u'marriage', u'local']\n",
      "@topic_5:  [u'percent', u'state', u'states', u'million', u'election']\n",
      "@topic_6:  [u'iraq', u'war', u'iraqi', u'military', u'american']\n",
      "@topic_7:  [u'delay', u'house', u'committee', u'military', u'texas']\n",
      "@topic_8:  [u'political', u'media', u'carson', u'conservative', u'campaign']\n",
      "@topic_9:  [u'news', u'time', u'union', u'media', u'labor']\n",
      "@topic_10:  [u'kerry', u'poll', u'polls', u'general', u'voters']\n",
      "@topic_11:  [u'party', u'senate', u'race', u'house', u'republican']\n",
      "@topic_12:  [u'november', u'electoral', u'senate', u'vote', u'sunzoo']\n",
      "@topic_13:  [u'administration', u'officials', u'information', u'health', u'security']\n",
      "@topic_14:  [u'tax', u'federal', u'years', u'law', u'government']\n"
     ]
    }
   ],
   "source": [
    "for topic_name in model.topic_names:\n",
    "    print topic_name + ': ',\n",
    "    print model.scores_info['TopTokensScore'].last_topic_info[topic_name].tokens"
   ]
  },
  {
   "cell_type": "markdown",
   "metadata": {},
   "source": [
    "Последний шаг — сохранение модели. ArtmModel предоставляет две возможности: сохранить модель в формате BigARTM или в .csv файл. \n",
    "- в первом случае модель нельзя будет никак визуализировать, но можно загрузить обратно в ArtmModel и продолжить работу с ней;\n",
    "- .csv файл нельяз загрузить обратно, но на него можно посмотреть глазами.\n",
    "\n",
    "Воспользуемся обеими возможностями:"
   ]
  },
  {
   "cell_type": "code",
   "execution_count": 17,
   "metadata": {
    "collapsed": true
   },
   "outputs": [],
   "source": [
    "model.save(file_name='kos_artm_model')\n",
    "model.to_csv(file_name='kos_artm_model.csv')"
   ]
  },
  {
   "cell_type": "markdown",
   "metadata": {},
   "source": [
    "Дополнительно извлечём Тету:"
   ]
  },
  {
   "cell_type": "code",
   "execution_count": 18,
   "metadata": {
    "collapsed": true
   },
   "outputs": [],
   "source": [
    "theta_matrix = model.get_theta()"
   ]
  },
  {
   "cell_type": "markdown",
   "metadata": {},
   "source": [
    "ArtmModel.get_theta() возвращает Теут как объект pandas.DataFrame. Напечатаем её:"
   ]
  },
  {
   "cell_type": "code",
   "execution_count": 19,
   "metadata": {
    "collapsed": false
   },
   "outputs": [
    {
     "name": "stdout",
     "output_type": "stream",
     "text": [
      "               1         2         3         4         5         6     \\\n",
      "@topic_0   0.000000  0.000000  0.296327  0.000000  0.000000  0.000000   \n",
      "@topic_1   0.000000  0.000000  0.000000  0.000000  0.008687  0.000000   \n",
      "@topic_2   0.055031  0.000000  0.000000  0.027332  0.070590  0.000000   \n",
      "@topic_3   0.103912  0.000000  0.000000  0.018650  0.189213  0.000000   \n",
      "@topic_4   0.000000  0.000000  0.000000  0.030813  0.087446  0.000000   \n",
      "@topic_5   0.112128  0.000000  0.007532  0.006611  0.111909  0.261608   \n",
      "@topic_6   0.212578  0.223221  0.000000  0.014995  0.058350  0.000000   \n",
      "@topic_7   0.090176  0.402782  0.000000  0.081300  0.020580  0.000000   \n",
      "@topic_8   0.128740  0.120044  0.009679  0.623987  0.136699  0.000000   \n",
      "@topic_9   0.000000  0.000000  0.000000  0.086319  0.065242  0.000000   \n",
      "@topic_10  0.067925  0.240366  0.016732  0.019211  0.144297  0.660146   \n",
      "@topic_11  0.118585  0.000000  0.000000  0.063419  0.055680  0.078246   \n",
      "@topic_12  0.000000  0.000000  0.669730  0.000000  0.000000  0.000000   \n",
      "@topic_13  0.073174  0.013587  0.000000  0.027363  0.038914  0.000000   \n",
      "@topic_14  0.037750  0.000000  0.000000  0.000000  0.012392  0.000000   \n",
      "\n",
      "               7         8         9        10      ...         3421  \\\n",
      "@topic_0   0.000000  0.000000  0.000000  0.00000    ...     0.000000   \n",
      "@topic_1   0.000000  0.000000  0.000000  0.00000    ...     0.000000   \n",
      "@topic_2   0.011714  0.045888  0.065326  0.00000    ...     0.020108   \n",
      "@topic_3   0.176168  0.000000  0.056129  0.00000    ...     0.065726   \n",
      "@topic_4   0.000000  0.000000  0.000000  0.00000    ...     0.000000   \n",
      "@topic_5   0.219518  0.000000  0.321285  0.99016    ...     0.166070   \n",
      "@topic_6   0.000000  0.000000  0.001017  0.00000    ...     0.326730   \n",
      "@topic_7   0.000000  0.000000  0.000000  0.00000    ...     0.131054   \n",
      "@topic_8   0.166554  0.000000  0.009920  0.00000    ...     0.116727   \n",
      "@topic_9   0.024485  0.000000  0.000000  0.00000    ...     0.148966   \n",
      "@topic_10  0.401561  0.954112  0.424142  0.00984    ...     0.000000   \n",
      "@topic_11  0.000000  0.000000  0.122180  0.00000    ...     0.024620   \n",
      "@topic_12  0.000000  0.000000  0.000000  0.00000    ...     0.000000   \n",
      "@topic_13  0.000000  0.000000  0.000000  0.00000    ...     0.000000   \n",
      "@topic_14  0.000000  0.000000  0.000000  0.00000    ...     0.000000   \n",
      "\n",
      "               3422      3423      3424      3425      3426  3427      3428  \\\n",
      "@topic_0   0.248629  0.007585  0.000000  0.000000  0.000000     0  0.000000   \n",
      "@topic_1   0.009577  0.005060  0.000000  0.000000  0.000000     0  0.000000   \n",
      "@topic_2   0.009170  0.057869  0.000000  0.000000  0.000000     0  0.181946   \n",
      "@topic_3   0.041867  0.092550  0.000000  0.884821  0.163449     0  0.118787   \n",
      "@topic_4   0.004422  0.069972  0.502939  0.000000  0.000000     0  0.084288   \n",
      "@topic_5   0.027381  0.100459  0.000000  0.000000  0.327769     1  0.000000   \n",
      "@topic_6   0.032276  0.126256  0.497061  0.000000  0.000000     0  0.461397   \n",
      "@topic_7   0.000000  0.141597  0.000000  0.000000  0.000000     0  0.000000   \n",
      "@topic_8   0.042171  0.102829  0.000000  0.063672  0.000000     0  0.100047   \n",
      "@topic_9   0.005166  0.068404  0.000000  0.051507  0.000000     0  0.053535   \n",
      "@topic_10  0.036690  0.062031  0.000000  0.000000  0.325353     0  0.000000   \n",
      "@topic_11  0.005567  0.023228  0.000000  0.000000  0.088714     0  0.000000   \n",
      "@topic_12  0.498361  0.000000  0.000000  0.000000  0.094715     0  0.000000   \n",
      "@topic_13  0.000000  0.132972  0.000000  0.000000  0.000000     0  0.000000   \n",
      "@topic_14  0.038721  0.009188  0.000000  0.000000  0.000000     0  0.000000   \n",
      "\n",
      "               3429      3430  \n",
      "@topic_0   0.000000  0.000000  \n",
      "@topic_1   0.000000  0.000000  \n",
      "@topic_2   0.199745  0.000000  \n",
      "@topic_3   0.000000  0.265146  \n",
      "@topic_4   0.000000  0.005605  \n",
      "@topic_5   0.000000  0.087909  \n",
      "@topic_6   0.147633  0.302471  \n",
      "@topic_7   0.000000  0.000000  \n",
      "@topic_8   0.273693  0.174471  \n",
      "@topic_9   0.000000  0.000000  \n",
      "@topic_10  0.000000  0.000000  \n",
      "@topic_11  0.378930  0.164397  \n",
      "@topic_12  0.000000  0.000000  \n",
      "@topic_13  0.000000  0.000000  \n",
      "@topic_14  0.000000  0.000000  \n",
      "\n",
      "[15 rows x 3430 columns]\n"
     ]
    }
   ],
   "source": [
    "print theta_matrix"
   ]
  },
  {
   "cell_type": "markdown",
   "metadata": {},
   "source": [
    "## Пример №2"
   ]
  },
  {
   "cell_type": "markdown",
   "metadata": {},
   "source": [
    "Это вторая часть примера использования нового интерфейса библиотеки. Загрузим обратно модель, сохранённую в прошлой части и применим к ней несколько операций.\n",
    "\n",
    "В первую очередь опять создадим новую тематическую модель:"
   ]
  },
  {
   "cell_type": "code",
   "execution_count": 20,
   "metadata": {
    "collapsed": false
   },
   "outputs": [],
   "source": [
    "new_model = ArtmModel(num_processors=2, num_topics=1, num_document_passes=1)"
   ]
  },
  {
   "cell_type": "markdown",
   "metadata": {},
   "source": [
    "Вторым шагом добавим в неё функционалы и регуляризаторы. Ограничимся одной новой метрикой и двумя уже знакомыми регуляризаторами:"
   ]
  },
  {
   "cell_type": "code",
   "execution_count": 21,
   "metadata": {
    "collapsed": false
   },
   "outputs": [],
   "source": [
    "new_model.scores.add(TopicKernelScore(name='TopicKernelScore'))\n",
    "new_model.regularizers.add(SmoothSparsePhiRegularizer(name='SparsePhi', tau=-0.1))\n",
    "new_model.regularizers.add(DecorrelatorPhiRegularizer(name='DecorrelatorPhi', tau=100000.0))"
   ]
  },
  {
   "cell_type": "markdown",
   "metadata": {},
   "source": [
    "Теперь загрузим файл 'kos_artm_model' с моделью обратно в библиотеку"
   ]
  },
  {
   "cell_type": "code",
   "execution_count": 22,
   "metadata": {
    "collapsed": true
   },
   "outputs": [],
   "source": [
    "new_model.load('kos_artm_model')"
   ]
  },
  {
   "cell_type": "markdown",
   "metadata": {},
   "source": [
    "Имейте ввиду, что загружаемая модель перепишет несколько параметров нашего объекта ArtmModel: число и имена тем, матрицу Фи. Также загрузка сотрёт всю информацию о данных метрик, посчитанных ранее. Тем не менее, сами подключенные метрики и регуляризаторы никуда не денуться. В нашем случае это функционал 'TopicKernelScore' и регуляризаторы 'SparsePhi' и 'DecorrealtorPhi'.\n",
    "\n",
    "Теперь продолжим обучение модели, но, для примера, рассмотрим онлайновый режим. Это означает, что\n",
    "- число проходов по каждому документу увеличивается\n",
    "- матрица Фи может быть обновлена произвольное количество раз за один проход по коллекции (но не чаще, чем раз за обработанный батч)\n",
    "- нам требуется только оин проход по коллекции (но здесь мы сделаем 5, поскольку коллекция 'kos' довольно маленькая)."
   ]
  },
  {
   "cell_type": "code",
   "execution_count": 23,
   "metadata": {
    "collapsed": false
   },
   "outputs": [
    {
     "name": "stdout",
     "output_type": "stream",
     "text": [
      "fit_online() found 4 batches\n",
      "fit_online() found 4 batches\n",
      "fit_online() found 4 batches\n",
      "fit_online() found 4 batches\n",
      "fit_online() found 4 batches\n"
     ]
    }
   ],
   "source": [
    "new_model.num_document_passes = 10\n",
    "for i in range(5):\n",
    "    new_model.fit_online(data_path='kos', update_every=4)"
   ]
  },
  {
   "cell_type": "markdown",
   "metadata": {},
   "source": [
    "Параметр 'update_every' говорит модели о том, раз в сколько батчей следует обновлять матрицу Фи.\n",
    "\n",
    "Выведем средние харакетристики ядер тем (чистоту и контрастность):"
   ]
  },
  {
   "cell_type": "code",
   "execution_count": 24,
   "metadata": {
    "collapsed": false
   },
   "outputs": [
    {
     "data": {
      "image/png": "[encoded data removed]",
      "text/plain": [
       "<matplotlib.figure.Figure at 0x10bc8f30>"
      ]
     },
     "metadata": {},
     "output_type": "display_data"
    }
   ],
   "source": [
    "plt.plot(range(new_model.num_phi_updates), new_model.scores_info['TopicKernelScore'].average_contrast, 'g--',\n",
    "         range(new_model.num_phi_updates), new_model.scores_info['TopicKernelScore'].average_purity, 'r--', linewidth=2)\n",
    "plt.xlabel('Iterations count')\n",
    "plt.ylabel('Kernel scores')\n",
    "plt.grid(True)\n",
    "plt.show()"
   ]
  },
  {
   "cell_type": "markdown",
   "metadata": {},
   "source": [
    "Как мы видим, дальнейшее обучение загруженной модели только ухудшило её качество.\n",
    "\n",
    "Также можно посмотреть на ифнормацию о ядрах каждой темы. Для примера выведем все ядровые слова первой темы:"
   ]
  },
  {
   "cell_type": "code",
   "execution_count": 25,
   "metadata": {
    "collapsed": false
   },
   "outputs": [
    {
     "name": "stdout",
     "output_type": "stream",
     "text": [
      "[u'account', u'atlanta', u'attempt', u'barbero', u'bench', u'benson', u'blast', u'bloomfield', u'bob', u'boxblogroll', u'calculator', u'cast', u'casts', u'challenge', u'challenger', u'challengers', u'chedrcheez', u'cities', u'citizen', u'city', u'clock', u'cnn', u'con', u'consistent', u'contact', u'corporate', u'create', u'crooks', u'culture', u'data', u'dem', u'dkosopedia', u'duderino', u'exit', u'falling', u'final', u'francisco', u'ground', u'heart', u'hoodies', u'hotshotxi', u'idetestthispres', u'katerina', u'king', u'kossacks', u'large', u'login', u'man', u'mich', u'midday', u'mike', u'misterajc', u'mosh', u'needed', u'nprigo', u'oceana', u'petraeus', u'photo', u'profile', u'recommended', u'releasing', u'return', u'san', u'sappy', u'save', u'scared', u'slate', u'spindizzy', u'stark', u'steal', u'takes', u'ticket', u'tradesports', u'trouble', u'turnout', u'updated', u'vaantirepublican', u'verification', u'virginiadem', u'voted', u'voter', u'voting', u'west', u'woodward', u'working', u'yahoo']\n"
     ]
    }
   ],
   "source": [
    "print new_model.scores_info['TopicKernelScore'].last_topic_info[new_model.topic_names[0]].tokens"
   ]
  },
  {
   "cell_type": "markdown",
   "metadata": {},
   "source": [
    "Если у нас есть батч с документами, который не являлся частью обучающей выборки (или являлся, но мы не сохраняли Тету для экономии памяти), и мы хотим узнать столбцы матрицы Теты для него, то следует использовать метод 'find_theta':"
   ]
  },
  {
   "cell_type": "code",
   "execution_count": 26,
   "metadata": {
    "collapsed": true
   },
   "outputs": [],
   "source": [
    "test_theta_matrix = model.find_theta(data_path='kos_test', batches=['test_docs.batch'])"
   ]
  },
  {
   "cell_type": "markdown",
   "metadata": {},
   "source": [
    "ArtmModel.find_theta(), как и ArtmModel.get_theta(), возвращает Тету в виде объекта pandas.DataFrame. Напечатаем ее:"
   ]
  },
  {
   "cell_type": "code",
   "execution_count": 27,
   "metadata": {
    "collapsed": false
   },
   "outputs": [
    {
     "name": "stdout",
     "output_type": "stream",
     "text": [
      "               3001      3002      3003      3004      3005      3006  \\\n",
      "@topic_0   0.010029  0.046544  0.018492  0.044125  0.054117  0.200978   \n",
      "@topic_1   0.034398  0.031083  0.038251  0.049749  0.053275  0.023577   \n",
      "@topic_2   0.072932  0.041588  0.065689  0.053779  0.043178  0.025114   \n",
      "@topic_3   0.077537  0.044683  0.130908  0.075696  0.084258  0.032617   \n",
      "@topic_4   0.076735  0.073604  0.089264  0.075005  0.060748  0.015790   \n",
      "@topic_5   0.088859  0.034658  0.174187  0.102980  0.065022  0.034717   \n",
      "@topic_6   0.146552  0.036937  0.037460  0.047756  0.073838  0.013536   \n",
      "@topic_7   0.077916  0.358568  0.057663  0.070827  0.111595  0.028399   \n",
      "@topic_8   0.061047  0.038317  0.042860  0.077987  0.067100  0.026728   \n",
      "@topic_9   0.094982  0.038908  0.034815  0.070141  0.085002  0.024558   \n",
      "@topic_10  0.041359  0.043763  0.137598  0.064385  0.087523  0.045948   \n",
      "@topic_11  0.049356  0.105231  0.032853  0.143426  0.129099  0.032601   \n",
      "@topic_12  0.015597  0.024173  0.066916  0.022721  0.021047  0.468872   \n",
      "@topic_13  0.066423  0.037325  0.026759  0.045725  0.043186  0.015139   \n",
      "@topic_14  0.086277  0.044619  0.046284  0.055696  0.021012  0.011425   \n",
      "\n",
      "               3007      3008      3009      3010    ...         3421  \\\n",
      "@topic_0   0.020064  0.008017  0.042582  0.022432    ...     0.031282   \n",
      "@topic_1   0.037245  0.103182  0.091719  0.060052    ...     0.025336   \n",
      "@topic_2   0.078237  0.034137  0.049917  0.087817    ...     0.058739   \n",
      "@topic_3   0.024340  0.040070  0.050475  0.091634    ...     0.078317   \n",
      "@topic_4   0.056130  0.024000  0.075467  0.048092    ...     0.033401   \n",
      "@topic_5   0.065392  0.018267  0.067609  0.054986    ...     0.118239   \n",
      "@topic_6   0.025398  0.021415  0.035083  0.027467    ...     0.183527   \n",
      "@topic_7   0.032768  0.031181  0.051599  0.193359    ...     0.103670   \n",
      "@topic_8   0.127205  0.161595  0.069689  0.068063    ...     0.097941   \n",
      "@topic_9   0.074341  0.021823  0.044540  0.080990    ...     0.111732   \n",
      "@topic_10  0.045401  0.050993  0.027169  0.043022    ...     0.023665   \n",
      "@topic_11  0.291339  0.441623  0.323828  0.115767    ...     0.061080   \n",
      "@topic_12  0.017645  0.002249  0.007465  0.007004    ...     0.003265   \n",
      "@topic_13  0.024112  0.031214  0.042237  0.045060    ...     0.037178   \n",
      "@topic_14  0.080383  0.010235  0.020622  0.054256    ...     0.032628   \n",
      "\n",
      "               3422      3423      3424      3425      3426      3427  \\\n",
      "@topic_0   0.185420  0.021939  0.039791  0.010228  0.043500  0.005427   \n",
      "@topic_1   0.029173  0.020157  0.043558  0.028549  0.051866  0.043861   \n",
      "@topic_2   0.029104  0.060245  0.074465  0.068322  0.033534  0.047228   \n",
      "@topic_3   0.050783  0.087518  0.067104  0.313504  0.120525  0.157247   \n",
      "@topic_4   0.025945  0.069882  0.153363  0.037097  0.036332  0.034982   \n",
      "@topic_5   0.041265  0.092864  0.044696  0.045092  0.173904  0.217342   \n",
      "@topic_6   0.044686  0.113294  0.149874  0.039411  0.030715  0.119460   \n",
      "@topic_7   0.015030  0.124938  0.056206  0.027845  0.007963  0.004884   \n",
      "@topic_8   0.051029  0.094601  0.081062  0.101416  0.017929  0.027104   \n",
      "@topic_9   0.026535  0.068818  0.033497  0.097926  0.034265  0.030700   \n",
      "@topic_10  0.047643  0.063798  0.058309  0.066891  0.172979  0.120265   \n",
      "@topic_11  0.026884  0.034034  0.083726  0.050502  0.096236  0.082189   \n",
      "@topic_12  0.356072  0.007347  0.022327  0.022591  0.098183  0.035622   \n",
      "@topic_13  0.021934  0.117561  0.058058  0.062500  0.042184  0.041921   \n",
      "@topic_14  0.048497  0.023003  0.033966  0.028125  0.039886  0.031768   \n",
      "\n",
      "               3428      3429      3430  \n",
      "@topic_0   0.025842  0.008756  0.007132  \n",
      "@topic_1   0.020193  0.034616  0.034313  \n",
      "@topic_2   0.118743  0.127712  0.047621  \n",
      "@topic_3   0.098391  0.067986  0.143231  \n",
      "@topic_4   0.088659  0.045455  0.060417  \n",
      "@topic_5   0.018380  0.040651  0.086152  \n",
      "@topic_6   0.209742  0.116125  0.154861  \n",
      "@topic_7   0.046571  0.034972  0.056516  \n",
      "@topic_8   0.092549  0.146400  0.113977  \n",
      "@topic_9   0.078005  0.021815  0.036535  \n",
      "@topic_10  0.040337  0.071647  0.040816  \n",
      "@topic_11  0.046245  0.171208  0.111190  \n",
      "@topic_12  0.012633  0.009276  0.007105  \n",
      "@topic_13  0.054273  0.044725  0.052615  \n",
      "@topic_14  0.049437  0.058656  0.047520  \n",
      "\n",
      "[15 rows x 430 columns]\n"
     ]
    }
   ],
   "source": [
    "print test_theta_matrix"
   ]
  }
 ],
 "metadata": {
  "kernelspec": {
   "display_name": "Python 2",
   "language": "python",
   "name": "python2"
  },
  "language_info": {
   "codemirror_mode": {
    "name": "ipython",
    "version": 2
   },
   "file_extension": ".py",
   "mimetype": "text/x-python",
   "name": "python",
   "nbconvert_exporter": "python",
   "pygments_lexer": "ipython2",
   "version": "2.7.7"
  }
 },
 "nbformat": 4,
 "nbformat_minor": 0
}
