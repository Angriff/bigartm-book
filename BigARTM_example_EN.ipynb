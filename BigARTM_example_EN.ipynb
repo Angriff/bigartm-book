{
 "cells": [
  {
   "cell_type": "markdown",
   "metadata": {},
   "source": [
    "# BigARTM new Python API."
   ]
  },
  {
   "cell_type": "markdown",
   "metadata": {},
   "source": [
    "## Example #1"
   ]
  },
  {
   "cell_type": "markdown",
   "metadata": {},
   "source": [
    "This paper provides simple example of usage of new Python API. We will learn a model on the small dataset 'kos'.\n",
    "Let's make necessary imports at first (note that you should have artm_model.py path in your Pyhton PATH variable):"
   ]
  },
  {
   "cell_type": "code",
   "execution_count": 1,
   "metadata": {
    "collapsed": false
   },
   "outputs": [],
   "source": [
    "%matplotlib inline\n",
    "import glob\n",
    "import matplotlib.pyplot as plt\n",
    "\n",
    "import artm.artm_model\n",
    "from artm.artm_model import *"
   ]
  },
  {
   "cell_type": "markdown",
   "metadata": {
    "collapsed": false
   },
   "source": [
    "The first step is to create a topic model. New API allows us to do it as a single line:"
   ]
  },
  {
   "cell_type": "code",
   "execution_count": 2,
   "metadata": {
    "collapsed": false
   },
   "outputs": [],
   "source": [
    "model = ArtmModel(num_topics=15)"
   ]
  },
  {
   "cell_type": "markdown",
   "metadata": {},
   "source": [
    "ArtmModel is an object, that contains all information about current state of the topic model. All our next actions will be held over it. First of all we need to parse the collection from 'docword' and 'vocab' files in UCI format, if it is necessary:"
   ]
  },
  {
   "cell_type": "code",
   "execution_count": 3,
   "metadata": {
    "collapsed": false
   },
   "outputs": [],
   "source": [
    "if len(glob.glob('kos' + \"/*.batch\")) < 1:\n",
    "    parse(data_path='', data_format='bow_uci', collection_name='kos')"
   ]
  },
  {
   "cell_type": "markdown",
   "metadata": {},
   "source": [
    "Next step is to initilize model with collection dictionary. It means, that \n",
    "- Phi matrix 'pwt' will be created in appliance with number of tokens in dictionary and topics count in model\n",
    "- This matrix will be filled with random numbers in (0, 1) and normalized\n",
    "\n",
    "Note that this step is optional, because the model can be auto-initialized during fit_offline() / fit_online() call."
   ]
  },
  {
   "cell_type": "code",
   "execution_count": 4,
   "metadata": {
    "collapsed": true
   },
   "outputs": [],
   "source": [
    "model.load_dictionary(dictionary_name='dictionary', dictionary_path='kos/dictionary')\n",
    "model.initialize(dictionary_name='dictionary')"
   ]
  },
  {
   "cell_type": "markdown",
   "metadata": {},
   "source": [
    "ArtmModel provides all model scores, that exists in BigARTM. If you have applied the score to the model, the model will save it's values on every update of Phi matrix.\n",
    "In order to control the quality of the model we will add come scores to it:"
   ]
  },
  {
   "cell_type": "code",
   "execution_count": 5,
   "metadata": {
    "collapsed": true
   },
   "outputs": [],
   "source": [
    "model.scores.add(SparsityPhiScore(name='SparsityPhiScore'))\n",
    "model.scores.add(SparsityThetaScore(name='SparsityThetaScore'))\n",
    "model.scores.add(PerplexityScore(name='PerplexityScore'))"
   ]
  },
  {
   "cell_type": "markdown",
   "metadata": {},
   "source": [
    "Also it is usefull to add basic regularizers to improve sparsity and variance of the topics (we will set some initial tau coeffitients for the regularizers, they can be changed in future)"
   ]
  },
  {
   "cell_type": "code",
   "execution_count": 6,
   "metadata": {
    "collapsed": false
   },
   "outputs": [],
   "source": [
    "model.regularizers.add(SmoothSparsePhiRegularizer(name='SparsePhi', tau=-0.1))\n",
    "model.regularizers.add(SmoothSparseThetaRegularizer(name='SparseTheta', tau=-2.0))\n",
    "model.regularizers.add(DecorrelatorPhiRegularizer(name='DecorrelatorPhi', tau=100000.0))"
   ]
  },
  {
   "cell_type": "markdown",
   "metadata": {},
   "source": [
    "Now let's try to learn the model in the offline mode (e.g. with one Phi update during one scan of the whole collection). We will invoke 5 scans:"
   ]
  },
  {
   "cell_type": "code",
   "execution_count": 7,
   "metadata": {
    "collapsed": false
   },
   "outputs": [],
   "source": [
    "model.fit_offline(data_path='kos', num_collection_passes=5)"
   ]
  },
  {
   "cell_type": "markdown",
   "metadata": {},
   "source": [
    "Let's check the result of the first iteration of learning:"
   ]
  },
  {
   "cell_type": "code",
   "execution_count": 8,
   "metadata": {
    "collapsed": false
   },
   "outputs": [
    {
     "name": "stdout",
     "output_type": "stream",
     "text": [
      "Sparsity Phi:0.425060334009\n",
      "Sparsity Theta:0.699183673469\n"
     ]
    }
   ],
   "source": [
    "print 'Sparsity Phi:' + str(model.scores_info['SparsityPhiScore'].last_value)\n",
    "print 'Sparsity Theta:' + str(model.scores_info['SparsityThetaScore'].last_value)"
   ]
  },
  {
   "cell_type": "markdown",
   "metadata": {},
   "source": [
    "We can see, that sparsity levels of both Phi and Theta are too low. Let's increase (in modulus) the coefficients of regularization for sparsity regularizers:"
   ]
  },
  {
   "cell_type": "code",
   "execution_count": 9,
   "metadata": {
    "collapsed": true
   },
   "outputs": [],
   "source": [
    "model.regularizers['SparsePhi'].tau = -0.4\n",
    "model.regularizers['SparseTheta'].tau = -3.0"
   ]
  },
  {
   "cell_type": "markdown",
   "metadata": {},
   "source": [
    "Also it will be useful to add new score 'TopTokensScore'. It will allow us to see the most probable tokens in each topic"
   ]
  },
  {
   "cell_type": "code",
   "execution_count": 10,
   "metadata": {
    "collapsed": true
   },
   "outputs": [],
   "source": [
    "model.scores.add(TopTokensScore(name='TopTokensScore', num_tokens=5))"
   ]
  },
  {
   "cell_type": "markdown",
   "metadata": {},
   "source": [
    "Next we will continue the learning of our model, 15 scans of the collection will be invoked now"
   ]
  },
  {
   "cell_type": "code",
   "execution_count": 11,
   "metadata": {
    "collapsed": false
   },
   "outputs": [],
   "source": [
    "model.fit_offline(data_path='kos', num_collection_passes=15)"
   ]
  },
  {
   "cell_type": "code",
   "execution_count": 12,
   "metadata": {
    "collapsed": false
   },
   "outputs": [
    {
     "name": "stdout",
     "output_type": "stream",
     "text": [
      "Sparsity Phi:0.638024905879\n",
      "Sparsity Theta:0.793756073858\n"
     ]
    }
   ],
   "source": [
    "print 'Sparsity Phi:' + str(model.scores_info['SparsityPhiScore'].last_value)\n",
    "print 'Sparsity Theta:' + str(model.scores_info['SparsityThetaScore'].last_value)"
   ]
  },
  {
   "cell_type": "markdown",
   "metadata": {},
   "source": [
    "The sparsity is still unsatisfactory. Let's try new tau coefficients and continue model learning:"
   ]
  },
  {
   "cell_type": "code",
   "execution_count": 13,
   "metadata": {
    "collapsed": false
   },
   "outputs": [],
   "source": [
    "model.regularizers['SparsePhi'].tau = -1.5\n",
    "model.regularizers['SparseTheta'].tau = -5.0\n",
    "model.fit_offline(data_path='kos', num_collection_passes=15)"
   ]
  },
  {
   "cell_type": "markdown",
   "metadata": {},
   "source": [
    "Let's plot perplexity and sparsity of the model to check it's quality:"
   ]
  },
  {
   "cell_type": "code",
   "execution_count": 14,
   "metadata": {
    "collapsed": false
   },
   "outputs": [
    {
     "data": {
      "image/png": "[encoded data removed]",
      "text/plain": [
       "<matplotlib.figure.Figure at 0x9020ad0>"
      ]
     },
     "metadata": {},
     "output_type": "display_data"
    }
   ],
   "source": [
    "plt.plot(range(model.num_phi_updates), model.scores_info['PerplexityScore'].value, 'r--', linewidth=2)\n",
    "plt.xlabel('Iterations count')\n",
    "plt.ylabel('Perplexity')\n",
    "plt.grid(True)\n",
    "plt.show()"
   ]
  },
  {
   "cell_type": "code",
   "execution_count": 15,
   "metadata": {
    "collapsed": false
   },
   "outputs": [
    {
     "data": {
      "image/png": "[encoded data removed]",
      "text/plain": [
       "<matplotlib.figure.Figure at 0x93bd9f0>"
      ]
     },
     "metadata": {},
     "output_type": "display_data"
    }
   ],
   "source": [
    "plt.plot(range(model.num_phi_updates), model.scores_info['SparsityPhiScore'].value, 'b--',\n",
    "         range(model.num_phi_updates), model.scores_info['SparsityThetaScore'].value, 'r--', linewidth=2)\n",
    "plt.xlabel('Iterations count')\n",
    "plt.ylabel('Phi sparsity, Theta sparsity')\n",
    "plt.grid(True)\n",
    "plt.show()"
   ]
  },
  {
   "cell_type": "markdown",
   "metadata": {},
   "source": [
    "For such small collection the sparsity is enough. Next step is to visualize the top tokens:"
   ]
  },
  {
   "cell_type": "code",
   "execution_count": 16,
   "metadata": {
    "collapsed": false
   },
   "outputs": [
    {
     "name": "stdout",
     "output_type": "stream",
     "text": [
      "@topic_0:  [u'bloggers', u'book', u'convention', u'blogs', u'boat']\n",
      "@topic_1:  [u'dean', u'clark', u'edwards', u'primary', u'lieberman']\n",
      "@topic_2:  [u'republican', u'republicans', u'party', u'vote', u'democrats']\n",
      "@topic_3:  [u'bush', u'administration', u'president', u'cheney', u'house']\n",
      "@topic_4:  [u'delay', u'house', u'media', u'committee', u'texas']\n",
      "@topic_5:  [u'democrats', u'states', u'million', u'state', u'democratic']\n",
      "@topic_6:  [u'iraq', u'war', u'bush', u'iraqi', u'bushs']\n",
      "@topic_7:  [u'military', u'soldiers', u'abu', u'pentagon', u'iraqi']\n",
      "@topic_8:  [u'carson', u'coburn', u'oklahoma', u'media', u'speech']\n",
      "@topic_9:  [u'party', u'nader', u'dean', u'unions', u'ballot']\n",
      "@topic_10:  [u'kerry', u'bush', u'poll', u'percent', u'voters']\n",
      "@topic_11:  [u'senate', u'race', u'elections', u'campaign', u'house']\n",
      "@topic_12:  [u'november', u'account', u'electoral', u'governor', u'house']\n",
      "@topic_13:  [u'bush', u'administration', u'tax', u'jobs', u'health']\n",
      "@topic_14:  [u'oil', u'space', u'blades', u'meteor', u'rights']\n"
     ]
    }
   ],
   "source": [
    "for topic_name in model.topic_names:\n",
    "    print topic_name + ': ',\n",
    "    print model.scores_info['TopTokensScore'].last_topic_info[topic_name].tokens"
   ]
  },
  {
   "cell_type": "markdown",
   "metadata": {},
   "source": [
    "Let's extract Phi matrix as pandas.DataFrame:"
   ]
  },
  {
   "cell_type": "code",
   "execution_count": 17,
   "metadata": {
    "collapsed": true
   },
   "outputs": [],
   "source": [
    "phi_matrix = model.get_phi()"
   ]
  },
  {
   "cell_type": "markdown",
   "metadata": {},
   "source": [
    "Now we'll print it:"
   ]
  },
  {
   "cell_type": "code",
   "execution_count": 18,
   "metadata": {
    "collapsed": false
   },
   "outputs": [
    {
     "name": "stdout",
     "output_type": "stream",
     "text": [
      "            @topic_0  @topic_1  @topic_2  @topic_3  @topic_4  @topic_5  \\\n",
      "aarp        0.000000  0.000252  0.000000  0.000000  0.000000  0.000000   \n",
      "abandon     0.000000  0.000000  0.000000  0.000059  0.000000  0.000000   \n",
      "abandoned   0.000000  0.002069  0.000000  0.000092  0.000093  0.000000   \n",
      "abandoning  0.000000  0.000000  0.000000  0.000000  0.000000  0.000000   \n",
      "abb         0.000570  0.000195  0.003486  0.000000  0.000000  0.000000   \n",
      "abc         0.000000  0.000199  0.000000  0.000000  0.000000  0.000000   \n",
      "abcs        0.000000  0.000000  0.000000  0.000000  0.000000  0.000109   \n",
      "abdullah    0.000000  0.000286  0.000000  0.000000  0.000093  0.001458   \n",
      "ability     0.000000  0.000000  0.003585  0.000000  0.000287  0.000000   \n",
      "aboard      0.000000  0.000000  0.000121  0.000000  0.000000  0.000000   \n",
      "abortion    0.000000  0.000000  0.000000  0.000081  0.000000  0.000000   \n",
      "abortions   0.000000  0.000000  0.000000  0.000000  0.000329  0.000000   \n",
      "abraham     0.000000  0.000000  0.000252  0.000000  0.000000  0.000000   \n",
      "abrams      0.000000  0.000089  0.000045  0.000000  0.000000  0.000000   \n",
      "abroad      0.000000  0.000000  0.000147  0.000211  0.000000  0.000000   \n",
      "absence     0.000000  0.000009  0.001886  0.000000  0.000000  0.000000   \n",
      "absent      0.000000  0.000000  0.000000  0.000114  0.000000  0.000000   \n",
      "absentee    0.000211  0.000948  0.000000  0.000000  0.000000  0.000000   \n",
      "absolute    0.000000  0.000000  0.000000  0.000000  0.000000  0.000000   \n",
      "absolutely  0.000000  0.000000  0.000000  0.000000  0.000035  0.000000   \n",
      "abstain     0.000000  0.000000  0.000195  0.000000  0.000208  0.000000   \n",
      "absurd      0.000000  0.000000  0.000000  0.000000  0.000000  0.000635   \n",
      "abu         0.000000  0.000000  0.000000  0.000132  0.000000  0.006459   \n",
      "abuse       0.000000  0.000000  0.000253  0.000000  0.000435  0.000000   \n",
      "abuses      0.000000  0.004789  0.000288  0.000000  0.000000  0.000000   \n",
      "academy     0.000132  0.000000  0.000000  0.000000  0.000000  0.000000   \n",
      "accent      0.000000  0.000556  0.000000  0.000629  0.000000  0.000000   \n",
      "accept      0.000000  0.001887  0.000000  0.000000  0.000122  0.000000   \n",
      "acceptable  0.000000  0.001274  0.000152  0.000000  0.000000  0.000000   \n",
      "acceptance  0.000422  0.000630  0.000000  0.000221  0.000000  0.000000   \n",
      "...              ...       ...       ...       ...       ...       ...   \n",
      "yanks       0.000000  0.000000  0.000000  0.000000  0.000000  0.000000   \n",
      "yard        0.000000  0.000000  0.000000  0.000000  0.000000  0.000176   \n",
      "yeah        0.000000  0.000000  0.000000  0.000736  0.000000  0.000000   \n",
      "year        0.000000  0.000000  0.000095  0.000000  0.000100  0.000000   \n",
      "years       0.000000  0.000000  0.000000  0.000000  0.000000  0.000086   \n",
      "yell        0.000000  0.000000  0.000000  0.000000  0.000000  0.000000   \n",
      "yellin      0.000000  0.000000  0.000000  0.000000  0.000094  0.000000   \n",
      "yesterday   0.000000  0.000000  0.000000  0.000000  0.000000  0.000509   \n",
      "yesterdays  0.000000  0.000000  0.000000  0.000022  0.000000  0.000295   \n",
      "yield       0.000000  0.000085  0.000000  0.000000  0.000000  0.000000   \n",
      "york        0.000000  0.000000  0.000000  0.000000  0.000034  0.000252   \n",
      "yorker      0.000000  0.000000  0.000069  0.000000  0.000000  0.000000   \n",
      "yorkers     0.000000  0.000000  0.000000  0.000095  0.000000  0.000000   \n",
      "youd        0.000000  0.000176  0.000000  0.000000  0.000000  0.000578   \n",
      "youll       0.000000  0.000000  0.000168  0.000000  0.000311  0.000000   \n",
      "young       0.000000  0.000000  0.000000  0.000653  0.000000  0.000387   \n",
      "younger     0.000000  0.000000  0.000067  0.000000  0.000624  0.000193   \n",
      "youre       0.000000  0.000000  0.000000  0.000000  0.000000  0.000599   \n",
      "youth       0.000000  0.000000  0.000026  0.000000  0.000086  0.000994   \n",
      "youve       0.000154  0.000791  0.000000  0.000185  0.000342  0.000452   \n",
      "yucca       0.000000  0.000000  0.000000  0.000000  0.000332  0.000000   \n",
      "yup         0.000000  0.000000  0.000000  0.000000  0.000000  0.000000   \n",
      "zahn        0.000000  0.000000  0.000000  0.000000  0.000000  0.000594   \n",
      "zarqawi     0.000000  0.000000  0.000000  0.000127  0.000000  0.000000   \n",
      "zell        0.003083  0.000000  0.000000  0.000000  0.000000  0.000000   \n",
      "zimbabwe    0.000000  0.000000  0.000144  0.000000  0.000000  0.000000   \n",
      "zogby       0.000000  0.000000  0.000000  0.000000  0.000070  0.000032   \n",
      "zogbys      0.000000  0.000000  0.000000  0.000051  0.000038  0.000000   \n",
      "zone        0.000000  0.000000  0.000000  0.000000  0.000000  0.000120   \n",
      "zones       0.000000  0.000000  0.000000  0.000000  0.000000  0.000000   \n",
      "\n",
      "            @topic_6  @topic_7  @topic_8  @topic_9  @topic_10  @topic_11  \\\n",
      "aarp        0.000126  0.000000  0.000302  0.000000   0.000000   0.000000   \n",
      "abandon     0.000000  0.000000  0.000079  0.000044   0.000242   0.000000   \n",
      "abandoned   0.000000  0.000000  0.000146  0.000000   0.000000   0.000000   \n",
      "abandoning  0.000000  0.000000  0.000000  0.000000   0.000000   0.000000   \n",
      "abb         0.000000  0.000000  0.000000  0.000000   0.000000   0.000000   \n",
      "abc         0.000000  0.000054  0.000000  0.000000   0.000000   0.000000   \n",
      "abcs        0.000053  0.000000  0.000000  0.003178   0.000069   0.000000   \n",
      "abdullah    0.000122  0.000000  0.000089  0.000000   0.000000   0.000588   \n",
      "ability     0.000000  0.000000  0.000000  0.000000   0.000501   0.000091   \n",
      "aboard      0.000000  0.000000  0.000011  0.000000   0.000000   0.000000   \n",
      "abortion    0.000000  0.000121  0.000000  0.000000   0.000000   0.000000   \n",
      "abortions   0.000000  0.000000  0.000295  0.000000   0.000138   0.000000   \n",
      "abraham     0.000083  0.000000  0.000000  0.000122   0.000000   0.000000   \n",
      "abrams      0.000794  0.000000  0.000000  0.001657   0.000127   0.000000   \n",
      "abroad      0.000374  0.000000  0.000000  0.000000   0.000200   0.000000   \n",
      "absence     0.000000  0.000000  0.000000  0.000000   0.000000   0.000098   \n",
      "absent      0.000000  0.000250  0.000000  0.000566   0.000000   0.000000   \n",
      "absentee    0.000616  0.000000  0.000000  0.000347   0.000000   0.000000   \n",
      "absolute    0.000000  0.000000  0.000092  0.000000   0.000021   0.000087   \n",
      "absolutely  0.000000  0.000000  0.000000  0.000215   0.000000   0.000000   \n",
      "abstain     0.000426  0.000161  0.000000  0.000000   0.000000   0.000000   \n",
      "absurd      0.000000  0.000284  0.000000  0.000000   0.000000   0.000000   \n",
      "abu         0.002560  0.000000  0.000000  0.000000   0.000000   0.000436   \n",
      "abuse       0.000000  0.000000  0.000000  0.000373   0.000000   0.000313   \n",
      "abuses      0.000000  0.000000  0.000000  0.000000   0.000000   0.000000   \n",
      "academy     0.000000  0.000277  0.000073  0.000000   0.000000   0.000000   \n",
      "accent      0.000000  0.000000  0.000000  0.000000   0.000000   0.000000   \n",
      "accept      0.000000  0.000000  0.000000  0.000125   0.000000   0.000000   \n",
      "acceptable  0.000000  0.000000  0.000000  0.000646   0.000151   0.000000   \n",
      "acceptance  0.000000  0.000000  0.000000  0.000000   0.000180   0.000000   \n",
      "...              ...       ...       ...       ...        ...        ...   \n",
      "yanks       0.000000  0.000108  0.000000  0.000000   0.000029   0.000000   \n",
      "yard        0.000000  0.000350  0.000087  0.000000   0.000276   0.000292   \n",
      "yeah        0.000167  0.000344  0.000233  0.000000   0.000000   0.000000   \n",
      "year        0.000000  0.000000  0.000000  0.000000   0.000000   0.000000   \n",
      "years       0.000000  0.000545  0.000100  0.000000   0.000000   0.000000   \n",
      "yell        0.000245  0.001913  0.000000  0.000000   0.000000   0.000000   \n",
      "yellin      0.000159  0.000000  0.000000  0.000110   0.000000   0.000000   \n",
      "yesterday   0.000000  0.000241  0.000438  0.000000   0.000000   0.000040   \n",
      "yesterdays  0.000000  0.000257  0.002348  0.000000   0.000000   0.000000   \n",
      "yield       0.000124  0.000109  0.005818  0.000000   0.000000   0.000278   \n",
      "york        0.000286  0.000000  0.001742  0.000000   0.000000   0.000000   \n",
      "yorker      0.000000  0.000337  0.001122  0.000000   0.000000   0.000000   \n",
      "yorkers     0.000057  0.000000  0.002924  0.000000   0.000000   0.000000   \n",
      "youd        0.000000  0.000000  0.003757  0.000000   0.002236   0.000000   \n",
      "youll       0.000000  0.000000  0.001427  0.000187   0.000425   0.000000   \n",
      "young       0.000000  0.000000  0.004972  0.000000   0.000000   0.000000   \n",
      "younger     0.000000  0.000380  0.004989  0.000000   0.000000   0.000000   \n",
      "youre       0.000000  0.000000  0.002256  0.000000   0.000000   0.000000   \n",
      "youth       0.000000  0.000000  0.000506  0.000635   0.000000   0.000000   \n",
      "youve       0.000000  0.000000  0.002355  0.000891   0.000000   0.000000   \n",
      "yucca       0.000000  0.000302  0.000000  0.000534   0.000000   0.001366   \n",
      "yup         0.000000  0.000000  0.000000  0.000486   0.000000   0.003703   \n",
      "zahn        0.000000  0.000000  0.000000  0.000000   0.000000   0.000000   \n",
      "zarqawi     0.000105  0.000000  0.000000  0.000000   0.000000   0.000200   \n",
      "zell        0.000000  0.000000  0.000165  0.000000   0.000000   0.000546   \n",
      "zimbabwe    0.000536  0.000000  0.000000  0.000263   0.000000   0.002895   \n",
      "zogby       0.000000  0.000000  0.000000  0.000486   0.000000   0.000000   \n",
      "zogbys      0.000465  0.000000  0.000000  0.000000   0.000000   0.000000   \n",
      "zone        0.000000  0.000000  0.000000  0.000154   0.000121   0.000000   \n",
      "zones       0.000116  0.000000  0.000000  0.000000   0.000000   0.000000   \n",
      "\n",
      "            @topic_12  @topic_13  @topic_14  \n",
      "aarp         0.000000   0.000000   0.000000  \n",
      "abandon      0.000491   0.000190   0.000000  \n",
      "abandoned    0.000000   0.000000   0.000000  \n",
      "abandoning   0.000000   0.000102   0.000000  \n",
      "abb          0.000000   0.000000   0.000131  \n",
      "abc          0.000062   0.000107   0.000000  \n",
      "abcs         0.000214   0.000000   0.000000  \n",
      "abdullah     0.000000   0.000000   0.000000  \n",
      "ability      0.000000   0.000000   0.000000  \n",
      "aboard       0.000000   0.000000   0.000000  \n",
      "abortion     0.000000   0.000000   0.000000  \n",
      "abortions    0.000000   0.000000   0.000138  \n",
      "abraham      0.000000   0.000000   0.000090  \n",
      "abrams       0.000000   0.001761   0.000000  \n",
      "abroad       0.000000   0.000475   0.000000  \n",
      "absence      0.000000   0.000000   0.000000  \n",
      "absent       0.000000   0.000515   0.000000  \n",
      "absentee     0.000120   0.003035   0.000000  \n",
      "absolute     0.000000   0.000706   0.000000  \n",
      "absolutely   0.000000   0.000159   0.000000  \n",
      "abstain      0.000000   0.000000   0.000000  \n",
      "absurd       0.000000   0.000871   0.001434  \n",
      "abu          0.000000   0.001493   0.000125  \n",
      "abuse        0.000000   0.002823   0.000878  \n",
      "abuses       0.000000   0.000000   0.000099  \n",
      "academy      0.000000   0.000851   0.000611  \n",
      "accent       0.000000   0.000000   0.000084  \n",
      "accept       0.000000   0.000000   0.000961  \n",
      "acceptable   0.000000   0.000000   0.000452  \n",
      "acceptance   0.000000   0.000000   0.002433  \n",
      "...               ...        ...        ...  \n",
      "yanks        0.000000   0.000000   0.000000  \n",
      "yard         0.000000   0.000000   0.000200  \n",
      "yeah         0.000000   0.000000   0.000000  \n",
      "year         0.000000   0.002043   0.000000  \n",
      "years        0.000000   0.000000   0.000000  \n",
      "yell         0.000000   0.000000   0.000000  \n",
      "yellin       0.000000   0.000000   0.000435  \n",
      "yesterday    0.000000   0.000000   0.000000  \n",
      "yesterdays   0.000138   0.000000   0.000000  \n",
      "yield        0.000072   0.000000   0.000000  \n",
      "york         0.000000   0.000000   0.000117  \n",
      "yorker       0.000497   0.000000   0.000110  \n",
      "yorkers      0.000000   0.000000   0.000000  \n",
      "youd         0.000000   0.000161   0.000000  \n",
      "youll        0.000000   0.000000   0.000000  \n",
      "young        0.000000   0.000000   0.000000  \n",
      "younger      0.000000   0.000066   0.000000  \n",
      "youre        0.000000   0.000086   0.000000  \n",
      "youth        0.000128   0.000000   0.000000  \n",
      "youve        0.000000   0.000000   0.000000  \n",
      "yucca        0.000000   0.000000   0.000000  \n",
      "yup          0.000000   0.000000   0.000146  \n",
      "zahn         0.000000   0.000000   0.000000  \n",
      "zarqawi      0.000000   0.000000   0.000000  \n",
      "zell         0.000000   0.000000   0.000000  \n",
      "zimbabwe     0.000000   0.000000   0.000000  \n",
      "zogby        0.000000   0.000000   0.000000  \n",
      "zogbys       0.000000   0.000000   0.000000  \n",
      "zone         0.000000   0.000405   0.000000  \n",
      "zones        0.000000   0.000000   0.000000  \n",
      "\n",
      "[6906 rows x 15 columns]\n"
     ]
    }
   ],
   "source": [
    "print phi_matrix"
   ]
  },
  {
   "cell_type": "markdown",
   "metadata": {},
   "source": [
    "Our last step is to save the model. ArtmModel provides two opportunities: save the model in BigARTM format and in .csv. \n",
    "- in first case you won't be able to visualize the model, but it can be loaded back in library for further learning;\n",
    "- .csv format could not be loaded back, but you are able to look at the Phi matrix by your eyes.\n",
    "\n",
    "Let's use both of methods:"
   ]
  },
  {
   "cell_type": "code",
   "execution_count": 19,
   "metadata": {
    "collapsed": true
   },
   "outputs": [],
   "source": [
    "model.save(file_name='kos_artm_model')\n",
    "model.to_csv(file_name='kos_artm_model.csv')"
   ]
  },
  {
   "cell_type": "markdown",
   "metadata": {},
   "source": [
    "In addition we can get the Theta matrix of the collection:"
   ]
  },
  {
   "cell_type": "code",
   "execution_count": 20,
   "metadata": {
    "collapsed": true
   },
   "outputs": [],
   "source": [
    "theta_matrix = model.get_theta()"
   ]
  },
  {
   "cell_type": "markdown",
   "metadata": {},
   "source": [
    "ArtmModel.get_theta() returns Theta matrix as pandas.DataFrame object. Let's print it:"
   ]
  },
  {
   "cell_type": "code",
   "execution_count": 21,
   "metadata": {
    "collapsed": false
   },
   "outputs": [
    {
     "name": "stdout",
     "output_type": "stream",
     "text": [
      "           1         2         3     4     5     6     7     8         9     \\\n",
      "@topic_0      0  0.000000  0.000000     0     0     0     0     0  0.000000   \n",
      "@topic_1      0  0.000000  0.000000     0     0     0     0     0  0.000000   \n",
      "@topic_2      0  0.000000  0.035399     0     0     0     0     0  0.000000   \n",
      "@topic_3      0  0.000000  0.000000     0     1     0     0     0  0.000000   \n",
      "@topic_4      0  0.000000  0.000000     0     0     0     0     0  0.000000   \n",
      "@topic_5      0  0.000000  0.000000     0     0     0     0     0  0.000000   \n",
      "@topic_6      0  0.000000  0.000000     0     0     0     0     0  0.000000   \n",
      "@topic_7      0  0.033199  0.000000     0     0     0     0     0  0.028623   \n",
      "@topic_8      0  0.036568  0.000000     0     0     0     0     0  0.000000   \n",
      "@topic_9      0  0.000000  0.000000     0     0     0     0     0  0.000000   \n",
      "@topic_10     0  0.000000  0.000000     0     0     0     0     0  0.000000   \n",
      "@topic_11     0  0.000000  0.000000     0     0     0     0     0  0.000000   \n",
      "@topic_12     0  0.000000  0.000000     0     0     0     0     0  0.000000   \n",
      "@topic_13     0  0.000000  0.000000     0     0     0     0     0  0.000000   \n",
      "@topic_14     0  0.000000  0.000000     0     0     0     0     0  0.000000   \n",
      "\n",
      "               10      ...     3421  3422  3423      3424  3425  3426  3427  \\\n",
      "@topic_0   0.000000    ...        0     0     0  0.288805     0     0     0   \n",
      "@topic_1   0.000000    ...        0     0     0  0.000000     0     0     0   \n",
      "@topic_2   0.000000    ...        0     0     0  0.000000     0     0     0   \n",
      "@topic_3   0.000000    ...        0     0     0  0.000000     0     0     0   \n",
      "@topic_4   0.000000    ...        0     0     0  0.000000     0     0     0   \n",
      "@topic_5   0.198140    ...        0     0     0  0.000000     0     0     0   \n",
      "@topic_6   0.000000    ...        0     0     0  0.000000     0     0     0   \n",
      "@topic_7   0.036892    ...        0     0     0  0.000000     0     0     0   \n",
      "@topic_8   0.000000    ...        0     0     0  0.000000     0     0     0   \n",
      "@topic_9   0.119908    ...        0     0     0  0.000000     0     0     0   \n",
      "@topic_10  0.000000    ...        0     0     0  0.000000     0     0     0   \n",
      "@topic_11  0.000000    ...        0     0     0  0.000000     0     0     0   \n",
      "@topic_12  0.000000    ...        0     0     0  0.000000     0     0     0   \n",
      "@topic_13  0.000000    ...        0     0     0  0.000000     0     0     0   \n",
      "@topic_14  0.184927    ...        0     0     0  0.000000     0     0     0   \n",
      "\n",
      "           3428      3429      3430  \n",
      "@topic_0      0  0.159356  0.000000  \n",
      "@topic_1      0  0.000000  0.000000  \n",
      "@topic_2      0  0.000000  0.000000  \n",
      "@topic_3      0  0.009784  0.000000  \n",
      "@topic_4      0  0.000000  0.000000  \n",
      "@topic_5      0  0.000000  0.000000  \n",
      "@topic_6      0  0.000000  0.144298  \n",
      "@topic_7      0  0.000000  0.000000  \n",
      "@topic_8      0  0.000000  0.000000  \n",
      "@topic_9      0  0.000000  0.000000  \n",
      "@topic_10     0  0.000000  0.000000  \n",
      "@topic_11     0  0.000000  0.000000  \n",
      "@topic_12     0  0.000000  0.000000  \n",
      "@topic_13     0  0.000000  0.000000  \n",
      "@topic_14     0  0.000000  0.000000  \n",
      "\n",
      "[15 rows x 3430 columns]\n"
     ]
    }
   ],
   "source": [
    "print theta_matrix"
   ]
  },
  {
   "cell_type": "markdown",
   "metadata": {},
   "source": [
    "## Example #2"
   ]
  },
  {
   "cell_type": "markdown",
   "metadata": {},
   "source": [
    "This is a second part of paper about basic usage of new Python API of BigARTM library. We will load back the model, saved in previous example, and proceed some new operations.\n",
    "\n",
    "The first step is to create a new topic model:"
   ]
  },
  {
   "cell_type": "code",
   "execution_count": 22,
   "metadata": {
    "collapsed": true
   },
   "outputs": [],
   "source": [
    "new_model = ArtmModel(num_topics=1, num_document_passes=1)"
   ]
  },
  {
   "cell_type": "markdown",
   "metadata": {},
   "source": [
    "Second step is to add regularizers and scores. We'll restrict ourselves to one new score and two regularizers:"
   ]
  },
  {
   "cell_type": "code",
   "execution_count": 23,
   "metadata": {
    "collapsed": false
   },
   "outputs": [],
   "source": [
    "new_model.scores.add(TopicKernelScore(name='TopicKernelScore'))\n",
    "new_model.regularizers.add(SmoothSparsePhiRegularizer(name='SparsePhi', tau=-0.1))\n",
    "new_model.regularizers.add(DecorrelatorPhiRegularizer(name='DecorrelatorPhi', tau=100000.0))"
   ]
  },
  {
   "cell_type": "markdown",
   "metadata": {},
   "source": [
    "Now we will load 'kos_artm_model' file into library"
   ]
  },
  {
   "cell_type": "code",
   "execution_count": 24,
   "metadata": {
    "collapsed": true
   },
   "outputs": [],
   "source": [
    "new_model.load('kos_artm_model')"
   ]
  },
  {
   "cell_type": "markdown",
   "metadata": {},
   "source": [
    "Note, that loaded model will overwrite several things in you ArtmModel object: number of topics and their names, Phi matrix. It also will reset all saved information about topic model scores values. \n",
    "\n",
    "Nevertheless the scores and the regularizers, applied to ArtmModel object earlier, won't change. In our case it is a 'TopicKernelScore' score and 'SparsePhi' and 'DecorrelatorPhi' regularizers.\n",
    "\n",
    "Now let's continue model learning, but in online mode. It means that\n",
    "- the number of passes through single document will increase\n",
    "- Phi matrix updates will be proceed several times during one pass of the collection\n",
    "- we need only one pass through the collection (but here we'll do 5, because the 'kos' collection is too small)."
   ]
  },
  {
   "cell_type": "code",
   "execution_count": 25,
   "metadata": {
    "collapsed": false
   },
   "outputs": [],
   "source": [
    "new_model.num_document_passes = 20\n",
    "for i in range(5):\n",
    "    new_model.fit_online(data_path='kos', update_every=4)"
   ]
  },
  {
   "cell_type": "markdown",
   "metadata": {},
   "source": [
    "'update_every' tells model the number of batches to be processed before next update of Phi.\n",
    "\n",
    "Let's visualize topic kernel scores (average contrast and purity):"
   ]
  },
  {
   "cell_type": "code",
   "execution_count": 26,
   "metadata": {
    "collapsed": false
   },
   "outputs": [
    {
     "data": {
      "image/png": "[encoded data removed]",
      "text/plain": [
       "<matplotlib.figure.Figure at 0x975c2b0>"
      ]
     },
     "metadata": {},
     "output_type": "display_data"
    }
   ],
   "source": [
    "plt.plot(range(new_model.num_phi_updates), new_model.scores_info['TopicKernelScore'].average_contrast, 'g--',\n",
    "         range(new_model.num_phi_updates), new_model.scores_info['TopicKernelScore'].average_purity, 'r--', linewidth=2)\n",
    "plt.xlabel('Iterations count')\n",
    "plt.ylabel('Kernel scores')\n",
    "plt.grid(True)\n",
    "plt.show()"
   ]
  },
  {
   "cell_type": "markdown",
   "metadata": {},
   "source": [
    "As we see, the further study of loaded model only downgraded the quality of the model.\n",
    "\n",
    "Also we can see all information about each topic. For instance let's print topic kernel tokens for first topic:"
   ]
  },
  {
   "cell_type": "code",
   "execution_count": 27,
   "metadata": {
    "collapsed": false
   },
   "outputs": [
    {
     "name": "stdout",
     "output_type": "stream",
     "text": [
      "[u'allowed', u'award', u'baseball', u'blogads', u'bloggers', u'blogging', u'blogosphere', u'blogs', u'boat', u'book', u'boston', u'bronze', u'curious', u'dailykos', u'drudge', u'drum', u'editors', u'fans', u'franken', u'fun', u'ideological', u'journalism', u'journalists', u'kevin', u'launch', u'limbaugh', u'links', u'lying', u'magazine', u'nevada', u'nyc', u'oreilly', u'owner', u'park', u'petraeus', u'posters', u'propaganda', u'putting', u'reader', u'readers', u'review', u'rewards', u'rnc', u'road', u'rowland', u'rush', u'season', u'selection', u'series', u'sox', u'star', u'starting', u'stations', u'suddenly', u'swift', u'treatment', u'trip', u'universe', u'updates', u'whos', u'writes', u'yankees']\n"
     ]
    }
   ],
   "source": [
    "print new_model.scores_info['TopicKernelScore'].last_topic_info[new_model.topic_names[0]].tokens"
   ]
  },
  {
   "cell_type": "markdown",
   "metadata": {},
   "source": [
    "If we have the batch with documents, that didn't take part in model learning, and we want to get Theta matrix for it, we can use 'find_theta' method:"
   ]
  },
  {
   "cell_type": "code",
   "execution_count": 28,
   "metadata": {
    "collapsed": true
   },
   "outputs": [],
   "source": [
    "test_theta_matrix = model.find_theta(data_path='kos_test', batches=['test_docs.batch'])"
   ]
  },
  {
   "cell_type": "markdown",
   "metadata": {},
   "source": [
    "ArtmModel.find_theta(), as ArtmModel.get_theta(), returns Theta matrix as pandas.DataFrame object. Let's print it:"
   ]
  },
  {
   "cell_type": "code",
   "execution_count": 29,
   "metadata": {
    "collapsed": false
   },
   "outputs": [
    {
     "name": "stdout",
     "output_type": "stream",
     "text": [
      "               3001          3002          3003          3004      3005  \\\n",
      "@topic_0   0.000027  5.470356e-12  8.858975e-05  3.656585e-08  0.023010   \n",
      "@topic_1   0.000000  7.542839e-08  5.074362e-08  2.937619e-05  0.000895   \n",
      "@topic_2   0.157188  3.943461e-02  9.634764e-02  3.531549e-02  0.000529   \n",
      "@topic_3   0.026739  1.165675e-02  1.995709e-04  6.939159e-03  0.000309   \n",
      "@topic_4   0.042744  6.324425e-01  7.173991e-03  5.326914e-01  0.501927   \n",
      "@topic_5   0.116400  1.229195e-02  8.142522e-02  2.659780e-01  0.069236   \n",
      "@topic_6   0.376137  5.741609e-02  1.048819e-01  5.601965e-03  0.097927   \n",
      "@topic_7   0.163309  1.563600e-01  1.076559e-05  6.481785e-05  0.000017   \n",
      "@topic_8   0.002779  3.925556e-08  5.331632e-03  2.455457e-03  0.003307   \n",
      "@topic_9   0.000794  1.425100e-03  8.680010e-03  1.836367e-02  0.000393   \n",
      "@topic_10  0.031545  4.864300e-04  6.822544e-01  9.276281e-02  0.158379   \n",
      "@topic_11  0.010005  2.929099e-02  4.954997e-04  1.317865e-02  0.106786   \n",
      "@topic_12  0.000001  1.540388e-02  4.465893e-03  3.355280e-04  0.004254   \n",
      "@topic_13  0.055056  5.237380e-03  5.447516e-03  2.556876e-02  0.033012   \n",
      "@topic_14  0.017276  3.855418e-02  3.197173e-03  7.149764e-04  0.000019   \n",
      "\n",
      "                   3006      3007          3008          3009          3010  \\\n",
      "@topic_0   1.957797e-03  0.000003  1.880584e-02  3.284591e-08  5.062682e-11   \n",
      "@topic_1   3.125682e-09  0.000002  1.916773e-03  2.358210e-03  1.123509e-04   \n",
      "@topic_2   4.617043e-03  0.274580  1.035455e-05  5.992459e-02  7.972533e-02   \n",
      "@topic_3   4.240598e-05  0.010763  4.021826e-06  3.439137e-02  2.323689e-01   \n",
      "@topic_4   5.538577e-02  0.137051  3.462421e-03  4.187381e-02  4.170702e-01   \n",
      "@topic_5   2.462072e-05  0.015040  7.990388e-07  9.312666e-02  3.289476e-02   \n",
      "@topic_6   2.320242e-04  0.008153  6.622570e-07  2.465876e-02  4.073329e-03   \n",
      "@topic_7   3.693242e-09  0.011507  6.378849e-09  1.754518e-05  2.694913e-02   \n",
      "@topic_8   6.324509e-08  0.027514  5.784723e-02  3.420369e-03  2.061184e-03   \n",
      "@topic_9   2.270151e-06  0.000164  2.294935e-04  1.478351e-01  4.626287e-02   \n",
      "@topic_10  1.496989e-02  0.012099  6.286230e-06  7.630438e-04  4.165516e-02   \n",
      "@topic_11  1.676877e-04  0.479620  9.177157e-01  5.832055e-01  1.134692e-01   \n",
      "@topic_12  9.163988e-01  0.008182  2.467487e-14  1.429403e-05  1.918065e-05   \n",
      "@topic_13  1.890680e-05  0.000360  3.322684e-07  8.372381e-03  1.209526e-03   \n",
      "@topic_14  6.182680e-03  0.014963  2.818563e-09  3.831800e-05  2.128889e-03   \n",
      "\n",
      "               ...               3421          3422          3423  \\\n",
      "@topic_0       ...       2.400123e-02  1.399053e-08  1.669547e-01   \n",
      "@topic_1       ...       1.419758e-08  4.308560e-07  1.066036e-08   \n",
      "@topic_2       ...       2.461129e-03  3.054089e-04  4.152967e-02   \n",
      "@topic_3       ...       4.743230e-03  1.124626e-02  1.443310e-01   \n",
      "@topic_4       ...       1.030159e-02  1.556973e-05  1.541968e-01   \n",
      "@topic_5       ...       1.672110e-01  3.783159e-02  1.188395e-01   \n",
      "@topic_6       ...       6.482496e-01  3.336948e-02  2.151832e-01   \n",
      "@topic_7       ...       1.550179e-02  6.509076e-03  5.634595e-02   \n",
      "@topic_8       ...       2.256957e-03  1.091428e-03  1.011219e-02   \n",
      "@topic_9       ...       1.841014e-02  4.042742e-06  4.340179e-03   \n",
      "@topic_10      ...       1.583655e-03  1.962080e-02  4.270042e-02   \n",
      "@topic_11      ...       1.041119e-01  4.879879e-04  7.019760e-04   \n",
      "@topic_12      ...       5.572576e-08  7.564733e-01  4.844800e-05   \n",
      "@topic_13      ...       2.252760e-04  1.300043e-02  3.803425e-02   \n",
      "@topic_14      ...       9.423913e-04  1.200442e-01  6.681705e-03   \n",
      "\n",
      "                   3424          3425          3426          3427  \\\n",
      "@topic_0   3.956320e-01  4.873096e-04  1.043102e-03  2.407401e-09   \n",
      "@topic_1   1.087111e-04  8.000645e-07  9.310459e-04  6.499603e-08   \n",
      "@topic_2   6.074464e-02  4.141144e-03  2.315670e-03  1.681372e-03   \n",
      "@topic_3   1.533242e-02  5.446308e-01  7.082343e-03  1.229089e-01   \n",
      "@topic_4   1.238943e-01  9.604745e-04  7.373425e-03  3.445192e-05   \n",
      "@topic_5   2.090244e-05  2.162630e-02  3.142589e-04  7.990311e-04   \n",
      "@topic_6   3.904793e-02  2.146984e-03  3.700324e-03  5.121765e-04   \n",
      "@topic_7   2.987428e-06  1.707961e-06  1.601256e-12  3.606025e-08   \n",
      "@topic_8   3.120582e-02  8.295757e-02  1.576878e-05  4.800388e-02   \n",
      "@topic_9   6.868289e-10  1.540157e-04  6.258275e-06  8.090228e-05   \n",
      "@topic_10  1.587533e-01  2.618316e-01  8.392906e-01  7.297257e-01   \n",
      "@topic_11  6.463187e-02  1.305154e-03  7.901990e-02  7.073089e-02   \n",
      "@topic_12  2.184988e-02  3.641221e-10  2.158507e-03  1.885783e-06   \n",
      "@topic_13  1.636084e-03  7.708987e-02  5.674869e-02  2.549797e-02   \n",
      "@topic_14  8.713919e-02  2.666322e-03  2.482154e-07  2.258722e-05   \n",
      "\n",
      "                   3428          3429          3430  \n",
      "@topic_0   1.546598e-02  2.525336e-02  1.669597e-05  \n",
      "@topic_1   8.953587e-08  3.242015e-05  2.418519e-06  \n",
      "@topic_2   2.726623e-01  5.480912e-02  1.706945e-03  \n",
      "@topic_3   2.257921e-01  2.235566e-02  4.049349e-02  \n",
      "@topic_4   2.724836e-02  3.961600e-04  2.801944e-02  \n",
      "@topic_5   7.386101e-04  3.750510e-02  8.494037e-02  \n",
      "@topic_6   2.529707e-02  1.175929e-01  4.943205e-01  \n",
      "@topic_7   5.835435e-03  2.569362e-03  6.138274e-05  \n",
      "@topic_8   2.938011e-01  2.537082e-01  1.120448e-01  \n",
      "@topic_9   5.602179e-04  8.155564e-08  3.222197e-05  \n",
      "@topic_10  1.919947e-02  3.854819e-02  2.771805e-02  \n",
      "@topic_11  3.513955e-02  3.879985e-01  2.043644e-01  \n",
      "@topic_12  9.601199e-04  5.163479e-09  1.695363e-09  \n",
      "@topic_13  7.183477e-02  2.996303e-02  5.865219e-03  \n",
      "@topic_14  5.464800e-03  2.926787e-02  4.141077e-04  \n",
      "\n",
      "[15 rows x 430 columns]\n"
     ]
    }
   ],
   "source": [
    "print test_theta_matrix"
   ]
  }
 ],
 "metadata": {
  "kernelspec": {
   "display_name": "Python 2",
   "language": "python",
   "name": "python2"
  },
  "language_info": {
   "codemirror_mode": {
    "name": "ipython",
    "version": 2
   },
   "file_extension": ".py",
   "mimetype": "text/x-python",
   "name": "python",
   "nbconvert_exporter": "python",
   "pygments_lexer": "ipython2",
   "version": "2.7.7"
  }
 },
 "nbformat": 4,
 "nbformat_minor": 0
}
