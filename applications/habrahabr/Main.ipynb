{
 "cells": [
  {
   "cell_type": "markdown",
   "metadata": {},
   "source": [
    "# Анализ тематической структуры коллективного блога Хабрахабр.ру\n",
    "\n",
    "## Задачи\n",
    "\n",
    "- Оформить здесь исследование, проведенное Настей Яниной\n",
    "- Выкачка и парсинг блога\n",
    "  - [habrahabr-dataset](https://github.com/romovpa/habrahabr-dataset)\n",
    "  - Scrapy\n",
    "- Извлечение Bow из текста, построение n-грамм\n",
    "- Игры с обучением тематичекой модели с разными модальностями\n",
    "- Анализ качества рекомендаций, построенных на основе тематичекой модели\n",
    "\n",
    "## Тетрадки\n",
    "\n",
    "- [Эксперимента с N-граммами от Сергея Царькова](Habrahabr_PrepareNgrammCorpus.ipynb)"
   ]
  },
  {
   "cell_type": "code",
   "execution_count": null,
   "metadata": {
    "collapsed": true
   },
   "outputs": [],
   "source": []
  }
 ],
 "metadata": {
  "kernelspec": {
   "display_name": "Python 2",
   "language": "python",
   "name": "python2"
  },
  "language_info": {
   "codemirror_mode": {
    "name": "ipython",
    "version": 2
   },
   "file_extension": ".py",
   "mimetype": "text/x-python",
   "name": "python",
   "nbconvert_exporter": "python",
   "pygments_lexer": "ipython2",
   "version": "2.7.3"
  }
 },
 "nbformat": 4,
 "nbformat_minor": 0
}
