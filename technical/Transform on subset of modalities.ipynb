{
 "cells": [
  {
   "cell_type": "code",
   "execution_count": null,
   "metadata": {
    "collapsed": true
   },
   "outputs": [],
   "source": [
    "# Use Eurlex collection from http://bigartm.readthedocs.io/en/master/download.html\n",
    "# Take one batch and save it without @label_class\n",
    "import artm\n",
    "batch = artm.messages.Batch()\n",
    "batch_name = r'C:\\datasets\\eurlex-batches\\3b055c18-206b-42cf-84d7-d20e2095bdb6.batch'\n",
    "with open(batch_name, \"rb\") as f:\n",
    "    batch.ParseFromString(f.read())\n",
    "\n",
    "print set(batch.class_id)\n",
    "\n",
    "batch2 = artm.messages.Batch()\n",
    "batch2.token.extend(batch.token)\n",
    "batch2.class_id.extend(batch.class_id)\n",
    "batch2.description = batch.description\n",
    "batch2.id = u'3b055c18-206b-42cf-84d7-d20e2095bdb6'\n",
    "\n",
    "class_id = '@default_class'\n",
    "for item in batch.item:\n",
    "    item2 = batch2.item.add()\n",
    "    item2.id = item.id\n",
    "    item2.title = item.title\n",
    "    for field in item.field:\n",
    "        for token_id, token_count in zip(field.token_id, field.token_count):\n",
    "            if batch.class_id[token_id] == class_id:\n",
    "                item2.token_id.append(token_id)\n",
    "                item2.token_weight.append(float(token_count))\n",
    "\n",
    "with open (r'C:\\datasets\\eurlex-batches-test-dflt\\3b055c18-206b-42cf-84d7-d20e2095bdb6.batch', \"wb\") as f:\n",
    "    f.write(batch2.SerializeToString())\n",
    "    \n",
    "print 'Done'"
   ]
  },
  {
   "cell_type": "code",
   "execution_count": 62,
   "metadata": {
    "collapsed": false
   },
   "outputs": [
    {
     "name": "stdout",
     "output_type": "stream",
     "text": [
      "perplexity: [19240.585963931935, 1574.3602987346392, 1549.2087565126892]\n"
     ]
    }
   ],
   "source": [
    "import artm\n",
    "batch_vectorizer = artm.BatchVectorizer(data_path=r'C:\\datasets\\eurlex-batches',\n",
    "                             data_format='batches')\n",
    "\n",
    "model = artm.ARTM(num_topics=15,\n",
    "                  class_ids={'@labels_class':1, '@default_class':1},\n",
    "                  num_document_passes=3,\n",
    "                  dictionary=batch_vectorizer.dictionary,\n",
    "                  scores=[artm.PerplexityScore(name='s1')])\n",
    "\n",
    "model.fit_offline(batch_vectorizer=batch_vectorizer,\n",
    "                  num_collection_passes=3)\n",
    "\n",
    "print 'perplexity: {}'.format(model.score_tracker['s1'].value)"
   ]
  },
  {
   "cell_type": "code",
   "execution_count": 64,
   "metadata": {
    "collapsed": false
   },
   "outputs": [
    {
     "name": "stdout",
     "output_type": "stream",
     "text": [
      "Use two modalities                     : 0.0394030660391\n",
      "Use @def modality (separate batch)     : 0.0392328128219\n",
      "Use @def modality (via model.class_ids): 0.0392328128219\n"
     ]
    }
   ],
   "source": [
    "batch_vectorizer1 = artm.BatchVectorizer(data_path=r'C:\\datasets\\eurlex-batches-test-both', data_format='batches')\n",
    "batch_vectorizer2 = artm.BatchVectorizer(data_path=r'C:\\datasets\\eurlex-batches-test-dflt', data_format='batches')\n",
    "\n",
    "model.class_ids={'@default_class':1, '@labels_class':1}\n",
    "print 'Use two modalities                     : {}'.format(model.transform(batch_vectorizer1).iloc[0,0])\n",
    "print 'Use @def modality (separate batch)     : {}'.format(model.transform(batch_vectorizer2).iloc[0,0])\n",
    "\n",
    "model.class_ids={'@default_class':1}\n",
    "print 'Use @def modality (via model.class_ids): {}'.format(model.transform(batch_vectorizer1).iloc[0,0])"
   ]
  },
  {
   "cell_type": "code",
   "execution_count": null,
   "metadata": {
    "collapsed": true
   },
   "outputs": [],
   "source": []
  }
 ],
 "metadata": {
  "anaconda-cloud": {},
  "kernelspec": {
   "display_name": "Python [Root]",
   "language": "python",
   "name": "Python [Root]"
  },
  "language_info": {
   "codemirror_mode": {
    "name": "ipython",
    "version": 2
   },
   "file_extension": ".py",
   "mimetype": "text/x-python",
   "name": "python",
   "nbconvert_exporter": "python",
   "pygments_lexer": "ipython2",
   "version": "2.7.12"
  }
 },
 "nbformat": 4,
 "nbformat_minor": 0
}
