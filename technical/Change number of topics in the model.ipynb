{
 "cells": [
  {
   "cell_type": "markdown",
   "metadata": {},
   "source": [
    "This notebook demonstrates how to change the number of topics in the model \"on the fly\"."
   ]
  },
  {
   "cell_type": "code",
   "execution_count": 1,
   "metadata": {
    "collapsed": false
   },
   "outputs": [
    {
     "name": "stdout",
     "output_type": "stream",
     "text": [
      "0.8.1\n"
     ]
    }
   ],
   "source": [
    "import artm\n",
    "print artm.version()"
   ]
  },
  {
   "cell_type": "markdown",
   "metadata": {},
   "source": [
    "Let's start by fitting a simple model with 5 topics using ``fit_offline`` algorithm. Let's  also log perplexity score after each iteration."
   ]
  },
  {
   "cell_type": "code",
   "execution_count": 2,
   "metadata": {
    "collapsed": false,
    "scrolled": true
   },
   "outputs": [
    {
     "name": "stdout",
     "output_type": "stream",
     "text": [
      "[6771.564197835558, 2516.6601030082857, 2407.3543922010576, 2187.2682550919926, 1996.181266257517]\n"
     ]
    }
   ],
   "source": [
    "batch_vectorizer = artm.BatchVectorizer(data_path=r'C:\\bigartm\\data', data_format='bow_uci', collection_name='kos')\n",
    "model = artm.ARTM(topic_names=['topic_{}'.format(i) for i in xrange(5)],\n",
    "                  scores=[artm.PerplexityScore(name='PerplexityScore')],\n",
    "                  num_document_passes = 10)\n",
    "model.initialize(dictionary=batch_vectorizer.dictionary)\n",
    "model.fit_offline(batch_vectorizer=batch_vectorizer, num_collection_passes=5)\n",
    "print model.score_tracker['PerplexityScore'].value"
   ]
  },
  {
   "cell_type": "markdown",
   "metadata": {},
   "source": [
    "Now let's see how to use internal method ``model.master.merge_model`` to add new topics.\n",
    "Originally, ``merge_model`` is designed to combine several ``nwt`` matrices with some weights.\n",
    "In addition, it allows you to specify which topics to include in the resulting matrix.\n",
    "If a topic doesn't exist in any of the source matrices it will be initialized with zeros.\n",
    "In the following example we \"merge\" just a single matrix with wegith ``1.0``."
   ]
  },
  {
   "cell_type": "code",
   "execution_count": 3,
   "metadata": {
    "collapsed": false
   },
   "outputs": [
    {
     "data": {
      "text/html": [
       "<div>\n",
       "<table border=\"1\" class=\"dataframe\">\n",
       "  <thead>\n",
       "    <tr style=\"text-align: right;\">\n",
       "      <th></th>\n",
       "      <th>topic_0</th>\n",
       "      <th>topic_1</th>\n",
       "      <th>topic_2</th>\n",
       "      <th>topic_3</th>\n",
       "      <th>topic_4</th>\n",
       "      <th>topic_5</th>\n",
       "      <th>topic_6</th>\n",
       "    </tr>\n",
       "  </thead>\n",
       "  <tbody>\n",
       "    <tr>\n",
       "      <th>parentheses</th>\n",
       "      <td>1.036641</td>\n",
       "      <td>0.000011</td>\n",
       "      <td>0.036257</td>\n",
       "      <td>5.276785</td>\n",
       "      <td>1.650306</td>\n",
       "      <td>0.0</td>\n",
       "      <td>0.0</td>\n",
       "    </tr>\n",
       "    <tr>\n",
       "      <th>opinion</th>\n",
       "      <td>79.475784</td>\n",
       "      <td>25.148537</td>\n",
       "      <td>3.788871</td>\n",
       "      <td>29.092693</td>\n",
       "      <td>3.494116</td>\n",
       "      <td>0.0</td>\n",
       "      <td>0.0</td>\n",
       "    </tr>\n",
       "    <tr>\n",
       "      <th>attitude</th>\n",
       "      <td>8.835311</td>\n",
       "      <td>1.463707</td>\n",
       "      <td>0.004694</td>\n",
       "      <td>6.825315</td>\n",
       "      <td>3.870974</td>\n",
       "      <td>0.0</td>\n",
       "      <td>0.0</td>\n",
       "    </tr>\n",
       "    <tr>\n",
       "      <th>held</th>\n",
       "      <td>70.140091</td>\n",
       "      <td>90.400917</td>\n",
       "      <td>15.586770</td>\n",
       "      <td>59.392002</td>\n",
       "      <td>10.480217</td>\n",
       "      <td>0.0</td>\n",
       "      <td>0.0</td>\n",
       "    </tr>\n",
       "    <tr>\n",
       "      <th>impeachment</th>\n",
       "      <td>0.186589</td>\n",
       "      <td>11.420464</td>\n",
       "      <td>3.039623</td>\n",
       "      <td>1.935981</td>\n",
       "      <td>1.417344</td>\n",
       "      <td>0.0</td>\n",
       "      <td>0.0</td>\n",
       "    </tr>\n",
       "  </tbody>\n",
       "</table>\n",
       "</div>"
      ],
      "text/plain": [
       "               topic_0    topic_1    topic_2    topic_3    topic_4  topic_5  \\\n",
       "parentheses   1.036641   0.000011   0.036257   5.276785   1.650306      0.0   \n",
       "opinion      79.475784  25.148537   3.788871  29.092693   3.494116      0.0   \n",
       "attitude      8.835311   1.463707   0.004694   6.825315   3.870974      0.0   \n",
       "held         70.140091  90.400917  15.586770  59.392002  10.480217      0.0   \n",
       "impeachment   0.186589  11.420464   3.039623   1.935981   1.417344      0.0   \n",
       "\n",
       "             topic_6  \n",
       "parentheses      0.0  \n",
       "opinion          0.0  \n",
       "attitude         0.0  \n",
       "held             0.0  \n",
       "impeachment      0.0  "
      ]
     },
     "execution_count": 3,
     "metadata": {},
     "output_type": "execute_result"
    }
   ],
   "source": [
    "model.master.merge_model({'nwt': 1.0}, 'test', topic_names = ['topic_{}'.format(i) for i in xrange(7)])\n",
    "model.get_phi(model_name='test')[:5]"
   ]
  },
  {
   "cell_type": "markdown",
   "metadata": {},
   "source": [
    "As a side note, it is always helpful to see which matrices exist in the model.\n",
    "Normally you expect to see ``pwt`` and ``nwt`` matrix, but due to ``merge_model`` that we've execute\n",
    "there is an additional matrix named ``test``."
   ]
  },
  {
   "cell_type": "code",
   "execution_count": 4,
   "metadata": {
    "collapsed": false,
    "scrolled": true
   },
   "outputs": [
    {
     "name": "stdout",
     "output_type": "stream",
     "text": [
      "name: \"nwt\"\n",
      "type: \"class artm::core::DensePhiMatrix\"\n",
      "num_topics: 5\n",
      "num_tokens: 6906\n",
      "\n",
      "name: \"pwt\"\n",
      "type: \"class artm::core::DensePhiMatrix\"\n",
      "num_topics: 5\n",
      "num_tokens: 6906\n",
      "\n",
      "name: \"test\"\n",
      "type: \"class artm::core::DensePhiMatrix\"\n",
      "num_topics: 7\n",
      "num_tokens: 6906\n",
      "\n"
     ]
    }
   ],
   "source": [
    "for model_description in model.info.model:\n",
    "    print model_description"
   ]
  },
  {
   "cell_type": "markdown",
   "metadata": {},
   "source": [
    "Now, you need to modify the values by *attaching* to the model. From ``model.info`` you can easily see that the model became attached."
   ]
  },
  {
   "cell_type": "code",
   "execution_count": 5,
   "metadata": {
    "collapsed": false
   },
   "outputs": [
    {
     "name": "stdout",
     "output_type": "stream",
     "text": [
      "name: \"nwt\"\n",
      "type: \"class artm::core::DensePhiMatrix\"\n",
      "num_topics: 5\n",
      "num_tokens: 6906\n",
      "\n",
      "name: \"pwt\"\n",
      "type: \"class artm::core::DensePhiMatrix\"\n",
      "num_topics: 5\n",
      "num_tokens: 6906\n",
      "\n",
      "name: \"test\"\n",
      "type: \"class artm::core::AttachedPhiMatrix\"\n",
      "num_topics: 7\n",
      "num_tokens: 6906\n",
      "\n"
     ]
    }
   ],
   "source": [
    "(test_model, test_matrix) = model.master.attach_model('test')\n",
    "for model_description in model.info.model:\n",
    "    print model_description"
   ]
  },
  {
   "cell_type": "code",
   "execution_count": 6,
   "metadata": {
    "collapsed": false,
    "scrolled": true
   },
   "outputs": [
    {
     "data": {
      "text/html": [
       "<div>\n",
       "<table border=\"1\" class=\"dataframe\">\n",
       "  <thead>\n",
       "    <tr style=\"text-align: right;\">\n",
       "      <th></th>\n",
       "      <th>topic_0</th>\n",
       "      <th>topic_1</th>\n",
       "      <th>topic_2</th>\n",
       "      <th>topic_3</th>\n",
       "      <th>topic_4</th>\n",
       "      <th>topic_5</th>\n",
       "      <th>topic_6</th>\n",
       "    </tr>\n",
       "  </thead>\n",
       "  <tbody>\n",
       "    <tr>\n",
       "      <th>parentheses</th>\n",
       "      <td>1.036641</td>\n",
       "      <td>0.000011</td>\n",
       "      <td>0.036257</td>\n",
       "      <td>5.276785</td>\n",
       "      <td>1.650306</td>\n",
       "      <td>0.081645</td>\n",
       "      <td>0.714468</td>\n",
       "    </tr>\n",
       "    <tr>\n",
       "      <th>opinion</th>\n",
       "      <td>79.475784</td>\n",
       "      <td>25.148537</td>\n",
       "      <td>3.788871</td>\n",
       "      <td>29.092693</td>\n",
       "      <td>3.494116</td>\n",
       "      <td>0.336906</td>\n",
       "      <td>0.085047</td>\n",
       "    </tr>\n",
       "    <tr>\n",
       "      <th>attitude</th>\n",
       "      <td>8.835311</td>\n",
       "      <td>1.463707</td>\n",
       "      <td>0.004694</td>\n",
       "      <td>6.825315</td>\n",
       "      <td>3.870974</td>\n",
       "      <td>0.381812</td>\n",
       "      <td>0.267800</td>\n",
       "    </tr>\n",
       "    <tr>\n",
       "      <th>held</th>\n",
       "      <td>70.140091</td>\n",
       "      <td>90.400917</td>\n",
       "      <td>15.586770</td>\n",
       "      <td>59.392002</td>\n",
       "      <td>10.480217</td>\n",
       "      <td>0.349821</td>\n",
       "      <td>0.079702</td>\n",
       "    </tr>\n",
       "    <tr>\n",
       "      <th>impeachment</th>\n",
       "      <td>0.186589</td>\n",
       "      <td>11.420464</td>\n",
       "      <td>3.039623</td>\n",
       "      <td>1.935981</td>\n",
       "      <td>1.417344</td>\n",
       "      <td>0.422647</td>\n",
       "      <td>0.988804</td>\n",
       "    </tr>\n",
       "  </tbody>\n",
       "</table>\n",
       "</div>"
      ],
      "text/plain": [
       "               topic_0    topic_1    topic_2    topic_3    topic_4   topic_5  \\\n",
       "parentheses   1.036641   0.000011   0.036257   5.276785   1.650306  0.081645   \n",
       "opinion      79.475784  25.148537   3.788871  29.092693   3.494116  0.336906   \n",
       "attitude      8.835311   1.463707   0.004694   6.825315   3.870974  0.381812   \n",
       "held         70.140091  90.400917  15.586770  59.392002  10.480217  0.349821   \n",
       "impeachment   0.186589  11.420464   3.039623   1.935981   1.417344  0.422647   \n",
       "\n",
       "              topic_6  \n",
       "parentheses  0.714468  \n",
       "opinion      0.085047  \n",
       "attitude     0.267800  \n",
       "held         0.079702  \n",
       "impeachment  0.988804  "
      ]
     },
     "execution_count": 6,
     "metadata": {},
     "output_type": "execute_result"
    }
   ],
   "source": [
    "import numpy as np\n",
    "test_matrix[:, [5,6]] = np.random.rand(test_matrix.shape[0], 2)\n",
    "model.get_phi(model_name='test')[:5]"
   ]
  },
  {
   "cell_type": "markdown",
   "metadata": {},
   "source": [
    "Now, I'm realy not sure what will happen if you modify ``pwt`` or ``nwt``, and then use ``fit_offline``.\n",
    "That's because the ``fit_offline`` expects matrices with the same number of topics\n",
    "as described in the configuration of the model.\n",
    "However it is quite safe to use low-level methods, such as ``model.master.process_batches`` and ``model.master.normalize_model``.\n",
    "The example below shows how to use these methods to reproduce the results of ``fit_offline``. You need to figure out how to use this methods on the modified matrices (those that have different number of topics)."
   ]
  },
  {
   "cell_type": "code",
   "execution_count": 7,
   "metadata": {
    "collapsed": false
   },
   "outputs": [
    {
     "name": "stdout",
     "output_type": "stream",
     "text": [
      "6771.56419784\n",
      "2516.66014788\n",
      "2407.35444318\n",
      "2187.26840835\n",
      "1996.18147091\n"
     ]
    }
   ],
   "source": [
    "# Fitting model with our internal API --- process batches and normalize model\n",
    "model.initialize(dictionary=batch_vectorizer.dictionary)\n",
    "for i in xrange(5):\n",
    "    model.master.clear_score_cache()\n",
    "    model.master.process_batches(model._model_pwt, model._model_nwt,\n",
    "                                 batches=[x.filename for x in batch_vectorizer.batches_list],\n",
    "                                 num_document_passes = 10)\n",
    "    model.master.normalize_model(model._model_pwt, model._model_nwt)\n",
    "    print model.get_score('PerplexityScore').value"
   ]
  },
  {
   "cell_type": "markdown",
   "metadata": {},
   "source": [
    "As you see, perplexity values precisely reproduce the results of the ``fit_offline``."
   ]
  }
 ],
 "metadata": {
  "kernelspec": {
   "display_name": "Python 2",
   "language": "python",
   "name": "python2"
  },
  "language_info": {
   "codemirror_mode": {
    "name": "ipython",
    "version": 2
   },
   "file_extension": ".py",
   "mimetype": "text/x-python",
   "name": "python",
   "nbconvert_exporter": "python",
   "pygments_lexer": "ipython2",
   "version": "2.7.11"
  }
 },
 "nbformat": 4,
 "nbformat_minor": 0
}
