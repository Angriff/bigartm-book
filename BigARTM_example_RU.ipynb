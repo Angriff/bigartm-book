{
 "cells": [
  {
   "cell_type": "markdown",
   "metadata": {},
   "source": [
    "# Новый Python интерфейс BigARTM."
   ]
  },
  {
   "cell_type": "markdown",
   "metadata": {},
   "source": [
    "## Пример №1"
   ]
  },
  {
   "cell_type": "markdown",
   "metadata": {},
   "source": [
    "Здесь приводится простой пример использования нового пользовательского интерфейса на Python библиотеки BigARTM. Мы будем обучать тематическую модель маленькой коллекции 'kos'.\n",
    "Для начала подключим все необходимые модули (убедитесь, что путь к artm_model.py находится в вашей переменной PATH):"
   ]
  },
  {
   "cell_type": "code",
   "execution_count": 1,
   "metadata": {
    "collapsed": false
   },
   "outputs": [],
   "source": [
    "%matplotlib inline\n",
    "import glob\n",
    "import matplotlib.pyplot as plt\n",
    "\n",
    "import artm.artm_model\n",
    "from artm.artm_model import *"
   ]
  },
  {
   "cell_type": "markdown",
   "metadata": {
    "collapsed": false
   },
   "source": [
    "Первым делом содадим тематическую модель. Новый интерфейс позволяет сделать это в одну строчку:"
   ]
  },
  {
   "cell_type": "code",
   "execution_count": 2,
   "metadata": {
    "collapsed": false
   },
   "outputs": [],
   "source": [
    "model = ArtmModel(num_topics=15)"
   ]
  },
  {
   "cell_type": "markdown",
   "metadata": {},
   "source": [
    "ArtmModel — это объект, содержащий в себе всю информацию о текущем состоянии тематической модели. Все наши последующие действия будут производиться в рамках него. Прежде всего распарсим из файлов 'docword' и 'vocab' в формате UCI, если это необходимо:"
   ]
  },
  {
   "cell_type": "code",
   "execution_count": 3,
   "metadata": {
    "collapsed": false
   },
   "outputs": [],
   "source": [
    "if len(glob.glob('kos' + \"/*.batch\")) < 1:\n",
    "    parse(data_path='', data_format='bow_uci', collection_name='kos')"
   ]
  },
  {
   "cell_type": "markdown",
   "metadata": {},
   "source": [
    "Следующий шаг — инициализация модели. Сделаем это по словарю, что означает, что\n",
    "- будет создана матрица Фи с именем 'pwt', число строк и столбцов в ней будет взято исходя из числа слов в словаре и заданного в модели числа тем;\n",
    "- эа матрица будет заполнена случайными значениями из диапазона (0, 1) и нормализована.\n",
    "\n",
    "Надо отметить, что этот шаг является опциональным, поскольку модель может быть автоматически инициализирована во время вызовов fit_offline() / fit_online()."
   ]
  },
  {
   "cell_type": "code",
   "execution_count": 4,
   "metadata": {
    "collapsed": false
   },
   "outputs": [],
   "source": [
    "model.load_dictionary(dictionary_name='dictionary', dictionary_path='kos/dictionary')\n",
    "model.initialize(dictionary_name='dictionary')"
   ]
  },
  {
   "cell_type": "markdown",
   "metadata": {},
   "source": [
    "ArtmModel предоставляет возможность использовать все функционалы качества, имеющиеся в BigARTM. Если функционал подключен к модели, то модель будет сохранять все его значения, полученные на момент каждого обновления матрицы Фи.\n",
    "Для контроля за качеством получаемой модели введём несколько метрик:"
   ]
  },
  {
   "cell_type": "code",
   "execution_count": 5,
   "metadata": {
    "collapsed": true
   },
   "outputs": [],
   "source": [
    "model.scores.add(SparsityPhiScore(name='SparsityPhiScore'))\n",
    "model.scores.add(SparsityThetaScore(name='SparsityThetaScore'))\n",
    "model.scores.add(PerplexityScore(name='PerplexityScore'))"
   ]
  },
  {
   "cell_type": "markdown",
   "metadata": {},
   "source": [
    "Также полезно добавить несколько базовых регуляризаторов, повышающих разреженность и различность тем (зададим им стартовые коэффициенты регуляризации, которые можно будет позже изменить)"
   ]
  },
  {
   "cell_type": "code",
   "execution_count": 6,
   "metadata": {
    "collapsed": false
   },
   "outputs": [],
   "source": [
    "model.regularizers.add(SmoothSparsePhiRegularizer(name='SparsePhi', tau=-0.1))\n",
    "model.regularizers.add(SmoothSparseThetaRegularizer(name='SparseTheta', tau=-2.0))\n",
    "model.regularizers.add(DecorrelatorPhiRegularizer(name='DecorrelatorPhi', tau=100000.0))"
   ]
  },
  {
   "cell_type": "markdown",
   "metadata": {},
   "source": [
    "Теперь попробуем обучить модель в оффлайн-режиме (т.е. обновляя Фи раз за проход по коллекции). Инициируем пять проходов:"
   ]
  },
  {
   "cell_type": "code",
   "execution_count": 7,
   "metadata": {
    "collapsed": false
   },
   "outputs": [],
   "source": [
    "model.fit_offline(data_path='kos', num_collection_passes=5)"
   ]
  },
  {
   "cell_type": "markdown",
   "metadata": {},
   "source": [
    "Проверим результаты первой итерации обучения:"
   ]
  },
  {
   "cell_type": "code",
   "execution_count": 8,
   "metadata": {
    "collapsed": false
   },
   "outputs": [
    {
     "name": "stdout",
     "output_type": "stream",
     "text": [
      "Sparsity Phi:0.425060334009\n",
      "Sparsity Theta:0.699183673469\n"
     ]
    }
   ],
   "source": [
    "print 'Sparsity Phi:' + str(model.scores_info['SparsityPhiScore'].last_value)\n",
    "print 'Sparsity Theta:' + str(model.scores_info['SparsityThetaScore'].last_value)"
   ]
  },
  {
   "cell_type": "markdown",
   "metadata": {},
   "source": [
    "Видно, что разреженности матриц пока ещё слишком невелики. Попробуем увеличить по модулю значения коэффициентов регуляризации при разреживающих регуляризаторах:"
   ]
  },
  {
   "cell_type": "code",
   "execution_count": 9,
   "metadata": {
    "collapsed": false
   },
   "outputs": [],
   "source": [
    "model.regularizers['SparsePhi'].tau = -0.4\n",
    "model.regularizers['SparseTheta'].tau = -3.0"
   ]
  },
  {
   "cell_type": "markdown",
   "metadata": {},
   "source": [
    "Также полезно добавить функционал 'TopTokensScore'. Он позволит нам увидеть самые вероятные слова в каждой полученной теме"
   ]
  },
  {
   "cell_type": "code",
   "execution_count": 10,
   "metadata": {
    "collapsed": false
   },
   "outputs": [],
   "source": [
    "model.scores.add(TopTokensScore(name='TopTokensScore', num_tokens=5))"
   ]
  },
  {
   "cell_type": "markdown",
   "metadata": {},
   "source": [
    "Продолжим обучение модели, инициировав 15 проходов по коллекции:"
   ]
  },
  {
   "cell_type": "code",
   "execution_count": 11,
   "metadata": {
    "collapsed": false
   },
   "outputs": [],
   "source": [
    "model.fit_offline(data_path='kos', num_collection_passes=15)"
   ]
  },
  {
   "cell_type": "code",
   "execution_count": 12,
   "metadata": {
    "collapsed": false
   },
   "outputs": [
    {
     "name": "stdout",
     "output_type": "stream",
     "text": [
      "Sparsity Phi:0.638024905879\n",
      "Sparsity Theta:0.793756073858\n"
     ]
    }
   ],
   "source": [
    "print 'Sparsity Phi:' + str(model.scores_info['SparsityPhiScore'].last_value)\n",
    "print 'Sparsity Theta:' + str(model.scores_info['SparsityThetaScore'].last_value)"
   ]
  },
  {
   "cell_type": "markdown",
   "metadata": {},
   "source": [
    "Разреженность всё ещё неудовлетворительная. Попробуем ещё усилить разреживание и продолжить обучение:"
   ]
  },
  {
   "cell_type": "code",
   "execution_count": 13,
   "metadata": {
    "collapsed": false
   },
   "outputs": [],
   "source": [
    "model.regularizers['SparsePhi'].tau = -1.5\n",
    "model.regularizers['SparseTheta'].tau = -5.0\n",
    "model.fit_offline(data_path='kos', num_collection_passes=15)"
   ]
  },
  {
   "cell_type": "markdown",
   "metadata": {},
   "source": [
    "Нарисуем графики перплексии и разреженностей:"
   ]
  },
  {
   "cell_type": "code",
   "execution_count": 14,
   "metadata": {
    "collapsed": false
   },
   "outputs": [
    {
     "data": {
      "image/png": "[encoded data removed]",
      "text/plain": [
       "<matplotlib.figure.Figure at 0x8f3aad0>"
      ]
     },
     "metadata": {},
     "output_type": "display_data"
    }
   ],
   "source": [
    "plt.plot(range(model.num_phi_updates), model.scores_info['PerplexityScore'].value, 'r--', linewidth=2)\n",
    "plt.xlabel('Iterations count')\n",
    "plt.ylabel('Perplexity')\n",
    "plt.grid(True)\n",
    "plt.show()"
   ]
  },
  {
   "cell_type": "code",
   "execution_count": 15,
   "metadata": {
    "collapsed": false
   },
   "outputs": [
    {
     "data": {
      "image/png": "[encoded data removed]",
      "text/plain": [
       "<matplotlib.figure.Figure at 0x93b29f0>"
      ]
     },
     "metadata": {},
     "output_type": "display_data"
    }
   ],
   "source": [
    "plt.plot(range(model.num_phi_updates), model.scores_info['SparsityPhiScore'].value, 'b--',\n",
    "         range(model.num_phi_updates), model.scores_info['SparsityThetaScore'].value, 'r--', linewidth=2)\n",
    "plt.xlabel('Iterations count')\n",
    "plt.ylabel('Phi sparsity, Theta sparsity')\n",
    "plt.grid(True)\n",
    "plt.show()"
   ]
  },
  {
   "cell_type": "markdown",
   "metadata": {},
   "source": [
    "Для столь маленькой коллекции разреженность достаточная. Напечатаем топовые слова в каждой теме:"
   ]
  },
  {
   "cell_type": "code",
   "execution_count": 16,
   "metadata": {
    "collapsed": false
   },
   "outputs": [
    {
     "name": "stdout",
     "output_type": "stream",
     "text": [
      "@topic_0:  [u'bloggers', u'book', u'convention', u'blogs', u'boat']\n",
      "@topic_1:  [u'dean', u'clark', u'edwards', u'primary', u'lieberman']\n",
      "@topic_2:  [u'republican', u'republicans', u'party', u'vote', u'democrats']\n",
      "@topic_3:  [u'bush', u'administration', u'president', u'cheney', u'house']\n",
      "@topic_4:  [u'delay', u'house', u'media', u'committee', u'texas']\n",
      "@topic_5:  [u'democrats', u'states', u'million', u'state', u'democratic']\n",
      "@topic_6:  [u'iraq', u'war', u'bush', u'iraqi', u'bushs']\n",
      "@topic_7:  [u'military', u'soldiers', u'abu', u'pentagon', u'iraqi']\n",
      "@topic_8:  [u'carson', u'coburn', u'oklahoma', u'media', u'speech']\n",
      "@topic_9:  [u'party', u'nader', u'dean', u'unions', u'ballot']\n",
      "@topic_10:  [u'kerry', u'bush', u'poll', u'percent', u'voters']\n",
      "@topic_11:  [u'senate', u'race', u'elections', u'campaign', u'house']\n",
      "@topic_12:  [u'november', u'account', u'electoral', u'governor', u'house']\n",
      "@topic_13:  [u'bush', u'administration', u'tax', u'jobs', u'health']\n",
      "@topic_14:  [u'oil', u'space', u'blades', u'meteor', u'rights']\n"
     ]
    }
   ],
   "source": [
    "for topic_name in model.topic_names:\n",
    "    print topic_name + ': ',\n",
    "    print model.scores_info['TopTokensScore'].last_topic_info[topic_name].tokens"
   ]
  },
  {
   "cell_type": "markdown",
   "metadata": {},
   "source": [
    "Извлечём матрицу Фи в виде pandas.DataFrame:"
   ]
  },
  {
   "cell_type": "code",
   "execution_count": 17,
   "metadata": {
    "collapsed": false
   },
   "outputs": [],
   "source": [
    "phi_matrix = model.get_phi()"
   ]
  },
  {
   "cell_type": "markdown",
   "metadata": {},
   "source": [
    "Напечатаем её:"
   ]
  },
  {
   "cell_type": "code",
   "execution_count": 18,
   "metadata": {
    "collapsed": false
   },
   "outputs": [
    {
     "name": "stdout",
     "output_type": "stream",
     "text": [
      "            @topic_0  @topic_1  @topic_2  @topic_3  @topic_4  @topic_5  \\\n",
      "aarp        0.000000  0.000252  0.000000  0.000000  0.000000  0.000000   \n",
      "abandon     0.000000  0.000000  0.000000  0.000059  0.000000  0.000000   \n",
      "abandoned   0.000000  0.002069  0.000000  0.000092  0.000093  0.000000   \n",
      "abandoning  0.000000  0.000000  0.000000  0.000000  0.000000  0.000000   \n",
      "abb         0.000570  0.000195  0.003486  0.000000  0.000000  0.000000   \n",
      "abc         0.000000  0.000199  0.000000  0.000000  0.000000  0.000000   \n",
      "abcs        0.000000  0.000000  0.000000  0.000000  0.000000  0.000109   \n",
      "abdullah    0.000000  0.000286  0.000000  0.000000  0.000093  0.001458   \n",
      "ability     0.000000  0.000000  0.003585  0.000000  0.000287  0.000000   \n",
      "aboard      0.000000  0.000000  0.000121  0.000000  0.000000  0.000000   \n",
      "abortion    0.000000  0.000000  0.000000  0.000081  0.000000  0.000000   \n",
      "abortions   0.000000  0.000000  0.000000  0.000000  0.000329  0.000000   \n",
      "abraham     0.000000  0.000000  0.000252  0.000000  0.000000  0.000000   \n",
      "abrams      0.000000  0.000089  0.000045  0.000000  0.000000  0.000000   \n",
      "abroad      0.000000  0.000000  0.000147  0.000211  0.000000  0.000000   \n",
      "absence     0.000000  0.000009  0.001886  0.000000  0.000000  0.000000   \n",
      "absent      0.000000  0.000000  0.000000  0.000114  0.000000  0.000000   \n",
      "absentee    0.000211  0.000948  0.000000  0.000000  0.000000  0.000000   \n",
      "absolute    0.000000  0.000000  0.000000  0.000000  0.000000  0.000000   \n",
      "absolutely  0.000000  0.000000  0.000000  0.000000  0.000035  0.000000   \n",
      "abstain     0.000000  0.000000  0.000195  0.000000  0.000208  0.000000   \n",
      "absurd      0.000000  0.000000  0.000000  0.000000  0.000000  0.000635   \n",
      "abu         0.000000  0.000000  0.000000  0.000132  0.000000  0.006459   \n",
      "abuse       0.000000  0.000000  0.000253  0.000000  0.000435  0.000000   \n",
      "abuses      0.000000  0.004789  0.000288  0.000000  0.000000  0.000000   \n",
      "academy     0.000132  0.000000  0.000000  0.000000  0.000000  0.000000   \n",
      "accent      0.000000  0.000556  0.000000  0.000629  0.000000  0.000000   \n",
      "accept      0.000000  0.001887  0.000000  0.000000  0.000122  0.000000   \n",
      "acceptable  0.000000  0.001274  0.000152  0.000000  0.000000  0.000000   \n",
      "acceptance  0.000422  0.000630  0.000000  0.000221  0.000000  0.000000   \n",
      "...              ...       ...       ...       ...       ...       ...   \n",
      "yanks       0.000000  0.000000  0.000000  0.000000  0.000000  0.000000   \n",
      "yard        0.000000  0.000000  0.000000  0.000000  0.000000  0.000176   \n",
      "yeah        0.000000  0.000000  0.000000  0.000736  0.000000  0.000000   \n",
      "year        0.000000  0.000000  0.000095  0.000000  0.000100  0.000000   \n",
      "years       0.000000  0.000000  0.000000  0.000000  0.000000  0.000086   \n",
      "yell        0.000000  0.000000  0.000000  0.000000  0.000000  0.000000   \n",
      "yellin      0.000000  0.000000  0.000000  0.000000  0.000094  0.000000   \n",
      "yesterday   0.000000  0.000000  0.000000  0.000000  0.000000  0.000509   \n",
      "yesterdays  0.000000  0.000000  0.000000  0.000022  0.000000  0.000295   \n",
      "yield       0.000000  0.000085  0.000000  0.000000  0.000000  0.000000   \n",
      "york        0.000000  0.000000  0.000000  0.000000  0.000034  0.000252   \n",
      "yorker      0.000000  0.000000  0.000069  0.000000  0.000000  0.000000   \n",
      "yorkers     0.000000  0.000000  0.000000  0.000095  0.000000  0.000000   \n",
      "youd        0.000000  0.000176  0.000000  0.000000  0.000000  0.000578   \n",
      "youll       0.000000  0.000000  0.000168  0.000000  0.000311  0.000000   \n",
      "young       0.000000  0.000000  0.000000  0.000653  0.000000  0.000387   \n",
      "younger     0.000000  0.000000  0.000067  0.000000  0.000624  0.000193   \n",
      "youre       0.000000  0.000000  0.000000  0.000000  0.000000  0.000599   \n",
      "youth       0.000000  0.000000  0.000026  0.000000  0.000086  0.000994   \n",
      "youve       0.000154  0.000791  0.000000  0.000185  0.000342  0.000452   \n",
      "yucca       0.000000  0.000000  0.000000  0.000000  0.000332  0.000000   \n",
      "yup         0.000000  0.000000  0.000000  0.000000  0.000000  0.000000   \n",
      "zahn        0.000000  0.000000  0.000000  0.000000  0.000000  0.000594   \n",
      "zarqawi     0.000000  0.000000  0.000000  0.000127  0.000000  0.000000   \n",
      "zell        0.003083  0.000000  0.000000  0.000000  0.000000  0.000000   \n",
      "zimbabwe    0.000000  0.000000  0.000144  0.000000  0.000000  0.000000   \n",
      "zogby       0.000000  0.000000  0.000000  0.000000  0.000070  0.000032   \n",
      "zogbys      0.000000  0.000000  0.000000  0.000051  0.000038  0.000000   \n",
      "zone        0.000000  0.000000  0.000000  0.000000  0.000000  0.000120   \n",
      "zones       0.000000  0.000000  0.000000  0.000000  0.000000  0.000000   \n",
      "\n",
      "            @topic_6  @topic_7  @topic_8  @topic_9  @topic_10  @topic_11  \\\n",
      "aarp        0.000126  0.000000  0.000302  0.000000   0.000000   0.000000   \n",
      "abandon     0.000000  0.000000  0.000079  0.000044   0.000242   0.000000   \n",
      "abandoned   0.000000  0.000000  0.000146  0.000000   0.000000   0.000000   \n",
      "abandoning  0.000000  0.000000  0.000000  0.000000   0.000000   0.000000   \n",
      "abb         0.000000  0.000000  0.000000  0.000000   0.000000   0.000000   \n",
      "abc         0.000000  0.000054  0.000000  0.000000   0.000000   0.000000   \n",
      "abcs        0.000053  0.000000  0.000000  0.003178   0.000069   0.000000   \n",
      "abdullah    0.000122  0.000000  0.000089  0.000000   0.000000   0.000588   \n",
      "ability     0.000000  0.000000  0.000000  0.000000   0.000501   0.000091   \n",
      "aboard      0.000000  0.000000  0.000011  0.000000   0.000000   0.000000   \n",
      "abortion    0.000000  0.000121  0.000000  0.000000   0.000000   0.000000   \n",
      "abortions   0.000000  0.000000  0.000295  0.000000   0.000138   0.000000   \n",
      "abraham     0.000083  0.000000  0.000000  0.000122   0.000000   0.000000   \n",
      "abrams      0.000794  0.000000  0.000000  0.001657   0.000127   0.000000   \n",
      "abroad      0.000374  0.000000  0.000000  0.000000   0.000200   0.000000   \n",
      "absence     0.000000  0.000000  0.000000  0.000000   0.000000   0.000098   \n",
      "absent      0.000000  0.000250  0.000000  0.000566   0.000000   0.000000   \n",
      "absentee    0.000616  0.000000  0.000000  0.000347   0.000000   0.000000   \n",
      "absolute    0.000000  0.000000  0.000092  0.000000   0.000021   0.000087   \n",
      "absolutely  0.000000  0.000000  0.000000  0.000215   0.000000   0.000000   \n",
      "abstain     0.000426  0.000161  0.000000  0.000000   0.000000   0.000000   \n",
      "absurd      0.000000  0.000284  0.000000  0.000000   0.000000   0.000000   \n",
      "abu         0.002560  0.000000  0.000000  0.000000   0.000000   0.000436   \n",
      "abuse       0.000000  0.000000  0.000000  0.000373   0.000000   0.000313   \n",
      "abuses      0.000000  0.000000  0.000000  0.000000   0.000000   0.000000   \n",
      "academy     0.000000  0.000277  0.000073  0.000000   0.000000   0.000000   \n",
      "accent      0.000000  0.000000  0.000000  0.000000   0.000000   0.000000   \n",
      "accept      0.000000  0.000000  0.000000  0.000125   0.000000   0.000000   \n",
      "acceptable  0.000000  0.000000  0.000000  0.000646   0.000151   0.000000   \n",
      "acceptance  0.000000  0.000000  0.000000  0.000000   0.000180   0.000000   \n",
      "...              ...       ...       ...       ...        ...        ...   \n",
      "yanks       0.000000  0.000108  0.000000  0.000000   0.000029   0.000000   \n",
      "yard        0.000000  0.000350  0.000087  0.000000   0.000276   0.000292   \n",
      "yeah        0.000167  0.000344  0.000233  0.000000   0.000000   0.000000   \n",
      "year        0.000000  0.000000  0.000000  0.000000   0.000000   0.000000   \n",
      "years       0.000000  0.000545  0.000100  0.000000   0.000000   0.000000   \n",
      "yell        0.000245  0.001913  0.000000  0.000000   0.000000   0.000000   \n",
      "yellin      0.000159  0.000000  0.000000  0.000110   0.000000   0.000000   \n",
      "yesterday   0.000000  0.000241  0.000438  0.000000   0.000000   0.000040   \n",
      "yesterdays  0.000000  0.000257  0.002348  0.000000   0.000000   0.000000   \n",
      "yield       0.000124  0.000109  0.005818  0.000000   0.000000   0.000278   \n",
      "york        0.000286  0.000000  0.001742  0.000000   0.000000   0.000000   \n",
      "yorker      0.000000  0.000337  0.001122  0.000000   0.000000   0.000000   \n",
      "yorkers     0.000057  0.000000  0.002924  0.000000   0.000000   0.000000   \n",
      "youd        0.000000  0.000000  0.003757  0.000000   0.002236   0.000000   \n",
      "youll       0.000000  0.000000  0.001427  0.000187   0.000425   0.000000   \n",
      "young       0.000000  0.000000  0.004972  0.000000   0.000000   0.000000   \n",
      "younger     0.000000  0.000380  0.004989  0.000000   0.000000   0.000000   \n",
      "youre       0.000000  0.000000  0.002256  0.000000   0.000000   0.000000   \n",
      "youth       0.000000  0.000000  0.000506  0.000635   0.000000   0.000000   \n",
      "youve       0.000000  0.000000  0.002355  0.000891   0.000000   0.000000   \n",
      "yucca       0.000000  0.000302  0.000000  0.000534   0.000000   0.001366   \n",
      "yup         0.000000  0.000000  0.000000  0.000486   0.000000   0.003703   \n",
      "zahn        0.000000  0.000000  0.000000  0.000000   0.000000   0.000000   \n",
      "zarqawi     0.000105  0.000000  0.000000  0.000000   0.000000   0.000200   \n",
      "zell        0.000000  0.000000  0.000165  0.000000   0.000000   0.000546   \n",
      "zimbabwe    0.000536  0.000000  0.000000  0.000263   0.000000   0.002895   \n",
      "zogby       0.000000  0.000000  0.000000  0.000486   0.000000   0.000000   \n",
      "zogbys      0.000465  0.000000  0.000000  0.000000   0.000000   0.000000   \n",
      "zone        0.000000  0.000000  0.000000  0.000154   0.000121   0.000000   \n",
      "zones       0.000116  0.000000  0.000000  0.000000   0.000000   0.000000   \n",
      "\n",
      "            @topic_12  @topic_13  @topic_14  \n",
      "aarp         0.000000   0.000000   0.000000  \n",
      "abandon      0.000491   0.000190   0.000000  \n",
      "abandoned    0.000000   0.000000   0.000000  \n",
      "abandoning   0.000000   0.000102   0.000000  \n",
      "abb          0.000000   0.000000   0.000131  \n",
      "abc          0.000062   0.000107   0.000000  \n",
      "abcs         0.000214   0.000000   0.000000  \n",
      "abdullah     0.000000   0.000000   0.000000  \n",
      "ability      0.000000   0.000000   0.000000  \n",
      "aboard       0.000000   0.000000   0.000000  \n",
      "abortion     0.000000   0.000000   0.000000  \n",
      "abortions    0.000000   0.000000   0.000138  \n",
      "abraham      0.000000   0.000000   0.000090  \n",
      "abrams       0.000000   0.001761   0.000000  \n",
      "abroad       0.000000   0.000475   0.000000  \n",
      "absence      0.000000   0.000000   0.000000  \n",
      "absent       0.000000   0.000515   0.000000  \n",
      "absentee     0.000120   0.003035   0.000000  \n",
      "absolute     0.000000   0.000706   0.000000  \n",
      "absolutely   0.000000   0.000159   0.000000  \n",
      "abstain      0.000000   0.000000   0.000000  \n",
      "absurd       0.000000   0.000871   0.001434  \n",
      "abu          0.000000   0.001493   0.000125  \n",
      "abuse        0.000000   0.002823   0.000878  \n",
      "abuses       0.000000   0.000000   0.000099  \n",
      "academy      0.000000   0.000851   0.000611  \n",
      "accent       0.000000   0.000000   0.000084  \n",
      "accept       0.000000   0.000000   0.000961  \n",
      "acceptable   0.000000   0.000000   0.000452  \n",
      "acceptance   0.000000   0.000000   0.002433  \n",
      "...               ...        ...        ...  \n",
      "yanks        0.000000   0.000000   0.000000  \n",
      "yard         0.000000   0.000000   0.000200  \n",
      "yeah         0.000000   0.000000   0.000000  \n",
      "year         0.000000   0.002043   0.000000  \n",
      "years        0.000000   0.000000   0.000000  \n",
      "yell         0.000000   0.000000   0.000000  \n",
      "yellin       0.000000   0.000000   0.000435  \n",
      "yesterday    0.000000   0.000000   0.000000  \n",
      "yesterdays   0.000138   0.000000   0.000000  \n",
      "yield        0.000072   0.000000   0.000000  \n",
      "york         0.000000   0.000000   0.000117  \n",
      "yorker       0.000497   0.000000   0.000110  \n",
      "yorkers      0.000000   0.000000   0.000000  \n",
      "youd         0.000000   0.000161   0.000000  \n",
      "youll        0.000000   0.000000   0.000000  \n",
      "young        0.000000   0.000000   0.000000  \n",
      "younger      0.000000   0.000066   0.000000  \n",
      "youre        0.000000   0.000086   0.000000  \n",
      "youth        0.000128   0.000000   0.000000  \n",
      "youve        0.000000   0.000000   0.000000  \n",
      "yucca        0.000000   0.000000   0.000000  \n",
      "yup          0.000000   0.000000   0.000146  \n",
      "zahn         0.000000   0.000000   0.000000  \n",
      "zarqawi      0.000000   0.000000   0.000000  \n",
      "zell         0.000000   0.000000   0.000000  \n",
      "zimbabwe     0.000000   0.000000   0.000000  \n",
      "zogby        0.000000   0.000000   0.000000  \n",
      "zogbys       0.000000   0.000000   0.000000  \n",
      "zone         0.000000   0.000405   0.000000  \n",
      "zones        0.000000   0.000000   0.000000  \n",
      "\n",
      "[6906 rows x 15 columns]\n"
     ]
    }
   ],
   "source": [
    "print phi_matrix"
   ]
  },
  {
   "cell_type": "markdown",
   "metadata": {},
   "source": [
    "Последний шаг — сохранение модели. ArtmModel предоставляет две возможности: сохранить модель в формате BigARTM или в .csv файл. \n",
    "- в первом случае модель нельзя будет никак визуализировать, но можно загрузить обратно в ArtmModel и продолжить работу с ней;\n",
    "- .csv файл нельзя загрузить обратно, но на него можно посмотреть глазами."
   ]
  },
  {
   "cell_type": "code",
   "execution_count": 19,
   "metadata": {
    "collapsed": false
   },
   "outputs": [],
   "source": [
    "model.save(file_name='kos_artm_model')\n",
    "model.to_csv(file_name='kos_artm_model.csv')"
   ]
  },
  {
   "cell_type": "markdown",
   "metadata": {},
   "source": [
    "Дополнительно извлечём Тету:"
   ]
  },
  {
   "cell_type": "code",
   "execution_count": 20,
   "metadata": {
    "collapsed": false
   },
   "outputs": [],
   "source": [
    "theta_matrix = model.get_theta()"
   ]
  },
  {
   "cell_type": "markdown",
   "metadata": {},
   "source": [
    "ArtmModel.get_theta() возвращает Теут как объект pandas.DataFrame. Напечатаем её:"
   ]
  },
  {
   "cell_type": "code",
   "execution_count": 21,
   "metadata": {
    "collapsed": false
   },
   "outputs": [
    {
     "name": "stdout",
     "output_type": "stream",
     "text": [
      "           1         2       3     4     5     6     7     8         9     \\\n",
      "@topic_0      0  0.000000  0.0000     0     0     0     0     0  0.000000   \n",
      "@topic_1      0  0.000000  0.0000     0     0     0     0     0  0.000000   \n",
      "@topic_2      0  0.000000  0.0354     0     0     0     0     0  0.000000   \n",
      "@topic_3      0  0.000000  0.0000     0     1     0     0     0  0.000000   \n",
      "@topic_4      0  0.000000  0.0000     0     0     0     0     0  0.000000   \n",
      "@topic_5      0  0.000000  0.0000     0     0     0     0     0  0.000000   \n",
      "@topic_6      0  0.000000  0.0000     0     0     0     0     0  0.000000   \n",
      "@topic_7      0  0.033199  0.0000     0     0     0     0     0  0.028622   \n",
      "@topic_8      0  0.036568  0.0000     0     0     0     0     0  0.000000   \n",
      "@topic_9      0  0.000000  0.0000     0     0     0     0     0  0.000000   \n",
      "@topic_10     0  0.000000  0.0000     0     0     0     0     0  0.000000   \n",
      "@topic_11     0  0.000000  0.0000     0     0     0     0     0  0.000000   \n",
      "@topic_12     0  0.000000  0.0000     0     0     0     0     0  0.000000   \n",
      "@topic_13     0  0.000000  0.0000     0     0     0     0     0  0.000000   \n",
      "@topic_14     0  0.000000  0.0000     0     0     0     0     0  0.000000   \n",
      "\n",
      "               10      ...     3421  3422  3423      3424  3425  3426  3427  \\\n",
      "@topic_0   0.000000    ...        0     0     0  0.288804     0     0     0   \n",
      "@topic_1   0.000000    ...        0     0     0  0.000000     0     0     0   \n",
      "@topic_2   0.000000    ...        0     0     0  0.000000     0     0     0   \n",
      "@topic_3   0.000000    ...        0     0     0  0.000000     0     0     0   \n",
      "@topic_4   0.000000    ...        0     0     0  0.000000     0     0     0   \n",
      "@topic_5   0.198140    ...        0     0     0  0.000000     0     0     0   \n",
      "@topic_6   0.000000    ...        0     0     0  0.000000     0     0     0   \n",
      "@topic_7   0.036891    ...        0     0     0  0.000000     0     0     0   \n",
      "@topic_8   0.000000    ...        0     0     0  0.000000     0     0     0   \n",
      "@topic_9   0.119908    ...        0     0     0  0.000000     0     0     0   \n",
      "@topic_10  0.000000    ...        0     0     0  0.000000     0     0     0   \n",
      "@topic_11  0.000000    ...        0     0     0  0.000000     0     0     0   \n",
      "@topic_12  0.000000    ...        0     0     0  0.000000     0     0     0   \n",
      "@topic_13  0.000000    ...        0     0     0  0.000000     0     0     0   \n",
      "@topic_14  0.184927    ...        0     0     0  0.000000     0     0     0   \n",
      "\n",
      "           3428      3429      3430  \n",
      "@topic_0      0  0.159356  0.000000  \n",
      "@topic_1      0  0.000000  0.000000  \n",
      "@topic_2      0  0.000000  0.000000  \n",
      "@topic_3      0  0.009784  0.000000  \n",
      "@topic_4      0  0.000000  0.000000  \n",
      "@topic_5      0  0.000000  0.000000  \n",
      "@topic_6      0  0.000000  0.144298  \n",
      "@topic_7      0  0.000000  0.000000  \n",
      "@topic_8      0  0.000000  0.000000  \n",
      "@topic_9      0  0.000000  0.000000  \n",
      "@topic_10     0  0.000000  0.000000  \n",
      "@topic_11     0  0.000000  0.000000  \n",
      "@topic_12     0  0.000000  0.000000  \n",
      "@topic_13     0  0.000000  0.000000  \n",
      "@topic_14     0  0.000000  0.000000  \n",
      "\n",
      "[15 rows x 3430 columns]\n"
     ]
    }
   ],
   "source": [
    "print theta_matrix"
   ]
  },
  {
   "cell_type": "markdown",
   "metadata": {},
   "source": [
    "## Пример №2"
   ]
  },
  {
   "cell_type": "markdown",
   "metadata": {},
   "source": [
    "Это вторая часть примера использования нового интерфейса библиотеки. Загрузим обратно модель, сохранённую в прошлой части и применим к ней несколько операций.\n",
    "\n",
    "В первую очередь создадим новую тематическую модель:"
   ]
  },
  {
   "cell_type": "code",
   "execution_count": 22,
   "metadata": {
    "collapsed": false
   },
   "outputs": [],
   "source": [
    "new_model = ArtmModel(num_topics=1, num_document_passes=1)"
   ]
  },
  {
   "cell_type": "markdown",
   "metadata": {},
   "source": [
    "Вторым шагом добавим в неё функционалы и регуляризаторы. Ограничимся одной новой метрикой и двумя уже знакомыми регуляризаторами:"
   ]
  },
  {
   "cell_type": "code",
   "execution_count": 23,
   "metadata": {
    "collapsed": false
   },
   "outputs": [],
   "source": [
    "new_model.scores.add(TopicKernelScore(name='TopicKernelScore'))\n",
    "new_model.regularizers.add(SmoothSparsePhiRegularizer(name='SparsePhi', tau=-0.1))\n",
    "new_model.regularizers.add(DecorrelatorPhiRegularizer(name='DecorrelatorPhi', tau=100000.0))"
   ]
  },
  {
   "cell_type": "markdown",
   "metadata": {},
   "source": [
    "Теперь загрузим файл 'kos_artm_model' с моделью обратно в библиотеку"
   ]
  },
  {
   "cell_type": "code",
   "execution_count": 24,
   "metadata": {
    "collapsed": true
   },
   "outputs": [],
   "source": [
    "new_model.load('kos_artm_model')"
   ]
  },
  {
   "cell_type": "markdown",
   "metadata": {},
   "source": [
    "Имейте ввиду, что загружаемая модель перепишет несколько параметров нашего объекта ArtmModel: число и имена тем, матрицу Фи. Также загрузка сотрёт всю информацию о данных метрик, посчитанных ранее. Тем не менее, сами подключенные метрики и регуляризаторы никуда не денуться. В нашем случае это функционал 'TopicKernelScore' и регуляризаторы 'SparsePhi' и 'DecorrealtorPhi'.\n",
    "\n",
    "Теперь продолжим обучение модели, но, для примера, рассмотрим онлайновый режим. Это означает, что\n",
    "- число проходов по каждому документу увеличивается\n",
    "- матрица Фи может быть обновлена произвольное количество раз за один проход по коллекции (но не чаще, чем раз за обработанный батч)\n",
    "- нам требуется только оин проход по коллекции (но здесь мы сделаем 5, поскольку коллекция 'kos' довольно маленькая)."
   ]
  },
  {
   "cell_type": "code",
   "execution_count": 25,
   "metadata": {
    "collapsed": false
   },
   "outputs": [],
   "source": [
    "new_model.num_document_passes = 20\n",
    "for i in range(5):\n",
    "    new_model.fit_online(data_path='kos', update_every=4)"
   ]
  },
  {
   "cell_type": "markdown",
   "metadata": {},
   "source": [
    "Параметр 'update_every' говорит модели о том, раз в сколько батчей следует обновлять матрицу Фи.\n",
    "\n",
    "Выведем средние харакетристики ядер тем (чистоту и контрастность):"
   ]
  },
  {
   "cell_type": "code",
   "execution_count": 26,
   "metadata": {
    "collapsed": false
   },
   "outputs": [
    {
     "data": {
      "image/png": "[encoded data removed]",
      "text/plain": [
       "<matplotlib.figure.Figure at 0x963c430>"
      ]
     },
     "metadata": {},
     "output_type": "display_data"
    }
   ],
   "source": [
    "plt.plot(range(new_model.num_phi_updates), new_model.scores_info['TopicKernelScore'].average_contrast, 'g--',\n",
    "         range(new_model.num_phi_updates), new_model.scores_info['TopicKernelScore'].average_purity, 'r--', linewidth=2)\n",
    "plt.xlabel('Iterations count')\n",
    "plt.ylabel('Kernel scores')\n",
    "plt.grid(True)\n",
    "plt.show()"
   ]
  },
  {
   "cell_type": "markdown",
   "metadata": {},
   "source": [
    "Как мы видим, дальнейшее обучение загруженной модели только ухудшило её качество.\n",
    "\n",
    "Также можно посмотреть на ифнормацию о ядрах каждой темы. Для примера выведем все ядровые слова первой темы:"
   ]
  },
  {
   "cell_type": "code",
   "execution_count": 27,
   "metadata": {
    "collapsed": false
   },
   "outputs": [
    {
     "name": "stdout",
     "output_type": "stream",
     "text": [
      "[u'allowed', u'award', u'baseball', u'blogads', u'bloggers', u'blogging', u'blogosphere', u'blogs', u'boat', u'book', u'boston', u'bronze', u'curious', u'dailykos', u'drudge', u'drum', u'editors', u'fans', u'franken', u'fun', u'ideological', u'journalism', u'journalists', u'kevin', u'launch', u'limbaugh', u'links', u'lying', u'magazine', u'nevada', u'nyc', u'oreilly', u'owner', u'park', u'petraeus', u'posters', u'propaganda', u'putting', u'reader', u'readers', u'review', u'rewards', u'rnc', u'road', u'rowland', u'rush', u'season', u'selection', u'series', u'sox', u'star', u'starting', u'stations', u'suddenly', u'swift', u'treatment', u'trip', u'universe', u'updates', u'whos', u'writes', u'yankees']\n"
     ]
    }
   ],
   "source": [
    "print new_model.scores_info['TopicKernelScore'].last_topic_info[new_model.topic_names[0]].tokens"
   ]
  },
  {
   "cell_type": "markdown",
   "metadata": {},
   "source": [
    "Если у нас есть батч с документами, который не являлся частью обучающей выборки (или являлся, но мы не сохраняли Тету для экономии памяти), и мы хотим узнать столбцы матрицы Теты для него, то следует использовать метод 'find_theta':"
   ]
  },
  {
   "cell_type": "code",
   "execution_count": 28,
   "metadata": {
    "collapsed": false
   },
   "outputs": [],
   "source": [
    "test_theta_matrix = model.find_theta(data_path='kos_test', batches=['test_docs.batch'])"
   ]
  },
  {
   "cell_type": "markdown",
   "metadata": {},
   "source": [
    "ArtmModel.find_theta(), как и ArtmModel.get_theta(), возвращает Тету в виде объекта pandas.DataFrame. Напечатаем ее:"
   ]
  },
  {
   "cell_type": "code",
   "execution_count": 29,
   "metadata": {
    "collapsed": false
   },
   "outputs": [
    {
     "name": "stdout",
     "output_type": "stream",
     "text": [
      "               3001          3002          3003          3004      3005  \\\n",
      "@topic_0   0.000027  5.469871e-12  8.858654e-05  3.657610e-08  0.023010   \n",
      "@topic_1   0.000000  7.542535e-08  5.074262e-08  2.937707e-05  0.000895   \n",
      "@topic_2   0.157189  3.943474e-02  9.634729e-02  3.531532e-02  0.000529   \n",
      "@topic_3   0.026739  1.165678e-02  1.995718e-04  6.939330e-03  0.000309   \n",
      "@topic_4   0.042745  6.324429e-01  7.173961e-03  5.326905e-01  0.501925   \n",
      "@topic_5   0.116400  1.229189e-02  8.142512e-02  2.659782e-01  0.069237   \n",
      "@topic_6   0.376137  5.741608e-02  1.048814e-01  5.601983e-03  0.097927   \n",
      "@topic_7   0.163309  1.563601e-01  1.076558e-05  6.482412e-05  0.000017   \n",
      "@topic_8   0.002779  3.925611e-08  5.331619e-03  2.455646e-03  0.003307   \n",
      "@topic_9   0.000794  1.425100e-03  8.679842e-03  1.836359e-02  0.000393   \n",
      "@topic_10  0.031546  4.864459e-04  6.822557e-01  9.276330e-02  0.158378   \n",
      "@topic_11  0.010005  2.929063e-02  4.955112e-04  1.317881e-02  0.106788   \n",
      "@topic_12  0.000001  1.540388e-02  4.465871e-03  3.355295e-04  0.004254   \n",
      "@topic_13  0.055056  5.237263e-03  5.447364e-03  2.556876e-02  0.033012   \n",
      "@topic_14  0.017275  3.855420e-02  3.197202e-03  7.149656e-04  0.000019   \n",
      "\n",
      "                   3006      3007          3008          3009          3010  \\\n",
      "@topic_0   1.957751e-03  0.000003  1.880585e-02  3.284682e-08  5.062459e-11   \n",
      "@topic_1   3.125619e-09  0.000002  1.916737e-03  2.358250e-03  1.123493e-04   \n",
      "@topic_2   4.616922e-03  0.274579  1.035474e-05  5.992466e-02  7.972524e-02   \n",
      "@topic_3   4.240428e-05  0.010763  4.021924e-06  3.439149e-02  2.323689e-01   \n",
      "@topic_4   5.538649e-02  0.137051  3.462338e-03  4.187409e-02  4.170704e-01   \n",
      "@topic_5   2.461979e-05  0.015040  7.990504e-07  9.312690e-02  3.289472e-02   \n",
      "@topic_6   2.320145e-04  0.008153  6.622632e-07  2.465889e-02  4.073310e-03   \n",
      "@topic_7   3.693220e-09  0.011507  6.379053e-09  1.754549e-05  2.694918e-02   \n",
      "@topic_8   6.324271e-08  0.027514  5.784749e-02  3.420433e-03  2.061193e-03   \n",
      "@topic_9   2.270014e-06  0.000164  2.295048e-04  1.478349e-01  4.626282e-02   \n",
      "@topic_10  1.497042e-02  0.012099  6.286392e-06  7.630649e-04  4.165544e-02   \n",
      "@topic_11  1.676839e-04  0.479621  9.177156e-01  5.832050e-01  1.134689e-01   \n",
      "@topic_12  9.163985e-01  0.008182  2.467631e-14  1.429415e-05  1.918072e-05   \n",
      "@topic_13  1.890546e-05  0.000360  3.322686e-07  8.372122e-03  1.209505e-03   \n",
      "@topic_14  6.181949e-03  0.014963  2.818706e-09  3.831826e-05  2.128892e-03   \n",
      "\n",
      "               ...               3421          3422          3423  \\\n",
      "@topic_0       ...       2.400123e-02  1.399032e-08  1.669546e-01   \n",
      "@topic_1       ...       1.419767e-08  4.308424e-07  1.066053e-08   \n",
      "@topic_2       ...       2.461134e-03  3.054128e-04  4.152983e-02   \n",
      "@topic_3       ...       4.743232e-03  1.124631e-02  1.443310e-01   \n",
      "@topic_4       ...       1.030152e-02  1.556996e-05  1.541963e-01   \n",
      "@topic_5       ...       1.672109e-01  3.783157e-02  1.188393e-01   \n",
      "@topic_6       ...       6.482496e-01  3.336957e-02  2.151835e-01   \n",
      "@topic_7       ...       1.550183e-02  6.509122e-03  5.634583e-02   \n",
      "@topic_8       ...       2.256950e-03  1.091426e-03  1.011225e-02   \n",
      "@topic_9       ...       1.841019e-02  4.043165e-06  4.340176e-03   \n",
      "@topic_10      ...       1.583676e-03  1.962117e-02  4.270077e-02   \n",
      "@topic_11      ...       1.041119e-01  4.879933e-04  7.019719e-04   \n",
      "@topic_12      ...       5.572574e-08  7.564732e-01  4.844824e-05   \n",
      "@topic_13      ...       2.252718e-04  1.300042e-02  3.803419e-02   \n",
      "@topic_14      ...       9.423788e-04  1.200438e-01  6.681675e-03   \n",
      "\n",
      "                   3424          3425          3426          3427  \\\n",
      "@topic_0   3.956320e-01  4.873059e-04  1.043087e-03  2.407342e-09   \n",
      "@topic_1   1.087032e-04  8.000412e-07  9.310486e-04  6.499579e-08   \n",
      "@topic_2   6.074472e-02  4.141096e-03  2.315663e-03  1.681362e-03   \n",
      "@topic_3   1.533248e-02  5.446306e-01  7.082346e-03  1.229088e-01   \n",
      "@topic_4   1.238943e-01  9.604758e-04  7.373461e-03  3.445162e-05   \n",
      "@topic_5   2.090239e-05  2.162657e-02  3.142591e-04  7.990244e-04   \n",
      "@topic_6   3.904776e-02  2.146968e-03  3.700340e-03  5.121726e-04   \n",
      "@topic_7   2.987451e-06  1.707974e-06  1.601333e-12  3.606034e-08   \n",
      "@topic_8   3.120586e-02  8.295781e-02  1.576883e-05  4.800377e-02   \n",
      "@topic_9   6.868456e-10  1.540133e-04  6.258194e-06  8.090168e-05   \n",
      "@topic_10  1.587540e-01  2.618308e-01  8.392903e-01  7.297264e-01   \n",
      "@topic_11  6.463193e-02  1.305145e-03  7.902022e-02  7.073109e-02   \n",
      "@topic_12  2.184983e-02  3.641233e-10  2.158498e-03  1.885777e-06   \n",
      "@topic_13  1.636073e-03  7.709020e-02  5.674849e-02  2.549746e-02   \n",
      "@topic_14  8.713844e-02  2.666325e-03  2.482128e-07  2.260422e-05   \n",
      "\n",
      "                   3428          3429          3430  \n",
      "@topic_0   1.546614e-02  2.525340e-02  1.669583e-05  \n",
      "@topic_1   8.953164e-08  3.241837e-05  2.418463e-06  \n",
      "@topic_2   2.726626e-01  5.480802e-02  1.706952e-03  \n",
      "@topic_3   2.257907e-01  2.235571e-02  4.049359e-02  \n",
      "@topic_4   2.724826e-02  3.961665e-04  2.801947e-02  \n",
      "@topic_5   7.386161e-04  3.750551e-02  8.494039e-02  \n",
      "@topic_6   2.529689e-02  1.175931e-01  4.943205e-01  \n",
      "@topic_7   5.835418e-03  2.569351e-03  6.138295e-05  \n",
      "@topic_8   2.938006e-01  2.537077e-01  1.120449e-01  \n",
      "@topic_9   5.602095e-04  8.155604e-08  3.222147e-05  \n",
      "@topic_10  1.919929e-02  3.854878e-02  2.771848e-02  \n",
      "@topic_11  3.513970e-02  3.879983e-01  2.043639e-01  \n",
      "@topic_12  9.601177e-04  5.163308e-09  1.695358e-09  \n",
      "@topic_13  7.183574e-02  2.996251e-02  5.865070e-03  \n",
      "@topic_14  5.465487e-03  2.926882e-02  4.141063e-04  \n",
      "\n",
      "[15 rows x 430 columns]\n"
     ]
    }
   ],
   "source": [
    "print test_theta_matrix"
   ]
  }
 ],
 "metadata": {
  "kernelspec": {
   "display_name": "Python 2",
   "language": "python",
   "name": "python2"
  },
  "language_info": {
   "codemirror_mode": {
    "name": "ipython",
    "version": 2
   },
   "file_extension": ".py",
   "mimetype": "text/x-python",
   "name": "python",
   "nbconvert_exporter": "python",
   "pygments_lexer": "ipython2",
   "version": "2.7.7"
  }
 },
 "nbformat": 4,
 "nbformat_minor": 0
}
