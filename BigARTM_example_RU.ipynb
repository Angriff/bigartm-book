{
 "cells": [
  {
   "cell_type": "markdown",
   "metadata": {},
   "source": [
    "# BigARTM Python API."
   ]
  },
  {
   "cell_type": "markdown",
   "metadata": {},
   "source": [
    "BigARTM &ndash; открытая библиотека для тематического моделирования текстовых коллекций, реализующая теорию аддитивной регуляризации тематических моделей (ARTM). Основной сайт проекта http://bigartm.org/.\n",
    "\n",
    "Здесь показан пример использования пользовательского Python API библиотеки. Мы проведём демонстрационный эксперимент.\n",
    "\n",
    "#### Описание:\n",
    "Построим две тематические модели коллекции текстовых документов, ARTM и PLSA, сравним качество полученных моделей.\n",
    "\n",
    "#### Функционалы качества:\n",
    "Важным функционалом является перплексия коллекции. Тем не менее, это далеко не единственная величина, характеризующая качество обучения. В BigARTM реализованы следующие функционалы:\n",
    "\n",
    "- разреженность матрицы $\\Phi$ (слова-темы);\n",
    "- разреженность матрицы $\\Theta$ (темы-документы);\n",
    "- характеристики ядер тем (чистота, контрастность, размер);\n",
    "- перплексия;\n",
    "- когерентность топ-слов и слов из ядер тем.\n",
    "\n",
    "Мы будем использовать первые четыре. Более сильные разреженности матриц и более высокие средние значения чистоты и контрастности способствуют большей интерпретируемости модели.\n",
    "\n",
    "#### Цель эксперимента:\n",
    "Попробуем обучить модель ARTM таким образом, чтобы, в сравнении с PLSA, улучшить значения разреженностей и ядровых характеристик и не сильно ухудшить перплексию.\n",
    "\n",
    "Основным инструментом для корректирования процесса обучения являются регуляризаторы. Список имеющихся в BigARTM регуляризаторов:\n",
    "\n",
    "- разреживание матрицы $\\Phi$ (+ частичное обучение);\n",
    "- разреживание матрицы $\\Theta$ (+ частичное обучение);\n",
    "- декоррелирование тем в матрице $\\Phi$;\n",
    "- принудительное разреживание $\\Phi$;\n",
    "- балансирование классов (Label Regularization);\n",
    "- повышение когерентности.\n",
    "\n",
    "В этом эксперименте для обучения ARTM воспользуемся первыми тремя регуляризаторами. ARTM без регуляризации соответствует PLSA.\n",
    "\n",
    "#### Коллекция:\n",
    "Воспользуемся небольшой коллекцией 'kos', доступной в репозитории UCI https://archive.ics.uci.edu/ml/machine-learning-databases/bag-of-words/. Параметры коллекции следующие:\n",
    "\n",
    "- 3430 документов;\n",
    "- 6906 слов в словаре;\n",
    "- 467714 ненулевых счётчиков в \"мешке слов\"."
   ]
  },
  {
   "cell_type": "markdown",
   "metadata": {},
   "source": [
    "Для начала подключим все необходимые модули (убедитесь, что путь к Python API BigARTM находится в вашей переменной PATH):"
   ]
  },
  {
   "cell_type": "code",
   "execution_count": 1,
   "metadata": {
    "collapsed": false
   },
   "outputs": [],
   "source": [
    "%matplotlib inline\n",
    "import glob\n",
    "import os\n",
    "import matplotlib.pyplot as plt\n",
    "\n",
    "import artm"
   ]
  },
  {
   "cell_type": "markdown",
   "metadata": {},
   "source": [
    "Прежде всего необходимо подготовить входные данные. BigARTM имеет собственный формат документов для обработки, называемый батчами. В библиотеки присутствуют средства по созданию батчей из файлов в форматах Bag-Of-Words UCI и Vowpal Wabbit (подробности можно найти в http://docs.bigartm.org/en/latest/formats.html).\n",
    "\n",
    "В Python API, по аналогии с алгоритмами из scikit-learn, входные данные представлены одним классом BatchVectorizer. Объект этого класса принимает на вход батчи или файлы UCI / VW и подаётся на вход всем методам. В случае, если входные данные не являются батчами, он создаёт их и сохраняет на диск для последующего быстрого использования.\n",
    "\n",
    "Итак, создадим объект BatchVectorizer:"
   ]
  },
  {
   "cell_type": "code",
   "execution_count": 2,
   "metadata": {
    "collapsed": true
   },
   "outputs": [],
   "source": [
    "batch_vectorizer = None\n",
    "if len(glob.glob(os.path.join('kos', '*.batch'))) < 1:\n",
    "    batch_vectorizer = artm.BatchVectorizer(data_path='', data_format='bow_uci', collection_name='kos', target_folder='kos')\n",
    "else:\n",
    "    batch_vectorizer = artm.BatchVectorizer(data_path='kos', data_format='batches')"
   ]
  },
  {
   "cell_type": "markdown",
   "metadata": {
    "collapsed": false
   },
   "source": [
    "ARTM &ndash; это класс, представляющий собой Python API BigARTM, и позволяющий использовать практически все возможности библиотеки в стиле scikit-learn. Создадим две тематические модели для нашего эксперимента. Наиболее важным параметром модели является число тем. Опционально можно указать списки регуляризаторов и функционалов качества, которые следует использовать для данной модели. Если этого не сделать, то регуляризаторы и функционалы всегда можно добавить позднее. Обратите внимание, что каждая модель задаёт своё пространство имён для названий регуляризаторов и функционалов качества."
   ]
  },
  {
   "cell_type": "code",
   "execution_count": 3,
   "metadata": {
    "collapsed": false
   },
   "outputs": [],
   "source": [
    "model_plsa = artm.ARTM(num_topics=15,\n",
    "                  scores=[artm.PerplexityScore(name='PerplexityScore',\n",
    "                                               use_unigram_document_model=False,\n",
    "                                               dictionary_name='dictionary')])\n",
    "\n",
    "model_artm = artm.ARTM(num_topics=15,\n",
    "                  scores=[artm.PerplexityScore(name='PerplexityScore',\n",
    "                                               use_unigram_document_model=False,\n",
    "                                               dictionary_name='dictionary')],\n",
    "                  regularizers=[artm.SmoothSparseThetaRegularizer(name='SparseTheta', tau=-0.15)])"
   ]
  },
  {
   "cell_type": "markdown",
   "metadata": {},
   "source": [
    "Следующий шаг — инициализация моделей. Сделаем это по словарю, что означает, что\n",
    "- будет создана матрица $\\Phi$ с именем 'pwt', число строк и столбцов в ней будет взято исходя из числа слов в словаре и заданного в модели числа тем;\n",
    "- эта матрица будет заполнена случайными значениями из диапазона (0, 1) и нормализована.\n",
    "\n",
    "Надо отметить, что этот шаг является опциональным, поскольку модель может быть автоматически инициализирована во время вызовов fit_offline() / fit_online().\n",
    "\n",
    "Словарь &ndash; это объект BigARTM, содержащий информацию о коллекции (словарь коллекции, различные величины и счётчики, связанные со словами). Создать словарь можно на основе папки с батчами. Затем собранный словарь можно сохранять на диск и позже подгрузить вновь."
   ]
  },
  {
   "cell_type": "code",
   "execution_count": 4,
   "metadata": {
    "collapsed": false
   },
   "outputs": [],
   "source": [
    "if not os.path.isfile('kos/dictionary.dict'):\n",
    "    model_plsa.gather_dictionary('dictionary', batch_vectorizer.data_path)\n",
    "    model_plsa.save_dictionary(dictionary_name='dictionary', dictionary_path='kos/dictionary.dict')\n",
    "\n",
    "model_plsa.load_dictionary(dictionary_name='dictionary', dictionary_path='kos/dictionary.dict')\n",
    "model_artm.load_dictionary(dictionary_name='dictionary', dictionary_path='kos/dictionary.dict')"
   ]
  },
  {
   "cell_type": "markdown",
   "metadata": {},
   "source": [
    "Затем словари можно использовать, чтобы инициализировать модель:"
   ]
  },
  {
   "cell_type": "code",
   "execution_count": 5,
   "metadata": {
    "collapsed": false
   },
   "outputs": [],
   "source": [
    "model_plsa.initialize(dictionary_name='dictionary')\n",
    "model_artm.initialize(dictionary_name='dictionary')"
   ]
  },
  {
   "cell_type": "markdown",
   "metadata": {},
   "source": [
    "Как уже было сказано, ARTM предоставляет возможность использовать все функционалы качества, имеющиеся в BigARTM. Если функционал подключен к модели, то модель будет сохранять все его значения, полученные на момент каждого обновления матрицы $\\Phi$. Добавим функционалы качества, нужные для нашего эксперимента, которые отсутствовали в конструкторах:"
   ]
  },
  {
   "cell_type": "code",
   "execution_count": 6,
   "metadata": {
    "collapsed": false
   },
   "outputs": [],
   "source": [
    "model_plsa.scores.add(artm.SparsityPhiScore(name='SparsityPhiScore'))\n",
    "model_plsa.scores.add(artm.SparsityThetaScore(name='SparsityThetaScore'))\n",
    "model_plsa.scores.add(artm.TopicKernelScore(name='TopicKernelScore', probability_mass_threshold=0.3))\n",
    "\n",
    "model_artm.scores.add(artm.SparsityPhiScore(name='SparsityPhiScore'))\n",
    "model_artm.scores.add(artm.SparsityThetaScore(name='SparsityThetaScore'))\n",
    "model_artm.scores.add(artm.TopicKernelScore(name='TopicKernelScore', probability_mass_threshold=0.3))"
   ]
  },
  {
   "cell_type": "markdown",
   "metadata": {},
   "source": [
    "Аналогично поступим с регуляризаторами для model_artm (зададим им стартовые коэффициенты регуляризации, которые можно будет позже изменить при необходимости):"
   ]
  },
  {
   "cell_type": "code",
   "execution_count": 7,
   "metadata": {
    "collapsed": false
   },
   "outputs": [],
   "source": [
    "model_artm.regularizers.add(artm.SmoothSparsePhiRegularizer(name='SparsePhi', tau=-0.1))\n",
    "model_artm.regularizers.add(artm.DecorrelatorPhiRegularizer(name='DecorrelatorPhi', tau=1.5e+5))"
   ]
  },
  {
   "cell_type": "markdown",
   "metadata": {},
   "source": [
    "Теперь попробуем обучить модели в оффлайн-режиме (т.е. обновляя Фи раз за проход по коллекции). Инициируем пятнадцать проходов:"
   ]
  },
  {
   "cell_type": "code",
   "execution_count": 8,
   "metadata": {
    "collapsed": false
   },
   "outputs": [],
   "source": [
    "model_plsa.fit_offline(batch_vectorizer=batch_vectorizer, num_collection_passes=15, num_document_passes=1)\n",
    "model_artm.fit_offline(batch_vectorizer=batch_vectorizer, num_collection_passes=15, num_document_passes=1)"
   ]
  },
  {
   "cell_type": "markdown",
   "metadata": {},
   "source": [
    "Проверим результаты первой итерации обучения, сравнив финальные значения функционалов, а также графики перплексии (опишем печать в виде функции для возможности повторного использования):"
   ]
  },
  {
   "cell_type": "code",
   "execution_count": 9,
   "metadata": {
    "collapsed": false
   },
   "outputs": [
    {
     "name": "stdout",
     "output_type": "stream",
     "text": [
      "Sparsity Phi: 0.022 (PLSA) vs. 0.605 (ARTM)\n",
      "Sparsity Theta: 0.000 (PLSA) vs. 0.406 (ARTM)\n",
      "Kernel contrast: 0.523 (PLSA) vs. 0.550 (ARTM)\n",
      "Kernel purity: 0.378 (PLSA) vs. 0.452 (ARTM)\n",
      "Perplexity: 1510.214 (PLSA) vs. 1540.618 (ARTM)\n"
     ]
    },
    {
     "data": {
      "image/png": "[encoded data removed]",
      "text/plain": [
       "<matplotlib.figure.Figure at 0x11ad71d0>"
      ]
     },
     "metadata": {},
     "output_type": "display_data"
    }
   ],
   "source": [
    "def print_measures(model_plsa, model_artm):\n",
    "    print 'Sparsity Phi: {0:.3f} (PLSA) vs. {1:.3f} (ARTM)'.format(\n",
    "        model_plsa.score_tracker['SparsityPhiScore'].last_value,\n",
    "        model_artm.score_tracker['SparsityPhiScore'].last_value)\n",
    "\n",
    "    print 'Sparsity Theta: {0:.3f} (PLSA) vs. {1:.3f} (ARTM)'.format(\n",
    "        model_plsa.score_tracker['SparsityThetaScore'].last_value,\n",
    "        model_artm.score_tracker['SparsityThetaScore'].last_value)\n",
    "\n",
    "    print 'Kernel contrast: {0:.3f} (PLSA) vs. {1:.3f} (ARTM)'.format(\n",
    "        model_plsa.score_tracker['TopicKernelScore'].last_average_contrast,\n",
    "        model_artm.score_tracker['TopicKernelScore'].last_average_contrast)\n",
    "\n",
    "    print 'Kernel purity: {0:.3f} (PLSA) vs. {1:.3f} (ARTM)'.format(\n",
    "        model_plsa.score_tracker['TopicKernelScore'].last_average_purity,\n",
    "        model_artm.score_tracker['TopicKernelScore'].last_average_purity)\n",
    "\n",
    "    print 'Perplexity: {0:.3f} (PLSA) vs. {1:.3f} (ARTM)'.format(\n",
    "        model_plsa.score_tracker['PerplexityScore'].last_value,\n",
    "        model_artm.score_tracker['PerplexityScore'].last_value)\n",
    "\n",
    "    plt.plot(xrange(model_plsa.num_phi_updates), model_plsa.score_tracker['PerplexityScore'].value, 'b--',\n",
    "             xrange(model_artm.num_phi_updates), model_artm.score_tracker['PerplexityScore'].value, 'r--', linewidth=2)\n",
    "    plt.xlabel('Iterations count')\n",
    "    plt.ylabel('PLSA perp. (blue), ARTM perp. (red)')\n",
    "    plt.grid(True)\n",
    "    plt.show()\n",
    "    \n",
    "print_measures(model_plsa, model_artm)"
   ]
  },
  {
   "cell_type": "markdown",
   "metadata": {},
   "source": [
    "Видно, что улучшения разреженностей и ядровых характеристик есть, а ухудшение перплексии невелико. Попробуем увеличить по модулю значения коэффициентов регуляризации при регуляризаторах:"
   ]
  },
  {
   "cell_type": "code",
   "execution_count": 10,
   "metadata": {
    "collapsed": false
   },
   "outputs": [],
   "source": [
    "model_artm.regularizers['SparsePhi'].tau = -0.2\n",
    "model_artm.regularizers['SparseTheta'].tau = -0.2\n",
    "model_artm.regularizers['DecorrelatorPhi'].tau = 2.5e+5"
   ]
  },
  {
   "cell_type": "markdown",
   "metadata": {},
   "source": [
    "Кроме того, подключим к каждой из моделей функционал TopTokensScore, который позволит взглянуть на самые вероятные слова в каждой теме:"
   ]
  },
  {
   "cell_type": "code",
   "execution_count": 11,
   "metadata": {
    "collapsed": true
   },
   "outputs": [],
   "source": [
    "model_plsa.scores.add(artm.TopTokensScore(name='TopTokensScore', num_tokens=6))\n",
    "model_artm.scores.add(artm.TopTokensScore(name='TopTokensScore', num_tokens=6))"
   ]
  },
  {
   "cell_type": "markdown",
   "metadata": {},
   "source": [
    "Продолжим обучение моделей, инициировав 25 проходов по коллекции, после чего снова посмотрим на значения функционалов качества:"
   ]
  },
  {
   "cell_type": "code",
   "execution_count": 12,
   "metadata": {
    "collapsed": false
   },
   "outputs": [],
   "source": [
    "model_plsa.fit_offline(batch_vectorizer=batch_vectorizer, num_collection_passes=25, num_document_passes=1)\n",
    "model_artm.fit_offline(batch_vectorizer=batch_vectorizer, num_collection_passes=25, num_document_passes=1)"
   ]
  },
  {
   "cell_type": "code",
   "execution_count": 13,
   "metadata": {
    "collapsed": false
   },
   "outputs": [
    {
     "name": "stdout",
     "output_type": "stream",
     "text": [
      "Sparsity Phi: 0.332 (PLSA) vs. 0.740 (ARTM)\n",
      "Sparsity Theta: 0.082 (PLSA) vs. 0.602 (ARTM)\n",
      "Kernel contrast: 0.530 (PLSA) vs. 0.568 (ARTM)\n",
      "Kernel purity: 0.396 (PLSA) vs. 0.531 (ARTM)\n",
      "Perplexity: 1365.804 (PLSA) vs. 1475.455 (ARTM)\n"
     ]
    },
    {
     "data": {
      "image/png": "[encoded data removed]",
      "text/plain": [
       "<matplotlib.figure.Figure at 0x11df0908>"
      ]
     },
     "metadata": {},
     "output_type": "display_data"
    }
   ],
   "source": [
    "print_measures(model_plsa, model_artm)"
   ]
  },
  {
   "cell_type": "markdown",
   "metadata": {},
   "source": [
    "Кроме того, для наглядности построим графики изменения разреженностей матриц по итерациям:"
   ]
  },
  {
   "cell_type": "code",
   "execution_count": 14,
   "metadata": {
    "collapsed": false
   },
   "outputs": [
    {
     "data": {
      "image/png": "[encoded data removed]",
      "text/plain": [
       "<matplotlib.figure.Figure at 0x15a8cc88>"
      ]
     },
     "metadata": {},
     "output_type": "display_data"
    },
    {
     "data": {
      "image/png": "[encoded data removed]",
      "text/plain": [
       "<matplotlib.figure.Figure at 0x15d0d710>"
      ]
     },
     "metadata": {},
     "output_type": "display_data"
    }
   ],
   "source": [
    "plt.plot(xrange(model_plsa.num_phi_updates), model_plsa.score_tracker['SparsityPhiScore'].value, 'b--',\n",
    "                 xrange(model_artm.num_phi_updates), model_artm.score_tracker['SparsityPhiScore'].value, 'r--', linewidth=2)\n",
    "plt.xlabel('Iterations count')\n",
    "plt.ylabel('PLSA Phi sp. (blue), ARTM Phi sp. (red)')\n",
    "plt.grid(True)\n",
    "plt.show()\n",
    "\n",
    "plt.plot(xrange(model_plsa.num_phi_updates), model_plsa.score_tracker['SparsityThetaScore'].value, 'b--',\n",
    "                 xrange(model_artm.num_phi_updates), model_artm.score_tracker['SparsityThetaScore'].value, 'r--', linewidth=2)\n",
    "plt.xlabel('Iterations count')\n",
    "plt.ylabel('PLSA Theta sp. (blue), ARTM Theta sp. (red)')\n",
    "plt.grid(True)\n",
    "plt.show()"
   ]
  },
  {
   "cell_type": "markdown",
   "metadata": {
    "collapsed": false
   },
   "source": [
    "Кажется, что достигнутых результатов достаточно. Регуляризация позволила добиться улучшения всех характеристик, ухудшив перплексию в пределах разумного. Взглянем на топ-слова слова моделей:"
   ]
  },
  {
   "cell_type": "code",
   "execution_count": 15,
   "metadata": {
    "collapsed": false
   },
   "outputs": [
    {
     "name": "stdout",
     "output_type": "stream",
     "text": [
      "@topic_0:  [u'bush', u'tax', u'states', u'president', u'party', u'political']\n",
      "@topic_1:  [u'iraq', u'war', u'military', u'troops', u'soldiers', u'iraqi']\n",
      "@topic_2:  [u'november', u'poll', u'house', u'governor', u'electoral', u'account']\n",
      "@topic_3:  [u'senate', u'republican', u'race', u'democrats', u'gop', u'republicans']\n",
      "@topic_4:  [u'time', u'people', u'general', u'election', u'speech', u'specter']\n",
      "@topic_5:  [u'dean', u'kerry', u'edwards', u'primary', u'clark', u'democratic']\n",
      "@topic_6:  [u'state', u'race', u'district', u'elections', u'candidate', u'party']\n",
      "@topic_7:  [u'administration', u'bush', u'years', u'president', u'jobs', u'marriage']\n",
      "@topic_8:  [u'campaign', u'dean', u'democratic', u'party', u'media', u'people']\n",
      "@topic_9:  [u'house', u'million', u'republican', u'money', u'delay', u'committee']\n",
      "@topic_10:  [u'november', u'voting', u'vote', u'kerry', u'republicans', u'electoral']\n",
      "@topic_11:  [u'iraq', u'bush', u'war', u'administration', u'president', u'intelligence']\n",
      "@topic_12:  [u'bush', u'poll', u'kerry', u'percent', u'polls', u'voters']\n",
      "@topic_13:  [u'media', u'news', u'time', u'people', u'white', u'house']\n",
      "@topic_14:  [u'bush', u'kerry', u'general', u'president', u'bushs', u'campaign']\n"
     ]
    }
   ],
   "source": [
    "for topic_name in model_plsa.topic_names:\n",
    "    print topic_name + ': ',\n",
    "    print model_plsa.score_tracker['TopTokensScore'].last_topic_info[topic_name].tokens"
   ]
  },
  {
   "cell_type": "code",
   "execution_count": 16,
   "metadata": {
    "collapsed": false
   },
   "outputs": [
    {
     "name": "stdout",
     "output_type": "stream",
     "text": [
      "@topic_0:  [u'party', u'tax', u'political', u'law', u'court', u'issue']\n",
      "@topic_1:  [u'military', u'troops', u'soldiers', u'killed', u'army', u'service']\n",
      "@topic_2:  [u'labor', u'account', u'governor', u'profile', u'poll', u'parecommend']\n",
      "@topic_3:  [u'senate', u'republican', u'gop', u'senator', u'republicans', u'carson']\n",
      "@topic_4:  [u'specter', u'toomey', u'speech', u'signs', u'yesterday', u'workers']\n",
      "@topic_5:  [u'dean', u'edwards', u'clark', u'primary', u'kerry', u'democratic']\n",
      "@topic_6:  [u'race', u'state', u'candidate', u'candidates', u'nader', u'district']\n",
      "@topic_7:  [u'administration', u'years', u'jobs', u'commission', u'white', u'year']\n",
      "@topic_8:  [u'campaign', u'media', u'unions', u'union', u'press', u'endorsement']\n",
      "@topic_9:  [u'house', u'million', u'money', u'delay', u'republican', u'committee']\n",
      "@topic_10:  [u'november', u'vote', u'voting', u'electoral', u'account', u'voter']\n",
      "@topic_11:  [u'iraq', u'war', u'administration', u'iraqi', u'american', u'intelligence']\n",
      "@topic_12:  [u'bush', u'kerry', u'poll', u'general', u'president', u'bushs']\n",
      "@topic_13:  [u'time', u'people', u'media', u'john', u'news', u'political']\n",
      "@topic_14:  [u'percent', u'states', u'voters', u'ohio', u'election', u'voter']\n"
     ]
    }
   ],
   "source": [
    "for topic_name in model_artm.topic_names:\n",
    "    print topic_name + ': ',\n",
    "    print model_artm.score_tracker['TopTokensScore'].last_topic_info[topic_name].tokens"
   ]
  },
  {
   "cell_type": "markdown",
   "metadata": {
    "collapsed": false
   },
   "source": [
    "Видно, что темы примерно одинаково интерпретируемы, но в модели ARTM они существенно разнообразнее."
   ]
  },
  {
   "cell_type": "markdown",
   "metadata": {},
   "source": [
    "Извлечём матрицу $\\Phi$ в виде pandas.DataFrame и напечатаем её (в случае необходимости, можно извлекать части матрицы с помощью метода ARTM.get_phi()):"
   ]
  },
  {
   "cell_type": "code",
   "execution_count": 17,
   "metadata": {
    "collapsed": false
   },
   "outputs": [
    {
     "name": "stdout",
     "output_type": "stream",
     "text": [
      "                  @topic_0  @topic_1  @topic_2  @topic_3  @topic_4  @topic_5  \\\n",
      "parentheses       0.000000  0.000000  0.000000  0.000000  0.000000  0.000263   \n",
      "opinion           0.000000  0.000195  0.000000  0.000000  0.000000  0.000000   \n",
      "attitude          0.000000  0.000000  0.000000  0.000000  0.000000  0.000000   \n",
      "held              0.000507  0.000564  0.000000  0.000956  0.000000  0.000000   \n",
      "impeachment       0.000000  0.000093  0.000000  0.000000  0.000000  0.000000   \n",
      "platform          0.001412  0.000000  0.000000  0.000321  0.000000  0.000000   \n",
      "msnbc             0.000000  0.000000  0.000000  0.000437  0.000000  0.000366   \n",
      "assault           0.000000  0.000000  0.000000  0.000000  0.001766  0.000000   \n",
      "tools             0.000237  0.000000  0.000000  0.000000  0.000588  0.000000   \n",
      "vance             0.000000  0.000000  0.000000  0.000000  0.000000  0.000000   \n",
      "contingent        0.000000  0.000492  0.000000  0.000000  0.000000  0.000000   \n",
      "drove             0.000000  0.000298  0.000000  0.000000  0.000436  0.000000   \n",
      "stripped          0.000000  0.000181  0.000000  0.000000  0.000547  0.000000   \n",
      "air               0.000000  0.004112  0.000000  0.000000  0.001709  0.000000   \n",
      "baby              0.000000  0.000132  0.000084  0.000000  0.000000  0.000000   \n",
      "highlight         0.000239  0.000000  0.000000  0.000000  0.000107  0.000000   \n",
      "honored           0.000000  0.000000  0.000000  0.000187  0.000000  0.000000   \n",
      "kerry             0.000000  0.000000  0.000000  0.000000  0.000000  0.023695   \n",
      "nethercutt        0.000000  0.000000  0.000000  0.000000  0.000000  0.000000   \n",
      "kansas            0.000100  0.000123  0.000000  0.000081  0.000000  0.000000   \n",
      "annual            0.000000  0.000239  0.000000  0.000000  0.000000  0.000000   \n",
      "disaster          0.000000  0.000000  0.000000  0.000000  0.001113  0.000000   \n",
      "operatives        0.000000  0.000000  0.000000  0.000125  0.000000  0.000000   \n",
      "fluid             0.000134  0.000000  0.000000  0.000000  0.000000  0.000257   \n",
      "aug               0.000000  0.000544  0.000000  0.001351  0.001701  0.000000   \n",
      "monitoring        0.000000  0.000000  0.000000  0.000000  0.000290  0.000229   \n",
      "initially         0.000000  0.000254  0.000000  0.000000  0.000000  0.000000   \n",
      "kysen             0.000000  0.000000  0.000000  0.000533  0.000000  0.000000   \n",
      "action            0.001340  0.000000  0.000000  0.000000  0.000315  0.000333   \n",
      "wide              0.000000  0.000434  0.000000  0.000000  0.000673  0.000272   \n",
      "...                    ...       ...       ...       ...       ...       ...   \n",
      "drake             0.000000  0.000000  0.000000  0.000000  0.000000  0.000386   \n",
      "freeway           0.000000  0.000000  0.000035  0.000000  0.000000  0.000000   \n",
      "playbook          0.000000  0.000000  0.000000  0.000000  0.000000  0.000000   \n",
      "hoodies           0.000000  0.000000  0.003108  0.000000  0.000000  0.000000   \n",
      "vaantirepublican  0.000000  0.000000  0.003067  0.000000  0.000000  0.000000   \n",
      "suck              0.000000  0.000000  0.000000  0.000000  0.000000  0.000093   \n",
      "thirdplace        0.000000  0.000000  0.000000  0.000000  0.000000  0.000386   \n",
      "wink              0.000000  0.000000  0.000000  0.000000  0.001022  0.000000   \n",
      "inching           0.000000  0.000000  0.000000  0.000000  0.000000  0.000300   \n",
      "intangibles       0.000000  0.000000  0.000037  0.000315  0.000000  0.000000   \n",
      "sawyer            0.000000  0.000000  0.000000  0.000000  0.000000  0.000425   \n",
      "composite         0.000000  0.000000  0.000000  0.000000  0.000000  0.000000   \n",
      "geps              0.000000  0.000000  0.000000  0.000000  0.000000  0.000000   \n",
      "postiowa          0.000000  0.000000  0.000000  0.000000  0.000000  0.000000   \n",
      "brush             0.000000  0.000000  0.000000  0.000000  0.000000  0.000000   \n",
      "caucusgoers       0.000000  0.000000  0.000000  0.000000  0.000000  0.000000   \n",
      "countylevel       0.000000  0.000000  0.000000  0.000000  0.000000  0.000000   \n",
      "outreach          0.000000  0.000000  0.000000  0.000000  0.000000  0.000000   \n",
      "rncs              0.000057  0.000000  0.000000  0.000000  0.000000  0.000000   \n",
      "uaw               0.000000  0.000000  0.000000  0.000000  0.000000  0.000000   \n",
      "deanclark         0.000000  0.000000  0.000000  0.000000  0.000000  0.000386   \n",
      "samarra           0.000000  0.000000  0.000000  0.000000  0.000812  0.000000   \n",
      "postdebate        0.000000  0.000000  0.000000  0.000391  0.000000  0.000000   \n",
      "schwarz           0.000524  0.000000  0.000000  0.000000  0.000000  0.000000   \n",
      "asserted          0.000000  0.000000  0.000000  0.000000  0.000099  0.000000   \n",
      "aft               0.000000  0.000000  0.000000  0.000000  0.000000  0.000000   \n",
      "spindizzy         0.000000  0.000000  0.000963  0.000000  0.000000  0.000000   \n",
      "barnes            0.000000  0.000000  0.000000  0.000049  0.000000  0.000000   \n",
      "barbour           0.000000  0.000000  0.000000  0.000000  0.000000  0.000000   \n",
      "kroll             0.000000  0.000360  0.000000  0.000000  0.000000  0.000000   \n",
      "\n",
      "                  @topic_6  @topic_7  @topic_8  @topic_9  @topic_10  \\\n",
      "parentheses       0.000031  0.000000  0.000000  0.000000   0.000000   \n",
      "opinion           0.000276  0.000000  0.000666  0.000000   0.000000   \n",
      "attitude          0.000000  0.000000  0.000000  0.000367   0.000000   \n",
      "held              0.000000  0.000323  0.000000  0.002765   0.000000   \n",
      "impeachment       0.000000  0.000000  0.000099  0.000067   0.000052   \n",
      "platform          0.000000  0.000000  0.000000  0.000000   0.000000   \n",
      "msnbc             0.000000  0.000000  0.000000  0.000000   0.000035   \n",
      "assault           0.000000  0.000000  0.000104  0.000000   0.000000   \n",
      "tools             0.000000  0.000000  0.000229  0.000000   0.000000   \n",
      "vance             0.000000  0.000000  0.000000  0.000000   0.000000   \n",
      "contingent        0.000000  0.000116  0.000000  0.000000   0.000000   \n",
      "drove             0.000000  0.000000  0.000000  0.000000   0.000000   \n",
      "stripped          0.000000  0.000000  0.000000  0.000039   0.000000   \n",
      "air               0.000452  0.000353  0.000000  0.001432   0.000249   \n",
      "baby              0.000216  0.000050  0.000000  0.000000   0.000000   \n",
      "highlight         0.000000  0.000383  0.000385  0.000000   0.000000   \n",
      "honored           0.000000  0.000000  0.000000  0.000000   0.000000   \n",
      "kerry             0.000000  0.000000  0.000000  0.000000   0.007316   \n",
      "nethercutt        0.000077  0.000000  0.000000  0.000000   0.000000   \n",
      "kansas            0.000210  0.000000  0.000000  0.000000   0.000000   \n",
      "annual            0.000000  0.001588  0.000000  0.000000   0.000000   \n",
      "disaster          0.000048  0.000000  0.000117  0.000000   0.000000   \n",
      "operatives        0.000000  0.000000  0.000262  0.000000   0.000000   \n",
      "fluid             0.000000  0.000000  0.000000  0.000000   0.000000   \n",
      "aug               0.000175  0.000000  0.001064  0.001681   0.000000   \n",
      "monitoring        0.000000  0.000000  0.000000  0.000000   0.000000   \n",
      "initially         0.000000  0.000298  0.000188  0.000000   0.000000   \n",
      "kysen             0.000000  0.000000  0.000000  0.000000   0.000000   \n",
      "action            0.000000  0.000345  0.000473  0.001468   0.000000   \n",
      "wide              0.000250  0.000000  0.000000  0.000000   0.000000   \n",
      "...                    ...       ...       ...       ...        ...   \n",
      "drake             0.000000  0.000000  0.000000  0.000000   0.000000   \n",
      "freeway           0.000000  0.000000  0.000311  0.000000   0.000000   \n",
      "playbook          0.000000  0.000000  0.000000  0.000000   0.000000   \n",
      "hoodies           0.000000  0.000000  0.000000  0.000000   0.000000   \n",
      "vaantirepublican  0.000000  0.000000  0.000000  0.000000   0.000000   \n",
      "suck              0.000000  0.000000  0.000274  0.000000   0.000000   \n",
      "thirdplace        0.000000  0.000000  0.000000  0.000000   0.000000   \n",
      "wink              0.000000  0.000000  0.000000  0.000000   0.000000   \n",
      "inching           0.000000  0.000000  0.000039  0.000000   0.000000   \n",
      "intangibles       0.000000  0.000000  0.000000  0.000000   0.000000   \n",
      "sawyer            0.000000  0.000000  0.000000  0.000000   0.000000   \n",
      "composite         0.000024  0.000000  0.000000  0.000000   0.000000   \n",
      "geps              0.000139  0.000000  0.000422  0.000000   0.000000   \n",
      "postiowa          0.000000  0.000000  0.000554  0.000000   0.000000   \n",
      "brush             0.000000  0.000000  0.000000  0.000000   0.000000   \n",
      "caucusgoers       0.000641  0.000000  0.000000  0.000000   0.000000   \n",
      "countylevel       0.000104  0.000000  0.000000  0.000000   0.000000   \n",
      "outreach          0.000000  0.000000  0.000034  0.000000   0.000000   \n",
      "rncs              0.000000  0.000000  0.000000  0.000205   0.000000   \n",
      "uaw               0.000000  0.000000  0.000393  0.000000   0.000000   \n",
      "deanclark         0.000000  0.000000  0.000000  0.000000   0.000000   \n",
      "samarra           0.000000  0.000000  0.000000  0.000000   0.000000   \n",
      "postdebate        0.000000  0.000000  0.000000  0.000000   0.000000   \n",
      "schwarz           0.000000  0.000000  0.000000  0.000000   0.000000   \n",
      "asserted          0.000000  0.000000  0.000000  0.000000   0.000000   \n",
      "aft               0.000000  0.000000  0.000474  0.000000   0.000000   \n",
      "spindizzy         0.000000  0.000000  0.000000  0.000000   0.000000   \n",
      "barnes            0.000000  0.000000  0.000000  0.000165   0.000000   \n",
      "barbour           0.000000  0.000000  0.000000  0.000086   0.000000   \n",
      "kroll             0.000000  0.000000  0.000000  0.000000   0.000000   \n",
      "\n",
      "                  @topic_11  @topic_12  @topic_13  @topic_14  \n",
      "parentheses        0.000000   0.000000   0.000000   0.000000  \n",
      "opinion            0.000306   0.001405   0.000300   0.000513  \n",
      "attitude           0.000090   0.000107   0.000000   0.000000  \n",
      "held               0.000818   0.001044   0.000000   0.000000  \n",
      "impeachment        0.000000   0.000000   0.000000   0.000383  \n",
      "platform           0.000000   0.000000   0.000000   0.000000  \n",
      "msnbc              0.000121   0.000251   0.000102   0.000852  \n",
      "assault            0.000207   0.000000   0.000378   0.000000  \n",
      "tools              0.000000   0.000000   0.000418   0.000000  \n",
      "vance              0.000000   0.000000   0.000000   0.001014  \n",
      "contingent         0.000000   0.000000   0.000000   0.000000  \n",
      "drove              0.000000   0.000000   0.000000   0.000000  \n",
      "stripped           0.000000   0.000000   0.000000   0.000000  \n",
      "air                0.000007   0.000555   0.001283   0.000726  \n",
      "baby               0.000057   0.000000   0.000712   0.000000  \n",
      "highlight          0.000000   0.000000   0.000027   0.000000  \n",
      "honored            0.000000   0.000000   0.000209   0.000081  \n",
      "kerry              0.000000   0.056427   0.000000   0.000371  \n",
      "nethercutt         0.000000   0.000182   0.000000   0.000000  \n",
      "kansas             0.000000   0.000059   0.000000   0.000669  \n",
      "annual             0.000000   0.000000   0.000290   0.000000  \n",
      "disaster           0.000656   0.000000   0.000043   0.000421  \n",
      "operatives         0.000457   0.000000   0.000422   0.000000  \n",
      "fluid              0.000000   0.000000   0.000000   0.000000  \n",
      "aug                0.000024   0.002828   0.000000   0.000326  \n",
      "monitoring         0.000054   0.000000   0.000000   0.000000  \n",
      "initially          0.000166   0.000155   0.000235   0.000000  \n",
      "kysen              0.000000   0.000000   0.000332   0.000000  \n",
      "action             0.000708   0.000000   0.000000   0.000864  \n",
      "wide               0.000000   0.000043   0.000000   0.000196  \n",
      "...                     ...        ...        ...        ...  \n",
      "drake              0.000000   0.000000   0.000000   0.000000  \n",
      "freeway            0.000000   0.000000   0.000000   0.000000  \n",
      "playbook           0.000000   0.000250   0.000000   0.000000  \n",
      "hoodies            0.000000   0.000000   0.000000   0.000000  \n",
      "vaantirepublican   0.000000   0.000000   0.000000   0.000000  \n",
      "suck               0.000025   0.000000   0.000000   0.000000  \n",
      "thirdplace         0.000000   0.000000   0.000000   0.000000  \n",
      "wink               0.000000   0.000000   0.000042   0.000000  \n",
      "inching            0.000000   0.000000   0.000000   0.000000  \n",
      "intangibles        0.000000   0.000000   0.000000   0.000000  \n",
      "sawyer             0.000000   0.000000   0.000000   0.000000  \n",
      "composite          0.000000   0.000193   0.000000   0.000000  \n",
      "geps               0.000000   0.000000   0.000000   0.000000  \n",
      "postiowa           0.000000   0.000000   0.000000   0.000000  \n",
      "brush              0.000000   0.000000   0.000305   0.000126  \n",
      "caucusgoers        0.000000   0.000000   0.000000   0.000000  \n",
      "countylevel        0.000000   0.000000   0.000366   0.000000  \n",
      "outreach           0.000000   0.000000   0.000000   0.000833  \n",
      "rncs               0.000000   0.000000   0.000000   0.000036  \n",
      "uaw                0.000000   0.000000   0.000000   0.000000  \n",
      "deanclark          0.000000   0.000000   0.000000   0.000000  \n",
      "samarra            0.000000   0.000000   0.000000   0.000000  \n",
      "postdebate         0.000000   0.000000   0.000000   0.000665  \n",
      "schwarz            0.000000   0.000000   0.000000   0.000000  \n",
      "asserted           0.000000   0.000154   0.000000   0.000000  \n",
      "aft                0.000000   0.000000   0.000000   0.000000  \n",
      "spindizzy          0.000000   0.000000   0.000000   0.000000  \n",
      "barnes             0.000000   0.000282   0.000000   0.000000  \n",
      "barbour            0.000000   0.000000   0.000000   0.000449  \n",
      "kroll              0.000000   0.000000   0.000000   0.000000  \n",
      "\n",
      "[6906 rows x 15 columns]\n"
     ]
    }
   ],
   "source": [
    "print model_artm.phi_"
   ]
  },
  {
   "cell_type": "markdown",
   "metadata": {},
   "source": [
    "Модель можно сохранить с возможностью последующей загрузки:"
   ]
  },
  {
   "cell_type": "code",
   "execution_count": 18,
   "metadata": {
    "collapsed": false
   },
   "outputs": [],
   "source": [
    "model_artm.save(filename='kos_artm_model')  # save the model to disk\n",
    "\n",
    "# model = artm.ARTM(...)                    # create new model\n",
    "# model.load(filename='kos_artm_model')     # load saved model into new instance"
   ]
  },
  {
   "cell_type": "markdown",
   "metadata": {},
   "source": [
    "Дополнительно извлечём $\\Theta$ в виде pandas.DataFrame и напечатаем её:"
   ]
  },
  {
   "cell_type": "code",
   "execution_count": 19,
   "metadata": {
    "collapsed": false,
    "scrolled": true
   },
   "outputs": [
    {
     "name": "stdout",
     "output_type": "stream",
     "text": [
      "               3001      3002      3003      3004      3005      3006  \\\n",
      "@topic_0   0.149160  0.000000  0.150155  0.252518  0.000000  0.000000   \n",
      "@topic_1   0.046721  0.000000  0.000000  0.000000  0.000000  0.000000   \n",
      "@topic_2   0.000000  0.030433  0.000000  0.000000  0.000000  0.396098   \n",
      "@topic_3   0.000000  0.000000  0.000000  0.174715  0.000000  0.000000   \n",
      "@topic_4   0.189357  0.060788  0.000000  0.021681  0.000000  0.006275   \n",
      "@topic_5   0.000000  0.000000  0.000000  0.000000  0.074082  0.000000   \n",
      "@topic_6   0.000000  0.000000  0.000000  0.000000  0.000000  0.000000   \n",
      "@topic_7   0.000000  0.000000  0.000000  0.000000  0.000000  0.000000   \n",
      "@topic_8   0.000000  0.000000  0.000000  0.095281  0.000000  0.000000   \n",
      "@topic_9   0.096627  0.891146  0.000000  0.309283  0.511678  0.000000   \n",
      "@topic_10  0.000000  0.000000  0.197410  0.021904  0.019313  0.533242   \n",
      "@topic_11  0.299275  0.000000  0.097493  0.000000  0.082025  0.000000   \n",
      "@topic_12  0.087005  0.017634  0.526311  0.124619  0.177634  0.064385   \n",
      "@topic_13  0.000000  0.000000  0.000000  0.000000  0.102961  0.000000   \n",
      "@topic_14  0.131854  0.000000  0.028632  0.000000  0.032306  0.000000   \n",
      "\n",
      "               3007      3008      3009      3010    ...         991   \\\n",
      "@topic_0   0.228175  0.000000  0.025434  0.000000    ...     0.081687   \n",
      "@topic_1   0.000000  0.000000  0.000000  0.000000    ...     0.103116   \n",
      "@topic_2   0.000000  0.000000  0.000000  0.000000    ...     0.171048   \n",
      "@topic_3   0.243696  0.130142  0.138539  0.115273    ...     0.000000   \n",
      "@topic_4   0.000000  0.000000  0.000000  0.000000    ...     0.047905   \n",
      "@topic_5   0.000000  0.000000  0.000000  0.004680    ...     0.000000   \n",
      "@topic_6   0.417285  0.551633  0.371912  0.057705    ...     0.000000   \n",
      "@topic_7   0.000000  0.000000  0.000000  0.000000    ...     0.000000   \n",
      "@topic_8   0.000000  0.000000  0.000000  0.000000    ...     0.000000   \n",
      "@topic_9   0.031781  0.318225  0.464115  0.757677    ...     0.000000   \n",
      "@topic_10  0.011804  0.000000  0.000000  0.000000    ...     0.137135   \n",
      "@topic_11  0.033892  0.000000  0.000000  0.000000    ...     0.459108   \n",
      "@topic_12  0.000000  0.000000  0.000000  0.000000    ...     0.000000   \n",
      "@topic_13  0.000000  0.000000  0.000000  0.000000    ...     0.000000   \n",
      "@topic_14  0.033366  0.000000  0.000000  0.064665    ...     0.000000   \n",
      "\n",
      "               992       993       994       995       996       997   \\\n",
      "@topic_0   0.000000  0.000000  0.000000  0.196581  0.000000  0.119684   \n",
      "@topic_1   0.246243  0.299007  0.143183  0.000000  0.000000  0.273718   \n",
      "@topic_2   0.000000  0.000000  0.000000  0.000000  0.000000  0.000000   \n",
      "@topic_3   0.013436  0.000000  0.008362  0.000000  0.000000  0.000000   \n",
      "@topic_4   0.000000  0.000000  0.058636  0.000000  0.000000  0.000000   \n",
      "@topic_5   0.000000  0.000000  0.000000  0.000000  0.000000  0.000000   \n",
      "@topic_6   0.000000  0.036193  0.000000  0.200861  0.035211  0.000000   \n",
      "@topic_7   0.000000  0.000000  0.032474  0.000000  0.000000  0.000000   \n",
      "@topic_8   0.346315  0.000000  0.000000  0.000000  0.000000  0.183697   \n",
      "@topic_9   0.000000  0.000000  0.082099  0.078490  0.000000  0.000000   \n",
      "@topic_10  0.000000  0.000000  0.000000  0.000000  0.000000  0.000000   \n",
      "@topic_11  0.394006  0.664800  0.614720  0.000000  0.126477  0.000000   \n",
      "@topic_12  0.000000  0.000000  0.058070  0.312296  0.622209  0.114917   \n",
      "@topic_13  0.000000  0.000000  0.002456  0.000000  0.000000  0.307984   \n",
      "@topic_14  0.000000  0.000000  0.000000  0.211772  0.216103  0.000000   \n",
      "\n",
      "               998       999       1000  \n",
      "@topic_0   0.072380  0.068412  0.000000  \n",
      "@topic_1   0.207176  0.000000  0.237835  \n",
      "@topic_2   0.000000  0.000000  0.000000  \n",
      "@topic_3   0.000000  0.129536  0.151994  \n",
      "@topic_4   0.073053  0.000000  0.167501  \n",
      "@topic_5   0.000000  0.006050  0.000000  \n",
      "@topic_6   0.000000  0.006717  0.000000  \n",
      "@topic_7   0.000000  0.000000  0.000000  \n",
      "@topic_8   0.000000  0.000000  0.000000  \n",
      "@topic_9   0.000000  0.000000  0.000000  \n",
      "@topic_10  0.000000  0.000000  0.000000  \n",
      "@topic_11  0.357860  0.442451  0.398867  \n",
      "@topic_12  0.000000  0.090300  0.043802  \n",
      "@topic_13  0.270022  0.186359  0.000000  \n",
      "@topic_14  0.019508  0.070175  0.000000  \n",
      "\n",
      "[15 rows x 3430 columns]\n"
     ]
    }
   ],
   "source": [
    "theta_matrix = model_artm.get_theta()\n",
    "print theta_matrix"
   ]
  },
  {
   "cell_type": "markdown",
   "metadata": {},
   "source": [
    "Можно использовать модель для определения векторов $\\theta_d$ для новых документов с помощью метода ARTM.transform():"
   ]
  },
  {
   "cell_type": "code",
   "execution_count": 20,
   "metadata": {
    "collapsed": false,
    "scrolled": true
   },
   "outputs": [
    {
     "name": "stdout",
     "output_type": "stream",
     "text": [
      "               3001      3002      3003      3004      3005      3006  \\\n",
      "@topic_0   0.092077  0.050818  0.084897  0.114233  0.061966  0.013050   \n",
      "@topic_1   0.078788  0.041598  0.023934  0.032694  0.042842  0.020406   \n",
      "@topic_2   0.010034  0.044192  0.008772  0.026419  0.034871  0.299943   \n",
      "@topic_3   0.052749  0.038737  0.055532  0.097965  0.059958  0.029762   \n",
      "@topic_4   0.108209  0.062986  0.059220  0.055369  0.035914  0.013751   \n",
      "@topic_5   0.025994  0.027075  0.052880  0.052584  0.058494  0.020981   \n",
      "@topic_6   0.061141  0.045612  0.092073  0.069689  0.064345  0.026496   \n",
      "@topic_7   0.060515  0.073156  0.026154  0.044907  0.032586  0.012039   \n",
      "@topic_8   0.045676  0.034955  0.048501  0.086160  0.038365  0.015745   \n",
      "@topic_9   0.075968  0.384194  0.026750  0.143385  0.192588  0.034475   \n",
      "@topic_10  0.023734  0.025652  0.124944  0.043846  0.049491  0.386979   \n",
      "@topic_11  0.150981  0.050450  0.078720  0.057249  0.082072  0.011735   \n",
      "@topic_12  0.075074  0.050304  0.189289  0.093936  0.122469  0.058684   \n",
      "@topic_13  0.054674  0.041509  0.036673  0.046176  0.093140  0.030204   \n",
      "@topic_14  0.084385  0.028760  0.091663  0.035388  0.030899  0.025750   \n",
      "\n",
      "               3007      3008      3009      3010    ...         3421  \\\n",
      "@topic_0   0.136519  0.038786  0.070626  0.053855    ...     0.052792   \n",
      "@topic_1   0.032484  0.023897  0.030131  0.050991    ...     0.192174   \n",
      "@topic_2   0.013744  0.002451  0.023664  0.014616    ...     0.016512   \n",
      "@topic_3   0.151169  0.113954  0.112532  0.078067    ...     0.119489   \n",
      "@topic_4   0.031826  0.046677  0.034766  0.049419    ...     0.046609   \n",
      "@topic_5   0.035153  0.074134  0.062645  0.052652    ...     0.027038   \n",
      "@topic_6   0.208081  0.302765  0.166173  0.071844    ...     0.051487   \n",
      "@topic_7   0.037433  0.022187  0.041899  0.071996    ...     0.034184   \n",
      "@topic_8   0.024622  0.027619  0.038325  0.064963    ...     0.080806   \n",
      "@topic_9   0.087800  0.202656  0.226615  0.257647    ...     0.078760   \n",
      "@topic_10  0.031745  0.021554  0.031824  0.019066    ...     0.016491   \n",
      "@topic_11  0.045503  0.019317  0.033517  0.049464    ...     0.113502   \n",
      "@topic_12  0.052498  0.052072  0.051410  0.050479    ...     0.074285   \n",
      "@topic_13  0.040066  0.035936  0.031412  0.052494    ...     0.054528   \n",
      "@topic_14  0.071357  0.015994  0.044462  0.062446    ...     0.041342   \n",
      "\n",
      "               3422      3423      3424      3425      3426      3427  \\\n",
      "@topic_0   0.029170  0.056032  0.028256  0.036248  0.032341  0.064856   \n",
      "@topic_1   0.044666  0.083400  0.057589  0.029877  0.008204  0.016153   \n",
      "@topic_2   0.172017  0.040200  0.042487  0.005092  0.038907  0.001478   \n",
      "@topic_3   0.032527  0.092571  0.096409  0.084872  0.056622  0.049289   \n",
      "@topic_4   0.062069  0.037252  0.088180  0.075508  0.061173  0.076957   \n",
      "@topic_5   0.023258  0.039355  0.024414  0.038242  0.074830  0.046275   \n",
      "@topic_6   0.028504  0.037588  0.073046  0.062312  0.050511  0.069900   \n",
      "@topic_7   0.025747  0.064208  0.028178  0.073603  0.056328  0.072659   \n",
      "@topic_8   0.018016  0.070897  0.093718  0.057787  0.042548  0.071027   \n",
      "@topic_9   0.023173  0.085345  0.079756  0.052225  0.025085  0.036902   \n",
      "@topic_10  0.374083  0.015476  0.032296  0.006288  0.061608  0.048519   \n",
      "@topic_11  0.032605  0.084953  0.039544  0.083531  0.039662  0.033407   \n",
      "@topic_12  0.077935  0.104307  0.128914  0.244082  0.318397  0.231250   \n",
      "@topic_13  0.015652  0.131863  0.148285  0.100520  0.035708  0.043520   \n",
      "@topic_14  0.040579  0.056553  0.038928  0.049812  0.098076  0.137807   \n",
      "\n",
      "               3428      3429      3430  \n",
      "@topic_0   0.222571  0.187464  0.084282  \n",
      "@topic_1   0.048946  0.032990  0.071497  \n",
      "@topic_2   0.020068  0.004954  0.007181  \n",
      "@topic_3   0.051706  0.202483  0.146692  \n",
      "@topic_4   0.059510  0.022406  0.046612  \n",
      "@topic_5   0.034204  0.047544  0.041468  \n",
      "@topic_6   0.024069  0.088375  0.068946  \n",
      "@topic_7   0.065471  0.040225  0.053596  \n",
      "@topic_8   0.048967  0.035358  0.074452  \n",
      "@topic_9   0.086598  0.053303  0.036395  \n",
      "@topic_10  0.020945  0.009942  0.008137  \n",
      "@topic_11  0.073204  0.064949  0.137218  \n",
      "@topic_12  0.083995  0.110052  0.135550  \n",
      "@topic_13  0.102895  0.058131  0.052457  \n",
      "@topic_14  0.056851  0.041824  0.035517  \n",
      "\n",
      "[15 rows x 430 columns]\n"
     ]
    }
   ],
   "source": [
    "test_batch_vectorizer = artm.BatchVectorizer(data_format='batches', data_path='kos_test', batches=['test_docs.batch'])\n",
    "test_theta_matrix = model_artm.transform(batch_vectorizer=test_batch_vectorizer)\n",
    "print test_theta_matrix"
   ]
  },
  {
   "cell_type": "markdown",
   "metadata": {},
   "source": [
    "#### Выводы\n",
    "\n",
    "Задача построения тематической модели имеет бесконечно большое множество решений. Это даёт большую свободу действий, и регуляризаторы позволяют использовать её для получения результата, удовлетворяющего сразу нескольким требованиям (разреженность, интерпретируемость, удовлетворительное значение перплексии и т.п.).\n",
    "\n",
    "Приведённый выше пример является демонстрационным, можно пробовать более гибкие стратегии регуляризации для получения ещё более хорошего результата. По аналогичной схеме можно производить эксперименты с более крупными коллекциями."
   ]
  }
 ],
 "metadata": {
  "kernelspec": {
   "display_name": "Python 2",
   "language": "python",
   "name": "python2"
  },
  "language_info": {
   "codemirror_mode": {
    "name": "ipython",
    "version": 2
   },
   "file_extension": ".py",
   "mimetype": "text/x-python",
   "name": "python",
   "nbconvert_exporter": "python",
   "pygments_lexer": "ipython2",
   "version": "2.7.11"
  }
 },
 "nbformat": 4,
 "nbformat_minor": 0
}
