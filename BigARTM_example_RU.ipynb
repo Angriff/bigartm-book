{
 "cells": [
  {
   "cell_type": "markdown",
   "metadata": {},
   "source": [
    "# Новый Python интерфейс BigARTM."
   ]
  },
  {
   "cell_type": "markdown",
   "metadata": {},
   "source": [
    "## Пример №1"
   ]
  },
  {
   "cell_type": "markdown",
   "metadata": {},
   "source": [
    "Здесь приводится простой пример использования нового пользовательского интерфейса на Python библиотеки BigARTM. Мы будем обучать тематическую модель маленькой коллекции 'kos'.\n",
    "Для начала подключим все необходимые модули (убедитесь, что путь к Python API BigARTM находится в вашей переменной PATH):"
   ]
  },
  {
   "cell_type": "code",
   "execution_count": 1,
   "metadata": {
    "collapsed": false
   },
   "outputs": [],
   "source": [
    "%matplotlib inline\n",
    "import glob\n",
    "import matplotlib.pyplot as plt\n",
    "\n",
    "import artm"
   ]
  },
  {
   "cell_type": "markdown",
   "metadata": {
    "collapsed": false
   },
   "source": [
    "Первым делом создадим тематическую модель. Новый интерфейс позволяет сделать это в одну строчку:"
   ]
  },
  {
   "cell_type": "code",
   "execution_count": 2,
   "metadata": {
    "collapsed": false
   },
   "outputs": [],
   "source": [
    "model = artm.ARTM(num_topics=15,\n",
    "                  num_document_passes=10,\n",
    "                  scores=[artm.PerplexityScore(name='PerplexityScore')],\n",
    "                  regularizers=[artm.SmoothSparseThetaRegularizer(name='SparseTheta', tau=-2.0)])"
   ]
  },
  {
   "cell_type": "markdown",
   "metadata": {},
   "source": [
    "ARTM — это объект, содержащий в себе всю информацию о текущем состоянии тематической модели. Регуляризаторы и функционалы можно добавлять прямо в конструкторе, что и было сделано.\n",
    "\n",
    "Создадим объект BatchVectorizer, представляющий собой входные данные библиотеки. При наличии батчей он создаётся на их основе, иначе производится парсинг из файлов 'docword' и 'vocab' в формате UCI:"
   ]
  },
  {
   "cell_type": "code",
   "execution_count": 3,
   "metadata": {
    "collapsed": false
   },
   "outputs": [],
   "source": [
    "batch_vectorizer = None\n",
    "if len(glob.glob('kos' + \"/*.batch\")) < 1:\n",
    "    batch_vectorizer = artm.BatchVectorizer(data_path='', data_format='bow_uci', collection_name='kos', target_folder='kos')\n",
    "else:\n",
    "    batch_vectorizer = artm.BatchVectorizer(data_path='kos', data_format='batches')"
   ]
  },
  {
   "cell_type": "markdown",
   "metadata": {},
   "source": [
    "Следующий шаг — инициализация модели. Сделаем это по словарю, что означает, что\n",
    "- будет создана матрица Фи с именем 'pwt', число строк и столбцов в ней будет взято исходя из числа слов в словаре и заданного в модели числа тем;\n",
    "- эа матрица будет заполнена случайными значениями из диапазона (0, 1) и нормализована.\n",
    "\n",
    "Надо отметить, что этот шаг является опциональным, поскольку модель может быть автоматически инициализирована во время вызовов fit_offline() / fit_online()."
   ]
  },
  {
   "cell_type": "code",
   "execution_count": 4,
   "metadata": {
    "collapsed": false
   },
   "outputs": [],
   "source": [
    "model.load_dictionary(dictionary_name='dictionary', dictionary_path='kos/dictionary')\n",
    "model.initialize(dictionary_name='dictionary')"
   ]
  },
  {
   "cell_type": "markdown",
   "metadata": {},
   "source": [
    "ARTM предоставляет возможность использовать все функционалы качества, имеющиеся в BigARTM. Если функционал подключен к модели, то модель будет сохранять все его значения, полученные на момент каждого обновления матрицы Фи. Функционалы и регуляризаторы можно добавлять отдельно, не только в конструкторе.\n",
    "\n",
    "Для контроля за качеством получаемой модели введём ещё две метрики:"
   ]
  },
  {
   "cell_type": "code",
   "execution_count": 5,
   "metadata": {
    "collapsed": false
   },
   "outputs": [],
   "source": [
    "model.scores.add(artm.SparsityPhiScore(name='SparsityPhiScore'))\n",
    "model.scores.add(artm.SparsityThetaScore(name='SparsityThetaScore'))"
   ]
  },
  {
   "cell_type": "markdown",
   "metadata": {},
   "source": [
    "Также полезно добавить базовые регуляризаторов, повышающих разреженность и различность тем (зададим им стартовые коэффициенты регуляризации, которые можно будет позже изменить)"
   ]
  },
  {
   "cell_type": "code",
   "execution_count": 6,
   "metadata": {
    "collapsed": false
   },
   "outputs": [],
   "source": [
    "model.regularizers.add(artm.SmoothSparsePhiRegularizer(name='SparsePhi', tau=-0.1))\n",
    "model.regularizers.add(artm.DecorrelatorPhiRegularizer(name='DecorrelatorPhi', tau=100000.0))"
   ]
  },
  {
   "cell_type": "markdown",
   "metadata": {},
   "source": [
    "Теперь попробуем обучить модель в оффлайн-режиме (т.е. обновляя Фи раз за проход по коллекции). Инициируем пять проходов:"
   ]
  },
  {
   "cell_type": "code",
   "execution_count": 7,
   "metadata": {
    "collapsed": false
   },
   "outputs": [],
   "source": [
    "model.fit_offline(batch_vectorizer=batch_vectorizer, num_collection_passes=5)"
   ]
  },
  {
   "cell_type": "markdown",
   "metadata": {},
   "source": [
    "Проверим результаты первой итерации обучения:"
   ]
  },
  {
   "cell_type": "code",
   "execution_count": 8,
   "metadata": {
    "collapsed": false
   },
   "outputs": [
    {
     "name": "stdout",
     "output_type": "stream",
     "text": [
      "Sparsity Phi:0.420696978473\n",
      "Sparsity Theta:0.703848396501\n"
     ]
    }
   ],
   "source": [
    "print 'Sparsity Phi:' + str(model.score_tracker['SparsityPhiScore'].last_value)\n",
    "print 'Sparsity Theta:' + str(model.score_tracker['SparsityThetaScore'].last_value)"
   ]
  },
  {
   "cell_type": "markdown",
   "metadata": {},
   "source": [
    "Видно, что разреженности матриц пока ещё слишком невелики. Попробуем увеличить по модулю значения коэффициентов регуляризации при разреживающих регуляризаторах:"
   ]
  },
  {
   "cell_type": "code",
   "execution_count": 9,
   "metadata": {
    "collapsed": false
   },
   "outputs": [],
   "source": [
    "model.regularizers['SparsePhi'].tau = -0.4\n",
    "model.regularizers['SparseTheta'].tau = -3.0"
   ]
  },
  {
   "cell_type": "markdown",
   "metadata": {},
   "source": [
    "Также полезно добавить функционал 'TopTokensScore'. Он позволит нам увидеть самые вероятные слова в каждой полученной теме"
   ]
  },
  {
   "cell_type": "code",
   "execution_count": 10,
   "metadata": {
    "collapsed": false
   },
   "outputs": [],
   "source": [
    "model.scores.add(artm.TopTokensScore(name='TopTokensScore', num_tokens=5))"
   ]
  },
  {
   "cell_type": "markdown",
   "metadata": {},
   "source": [
    "Продолжим обучение модели, инициировав 15 проходов по коллекции:"
   ]
  },
  {
   "cell_type": "code",
   "execution_count": 11,
   "metadata": {
    "collapsed": false
   },
   "outputs": [],
   "source": [
    "model.fit_offline(batch_vectorizer=batch_vectorizer, num_collection_passes=15)"
   ]
  },
  {
   "cell_type": "code",
   "execution_count": 12,
   "metadata": {
    "collapsed": false
   },
   "outputs": [
    {
     "name": "stdout",
     "output_type": "stream",
     "text": [
      "Sparsity Phi:0.627425427165\n",
      "Sparsity Theta:0.797329446064\n"
     ]
    }
   ],
   "source": [
    "print 'Sparsity Phi:' + str(model.score_tracker['SparsityPhiScore'].last_value)\n",
    "print 'Sparsity Theta:' + str(model.score_tracker['SparsityThetaScore'].last_value)"
   ]
  },
  {
   "cell_type": "markdown",
   "metadata": {},
   "source": [
    "Разреженность всё ещё неудовлетворительная. Попробуем ещё усилить разреживание и продолжить обучение:"
   ]
  },
  {
   "cell_type": "code",
   "execution_count": 13,
   "metadata": {
    "collapsed": false
   },
   "outputs": [],
   "source": [
    "model.regularizers['SparsePhi'].tau = -1.5\n",
    "model.regularizers['SparseTheta'].tau = -5.0\n",
    "model.fit_offline(batch_vectorizer=batch_vectorizer, num_collection_passes=15)"
   ]
  },
  {
   "cell_type": "markdown",
   "metadata": {},
   "source": [
    "Нарисуем графики перплексии и разреженностей:"
   ]
  },
  {
   "cell_type": "code",
   "execution_count": 14,
   "metadata": {
    "collapsed": false
   },
   "outputs": [
    {
     "data": {
      "image/png": "[encoded data removed]",
      "text/plain": [
       "<matplotlib.figure.Figure at 0x9870250>"
      ]
     },
     "metadata": {},
     "output_type": "display_data"
    }
   ],
   "source": [
    "plt.plot(xrange(model.num_phi_updates), model.score_tracker['PerplexityScore'].value, 'r--', linewidth=2)\n",
    "plt.xlabel('Iterations count')\n",
    "plt.ylabel('Perplexity')\n",
    "plt.grid(True)\n",
    "plt.show()"
   ]
  },
  {
   "cell_type": "code",
   "execution_count": 15,
   "metadata": {
    "collapsed": false
   },
   "outputs": [
    {
     "data": {
      "image/png": "[encoded data removed]",
      "text/plain": [
       "<matplotlib.figure.Figure at 0x9a210b0>"
      ]
     },
     "metadata": {},
     "output_type": "display_data"
    }
   ],
   "source": [
    "plt.plot(xrange(model.num_phi_updates), model.score_tracker['SparsityPhiScore'].value, 'b--',\n",
    "         xrange(model.num_phi_updates), model.score_tracker['SparsityThetaScore'].value, 'r--', linewidth=2)\n",
    "plt.xlabel('Iterations count')\n",
    "plt.ylabel('Phi sparsity, Theta sparsity')\n",
    "plt.grid(True)\n",
    "plt.show()"
   ]
  },
  {
   "cell_type": "markdown",
   "metadata": {},
   "source": [
    "Для столь маленькой коллекции разреженность достаточная. Напечатаем топовые слова в каждой теме:"
   ]
  },
  {
   "cell_type": "code",
   "execution_count": 16,
   "metadata": {
    "collapsed": false
   },
   "outputs": [
    {
     "name": "stdout",
     "output_type": "stream",
     "text": [
      "@topic_0:  [u'bush', u'rights', u'law', u'states', u'court']\n",
      "@topic_1:  [u'iraq', u'iraqi', u'war', u'military', u'troops']\n",
      "@topic_2:  [u'november', u'poll', u'electoral', u'governor', u'account']\n",
      "@topic_3:  [u'senate', u'republican', u'carson', u'debate', u'coburn']\n",
      "@topic_4:  [u'specter', u'toomey', u'hoeffel', u'workers', u'sessions']\n",
      "@topic_5:  [u'dean', u'edwards', u'kerry', u'clark', u'primary']\n",
      "@topic_6:  [u'state', u'race', u'senate', u'nader', u'candidate']\n",
      "@topic_7:  [u'jobs', u'administration', u'years', u'billion', u'bush']\n",
      "@topic_8:  [u'campaign', u'party', u'dean', u'democratic', u'unions']\n",
      "@topic_9:  [u'house', u'republican', u'million', u'democrats', u'money']\n",
      "@topic_10:  [u'november', u'voting', u'vote', u'account', u'electoral']\n",
      "@topic_11:  [u'bush', u'iraq', u'war', u'administration', u'president']\n",
      "@topic_12:  [u'bush', u'kerry', u'poll', u'percent', u'voters']\n",
      "@topic_13:  [u'media', u'time', u'news', u'people', u'house']\n",
      "@topic_14:  [u'bush', u'kerry', u'guard', u'general', u'voters']\n"
     ]
    }
   ],
   "source": [
    "for topic_name in model.topic_names:\n",
    "    print topic_name + ': ',\n",
    "    print model.score_tracker['TopTokensScore'].last_topic_info[topic_name].tokens"
   ]
  },
  {
   "cell_type": "markdown",
   "metadata": {},
   "source": [
    "Извлечём матрицу Фи в виде pandas.DataFrame и напечатаем её (в случае необходимости, можно извлекать части матрицы с помощью метода ARTM.get_phi()):"
   ]
  },
  {
   "cell_type": "code",
   "execution_count": 17,
   "metadata": {
    "collapsed": false
   },
   "outputs": [
    {
     "name": "stdout",
     "output_type": "stream",
     "text": [
      "            @topic_0  @topic_1  @topic_2  @topic_3  @topic_4  @topic_5  \\\n",
      "aarp        0.000000  0.000000  0.000000  0.000000  0.000000  0.000000   \n",
      "abandon     0.000493  0.000000  0.000000  0.000153  0.000000  0.000000   \n",
      "abandoned   0.000000  0.000203  0.000000  0.000000  0.000000  0.000000   \n",
      "abandoning  0.000024  0.000000  0.000000  0.000000  0.000000  0.000094   \n",
      "abb         0.000456  0.000000  0.000000  0.000000  0.000000  0.000000   \n",
      "abc         0.000000  0.000000  0.000000  0.000000  0.000000  0.000000   \n",
      "abcs        0.000000  0.000000  0.000000  0.000000  0.000000  0.000000   \n",
      "abdullah    0.000000  0.000000  0.000000  0.000000  0.000000  0.000000   \n",
      "ability     0.000441  0.000000  0.000000  0.000000  0.000000  0.000203   \n",
      "aboard      0.000000  0.000000  0.000000  0.000000  0.000000  0.000000   \n",
      "abortion    0.002729  0.000000  0.000000  0.000251  0.000000  0.000000   \n",
      "abortions   0.000425  0.000000  0.000000  0.000000  0.000000  0.000000   \n",
      "abraham     0.000000  0.000000  0.000000  0.000000  0.000000  0.000000   \n",
      "abrams      0.000000  0.000000  0.000000  0.000000  0.000000  0.000000   \n",
      "abroad      0.000000  0.000000  0.000000  0.000064  0.000000  0.000000   \n",
      "absence     0.000000  0.000000  0.000000  0.000223  0.000000  0.000021   \n",
      "absent      0.000000  0.000000  0.000000  0.000000  0.000000  0.000000   \n",
      "absentee    0.000000  0.000000  0.000152  0.000000  0.000000  0.000000   \n",
      "absolute    0.000000  0.000000  0.000000  0.000000  0.000000  0.000000   \n",
      "absolutely  0.000143  0.000000  0.000000  0.000152  0.000000  0.000111   \n",
      "abstain     0.000000  0.000000  0.000000  0.000000  0.000000  0.000000   \n",
      "absurd      0.000000  0.000000  0.000000  0.000078  0.000000  0.000000   \n",
      "abu         0.000000  0.000173  0.000000  0.000000  0.000000  0.000000   \n",
      "abuse       0.000000  0.000000  0.000000  0.000033  0.000000  0.000000   \n",
      "abuses      0.000000  0.001297  0.000000  0.000000  0.000000  0.000000   \n",
      "academy     0.000052  0.000067  0.000000  0.000000  0.000000  0.000187   \n",
      "accent      0.000000  0.000000  0.000000  0.000000  0.000000  0.000000   \n",
      "accept      0.000215  0.000000  0.000000  0.000000  0.000000  0.000000   \n",
      "acceptable  0.000258  0.000000  0.000000  0.000000  0.000000  0.000000   \n",
      "acceptance  0.000000  0.000000  0.000000  0.000067  0.001831  0.000107   \n",
      "...              ...       ...       ...       ...       ...       ...   \n",
      "yanks       0.000000  0.000000  0.000000  0.000000  0.000000  0.000000   \n",
      "yard        0.000000  0.000000  0.000000  0.000000  0.000000  0.000000   \n",
      "yeah        0.000000  0.000000  0.000000  0.000710  0.000000  0.000389   \n",
      "year        0.001976  0.001750  0.000000  0.000536  0.000000  0.000633   \n",
      "years       0.003710  0.000000  0.000000  0.001220  0.000000  0.000494   \n",
      "yell        0.000051  0.000000  0.000000  0.000000  0.000000  0.000181   \n",
      "yellin      0.000000  0.000000  0.000000  0.000000  0.000000  0.000500   \n",
      "yesterday   0.000435  0.000604  0.000000  0.000692  0.003838  0.000298   \n",
      "yesterdays  0.000000  0.000295  0.000000  0.000000  0.000000  0.000021   \n",
      "yield       0.000217  0.000000  0.000000  0.000000  0.000000  0.000000   \n",
      "york        0.000000  0.000000  0.001126  0.000026  0.002314  0.000000   \n",
      "yorker      0.000015  0.000039  0.000000  0.000000  0.000000  0.000000   \n",
      "yorkers     0.000000  0.000000  0.000078  0.000000  0.000810  0.000000   \n",
      "youd        0.000000  0.000000  0.000000  0.000093  0.000000  0.000000   \n",
      "youll       0.000416  0.000000  0.000000  0.000000  0.000000  0.000149   \n",
      "young       0.000333  0.000972  0.000000  0.001273  0.002482  0.000118   \n",
      "younger     0.000425  0.000000  0.000000  0.000000  0.000000  0.000177   \n",
      "youre       0.000242  0.000000  0.000317  0.001381  0.001675  0.000111   \n",
      "youth       0.000000  0.000068  0.000000  0.000053  0.000161  0.000000   \n",
      "youve       0.000139  0.000000  0.000000  0.000306  0.000000  0.000000   \n",
      "yucca       0.000000  0.000000  0.000000  0.000000  0.000000  0.000000   \n",
      "yup         0.000000  0.000000  0.000000  0.000000  0.000000  0.000000   \n",
      "zahn        0.000000  0.000000  0.000000  0.000000  0.000000  0.000000   \n",
      "zarqawi     0.000000  0.000000  0.000000  0.000000  0.000000  0.000000   \n",
      "zell        0.000000  0.000000  0.000000  0.002743  0.000000  0.000000   \n",
      "zimbabwe    0.000000  0.000290  0.000000  0.000000  0.000000  0.000000   \n",
      "zogby       0.000000  0.000000  0.003893  0.000000  0.000000  0.003803   \n",
      "zogbys      0.000000  0.000000  0.000000  0.000000  0.000000  0.000574   \n",
      "zone        0.000000  0.000902  0.000055  0.000000  0.000000  0.000166   \n",
      "zones       0.000000  0.000000  0.000000  0.000000  0.000000  0.000000   \n",
      "\n",
      "            @topic_6  @topic_7  @topic_8  @topic_9  @topic_10  @topic_11  \\\n",
      "aarp        0.000000  0.000000  0.000000  0.000000   0.000000   0.000000   \n",
      "abandon     0.000083  0.000000  0.000000  0.000000   0.000000   0.000000   \n",
      "abandoned   0.000000  0.000408  0.000253  0.000000   0.000000   0.000000   \n",
      "abandoning  0.000000  0.000000  0.000000  0.000000   0.000000   0.000000   \n",
      "abb         0.000000  0.000000  0.000146  0.000000   0.000000   0.000000   \n",
      "abc         0.000000  0.000000  0.002203  0.000000   0.000065   0.000163   \n",
      "abcs        0.000000  0.000143  0.000000  0.000000   0.000000   0.000000   \n",
      "abdullah    0.000000  0.000000  0.000000  0.000000   0.000000   0.000106   \n",
      "ability     0.000643  0.000000  0.000578  0.000293   0.000000   0.000409   \n",
      "aboard      0.000000  0.000000  0.000000  0.000000   0.000000   0.000206   \n",
      "abortion    0.000530  0.000000  0.000000  0.000000   0.000000   0.000008   \n",
      "abortions   0.000000  0.000000  0.000000  0.000000   0.000000   0.000000   \n",
      "abraham     0.000000  0.000000  0.000000  0.000000   0.000000   0.000181   \n",
      "abrams      0.000000  0.000000  0.000000  0.000000   0.000000   0.000193   \n",
      "abroad      0.000178  0.000385  0.000000  0.000000   0.000000   0.000286   \n",
      "absence     0.000115  0.000000  0.000000  0.000000   0.000000   0.000105   \n",
      "absent      0.000000  0.000035  0.000077  0.000114   0.000134   0.000000   \n",
      "absentee    0.000748  0.000000  0.000000  0.000000   0.000000   0.000000   \n",
      "absolute    0.000030  0.000097  0.000000  0.000082   0.000000   0.000121   \n",
      "absolutely  0.000000  0.000000  0.000000  0.000000   0.000000   0.000137   \n",
      "abstain     0.000000  0.000028  0.000000  0.000000   0.005099   0.000000   \n",
      "absurd      0.000000  0.000029  0.000026  0.000000   0.000000   0.000000   \n",
      "abu         0.000000  0.000000  0.000000  0.000000   0.000000   0.002146   \n",
      "abuse       0.000000  0.000000  0.000000  0.000051   0.000000   0.000994   \n",
      "abuses      0.000000  0.000000  0.000000  0.000051   0.000000   0.000445   \n",
      "academy     0.000000  0.000246  0.000000  0.000000   0.000000   0.000000   \n",
      "accent      0.000000  0.000000  0.000231  0.000000   0.000000   0.000000   \n",
      "accept      0.000000  0.000080  0.000000  0.000413   0.000000   0.000455   \n",
      "acceptable  0.000000  0.000000  0.000000  0.000000   0.000000   0.000117   \n",
      "acceptance  0.000000  0.000000  0.000000  0.000000   0.000000   0.000106   \n",
      "...              ...       ...       ...       ...        ...        ...   \n",
      "yanks       0.000000  0.000000  0.000057  0.000000   0.000000   0.000000   \n",
      "yard        0.000000  0.000000  0.000000  0.000000   0.000000   0.000000   \n",
      "yeah        0.000128  0.000420  0.000000  0.000461   0.000000   0.000366   \n",
      "year        0.001139  0.008240  0.001860  0.003005   0.000000   0.001444   \n",
      "years       0.001720  0.009883  0.001030  0.000984   0.000000   0.002153   \n",
      "yell        0.000000  0.000000  0.000000  0.000000   0.000000   0.000000   \n",
      "yellin      0.000000  0.000000  0.000000  0.000775   0.000000   0.000063   \n",
      "yesterday   0.000000  0.000000  0.000000  0.001112   0.000000   0.000942   \n",
      "yesterdays  0.000000  0.000036  0.000059  0.000000   0.000000   0.000000   \n",
      "yield       0.000000  0.000000  0.000000  0.000000   0.000000   0.000000   \n",
      "york        0.000000  0.000822  0.001806  0.000541   0.001355   0.000561   \n",
      "yorker      0.000000  0.000000  0.000000  0.000000   0.000000   0.000090   \n",
      "yorkers     0.000000  0.000000  0.000028  0.000000   0.000000   0.000000   \n",
      "youd        0.000228  0.000000  0.000000  0.000000   0.000000   0.000000   \n",
      "youll       0.000158  0.000000  0.000644  0.000065   0.000000   0.000222   \n",
      "young       0.000333  0.000000  0.000000  0.000255   0.000000   0.000000   \n",
      "younger     0.000000  0.000000  0.000000  0.000000   0.000000   0.000000   \n",
      "youre       0.000877  0.000000  0.000984  0.000000   0.000000   0.000547   \n",
      "youth       0.000000  0.000000  0.000000  0.000000   0.000000   0.000000   \n",
      "youve       0.000000  0.000000  0.000548  0.000436   0.000000   0.000538   \n",
      "yucca       0.000000  0.000000  0.000000  0.000000   0.000000   0.000000   \n",
      "yup         0.000000  0.000000  0.000000  0.000050   0.000000   0.000013   \n",
      "zahn        0.000000  0.000000  0.000000  0.000000   0.000000   0.000044   \n",
      "zarqawi     0.000000  0.000000  0.000000  0.000000   0.000000   0.000281   \n",
      "zell        0.000000  0.000000  0.000155  0.000000   0.000000   0.000000   \n",
      "zimbabwe    0.000000  0.000000  0.000000  0.000000   0.000000   0.000000   \n",
      "zogby       0.000000  0.000000  0.000000  0.000000   0.000000   0.000097   \n",
      "zogbys      0.000000  0.000000  0.000000  0.000000   0.000000   0.000000   \n",
      "zone        0.000222  0.000000  0.000000  0.000000   0.000000   0.000000   \n",
      "zones       0.000000  0.000000  0.000000  0.000000   0.000000   0.000118   \n",
      "\n",
      "            @topic_12  @topic_13  @topic_14  \n",
      "aarp         0.000000   0.000467   0.000000  \n",
      "abandon      0.000000   0.000000   0.000000  \n",
      "abandoned    0.000000   0.000000   0.000212  \n",
      "abandoning   0.000196   0.000000   0.000000  \n",
      "abb          0.000000   0.000000   0.000000  \n",
      "abc          0.000821   0.000000   0.000183  \n",
      "abcs         0.000151   0.000000   0.000000  \n",
      "abdullah     0.000000   0.000000   0.000000  \n",
      "ability      0.000202   0.000141   0.000000  \n",
      "aboard       0.000000   0.000000   0.000000  \n",
      "abortion     0.000000   0.000000   0.000000  \n",
      "abortions    0.000000   0.000000   0.000000  \n",
      "abraham      0.000000   0.000000   0.000000  \n",
      "abrams       0.000000   0.000000   0.000000  \n",
      "abroad       0.000000   0.000000   0.000170  \n",
      "absence      0.000000   0.000000   0.000000  \n",
      "absent       0.000000   0.000000   0.000044  \n",
      "absentee     0.000000   0.000000   0.000000  \n",
      "absolute     0.000000   0.000206   0.000000  \n",
      "absolutely   0.000063   0.000000   0.000183  \n",
      "abstain      0.000000   0.000000   0.000000  \n",
      "absurd       0.000013   0.000000   0.000000  \n",
      "abu          0.000000   0.000000   0.000000  \n",
      "abuse        0.000000   0.000526   0.000000  \n",
      "abuses       0.000000   0.000000   0.000000  \n",
      "academy      0.000000   0.000000   0.000000  \n",
      "accent       0.000000   0.000000   0.000222  \n",
      "accept       0.000148   0.000000   0.000000  \n",
      "acceptable   0.000000   0.000000   0.000000  \n",
      "acceptance   0.000077   0.000000   0.000402  \n",
      "...               ...        ...        ...  \n",
      "yanks        0.000046   0.000200   0.000000  \n",
      "yard         0.000000   0.000000   0.000267  \n",
      "yeah         0.000377   0.000000   0.000000  \n",
      "year         0.001701   0.000904   0.002319  \n",
      "years        0.001472   0.001765   0.005770  \n",
      "yell         0.000000   0.000000   0.000000  \n",
      "yellin       0.000000   0.000000   0.000000  \n",
      "yesterday    0.000371   0.001226   0.000587  \n",
      "yesterdays   0.000317   0.000000   0.000000  \n",
      "yield        0.000084   0.000000   0.000000  \n",
      "york         0.000592   0.002539   0.001973  \n",
      "yorker       0.000000   0.000000   0.000000  \n",
      "yorkers      0.000000   0.000000   0.000000  \n",
      "youd         0.000150   0.000230   0.000000  \n",
      "youll        0.000000   0.000403   0.000000  \n",
      "young        0.000304   0.001247   0.000000  \n",
      "younger      0.000152   0.000000   0.000000  \n",
      "youre        0.000342   0.002031   0.000118  \n",
      "youth        0.000000   0.000000   0.000225  \n",
      "youve        0.000232   0.000465   0.000000  \n",
      "yucca        0.000000   0.000378   0.000000  \n",
      "yup          0.000041   0.000000   0.000000  \n",
      "zahn         0.000000   0.000000   0.000000  \n",
      "zarqawi      0.000000   0.000000   0.000000  \n",
      "zell         0.000000   0.000085   0.000000  \n",
      "zimbabwe     0.000000   0.000000   0.000000  \n",
      "zogby        0.002940   0.000110   0.000000  \n",
      "zogbys       0.000294   0.000000   0.000000  \n",
      "zone         0.000139   0.000063   0.000000  \n",
      "zones        0.000000   0.000000   0.000000  \n",
      "\n",
      "[6906 rows x 15 columns]\n"
     ]
    }
   ],
   "source": [
    "print model.phi_"
   ]
  },
  {
   "cell_type": "markdown",
   "metadata": {},
   "source": [
    "Последний шаг — сохранение модели с возможностью последующей загрузки:"
   ]
  },
  {
   "cell_type": "code",
   "execution_count": 18,
   "metadata": {
    "collapsed": false
   },
   "outputs": [],
   "source": [
    "model.save(filename='kos_artm_model')"
   ]
  },
  {
   "cell_type": "markdown",
   "metadata": {},
   "source": [
    "Дополнительно извлечём Тету:"
   ]
  },
  {
   "cell_type": "code",
   "execution_count": 19,
   "metadata": {
    "collapsed": false
   },
   "outputs": [],
   "source": [
    "theta_matrix = model.fit_transform()"
   ]
  },
  {
   "cell_type": "markdown",
   "metadata": {},
   "source": [
    "ARTM.fit_transform() возвращает Теут как объект pandas.DataFrame. Напечатаем её:"
   ]
  },
  {
   "cell_type": "code",
   "execution_count": 20,
   "metadata": {
    "collapsed": false
   },
   "outputs": [
    {
     "name": "stdout",
     "output_type": "stream",
     "text": [
      "           2001      2002  2003      2004      2005  2006      2007  2008  \\\n",
      "@topic_0      0  0.000000     0  0.000000  0.000000     0  0.000000     0   \n",
      "@topic_1      0  0.000000     0  0.258220  0.000000     0  0.000000     0   \n",
      "@topic_2      0  0.000000     0  0.000000  0.000000     1  0.000000     0   \n",
      "@topic_3      0  0.000000     0  0.000000  0.000000     0  0.000000     0   \n",
      "@topic_4      0  0.000000     0  0.000000  0.000000     0  0.000000     0   \n",
      "@topic_5      0  0.661333     1  0.093464  0.858208     0  0.000000     1   \n",
      "@topic_6      0  0.000000     0  0.000000  0.000000     0  0.505188     0   \n",
      "@topic_7      0  0.000000     0  0.456537  0.000000     0  0.000000     0   \n",
      "@topic_8      0  0.338667     0  0.000000  0.000000     0  0.313320     0   \n",
      "@topic_9      1  0.000000     0  0.000000  0.000000     0  0.000000     0   \n",
      "@topic_10     0  0.000000     0  0.000000  0.000000     0  0.000000     0   \n",
      "@topic_11     0  0.000000     0  0.191780  0.000000     0  0.000000     0   \n",
      "@topic_12     0  0.000000     0  0.000000  0.141792     0  0.000000     0   \n",
      "@topic_13     0  0.000000     0  0.000000  0.000000     0  0.181492     0   \n",
      "@topic_14     0  0.000000     0  0.000000  0.000000     0  0.000000     0   \n",
      "\n",
      "               2009  2010    ...         3421      3422      3423     3424  \\\n",
      "@topic_0   0.140609     0    ...     0.000000  0.000000  0.000000  0.00000   \n",
      "@topic_1   0.000000     0    ...     0.449362  0.054226  0.000000  0.00000   \n",
      "@topic_2   0.000000     0    ...     0.000000  0.000000  0.000000  0.00000   \n",
      "@topic_3   0.000000     0    ...     0.158101  0.000000  0.223009  0.57167   \n",
      "@topic_4   0.000000     0    ...     0.000000  0.000000  0.000000  0.00000   \n",
      "@topic_5   0.000000     0    ...     0.000000  0.000000  0.000000  0.00000   \n",
      "@topic_6   0.043619     0    ...     0.000000  0.000000  0.000000  0.00000   \n",
      "@topic_7   0.551894     0    ...     0.000000  0.000000  0.000000  0.00000   \n",
      "@topic_8   0.000000     0    ...     0.000000  0.000000  0.000000  0.00000   \n",
      "@topic_9   0.000000     0    ...     0.392537  0.000000  0.040708  0.00000   \n",
      "@topic_10  0.000000     0    ...     0.000000  0.812132  0.000000  0.00000   \n",
      "@topic_11  0.263878     0    ...     0.000000  0.107589  0.243630  0.00000   \n",
      "@topic_12  0.000000     0    ...     0.000000  0.026053  0.000000  0.00000   \n",
      "@topic_13  0.000000     1    ...     0.000000  0.000000  0.245264  0.42833   \n",
      "@topic_14  0.000000     0    ...     0.000000  0.000000  0.247388  0.00000   \n",
      "\n",
      "               3425  3426  3427      3428      3429      3430  \n",
      "@topic_0   0.000000     0     0  0.563049  0.467407  0.000000  \n",
      "@topic_1   0.000000     0     0  0.000000  0.000000  0.000000  \n",
      "@topic_2   0.000000     0     0  0.000000  0.000000  0.000000  \n",
      "@topic_3   0.000000     0     0  0.000000  0.532593  0.511935  \n",
      "@topic_4   0.000000     0     0  0.000000  0.000000  0.000000  \n",
      "@topic_5   0.000000     0     0  0.000000  0.000000  0.000000  \n",
      "@topic_6   0.000000     0     0  0.000000  0.000000  0.000000  \n",
      "@topic_7   0.000000     0     0  0.000000  0.000000  0.000000  \n",
      "@topic_8   0.000000     0     0  0.000000  0.000000  0.000000  \n",
      "@topic_9   0.000000     0     0  0.000000  0.000000  0.000000  \n",
      "@topic_10  0.000000     0     0  0.000000  0.000000  0.000000  \n",
      "@topic_11  0.486787     0     0  0.000000  0.000000  0.488065  \n",
      "@topic_12  0.513213     1     0  0.000000  0.000000  0.000000  \n",
      "@topic_13  0.000000     0     0  0.436951  0.000000  0.000000  \n",
      "@topic_14  0.000000     0     0  0.000000  0.000000  0.000000  \n",
      "\n",
      "[15 rows x 3430 columns]\n"
     ]
    }
   ],
   "source": [
    "print theta_matrix"
   ]
  },
  {
   "cell_type": "markdown",
   "metadata": {},
   "source": [
    "## Пример №2"
   ]
  },
  {
   "cell_type": "markdown",
   "metadata": {},
   "source": [
    "Это вторая часть примера использования нового интерфейса библиотеки. Загрузим обратно модель, сохранённую в прошлой части и применим к ней несколько операций.\n",
    "\n",
    "В первую очередь создадим новую тематическую модель:"
   ]
  },
  {
   "cell_type": "code",
   "execution_count": 21,
   "metadata": {
    "collapsed": false
   },
   "outputs": [],
   "source": [
    "new_model = artm.ARTM(num_topics=1, num_document_passes=1)"
   ]
  },
  {
   "cell_type": "markdown",
   "metadata": {},
   "source": [
    "Вторым шагом добавим в неё функционалы и регуляризаторы. Ограничимся одной новой метрикой и двумя уже знакомыми регуляризаторами:"
   ]
  },
  {
   "cell_type": "code",
   "execution_count": 22,
   "metadata": {
    "collapsed": false
   },
   "outputs": [],
   "source": [
    "new_model.scores.add(artm.TopicKernelScore(name='TopicKernelScore'))\n",
    "new_model.regularizers.add(artm.SmoothSparsePhiRegularizer(name='SparsePhi', tau=-0.1))\n",
    "new_model.regularizers.add(artm.DecorrelatorPhiRegularizer(name='DecorrelatorPhi', tau=100000.0))"
   ]
  },
  {
   "cell_type": "markdown",
   "metadata": {},
   "source": [
    "Теперь загрузим файл 'kos_artm_model' с моделью обратно в библиотеку"
   ]
  },
  {
   "cell_type": "code",
   "execution_count": 23,
   "metadata": {
    "collapsed": false
   },
   "outputs": [],
   "source": [
    "new_model.load('kos_artm_model')"
   ]
  },
  {
   "cell_type": "markdown",
   "metadata": {},
   "source": [
    "Имейте ввиду, что загружаемая модель перепишет несколько параметров нашего объекта ARTM: число и имена тем, матрицу Фи. Также загрузка сотрёт всю информацию о данных метрик, посчитанных ранее. Тем не менее, сами подключенные метрики и регуляризаторы никуда не денуться. В нашем случае это функционал 'TopicKernelScore' и регуляризаторы 'SparsePhi' и 'DecorrealtorPhi'.\n",
    "\n",
    "Теперь продолжим обучение модели, но, для примера, рассмотрим онлайновый режим. Это означает, что\n",
    "- число проходов по каждому документу увеличивается\n",
    "- матрица Фи может быть обновлена произвольное количество раз за один проход по коллекции (но не чаще, чем раз за обработанный батч)\n",
    "- нам требуется только оин проход по коллекции (но здесь мы сделаем 5, поскольку коллекция 'kos' довольно маленькая)."
   ]
  },
  {
   "cell_type": "code",
   "execution_count": 24,
   "metadata": {
    "collapsed": false
   },
   "outputs": [],
   "source": [
    "new_model.num_document_passes = 20\n",
    "for i in xrange(5):\n",
    "    new_model.fit_online(batch_vectorizer=batch_vectorizer, update_every=4)"
   ]
  },
  {
   "cell_type": "markdown",
   "metadata": {},
   "source": [
    "Параметр 'update_every' говорит модели о том, раз в сколько батчей следует обновлять матрицу Фи.\n",
    "\n",
    "Выведем средние характеристики ядер тем (чистоту и контрастность):"
   ]
  },
  {
   "cell_type": "code",
   "execution_count": 25,
   "metadata": {
    "collapsed": false
   },
   "outputs": [
    {
     "data": {
      "image/png": "[encoded data removed]",
      "text/plain": [
       "<matplotlib.figure.Figure at 0xe037c50>"
      ]
     },
     "metadata": {},
     "output_type": "display_data"
    }
   ],
   "source": [
    "plt.plot(xrange(new_model.num_phi_updates), new_model.score_tracker['TopicKernelScore'].average_contrast, 'g--',\n",
    "         xrange(new_model.num_phi_updates), new_model.score_tracker['TopicKernelScore'].average_purity, 'r--', linewidth=2)\n",
    "plt.xlabel('Iterations count')\n",
    "plt.ylabel('Kernel scores')\n",
    "plt.grid(True)\n",
    "plt.show()"
   ]
  },
  {
   "cell_type": "markdown",
   "metadata": {},
   "source": [
    "Как мы видим, дальнейшее обучение загруженной модели только ухудшило её качество.\n",
    "\n",
    "Также можно посмотреть на информацию о ядрах каждой темы. Для примера выведем все ядровые слова первой темы:"
   ]
  },
  {
   "cell_type": "code",
   "execution_count": 26,
   "metadata": {
    "collapsed": false,
    "scrolled": true
   },
   "outputs": [
    {
     "name": "stdout",
     "output_type": "stream",
     "text": [
      "[u'abandon', u'abb', u'abortion', u'abortions', u'action', u'activist', u'activists', u'acts', u'addition', u'address', u'advocate', u'affairs', u'affect', u'agenda', u'agree', u'agreed', u'allen', u'allowing', u'amendment', u'americas', u'angry', u'antiabortion', u'antigay', u'appeal', u'appealed', u'appealing', u'appeals', u'appears', u'apply', u'appointed', u'areas', u'arent', u'argue', u'argued', u'argument', u'arguments', u'arnold', u'asks', u'assault', u'backed', u'backers', u'ban', u'banning', u'bar', u'base', u'based', u'basic', u'bay', u'believes', u'benefit', u'benefits', u'bishops', u'black', u'blacks', u'blackwell', u'blocked', u'blue', u'body', u'born', u'budgets', u'burden', u'business', u'california', u'calling', u'cap', u'carter', u'catholic', u'catholics', u'ceo', u'checks', u'child', u'children', u'choices', u'christian', u'christians', u'church', u'circuit', u'circumstances', u'citizens', u'civil', u'class', u'clerks', u'closely', u'code', u'colleagues', u'college', u'committed', u'communities', u'concern', u'concerns', u'conservatism', u'conservative', u'conservatives', u'constitution', u'constitutional', u'continuing', u'contract', u'contrast', u'controls', u'cops', u'core', u'couldnt', u'couples', u'court', u'courts', u'crime', u'cuba', u'cuban', u'cultural', u'dad', u'daniel', u'daughter', u'decade', u'decades', u'decide', u'decision', u'deep', u'designed', u'desire', u'dhinmi', u'differences', u'difficult', u'discussed', u'dispute', u'diverse', u'divide', u'divided', u'domestic', u'downright', u'dream', u'due', u'easy', u'education', u'elected', u'encourage', u'enron', u'environment', u'equal', u'essential', u'europeans', u'evangelical', u'everyday', u'executive', u'exist', u'expressed', u'extreme', u'faces', u'factors', u'fails', u'fair', u'faith', u'fall', u'families', u'family', u'father', u'fault', u'favor', u'fear', u'federal', u'fellow', u'fight', u'fingerhut', u'firmly', u'fit', u'flag', u'follow', u'football', u'forever', u'form', u'forum', u'frame', u'freedom', u'front', u'fundamental', u'funding', u'future', u'gain', u'gay', u'gays', u'generation', u'generations', u'gonna', u'gops', u'granholm', u'greater', u'greatest', u'groups', u'grow', u'growing', u'harm', u'hate', u'hear', u'helped', u'helps', u'heritage', u'highest', u'highlight', u'historic', u'history', u'hold', u'human', u'hypocrisy', u'idea', u'ideas', u'identified', u'identify', u'ignore', u'illegal', u'impose', u'imposed', u'impossible', u'included', u'includes', u'income', u'increasingly', u'index', u'individual', u'individuals', u'influence', u'initiative', u'instance', u'interest', u'introduce', u'involved', u'issue', u'james', u'jimmy', u'joined', u'judge', u'judges', u'justice', u'justices', u'kind', u'lack', u'lakoff', u'language', u'largely', u'latin', u'law', u'laws', u'lawsuit', u'lawyers', u'lay', u'leaders', u'leadership', u'learn', u'legacy', u'legal', u'legislation', u'legislative', u'legislature', u'liberal', u'liberals', u'libertarian', u'liberty', u'licenses', u'life', u'limit', u'limits', u'lived', u'lives', u'living', u'majority', u'makes', u'marriage', u'marriages', u'married', u'marry', u'mars', u'massachusetts', u'matrix', u'matters', u'measure', u'member', u'membership', u'merits', u'michigan', u'middle', u'millions', u'minimum', u'minority', u'modern', u'moral', u'mother', u'mothers', u'move', u'naacp', u'nick', u'notable', u'nra', u'offer', u'older', u'opponents', u'oppose', u'opposed', u'opposes', u'opposition', u'order', u'outsiders', u'overwhelmingly', u'ownership', u'parents', u'participate', u'parties', u'partisan', u'partners', u'pass', u'passage', u'passed', u'passing', u'patient', u'paying', u'permit', u'personally', u'perspective', u'places', u'platform', u'play', u'policies', u'politically', u'politicians', u'poor', u'position', u'positions', u'power', u'powerful', u'practice', u'present', u'priorities', u'problem', u'process', u'product', u'progressive', u'progressives', u'promised', u'promote', u'proper', u'property', u'proposal', u'proposed', u'prospect', u'protect', u'protecting', u'protection', u'proud', u'providing', u'purpose', u'qualified', u'quality', u'racism', u'reach', u'reads', u'reagans', u'reason', u'reasons', u'recall', u'receive', u'recognize', u'red', u'reduce', u'referendum', u'reflect', u'reform', u'refused', u'rejected', u'relief', u'religion', u'religious', u'replacing', u'representative', u'require', u'required', u'respect', u'responsibility', u'restrictions', u'result', u'review', u'rhetoric', u'rich', u'rights', u'rightwing', u'risk', u'ronald', u'roots', u'roves', u'rule', u'ruled', u'rules', u'ruling', u'rural', u'sales', u'samesex', u'sanctions', u'schools', u'schwarz', u'schwarzenegger', u'seek', u'seeking', u'seeks', u'send', u'serve', u'services', u'settled', u'sex', u'sexual', u'share', u'short', u'sides', u'sign', u'signed', u'significant', u'simple', u'simply', u'sincerely', u'small', u'smith', u'socalled', u'social', u'society', u'sold', u'southern', u'spirit', u'stand', u'standard', u'starts', u'status', u'steel', u'stood', u'strategy', u'students', u'subject', u'success', u'suit', u'sullivan', u'supported', u'supporting', u'supports', u'supposedly', u'supreme', u'system', u'tactics', u'taking', u'tapes', u'tariffs', u'taxes', u'ten', u'term', u'test', u'thousands', u'tobacco', u'trade', u'tradition', u'traditional', u'transfers', u'travel', u'tuesday', u'tuition', u'turn', u'twothirds', u'understand', u'understanding', u'university', u'values', u'views', u'vision', u'vital', u'wage', u'walmart', u'ways', u'welfare', u'western', u'wife', u'wing', u'woman', u'women', u'womens', u'writer', u'younger']\n"
     ]
    }
   ],
   "source": [
    "print new_model.score_tracker['TopicKernelScore'].last_topic_info[new_model.topic_names[0]].tokens"
   ]
  },
  {
   "cell_type": "markdown",
   "metadata": {},
   "source": [
    "Если у нас есть батч с документами, который не являлся частью обучающей выборки (или являлся, но мы не сохраняли Тету для экономии памяти), и мы хотим узнать столбцы матрицы Теты для него, то следует использовать метод 'transform()':"
   ]
  },
  {
   "cell_type": "code",
   "execution_count": 27,
   "metadata": {
    "collapsed": false
   },
   "outputs": [],
   "source": [
    "test_batch_vectorizer = artm.BatchVectorizer(data_format='batches', data_path='kos_test', batches=['test_docs.batch'])\n",
    "test_theta_matrix = new_model.transform(batch_vectorizer=test_batch_vectorizer)"
   ]
  },
  {
   "cell_type": "markdown",
   "metadata": {},
   "source": [
    "ARTM.transform(), как и ARTM.fit_transform(), возвращает Тету в виде объекта pandas.DataFrame. Напечатаем ее:"
   ]
  },
  {
   "cell_type": "code",
   "execution_count": 28,
   "metadata": {
    "collapsed": false,
    "scrolled": true
   },
   "outputs": [
    {
     "name": "stdout",
     "output_type": "stream",
     "text": [
      "                   3001          3002          3003      3004          3005  \\\n",
      "@topic_0   9.710001e-02  2.171972e-02  9.249397e-02  0.136457  7.660367e-02   \n",
      "@topic_1   7.978157e-02  0.000000e+00  5.726849e-02  0.000000  4.101092e-02   \n",
      "@topic_2   0.000000e+00  5.166236e-02  0.000000e+00  0.037120  3.127101e-02   \n",
      "@topic_3   2.007932e-02  1.173555e-02  6.994441e-16  0.052444  6.212139e-02   \n",
      "@topic_4   0.000000e+00  0.000000e+00  0.000000e+00  0.009470  0.000000e+00   \n",
      "@topic_5   0.000000e+00  0.000000e+00  1.264643e-02  0.000000  2.155282e-02   \n",
      "@topic_6   0.000000e+00  3.531644e-16  5.564190e-02  0.013802  0.000000e+00   \n",
      "@topic_7   7.599327e-07  1.435614e-02  2.989345e-02  0.013328  3.360548e-02   \n",
      "@topic_8   1.528809e-09  0.000000e+00  1.465404e-14  0.031256  8.907387e-16   \n",
      "@topic_9   4.936354e-02  4.631601e-01  2.596672e-07  0.117850  1.069807e-01   \n",
      "@topic_10  2.909726e-09  0.000000e+00  0.000000e+00  0.000000  0.000000e+00   \n",
      "@topic_11  6.612842e-01  3.461375e-01  5.072100e-01  0.553202  4.326473e-01   \n",
      "@topic_12  5.337456e-02  4.090487e-02  1.963668e-01  0.020826  5.200891e-02   \n",
      "@topic_13  4.407478e-03  5.032377e-02  4.847243e-02  0.014245  1.421978e-01   \n",
      "@topic_14  3.460860e-02  2.675009e-09  6.200187e-06  0.000000  8.558750e-12   \n",
      "\n",
      "               3006          3007          3008          3009          3010  \\\n",
      "@topic_0   0.009972  2.530807e-01  4.536241e-08  4.362270e-02  7.165324e-02   \n",
      "@topic_1   0.000000  0.000000e+00  0.000000e+00  0.000000e+00  0.000000e+00   \n",
      "@topic_2   0.644273  2.417385e-14  0.000000e+00  1.590299e-02  8.779963e-03   \n",
      "@topic_3   0.007953  9.493628e-02  8.769080e-02  6.558026e-02  9.223894e-03   \n",
      "@topic_4   0.000000  9.823596e-03  0.000000e+00  0.000000e+00  0.000000e+00   \n",
      "@topic_5   0.000000  1.520497e-02  5.774918e-02  3.025713e-02  1.094645e-02   \n",
      "@topic_6   0.000000  1.354230e-01  2.048945e-01  3.232525e-13  1.081354e-02   \n",
      "@topic_7   0.000000  6.464188e-03  0.000000e+00  2.231985e-02  0.000000e+00   \n",
      "@topic_8   0.000000  0.000000e+00  0.000000e+00  1.136660e-10  5.184807e-08   \n",
      "@topic_9   0.000000  1.387661e-01  3.133783e-01  4.385214e-01  2.909768e-01   \n",
      "@topic_10  0.176489  6.119579e-05  0.000000e+00  0.000000e+00  0.000000e+00   \n",
      "@topic_11  0.124974  2.443233e-01  3.077698e-01  3.837939e-01  4.954562e-01   \n",
      "@topic_12  0.000000  6.727467e-02  5.578368e-08  1.821909e-06  3.615622e-13   \n",
      "@topic_13  0.023562  2.019777e-02  2.851726e-02  9.068748e-13  6.749145e-02   \n",
      "@topic_14  0.012777  1.444417e-02  0.000000e+00  0.000000e+00  3.465835e-02   \n",
      "\n",
      "               ...               3421          3422          3423      3424  \\\n",
      "@topic_0       ...       0.000000e+00  1.733585e-02  3.093897e-02  0.000000   \n",
      "@topic_1       ...       2.541189e-01  6.047979e-02  3.071483e-02  0.000000   \n",
      "@topic_2       ...       0.000000e+00  3.732013e-01  9.044307e-03  0.055556   \n",
      "@topic_3       ...       9.284385e-02  2.162032e-03  1.029104e-01  0.115800   \n",
      "@topic_4       ...       0.000000e+00  0.000000e+00  0.000000e+00  0.000000   \n",
      "@topic_5       ...       1.453336e-16  0.000000e+00  1.569330e-04  0.000000   \n",
      "@topic_6       ...       1.841463e-05  7.858264e-03  0.000000e+00  0.000000   \n",
      "@topic_7       ...       1.369863e-02  2.988408e-02  1.155898e-02  0.000000   \n",
      "@topic_8       ...       2.352897e-02  6.089735e-05  3.173111e-10  0.000000   \n",
      "@topic_9       ...       6.971369e-02  2.102427e-08  2.780337e-02  0.054358   \n",
      "@topic_10      ...       0.000000e+00  2.365682e-01  1.371901e-07  0.021804   \n",
      "@topic_11      ...       3.947403e-01  2.445227e-01  5.271508e-01  0.339573   \n",
      "@topic_12      ...       6.601641e-02  2.792704e-02  1.315248e-02  0.080508   \n",
      "@topic_13      ...       8.532082e-02  0.000000e+00  1.429722e-01  0.276847   \n",
      "@topic_14      ...       0.000000e+00  0.000000e+00  1.035966e-01  0.055556   \n",
      "\n",
      "                   3425          3426          3427          3428      3429  \\\n",
      "@topic_0   2.765268e-02  1.442826e-02  7.692308e-02  2.623229e-01  0.238463   \n",
      "@topic_1   1.800628e-03  0.000000e+00  0.000000e+00  0.000000e+00  0.021594   \n",
      "@topic_2   0.000000e+00  1.442715e-02  0.000000e+00  1.551462e-02  0.000000   \n",
      "@topic_3   6.941317e-02  3.875234e-02  0.000000e+00  1.913640e-02  0.194774   \n",
      "@topic_4   2.564103e-02  1.071429e-01  7.692308e-02  0.000000e+00  0.000000   \n",
      "@topic_5   1.447959e-15  0.000000e+00  0.000000e+00  1.900503e-04  0.024232   \n",
      "@topic_6   1.753678e-14  2.354405e-04  4.150048e-08  4.235042e-05  0.085161   \n",
      "@topic_7   2.694149e-02  0.000000e+00  0.000000e+00  1.632299e-02  0.021987   \n",
      "@topic_8   2.714309e-02  3.546482e-02  1.050674e-01  7.802361e-05  0.000000   \n",
      "@topic_9   5.743886e-10  4.910052e-04  1.597976e-06  4.462681e-02  0.051875   \n",
      "@topic_10  0.000000e+00  0.000000e+00  0.000000e+00  0.000000e+00  0.000000   \n",
      "@topic_11  6.580549e-01  5.198226e-01  5.303370e-01  4.565990e-01  0.176407   \n",
      "@topic_12  7.183427e-07  2.487173e-01  2.107479e-01  3.369706e-02  0.066930   \n",
      "@topic_13  1.633523e-01  8.484201e-09  0.000000e+00  1.514698e-01  0.118576   \n",
      "@topic_14  0.000000e+00  2.051818e-02  0.000000e+00  4.309806e-16  0.000000   \n",
      "\n",
      "                   3430  \n",
      "@topic_0   5.615995e-02  \n",
      "@topic_1   5.531079e-02  \n",
      "@topic_2   0.000000e+00  \n",
      "@topic_3   1.357522e-01  \n",
      "@topic_4   1.467727e-02  \n",
      "@topic_5   1.933653e-02  \n",
      "@topic_6   5.540835e-02  \n",
      "@topic_7   1.495846e-02  \n",
      "@topic_8   1.013132e-03  \n",
      "@topic_9   1.881693e-02  \n",
      "@topic_10  0.000000e+00  \n",
      "@topic_11  5.847778e-01  \n",
      "@topic_12  1.910489e-02  \n",
      "@topic_13  3.059773e-08  \n",
      "@topic_14  2.468377e-02  \n",
      "\n",
      "[15 rows x 430 columns]\n"
     ]
    }
   ],
   "source": [
    "print test_theta_matrix"
   ]
  }
 ],
 "metadata": {
  "kernelspec": {
   "display_name": "Python 2",
   "language": "python",
   "name": "python2"
  },
  "language_info": {
   "codemirror_mode": {
    "name": "ipython",
    "version": 2
   },
   "file_extension": ".py",
   "mimetype": "text/x-python",
   "name": "python",
   "nbconvert_exporter": "python",
   "pygments_lexer": "ipython2",
   "version": "2.7.7"
  }
 },
 "nbformat": 4,
 "nbformat_minor": 0
}
