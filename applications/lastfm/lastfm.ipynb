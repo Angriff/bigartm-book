{
 "cells": [
  {
   "cell_type": "markdown",
   "metadata": {},
   "source": [
    "#Тематическая модель на данных Last.fm"
   ]
  },
  {
   "cell_type": "markdown",
   "metadata": {
    "collapsed": true
   },
   "source": [
    "###Данные"
   ]
  },
  {
   "cell_type": "markdown",
   "metadata": {},
   "source": [
    "Данные Last.fm брались <a href=http:/www.dtic.upf.edu/~ocelma/MusicRecommendationDataset/lastfm-360K.html> отсюда</a>. Они содержат плейлисты 360 тысяч пользователей с указанием сколько раз каждый юзер слушал музыканта. Эти плейлисты рассматривались как документы в тематической модели, и выделенные темы образовывали различные музыкальные жанры (названия которых я оставлю подобрать читателю)."
   ]
  },
  {
   "cell_type": "markdown",
   "metadata": {
    "collapsed": true
   },
   "source": [
    "###Процесс"
   ]
  },
  {
   "cell_type": "markdown",
   "metadata": {
    "collapsed": true
   },
   "source": [
    "Подключаем все необходимые библиотеки."
   ]
  },
  {
   "cell_type": "code",
   "execution_count": 1,
   "metadata": {
    "collapsed": false
   },
   "outputs": [],
   "source": [
    "from lastfm_util import *\n",
    "import matplotlib.pyplot as plt\n",
    "\n",
    "import artm.artm_model\n",
    "from artm.artm_model import *\n",
    "\n",
    "%matplotlib inline\n",
    "\n",
    "plays_file = 'usersha1-artmbid-artname-plays.tsv' #Название файла с данными"
   ]
  },
  {
   "cell_type": "markdown",
   "metadata": {
    "collapsed": true
   },
   "source": [
    "Теперь надо распарсить коллекцию и подать ее библиотеке. Я использовал свой парсер и создавал вручную батчи в нужном формате."
   ]
  },
  {
   "cell_type": "code",
   "execution_count": 2,
   "metadata": {
    "collapsed": false
   },
   "outputs": [],
   "source": [
    "batch_path = create_batches(users_to_handle = 5000, users_in_batch = 1000) \n",
    "#Мы обрабатываем только первые 5 тысяч записей и строим батчи по 1000 штук юзеров в каждом"
   ]
  },
  {
   "cell_type": "markdown",
   "metadata": {},
   "source": [
    "Следующий шаг - настоить и запустить bigartm."
   ]
  },
  {
   "cell_type": "markdown",
   "metadata": {
    "collapsed": true
   },
   "source": [
    "Создаем названия главных и фоновых тем, потом настраиваем регуляризаторы и счетчики."
   ]
  },
  {
   "cell_type": "code",
   "execution_count": 3,
   "metadata": {
    "collapsed": false
   },
   "outputs": [],
   "source": [
    "all_topics, objective_topics, background_topics = create_topic_names(200, 5)\n",
    "\n",
    "model = ArtmModel(topic_names=all_topics)\n",
    "model.num_processors = 4\n",
    "\n",
    "#Счетчики\n",
    "model.scores.add(SparsityPhiScore(name='ObjectiveSparsityPhiScore', topic_names=objective_topics))\n",
    "model.scores.add(SparsityThetaScore(name='ObjectiveSparsityThetaScore', topic_names=objective_topics))\n",
    "model.scores.add(PerplexityScore(name='PerplexityScore'))\n",
    "model.scores.add(TopTokensScore(name='TopTokensScore', num_tokens=5))\n",
    "model.scores.add(TopTokensScore(name='TopTokensScoreExtended', num_tokens=20))\n",
    "\n",
    "#Регуляризаторы\n",
    "model.regularizers.add(SmoothSparsePhiRegularizer(name='ObjectiveSparsePhi',\n",
    "                                                  topic_names=objective_topics, tau=-0.1))\n",
    "model.regularizers.add(SmoothSparseThetaRegularizer(name='ObjectiveSparseTheta',\n",
    "                                                    topic_names=objective_topics, tau=-2.0))\n",
    "model.regularizers.add(SmoothSparsePhiRegularizer(name='BackgroundSparsePhi',\n",
    "                                                  topic_names=background_topics, tau=0.1))\n",
    "model.regularizers.add(SmoothSparseThetaRegularizer(name='BackgroundSparseTheta',\n",
    "                                                    topic_names=background_topics, tau=2.0))\n",
    "model.regularizers.add(DecorrelatorPhiRegularizer(name='DecorrelatorPhi',\n",
    "                                                  topic_names=objective_topics, tau=100000.0))\n",
    "\n",
    "model.initialize(data_path=batch_path)"
   ]
  },
  {
   "cell_type": "markdown",
   "metadata": {},
   "source": [
    "Запускаем!"
   ]
  },
  {
   "cell_type": "code",
   "execution_count": 4,
   "metadata": {
    "collapsed": true
   },
   "outputs": [],
   "source": [
    "model.fit_offline(data_path=batch_path, num_collection_passes=15)"
   ]
  },
  {
   "cell_type": "markdown",
   "metadata": {},
   "source": [
    "Теперь уже можно порисовать графики и вывести жанры. "
   ]
  },
  {
   "cell_type": "code",
   "execution_count": 5,
   "metadata": {
    "collapsed": false
   },
   "outputs": [
    {
     "data": {
      "image/png": "[encoded data removed]",
      "text/plain": [
       "<matplotlib.figure.Figure at 0x7fb9ff594b50>"
      ]
     },
     "metadata": {},
     "output_type": "display_data"
    },
    {
     "data": {
      "image/png": "[encoded data removed]",
      "text/plain": [
       "<matplotlib.figure.Figure at 0x7fb9ff594bd0>"
      ]
     },
     "metadata": {},
     "output_type": "display_data"
    }
   ],
   "source": [
    "plt.plot(range(model.num_phi_updates), model.scores_info['PerplexityScore'].value, 'r--', linewidth=2)\n",
    "plt.xlabel('Iterations count')\n",
    "plt.ylabel('Perplexity')\n",
    "plt.grid(True)\n",
    "plt.show()\n",
    "\n",
    "plt.plot(range(model.num_phi_updates), model.scores_info['ObjectiveSparsityPhiScore'].value, 'b--',\n",
    "         range(model.num_phi_updates), model.scores_info['ObjectiveSparsityThetaScore'].value, 'r--', linewidth=2)\n",
    "plt.xlabel('Iterations count')\n",
    "plt.ylabel('Objective Phi sparsity, Theta sparsity')\n",
    "plt.grid(True)\n",
    "plt.show()"
   ]
  },
  {
   "cell_type": "code",
   "execution_count": 6,
   "metadata": {
    "collapsed": false
   },
   "outputs": [
    {
     "name": "stdout",
     "output_type": "stream",
     "text": [
      "Genres\n",
      "objective topic 0:  [u'gods of blitz', u'la vela puerca', u'laura marling', u'bromheads jacket', u'fionn regan']\n",
      "objective topic 1:  [u'dropkick murphys', u'flogging molly', u'the real mckenzies', u'street dogs', u'leona lewis']\n",
      "objective topic 2:  [u'linkin park', u'evanescence', u'fort minor', u'ko\\u042fn', u'bruce faulconer']\n",
      "objective topic 3:  [u'ac/dc', u'ramones', u'led zeppelin', u'sex pistols', u'the rolling stones']\n",
      "objective topic 4:  [u'nelly furtado', u'black eyed peas', u'aaliyah', u'sean paul', u'rihanna']\n",
      "objective topic 5:  [u'die \\xc4rzte', u'die toten hosen', u'farin urlaub', u'annihilator', u'freak kitchen']\n",
      "objective topic 6:  [u'michael bubl\\xe9', u'guano apes', u'live', u'rage against the machine', u'tristania']\n",
      "objective topic 7:  [u'hellogoodbye', u'project 86', u'alter bridge', u'chevelle', u'12 stones']\n",
      "objective topic 8:  [u'r.e.m.', u'billie the vision & the dancers', u'mando diao', u'camel', u'the disciplines']\n",
      "objective topic 9:  [u'bad religion', u'rancid', u'nofx', u'anti-flag', u'propagandhi']\n",
      "objective topic 10:  [u'dream theater', u'queensr\\xffche', u'rush', u'ayreon', u'joe satriani']\n",
      "objective topic 11:  [u'the fall', u'my bloody valentine', u'slowdive', u'sonic youth', u'brian eno']\n",
      "objective topic 12:  [u'kiss', u'mindless self indulgence', u'uriah heep', u'thunder', u'dj shadow']\n",
      "objective topic 13:  [u'o.s.t.r.', u'mf doom', u'eldo', u'madlib', u'madvillain']\n",
      "objective topic 14:  [u'tegan and sara', u'kent', u'the cardigans', u'slime', u'citizen cope']\n",
      "objective topic 15:  [u'b\\xf6hse onkelz', u'der w', u'death', u'johnny cash', u'metallica']\n",
      "objective topic 16:  [u'cat power', u'devendra banhart', u'calexico', u\"bonnie 'prince' billy\", u'the velvet underground']\n",
      "objective topic 17:  [u'2pac', u'nas', u'snoop dogg', u'black rebel motorcycle club', u'ice cube']\n",
      "objective topic 18:  [u'hilary duff', u'evanescence', u'casey jones', u'raappana', u'walls of jericho']\n",
      "objective topic 19:  [u'jack johnson', u'jason mraz', u'nek', u'oro', u'massimo di cataldo']\n",
      "objective topic 20:  [u'disciple', u'skillet', u'dc talk', u'seventh seal', u'demon hunter']\n",
      "objective topic 21:  [u'stevie wonder', u'ben harper', u'manic street preachers', u'steely dan', u'asa']\n",
      "objective topic 22:  [u'afi', u'boa', u'blaqk audio', u'\\ub3d9\\ubc29\\uc2e0\\uae30', u'\\u5468\\u6770\\u502b']\n",
      "objective topic 23:  [u'backstreet boys', u'bryan adams', u'hladno pivo', u'skroz', u'betty blowtorch']\n",
      "objective topic 24:  [u'art-school', u'downy', u'nirvana', u'the blood brothers', u'nas']\n",
      "objective topic 25:  [u'bring me the horizon', u'enter shikari', u'parkway drive', u'superfly', u'silverstein']\n",
      "objective topic 26:  [u'p.o.d.', u'reel big fish', u'vanessa-mae', u\"dolores o'riordan\", u'dispatch']\n",
      "objective topic 27:  [u'the doors', u'the rolling stones', u'the who', u'simon & garfunkel', u'led zeppelin']\n",
      "objective topic 28:  [u'john mayer', u'counting crows', u'death cab for cutie', u'dave matthews band', u'rachael yamagata']\n",
      "objective topic 29:  [u'gackt', u'larc~en~ciel', u'carter burwell', u'mr. big', u'hyde']\n",
      "objective topic 30:  [u'elektrick mann', u'wiley', u'vypsan\\xe1 fixa', u'saosin', u'nirvana']\n",
      "objective topic 31:  [u'incubus', u'tenacious d', u'foo fighters', u'mindless self indulgence', u'the dresden dolls']\n",
      "objective topic 32:  [u'the cooper temple clause', u'vienna teng', u'yo-yo ma', u'the clash', u'dirty pretty things']\n",
      "objective topic 33:  [u'b\\xf6hse onkelz', u'kategorie c', u'subway to sally', u'the streets', u'die apokalyptischen reiter']\n",
      "objective topic 34:  [u'all time low', u'forever the sickest kids', u'the hellacopters', u'metro station', u'the maine']\n",
      "objective topic 35:  [u'nas', u'wu-tang clan', u'ghostface', u'cunninlynguists', u'sonic youth']\n",
      "objective topic 36:  [u'jeff buckley', u'aborym', u'triarii', u'summoning', u'bob marley & the wailers']\n",
      "objective topic 37:  [u'soil & \"pimp\" sessions', u'stereolab', u'slagsm\\xe5lsklubben', u'saint etienne', u'bump of chicken']\n",
      "objective topic 38:  [u'the cure', u'the smiths', u'morrissey', u'joy division', u'pulp']\n",
      "objective topic 39:  [u'sufjan stevens', u'elliott smith', u'bright eyes', u'iron & wine', u'the shins']\n",
      "objective topic 40:  [u'senses fail', u'\\u690d\\u677e\\u4f38\\u592b', u'helios', u'\\u83c5\\u91ce\\u3088\\u3046\\u5b50', u'goldmund']\n",
      "objective topic 41:  [u'east clubbers', u'the cribs', u'the tough alliance', u'h\\xe5kan hellstr\\xf6m', u'the clientele']\n",
      "objective topic 42:  [u'[unknown]', u'kraftwerk', u'yellow magic orchestra', u'every little thing', u'underworld']\n",
      "objective topic 43:  [u'damien rice', u'grateful dead', u'geto boys', u'the avett brothers', u'langhorne slim']\n",
      "objective topic 44:  [u'they might be giants', u'immortal technique', u'madina lake', u'syrup16g', u'jedi mind tricks']\n",
      "objective topic 45:  [u'the mountain goats', u'of montreal', u'wilco', u'the new pornographers', u'the magnetic fields']\n",
      "objective topic 46:  [u'queen', u'u2', u'genesis', u'the police', u'bruce springsteen']\n",
      "objective topic 47:  [u'cradle of filth', u'children of bodom', u'dimmu borgir', u'kalmah', u'eluveitie']\n",
      "objective topic 48:  [u'queens of the stone age', u'ludovico einaudi', u'pixies', u'\\u30af\\u30ec\\u30a4\\u30b8\\u30fc\\u30b1\\u30f3\\u30d0\\u30f3\\u30c9', u'aphex twin']\n",
      "objective topic 49:  [u'madonna', u'kylie minogue', u'fl\\xebur', u'the cranberries', u'sophie ellis-bextor']\n",
      "objective topic 50:  [u'massive attack', u'air', u'r\\xf6yksopp', u'moby', u'morcheeba']\n",
      "objective topic 51:  [u'the chemical brothers', u'the prodigy', u'underworld', u'orbital', u'faithless']\n",
      "objective topic 52:  [u'slipknot', u'disturbed', u'metallica', u'three days grace', u'papa roach']\n",
      "objective topic 53:  [u'fl\\u0451ur', u'wwo', u'graham coxon', u'\\u041e\\u043b\\u0435\\u0433 \\u041c\\u0435\\u0434\\u0432\\u0435\\u0434\\u0435\\u0432', u'pih']\n",
      "objective topic 54:  [u'\\u68b6\\u6d66\\u7531\\u8a18', u'mitsumune shinkichi', u'jedi mind tricks', u'nagaoka seikou', u'\\u5897\\u7530\\u4fca\\u90ce']\n",
      "objective topic 55:  [u'in flames', u'clueso', u'the corrs', u'scorpions', u'sonic syndicate']\n",
      "objective topic 56:  [u'women', u'modest mouse', u'(hed) planet earth', u'man man', u'richard cheese']\n",
      "objective topic 57:  [u'brand new', u'saves the day', u'death cab for cutie', u'coheed and cambria', u'circa survive']\n",
      "objective topic 58:  [u'michael jackson', u'chris brown', u'ne-yo', u'akon', u'usher']\n",
      "objective topic 59:  [u'james morrison', u'streetlight manifesto', u'non phixion', u'against me!', u'emilie simon']\n",
      "objective topic 60:  [u'britney spears', u'rihanna', u'avril lavigne', u'beyonc\\xe9', u'lady gaga']\n",
      "objective topic 61:  [u'the beatles', u'the pillbugs', u'john lennon', u'paul mccartney', u'wondermints']\n",
      "objective topic 62:  [u'nile', u'lady pank', u'suffocation', u'hate eternal', u'nasum']\n",
      "objective topic 63:  [u'eminem', u'50 cent', u'jay-z', u'the game', u'chamillionaire']\n",
      "objective topic 64:  [u'sugababes', u'girls aloud', u'sizzla', u'dia psalma', u'alborosie']\n",
      "objective topic 65:  [u'frank zappa', u'lake of tears', u'marillion', u'current 93', u'devil doll']\n",
      "objective topic 66:  [u'fall out boy', u'jimmy eat world', u'panic at the disco', u'the all-american rejects', u'anberlin']\n",
      "objective topic 67:  [u'extremoduro', u'marea', u'vetusta morla', u'la fuga', u'high five drive']\n",
      "objective topic 68:  [u'gentleman', u'guru', u'jamie cullum', u'jonas brothers', u'james morrison']\n",
      "objective topic 69:  [u'funeral for a friend', u'deftones', u'alexisonfire', u'dredg', u'underoath']\n",
      "objective topic 70:  [u'the knife', u'eels', u'ladytron', u'john frusciante', u'blur']\n",
      "objective topic 71:  [u'mogwai', u'minus the bear', u'death cab for cutie', u'sigur r\\xf3s', u'band of horses']\n",
      "objective topic 72:  [u'beastie boys', u'bob marley & the wailers', u'rage against the machine', u'mudvayne', u'audioslave']\n",
      "objective topic 73:  [u'pendulum', u'jim pansen', u'de/vision', u'blink-182', u'beatsteaks']\n",
      "objective topic 74:  [u'beck', u'modest mouse', u'the white stripes', u'the flaming lips', u'the hives']\n",
      "objective topic 75:  [u'billie holiday', u'thomas dybdahl', u'ray lamontagne', u'scumfrog', u'alanis morissette']\n",
      "objective topic 76:  [u'rock universal', u'fresno', u'mae', u'yellowcard', u'anberlin']\n",
      "objective topic 77:  [u'belle and sebastian', u'camera obscura', u'adam green', u'm. ward', u'club 8']\n",
      "objective topic 78:  [u'enigma', u'pink floyd', u'grzegorz turnau', u'vangelis', u'bushido']\n",
      "objective topic 79:  [u'stars', u'the most serene republic', u'broken social scene', u'have heart', u'boris']\n",
      "objective topic 80:  [u'opeth', u'fear factory', u'anathema', u'isis', u'tool']\n",
      "objective topic 81:  [u'kent', u'lars winnerb\\xe4ck', u'h\\xe5kan hellstr\\xf6m', u'richie kotzen', u'joe satriani']\n",
      "objective topic 82:  [u'kollegah', u'london elektricity', u'the dust brothers', u'pendulum', u'fanu']\n",
      "objective topic 83:  [u'elvis presley', u'ani difranco', u'lucero', u'hot water music', u'tarkan']\n",
      "objective topic 84:  [u'\\u041f\\u0438\\u043a\\u043d\\u0438\\u043a', u'hanson', u'melanie c', u'\\u041a\\u0438\\u043d\\u043e', u'\\u0410\\u0440\\u0438\\u044f']\n",
      "objective topic 85:  [u'yann tiersen', u'abney park', u'plump djs', u'rjd2', u'the analogs']\n",
      "objective topic 86:  [u'dark tranquillity', u'in flames', u'the haunted', u'norther', u'lamb']\n",
      "objective topic 87:  [u'feist', u'nouvelle vague', u'lily allen', u'esthero', u'fiona apple']\n",
      "objective topic 88:  [u'goo goo dolls', u'garth brooks', u'george strait', u'toby keith', u'takida']\n",
      "objective topic 89:  [u'coma', u'lacuna coil', u'supercar', u'kittie', u'o.s.t.r.']\n",
      "objective topic 90:  [u'current 93', u'coil', u'death in june', u'einst\\xfcrzende neubauten', u'nurse with wound']\n",
      "objective topic 91:  [u'kmfdm', u'eagles of death metal', u'john maus', u'godsmack', u'jan hammer']\n",
      "objective topic 92:  [u'tool', u'a perfect circle', u'\\u041f.\\u0422.\\u0412.\\u041f.', u'deftones', u'xiu xiu']\n",
      "objective topic 93:  [u'los hermanos', u'pato fu', u'engenheiros do hawaii', u'lenine', u'raul seixas']\n",
      "objective topic 94:  [u'against me!', u'the gaslight anthem', u'alkaline trio', u'crime in stereo', u'lifetime']\n",
      "objective topic 95:  [u'\\u690d\\u677e\\u4f38\\u592b', u'\\u68b6\\u6d66\\u7531\\u8a18', u'marilyn manson', u'nirvana', u'lacuna coil']\n",
      "objective topic 96:  [u'christina aguilera', u'him', u'cky', u'john mayer', u'turbonegro']\n",
      "objective topic 97:  [u'lil wayne', u'neutral milk hotel', u'gary jules', u't.i.', u'ramones']\n",
      "objective topic 98:  [u'the pillows', u'avril lavigne', u'asian kung-fu generation', u'in\\xe9 kafe', u'beat crusaders']\n",
      "objective topic 99:  [u'ko\\u042fn', u'green day', u'marilyn manson', u'slipknot', u'ozzy osbourne']\n",
      "objective topic 100:  [u'marduk', u'amon amarth', u'gorgoroth', u'immortal', u'mot\\xf6rhead']\n",
      "objective topic 101:  [u'paul simon', u'noize mc', u'bear mccreary', u'phil collins', u'genesis']\n",
      "objective topic 102:  [u'mgmt', u'hot chip', u'crystal castles', u'cut copy', u'cansei de ser sexy']\n",
      "objective topic 103:  [u'daft punk', u'nick cave and the bad seeds', u'einst\\xfcrzende neubauten', u'nick cave', u'philip glass']\n",
      "objective topic 104:  [u'glenn gould', u'phenomden', u'the peacocks', u'chet baker', u'matisyahu']\n",
      "objective topic 105:  [u'mike oldfield', u'george carlin', u'sage francis', u'jonathan larson', u'thomas newman']\n",
      "objective topic 106:  [u'craig armstrong', u'arbol', u'here i come falling', u'simon & garfunkel', u'kotoko']\n",
      "objective topic 107:  [u'as i lay dying', u'all shall perish', u'heaven shall burn', u'caliban', u'neaera']\n",
      "objective topic 108:  [u'eros ramazzotti', u'the absence', u'detonation', u'lamb of god', u'the paper chase']\n",
      "objective topic 109:  [u'john williams', u'angelo branduardi', u'franco battiato', u'loreena mckennitt', u'in extremo']\n",
      "objective topic 110:  [u'juanes', u'between the buried and me', u'vanilla ninja', u'nickelback', u'have heart']\n",
      "objective topic 111:  [u'bj\\xf6rk', u'portishead', u'pj harvey', u'cocorosie', u'miles davis']\n",
      "objective topic 112:  [u'my morning jacket', u'the black keys', u'nasum', u'sigh', u'sonic youth']\n",
      "objective topic 113:  [u'paramore', u'looptroop rockers', u'trivium', u'clouddead', u'takida']\n",
      "objective topic 114:  [u'led zeppelin', u'jimi hendrix', u'phish', u'eric clapton', u'johnny cash']\n",
      "objective topic 115:  [u'kanye west', u'justin timberlake', u'n*e*r*d', u'jay-z', u'lupe fiasco']\n",
      "objective topic 116:  [u'kettcar', u'kaizers orchestra', u'junges gl\\xfcck', u'jupiter jones', u'tomte']\n",
      "objective topic 117:  [u'sonata arctica', u'blind guardian', u'kamelot', u'edguy', u'in flames']\n",
      "objective topic 118:  [u'prince', u'patrick wolf', u'ozark henry', u'stephenie meyer', u'musiq']\n",
      "objective topic 119:  [u'bloc party', u'within temptation', u'death from above 1979', u'asian dub foundation', u'arctic monkeys']\n",
      "objective topic 120:  [u'low', u\"bonnie 'prince' billy\", u'iced earth', u'songs: ohia', u'smog']\n",
      "objective topic 121:  [u'pink floyd', u'red hot chili peppers', u'nirvana', u'metallica', u'foo fighters']\n",
      "objective topic 122:  [u'david bowie', u'robbie williams', u'assemblage 23', u'melotron', u'keith jarrett']\n",
      "objective topic 123:  [u'nightwish', u'rammstein', u'apocalyptica', u'evanescence', u'epica']\n",
      "objective topic 124:  [u'god is an astronaut', u'king crimson', u'buck-tick', u'haste the day', u'veil of maya']\n",
      "objective topic 125:  [u'tv on the radio', u'neko case', u'gogol bordello', u'andrew bird', u'jos\\xe9 gonz\\xe1lez']\n",
      "objective topic 126:  [u'sia', u'flunk', u'zero 7', u'\\u017div\\xe9 kvety', u'ojos de brujo']\n",
      "objective topic 127:  [u'isis', u'monster magnet', u'neurosis', u'melvins', u'post regiment']\n",
      "objective topic 128:  [u'bob dylan', u'the beach boys', u'neil young', u'leonard cohen', u'bruce springsteen']\n",
      "objective topic 129:  [u'schandmaul', u'mia', u'rantanplan', u'\\u5016\\u7530\\u4f86\\u672a', u'delta goodrem']\n",
      "objective topic 130:  [u'the flashbulb', u'venetian snares', u'bad brains', u'bathory', u'municipal waste']\n",
      "objective topic 131:  [u'lacrimosa', u'mew', u'finntroll', u'rhapsody of fire', u'therion']\n",
      "objective topic 132:  [u'the smashing pumpkins', u'alice cooper', u'frank sinatra', u'def leppard', u'the faint']\n",
      "objective topic 133:  [u'weezer', u'electric six', u'nada surf', u'loreena mckennitt', u'barenaked ladies']\n",
      "objective topic 134:  [u'interpol', u'arcade fire', u'radiohead', u'editors', u'yeah yeah yeahs']\n",
      "objective topic 135:  [u'new order', u'pet shop boys', u'sting', u'duran duran', u'u2']\n",
      "objective topic 136:  [u'tori amos', u'capsule', u'perfume', u'martha wainwright', u'the national']\n",
      "objective topic 137:  [u'simple plan', u'3 na bossa', u'papa roach', u'paramore', u'finch']\n",
      "objective topic 138:  [u'z\\u0435\\u043c\\u0444\\u0438\\u0440\\u0430', u'lumen', u'\\u0421\\u043f\\u043b\\u0438\\u043d', u'sezen aksu', u'animal \\u0414\\u0436\\u0430z']\n",
      "objective topic 139:  [u'johann sebastian bach', u'ludwig van beethoven', u'fr\\xe9d\\xe9ric chopin', u'antonio vivaldi', u'wolfgang amadeus mozart']\n",
      "objective topic 140:  [u'explosions in the sky', u'converge', u'65daysofstatic', u'mogwai', u'isis']\n",
      "objective topic 141:  [u'the orb', u'screeching weasel', u'ulrich schnauss', u'warcry', u'toe']\n",
      "objective topic 142:  [u'rush', u'saxon', u'guns n roses', u'van halen', u'danko jones']\n",
      "objective topic 143:  [u'sublime', u'the clash', u'ok go', u'me first and the gimme gimmes', u'the dismemberment plan']\n",
      "objective topic 144:  [u'sentenced', u'opeth', u'enslaved', u'porcupine tree', u'moonsorrow']\n",
      "objective topic 145:  [u'muse', u'coldplay', u'the killers', u'placebo', u'snow patrol']\n",
      "objective topic 146:  [u'\"weird al\" yankovic', u'san marino', u'boysetsfire', u'mest', u'sheryl crow']\n",
      "objective topic 147:  [u'bon jovi', u'm\\xf6tley cr\\xfce', u\"guns n' roses\", u'axel rudi pell', u'h\\xe9roes del silencio']\n",
      "objective topic 148:  [u'austin tv', u'norah jones', u'los aut\\xe9nticos decadentes', u'the monkees', u'claude-michel sch\\xf6nberg']\n",
      "objective topic 149:  [u'misfits', u'iced earth', u'emilie autumn', u'blutengel', u'insane clown posse']\n",
      "objective topic 150:  [u'regina spektor', u'the album leaf', u'kate nash', u'sufjan stevens', u'kings of convenience']\n",
      "objective topic 151:  [u'rise against', u'the offspring', u'millencolin', u'volbeat', u'billy talent']\n",
      "objective topic 152:  [u'tom waits', u'nick cave and the bad seeds', u'electronikboy', u'neil young', u'the rolling stones']\n",
      "objective topic 153:  [u'nine inch nails', u'marilyn manson', u'kmfdm', u'anathema', u'rammstein']\n",
      "objective topic 154:  [u'kings of leon', u'the kooks', u'arctic monkeys', u'babyshambles', u'razorlight']\n",
      "objective topic 155:  [u'enya', u'tokio hotel', u'sarah brightman', u'laura pausini', u'the prodigy']\n",
      "objective topic 156:  [u'atb', u'ti\\xebsto', u'nena', u'armin van buuren', u'scooter']\n",
      "objective topic 157:  [u'bob marley', u'kosheen', u'akurat', u'paprika korps', u'habakuk']\n",
      "objective topic 158:  [u'system of a down', u'rainbow', u'serj tankian', u'\\u0421\\u043b\\u0430\\u0432\\u0438 \\u0422\\u0440\\u0438\\u0444\\u043e\\u043d\\u043e\\u0432', u'metallica']\n",
      "objective topic 159:  [u'arakain', u'amy winehouse', u'dean martin', u'keep of kalessin', u'sasha']\n",
      "objective topic 160:  [u'iron maiden', u'metallica', u'megadeth', u'judas priest', u'slayer']\n",
      "objective topic 161:  [u'justice', u'kate bush', u'popo', u'surkin', u'vaya con dios']\n",
      "objective topic 162:  [u'cocteau twins', u'killing joke', u'the innocence mission', u'skinny puppy', u'magnet']\n",
      "objective topic 163:  [u'big bang', u'alice donut', u'devo', u'\\ub3d9\\ubc29\\uc2e0\\uae30', u'epik high']\n",
      "objective topic 164:  [u'jason mraz', u'apulanta', u'kotiteollisuus', u'stam1na', u'pmmp']\n",
      "objective topic 165:  [u'j dilla', u'a tribe called quest', u'the roots', u'common', u'madlib']\n",
      "objective topic 166:  [u'depeche mode', u'diary of dreams', u'dead can dance', u'project pitchfork', u'rome']\n",
      "objective topic 167:  [u\"lil' wayne\", u'royce da 5\\'9\"', u'kid vishis', u'dixie chicks', u'atmosphere']\n",
      "objective topic 168:  [u'pearl jam', u'alice in chains', u'nirvana', u'soundgarden', u'stone temple pilots']\n",
      "objective topic 169:  [u'manu chao', u'k.i.z.', u'beatsteaks', u'seeed', u'blumentopf']\n",
      "objective topic 170:  [u'clock dva', u'switchfoot', u'allerseelen', u'philip glass', u'swans']\n",
      "objective topic 171:  [u'harem scarem', u'ceremony', u'the first step', u'impaled nazarene', u'trash talk']\n",
      "objective topic 172:  [u'the mighty mighty bosstones', u'less than jake', u'ils', u'tiger army', u'terror']\n",
      "objective topic 173:  [u'arctic monkeys', u'blink-182', u'mcfly', u'sum 41', u'the strokes']\n",
      "objective topic 174:  [u'combichrist', u'god module', u'apoptygma berzerk', u'hocico', u'amduscia']\n",
      "objective topic 175:  [u'garbage', u'metric', u'the cardigans', u'lady gaga', u'dido']\n",
      "objective topic 176:  [u'radiohead', u'sigur r\\xf3s', u'kings of convenience', u'blur', u'thom yorke']\n",
      "objective topic 177:  [u'myslovitz', u'happysad', u'pid\\u017cama porno', u'hey', u'kult']\n",
      "objective topic 178:  [u'caetano veloso', u'aimee mann', u'maria beth\\xe2nia', u'jo\\xe3o gilberto', u'chico buarque']\n",
      "objective topic 179:  [u'man or astro-man?', u'dilated peoples', u'deus', u'nofx', u'daryll-ann']\n",
      "objective topic 180:  [u'porcupine tree', u'pain of salvation', u'opeth', u'dredg', u'blackfield']\n",
      "objective topic 181:  [u'oasis', u'nickelback', u'lumen', u'aerosmith', u'poets of the fall']\n",
      "objective topic 182:  [u'boards of canada', u'aphex twin', u'amon tobin', u'autechre', u'four tet']\n",
      "objective topic 183:  [u'soundtrack', u'hans zimmer', u'howard shore', u'john williams', u'buckethead']\n",
      "objective topic 184:  [u'animal collective', u'broken social scene', u'pavement', u'ratatat', u'radiohead']\n",
      "objective topic 185:  [u'the mountain goats', u'boyracer', u'casiotone for the painfully alone', u'silver jews', u'mount eerie']\n",
      "objective topic 186:  [u'my chemical romance', u'alkaline trio', u'the used', u'30 seconds to mars', u'fall out boy']\n",
      "objective topic 187:  [u'biffy clyro', u'napalm death', u'thrice', u'alexisonfire', u'idiot pilot']\n",
      "objective topic 188:  [u'flagrant fowl', u'be your own pet', u'jamiroquai', u'the long blondes', u'los campesinos!']\n",
      "objective topic 189:  [u'the replacements', u'paul westerberg', u'jens unmack', u'robert pattinson', u'green day']\n",
      "objective topic 190:  [u'dir en grey', u'good charlotte', u'\\u30e0\\u30c3\\u30af', u'plastic tree', u'\\u30ac\\u30bc\\u30c3\\u30c8']\n",
      "objective topic 191:  [u'ben folds', u'why?', u'ben folds five', u'panic at the disco', u'green day']\n",
      "objective topic 192:  [u'infected mushroom', u'shpongle', u'bonobo', u'dj shadow', u'the cinematic orchestra']\n",
      "objective topic 193:  [u'iamx', u'ignite', u'she wants revenge', u'vnv nation', u'blood for blood']\n",
      "objective topic 194:  [u'anathema', u'my dying bride', u'katatonia', u'paradise lost', u'moonspell']\n",
      "Background genres\n",
      "background topic 0:  [u'andr\\xe9s calamaro', u'amy macdonald', u'caf\\xe9 tacuba', u'soda stereo', u'jem']\n",
      "background topic 1:  [u'abba', u'lenny kravitz', u'billie holiday', u'madness', u'hello saferide']\n",
      "background topic 2:  [u'equilibrium', u'ensiferum', u'louise attaque', u'sdp', u'la rue k\\xe9tanou']\n",
      "background topic 3:  [u'avenged sevenfold', u'iron maiden', u'cannibal corpse', u'metallica', u'30 seconds to mars']\n",
      "background topic 4:  [u'amy winehouse', u'jamiroquai', u'nina simone', u'koop', u'de-phazz']\n"
     ]
    }
   ],
   "source": [
    "print_genres(model, objective_topics, background_topics)"
   ]
  },
  {
   "cell_type": "markdown",
   "metadata": {},
   "source": [
    "Дальше мы можем по этой тематической модели искать похожих артистов и давать рекомендации пользователям."
   ]
  },
  {
   "cell_type": "markdown",
   "metadata": {},
   "source": [
    "Например, найдем похожих артистов для Metallica, Green day и Арии. "
   ]
  },
  {
   "cell_type": "code",
   "execution_count": 7,
   "metadata": {
    "collapsed": false
   },
   "outputs": [
    {
     "name": "stdout",
     "output_type": "stream",
     "text": [
      "Mettalica\n",
      "0.0208105176986 iron maiden\n",
      "0.0134819296878 pink floyd\n",
      "0.0123659968761 red hot chili peppers\n",
      "0.0102545423153 megadeth\n",
      "0.00803689530376 system of a down\n",
      "Green day\n",
      "0.0135458926306 koЯn\n",
      "0.00496888888417 marilyn manson\n",
      "0.0049557271206 linkin park\n",
      "0.00482540278483 slipknot\n",
      "0.00346017851831 ozzy osbourne\n",
      "Ария\n"
     ]
    },
    {
     "name": "stderr",
     "output_type": "stream",
     "text": [
      "lastfm_util.py:173: UnicodeWarning: Unicode equal comparison failed to convert both arguments to Unicode - interpreting them as being unequal\n",
      "  if musician in topic_musicians:\n"
     ]
    }
   ],
   "source": [
    "print \"Mettalica\"\n",
    "for musician in find_similar_musicians(model, \"metallica\", 5, objective_topics):\n",
    "    print musician[0], musician[1]\n",
    "print \"Green day\"\n",
    "for musician in find_similar_musicians(model, \"green day\", 5, objective_topics):\n",
    "    print musician[0], musician[1]\n",
    "print \"Ария\"\n",
    "for musician in find_similar_musicians(model, \"ария\", 5, objective_topics):\n",
    "    print musician[0], musician[1]"
   ]
  }
 ],
 "metadata": {
  "kernelspec": {
   "display_name": "Python 2",
   "language": "python",
   "name": "python2"
  },
  "language_info": {
   "codemirror_mode": {
    "name": "ipython",
    "version": 2
   },
   "file_extension": ".py",
   "mimetype": "text/x-python",
   "name": "python",
   "nbconvert_exporter": "python",
   "pygments_lexer": "ipython2",
   "version": "2.7.9"
  }
 },
 "nbformat": 4,
 "nbformat_minor": 0
}
