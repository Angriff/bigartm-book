{
 "cells": [
  {
   "cell_type": "markdown",
   "metadata": {},
   "source": [
    "# Topic Modeling with BigARTM\n",
    "\n",
    "It is an inveractive book about topic modeling using [BigARTM library](http://bigartm.org/).\n",
    "\n",
    "The book has two branches: English and [Russian](Topic_Modeling_with_BigARTM_RU.ipynb). Because of our large Russian community the branch on russian will be updated more actively.\n",
    "\n",
    "[New Python API Example](BigARTM_example_EN.ipynb)"
   ]
  }
 ],
 "metadata": {
  "kernelspec": {
   "display_name": "Python 2",
   "language": "python",
   "name": "python2"
  },
  "language_info": {
   "codemirror_mode": {
    "name": "ipython",
    "version": 2
   },
   "file_extension": ".py",
   "mimetype": "text/x-python",
   "name": "python",
   "nbconvert_exporter": "python",
   "pygments_lexer": "ipython2",
   "version": "2.7.8"
  }
 },
 "nbformat": 4,
 "nbformat_minor": 0
}
