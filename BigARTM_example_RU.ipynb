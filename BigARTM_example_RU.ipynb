{
 "cells": [
  {
   "cell_type": "markdown",
   "metadata": {},
   "source": [
    "# Новый Python интерфейс BigARTM."
   ]
  },
  {
   "cell_type": "markdown",
   "metadata": {},
   "source": [
    "## Пример №1"
   ]
  },
  {
   "cell_type": "markdown",
   "metadata": {},
   "source": [
    "Здесь приводится простой пример использования нового пользовательского интерфейса на Python библиотеки BigARTM. Мы будем обучать тематическую модель маленькой коллекции 'kos'.\n",
    "Для начала подключим все необходимые модули (убедитесь, что путь к Python API BigARTM находится в вашей переменной PATH):"
   ]
  },
  {
   "cell_type": "code",
   "execution_count": 1,
   "metadata": {
    "collapsed": false
   },
   "outputs": [],
   "source": [
    "%matplotlib inline\n",
    "import glob\n",
    "import matplotlib.pyplot as plt\n",
    "\n",
    "import artm"
   ]
  },
  {
   "cell_type": "markdown",
   "metadata": {
    "collapsed": false
   },
   "source": [
    "Первым делом содадим тематическую модель. Новый интерфейс позволяет сделать это в одну строчку:"
   ]
  },
  {
   "cell_type": "code",
   "execution_count": 2,
   "metadata": {
    "collapsed": false
   },
   "outputs": [],
   "source": [
    "model = artm.ArtmModel(num_topics=15)"
   ]
  },
  {
   "cell_type": "markdown",
   "metadata": {},
   "source": [
    "ArtmModel — это объект, содержащий в себе всю информацию о текущем состоянии тематической модели. Все наши последующие действия будут производиться в рамках него. Прежде всего распарсим из файлов 'docword' и 'vocab' в формате UCI, если это необходимо:"
   ]
  },
  {
   "cell_type": "code",
   "execution_count": 3,
   "metadata": {
    "collapsed": false
   },
   "outputs": [],
   "source": [
    "if len(glob.glob('kos' + \"/*.batch\")) < 1:\n",
    "    artm.parse(data_path='', data_format='bow_uci', collection_name='kos')"
   ]
  },
  {
   "cell_type": "markdown",
   "metadata": {},
   "source": [
    "Следующий шаг — инициализация модели. Сделаем это по словарю, что означает, что\n",
    "- будет создана матрица Фи с именем 'pwt', число строк и столбцов в ней будет взято исходя из числа слов в словаре и заданного в модели числа тем;\n",
    "- эа матрица будет заполнена случайными значениями из диапазона (0, 1) и нормализована.\n",
    "\n",
    "Надо отметить, что этот шаг является опциональным, поскольку модель может быть автоматически инициализирована во время вызовов fit_offline() / fit_online()."
   ]
  },
  {
   "cell_type": "code",
   "execution_count": 4,
   "metadata": {
    "collapsed": false
   },
   "outputs": [],
   "source": [
    "model.load_dictionary(dictionary_name='dictionary', dictionary_path='kos/dictionary')\n",
    "model.initialize(dictionary_name='dictionary')"
   ]
  },
  {
   "cell_type": "markdown",
   "metadata": {},
   "source": [
    "ArtmModel предоставляет возможность использовать все функционалы качества, имеющиеся в BigARTM. Если функционал подключен к модели, то модель будет сохранять все его значения, полученные на момент каждого обновления матрицы Фи.\n",
    "Для контроля за качеством получаемой модели введём несколько метрик:"
   ]
  },
  {
   "cell_type": "code",
   "execution_count": 5,
   "metadata": {
    "collapsed": false
   },
   "outputs": [],
   "source": [
    "model.scores.add(artm.SparsityPhiScore(name='SparsityPhiScore'))\n",
    "model.scores.add(artm.SparsityThetaScore(name='SparsityThetaScore'))\n",
    "model.scores.add(artm.PerplexityScore(name='PerplexityScore'))"
   ]
  },
  {
   "cell_type": "markdown",
   "metadata": {},
   "source": [
    "Также полезно добавить несколько базовых регуляризаторов, повышающих разреженность и различность тем (зададим им стартовые коэффициенты регуляризации, которые можно будет позже изменить)"
   ]
  },
  {
   "cell_type": "code",
   "execution_count": 6,
   "metadata": {
    "collapsed": false
   },
   "outputs": [],
   "source": [
    "model.regularizers.add(artm.SmoothSparsePhiRegularizer(name='SparsePhi', tau=-0.1))\n",
    "model.regularizers.add(artm.SmoothSparseThetaRegularizer(name='SparseTheta', tau=-2.0))\n",
    "model.regularizers.add(artm.DecorrelatorPhiRegularizer(name='DecorrelatorPhi', tau=100000.0))"
   ]
  },
  {
   "cell_type": "markdown",
   "metadata": {},
   "source": [
    "Теперь попробуем обучить модель в оффлайн-режиме (т.е. обновляя Фи раз за проход по коллекции). Инициируем пять проходов:"
   ]
  },
  {
   "cell_type": "code",
   "execution_count": 7,
   "metadata": {
    "collapsed": false
   },
   "outputs": [],
   "source": [
    "model.fit_offline(data_path='kos', num_collection_passes=5)"
   ]
  },
  {
   "cell_type": "markdown",
   "metadata": {},
   "source": [
    "Проверим результаты первой итерации обучения:"
   ]
  },
  {
   "cell_type": "code",
   "execution_count": 8,
   "metadata": {
    "collapsed": false
   },
   "outputs": [
    {
     "name": "stdout",
     "output_type": "stream",
     "text": [
      "Sparsity Phi:0.425060334009\n",
      "Sparsity Theta:0.699183673469\n"
     ]
    }
   ],
   "source": [
    "print 'Sparsity Phi:' + str(model.scores_info['SparsityPhiScore'].last_value)\n",
    "print 'Sparsity Theta:' + str(model.scores_info['SparsityThetaScore'].last_value)"
   ]
  },
  {
   "cell_type": "markdown",
   "metadata": {},
   "source": [
    "Видно, что разреженности матриц пока ещё слишком невелики. Попробуем увеличить по модулю значения коэффициентов регуляризации при разреживающих регуляризаторах:"
   ]
  },
  {
   "cell_type": "code",
   "execution_count": 9,
   "metadata": {
    "collapsed": false
   },
   "outputs": [],
   "source": [
    "model.regularizers['SparsePhi'].tau = -0.4\n",
    "model.regularizers['SparseTheta'].tau = -3.0"
   ]
  },
  {
   "cell_type": "markdown",
   "metadata": {},
   "source": [
    "Также полезно добавить функционал 'TopTokensScore'. Он позволит нам увидеть самые вероятные слова в каждой полученной теме"
   ]
  },
  {
   "cell_type": "code",
   "execution_count": 10,
   "metadata": {
    "collapsed": false
   },
   "outputs": [],
   "source": [
    "model.scores.add(artm.TopTokensScore(name='TopTokensScore', num_tokens=5))"
   ]
  },
  {
   "cell_type": "markdown",
   "metadata": {},
   "source": [
    "Продолжим обучение модели, инициировав 15 проходов по коллекции:"
   ]
  },
  {
   "cell_type": "code",
   "execution_count": 11,
   "metadata": {
    "collapsed": false
   },
   "outputs": [],
   "source": [
    "model.fit_offline(data_path='kos', num_collection_passes=15)"
   ]
  },
  {
   "cell_type": "code",
   "execution_count": 12,
   "metadata": {
    "collapsed": false
   },
   "outputs": [
    {
     "name": "stdout",
     "output_type": "stream",
     "text": [
      "Sparsity Phi:0.638024905879\n",
      "Sparsity Theta:0.793756073858\n"
     ]
    }
   ],
   "source": [
    "print 'Sparsity Phi:' + str(model.scores_info['SparsityPhiScore'].last_value)\n",
    "print 'Sparsity Theta:' + str(model.scores_info['SparsityThetaScore'].last_value)"
   ]
  },
  {
   "cell_type": "markdown",
   "metadata": {},
   "source": [
    "Разреженность всё ещё неудовлетворительная. Попробуем ещё усилить разреживание и продолжить обучение:"
   ]
  },
  {
   "cell_type": "code",
   "execution_count": 13,
   "metadata": {
    "collapsed": false
   },
   "outputs": [],
   "source": [
    "model.regularizers['SparsePhi'].tau = -1.5\n",
    "model.regularizers['SparseTheta'].tau = -5.0\n",
    "model.fit_offline(data_path='kos', num_collection_passes=15)"
   ]
  },
  {
   "cell_type": "markdown",
   "metadata": {},
   "source": [
    "Нарисуем графики перплексии и разреженностей:"
   ]
  },
  {
   "cell_type": "code",
   "execution_count": 14,
   "metadata": {
    "collapsed": false
   },
   "outputs": [
    {
     "data": {
      "image/png": "[encoded data removed]",
      "text/plain": [
       "<matplotlib.figure.Figure at 0x9070430>"
      ]
     },
     "metadata": {},
     "output_type": "display_data"
    }
   ],
   "source": [
    "plt.plot(xrange(model.num_phi_updates), model.scores_info['PerplexityScore'].value, 'r--', linewidth=2)\n",
    "plt.xlabel('Iterations count')\n",
    "plt.ylabel('Perplexity')\n",
    "plt.grid(True)\n",
    "plt.show()"
   ]
  },
  {
   "cell_type": "code",
   "execution_count": 15,
   "metadata": {
    "collapsed": false
   },
   "outputs": [
    {
     "data": {
      "image/png": "[encoded data removed]",
      "text/plain": [
       "<matplotlib.figure.Figure at 0x90703f0>"
      ]
     },
     "metadata": {},
     "output_type": "display_data"
    }
   ],
   "source": [
    "plt.plot(xrange(model.num_phi_updates), model.scores_info['SparsityPhiScore'].value, 'b--',\n",
    "         xrange(model.num_phi_updates), model.scores_info['SparsityThetaScore'].value, 'r--', linewidth=2)\n",
    "plt.xlabel('Iterations count')\n",
    "plt.ylabel('Phi sparsity, Theta sparsity')\n",
    "plt.grid(True)\n",
    "plt.show()"
   ]
  },
  {
   "cell_type": "markdown",
   "metadata": {},
   "source": [
    "Для столь маленькой коллекции разреженность достаточная. Напечатаем топовые слова в каждой теме:"
   ]
  },
  {
   "cell_type": "code",
   "execution_count": 16,
   "metadata": {
    "collapsed": false
   },
   "outputs": [
    {
     "name": "stdout",
     "output_type": "stream",
     "text": [
      "@topic_0:  [u'bloggers', u'book', u'convention', u'blogs', u'boat']\n",
      "@topic_1:  [u'dean', u'clark', u'edwards', u'primary', u'lieberman']\n",
      "@topic_2:  [u'republican', u'republicans', u'party', u'vote', u'democrats']\n",
      "@topic_3:  [u'bush', u'administration', u'president', u'cheney', u'house']\n",
      "@topic_4:  [u'delay', u'house', u'media', u'committee', u'texas']\n",
      "@topic_5:  [u'democrats', u'states', u'million', u'state', u'democratic']\n",
      "@topic_6:  [u'iraq', u'war', u'bush', u'iraqi', u'bushs']\n",
      "@topic_7:  [u'military', u'soldiers', u'abu', u'pentagon', u'iraqi']\n",
      "@topic_8:  [u'carson', u'coburn', u'oklahoma', u'media', u'speech']\n",
      "@topic_9:  [u'party', u'nader', u'dean', u'unions', u'ballot']\n",
      "@topic_10:  [u'kerry', u'bush', u'poll', u'percent', u'voters']\n",
      "@topic_11:  [u'senate', u'race', u'elections', u'campaign', u'house']\n",
      "@topic_12:  [u'november', u'account', u'electoral', u'governor', u'house']\n",
      "@topic_13:  [u'bush', u'administration', u'tax', u'jobs', u'health']\n",
      "@topic_14:  [u'oil', u'space', u'blades', u'meteor', u'rights']\n"
     ]
    }
   ],
   "source": [
    "for topic_name in model.topic_names:\n",
    "    print topic_name + ': ',\n",
    "    print model.scores_info['TopTokensScore'].last_topic_info[topic_name].tokens"
   ]
  },
  {
   "cell_type": "markdown",
   "metadata": {},
   "source": [
    "Извлечём матрицу Фи в виде pandas.DataFrame:"
   ]
  },
  {
   "cell_type": "code",
   "execution_count": 17,
   "metadata": {
    "collapsed": false
   },
   "outputs": [],
   "source": [
    "phi_matrix = model.get_phi()"
   ]
  },
  {
   "cell_type": "markdown",
   "metadata": {},
   "source": [
    "Напечатаем её:"
   ]
  },
  {
   "cell_type": "code",
   "execution_count": 18,
   "metadata": {
    "collapsed": false
   },
   "outputs": [
    {
     "name": "stdout",
     "output_type": "stream",
     "text": [
      "            @topic_0  @topic_1  @topic_2  @topic_3  @topic_4  @topic_5  \\\n",
      "aarp        0.000000  0.000000  0.000000  0.000000  0.000570  0.000000   \n",
      "abandon     0.000000  0.000000  0.000211  0.000000  0.000000  0.000000   \n",
      "abandoned   0.000000  0.000000  0.000169  0.000000  0.000000  0.000000   \n",
      "abandoning  0.000000  0.000000  0.000000  0.000000  0.000000  0.000246   \n",
      "abb         0.000000  0.000000  0.000342  0.000000  0.000000  0.000000   \n",
      "abc         0.000000  0.000000  0.000000  0.001528  0.000000  0.000000   \n",
      "abcs        0.000000  0.000000  0.000000  0.000240  0.000000  0.000000   \n",
      "abdullah    0.000000  0.000000  0.000000  0.000023  0.000000  0.000000   \n",
      "ability     0.000000  0.000000  0.000000  0.000000  0.000163  0.000411   \n",
      "aboard      0.000000  0.000000  0.000000  0.000000  0.000000  0.000000   \n",
      "abortion    0.000000  0.000000  0.002297  0.000000  0.000000  0.000000   \n",
      "abortions   0.000000  0.000000  0.000000  0.000000  0.000000  0.000000   \n",
      "abraham     0.000000  0.000000  0.000000  0.000000  0.000000  0.000000   \n",
      "abrams      0.000000  0.000000  0.000000  0.000167  0.000000  0.000000   \n",
      "abroad      0.000000  0.000000  0.000000  0.000000  0.000000  0.000256   \n",
      "absence     0.000000  0.000000  0.000185  0.000000  0.000103  0.000102   \n",
      "absent      0.000000  0.000000  0.000000  0.000000  0.000238  0.000093   \n",
      "absentee    0.000000  0.000000  0.000000  0.000000  0.000000  0.000568   \n",
      "absolute    0.000000  0.000000  0.000156  0.000000  0.000000  0.000019   \n",
      "absolutely  0.000000  0.000000  0.000183  0.000117  0.000000  0.000000   \n",
      "abstain     0.000000  0.000000  0.000000  0.000000  0.000000  0.000000   \n",
      "absurd      0.000000  0.000000  0.000000  0.000000  0.000033  0.000000   \n",
      "abu         0.000000  0.000000  0.000000  0.000122  0.000000  0.000000   \n",
      "abuse       0.000000  0.000000  0.000516  0.000000  0.000000  0.000000   \n",
      "abuses      0.000000  0.000000  0.000000  0.000000  0.000000  0.000000   \n",
      "academy     0.000000  0.000000  0.000000  0.000000  0.000000  0.000000   \n",
      "accent      0.000000  0.000000  0.000000  0.000103  0.000000  0.000128   \n",
      "accept      0.000000  0.000000  0.000000  0.000354  0.000215  0.000336   \n",
      "acceptable  0.000000  0.000000  0.000041  0.000000  0.000000  0.000000   \n",
      "acceptance  0.000000  0.000000  0.000000  0.000022  0.000000  0.000000   \n",
      "...              ...       ...       ...       ...       ...       ...   \n",
      "yanks       0.001220  0.000000  0.000000  0.000102  0.000000  0.000000   \n",
      "yard        0.000000  0.000000  0.000000  0.000000  0.000461  0.000000   \n",
      "yeah        0.000000  0.000000  0.000359  0.000565  0.000215  0.000058   \n",
      "year        0.000000  0.000347  0.001968  0.000551  0.000443  0.003779   \n",
      "years       0.000496  0.000000  0.003959  0.000762  0.000866  0.001724   \n",
      "yell        0.000000  0.000000  0.000000  0.000000  0.000000  0.000000   \n",
      "yellin      0.000000  0.000000  0.000000  0.000000  0.000000  0.001334   \n",
      "yesterday   0.002396  0.000088  0.000586  0.001341  0.001606  0.000675   \n",
      "yesterdays  0.000000  0.000000  0.000000  0.000000  0.000126  0.000000   \n",
      "yield       0.000000  0.000000  0.000087  0.000000  0.000000  0.000000   \n",
      "york        0.011536  0.000000  0.000906  0.001980  0.000000  0.000913   \n",
      "yorker      0.000000  0.000000  0.000000  0.000000  0.000000  0.000000   \n",
      "yorkers     0.002204  0.000000  0.000000  0.000000  0.000000  0.000000   \n",
      "youd        0.000000  0.000000  0.000138  0.000226  0.000000  0.000000   \n",
      "youll       0.000000  0.000000  0.000111  0.000000  0.000207  0.000073   \n",
      "young       0.000000  0.000000  0.000741  0.000000  0.000000  0.000000   \n",
      "younger     0.000000  0.000000  0.000300  0.000000  0.000000  0.000000   \n",
      "youre       0.001711  0.000000  0.000683  0.000524  0.001161  0.000000   \n",
      "youth       0.000000  0.000000  0.000077  0.000000  0.000131  0.000000   \n",
      "youve       0.000000  0.000000  0.000162  0.000601  0.000691  0.000000   \n",
      "yucca       0.000000  0.000000  0.000283  0.000000  0.000000  0.000000   \n",
      "yup         0.000000  0.000000  0.000000  0.000000  0.000000  0.000000   \n",
      "zahn        0.000000  0.000000  0.000000  0.000000  0.000000  0.000000   \n",
      "zarqawi     0.000000  0.000000  0.000000  0.000000  0.000000  0.000000   \n",
      "zell        0.000000  0.000000  0.001555  0.000025  0.000000  0.000177   \n",
      "zimbabwe    0.000000  0.000000  0.000000  0.000000  0.000000  0.000000   \n",
      "zogby       0.000000  0.009708  0.000000  0.000000  0.000000  0.000072   \n",
      "zogbys      0.000000  0.000948  0.000000  0.000000  0.000000  0.000000   \n",
      "zone        0.000000  0.000200  0.000000  0.000000  0.000000  0.000000   \n",
      "zones       0.000000  0.000000  0.000000  0.000000  0.000000  0.000000   \n",
      "\n",
      "            @topic_6  @topic_7  @topic_8  @topic_9  @topic_10  @topic_11  \\\n",
      "aarp        0.000000  0.000000  0.000000  0.000000   0.000000   0.000000   \n",
      "abandon     0.000000  0.000000  0.000000  0.000000   0.000132   0.000000   \n",
      "abandoned   0.000000  0.000000  0.000000  0.000000   0.000053   0.000000   \n",
      "abandoning  0.000000  0.000000  0.000000  0.000000   0.000092   0.000000   \n",
      "abb         0.000000  0.000000  0.000000  0.000490   0.000000   0.000021   \n",
      "abc         0.000153  0.000000  0.000000  0.000457   0.000581   0.000000   \n",
      "abcs        0.000000  0.000000  0.000000  0.000000   0.000090   0.000000   \n",
      "abdullah    0.000110  0.000000  0.000000  0.000000   0.000000   0.000000   \n",
      "ability     0.000440  0.000000  0.000000  0.000544   0.000292   0.000628   \n",
      "aboard      0.000135  0.000000  0.000000  0.000000   0.000000   0.000000   \n",
      "abortion    0.000011  0.000000  0.001004  0.000000   0.000000   0.000601   \n",
      "abortions   0.000000  0.000000  0.000327  0.000000   0.000000   0.000000   \n",
      "abraham     0.000164  0.000000  0.000000  0.000000   0.000000   0.000000   \n",
      "abrams      0.000000  0.000576  0.000000  0.000000   0.000000   0.000000   \n",
      "abroad      0.000214  0.000000  0.000000  0.000000   0.000000   0.000000   \n",
      "absence     0.000098  0.000000  0.000000  0.000000   0.000000   0.000000   \n",
      "absent      0.000000  0.000000  0.000000  0.000000   0.000000   0.000000   \n",
      "absentee    0.000000  0.000000  0.000000  0.000000   0.000000   0.000000   \n",
      "absolute    0.000000  0.000000  0.000000  0.000000   0.000000   0.000000   \n",
      "absolutely  0.000000  0.000294  0.000269  0.000000   0.000145   0.000000   \n",
      "abstain     0.000000  0.000000  0.000000  0.000000   0.000000   0.000000   \n",
      "absurd      0.000000  0.000000  0.000100  0.000000   0.000000   0.000099   \n",
      "abu         0.000288  0.009411  0.000000  0.000000   0.000000   0.000000   \n",
      "abuse       0.000030  0.004601  0.000000  0.000000   0.000000   0.000000   \n",
      "abuses      0.000150  0.003175  0.000000  0.000000   0.000000   0.000000   \n",
      "academy     0.000086  0.000000  0.000000  0.000000   0.000024   0.000000   \n",
      "accent      0.000000  0.000000  0.000000  0.000000   0.000000   0.000000   \n",
      "accept      0.000207  0.000770  0.000000  0.000000   0.000248   0.000000   \n",
      "acceptable  0.000000  0.000462  0.000518  0.000000   0.000000   0.000000   \n",
      "acceptance  0.000086  0.000000  0.000000  0.000180   0.000162   0.000000   \n",
      "...              ...       ...       ...       ...        ...        ...   \n",
      "yanks       0.000026  0.000000  0.000000  0.000000   0.000000   0.000000   \n",
      "yard        0.000000  0.000000  0.000000  0.000000   0.000000   0.000000   \n",
      "yeah        0.000245  0.000000  0.000000  0.000000   0.000319   0.000724   \n",
      "year        0.001547  0.000869  0.000000  0.000490   0.001383   0.001262   \n",
      "years       0.001906  0.000000  0.002247  0.000228   0.001481   0.000703   \n",
      "yell        0.000000  0.000000  0.000000  0.000000   0.000110   0.000000   \n",
      "yellin      0.000129  0.000000  0.000054  0.000000   0.000000   0.000000   \n",
      "yesterday   0.000786  0.000980  0.000390  0.000000   0.000402   0.000000   \n",
      "yesterdays  0.000113  0.000000  0.000000  0.000000   0.000226   0.000000   \n",
      "yield       0.000000  0.000000  0.000000  0.000000   0.000030   0.000000   \n",
      "york        0.000069  0.000735  0.000000  0.001860   0.000542   0.000000   \n",
      "yorker      0.000000  0.000418  0.000053  0.000000   0.000000   0.000000   \n",
      "yorkers     0.000000  0.000000  0.000000  0.000000   0.000000   0.000000   \n",
      "youd        0.000000  0.000000  0.000000  0.000000   0.000000   0.000200   \n",
      "youll       0.000000  0.000401  0.000481  0.000224   0.000251   0.000000   \n",
      "young       0.000437  0.000432  0.002040  0.000000   0.000333   0.000632   \n",
      "younger     0.000000  0.000000  0.000224  0.000000   0.000194   0.000000   \n",
      "youre       0.000573  0.000000  0.002967  0.000000   0.000550   0.000620   \n",
      "youth       0.000047  0.000000  0.000000  0.000000   0.000000   0.000000   \n",
      "youve       0.000431  0.000000  0.000000  0.000113   0.000193   0.000378   \n",
      "yucca       0.000000  0.000000  0.000000  0.000000   0.000000   0.000000   \n",
      "yup         0.000000  0.000097  0.000000  0.000000   0.000051   0.000000   \n",
      "zahn        0.000043  0.000000  0.000000  0.000000   0.000000   0.000000   \n",
      "zarqawi     0.000385  0.000000  0.000000  0.000000   0.000000   0.000000   \n",
      "zell        0.000000  0.000000  0.000000  0.000000   0.000026   0.000000   \n",
      "zimbabwe    0.000000  0.000000  0.000000  0.000000   0.000000   0.000000   \n",
      "zogby       0.000000  0.000000  0.000000  0.000000   0.002090   0.000000   \n",
      "zogbys      0.000000  0.000000  0.000000  0.000000   0.000228   0.000000   \n",
      "zone        0.000435  0.000000  0.000000  0.000000   0.000117   0.000110   \n",
      "zones       0.000146  0.000000  0.000000  0.000000   0.000000   0.000000   \n",
      "\n",
      "            @topic_12  @topic_13  @topic_14  \n",
      "aarp         0.000000   0.000000   0.000000  \n",
      "abandon      0.000000   0.000000   0.000422  \n",
      "abandoned    0.000014   0.000239   0.000000  \n",
      "abandoning   0.000000   0.000000   0.000000  \n",
      "abb          0.000000   0.000000   0.000000  \n",
      "abc          0.000043   0.000000   0.000000  \n",
      "abcs         0.000000   0.000000   0.000000  \n",
      "abdullah     0.000000   0.000000   0.000000  \n",
      "ability      0.000000   0.000000   0.001347  \n",
      "aboard       0.000000   0.000000   0.000509  \n",
      "abortion     0.000000   0.000000   0.000000  \n",
      "abortions    0.000000   0.000244   0.000000  \n",
      "abraham      0.000000   0.000000   0.000203  \n",
      "abrams       0.000000   0.000000   0.000000  \n",
      "abroad       0.000000   0.000270   0.000723  \n",
      "absence      0.000000   0.000000   0.000000  \n",
      "absent       0.000048   0.000020   0.000000  \n",
      "absentee     0.000113   0.000000   0.000000  \n",
      "absolute     0.000000   0.000200   0.000462  \n",
      "absolutely   0.000000   0.000012   0.000000  \n",
      "abstain      0.001674   0.000000   0.000000  \n",
      "absurd       0.000000   0.000000   0.000000  \n",
      "abu          0.000000   0.000000   0.000259  \n",
      "abuse        0.000000   0.000000   0.000226  \n",
      "abuses       0.000000   0.000000   0.000433  \n",
      "academy      0.000000   0.000000   0.000570  \n",
      "accent       0.000000   0.000000   0.000000  \n",
      "accept       0.000000   0.000000   0.000000  \n",
      "acceptable   0.000000   0.000000   0.000037  \n",
      "acceptance   0.000000   0.000310   0.000000  \n",
      "...               ...        ...        ...  \n",
      "yanks        0.000000   0.000000   0.000000  \n",
      "yard         0.000000   0.000000   0.000000  \n",
      "yeah         0.000000   0.000171   0.000000  \n",
      "year         0.000000   0.006124   0.002804  \n",
      "years        0.000000   0.006540   0.006421  \n",
      "yell         0.000000   0.000000   0.000000  \n",
      "yellin       0.000000   0.000000   0.000000  \n",
      "yesterday    0.000000   0.000348   0.000511  \n",
      "yesterdays   0.000000   0.000000   0.000055  \n",
      "yield        0.000000   0.000163   0.000000  \n",
      "york         0.001017   0.000803   0.000082  \n",
      "yorker       0.000000   0.000000   0.000000  \n",
      "yorkers      0.000000   0.000000   0.000041  \n",
      "youd         0.000000   0.000000   0.000000  \n",
      "youll        0.000071   0.000426   0.000000  \n",
      "young        0.000000   0.000440   0.000000  \n",
      "younger      0.000000   0.000000   0.000000  \n",
      "youre        0.000131   0.000362   0.000000  \n",
      "youth        0.000000   0.000000   0.000000  \n",
      "youve        0.000010   0.000044   0.000946  \n",
      "yucca        0.000000   0.000000   0.000000  \n",
      "yup          0.000000   0.000000   0.000000  \n",
      "zahn         0.000000   0.000000   0.000000  \n",
      "zarqawi      0.000000   0.000000   0.000000  \n",
      "zell         0.000000   0.000000   0.000000  \n",
      "zimbabwe     0.000000   0.000208   0.000000  \n",
      "zogby        0.001674   0.000000   0.000659  \n",
      "zogbys       0.000000   0.000000   0.000000  \n",
      "zone         0.000000   0.000000   0.000000  \n",
      "zones        0.000000   0.000000   0.000000  \n",
      "\n",
      "[6906 rows x 15 columns]\n"
     ]
    }
   ],
   "source": [
    "print phi_matrix"
   ]
  },
  {
   "cell_type": "markdown",
   "metadata": {},
   "source": [
    "Последний шаг — сохранение модели. ArtmModel предоставляет две возможности: сохранить модель в формате BigARTM или в .csv файл. \n",
    "- в первом случае модель нельзя будет никак визуализировать, но можно загрузить обратно в ArtmModel и продолжить работу с ней;\n",
    "- .csv файл нельзя загрузить обратно, но на него можно посмотреть глазами."
   ]
  },
  {
   "cell_type": "code",
   "execution_count": 19,
   "metadata": {
    "collapsed": false
   },
   "outputs": [],
   "source": [
    "model.save(file_name='kos_artm_model')\n",
    "model.to_csv(file_name='kos_artm_model.csv')"
   ]
  },
  {
   "cell_type": "markdown",
   "metadata": {},
   "source": [
    "Дополнительно извлечём Тету:"
   ]
  },
  {
   "cell_type": "code",
   "execution_count": 20,
   "metadata": {
    "collapsed": false
   },
   "outputs": [],
   "source": [
    "theta_matrix = model.get_theta()"
   ]
  },
  {
   "cell_type": "markdown",
   "metadata": {},
   "source": [
    "ArtmModel.get_theta() возвращает Теут как объект pandas.DataFrame. Напечатаем её:"
   ]
  },
  {
   "cell_type": "code",
   "execution_count": 21,
   "metadata": {
    "collapsed": false
   },
   "outputs": [
    {
     "name": "stdout",
     "output_type": "stream",
     "text": [
      "               3001      3002  3003      3004  3005      3006      3007  3008  \\\n",
      "@topic_0   0.000000  0.000000     0  0.000000     0  0.000000  0.000000     0   \n",
      "@topic_1   0.000000  0.000000     0  0.000000     0  0.000000  0.000000     0   \n",
      "@topic_2   0.216681  0.000000     0  0.000000     0  0.000000  0.303413     0   \n",
      "@topic_3   0.000000  0.000000     0  0.000000     0  0.000000  0.000000     0   \n",
      "@topic_4   0.000000  0.822464     0  0.673069     1  0.034314  0.126374     0   \n",
      "@topic_5   0.117475  0.000000     0  0.326931     0  0.000000  0.000000     0   \n",
      "@topic_6   0.508437  0.000000     0  0.000000     0  0.000000  0.000000     0   \n",
      "@topic_7   0.157407  0.177536     0  0.000000     0  0.000000  0.000000     0   \n",
      "@topic_8   0.000000  0.000000     0  0.000000     0  0.000000  0.000000     0   \n",
      "@topic_9   0.000000  0.000000     0  0.000000     0  0.000000  0.000000     0   \n",
      "@topic_10  0.000000  0.000000     1  0.000000     0  0.000000  0.000000     0   \n",
      "@topic_11  0.000000  0.000000     0  0.000000     0  0.000000  0.570213     1   \n",
      "@topic_12  0.000000  0.000000     0  0.000000     0  0.965686  0.000000     0   \n",
      "@topic_13  0.000000  0.000000     0  0.000000     0  0.000000  0.000000     0   \n",
      "@topic_14  0.000000  0.000000     0  0.000000     0  0.000000  0.000000     0   \n",
      "\n",
      "               3009      3010  ...   1991      1992      1993      1994  \\\n",
      "@topic_0   0.000000  0.000000  ...      0  0.000000  0.000000  0.000000   \n",
      "@topic_1   0.000000  0.000000  ...      0  0.053092  0.125802  0.170810   \n",
      "@topic_2   0.000000  0.000000  ...      0  0.178016  0.000000  0.000000   \n",
      "@topic_3   0.000000  0.300959  ...      0  0.000000  0.000000  0.000000   \n",
      "@topic_4   0.000000  0.545032  ...      0  0.000000  0.000000  0.000000   \n",
      "@topic_5   0.000000  0.000000  ...      0  0.000000  0.000000  0.000000   \n",
      "@topic_6   0.000000  0.000000  ...      0  0.000000  0.000000  0.000000   \n",
      "@topic_7   0.000000  0.000000  ...      0  0.000000  0.000000  0.000000   \n",
      "@topic_8   0.000000  0.000000  ...      0  0.000000  0.095941  0.000000   \n",
      "@topic_9   0.237115  0.000000  ...      0  0.000000  0.000000  0.000000   \n",
      "@topic_10  0.000000  0.000000  ...      1  0.768891  0.649248  0.130761   \n",
      "@topic_11  0.762885  0.154009  ...      0  0.000000  0.000000  0.000000   \n",
      "@topic_12  0.000000  0.000000  ...      0  0.000000  0.000000  0.698429   \n",
      "@topic_13  0.000000  0.000000  ...      0  0.000000  0.025756  0.000000   \n",
      "@topic_14  0.000000  0.000000  ...      0  0.000000  0.103252  0.000000   \n",
      "\n",
      "               1995      1996  1997      1998      1999  2000  \n",
      "@topic_0   0.000000  0.000000     0  0.000000  0.000000     0  \n",
      "@topic_1   0.000000  0.000000     1  0.211982  0.528427     1  \n",
      "@topic_2   0.000000  0.000000     0  0.000000  0.000000     0  \n",
      "@topic_3   0.000000  0.000000     0  0.000000  0.000000     0  \n",
      "@topic_4   0.000000  0.000000     0  0.198223  0.000000     0  \n",
      "@topic_5   0.167522  0.000000     0  0.000000  0.000000     0  \n",
      "@topic_6   0.000000  0.264524     0  0.073908  0.000000     0  \n",
      "@topic_7   0.000000  0.045514     0  0.000000  0.000000     0  \n",
      "@topic_8   0.000000  0.000000     0  0.000000  0.000000     0  \n",
      "@topic_9   0.000000  0.126256     0  0.294720  0.000000     0  \n",
      "@topic_10  0.832478  0.000000     0  0.221167  0.471573     0  \n",
      "@topic_11  0.000000  0.000000     0  0.000000  0.000000     0  \n",
      "@topic_12  0.000000  0.000000     0  0.000000  0.000000     0  \n",
      "@topic_13  0.000000  0.203626     0  0.000000  0.000000     0  \n",
      "@topic_14  0.000000  0.360081     0  0.000000  0.000000     0  \n",
      "\n",
      "[15 rows x 3430 columns]\n"
     ]
    }
   ],
   "source": [
    "print theta_matrix"
   ]
  },
  {
   "cell_type": "markdown",
   "metadata": {},
   "source": [
    "## Пример №2"
   ]
  },
  {
   "cell_type": "markdown",
   "metadata": {},
   "source": [
    "Это вторая часть примера использования нового интерфейса библиотеки. Загрузим обратно модель, сохранённую в прошлой части и применим к ней несколько операций.\n",
    "\n",
    "В первую очередь создадим новую тематическую модель:"
   ]
  },
  {
   "cell_type": "code",
   "execution_count": 22,
   "metadata": {
    "collapsed": false
   },
   "outputs": [],
   "source": [
    "new_model = artm.ArtmModel(num_topics=1, num_document_passes=1)"
   ]
  },
  {
   "cell_type": "markdown",
   "metadata": {},
   "source": [
    "Вторым шагом добавим в неё функционалы и регуляризаторы. Ограничимся одной новой метрикой и двумя уже знакомыми регуляризаторами:"
   ]
  },
  {
   "cell_type": "code",
   "execution_count": 23,
   "metadata": {
    "collapsed": false
   },
   "outputs": [],
   "source": [
    "new_model.scores.add(artm.TopicKernelScore(name='TopicKernelScore'))\n",
    "new_model.regularizers.add(artm.SmoothSparsePhiRegularizer(name='SparsePhi', tau=-0.1))\n",
    "new_model.regularizers.add(artm.DecorrelatorPhiRegularizer(name='DecorrelatorPhi', tau=100000.0))"
   ]
  },
  {
   "cell_type": "markdown",
   "metadata": {},
   "source": [
    "Теперь загрузим файл 'kos_artm_model' с моделью обратно в библиотеку"
   ]
  },
  {
   "cell_type": "code",
   "execution_count": 24,
   "metadata": {
    "collapsed": true
   },
   "outputs": [],
   "source": [
    "new_model.load('kos_artm_model')"
   ]
  },
  {
   "cell_type": "markdown",
   "metadata": {},
   "source": [
    "Имейте ввиду, что загружаемая модель перепишет несколько параметров нашего объекта ArtmModel: число и имена тем, матрицу Фи. Также загрузка сотрёт всю информацию о данных метрик, посчитанных ранее. Тем не менее, сами подключенные метрики и регуляризаторы никуда не денуться. В нашем случае это функционал 'TopicKernelScore' и регуляризаторы 'SparsePhi' и 'DecorrealtorPhi'.\n",
    "\n",
    "Теперь продолжим обучение модели, но, для примера, рассмотрим онлайновый режим. Это означает, что\n",
    "- число проходов по каждому документу увеличивается\n",
    "- матрица Фи может быть обновлена произвольное количество раз за один проход по коллекции (но не чаще, чем раз за обработанный батч)\n",
    "- нам требуется только оин проход по коллекции (но здесь мы сделаем 5, поскольку коллекция 'kos' довольно маленькая)."
   ]
  },
  {
   "cell_type": "code",
   "execution_count": 25,
   "metadata": {
    "collapsed": false
   },
   "outputs": [],
   "source": [
    "new_model.num_document_passes = 20\n",
    "for i in xrange(5):\n",
    "    new_model.fit_online(data_path='kos', update_every=4)"
   ]
  },
  {
   "cell_type": "markdown",
   "metadata": {},
   "source": [
    "Параметр 'update_every' говорит модели о том, раз в сколько батчей следует обновлять матрицу Фи.\n",
    "\n",
    "Выведем средние харакетристики ядер тем (чистоту и контрастность):"
   ]
  },
  {
   "cell_type": "code",
   "execution_count": 26,
   "metadata": {
    "collapsed": false
   },
   "outputs": [
    {
     "data": {
      "image/png": "[encoded data removed]",
      "text/plain": [
       "<matplotlib.figure.Figure at 0x9470e70>"
      ]
     },
     "metadata": {},
     "output_type": "display_data"
    }
   ],
   "source": [
    "plt.plot(xrange(new_model.num_phi_updates), new_model.scores_info['TopicKernelScore'].average_contrast, 'g--',\n",
    "         xrange(new_model.num_phi_updates), new_model.scores_info['TopicKernelScore'].average_purity, 'r--', linewidth=2)\n",
    "plt.xlabel('Iterations count')\n",
    "plt.ylabel('Kernel scores')\n",
    "plt.grid(True)\n",
    "plt.show()"
   ]
  },
  {
   "cell_type": "markdown",
   "metadata": {},
   "source": [
    "Как мы видим, дальнейшее обучение загруженной модели только ухудшило её качество.\n",
    "\n",
    "Также можно посмотреть на ифнормацию о ядрах каждой темы. Для примера выведем все ядровые слова первой темы:"
   ]
  },
  {
   "cell_type": "code",
   "execution_count": 27,
   "metadata": {
    "collapsed": false
   },
   "outputs": [
    {
     "name": "stdout",
     "output_type": "stream",
     "text": [
      "[u'allowed', u'award', u'baseball', u'blogads', u'bloggers', u'blogging', u'blogosphere', u'blogs', u'boat', u'book', u'boston', u'bronze', u'curious', u'dailykos', u'drudge', u'drum', u'editors', u'fans', u'franken', u'fun', u'ideological', u'journalism', u'journalists', u'kevin', u'launch', u'limbaugh', u'links', u'lying', u'magazine', u'nevada', u'nyc', u'oreilly', u'owner', u'park', u'petraeus', u'posters', u'propaganda', u'putting', u'reader', u'readers', u'review', u'rewards', u'rnc', u'road', u'rowland', u'rush', u'season', u'selection', u'series', u'sox', u'star', u'starting', u'stations', u'suddenly', u'swift', u'treatment', u'trip', u'universe', u'updates', u'whos', u'writes', u'yankees']\n"
     ]
    }
   ],
   "source": [
    "print new_model.scores_info['TopicKernelScore'].last_topic_info[new_model.topic_names[0]].tokens"
   ]
  },
  {
   "cell_type": "markdown",
   "metadata": {},
   "source": [
    "Если у нас есть батч с документами, который не являлся частью обучающей выборки (или являлся, но мы не сохраняли Тету для экономии памяти), и мы хотим узнать столбцы матрицы Теты для него, то следует использовать метод 'find_theta':"
   ]
  },
  {
   "cell_type": "code",
   "execution_count": 28,
   "metadata": {
    "collapsed": false
   },
   "outputs": [],
   "source": [
    "test_theta_matrix = model.find_theta(data_path='kos_test', batches=['test_docs.batch'])"
   ]
  },
  {
   "cell_type": "markdown",
   "metadata": {},
   "source": [
    "ArtmModel.find_theta(), как и ArtmModel.get_theta(), возвращает Тету в виде объекта pandas.DataFrame. Напечатаем ее:"
   ]
  },
  {
   "cell_type": "code",
   "execution_count": 29,
   "metadata": {
    "collapsed": false
   },
   "outputs": [
    {
     "name": "stdout",
     "output_type": "stream",
     "text": [
      "               3001          3002          3003          3004      3005  \\\n",
      "@topic_0   0.000027  5.470630e-12  8.859124e-05  3.655320e-08  0.023010   \n",
      "@topic_1   0.000000  7.542980e-08  5.074421e-08  2.937570e-05  0.000895   \n",
      "@topic_2   0.157188  3.943457e-02  9.634783e-02  3.531522e-02  0.000529   \n",
      "@topic_3   0.026739  1.165674e-02  1.995723e-04  6.938958e-03  0.000309   \n",
      "@topic_4   0.042744  6.324424e-01  7.173969e-03  5.326921e-01  0.501928   \n",
      "@topic_5   0.116401  1.229199e-02  8.142539e-02  2.659781e-01  0.069236   \n",
      "@topic_6   0.376137  5.741606e-02  1.048819e-01  5.601950e-03  0.097927   \n",
      "@topic_7   0.163309  1.563600e-01  1.076566e-05  6.481208e-05  0.000017   \n",
      "@topic_8   0.002779  3.925609e-08  5.331664e-03  2.455230e-03  0.003307   \n",
      "@topic_9   0.000794  1.425106e-03  8.680041e-03  1.836372e-02  0.000393   \n",
      "@topic_10  0.031545  4.864215e-04  6.822540e-01  9.276274e-02  0.158379   \n",
      "@topic_11  0.010005  2.929111e-02  4.954956e-04  1.317849e-02  0.106785   \n",
      "@topic_12  0.000001  1.540389e-02  4.465891e-03  3.355272e-04  0.004254   \n",
      "@topic_13  0.055056  5.237419e-03  5.447598e-03  2.556876e-02  0.033012   \n",
      "@topic_14  0.017276  3.855428e-02  3.197180e-03  7.149829e-04  0.000019   \n",
      "\n",
      "                   3006      3007          3008          3009          3010  \\\n",
      "@topic_0   1.957819e-03  0.000003  1.880584e-02  3.284552e-08  5.062756e-11   \n",
      "@topic_1   3.125712e-09  0.000002  1.916781e-03  2.358188e-03  1.123510e-04   \n",
      "@topic_2   4.617107e-03  0.274580  1.035447e-05  5.992455e-02  7.972537e-02   \n",
      "@topic_3   4.240679e-05  0.010763  4.021760e-06  3.439126e-02  2.323688e-01   \n",
      "@topic_4   5.538543e-02  0.137051  3.462421e-03  4.187348e-02  4.170701e-01   \n",
      "@topic_5   2.462130e-05  0.015040  7.990377e-07  9.312645e-02  3.289497e-02   \n",
      "@topic_6   2.320279e-04  0.008153  6.622533e-07  2.465870e-02  4.073331e-03   \n",
      "@topic_7   3.693284e-09  0.011507  6.378873e-09  1.754536e-05  2.694911e-02   \n",
      "@topic_8   6.324657e-08  0.027514  5.784709e-02  3.420345e-03  2.061192e-03   \n",
      "@topic_9   2.270185e-06  0.000164  2.294895e-04  1.478358e-01  4.626298e-02   \n",
      "@topic_10  1.496966e-02  0.012099  6.286171e-06  7.630397e-04  4.165504e-02   \n",
      "@topic_11  1.676900e-04  0.479619  9.177158e-01  5.832056e-01  1.134692e-01   \n",
      "@topic_12  9.163990e-01  0.008182  2.467473e-14  1.429398e-05  1.918058e-05   \n",
      "@topic_13  1.890730e-05  0.000360  3.322660e-07  8.372493e-03  1.209534e-03   \n",
      "@topic_14  6.183000e-03  0.014964  2.818645e-09  3.831776e-05  2.128890e-03   \n",
      "\n",
      "               ...               3421          3422          3423  \\\n",
      "@topic_0       ...       2.400127e-02  1.399042e-08  1.669547e-01   \n",
      "@topic_1       ...       1.419757e-08  4.308613e-07  1.066032e-08   \n",
      "@topic_2       ...       2.461122e-03  3.054090e-04  4.152962e-02   \n",
      "@topic_3       ...       4.743207e-03  1.124637e-02  1.443307e-01   \n",
      "@topic_4       ...       1.030159e-02  1.556977e-05  1.541973e-01   \n",
      "@topic_5       ...       1.672112e-01  3.783157e-02  1.188396e-01   \n",
      "@topic_6       ...       6.482497e-01  3.336944e-02  2.151825e-01   \n",
      "@topic_7       ...       1.550171e-02  6.509075e-03  5.634665e-02   \n",
      "@topic_8       ...       2.256927e-03  1.091436e-03  1.011220e-02   \n",
      "@topic_9       ...       1.841014e-02  4.042595e-06  4.340180e-03   \n",
      "@topic_10      ...       1.583645e-03  1.962098e-02  4.270038e-02   \n",
      "@topic_11      ...       1.041118e-01  4.879905e-04  7.019768e-04   \n",
      "@topic_12      ...       5.572529e-08  7.564732e-01  4.844783e-05   \n",
      "@topic_13      ...       2.252749e-04  1.300033e-02  3.803416e-02   \n",
      "@topic_14      ...       9.423883e-04  1.200441e-01  6.681734e-03   \n",
      "\n",
      "                   3424          3425          3426          3427  \\\n",
      "@topic_0   3.956320e-01  4.873134e-04  1.043121e-03  2.407440e-09   \n",
      "@topic_1   1.087145e-04  8.000715e-07  9.310534e-04  6.499722e-08   \n",
      "@topic_2   6.074470e-02  4.141170e-03  2.315677e-03  1.681383e-03   \n",
      "@topic_3   1.533236e-02  5.446306e-01  7.082340e-03  1.229089e-01   \n",
      "@topic_4   1.238942e-01  9.604752e-04  7.373394e-03  3.445208e-05   \n",
      "@topic_5   2.090242e-05  2.162620e-02  3.142568e-04  7.990214e-04   \n",
      "@topic_6   3.904791e-02  2.146988e-03  3.700314e-03  5.121744e-04   \n",
      "@topic_7   2.987429e-06  1.707941e-06  1.601295e-12  3.606084e-08   \n",
      "@topic_8   3.120582e-02  8.295756e-02  1.576887e-05  4.800374e-02   \n",
      "@topic_9   6.868283e-10  1.540161e-04  6.258294e-06  8.090179e-05   \n",
      "@topic_10  1.587532e-01  2.618319e-01  8.392906e-01  7.297257e-01   \n",
      "@topic_11  6.463198e-02  1.305161e-03  7.901981e-02  7.073081e-02   \n",
      "@topic_12  2.184988e-02  3.641207e-10  2.158512e-03  1.885773e-06   \n",
      "@topic_13  1.636098e-03  7.708978e-02  5.674877e-02  2.549821e-02   \n",
      "@topic_14  8.713920e-02  2.666310e-03  2.482174e-07  2.261678e-05   \n",
      "\n",
      "                   3428          3429          3430  \n",
      "@topic_0   1.546589e-02  2.525345e-02  1.669601e-05  \n",
      "@topic_1   8.953918e-08  3.242089e-05  2.418540e-06  \n",
      "@topic_2   2.726614e-01  5.480704e-02  1.706944e-03  \n",
      "@topic_3   2.257925e-01  2.235554e-02  4.049346e-02  \n",
      "@topic_4   2.724872e-02  3.961637e-04  2.801943e-02  \n",
      "@topic_5   7.386198e-04  3.750515e-02  8.494046e-02  \n",
      "@topic_6   2.529689e-02  1.175932e-01  4.943203e-01  \n",
      "@topic_7   5.835612e-03  2.569389e-03  6.138294e-05  \n",
      "@topic_8   2.938006e-01  2.537081e-01  1.120450e-01  \n",
      "@topic_9   5.602041e-04  8.155447e-08  3.222111e-05  \n",
      "@topic_10  1.919958e-02  3.854838e-02  2.771793e-02  \n",
      "@topic_11  3.513960e-02  3.879988e-01  2.043644e-01  \n",
      "@topic_12  9.601330e-04  5.163553e-09  1.695359e-09  \n",
      "@topic_13  7.183369e-02  2.996299e-02  5.865209e-03  \n",
      "@topic_14  5.466445e-03  2.926933e-02  4.141180e-04  \n",
      "\n",
      "[15 rows x 430 columns]\n"
     ]
    }
   ],
   "source": [
    "print test_theta_matrix"
   ]
  }
 ],
 "metadata": {
  "kernelspec": {
   "display_name": "Python 2",
   "language": "python",
   "name": "python2"
  },
  "language_info": {
   "codemirror_mode": {
    "name": "ipython",
    "version": 2
   },
   "file_extension": ".py",
   "mimetype": "text/x-python",
   "name": "python",
   "nbconvert_exporter": "python",
   "pygments_lexer": "ipython2",
   "version": "2.7.7"
  }
 },
 "nbformat": 4,
 "nbformat_minor": 0
}
